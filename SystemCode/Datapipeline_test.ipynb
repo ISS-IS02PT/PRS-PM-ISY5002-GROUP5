{
 "metadata": {
  "language_info": {
   "codemirror_mode": {
    "name": "ipython",
    "version": 3
   },
   "file_extension": ".py",
   "mimetype": "text/x-python",
   "name": "python",
   "nbconvert_exporter": "python",
   "pygments_lexer": "ipython3",
   "version": "3.8.3-final"
  },
  "orig_nbformat": 2,
  "kernelspec": {
   "name": "python_defaultSpec_1601460637560",
   "display_name": "Python 3.8.3 64-bit ('sandbox': conda)",
   "metadata": {
    "interpreter": {
     "hash": "a31f979fd7ec5616a47c88a389106f065111c8af2b950adc2b080f56172a5b7a"
    }
   }
  }
 },
 "nbformat": 4,
 "nbformat_minor": 2,
 "cells": [
  {
   "cell_type": "code",
   "execution_count": 22,
   "metadata": {},
   "outputs": [],
   "source": [
    "%load_ext autoreload\n",
    "%autoreload 2"
   ]
  },
  {
   "cell_type": "code",
   "execution_count": 52,
   "metadata": {},
   "outputs": [],
   "source": [
    "from datapipeline import Datapipeline\n",
    "import pandas as pd\n",
    "import numpy as np"
   ]
  },
  {
   "cell_type": "code",
   "execution_count": 9,
   "metadata": {},
   "outputs": [],
   "source": [
    "dpl = Datapipeline()"
   ]
  },
  {
   "cell_type": "code",
   "execution_count": 16,
   "metadata": {
    "tags": []
   },
   "outputs": [
    {
     "output_type": "stream",
     "name": "stdout",
     "text": "d:\\Users\\mokky\\Documents\\GitHub\\nus-iss\\PRS-PM-ISY5002-GROUP5\\SystemCode\nd:\\Users\\mokky\\Documents\\GitHub\\nus-iss\\PRS-PM-ISY5002-GROUP5\n"
    }
   ],
   "source": [
    "import os\n",
    "print(os.getcwd())\n",
    "print(os.path.dirname(os.getcwd()))"
   ]
  },
  {
   "cell_type": "code",
   "execution_count": 71,
   "metadata": {
    "tags": []
   },
   "outputs": [],
   "source": [
    "raw_data_path = 'd:\\\\Users\\mokky\\\\Documents\\\\GitHub\\\\nus-iss\\\\PRS-PM-ISY5002-GROUP5\\\\SystemCode\\\\Data Exploration\\\\data\\\\ParkwaySampleDataForProject_09_withTOSP3.xlsx'\n",
    "dict_hosp_filepaths = dpl.transform_raw_data(raw_data_path)"
   ]
  },
  {
   "cell_type": "code",
   "execution_count": 38,
   "metadata": {
    "tags": []
   },
   "outputs": [
    {
     "output_type": "stream",
     "name": "stdout",
     "text": "{&#39;GHL&#39;: &#39;./data/GHL_data.csv&#39;, &#39;MEH&#39;: &#39;./data/MEH_data.csv&#39;, &#39;PEH&#39;: &#39;./data/PEH_data.csv&#39;, &#39;PNH&#39;: &#39;./data/PNH_data.csv&#39;}\n"
    }
   ],
   "source": [
    "print(dict_hosp_filepaths)"
   ]
  },
  {
   "cell_type": "code",
   "execution_count": 47,
   "metadata": {
    "tags": []
   },
   "outputs": [
    {
     "output_type": "stream",
     "name": "stdout",
     "text": "106229\n131062\n38138\n105781\n"
    }
   ],
   "source": [
    "dict_hosp_df = {}\n",
    "for hosp in dict_hosp_filepaths:\n",
    "    dict_hosp_df[hosp] = pd.read_csv(dict_hosp_filepaths[hosp])\n",
    "    print(len(dict_hosp_df[hosp]))"
   ]
  },
  {
   "cell_type": "code",
   "execution_count": 66,
   "metadata": {
    "tags": []
   },
   "outputs": [
    {
     "output_type": "stream",
     "name": "stdout",
     "text": "[&#39;SPECIALTY_CODE&#39;, &#39;SPECIALTY_GRP&#39;, &#39;PACKAGE_CODE&#39;, &#39;PACKAGE_CODE1&#39;, &#39;PACKAGE_CODE2&#39;]\n&lt;class &#39;pandas.core.frame.DataFrame&#39;&gt;\nRangeIndex: 381210 entries, 0 to 381209\nData columns (total 56 columns):\n #   Column              Non-Null Count   Dtype  \n---  ------              --------------   -----  \n 0   CASE_NUMBER         381210 non-null  int64  \n 1   INSTITUTION         381210 non-null  object \n 2   TOTAL_PAID_AMT      381210 non-null  float64\n 3   PAYER_CODE_1        381210 non-null  object \n 4   PAYER_1_PAID_AMT    381210 non-null  float64\n 5   PAYER_CODE_2        149318 non-null  object \n 6   PAYER_2_PAID_AMT    381210 non-null  float64\n 7   PAYER_CODE_3        53205 non-null   object \n 8   PAYER_3_PAID_AMT    381210 non-null  float64\n 9   PAYER_CODE_4        2373 non-null    object \n 10  PAYER_4_PAID_AMT    381210 non-null  float64\n 11  PAYER_CODE_5        52 non-null      object \n 12  PAYER_5_PAID_AMT    381210 non-null  float64\n 13  BED_TYPE            381210 non-null  object \n 14  REFERRAL_TYPE       381206 non-null  object \n 15  TREATMENT_CATEGORY  381210 non-null  object \n 16  ADMISSION_DTE       381210 non-null  object \n 17  ADMISSION_TYPE      381210 non-null  object \n 18  DISCHARGE_TYPE      381210 non-null  int64  \n 19  LOS_DAYS            381210 non-null  int64  \n 20  DOCTOR_CODE         381209 non-null  object \n 21  SPECIALTY_CODE      381173 non-null  object \n 22  SPECIALTY_GRP       372891 non-null  object \n 23  TOSP_COUNT          381210 non-null  int64  \n 24  TOSP_CODE1          267026 non-null  object \n 25  TOSP_CODE2          85649 non-null   object \n 26  TOSP_CODE3          12950 non-null   object \n 27  TOSP_CODE4          3265 non-null    object \n 28  NATIONALITY         381210 non-null  object \n 29  DOB                 381210 non-null  object \n 30  NONRESID_FLAG       381210 non-null  object \n 31  PATIENT_NUMBER      381210 non-null  int64  \n 32  GENDER              381210 non-null  object \n 33  DECEASED_FLAG       381210 non-null  object \n 34  MARITAL_STATUS      363544 non-null  object \n 35  RELIGION            172705 non-null  object \n 36  VIP_FLAG            381210 non-null  object \n 37  RACE                380824 non-null  object \n 38  DRG_CODE            372890 non-null  object \n 39  PAYER_CODE1_V       381210 non-null  object \n 40  PAYER_CODE2_V       149363 non-null  object \n 41  PAYER_CODE3_V       53232 non-null   object \n 42  PAYER_CODE4_V       2380 non-null    object \n 43  PACKAGE_PRICE       91099 non-null   float64\n 44  PACKAGE_EXCL        91099 non-null   float64\n 45  PACKAGE_ADJ         91099 non-null   float64\n 46  PACKAGE_CODE1       91099 non-null   object \n 47  PACKAGE_CODE2       1 non-null       object \n 48  ICD_CODE1           377241 non-null  object \n 49  ICD_CODE2           166166 non-null  object \n 50  ICD_CODE3           68949 non-null   object \n 51  PROF_FEE            381210 non-null  float64\n 52  TOTAL_FEES          381210 non-null  float64\n 53  WRITE_OFF           381210 non-null  float64\n 54  Resid_Cty_Code      381201 non-null  object \n 55  Admission_Age       381210 non-null  int64  \ndtypes: float64(12), int64(6), object(38)\nmemory usage: 162.9+ MB\nNone\n"
    }
   ],
   "source": [
    "df = pd.read_csv('./data/all_hosp_data.csv')\n",
    "df = dpl.convert_numeric_to_object(df)\n",
    "print(df.info())"
   ]
  },
  {
   "cell_type": "code",
   "execution_count": 67,
   "metadata": {
    "tags": []
   },
   "outputs": [
    {
     "output_type": "stream",
     "name": "stdout",
     "text": "CASE_NUMBER              0\nTOTAL_PAID_AMT           0\nPAYER_1_PAID_AMT         0\nPAYER_2_PAID_AMT         0\nPAYER_3_PAID_AMT         0\nPAYER_4_PAID_AMT         0\nPAYER_5_PAID_AMT         0\nDISCHARGE_TYPE           0\nLOS_DAYS                 0\nTOSP_COUNT               0\nPATIENT_NUMBER           0\nPACKAGE_PRICE       290111\nPACKAGE_EXCL        290111\nPACKAGE_ADJ         290111\nPROF_FEE                 0\nTOTAL_FEES               0\nWRITE_OFF                0\nAdmission_Age            0\ndtype: int64\n"
    }
   ],
   "source": [
    "print(df.select_dtypes(include=np.number).isna().sum())"
   ]
  },
  {
   "cell_type": "code",
   "execution_count": 68,
   "metadata": {
    "tags": []
   },
   "outputs": [
    {
     "output_type": "stream",
     "name": "stdout",
     "text": "CASE_NUMBER vs PATIENT_NUMBER:  1\n"
    }
   ],
   "source": [
    "print('CASE_NUMBER vs PATIENT_NUMBER: ',\n",
    "      df.groupby(by=['CASE_NUMBER'])['PATIENT_NUMBER'].nunique().max())"
   ]
  },
  {
   "cell_type": "code",
   "execution_count": 80,
   "metadata": {
    "tags": []
   },
   "outputs": [
    {
     "output_type": "stream",
     "name": "stdout",
     "text": "[&#39;PAYER_CODE_2&#39;, &#39;PAYER_CODE_3&#39;, &#39;PAYER_CODE_4&#39;, &#39;PAYER_CODE_5&#39;, &#39;REFERRAL_TYPE&#39;, &#39;DOCTOR_CODE&#39;, &#39;SPECIALTY_CODE&#39;, &#39;SPECIALTY_GRP&#39;, &#39;TOSP_CODE1&#39;, &#39;TOSP_CODE2&#39;, &#39;TOSP_CODE3&#39;, &#39;TOSP_CODE4&#39;, &#39;MARITAL_STATUS&#39;, &#39;RELIGION&#39;, &#39;RACE&#39;, &#39;DRG_CODE&#39;, &#39;PAYER_CODE2_V&#39;, &#39;PAYER_CODE3_V&#39;, &#39;PAYER_CODE4_V&#39;, &#39;PACKAGE_CODE1&#39;, &#39;PACKAGE_CODE2&#39;, &#39;ICD_CODE1&#39;, &#39;ICD_CODE2&#39;, &#39;ICD_CODE3&#39;, &#39;Resid_Cty_Code&#39;]\nINSTITUTION                0\nPAYER_CODE_1               0\nPAYER_CODE_2          231892\nPAYER_CODE_3          328005\nPAYER_CODE_4          378837\nPAYER_CODE_5          381158\nBED_TYPE                   0\nREFERRAL_TYPE              4\nTREATMENT_CATEGORY         0\nADMISSION_DTE              0\nADMISSION_TYPE             0\nDOCTOR_CODE                1\nSPECIALTY_CODE            37\nSPECIALTY_GRP           8319\nTOSP_CODE1            114184\nTOSP_CODE2            295561\nTOSP_CODE3            368260\nTOSP_CODE4            377945\nNATIONALITY                0\nDOB                        0\nNONRESID_FLAG              0\nGENDER                     0\nDECEASED_FLAG              0\nMARITAL_STATUS         17666\nRELIGION              208505\nVIP_FLAG                   0\nRACE                     386\nDRG_CODE                8320\nPAYER_CODE1_V              0\nPAYER_CODE2_V         231847\nPAYER_CODE3_V         327978\nPAYER_CODE4_V         378830\nPACKAGE_CODE1         290111\nPACKAGE_CODE2         381209\nICD_CODE1               3969\nICD_CODE2             215044\nICD_CODE3             312261\nResid_Cty_Code             9\ndtype: int64\n"
    }
   ],
   "source": [
    "print(df.select_dtypes(include=np.object).columns[df.select_dtypes(include=np.object).isnull().any()].tolist())\n",
    "print(df.select_dtypes(include=np.object).isnull().sum())"
   ]
  },
  {
   "cell_type": "code",
   "execution_count": 59,
   "metadata": {
    "tags": []
   },
   "outputs": [
    {
     "output_type": "stream",
     "name": "stdout",
     "text": "(-inf, 0.0]          369685\n(0.0, 100.0]          10697\n(100.0, 500.0]          316\n(1000.0, 5000.0]        260\n(5000.0, 10000.0]        85\n(500.0, 1000.0]          85\n(10000.0, inf]           82\nName: bin_WRITE_OFF, dtype: int64\n(-inf, 0.0]          369685\n(0.0, 100.0]          10697\n(100.0, 1000.0]         401\n(1000.0, 10000.0]       345\n(10000.0, inf]           82\nName: bin_WRITE_OFF, dtype: int64\n(-inf, 0.0]        369685\n(0.0, 100.0]        10697\n(1000.0, inf]         427\n(100.0, 1000.0]       401\nName: bin_WRITE_OFF, dtype: int64\n(-inf, 0.0]    369685\n(0.0, inf]      11525\nName: bin_WRITE_OFF, dtype: int64\n"
    }
   ],
   "source": [
    "def _bin_column(df, col, bin_thresh):\n",
    "    bin_intervals = bin_thresh[:]\n",
    "    bin_intervals.insert(0, np.NINF)\n",
    "    bin_intervals.append(np.Inf)\n",
    "    df[f'bin_{col}'] = pd.cut(df[col], bin_intervals)\n",
    "    return df\n",
    "\n",
    "bin_thresh = [0, 100, 500, 1000, 5000, 10000]\n",
    "df = _bin_column(df, 'WRITE_OFF', bin_thresh)\n",
    "print(df['bin_WRITE_OFF'].value_counts())\n",
    "\n",
    "bin_thresh = [0, 100, 1000, 10000]\n",
    "df = _bin_column(df, 'WRITE_OFF', bin_thresh)\n",
    "print(df['bin_WRITE_OFF'].value_counts())\n",
    "\n",
    "bin_thresh = [0, 100, 1000]\n",
    "df = _bin_column(df, 'WRITE_OFF', bin_thresh)\n",
    "print(df['bin_WRITE_OFF'].value_counts())\n",
    "\n",
    "bin_thresh = [0]\n",
    "df = _bin_column(df, 'WRITE_OFF', bin_thresh)\n",
    "print(df['bin_WRITE_OFF'].value_counts())"
   ]
  },
  {
   "cell_type": "code",
   "execution_count": null,
   "metadata": {},
   "outputs": [],
   "source": [
    "df_sample1 = get_best_sample(df1, sample_frac=0.1)\n",
    "print(df_sample1.shape)"
   ]
  }
 ]
}