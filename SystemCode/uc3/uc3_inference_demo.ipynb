{
 "cells": [
  {
   "cell_type": "code",
   "execution_count": 1,
   "metadata": {},
   "outputs": [],
   "source": [
    "%load_ext autoreload\n",
    "%autoreload 2"
   ]
  },
  {
   "cell_type": "code",
   "execution_count": 2,
   "metadata": {},
   "outputs": [
    {
     "name": "stderr",
     "output_type": "stream",
     "text": [
      "C:\\Users\\mokky\\AppData\\Roaming\\Python\\Python37\\site-packages\\tensorflow\\python\\framework\\dtypes.py:516: FutureWarning: Passing (type, 1) or '1type' as a synonym of type is deprecated; in a future version of numpy, it will be understood as (type, (1,)) / '(1,)type'.\n",
      "  _np_qint8 = np.dtype([(\"qint8\", np.int8, 1)])\n",
      "C:\\Users\\mokky\\AppData\\Roaming\\Python\\Python37\\site-packages\\tensorflow\\python\\framework\\dtypes.py:517: FutureWarning: Passing (type, 1) or '1type' as a synonym of type is deprecated; in a future version of numpy, it will be understood as (type, (1,)) / '(1,)type'.\n",
      "  _np_quint8 = np.dtype([(\"quint8\", np.uint8, 1)])\n",
      "C:\\Users\\mokky\\AppData\\Roaming\\Python\\Python37\\site-packages\\tensorflow\\python\\framework\\dtypes.py:518: FutureWarning: Passing (type, 1) or '1type' as a synonym of type is deprecated; in a future version of numpy, it will be understood as (type, (1,)) / '(1,)type'.\n",
      "  _np_qint16 = np.dtype([(\"qint16\", np.int16, 1)])\n",
      "C:\\Users\\mokky\\AppData\\Roaming\\Python\\Python37\\site-packages\\tensorflow\\python\\framework\\dtypes.py:519: FutureWarning: Passing (type, 1) or '1type' as a synonym of type is deprecated; in a future version of numpy, it will be understood as (type, (1,)) / '(1,)type'.\n",
      "  _np_quint16 = np.dtype([(\"quint16\", np.uint16, 1)])\n",
      "C:\\Users\\mokky\\AppData\\Roaming\\Python\\Python37\\site-packages\\tensorflow\\python\\framework\\dtypes.py:520: FutureWarning: Passing (type, 1) or '1type' as a synonym of type is deprecated; in a future version of numpy, it will be understood as (type, (1,)) / '(1,)type'.\n",
      "  _np_qint32 = np.dtype([(\"qint32\", np.int32, 1)])\n",
      "C:\\Users\\mokky\\AppData\\Roaming\\Python\\Python37\\site-packages\\tensorflow\\python\\framework\\dtypes.py:525: FutureWarning: Passing (type, 1) or '1type' as a synonym of type is deprecated; in a future version of numpy, it will be understood as (type, (1,)) / '(1,)type'.\n",
      "  np_resource = np.dtype([(\"resource\", np.ubyte, 1)])\n",
      "C:\\Users\\mokky\\AppData\\Roaming\\Python\\Python37\\site-packages\\tensorboard\\compat\\tensorflow_stub\\dtypes.py:541: FutureWarning: Passing (type, 1) or '1type' as a synonym of type is deprecated; in a future version of numpy, it will be understood as (type, (1,)) / '(1,)type'.\n",
      "  _np_qint8 = np.dtype([(\"qint8\", np.int8, 1)])\n",
      "C:\\Users\\mokky\\AppData\\Roaming\\Python\\Python37\\site-packages\\tensorboard\\compat\\tensorflow_stub\\dtypes.py:542: FutureWarning: Passing (type, 1) or '1type' as a synonym of type is deprecated; in a future version of numpy, it will be understood as (type, (1,)) / '(1,)type'.\n",
      "  _np_quint8 = np.dtype([(\"quint8\", np.uint8, 1)])\n",
      "C:\\Users\\mokky\\AppData\\Roaming\\Python\\Python37\\site-packages\\tensorboard\\compat\\tensorflow_stub\\dtypes.py:543: FutureWarning: Passing (type, 1) or '1type' as a synonym of type is deprecated; in a future version of numpy, it will be understood as (type, (1,)) / '(1,)type'.\n",
      "  _np_qint16 = np.dtype([(\"qint16\", np.int16, 1)])\n",
      "C:\\Users\\mokky\\AppData\\Roaming\\Python\\Python37\\site-packages\\tensorboard\\compat\\tensorflow_stub\\dtypes.py:544: FutureWarning: Passing (type, 1) or '1type' as a synonym of type is deprecated; in a future version of numpy, it will be understood as (type, (1,)) / '(1,)type'.\n",
      "  _np_quint16 = np.dtype([(\"quint16\", np.uint16, 1)])\n",
      "C:\\Users\\mokky\\AppData\\Roaming\\Python\\Python37\\site-packages\\tensorboard\\compat\\tensorflow_stub\\dtypes.py:545: FutureWarning: Passing (type, 1) or '1type' as a synonym of type is deprecated; in a future version of numpy, it will be understood as (type, (1,)) / '(1,)type'.\n",
      "  _np_qint32 = np.dtype([(\"qint32\", np.int32, 1)])\n",
      "C:\\Users\\mokky\\AppData\\Roaming\\Python\\Python37\\site-packages\\tensorboard\\compat\\tensorflow_stub\\dtypes.py:550: FutureWarning: Passing (type, 1) or '1type' as a synonym of type is deprecated; in a future version of numpy, it will be understood as (type, (1,)) / '(1,)type'.\n",
      "  np_resource = np.dtype([(\"resource\", np.ubyte, 1)])\n"
     ]
    }
   ],
   "source": [
    "from datapipeline_uc3 import Datapipeline\n",
    "import pandas as pd\n",
    "from tensorflow.keras.models import load_model"
   ]
  },
  {
   "cell_type": "code",
   "execution_count": 3,
   "metadata": {},
   "outputs": [
    {
     "name": "stdout",
     "output_type": "stream",
     "text": [
      "d:\\Users\\mokky\\Documents\\GitHub\\nus-iss\\PRS-PM-ISY5002-GROUP5\\SystemCode\n"
     ]
    }
   ],
   "source": [
    "import os\n",
    "os.chdir('d:/Users/mokky/Documents/GitHub/nus-iss/PRS-PM-ISY5002-GROUP5/SystemCode')\n",
    "print(os.getcwd())"
   ]
  },
  {
   "cell_type": "markdown",
   "metadata": {},
   "source": [
    "## Get a sample from existing dataset"
   ]
  },
  {
   "cell_type": "code",
   "execution_count": 4,
   "metadata": {},
   "outputs": [
    {
     "name": "stdout",
     "output_type": "stream",
     "text": [
      "(62517, 49)\n"
     ]
    },
    {
     "name": "stderr",
     "output_type": "stream",
     "text": [
      "C:\\ProgramData\\Anaconda3\\envs\\prpms\\lib\\site-packages\\IPython\\core\\interactiveshell.py:2714: DtypeWarning: Columns (16) have mixed types.Specify dtype option on import or set low_memory=False.\n",
      "  interactivity=interactivity, compiler=compiler, result=result)\n"
     ]
    }
   ],
   "source": [
    "file_path ='./Data Exploration/data/uc3/BillEstimate.csv'\n",
    "df = pd.read_csv(file_path)\n",
    "print(df.shape)"
   ]
  },
  {
   "cell_type": "code",
   "execution_count": 5,
   "metadata": {},
   "outputs": [
    {
     "name": "stdout",
     "output_type": "stream",
     "text": [
      "[8089]\n"
     ]
    }
   ],
   "source": [
    "import random\n",
    "idx = random.choices(df.index)\n",
    "idx = [8089]\n",
    "print(idx)"
   ]
  },
  {
   "cell_type": "code",
   "execution_count": 6,
   "metadata": {
    "scrolled": false
   },
   "outputs": [
    {
     "name": "stdout",
     "output_type": "stream",
     "text": [
      "                                        8089\n",
      "ACTUAL_CASE_NUMBER                1019003485\n",
      "ACTUAL_TREATMENT_CATEGORY                2bd\n",
      "ACTUAL_PATIENT_NUMBER                6114934\n",
      "ACTUAL_PRIMARY_DIAGNOSIS_SID           27276\n",
      "ACTUAL_CASE_INSTITUTION                  ghl\n",
      "ACTUAL_ADMISSION_DTE               1/11/2019\n",
      "ACTUAL_LOS                                 3\n",
      "ACTUAL_ICU_HDU_LOS                       NaN\n",
      "ACTUAL_SURGICAL_CODE_1                   NaN\n",
      "ACTUAL_SURGICAL_CODE_2                   NaN\n",
      "ACTUAL_SURGICAL_CODE_3                   NaN\n",
      "ACTUAL_DIAGNOSIS_CODE                   k565\n",
      "ADM_DATE                            20190111\n",
      "INST                                     ghl\n",
      "CASE_NO                                  NaN\n",
      "ETBS_LOS                                   1\n",
      "ETBS_ICU_HDU_LOS                     MISSING\n",
      "ETBS_MOVE_TYPE                            ma\n",
      "ETBS_TOSP_1                              NaN\n",
      "ETBS_TOSP_2                              NaN\n",
      "ETBS_TOSP_3                              NaN\n",
      "ETBS_ICD10_1                            k566\n",
      "ETBS_ICD10_2                             NaN\n",
      "ETBS_ICD10_3                             NaN\n",
      "CASE_TYPE                          inpatient\n",
      "PATIENT_TYPE                             NaN\n",
      "ADMISSION_TYPE                            ma\n",
      "TREATMENT_CATEGORY                       sgl\n",
      "REFERRAL_TYPE                             mc\n",
      "DEPT_OU                             transt-g\n",
      "ADMITTING_SMC_NUMBER                     NaN\n",
      "ATTENDING_SMC_NUMBER                     NaN\n",
      "REFERRAL_SMC_NUMBER                      NaN\n",
      "ADM_CLASS_DISC                           NaN\n",
      "PATIENT_NUMBER                   6.11493e+06\n",
      "GENDER                                  male\n",
      "DOB                                4/29/1961\n",
      "MARITAL_STATUS                         marri\n",
      "RELIGION                                 NaN\n",
      "NATIONALITY                      singaporean\n",
      "RESID_CTY                          singapore\n",
      "RESID_POSTALCODE                      530678\n",
      "OCCUPATION                               NaN\n",
      "RESID_GEOAREA                      singapore\n",
      "NONRESID_FLAG                              n\n",
      "IDENT_TYPE                    pink s'pore ic\n",
      "CONT_POSTAL                           530678\n",
      "CONT_RELATION                        brother\n",
      "TOTAL_HOSP                           3373.58\n"
     ]
    }
   ],
   "source": [
    "df_test = df.iloc[idx, :]\n",
    "print(df_test.T)"
   ]
  },
  {
   "cell_type": "code",
   "execution_count": 7,
   "metadata": {},
   "outputs": [
    {
     "name": "stdout",
     "output_type": "stream",
     "text": [
      "<class 'pandas.core.frame.DataFrame'>\n",
      "Int64Index: 1 entries, 8089 to 8089\n",
      "Data columns (total 49 columns):\n",
      " #   Column                        Non-Null Count  Dtype  \n",
      "---  ------                        --------------  -----  \n",
      " 0   ACTUAL_CASE_NUMBER            1 non-null      int64  \n",
      " 1   ACTUAL_TREATMENT_CATEGORY     1 non-null      object \n",
      " 2   ACTUAL_PATIENT_NUMBER         1 non-null      int64  \n",
      " 3   ACTUAL_PRIMARY_DIAGNOSIS_SID  1 non-null      int64  \n",
      " 4   ACTUAL_CASE_INSTITUTION       1 non-null      object \n",
      " 5   ACTUAL_ADMISSION_DTE          1 non-null      object \n",
      " 6   ACTUAL_LOS                    1 non-null      int64  \n",
      " 7   ACTUAL_ICU_HDU_LOS            0 non-null      float64\n",
      " 8   ACTUAL_SURGICAL_CODE_1        0 non-null      object \n",
      " 9   ACTUAL_SURGICAL_CODE_2        0 non-null      object \n",
      " 10  ACTUAL_SURGICAL_CODE_3        0 non-null      object \n",
      " 11  ACTUAL_DIAGNOSIS_CODE         1 non-null      object \n",
      " 12  ADM_DATE                      1 non-null      int64  \n",
      " 13  INST                          1 non-null      object \n",
      " 14  CASE_NO                       0 non-null      float64\n",
      " 15  ETBS_LOS                      1 non-null      float64\n",
      " 16  ETBS_ICU_HDU_LOS              1 non-null      object \n",
      " 17  ETBS_MOVE_TYPE                1 non-null      object \n",
      " 18  ETBS_TOSP_1                   0 non-null      object \n",
      " 19  ETBS_TOSP_2                   0 non-null      object \n",
      " 20  ETBS_TOSP_3                   0 non-null      object \n",
      " 21  ETBS_ICD10_1                  1 non-null      object \n",
      " 22  ETBS_ICD10_2                  0 non-null      object \n",
      " 23  ETBS_ICD10_3                  0 non-null      object \n",
      " 24  CASE_TYPE                     1 non-null      object \n",
      " 25  PATIENT_TYPE                  0 non-null      float64\n",
      " 26  ADMISSION_TYPE                1 non-null      object \n",
      " 27  TREATMENT_CATEGORY            1 non-null      object \n",
      " 28  REFERRAL_TYPE                 1 non-null      object \n",
      " 29  DEPT_OU                       1 non-null      object \n",
      " 30  ADMITTING_SMC_NUMBER          0 non-null      object \n",
      " 31  ATTENDING_SMC_NUMBER          0 non-null      object \n",
      " 32  REFERRAL_SMC_NUMBER           0 non-null      object \n",
      " 33  ADM_CLASS_DISC                0 non-null      object \n",
      " 34  PATIENT_NUMBER                1 non-null      float64\n",
      " 35  GENDER                        1 non-null      object \n",
      " 36  DOB                           1 non-null      object \n",
      " 37  MARITAL_STATUS                1 non-null      object \n",
      " 38  RELIGION                      0 non-null      object \n",
      " 39  NATIONALITY                   1 non-null      object \n",
      " 40  RESID_CTY                     1 non-null      object \n",
      " 41  RESID_POSTALCODE              1 non-null      float64\n",
      " 42  OCCUPATION                    0 non-null      object \n",
      " 43  RESID_GEOAREA                 1 non-null      object \n",
      " 44  NONRESID_FLAG                 1 non-null      object \n",
      " 45  IDENT_TYPE                    1 non-null      object \n",
      " 46  CONT_POSTAL                   1 non-null      float64\n",
      " 47  CONT_RELATION                 1 non-null      object \n",
      " 48  TOTAL_HOSP                    1 non-null      float64\n",
      "dtypes: float64(8), int64(5), object(36)\n",
      "memory usage: 480.0+ bytes\n",
      "None\n"
     ]
    }
   ],
   "source": [
    "print(df_test.info())"
   ]
  },
  {
   "cell_type": "markdown",
   "metadata": {},
   "source": [
    "## Inference Code"
   ]
  },
  {
   "cell_type": "markdown",
   "metadata": {},
   "source": [
    "### Initialisation"
   ]
  },
  {
   "cell_type": "code",
   "execution_count": 8,
   "metadata": {},
   "outputs": [],
   "source": [
    "scaler_pkl_file_path = f'./data/uc3/all_hosp_data_uc3_scaler.pkl'\n",
    "ohe_pkl_file_path = f'./data/uc3/all_hosp_data_uc3_ohe.pkl'\n",
    "feature_importance_file_path = f'./data/uc3/all_hosp_forest_feat_impt_uc3.npy'\n",
    "model_file_path = f'./data/uc3/uc3_NN2_model.h5'"
   ]
  },
  {
   "cell_type": "code",
   "execution_count": 9,
   "metadata": {},
   "outputs": [
    {
     "name": "stdout",
     "output_type": "stream",
     "text": [
      "WARNING:tensorflow:From C:\\Users\\mokky\\AppData\\Roaming\\Python\\Python37\\site-packages\\tensorflow\\python\\ops\\init_ops.py:97: calling VarianceScaling.__init__ (from tensorflow.python.ops.init_ops) with dtype is deprecated and will be removed in a future version.\n",
      "Instructions for updating:\n",
      "Call initializer instance with the dtype argument instead of passing it to the constructor\n",
      "WARNING:tensorflow:From C:\\Users\\mokky\\AppData\\Roaming\\Python\\Python37\\site-packages\\tensorflow\\python\\ops\\init_ops.py:97: calling Zeros.__init__ (from tensorflow.python.ops.init_ops) with dtype is deprecated and will be removed in a future version.\n",
      "Instructions for updating:\n",
      "Call initializer instance with the dtype argument instead of passing it to the constructor\n",
      "WARNING:tensorflow:From C:\\Users\\mokky\\AppData\\Roaming\\Python\\Python37\\site-packages\\tensorflow\\python\\ops\\init_ops.py:97: calling Ones.__init__ (from tensorflow.python.ops.init_ops) with dtype is deprecated and will be removed in a future version.\n",
      "Instructions for updating:\n",
      "Call initializer instance with the dtype argument instead of passing it to the constructor\n"
     ]
    }
   ],
   "source": [
    "dpl = Datapipeline()\n",
    "model = load_model(model_file_path)"
   ]
  },
  {
   "cell_type": "markdown",
   "metadata": {},
   "source": [
    "### Inference"
   ]
  },
  {
   "cell_type": "code",
   "execution_count": 10,
   "metadata": {},
   "outputs": [],
   "source": [
    "df_test_proc = dpl.transform_raw_test_data(df_test, split_hosp=False)\n",
    "df_test_new = dpl.transform_test_data(df_test_proc.drop('TOTAL_HOSP', axis=1),\n",
    "                                      scaler_pkl_file_path,\n",
    "                                      ohe_pkl_file_path,\n",
    "                                      feature_importance_file_path)"
   ]
  },
  {
   "cell_type": "code",
   "execution_count": 11,
   "metadata": {},
   "outputs": [
    {
     "name": "stdout",
     "output_type": "stream",
     "text": [
      "Prediction: 3658.85\n"
     ]
    }
   ],
   "source": [
    "y_pred = model.predict(df_test_new)\n",
    "print('Prediction:', round(y_pred[0,0],2)) #result"
   ]
  }
 ],
 "metadata": {
  "kernelspec": {
   "display_name": "Python 3",
   "language": "python",
   "name": "python3"
  },
  "language_info": {
   "codemirror_mode": {
    "name": "ipython",
    "version": 3
   },
   "file_extension": ".py",
   "mimetype": "text/x-python",
   "name": "python",
   "nbconvert_exporter": "python",
   "pygments_lexer": "ipython3",
   "version": "3.7.8"
  }
 },
 "nbformat": 4,
 "nbformat_minor": 4
}
