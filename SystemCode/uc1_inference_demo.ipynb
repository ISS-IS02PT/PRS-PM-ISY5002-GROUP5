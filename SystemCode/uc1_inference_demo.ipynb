{
 "cells": [
  {
   "cell_type": "code",
   "execution_count": 1,
   "metadata": {},
   "outputs": [],
   "source": [
    "%load_ext autoreload\n",
    "%autoreload 2"
   ]
  },
  {
   "cell_type": "code",
   "execution_count": 14,
   "metadata": {},
   "outputs": [],
   "source": [
    "from datapipeline import Datapipeline\n",
    "import pandas as pd\n",
    "import numpy as np\n",
    "import pickle"
   ]
  },
  {
   "cell_type": "code",
   "execution_count": 3,
   "metadata": {},
   "outputs": [
    {
     "name": "stdout",
     "output_type": "stream",
     "text": [
      "d:\\Users\\mokky\\Documents\\GitHub\\nus-iss\\PRS-PM-ISY5002-GROUP5\\SystemCode\n"
     ]
    }
   ],
   "source": [
    "import os\n",
    "os.chdir('d:/Users/mokky/Documents/GitHub/nus-iss/PRS-PM-ISY5002-GROUP5/SystemCode')\n",
    "print(os.getcwd())"
   ]
  },
  {
   "cell_type": "markdown",
   "metadata": {},
   "source": [
    "## Get a sample from existing dataset"
   ]
  },
  {
   "cell_type": "code",
   "execution_count": 4,
   "metadata": {},
   "outputs": [
    {
     "name": "stdout",
     "output_type": "stream",
     "text": [
      "(381211, 83)\n"
     ]
    }
   ],
   "source": [
    "file_path ='./Data Exploration/data/ParkwaySampleDataForProject_09_withTOSP3.xlsx'\n",
    "df = pd.read_excel(file_path)\n",
    "print(df.shape)"
   ]
  },
  {
   "cell_type": "code",
   "execution_count": 5,
   "metadata": {},
   "outputs": [
    {
     "name": "stdout",
     "output_type": "stream",
     "text": [
      "[227831]\n"
     ]
    }
   ],
   "source": [
    "import random\n",
    "idx = random.choices(df.index)\n",
    "print(idx)"
   ]
  },
  {
   "cell_type": "code",
   "execution_count": 6,
   "metadata": {
    "scrolled": false
   },
   "outputs": [
    {
     "name": "stdout",
     "output_type": "stream",
     "text": [
      "                    227831\n",
      "INSTITUTION            MEH\n",
      "CASE_NUMBER     2019100838\n",
      "TOTAL_PAID_AMT     49144.8\n",
      "PAYER_CODE_1              \n",
      "PAYER_NAME_1     Self-Paid\n",
      "...                    ...\n",
      "ICD_CODE3              NaN\n",
      "ICDCODE_STRING        G932\n",
      "PROF_FEE           21436.2\n",
      "TOTAL_FEES         49144.8\n",
      "WRITE_OFF                0\n",
      "\n",
      "[83 rows x 1 columns]\n"
     ]
    }
   ],
   "source": [
    "df_test = df.iloc[idx, :]\n",
    "print(df_test.T)"
   ]
  },
  {
   "cell_type": "code",
   "execution_count": 7,
   "metadata": {},
   "outputs": [
    {
     "name": "stdout",
     "output_type": "stream",
     "text": [
      "<class 'pandas.core.frame.DataFrame'>\n",
      "Int64Index: 1 entries, 227831 to 227831\n",
      "Data columns (total 83 columns):\n",
      " #   Column               Non-Null Count  Dtype         \n",
      "---  ------               --------------  -----         \n",
      " 0   INSTITUTION          1 non-null      object        \n",
      " 1   CASE_NUMBER          1 non-null      int64         \n",
      " 2   TOTAL_PAID_AMT       1 non-null      float64       \n",
      " 3   PAYER_CODE_1         1 non-null      object        \n",
      " 4   PAYER_NAME_1         1 non-null      object        \n",
      " 5   PAYER_1_PAID_AMT     1 non-null      float64       \n",
      " 6   PAYER_CODE_2         0 non-null      object        \n",
      " 7   PAYER_NAME_2         0 non-null      object        \n",
      " 8   PAYER_2_PAID_AMT     1 non-null      float64       \n",
      " 9   PAYER_CODE_3         0 non-null      object        \n",
      " 10  PAYER_NAME_3         0 non-null      object        \n",
      " 11  PAYER_3_PAID_AMT     1 non-null      float64       \n",
      " 12  PAYER_CODE_4         0 non-null      object        \n",
      " 13  PAYER_NAME_4         0 non-null      object        \n",
      " 14  PAYER_4_PAID_AMT     1 non-null      float64       \n",
      " 15  PAYER_CODE_5         0 non-null      object        \n",
      " 16  PAYER_NAME_5         0 non-null      object        \n",
      " 17  PAYER_5_PAID_AMT     1 non-null      float64       \n",
      " 18  CASE_TYPE            1 non-null      object        \n",
      " 19  BED_TYPE             1 non-null      object        \n",
      " 20  REFERRAL_TYPE        1 non-null      object        \n",
      " 21  TREATMENT_CATEGORY   1 non-null      object        \n",
      " 22  ADMISSION_DTE        1 non-null      datetime64[ns]\n",
      " 23  ADMISSION_TYPE       1 non-null      object        \n",
      " 24  DISCHARGE_DTE        1 non-null      datetime64[ns]\n",
      " 25  DISCHARGE_TYPE       1 non-null      int64         \n",
      " 26  DISCHARGE_TYPE_DESC  1 non-null      object        \n",
      " 27  LOS_DAYS             1 non-null      int64         \n",
      " 28  DOCTOR_CODE          1 non-null      object        \n",
      " 29  DOCTOR_NAME          1 non-null      object        \n",
      " 30  SPECIALTY_CODE       1 non-null      float64       \n",
      " 31  SPECIALTY_DESC       1 non-null      object        \n",
      " 32  SPECIALTY_GRP        1 non-null      float64       \n",
      " 33  TOSP_COUNT           1 non-null      int64         \n",
      " 34  TOSP_STRING          1 non-null      object        \n",
      " 35  TOSP_CODE1           1 non-null      object        \n",
      " 36  TOSP_CODE2           1 non-null      object        \n",
      " 37  TOSP_CODE3           1 non-null      object        \n",
      " 38  TOSP_CODE4           0 non-null      object        \n",
      " 39  TOSP_DESC1           1 non-null      object        \n",
      " 40  TOSP_DESC2           1 non-null      object        \n",
      " 41  TOSP_DESC3           1 non-null      object        \n",
      " 42  TOSP_DESC4           0 non-null      object        \n",
      " 43  NATIONALITY          1 non-null      object        \n",
      " 44  RESID_CTY            1 non-null      object        \n",
      " 45  RESID_POSTALCODE     1 non-null      object        \n",
      " 46  DOB                  1 non-null      datetime64[ns]\n",
      " 47  NONRESID_FLAG        1 non-null      object        \n",
      " 48  PATIENT_SID          1 non-null      int64         \n",
      " 49  PATIENT_NUMBER       1 non-null      int64         \n",
      " 50  GENDER               1 non-null      object        \n",
      " 51  DECEASED_FLAG        1 non-null      object        \n",
      " 52  MARITAL_STATUS       1 non-null      object        \n",
      " 53  RELIGION             0 non-null      object        \n",
      " 54  LANGUAGE             1 non-null      object        \n",
      " 55  VIP_FLAG             1 non-null      object        \n",
      " 56  RACE                 1 non-null      object        \n",
      " 57  DRG_CODE             1 non-null      object        \n",
      " 58  DRG_DESC             1 non-null      object        \n",
      " 59  PAYER_CODE1_V        1 non-null      object        \n",
      " 60  PAYER_NAME1_V        1 non-null      object        \n",
      " 61  PAYER_CODE2_V        0 non-null      object        \n",
      " 62  PAYER_NAME2_V        0 non-null      object        \n",
      " 63  PAYER_CODE3_V        0 non-null      object        \n",
      " 64  PAYER_NAME3_V        0 non-null      object        \n",
      " 65  PAYER_CODE4_V        0 non-null      object        \n",
      " 66  PAYER_NAME4_V        0 non-null      object        \n",
      " 67  PACKAGE_CODE         0 non-null      float64       \n",
      " 68  PACKAGE_PRICE        0 non-null      float64       \n",
      " 69  PACKAGE_EXCL         0 non-null      float64       \n",
      " 70  PACKAGE_ADJ          0 non-null      float64       \n",
      " 71  PACKAGE_DESC         0 non-null      object        \n",
      " 72  PACKAGE_CODE1        0 non-null      float64       \n",
      " 73  PACKAGE_CODE2        0 non-null      float64       \n",
      " 74  PACKAGE_DESC1        0 non-null      object        \n",
      " 75  PACKAGE_DESC2        0 non-null      object        \n",
      " 76  ICD_CODE1            1 non-null      object        \n",
      " 77  ICD_CODE2            0 non-null      object        \n",
      " 78  ICD_CODE3            0 non-null      object        \n",
      " 79  ICDCODE_STRING       1 non-null      object        \n",
      " 80  PROF_FEE             1 non-null      float64       \n",
      " 81  TOTAL_FEES           1 non-null      float64       \n",
      " 82  WRITE_OFF            1 non-null      float64       \n",
      "dtypes: datetime64[ns](3), float64(17), int64(6), object(57)\n",
      "memory usage: 752.0+ bytes\n",
      "None\n"
     ]
    }
   ],
   "source": [
    "print(df_test.info())"
   ]
  },
  {
   "cell_type": "markdown",
   "metadata": {},
   "source": [
    "## Inference Code"
   ]
  },
  {
   "cell_type": "markdown",
   "metadata": {},
   "source": [
    "### Initialisation"
   ]
  },
  {
   "cell_type": "code",
   "execution_count": 8,
   "metadata": {},
   "outputs": [],
   "source": [
    "scaler_pkl_file_paths = {\n",
    "    'GHL': f'./data/uc1/GHL_data_scaler.pkl',\n",
    "    'MEH': f'./data/uc1/MEH_data_scaler.pkl',\n",
    "    'PEH': f'./data/uc1/PEH_data_scaler.pkl',\n",
    "    'PNH': f'./data/uc1/PNH_data_scaler.pkl',\n",
    "}\n",
    "ohe_pkl_file_paths = {\n",
    "    'GHL': f'./data/uc1/GHL_data_ohe.pkl',\n",
    "    'MEH': f'./data/uc1/MEH_data_ohe.pkl',\n",
    "    'PEH': f'./data/uc1/PEH_data_ohe.pkl',\n",
    "    'PNH': f'./data/uc1/PNH_data_ohe.pkl',\n",
    "}\n",
    "feature_importance_file_paths = {\n",
    "    'GHL':f'./data/uc1/GHL_forest_feat_impt_uc1.npy',\n",
    "    'MEH':f'./data/uc1/MEH_forest_feat_impt_uc1.npy',\n",
    "    'PEH':f'./data/uc1/PEH_forest_feat_impt_uc1.npy',\n",
    "    'PNH':f'./data/uc1/PNH_forest_feat_impt_uc1.npy',\n",
    "}\n",
    "model_file_paths = {\n",
    "    'GHL':f'./models/uc1/GHL_uc1_1.0_smote_mlp_(256, 256)_model.pkl',\n",
    "    'MEH':f'./models/uc1/MEH_uc1_1.0_smote_mlp_(256, 256)_model.pkl',\n",
    "    'PEH':f'./models/uc1/PEH_uc1_1.0_smote_mlp_(256, 256)_model.pkl',\n",
    "    'PNH':f'./models/uc1/PNH_uc1_1.0_smote_mlp_(256, 256)_model.pkl',\n",
    "}"
   ]
  },
  {
   "cell_type": "code",
   "execution_count": 9,
   "metadata": {},
   "outputs": [],
   "source": [
    "dpl = Datapipeline()"
   ]
  },
  {
   "cell_type": "markdown",
   "metadata": {},
   "source": [
    "### Inference"
   ]
  },
  {
   "cell_type": "code",
   "execution_count": 20,
   "metadata": {},
   "outputs": [
    {
     "name": "stdout",
     "output_type": "stream",
     "text": [
      "Prediction (MEH): 0\n",
      "Actual (MEH): 0\n"
     ]
    }
   ],
   "source": [
    "dict_df_test_proc = dpl.transform_raw_test_data(df_test, split_hosp=True)\n",
    "for hosp in dict_df_test_proc:\n",
    "    df_test_new = dpl.transform_test_data(dict_df_test_proc[hosp].drop('WRITE_OFF', axis=1),\n",
    "                                          scaler_pkl_file_paths[hosp],\n",
    "                                          ohe_pkl_file_paths[hosp],\n",
    "                                          feature_importance_file_paths[hosp])\n",
    "    model = pickle.load(open(model_file_paths[hosp], 'rb'))\n",
    "    y_pred = model.predict(df_test_new)\n",
    "    print(f'Prediction ({hosp}):', y_pred[0]) #result\n",
    "    print(f'Actual ({hosp}):', int(dict_df_test_proc[hosp]['WRITE_OFF'].values[0]))"
   ]
  },
  {
   "cell_type": "code",
   "execution_count": null,
   "metadata": {},
   "outputs": [],
   "source": []
  }
 ],
 "metadata": {
  "kernelspec": {
   "display_name": "Python 3",
   "language": "python",
   "name": "python3"
  },
  "language_info": {
   "codemirror_mode": {
    "name": "ipython",
    "version": 3
   },
   "file_extension": ".py",
   "mimetype": "text/x-python",
   "name": "python",
   "nbconvert_exporter": "python",
   "pygments_lexer": "ipython3",
   "version": "3.7.8"
  }
 },
 "nbformat": 4,
 "nbformat_minor": 4
}
