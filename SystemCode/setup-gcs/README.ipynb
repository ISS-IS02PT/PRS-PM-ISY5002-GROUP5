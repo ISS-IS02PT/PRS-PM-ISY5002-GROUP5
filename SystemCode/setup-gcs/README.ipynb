{
 "metadata": {
  "language_info": {
   "codemirror_mode": {
    "name": "ipython",
    "version": 3
   },
   "file_extension": ".py",
   "mimetype": "text/x-python",
   "name": "python",
   "nbconvert_exporter": "python",
   "pygments_lexer": "ipython3",
   "version": "3.8.1-final"
  },
  "orig_nbformat": 2,
  "kernelspec": {
   "name": "python38164bitsandboxvenv1be246c78d6c486bb76000e2f27d9178",
   "display_name": "Python 3.8.1 64-bit ('sandbox': venv)"
  }
 },
 "nbformat": 4,
 "nbformat_minor": 2,
 "cells": [
  {
   "cell_type": "markdown",
   "metadata": {},
   "source": [
    "### 1/ Make sure you have activated the Python virtual environment that is used as the notebook kernel"
   ]
  },
  {
   "cell_type": "code",
   "execution_count": 1,
   "metadata": {
    "tags": []
   },
   "outputs": [
    {
     "output_type": "stream",
     "name": "stdout",
     "text": "/Users/kenly/Documents/Work/ISS-IS02PT/PRS-PM-ISY5002-GROUP5/SystemCode/.venv/sandbox/bin/python\n"
    }
   ],
   "source": [
    "!which python"
   ]
  },
  {
   "cell_type": "markdown",
   "metadata": {},
   "source": [
    "### 2/ Install the package for google-cloud-storage"
   ]
  },
  {
   "cell_type": "code",
   "execution_count": 4,
   "metadata": {
    "tags": []
   },
   "outputs": [
    {
     "output_type": "stream",
     "name": "stdout",
     "text": "Collecting google-cloud-storage\n  Downloading google_cloud_storage-1.31.0-py2.py3-none-any.whl (88 kB)\n\u001b[K     |████████████████████████████████| 88 kB 203 kB/s \n\u001b[?25hCollecting google-cloud-core<2.0dev,>=1.4.1\n  Downloading google_cloud_core-1.4.1-py2.py3-none-any.whl (26 kB)\nCollecting google-resumable-media<2.0dev,>=1.0.0\n  Downloading google_resumable_media-1.0.0-py2.py3-none-any.whl (42 kB)\n\u001b[K     |████████████████████████████████| 42 kB 791 kB/s \n\u001b[?25hCollecting google-auth<2.0dev,>=1.11.0\n  Downloading google_auth-1.21.0-py2.py3-none-any.whl (92 kB)\n\u001b[K     |████████████████████████████████| 92 kB 815 kB/s \n\u001b[?25hCollecting google-api-core<2.0.0dev,>=1.19.0\n  Downloading google_api_core-1.22.1-py2.py3-none-any.whl (91 kB)\n\u001b[K     |████████████████████████████████| 91 kB 1.9 MB/s \n\u001b[?25hRequirement already satisfied: six in /Users/kenly/Documents/Work/ISS-IS02PT/PRS-PM-ISY5002-GROUP5/SystemCode/.venv/sandbox/lib/python3.8/site-packages (from google-resumable-media<2.0dev,>=1.0.0->google-cloud-storage) (1.15.0)\nCollecting google-crc32c<2.0dev,>=1.0; python_version >= \"3.5\"\n  Downloading google-crc32c-1.0.0.tar.gz (10 kB)\n  Installing build dependencies ... \u001b[?25ldone\n\u001b[?25h  Getting requirements to build wheel ... \u001b[?25ldone\n\u001b[?25h  Installing backend dependencies ... \u001b[?25ldone\n\u001b[?25h    Preparing wheel metadata ... \u001b[?25ldone\n\u001b[?25hCollecting pyasn1-modules>=0.2.1\n  Using cached pyasn1_modules-0.2.8-py2.py3-none-any.whl (155 kB)\nCollecting cachetools<5.0,>=2.0.0\n  Using cached cachetools-4.1.1-py3-none-any.whl (10 kB)\nRequirement already satisfied: setuptools>=40.3.0 in /Users/kenly/Documents/Work/ISS-IS02PT/PRS-PM-ISY5002-GROUP5/SystemCode/.venv/sandbox/lib/python3.8/site-packages (from google-auth<2.0dev,>=1.11.0->google-cloud-storage) (41.2.0)\nCollecting rsa<5,>=3.1.4; python_version >= \"3.5\"\n  Using cached rsa-4.6-py3-none-any.whl (47 kB)\nCollecting googleapis-common-protos<2.0dev,>=1.6.0\n  Downloading googleapis_common_protos-1.52.0-py2.py3-none-any.whl (100 kB)\n\u001b[K     |████████████████████████████████| 100 kB 908 kB/s \n\u001b[?25hCollecting pytz\n  Using cached pytz-2020.1-py2.py3-none-any.whl (510 kB)\nCollecting protobuf>=3.12.0\n  Downloading protobuf-3.13.0-cp38-cp38-macosx_10_9_x86_64.whl (1.3 MB)\n\u001b[K     |████████████████████████████████| 1.3 MB 1.7 MB/s \n\u001b[?25hRequirement already satisfied: requests<3.0.0dev,>=2.18.0 in /Users/kenly/Documents/Work/ISS-IS02PT/PRS-PM-ISY5002-GROUP5/SystemCode/.venv/sandbox/lib/python3.8/site-packages (from google-api-core<2.0.0dev,>=1.19.0->google-cloud-core<2.0dev,>=1.4.1->google-cloud-storage) (2.24.0)\nRequirement already satisfied: cffi>=1.0.0 in /Users/kenly/Documents/Work/ISS-IS02PT/PRS-PM-ISY5002-GROUP5/SystemCode/.venv/sandbox/lib/python3.8/site-packages (from google-crc32c<2.0dev,>=1.0; python_version >= \"3.5\"->google-resumable-media<2.0dev,>=1.0.0->google-cloud-storage) (1.14.2)\nCollecting pyasn1<0.5.0,>=0.4.6\n  Using cached pyasn1-0.4.8-py2.py3-none-any.whl (77 kB)\nRequirement already satisfied: idna<3,>=2.5 in /Users/kenly/Documents/Work/ISS-IS02PT/PRS-PM-ISY5002-GROUP5/SystemCode/.venv/sandbox/lib/python3.8/site-packages (from requests<3.0.0dev,>=2.18.0->google-api-core<2.0.0dev,>=1.19.0->google-cloud-core<2.0dev,>=1.4.1->google-cloud-storage) (2.10)\nRequirement already satisfied: certifi>=2017.4.17 in /Users/kenly/Documents/Work/ISS-IS02PT/PRS-PM-ISY5002-GROUP5/SystemCode/.venv/sandbox/lib/python3.8/site-packages (from requests<3.0.0dev,>=2.18.0->google-api-core<2.0.0dev,>=1.19.0->google-cloud-core<2.0dev,>=1.4.1->google-cloud-storage) (2020.6.20)\nRequirement already satisfied: chardet<4,>=3.0.2 in /Users/kenly/Documents/Work/ISS-IS02PT/PRS-PM-ISY5002-GROUP5/SystemCode/.venv/sandbox/lib/python3.8/site-packages (from requests<3.0.0dev,>=2.18.0->google-api-core<2.0.0dev,>=1.19.0->google-cloud-core<2.0dev,>=1.4.1->google-cloud-storage) (3.0.4)\nRequirement already satisfied: urllib3!=1.25.0,!=1.25.1,<1.26,>=1.21.1 in /Users/kenly/Documents/Work/ISS-IS02PT/PRS-PM-ISY5002-GROUP5/SystemCode/.venv/sandbox/lib/python3.8/site-packages (from requests<3.0.0dev,>=2.18.0->google-api-core<2.0.0dev,>=1.19.0->google-cloud-core<2.0dev,>=1.4.1->google-cloud-storage) (1.25.10)\nRequirement already satisfied: pycparser in /Users/kenly/Documents/Work/ISS-IS02PT/PRS-PM-ISY5002-GROUP5/SystemCode/.venv/sandbox/lib/python3.8/site-packages (from cffi>=1.0.0->google-crc32c<2.0dev,>=1.0; python_version >= \"3.5\"->google-resumable-media<2.0dev,>=1.0.0->google-cloud-storage) (2.20)\nBuilding wheels for collected packages: google-crc32c\n  Building wheel for google-crc32c (PEP 517) ... \u001b[?25ldone\n\u001b[?25h  Created wheel for google-crc32c: filename=google_crc32c-1.0.0-py3-none-any.whl size=9916 sha256=6d148c6889ee7eac8b028cd811369f5baa342f9e33d455903ab88ed082fb5b4e\n  Stored in directory: /Users/kenly/Library/Caches/pip/wheels/80/8c/fa/7a4feadbb9c2aa7bada4831f00fdcb58fe0d5efc3ebb5d7fd0\nSuccessfully built google-crc32c\nInstalling collected packages: pyasn1, pyasn1-modules, cachetools, rsa, google-auth, protobuf, googleapis-common-protos, pytz, google-api-core, google-cloud-core, google-crc32c, google-resumable-media, google-cloud-storage\nSuccessfully installed cachetools-4.1.1 google-api-core-1.22.1 google-auth-1.21.0 google-cloud-core-1.4.1 google-cloud-storage-1.31.0 google-crc32c-1.0.0 google-resumable-media-1.0.0 googleapis-common-protos-1.52.0 protobuf-3.13.0 pyasn1-0.4.8 pyasn1-modules-0.2.8 pytz-2020.1 rsa-4.6\n"
    }
   ],
   "source": [
    "!pip install google-cloud-storage"
   ]
  },
  {
   "cell_type": "markdown",
   "metadata": {},
   "source": [
    "### 3/ Assume we have a numpy object that we want to save its state. The steps will be as following:\n",
    "- 3a: Serialize the object in Notebook to a binary file\n",
    "- 3b: Upload that binary file to the Google Cloud Storage (Make sure you have the service account's private json key file ready, and please don't ever commit the json file to git)"
   ]
  },
  {
   "cell_type": "code",
   "execution_count": 2,
   "metadata": {},
   "outputs": [
    {
     "output_type": "execute_result",
     "data": {
      "text/plain": "array([0, 1, 2, 3, 4, 5, 6, 7, 8, 9])"
     },
     "metadata": {},
     "execution_count": 2
    }
   ],
   "source": [
    "import numpy as np\n",
    "import pickle\n",
    "\n",
    "# Assuming we have an array of evenly-spaced values\n",
    "my_arr = np.arange(0,10,1)\n",
    "my_arr"
   ]
  },
  {
   "cell_type": "code",
   "execution_count": 3,
   "metadata": {},
   "outputs": [],
   "source": [
    "# Serialize and Export the object\n",
    "with open('./my_arr.pkl', 'wb') as my_arr_pkl:\n",
    "  pickle.dump(my_arr, my_arr_pkl)  "
   ]
  },
  {
   "cell_type": "code",
   "execution_count": 4,
   "metadata": {
    "tags": []
   },
   "outputs": [
    {
     "output_type": "stream",
     "name": "stdout",
     "text": "File ./my_arr.pkl uploaded to ken/my_arr.pkl.03-Sep-2020_22:45:48\n"
    }
   ],
   "source": [
    "\n",
    "from datetime import datetime\n",
    "from google.cloud import storage\n",
    "\n",
    "# Explicitly use service account credentials by specifying the private key file.\n",
    "storage_client = storage.Client.from_service_account_json('my-spark-iss-0cc3a9e9a54d.json')\n",
    "\n",
    "### Upload the serialized object to Google Cloud Storage\n",
    "                                        # Use the bucket_name as below for our project\n",
    "bucket_name = \"my-spark-iss-us-central1\"                            \n",
    "                                        # File name from above cell\n",
    "source_file_name = \"./my_arr.pkl\"                                   \n",
    "                                        # The destination blob name is appended with the current time to differentiate different versions\n",
    "destination_blob_name = \"ken/my_arr.pkl\" + \".\" + datetime.now().strftime(\"%d-%b-%Y_%H:%M:%S\") \n",
    "\n",
    "bucket = storage_client.bucket(bucket_name)\n",
    "blob = bucket.blob(destination_blob_name)\n",
    "\n",
    "blob.upload_from_filename(source_file_name)\n",
    "print(\"File {} uploaded to {}\".format(source_file_name, destination_blob_name))"
   ]
  },
  {
   "cell_type": "markdown",
   "metadata": {},
   "source": [
    "### 4/ Restore the state of the object to use in subsequent processing. The steps will be as following:\n",
    "- 4a: Download the binary file from Google Cloud Storage\n",
    "- 4b: Recreate the object in Notebook from that binary file"
   ]
  },
  {
   "cell_type": "code",
   "execution_count": 5,
   "metadata": {
    "tags": []
   },
   "outputs": [],
   "source": [
    "from google.cloud import storage\n",
    "\n",
    "# Explicitly use service account credentials by specifying the private key file.\n",
    "storage_client = storage.Client.from_service_account_json('my-spark-iss-0cc3a9e9a54d.json')\n",
    "\n",
    "# Make an authenticated API request\n",
    "\"\"\"Downloads a blob from the bucket.\"\"\"\n",
    "bucket_name = \"my-spark-iss-us-central1\"\n",
    "source_blob_name = \"ken/my_arr.pkl.03-Sep-2020_22:45:48\"        # From above GCS output filename\n",
    "destination_file_name = \"./my_arr.pkl\"\n",
    "\n",
    "bucket = storage_client.bucket(bucket_name)\n",
    "blob = bucket.blob(source_blob_name)\n",
    "blob.download_to_filename(destination_file_name)"
   ]
  },
  {
   "cell_type": "code",
   "execution_count": 6,
   "metadata": {},
   "outputs": [
    {
     "output_type": "execute_result",
     "data": {
      "text/plain": "array([0, 1, 2, 3, 4, 5, 6, 7, 8, 9])"
     },
     "metadata": {},
     "execution_count": 6
    }
   ],
   "source": [
    "# Load the object \n",
    "with open('./my_arr.pkl', 'rb') as my_arr_pkl:\n",
    "    my_arr = pickle.load(my_arr_pkl)\n",
    "\n",
    "# We are getting back the same object\n",
    "my_arr"
   ]
  }
 ]
}