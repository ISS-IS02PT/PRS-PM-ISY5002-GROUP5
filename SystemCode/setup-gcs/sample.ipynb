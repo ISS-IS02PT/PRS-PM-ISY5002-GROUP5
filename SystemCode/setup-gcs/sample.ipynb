{
 "metadata": {
  "language_info": {
   "codemirror_mode": {
    "name": "ipython",
    "version": 3
   },
   "file_extension": ".py",
   "mimetype": "text/x-python",
   "name": "python",
   "nbconvert_exporter": "python",
   "pygments_lexer": "ipython3",
   "version": "3.8.1-final"
  },
  "orig_nbformat": 2,
  "kernelspec": {
   "name": "python38164bitsandboxvenv1be246c78d6c486bb76000e2f27d9178",
   "display_name": "Python 3.8.1 64-bit ('sandbox': venv)"
  }
 },
 "nbformat": 4,
 "nbformat_minor": 2,
 "cells": [
  {
   "cell_type": "markdown",
   "metadata": {},
   "source": [
    "### 1/ Make sure you have activated the Python virtual environment that is used as the notebook kernel"
   ]
  },
  {
   "cell_type": "code",
   "execution_count": 1,
   "metadata": {
    "tags": []
   },
   "outputs": [
    {
     "output_type": "stream",
     "name": "stdout",
     "text": "/Users/kenly/Documents/Work/ISS-IS02PT/PRS-PM-ISY5002-GROUP5/SystemCode/.venv/sandbox/bin/python\n"
    }
   ],
   "source": [
    "!which python"
   ]
  },
  {
   "cell_type": "markdown",
   "metadata": {},
   "source": [
    "### 2/ Install the package for google-cloud-storage"
   ]
  },
  {
   "cell_type": "code",
   "execution_count": 2,
   "metadata": {
    "tags": []
   },
   "outputs": [
    {
     "output_type": "stream",
     "name": "stdout",
     "text": "Requirement already satisfied: google-cloud-storage in /Users/kenly/Documents/Work/ISS-IS02PT/PRS-PM-ISY5002-GROUP5/SystemCode/.venv/sandbox/lib/python3.8/site-packages (1.31.0)\nRequirement already satisfied: google-cloud-core<2.0dev,>=1.4.1 in /Users/kenly/Documents/Work/ISS-IS02PT/PRS-PM-ISY5002-GROUP5/SystemCode/.venv/sandbox/lib/python3.8/site-packages (from google-cloud-storage) (1.4.1)\nRequirement already satisfied: google-auth<2.0dev,>=1.11.0 in /Users/kenly/Documents/Work/ISS-IS02PT/PRS-PM-ISY5002-GROUP5/SystemCode/.venv/sandbox/lib/python3.8/site-packages (from google-cloud-storage) (1.21.0)\nRequirement already satisfied: google-resumable-media<2.0dev,>=1.0.0 in /Users/kenly/Documents/Work/ISS-IS02PT/PRS-PM-ISY5002-GROUP5/SystemCode/.venv/sandbox/lib/python3.8/site-packages (from google-cloud-storage) (1.0.0)\nRequirement already satisfied: google-api-core<2.0.0dev,>=1.19.0 in /Users/kenly/Documents/Work/ISS-IS02PT/PRS-PM-ISY5002-GROUP5/SystemCode/.venv/sandbox/lib/python3.8/site-packages (from google-cloud-core<2.0dev,>=1.4.1->google-cloud-storage) (1.22.1)\nRequirement already satisfied: six>=1.9.0 in /Users/kenly/Documents/Work/ISS-IS02PT/PRS-PM-ISY5002-GROUP5/SystemCode/.venv/sandbox/lib/python3.8/site-packages (from google-auth<2.0dev,>=1.11.0->google-cloud-storage) (1.15.0)\nRequirement already satisfied: pyasn1-modules>=0.2.1 in /Users/kenly/Documents/Work/ISS-IS02PT/PRS-PM-ISY5002-GROUP5/SystemCode/.venv/sandbox/lib/python3.8/site-packages (from google-auth<2.0dev,>=1.11.0->google-cloud-storage) (0.2.8)\nRequirement already satisfied: setuptools>=40.3.0 in /Users/kenly/Documents/Work/ISS-IS02PT/PRS-PM-ISY5002-GROUP5/SystemCode/.venv/sandbox/lib/python3.8/site-packages (from google-auth<2.0dev,>=1.11.0->google-cloud-storage) (41.2.0)\nRequirement already satisfied: rsa<5,>=3.1.4; python_version >= \"3.5\" in /Users/kenly/Documents/Work/ISS-IS02PT/PRS-PM-ISY5002-GROUP5/SystemCode/.venv/sandbox/lib/python3.8/site-packages (from google-auth<2.0dev,>=1.11.0->google-cloud-storage) (4.6)\nRequirement already satisfied: cachetools<5.0,>=2.0.0 in /Users/kenly/Documents/Work/ISS-IS02PT/PRS-PM-ISY5002-GROUP5/SystemCode/.venv/sandbox/lib/python3.8/site-packages (from google-auth<2.0dev,>=1.11.0->google-cloud-storage) (4.1.1)\nRequirement already satisfied: google-crc32c<2.0dev,>=1.0; python_version >= \"3.5\" in /Users/kenly/Documents/Work/ISS-IS02PT/PRS-PM-ISY5002-GROUP5/SystemCode/.venv/sandbox/lib/python3.8/site-packages (from google-resumable-media<2.0dev,>=1.0.0->google-cloud-storage) (1.0.0)\nRequirement already satisfied: pytz in /Users/kenly/Documents/Work/ISS-IS02PT/PRS-PM-ISY5002-GROUP5/SystemCode/.venv/sandbox/lib/python3.8/site-packages (from google-api-core<2.0.0dev,>=1.19.0->google-cloud-core<2.0dev,>=1.4.1->google-cloud-storage) (2020.1)\nRequirement already satisfied: protobuf>=3.12.0 in /Users/kenly/Documents/Work/ISS-IS02PT/PRS-PM-ISY5002-GROUP5/SystemCode/.venv/sandbox/lib/python3.8/site-packages (from google-api-core<2.0.0dev,>=1.19.0->google-cloud-core<2.0dev,>=1.4.1->google-cloud-storage) (3.13.0)\nRequirement already satisfied: googleapis-common-protos<2.0dev,>=1.6.0 in /Users/kenly/Documents/Work/ISS-IS02PT/PRS-PM-ISY5002-GROUP5/SystemCode/.venv/sandbox/lib/python3.8/site-packages (from google-api-core<2.0.0dev,>=1.19.0->google-cloud-core<2.0dev,>=1.4.1->google-cloud-storage) (1.52.0)\nRequirement already satisfied: requests<3.0.0dev,>=2.18.0 in /Users/kenly/Documents/Work/ISS-IS02PT/PRS-PM-ISY5002-GROUP5/SystemCode/.venv/sandbox/lib/python3.8/site-packages (from google-api-core<2.0.0dev,>=1.19.0->google-cloud-core<2.0dev,>=1.4.1->google-cloud-storage) (2.24.0)\nRequirement already satisfied: pyasn1<0.5.0,>=0.4.6 in /Users/kenly/Documents/Work/ISS-IS02PT/PRS-PM-ISY5002-GROUP5/SystemCode/.venv/sandbox/lib/python3.8/site-packages (from pyasn1-modules>=0.2.1->google-auth<2.0dev,>=1.11.0->google-cloud-storage) (0.4.8)\nRequirement already satisfied: urllib3!=1.25.0,!=1.25.1,<1.26,>=1.21.1 in /Users/kenly/Documents/Work/ISS-IS02PT/PRS-PM-ISY5002-GROUP5/SystemCode/.venv/sandbox/lib/python3.8/site-packages (from requests<3.0.0dev,>=2.18.0->google-api-core<2.0.0dev,>=1.19.0->google-cloud-core<2.0dev,>=1.4.1->google-cloud-storage) (1.25.10)\nRequirement already satisfied: certifi>=2017.4.17 in /Users/kenly/Documents/Work/ISS-IS02PT/PRS-PM-ISY5002-GROUP5/SystemCode/.venv/sandbox/lib/python3.8/site-packages (from requests<3.0.0dev,>=2.18.0->google-api-core<2.0.0dev,>=1.19.0->google-cloud-core<2.0dev,>=1.4.1->google-cloud-storage) (2020.6.20)\nRequirement already satisfied: idna<3,>=2.5 in /Users/kenly/Documents/Work/ISS-IS02PT/PRS-PM-ISY5002-GROUP5/SystemCode/.venv/sandbox/lib/python3.8/site-packages (from requests<3.0.0dev,>=2.18.0->google-api-core<2.0.0dev,>=1.19.0->google-cloud-core<2.0dev,>=1.4.1->google-cloud-storage) (2.10)\nRequirement already satisfied: chardet<4,>=3.0.2 in /Users/kenly/Documents/Work/ISS-IS02PT/PRS-PM-ISY5002-GROUP5/SystemCode/.venv/sandbox/lib/python3.8/site-packages (from requests<3.0.0dev,>=2.18.0->google-api-core<2.0.0dev,>=1.19.0->google-cloud-core<2.0dev,>=1.4.1->google-cloud-storage) (3.0.4)\n"
    }
   ],
   "source": [
    "!pip install google-cloud-storage"
   ]
  },
  {
   "cell_type": "markdown",
   "metadata": {},
   "source": [
    "### 3/ Assume we have a numpy object that we want to save its state. The steps will be as following:\n",
    "#### * 3a: Serialize the object in Notebook to a binary file\n",
    "#### * 3b: Upload that binary file to the Google Cloud Storage (Make sure you have the service account's private json key file ready, and please don't ever commit the json file to git --> I do this by putting the file in an '.env' folder, which is ignored by git)"
   ]
  },
  {
   "cell_type": "code",
   "execution_count": 3,
   "metadata": {
    "tags": []
   },
   "outputs": [
    {
     "output_type": "stream",
     "name": "stdout",
     "text": "[0 1 2 3 4 5 6 7 8 9]\n[0 2 4 6 8]\n"
    }
   ],
   "source": [
    "import numpy as np\n",
    "import pickle\n",
    "\n",
    "# Assuming we have 2 np arrays as follow:\n",
    "my_arr_1 = np.arange(0,10,1)\n",
    "print(my_arr_1)\n",
    "\n",
    "my_arr_2 = np.arange(0,10,2)\n",
    "print(my_arr_2)"
   ]
  },
  {
   "cell_type": "code",
   "execution_count": 4,
   "metadata": {},
   "outputs": [],
   "source": [
    "# Add the objects into a dictionary to export - This is just to standardize and mentally get an overview of what objects are being exported\n",
    "export_dict = {}\n",
    "export_dict[\"my_arr_1\"] = my_arr_1\n",
    "export_dict[\"my_arr_2\"] = my_arr_2\n",
    "\n",
    "# Serialize and export the objects in individual files\n",
    "for key in export_dict:\n",
    "    with open(key + \".pkl\", \"wb\") as export_pkl:\n",
    "        pickle.dump(export_dict[key], export_pkl)  "
   ]
  },
  {
   "cell_type": "code",
   "execution_count": 5,
   "metadata": {
    "tags": []
   },
   "outputs": [
    {
     "output_type": "stream",
     "name": "stdout",
     "text": "File my_arr_1.pkl uploaded to ken.ldk/my_arr_1.pkl.04-Sep-2020_10:11:06\nFile my_arr_2.pkl uploaded to ken.ldk/my_arr_2.pkl.04-Sep-2020_10:11:06\n"
    }
   ],
   "source": [
    "### Upload the serialized object to Google Cloud Storage\n",
    "from datetime import datetime\n",
    "from google.cloud import storage\n",
    "\n",
    "# Explicitly use service account credentials by specifying the private key file.\n",
    "gcs_storage_client = storage.Client.from_service_account_json('.env/my-spark-iss-0cc3a9e9a54d.json')\n",
    "\n",
    "# Use the same bucket_name as below for our project - this has been created\n",
    "gcs_bucket_name = \"my-spark-iss-us-central1\"                       \n",
    "\n",
    "# Separated with individual folder (like git branch) for each of us\n",
    "gcs_folder_name = \"ken.ldk\"     \n",
    "\n",
    "# Upload each file\n",
    "bucket = gcs_storage_client.bucket(gcs_bucket_name)\n",
    "for key in export_dict:\n",
    "    source_file_name = key + \".pkl\"\n",
    "    # The destination blob name is appended with the current time to maintain different versions\n",
    "    gcs_blob_name = gcs_folder_name + \"/\" + source_file_name + \".\" + datetime.now().strftime(\"%d-%b-%Y_%H:%M:%S\") \n",
    "    blob = bucket.blob(gcs_blob_name)\n",
    "    blob.upload_from_filename(source_file_name)\n",
    "    print(\"File {} uploaded to {}\".format(source_file_name, gcs_blob_name))"
   ]
  },
  {
   "cell_type": "markdown",
   "metadata": {},
   "source": [
    "### 4/ Restore the state of the object to use in further processing in notebook. The steps will be as following:\n",
    "#### * 4a: Download the binary files from Google Cloud Storage\n",
    "#### * 4b: Recreate each object in Notebook from the binary files"
   ]
  },
  {
   "cell_type": "code",
   "execution_count": 6,
   "metadata": {},
   "outputs": [],
   "source": [
    "# Add the objects into a dictionary to import - This is just to standardize and mentally get an overview of what objects are being imported\n",
    "import_dict = {}\n",
    "\n",
    "# The corresponding exported file names from above -- Share this with other members for them to download on their own\n",
    "import_dict[\"my_arr_1\"] = \"ken.ldk/my_arr_1.pkl.04-Sep-2020_10:11:06\"\n",
    "import_dict[\"my_arr_2\"] = \"ken.ldk/my_arr_2.pkl.04-Sep-2020_10:11:06\""
   ]
  },
  {
   "cell_type": "code",
   "execution_count": 7,
   "metadata": {
    "tags": []
   },
   "outputs": [],
   "source": [
    "from google.cloud import storage\n",
    "\n",
    "# Explicitly use service account credentials by specifying the private key file.\n",
    "gcs_storage_client = storage.Client.from_service_account_json('.env/my-spark-iss-0cc3a9e9a54d.json')\n",
    "\n",
    "# Make an authenticated API request\n",
    "\"\"\"Downloads a blob from the bucket to the current folder.\"\"\"\n",
    "# Use the same bucket_name as below for our project - this has been created\n",
    "gcs_bucket_name = \"my-spark-iss-us-central1\"\n",
    "\n",
    "bucket = gcs_storage_client.bucket(gcs_bucket_name)\n",
    "for key,value in import_dict.items():\n",
    "    source_blob_name = value\n",
    "    destination_file_name = \"./\" + key + \".pkl\"\n",
    "    blob = bucket.blob(source_blob_name)\n",
    "    blob.download_to_filename(destination_file_name)"
   ]
  },
  {
   "cell_type": "code",
   "execution_count": 8,
   "metadata": {
    "tags": []
   },
   "outputs": [
    {
     "output_type": "stream",
     "name": "stdout",
     "text": "[0 1 2 3 4 5 6 7 8 9]\n[0 2 4 6 8]\n"
    }
   ],
   "source": [
    "# Load the object \n",
    "for key in import_dict:\n",
    "    with open(key + \".pkl\", \"rb\") as import_pkl:\n",
    "        import_dict[key] = pickle.load(import_pkl)\n",
    "\n",
    "# We are getting back the same object\n",
    "my_arr_1 = import_dict[\"my_arr_1\"]\n",
    "my_arr_2 = import_dict[\"my_arr_2\"]\n",
    "\n",
    "print(my_arr_1)\n",
    "print(my_arr_2)"
   ]
  },
  {
   "cell_type": "code",
   "execution_count": null,
   "metadata": {},
   "outputs": [],
   "source": []
  }
 ]
}