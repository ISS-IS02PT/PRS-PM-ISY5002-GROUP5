{
 "cells": [
  {
   "cell_type": "code",
   "execution_count": 1,
   "metadata": {},
   "outputs": [],
   "source": [
    "%load_ext autoreload\n",
    "%autoreload 2"
   ]
  },
  {
   "cell_type": "markdown",
   "metadata": {},
   "source": [
    "Imports"
   ]
  },
  {
   "cell_type": "code",
   "execution_count": 23,
   "metadata": {},
   "outputs": [],
   "source": [
    "import pandas as pd\n",
    "import numpy as np\n",
    "import matplotlib.pyplot as plt\n",
    "from xgboost import XGBRegressor\n",
    "from keras.callbacks import ModelCheckpoint\n",
    "from keras.models import Sequential\n",
    "from keras.layers import Dense, Activation, Dropout, BatchNormalization\n",
    "from sklearn.model_selection import train_test_split\n",
    "from sklearn.ensemble import RandomForestRegressor\n",
    "from sklearn.metrics import mean_absolute_error \n",
    "from sklearn.metrics import mean_squared_error\n",
    "import pickle\n",
    "import sys\n",
    "import seaborn as sns"
   ]
  },
  {
   "cell_type": "code",
   "execution_count": 3,
   "metadata": {},
   "outputs": [
    {
     "name": "stdout",
     "output_type": "stream",
     "text": [
      "d:\\Users\\mokky\\Documents\\GitHub\\nus-iss\\PRS-PM-ISY5002-GROUP5\\SystemCode\n"
     ]
    }
   ],
   "source": [
    "import os\n",
    "os.chdir('d:/Users/mokky/Documents/GitHub/nus-iss/PRS-PM-ISY5002-GROUP5/SystemCode')\n",
    "print(os.getcwd())"
   ]
  },
  {
   "cell_type": "code",
   "execution_count": 4,
   "metadata": {},
   "outputs": [],
   "source": [
    "from datapipeline_uc3 import Datapipeline"
   ]
  },
  {
   "cell_type": "code",
   "execution_count": 5,
   "metadata": {},
   "outputs": [],
   "source": [
    "# Function to show various error measurement\n",
    "def forecast_accuracy(forecast, actual):\n",
    "    mape = np.mean(np.abs(forecast - actual)/np.abs(actual))  # MAPE\n",
    "    me = np.mean(forecast - actual)             # ME\n",
    "    mae = np.mean(np.abs(forecast - actual))    # MAE\n",
    "    mpe = np.mean((forecast - actual)/actual)   # MPE\n",
    "    mse = np.mean((forecast - actual)**2)  # MSE\n",
    "    rmse = np.mean((forecast - actual)**2)**.5  # RMSE\n",
    "    mmape = np.mean(np.abs(forecast - actual) / np.abs(forecast)) # modified mape\n",
    "    #corr = np.corrcoef(forecast, actual)[0,1]   # corr\n",
    "    #mins = np.amin(np.hstack([forecast[:,None], \n",
    "    #                          actual[:,None]]), axis=1)\n",
    "    #maxs = np.amax(np.hstack([forecast[:,None], \n",
    "    #                          actual[:,None]]), axis=1)\n",
    "    #minmax = 1 - np.mean(mins/maxs)             # minmax\n",
    "    #acf1 = acf(fc-test)[1]                      # ACF1\n",
    "    #return({'mape':mape, 'me':me, 'mae': mae, \n",
    "    #        'mpe': mpe, 'rmse':rmse, 'acf1':acf1, \n",
    "    #        'corr':corr, 'minmax':minmax})\n",
    "    return({'mape':mape, 'me':me, 'mae': mae, \n",
    "            'mpe': mpe, 'mse':mse, 'rmse':rmse, 'mmape': mmape})"
   ]
  },
  {
   "cell_type": "code",
   "execution_count": 6,
   "metadata": {},
   "outputs": [],
   "source": [
    "dpl = Datapipeline()"
   ]
  },
  {
   "cell_type": "markdown",
   "metadata": {},
   "source": [
    "Read raw data from file"
   ]
  },
  {
   "cell_type": "code",
   "execution_count": 7,
   "metadata": {},
   "outputs": [],
   "source": [
    "dict_hosp_filepaths = {\n",
    "    'GHL': './Data Exploration/data/uc3/GHL_data_uc3.pkl',\n",
    "    'MEH': './Data Exploration/data/uc3/MEH_data_uc3.pkl',\n",
    "    'PEH': './Data Exploration/data/uc3/PEH_data_uc3.pkl',\n",
    "    'PNH': './Data Exploration/data/uc3/PNH_data_uc3.pkl'}"
   ]
  },
  {
   "cell_type": "code",
   "execution_count": 8,
   "metadata": {},
   "outputs": [
    {
     "name": "stdout",
     "output_type": "stream",
     "text": [
      "{'GHL': './Data Exploration/data/uc3/GHL_data_uc3.pkl', 'MEH': './Data Exploration/data/uc3/MEH_data_uc3.pkl', 'PNH': './Data Exploration/data/uc3/PNH_data_uc3.pkl', 'PEH': './Data Exploration/data/uc3/PEH_data_uc3.pkl'}\n"
     ]
    }
   ],
   "source": [
    "raw_data_path = './Data Exploration/data/uc3/BillEstimate.csv'\n",
    "dict_hosp_filepaths = dpl.transform_raw_data(raw_data_path, split_hosp=True)\n",
    "print(dict_hosp_filepaths)"
   ]
  },
  {
   "cell_type": "markdown",
   "metadata": {},
   "source": [
    "Creating a train and test dataset."
   ]
  },
  {
   "cell_type": "code",
   "execution_count": 10,
   "metadata": {},
   "outputs": [
    {
     "name": "stdout",
     "output_type": "stream",
     "text": [
      "Processing train X rows: 0 ~ 10000\n",
      "Processing train X rows: 10000 ~ 20000\n",
      "Processing test X rows: 0 ~ 10000\n",
      "Processing train X rows: 0 ~ 10000\n",
      "Processing train X rows: 10000 ~ 20000\n",
      "Processing test X rows: 0 ~ 10000\n",
      "Processing train X rows: 0 ~ 10000\n",
      "Processing train X rows: 10000 ~ 20000\n",
      "Processing test X rows: 0 ~ 10000\n",
      "Processing train X rows: 0 ~ 10000\n",
      "Processing test X rows: 0 ~ 10000\n",
      "{'GHL': ['./Data Exploration/data/uc3/GHL_data_uc3_X_train_0_uc3.pkl', './Data Exploration/data/uc3/GHL_data_uc3_X_train_1_uc3.pkl'], 'MEH': ['./Data Exploration/data/uc3/MEH_data_uc3_X_train_0_uc3.pkl', './Data Exploration/data/uc3/MEH_data_uc3_X_train_1_uc3.pkl'], 'PNH': ['./Data Exploration/data/uc3/PNH_data_uc3_X_train_0_uc3.pkl', './Data Exploration/data/uc3/PNH_data_uc3_X_train_1_uc3.pkl'], 'PEH': ['./Data Exploration/data/uc3/PEH_data_uc3_X_train_0_uc3.pkl']}\n",
      "{'GHL': './Data Exploration/data/uc3/GHL_data_uc3_y_train_uc3.pkl', 'MEH': './Data Exploration/data/uc3/MEH_data_uc3_y_train_uc3.pkl', 'PNH': './Data Exploration/data/uc3/PNH_data_uc3_y_train_uc3.pkl', 'PEH': './Data Exploration/data/uc3/PEH_data_uc3_y_train_uc3.pkl'}\n",
      "{'GHL': ['./Data Exploration/data/uc3/GHL_data_uc3_X_test_0_uc3.pkl'], 'MEH': ['./Data Exploration/data/uc3/MEH_data_uc3_X_test_0_uc3.pkl'], 'PNH': ['./Data Exploration/data/uc3/PNH_data_uc3_X_test_0_uc3.pkl'], 'PEH': ['./Data Exploration/data/uc3/PEH_data_uc3_X_test_0_uc3.pkl']}\n",
      "{'GHL': './Data Exploration/data/uc3/GHL_data_uc3_y_test_uc3.pkl', 'MEH': './Data Exploration/data/uc3/MEH_data_uc3_y_test_uc3.pkl', 'PNH': './Data Exploration/data/uc3/PNH_data_uc3_y_test_uc3.pkl', 'PEH': './Data Exploration/data/uc3/PEH_data_uc3_y_test_uc3.pkl'}\n"
     ]
    }
   ],
   "source": [
    "dict_X_train_file_paths = {}\n",
    "dict_y_train_file_paths = {}\n",
    "dict_X_test_file_paths = {}\n",
    "dict_y_test_file_paths = {}\n",
    "save_folder_path = None\n",
    "\n",
    "for hosp in dict_hosp_filepaths:\n",
    "    if save_folder_path is None:\n",
    "        save_folder_path = os.path.dirname(dict_hosp_filepaths[hosp])\n",
    "    X_train_file_paths, y_train_file_path, X_test_file_paths, y_test_file_path = dpl.transform_train_test_data(dict_hosp_filepaths[hosp])\n",
    "    dict_X_train_file_paths[hosp] = X_train_file_paths\n",
    "    dict_y_train_file_paths[hosp] = y_train_file_path\n",
    "    dict_X_test_file_paths[hosp] = X_test_file_paths\n",
    "    dict_y_test_file_paths[hosp] = y_test_file_path\n",
    "    \n",
    "print(dict_X_train_file_paths)\n",
    "print(dict_y_train_file_paths)\n",
    "print(dict_X_test_file_paths)\n",
    "print(dict_y_test_file_paths)"
   ]
  },
  {
   "cell_type": "code",
   "execution_count": 11,
   "metadata": {},
   "outputs": [
    {
     "name": "stdout",
     "output_type": "stream",
     "text": [
      "GHL\n",
      "(13922, 55393)\n",
      "(13922,)\n",
      "(4641, 55393)\n",
      "(4641,)\n",
      "MEH\n",
      "(16186, 55393)\n",
      "(16186,)\n",
      "(5395, 55393)\n",
      "(5395,)\n",
      "PNH\n",
      "(13763, 55393)\n",
      "(13763,)\n",
      "(4588, 55393)\n",
      "(4588,)\n",
      "PEH\n",
      "(3016, 55393)\n",
      "(3016,)\n",
      "(1006, 55393)\n",
      "(1006,)\n"
     ]
    }
   ],
   "source": [
    "dict_df_train_X = {}\n",
    "dict_df_train_y = {}\n",
    "dict_df_test_X = {}\n",
    "dict_df_test_y = {}\n",
    "for hosp in dict_X_train_file_paths:\n",
    "    print(hosp)\n",
    "    dict_df_train_X[hosp] = pd.concat([pd.read_pickle(X_train_file_path)\n",
    "                                       for X_train_file_path in dict_X_train_file_paths[hosp]])\n",
    "    print(dict_df_train_X[hosp].shape)\n",
    "    \n",
    "    if hosp in dict_y_train_file_paths:\n",
    "        dict_df_train_y[hosp] = pd.read_pickle(dict_y_train_file_paths[hosp])\n",
    "        print(dict_df_train_y[hosp].shape)\n",
    "        \n",
    "    if hosp in dict_X_test_file_paths:\n",
    "        dict_df_test_X[hosp] = pd.concat([pd.read_pickle(X_test_file_path)\n",
    "                                          for X_test_file_path in dict_X_test_file_paths[hosp]])\n",
    "        print(dict_df_test_X[hosp].shape)\n",
    "\n",
    "    if hosp in dict_y_test_file_paths:\n",
    "        dict_df_test_y[hosp] = pd.read_pickle(dict_y_test_file_paths[hosp])\n",
    "        print(dict_df_test_y[hosp].shape)"
   ]
  },
  {
   "cell_type": "markdown",
   "metadata": {},
   "source": [
    "Get feature importance from random forest regressor"
   ]
  },
  {
   "cell_type": "code",
   "execution_count": 12,
   "metadata": {},
   "outputs": [],
   "source": [
    "from sklearn.ensemble import RandomForestRegressor"
   ]
  },
  {
   "cell_type": "code",
   "execution_count": 15,
   "metadata": {},
   "outputs": [
    {
     "name": "stderr",
     "output_type": "stream",
     "text": [
      "[Parallel(n_jobs=2)]: Using backend ThreadingBackend with 2 concurrent workers.\n",
      "[Parallel(n_jobs=2)]: Done  46 tasks      | elapsed:  4.6min\n",
      "[Parallel(n_jobs=2)]: Done 100 out of 100 | elapsed: 10.6min finished\n"
     ]
    },
    {
     "name": "stdout",
     "output_type": "stream",
     "text": [
      "GHL 6599\n",
      "(13922, 6599)\n",
      "(4641, 6599)\n"
     ]
    },
    {
     "name": "stderr",
     "output_type": "stream",
     "text": [
      "[Parallel(n_jobs=2)]: Using backend ThreadingBackend with 2 concurrent workers.\n",
      "[Parallel(n_jobs=2)]: Done  46 tasks      | elapsed:  6.7min\n",
      "[Parallel(n_jobs=2)]: Done 100 out of 100 | elapsed: 14.5min finished\n"
     ]
    },
    {
     "name": "stdout",
     "output_type": "stream",
     "text": [
      "MEH 8337\n",
      "(16186, 8337)\n",
      "(5395, 8337)\n"
     ]
    },
    {
     "name": "stderr",
     "output_type": "stream",
     "text": [
      "[Parallel(n_jobs=2)]: Using backend ThreadingBackend with 2 concurrent workers.\n",
      "[Parallel(n_jobs=2)]: Done  46 tasks      | elapsed:  5.8min\n",
      "[Parallel(n_jobs=2)]: Done 100 out of 100 | elapsed: 12.6min finished\n"
     ]
    },
    {
     "name": "stdout",
     "output_type": "stream",
     "text": [
      "PNH 8092\n",
      "(13763, 8092)\n",
      "(4588, 8092)\n"
     ]
    },
    {
     "name": "stderr",
     "output_type": "stream",
     "text": [
      "[Parallel(n_jobs=2)]: Using backend ThreadingBackend with 2 concurrent workers.\n",
      "[Parallel(n_jobs=2)]: Done  46 tasks      | elapsed:   43.5s\n",
      "[Parallel(n_jobs=2)]: Done 100 out of 100 | elapsed:  1.6min finished\n"
     ]
    },
    {
     "name": "stdout",
     "output_type": "stream",
     "text": [
      "PEH 2727\n",
      "(3016, 2727)\n",
      "(1006, 2727)\n",
      "{'GHL': './Data Exploration/data/uc3/GHL_forest_model_uc3.pkl', 'MEH': './Data Exploration/data/uc3/MEH_forest_model_uc3.pkl', 'PNH': './Data Exploration/data/uc3/PNH_forest_model_uc3.pkl', 'PEH': './Data Exploration/data/uc3/PEH_forest_model_uc3.pkl'}\n"
     ]
    }
   ],
   "source": [
    "dict_forest_file_paths = {}\n",
    "dict_feat_impt_file_paths = {}\n",
    "dict_df_train_X_new = {}\n",
    "dict_df_test_X_new = {}\n",
    "dict_X_train_new_file_paths = {}\n",
    "dict_X_test_new_file_paths = {}\n",
    "for hosp in dict_df_train_X:\n",
    "    forest = RandomForestRegressor(random_state=42, verbose=1, n_jobs=2)\n",
    "    forest.fit(dict_df_train_X[hosp], dict_df_train_y[hosp])\n",
    "    \n",
    "    pkl_file_path = f'{save_folder_path}/{hosp}_forest_model_uc3.pkl'\n",
    "    with open(pkl_file_path, 'wb') as file:\n",
    "        pickle.dump(forest, file)\n",
    "    dict_forest_file_paths[hosp] = pkl_file_path\n",
    "    \n",
    "    print(hosp, sum(forest.feature_importances_ > 0.0))\n",
    "    feature_importance_file_path = f'{save_folder_path}/{hosp}_forest_feat_impt_uc3.npy'\n",
    "    np.save(feature_importance_file_path, forest.feature_importances_ > 0.0)\n",
    "    dict_feat_impt_file_paths[hosp] = feature_importance_file_path\n",
    "\n",
    "    dict_df_train_X_new[hosp] = dict_df_train_X[hosp].loc[:, forest.feature_importances_ > 0.0]\n",
    "    X_train_new_pkl_file_path = f'{save_folder_path}/{hosp}_new_train_X_uc3.pkl'\n",
    "    dict_df_train_X_new[hosp].to_pickle(X_train_new_pkl_file_path)\n",
    "    dict_X_train_new_file_paths[hosp] = X_train_new_pkl_file_path\n",
    "    print(dict_df_train_X_new[hosp].shape)\n",
    "\n",
    "    dict_df_test_X_new[hosp] = dict_df_test_X[hosp].loc[:, forest.feature_importances_ > 0.0]\n",
    "    X_test_new_pkl_file_path = f'{save_folder_path}/{hosp}_new_test_X_uc3.pkl'\n",
    "    dict_df_test_X_new[hosp].to_pickle(X_test_new_pkl_file_path)\n",
    "    dict_X_test_new_file_paths[hosp] = X_test_new_pkl_file_path\n",
    "    print(dict_df_test_X_new[hosp].shape)\n",
    "\n",
    "print(dict_forest_file_paths)"
   ]
  },
  {
   "cell_type": "markdown",
   "metadata": {},
   "source": [
    "Linear Regression"
   ]
  },
  {
   "cell_type": "code",
   "execution_count": 16,
   "metadata": {},
   "outputs": [],
   "source": [
    "from sklearn.linear_model import LinearRegression"
   ]
  },
  {
   "cell_type": "code",
   "execution_count": 20,
   "metadata": {},
   "outputs": [
    {
     "name": "stderr",
     "output_type": "stream",
     "text": [
      "C:\\ProgramData\\Anaconda3\\envs\\prpms\\lib\\site-packages\\seaborn\\_decorators.py:43: FutureWarning: Pass the following variables as keyword args: x, y. From version 0.12, the only valid positional argument will be `data`, and passing other arguments without an explicit keyword will result in an error or misinterpretation.\n",
      "  FutureWarning\n"
     ]
    },
    {
     "data": {
      "image/png": "[encoded data removed]",
      "text/plain": [
       "<Figure size 432x288 with 1 Axes>"
      ]
     },
     "metadata": {
      "needs_background": "light"
     },
     "output_type": "display_data"
    },
    {
     "name": "stdout",
     "output_type": "stream",
     "text": [
      "Mean squared error: 14607047271738101848615157760.00\n",
      "Root Mean squared error: 120859618035711.59\n",
      "Mean absolute error: 20762742157130.07\n",
      "{'mape': 5185773534.864889, 'me': 1322107689883.3716, 'mae': 20762742157130.074, 'mpe': -742067647.9514546, 'mse': 1.4607047271738102e+28, 'rmse': 120859618035711.6, 'mmape': 1.4294441145753567}\n"
     ]
    },
    {
     "name": "stderr",
     "output_type": "stream",
     "text": [
      "C:\\ProgramData\\Anaconda3\\envs\\prpms\\lib\\site-packages\\seaborn\\_decorators.py:43: FutureWarning: Pass the following variables as keyword args: x, y. From version 0.12, the only valid positional argument will be `data`, and passing other arguments without an explicit keyword will result in an error or misinterpretation.\n",
      "  FutureWarning\n"
     ]
    },
    {
     "data": {
      "image/png": "[encoded data removed]",
      "text/plain": [
       "<Figure size 432x288 with 1 Axes>"
      ]
     },
     "metadata": {
      "needs_background": "light"
     },
     "output_type": "display_data"
    },
    {
     "name": "stdout",
     "output_type": "stream",
     "text": [
      "Mean squared error: 1945352185989833309384733622272.00\n",
      "Root Mean squared error: 1394758827177599.75\n",
      "Mean absolute error: 193476928985404.12\n",
      "{'mape': 47492624130.12991, 'me': 13844138321505.064, 'mae': 193476928985404.12, 'mpe': 4764564436.069259, 'mse': 1.9453521859898333e+30, 'rmse': 1394758827177599.8, 'mmape': 1.8857820795992941}\n"
     ]
    },
    {
     "name": "stderr",
     "output_type": "stream",
     "text": [
      "C:\\ProgramData\\Anaconda3\\envs\\prpms\\lib\\site-packages\\seaborn\\_decorators.py:43: FutureWarning: Pass the following variables as keyword args: x, y. From version 0.12, the only valid positional argument will be `data`, and passing other arguments without an explicit keyword will result in an error or misinterpretation.\n",
      "  FutureWarning\n"
     ]
    },
    {
     "data": {
      "image/png": "[encoded data removed]",
      "text/plain": [
       "<Figure size 432x288 with 1 Axes>"
      ]
     },
     "metadata": {
      "needs_background": "light"
     },
     "output_type": "display_data"
    },
    {
     "name": "stdout",
     "output_type": "stream",
     "text": [
      "Mean squared error: 524837616828148235833966592.00\n",
      "Root Mean squared error: 22909334709418.09\n",
      "Mean absolute error: 3072558189851.35\n",
      "{'mape': 629821833.6748083, 'me': -45621536265.35258, 'mae': 3072558189851.3496, 'mpe': -31634717.544853814, 'mse': 5.2483761682814824e+26, 'rmse': 22909334709418.086, 'mmape': 1.3173377645418416}\n"
     ]
    },
    {
     "name": "stderr",
     "output_type": "stream",
     "text": [
      "C:\\ProgramData\\Anaconda3\\envs\\prpms\\lib\\site-packages\\seaborn\\_decorators.py:43: FutureWarning: Pass the following variables as keyword args: x, y. From version 0.12, the only valid positional argument will be `data`, and passing other arguments without an explicit keyword will result in an error or misinterpretation.\n",
      "  FutureWarning\n"
     ]
    },
    {
     "data": {
      "image/png": "[encoded data removed]",
      "text/plain": [
       "<Figure size 432x288 with 1 Axes>"
      ]
     },
     "metadata": {
      "needs_background": "light"
     },
     "output_type": "display_data"
    },
    {
     "name": "stdout",
     "output_type": "stream",
     "text": [
      "Mean squared error: 16428586716148742072827904.00\n",
      "Root Mean squared error: 4053219302745.50\n",
      "Mean absolute error: 812012013440.36\n",
      "{'mape': 257628076.74918687, 'me': -43834917398.95521, 'mae': 812012013440.3643, 'mpe': 16490744.830694312, 'mse': 1.6428586716148742e+25, 'rmse': 4053219302745.503, 'mmape': 1.515013978943016}\n"
     ]
    }
   ],
   "source": [
    "for hosp in dict_df_train_X_new:\n",
    "    model = LinearRegression(n_jobs=2)\n",
    "    model.fit(dict_df_train_X_new[hosp], dict_df_train_y[hosp])\n",
    "\n",
    "    # save model to file\n",
    "    pickle.dump(model, open(f'{save_folder_path}/{hosp}_uc3_linreg_model_pkl.sav', 'wb'))\n",
    "    \n",
    "    y_pred = model.predict(dict_df_test_X_new[hosp])\n",
    "    sns.regplot(dict_df_test_y[hosp],y_pred).set_title(f'{hosp} linear regression')\n",
    "    plt.show()\n",
    "    \n",
    "    # MSE\n",
    "    print('Mean squared error: %.2f'\n",
    "          % mean_squared_error(dict_df_test_y[hosp],y_pred, squared=True))\n",
    "\n",
    "    # RMSE\n",
    "    print('Root Mean squared error: %.2f'\n",
    "          % mean_squared_error(dict_df_test_y[hosp],y_pred, squared=False))\n",
    "\n",
    "    # MAE\n",
    "    print('Mean absolute error: %.2f'\n",
    "          % mean_absolute_error(dict_df_test_y[hosp],y_pred))\n",
    "    \n",
    "    print(forecast_accuracy(y_pred, dict_df_test_y[hosp]))"
   ]
  },
  {
   "cell_type": "markdown",
   "metadata": {},
   "source": [
    "Neural Networks ( Sequential )"
   ]
  },
  {
   "cell_type": "code",
   "execution_count": null,
   "metadata": {},
   "outputs": [],
   "source": [
    "n_hid_nodes = 4096\n",
    "dropout_rate = 0.2\n",
    "rand_seed = 42\n",
    "kernel_init = 'he_normal'\n",
    "hid_act = 'relu'\n",
    "n_layers = 2\n",
    "epoch=100"
   ]
  },
  {
   "cell_type": "code",
   "execution_count": null,
   "metadata": {},
   "outputs": [],
   "source": [
    "for hosp in dict_df_train_X_new:\n",
    "    NN_model = Sequential(name=f'{hosp}_{n_layers+1}layers_{n_hid_nodes}_nodes')\n",
    "    NN_model.add(Dense(n_hid_nodes,\n",
    "                       kernel_initializer=kernel_init,\n",
    "                       input_dim = dict_df_train_X_new[hosp].shape[1], \n",
    "                       activation=hid_act))\n",
    "    NN_model.add(Dropout(dropout_rate,\n",
    "                         seed=rand_seed))\n",
    "    for i in range(n_layers):\n",
    "        NN_model.add(Dense(n_hid_nodes, kernel_initializer=kernel_init))\n",
    "        NN_model.add(BatchNormalization())\n",
    "        NN_model.add(Activation(hid_act))\n",
    "        NN_model.add(Dropout(dropout_rate, seed=rand_seed))\n",
    "        \n",
    "    NN_model.add(Dense(1, kernel_initializer=kernel_init,activation='linear'))\n",
    "    \n",
    "    NN_model.compile(loss='mean_absolute_error', optimizer='adam', metrics=['mean_absolute_error'])\n",
    "    print(NN_model.summary())\n",
    "    \n",
    "    checkpoint_name = f'{hosp}_NN2_Weights-{epoch:03d}--{val_loss:.5f}.hdf5' \n",
    "    checkpoint = ModelCheckpoint(checkpoint_name, monitor='val_loss', verbose = 1, save_best_only = True, mode ='auto')\n",
    "    es = EarlyStopping(monitor='val_loss', mode='min', verbose=1, patience=10)\n",
    "    callbacks_list = [es, checkpoint]\n",
    "    \n",
    "    NN_model.fit(dict_df_train_X_new[hosp], dict_df_train_y[hosp],\n",
    "                 epochs=100, batch_size=128, validation_split = 0.2,\n",
    "                 callbacks=callbacks_list)\n",
    "\n",
    "    # save model to file\n",
    "    NN_model.save(f'{save_folder_path}/{hosp}_uc3_NN2_model.h5')\n",
    "    \n",
    "    predictions = NN_model.predict(dict_df_test_X_new[hosp])\n",
    "    \n",
    "    sns.regplot(x=dict_df_test_y[hosp], y=predictions).set_title(NN_model.name)\n",
    "    plt.show()\n",
    "    \n",
    "    # MSE\n",
    "    print('Mean squared error: %.2f'\n",
    "          % mean_squared_error(dict_df_test_y[hosp],predictions, squared=True))\n",
    "\n",
    "    # RMSE\n",
    "    print('Root Mean squared error: %.2f'\n",
    "          % mean_squared_error(dict_df_test_y[hosp],predictions, squared=False))\n",
    "\n",
    "    # MAE\n",
    "    print('Mean absolute error: %.2f'\n",
    "          % mean_absolute_error(dict_df_test_y[hosp],predictions))\n",
    "    \n",
    "    print(forecast_accuracy(predictions.reshape((-1,)), dict_df_test_y[hosp]))"
   ]
  },
  {
   "cell_type": "markdown",
   "metadata": {},
   "source": [
    "Random forest"
   ]
  },
  {
   "cell_type": "code",
   "execution_count": 25,
   "metadata": {
    "scrolled": true
   },
   "outputs": [
    {
     "name": "stderr",
     "output_type": "stream",
     "text": [
      "[Parallel(n_jobs=2)]: Using backend ThreadingBackend with 2 concurrent workers.\n",
      "[Parallel(n_jobs=2)]: Done  46 tasks      | elapsed:  3.5min\n",
      "[Parallel(n_jobs=2)]: Done 100 out of 100 | elapsed:  8.0min finished\n",
      "[Parallel(n_jobs=2)]: Using backend ThreadingBackend with 2 concurrent workers.\n",
      "[Parallel(n_jobs=2)]: Done  46 tasks      | elapsed:    0.0s\n",
      "[Parallel(n_jobs=2)]: Done 100 out of 100 | elapsed:    0.2s finished\n",
      "C:\\ProgramData\\Anaconda3\\envs\\prpms\\lib\\site-packages\\seaborn\\_decorators.py:43: FutureWarning: Pass the following variables as keyword args: x, y. From version 0.12, the only valid positional argument will be `data`, and passing other arguments without an explicit keyword will result in an error or misinterpretation.\n",
      "  FutureWarning\n"
     ]
    },
    {
     "data": {
      "image/png": "[encoded data removed]",
      "text/plain": [
       "<Figure size 432x288 with 1 Axes>"
      ]
     },
     "metadata": {
      "needs_background": "light"
     },
     "output_type": "display_data"
    },
    {
     "name": "stdout",
     "output_type": "stream",
     "text": [
      "Mean squared error: 90306199.45\n",
      "Root Mean squared error: 9502.96\n",
      "Mean absolute error: 1957.23\n",
      "{'mape': 0.3129581771248545, 'me': -536.5070705125637, 'mae': 1957.2345707564564, 'mpe': 0.09387623717255378, 'mse': 90306199.44521524, 'rmse': 9502.95740520893, 'mmape': 0.3024455103435458}\n"
     ]
    },
    {
     "name": "stderr",
     "output_type": "stream",
     "text": [
      "[Parallel(n_jobs=2)]: Using backend ThreadingBackend with 2 concurrent workers.\n",
      "[Parallel(n_jobs=2)]: Done  46 tasks      | elapsed:  7.5min\n",
      "[Parallel(n_jobs=2)]: Done 100 out of 100 | elapsed: 16.4min finished\n",
      "[Parallel(n_jobs=2)]: Using backend ThreadingBackend with 2 concurrent workers.\n",
      "[Parallel(n_jobs=2)]: Done  46 tasks      | elapsed:    0.1s\n",
      "[Parallel(n_jobs=2)]: Done 100 out of 100 | elapsed:    0.3s finished\n",
      "C:\\ProgramData\\Anaconda3\\envs\\prpms\\lib\\site-packages\\seaborn\\_decorators.py:43: FutureWarning: Pass the following variables as keyword args: x, y. From version 0.12, the only valid positional argument will be `data`, and passing other arguments without an explicit keyword will result in an error or misinterpretation.\n",
      "  FutureWarning\n"
     ]
    },
    {
     "data": {
      "image/png": "[encoded data removed]",
      "text/plain": [
       "<Figure size 432x288 with 1 Axes>"
      ]
     },
     "metadata": {
      "needs_background": "light"
     },
     "output_type": "display_data"
    },
    {
     "name": "stdout",
     "output_type": "stream",
     "text": [
      "Mean squared error: 26931022.62\n",
      "Root Mean squared error: 5189.51\n",
      "Mean absolute error: 2170.91\n",
      "{'mape': 0.33415164260101193, 'me': -450.37842199465257, 'mae': 2170.9122063677346, 'mpe': 0.11080041655822871, 'mse': 26931022.617666107, 'rmse': 5189.510826433076, 'mmape': 0.3172748773179964}\n"
     ]
    },
    {
     "name": "stderr",
     "output_type": "stream",
     "text": [
      "[Parallel(n_jobs=2)]: Using backend ThreadingBackend with 2 concurrent workers.\n",
      "[Parallel(n_jobs=2)]: Done  46 tasks      | elapsed:  6.3min\n",
      "[Parallel(n_jobs=2)]: Done 100 out of 100 | elapsed: 14.1min finished\n",
      "[Parallel(n_jobs=2)]: Using backend ThreadingBackend with 2 concurrent workers.\n",
      "[Parallel(n_jobs=2)]: Done  46 tasks      | elapsed:    0.1s\n",
      "[Parallel(n_jobs=2)]: Done 100 out of 100 | elapsed:    0.2s finished\n",
      "C:\\ProgramData\\Anaconda3\\envs\\prpms\\lib\\site-packages\\seaborn\\_decorators.py:43: FutureWarning: Pass the following variables as keyword args: x, y. From version 0.12, the only valid positional argument will be `data`, and passing other arguments without an explicit keyword will result in an error or misinterpretation.\n",
      "  FutureWarning\n"
     ]
    },
    {
     "data": {
      "image/png": "[encoded data removed]",
      "text/plain": [
       "<Figure size 432x288 with 1 Axes>"
      ]
     },
     "metadata": {
      "needs_background": "light"
     },
     "output_type": "display_data"
    },
    {
     "name": "stdout",
     "output_type": "stream",
     "text": [
      "Mean squared error: 858300412.95\n",
      "Root Mean squared error: 29296.76\n",
      "Mean absolute error: 2680.71\n",
      "{'mape': 0.3438357675434181, 'me': -819.0324886919198, 'mae': 2680.711351418305, 'mpe': 0.11903880495544382, 'mse': 858300412.9460866, 'rmse': 29296.764547405004, 'mmape': 0.3142965500484379}\n"
     ]
    },
    {
     "name": "stderr",
     "output_type": "stream",
     "text": [
      "[Parallel(n_jobs=2)]: Using backend ThreadingBackend with 2 concurrent workers.\n",
      "[Parallel(n_jobs=2)]: Done  46 tasks      | elapsed:   16.2s\n",
      "[Parallel(n_jobs=2)]: Done 100 out of 100 | elapsed:   34.5s finished\n",
      "[Parallel(n_jobs=2)]: Using backend ThreadingBackend with 2 concurrent workers.\n",
      "[Parallel(n_jobs=2)]: Done  46 tasks      | elapsed:    0.0s\n",
      "[Parallel(n_jobs=2)]: Done 100 out of 100 | elapsed:    0.0s finished\n",
      "C:\\ProgramData\\Anaconda3\\envs\\prpms\\lib\\site-packages\\seaborn\\_decorators.py:43: FutureWarning: Pass the following variables as keyword args: x, y. From version 0.12, the only valid positional argument will be `data`, and passing other arguments without an explicit keyword will result in an error or misinterpretation.\n",
      "  FutureWarning\n"
     ]
    },
    {
     "data": {
      "image/png": "[encoded data removed]",
      "text/plain": [
       "<Figure size 432x288 with 1 Axes>"
      ]
     },
     "metadata": {
      "needs_background": "light"
     },
     "output_type": "display_data"
    },
    {
     "name": "stdout",
     "output_type": "stream",
     "text": [
      "Mean squared error: 5323939.07\n",
      "Root Mean squared error: 2307.37\n",
      "Mean absolute error: 1392.19\n",
      "{'mape': 0.3299286898775644, 'me': -349.1789907670645, 'mae': 1392.1939147564613, 'mpe': 0.08212525599227384, 'mse': 5323939.070279472, 'rmse': 2307.366262707217, 'mmape': 0.32477022569259084}\n"
     ]
    }
   ],
   "source": [
    "for hosp in dict_df_train_X_new:\n",
    "    model = RandomForestRegressor(random_state=42, verbose=1, n_jobs=2)\n",
    "    model.fit(dict_df_train_X_new[hosp],dict_df_train_y[hosp])\n",
    "\n",
    "    # save model to file\n",
    "    pickle.dump(model, open(f'{save_folder_path}/{hosp}_uc3_rfreg_model_pkl.sav', 'wb'))\n",
    "    \n",
    "    predicted_forest = model.predict(dict_df_test_X_new[hosp])\n",
    "    \n",
    "    sns.regplot(dict_df_test_y[hosp],predicted_forest).set_title(f'{hosp} random forest')\n",
    "    plt.show()\n",
    "    \n",
    "    # MSE\n",
    "    print('Mean squared error: %.2f'\n",
    "          % mean_squared_error(dict_df_test_y[hosp],predicted_forest, squared=True))\n",
    "\n",
    "    # RMSE\n",
    "    print('Root Mean squared error: %.2f'\n",
    "          % mean_squared_error(dict_df_test_y[hosp],predicted_forest, squared=False))\n",
    "\n",
    "    # MAE\n",
    "    print('Mean absolute error: %.2f'\n",
    "          % mean_absolute_error(dict_df_test_y[hosp],predicted_forest))\n",
    "    \n",
    "    print(forecast_accuracy(predicted_forest, dict_df_test_y[hosp]))"
   ]
  },
  {
   "cell_type": "markdown",
   "metadata": {},
   "source": [
    "XG Boost"
   ]
  },
  {
   "cell_type": "code",
   "execution_count": 26,
   "metadata": {},
   "outputs": [
    {
     "ename": "ValueError",
     "evalue": "('Expecting 2 dimensional numpy.ndarray, got: ', (4641,))",
     "output_type": "error",
     "traceback": [
      "\u001b[1;31m---------------------------------------------------------------------------\u001b[0m",
      "\u001b[1;31mValueError\u001b[0m                                Traceback (most recent call last)",
      "\u001b[1;32m<ipython-input-26-d9f85763613a>\u001b[0m in \u001b[0;36m<module>\u001b[1;34m()\u001b[0m\n\u001b[0;32m      6\u001b[0m     \u001b[0mpickle\u001b[0m\u001b[1;33m.\u001b[0m\u001b[0mdump\u001b[0m\u001b[1;33m(\u001b[0m\u001b[0mmodel\u001b[0m\u001b[1;33m,\u001b[0m \u001b[0mopen\u001b[0m\u001b[1;33m(\u001b[0m\u001b[1;34mf'{save_folder_path}/{hosp}_uc3_xgbreg_model_pkl.sav'\u001b[0m\u001b[1;33m,\u001b[0m \u001b[1;34m'wb'\u001b[0m\u001b[1;33m)\u001b[0m\u001b[1;33m)\u001b[0m\u001b[1;33m\u001b[0m\u001b[1;33m\u001b[0m\u001b[0m\n\u001b[0;32m      7\u001b[0m \u001b[1;33m\u001b[0m\u001b[0m\n\u001b[1;32m----> 8\u001b[1;33m     \u001b[0mXGBpredictions\u001b[0m \u001b[1;33m=\u001b[0m \u001b[0mXGBModel\u001b[0m\u001b[1;33m.\u001b[0m\u001b[0mpredict\u001b[0m\u001b[1;33m(\u001b[0m\u001b[0mdict_df_test_y\u001b[0m\u001b[1;33m[\u001b[0m\u001b[0mhosp\u001b[0m\u001b[1;33m]\u001b[0m\u001b[1;33m)\u001b[0m\u001b[1;33m\u001b[0m\u001b[1;33m\u001b[0m\u001b[0m\n\u001b[0m\u001b[0;32m      9\u001b[0m \u001b[1;33m\u001b[0m\u001b[0m\n\u001b[0;32m     10\u001b[0m     \u001b[0msns\u001b[0m\u001b[1;33m.\u001b[0m\u001b[0mregplot\u001b[0m\u001b[1;33m(\u001b[0m\u001b[0mdict_df_test_y\u001b[0m\u001b[1;33m[\u001b[0m\u001b[0mhosp\u001b[0m\u001b[1;33m]\u001b[0m\u001b[1;33m,\u001b[0m\u001b[0mXGBpredictions\u001b[0m\u001b[1;33m)\u001b[0m\u001b[1;33m.\u001b[0m\u001b[0mset_title\u001b[0m\u001b[1;33m(\u001b[0m\u001b[1;34mf'{hosp} xg boost'\u001b[0m\u001b[1;33m)\u001b[0m\u001b[1;33m\u001b[0m\u001b[1;33m\u001b[0m\u001b[0m\n",
      "\u001b[1;32mC:\\ProgramData\\Anaconda3\\envs\\prpms\\lib\\site-packages\\xgboost\\sklearn.py\u001b[0m in \u001b[0;36mpredict\u001b[1;34m(self, data, output_margin, ntree_limit, validate_features, base_margin)\u001b[0m\n\u001b[0;32m    594\u001b[0m         \u001b[1;31m# pylint: disable=missing-docstring,invalid-name\u001b[0m\u001b[1;33m\u001b[0m\u001b[1;33m\u001b[0m\u001b[1;33m\u001b[0m\u001b[0m\n\u001b[0;32m    595\u001b[0m         test_dmatrix = DMatrix(data, base_margin=base_margin,\n\u001b[1;32m--> 596\u001b[1;33m                                missing=self.missing, nthread=self.n_jobs)\n\u001b[0m\u001b[0;32m    597\u001b[0m         \u001b[1;31m# get ntree_limit to use - if none specified, default to\u001b[0m\u001b[1;33m\u001b[0m\u001b[1;33m\u001b[0m\u001b[1;33m\u001b[0m\u001b[0m\n\u001b[0;32m    598\u001b[0m         \u001b[1;31m# best_ntree_limit if defined, otherwise 0.\u001b[0m\u001b[1;33m\u001b[0m\u001b[1;33m\u001b[0m\u001b[1;33m\u001b[0m\u001b[0m\n",
      "\u001b[1;32mC:\\ProgramData\\Anaconda3\\envs\\prpms\\lib\\site-packages\\xgboost\\core.py\u001b[0m in \u001b[0;36m__init__\u001b[1;34m(self, data, label, weight, base_margin, missing, silent, feature_names, feature_types, nthread)\u001b[0m\n\u001b[0;32m    436\u001b[0m             \u001b[0mthreads\u001b[0m\u001b[1;33m=\u001b[0m\u001b[0mself\u001b[0m\u001b[1;33m.\u001b[0m\u001b[0mnthread\u001b[0m\u001b[1;33m,\u001b[0m\u001b[1;33m\u001b[0m\u001b[1;33m\u001b[0m\u001b[0m\n\u001b[0;32m    437\u001b[0m             \u001b[0mfeature_names\u001b[0m\u001b[1;33m=\u001b[0m\u001b[0mfeature_names\u001b[0m\u001b[1;33m,\u001b[0m\u001b[1;33m\u001b[0m\u001b[1;33m\u001b[0m\u001b[0m\n\u001b[1;32m--> 438\u001b[1;33m             feature_types=feature_types)\n\u001b[0m\u001b[0;32m    439\u001b[0m         \u001b[1;32massert\u001b[0m \u001b[0mhandle\u001b[0m \u001b[1;32mis\u001b[0m \u001b[1;32mnot\u001b[0m \u001b[1;32mNone\u001b[0m\u001b[1;33m\u001b[0m\u001b[1;33m\u001b[0m\u001b[0m\n\u001b[0;32m    440\u001b[0m         \u001b[0mself\u001b[0m\u001b[1;33m.\u001b[0m\u001b[0mhandle\u001b[0m \u001b[1;33m=\u001b[0m \u001b[0mhandle\u001b[0m\u001b[1;33m\u001b[0m\u001b[1;33m\u001b[0m\u001b[0m\n",
      "\u001b[1;32mC:\\ProgramData\\Anaconda3\\envs\\prpms\\lib\\site-packages\\xgboost\\data.py\u001b[0m in \u001b[0;36mdispatch_data_backend\u001b[1;34m(data, missing, threads, feature_names, feature_types)\u001b[0m\n\u001b[0;32m    505\u001b[0m     \u001b[1;32mif\u001b[0m \u001b[0m_is_pandas_series\u001b[0m\u001b[1;33m(\u001b[0m\u001b[0mdata\u001b[0m\u001b[1;33m)\u001b[0m\u001b[1;33m:\u001b[0m\u001b[1;33m\u001b[0m\u001b[1;33m\u001b[0m\u001b[0m\n\u001b[0;32m    506\u001b[0m         return _from_pandas_series(data, missing, threads, feature_names,\n\u001b[1;32m--> 507\u001b[1;33m                                    feature_types)\n\u001b[0m\u001b[0;32m    508\u001b[0m     \u001b[1;32mif\u001b[0m \u001b[0m_is_cudf_df\u001b[0m\u001b[1;33m(\u001b[0m\u001b[0mdata\u001b[0m\u001b[1;33m)\u001b[0m\u001b[1;33m:\u001b[0m\u001b[1;33m\u001b[0m\u001b[1;33m\u001b[0m\u001b[0m\n\u001b[0;32m    509\u001b[0m         return _from_cudf_df(data, missing, threads, feature_names,\n",
      "\u001b[1;32mC:\\ProgramData\\Anaconda3\\envs\\prpms\\lib\\site-packages\\xgboost\\data.py\u001b[0m in \u001b[0;36m_from_pandas_series\u001b[1;34m(data, missing, nthread, feature_types, feature_names)\u001b[0m\n\u001b[0;32m    232\u001b[0m \u001b[1;32mdef\u001b[0m \u001b[0m_from_pandas_series\u001b[0m\u001b[1;33m(\u001b[0m\u001b[0mdata\u001b[0m\u001b[1;33m,\u001b[0m \u001b[0mmissing\u001b[0m\u001b[1;33m,\u001b[0m \u001b[0mnthread\u001b[0m\u001b[1;33m,\u001b[0m \u001b[0mfeature_types\u001b[0m\u001b[1;33m,\u001b[0m \u001b[0mfeature_names\u001b[0m\u001b[1;33m)\u001b[0m\u001b[1;33m:\u001b[0m\u001b[1;33m\u001b[0m\u001b[1;33m\u001b[0m\u001b[0m\n\u001b[0;32m    233\u001b[0m     return _from_numpy_array(data.values.astype('float'), missing, nthread,\n\u001b[1;32m--> 234\u001b[1;33m                              feature_names, feature_types)\n\u001b[0m\u001b[0;32m    235\u001b[0m \u001b[1;33m\u001b[0m\u001b[0m\n\u001b[0;32m    236\u001b[0m \u001b[1;33m\u001b[0m\u001b[0m\n",
      "\u001b[1;32mC:\\ProgramData\\Anaconda3\\envs\\prpms\\lib\\site-packages\\xgboost\\data.py\u001b[0m in \u001b[0;36m_from_numpy_array\u001b[1;34m(data, missing, nthread, feature_names, feature_types)\u001b[0m\n\u001b[0;32m    133\u001b[0m \u001b[1;33m\u001b[0m\u001b[0m\n\u001b[0;32m    134\u001b[0m     \"\"\"\n\u001b[1;32m--> 135\u001b[1;33m     \u001b[0mflatten\u001b[0m \u001b[1;33m=\u001b[0m \u001b[0m_transform_np_array\u001b[0m\u001b[1;33m(\u001b[0m\u001b[0mdata\u001b[0m\u001b[1;33m)\u001b[0m\u001b[1;33m\u001b[0m\u001b[1;33m\u001b[0m\u001b[0m\n\u001b[0m\u001b[0;32m    136\u001b[0m     \u001b[0mhandle\u001b[0m \u001b[1;33m=\u001b[0m \u001b[0mctypes\u001b[0m\u001b[1;33m.\u001b[0m\u001b[0mc_void_p\u001b[0m\u001b[1;33m(\u001b[0m\u001b[1;33m)\u001b[0m\u001b[1;33m\u001b[0m\u001b[1;33m\u001b[0m\u001b[0m\n\u001b[0;32m    137\u001b[0m     _check_call(_LIB.XGDMatrixCreateFromMat_omp(\n",
      "\u001b[1;32mC:\\ProgramData\\Anaconda3\\envs\\prpms\\lib\\site-packages\\xgboost\\data.py\u001b[0m in \u001b[0;36m_transform_np_array\u001b[1;34m(data)\u001b[0m\n\u001b[0;32m    109\u001b[0m     \u001b[1;32mif\u001b[0m \u001b[0mlen\u001b[0m\u001b[1;33m(\u001b[0m\u001b[0mdata\u001b[0m\u001b[1;33m.\u001b[0m\u001b[0mshape\u001b[0m\u001b[1;33m)\u001b[0m \u001b[1;33m!=\u001b[0m \u001b[1;36m2\u001b[0m\u001b[1;33m:\u001b[0m\u001b[1;33m\u001b[0m\u001b[1;33m\u001b[0m\u001b[0m\n\u001b[0;32m    110\u001b[0m         raise ValueError('Expecting 2 dimensional numpy.ndarray, got: ',\n\u001b[1;32m--> 111\u001b[1;33m                          data.shape)\n\u001b[0m\u001b[0;32m    112\u001b[0m     \u001b[1;31m# flatten the array by rows and ensure it is float32.  we try to avoid\u001b[0m\u001b[1;33m\u001b[0m\u001b[1;33m\u001b[0m\u001b[1;33m\u001b[0m\u001b[0m\n\u001b[0;32m    113\u001b[0m     \u001b[1;31m# data copies if possible (reshape returns a view when possible and we\u001b[0m\u001b[1;33m\u001b[0m\u001b[1;33m\u001b[0m\u001b[1;33m\u001b[0m\u001b[0m\n",
      "\u001b[1;31mValueError\u001b[0m: ('Expecting 2 dimensional numpy.ndarray, got: ', (4641,))"
     ]
    }
   ],
   "source": [
    "for hosp in dict_df_train_X_new:\n",
    "    XGBModel = XGBRegressor(random_state=42, verbosity=1, n_jobs=2)\n",
    "    XGBModel.fit(dict_df_train_X_new[hosp],dict_df_train_y[hosp] , verbose=True)\n",
    "\n",
    "    # save model to file\n",
    "    pickle.dump(model, open(f'{save_folder_path}/{hosp}_uc3_xgbreg_model_pkl.sav', 'wb'))\n",
    "    \n",
    "    XGBpredictions = XGBModel.predict(dict_df_test_y[hosp])\n",
    "    \n",
    "    sns.regplot(dict_df_test_y[hosp],XGBpredictions).set_title(f'{hosp} xg boost')\n",
    "    plt.show()\n",
    "    \n",
    "    # MSE\n",
    "    print('Mean squared error: %.2f'\n",
    "          % mean_squared_error(dict_df_test_y[hosp],XGBpredictions, squared=True))\n",
    "\n",
    "    # RMSE\n",
    "    print('Root Mean squared error: %.2f'\n",
    "          % mean_squared_error(dict_df_test_y[hosp],XGBpredictions, squared=False))\n",
    "\n",
    "    # MAE\n",
    "    print('Mean absolute error: %.2f'\n",
    "          % mean_absolute_error(dict_df_test_y[hosp],XGBpredictions))\n",
    "    \n",
    "    print(forecast_accuracy(XGBpredictions, dict_df_test_y[hosp]))"
   ]
  },
  {
   "cell_type": "code",
   "execution_count": null,
   "metadata": {},
   "outputs": [],
   "source": []
  }
 ],
 "metadata": {
  "kernelspec": {
   "display_name": "Python 3",
   "language": "python",
   "name": "python3"
  },
  "language_info": {
   "codemirror_mode": {
    "name": "ipython",
    "version": 3
   },
   "file_extension": ".py",
   "mimetype": "text/x-python",
   "name": "python",
   "nbconvert_exporter": "python",
   "pygments_lexer": "ipython3",
   "version": "3.7.8"
  }
 },
 "nbformat": 4,
 "nbformat_minor": 4
}
