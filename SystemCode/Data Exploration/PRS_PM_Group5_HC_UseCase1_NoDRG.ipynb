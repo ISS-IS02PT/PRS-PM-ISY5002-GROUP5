{
 "cells": [
  {
   "cell_type": "markdown",
   "metadata": {},
   "source": [
    "# Parkway Project Use Case 1: Write Off Cases Prediction"
   ]
  },
  {
   "cell_type": "markdown",
   "metadata": {},
   "source": [
    "## DATA PREPARATION"
   ]
  },
  {
   "cell_type": "markdown",
   "metadata": {},
   "source": [
    "### Load Data"
   ]
  },
  {
   "cell_type": "markdown",
   "metadata": {},
   "source": [
    "#### Import packages"
   ]
  },
  {
   "cell_type": "code",
   "execution_count": 1,
   "metadata": {},
   "outputs": [],
   "source": [
    "import pandas as pd\n",
    "import numpy as np\n",
    "import seaborn as sns\n",
    "import matplotlib.pyplot as plt\n",
    "%matplotlib inline\n",
    "pd.set_option('display.max_rows', 500)\n",
    "import warnings\n",
    "warnings.filterwarnings(action='once')"
   ]
  },
  {
   "cell_type": "markdown",
   "metadata": {},
   "source": [
    "#### Read data from file"
   ]
  },
  {
   "cell_type": "code",
   "execution_count": 2,
   "metadata": {},
   "outputs": [
    {
     "name": "stderr",
     "output_type": "stream",
     "text": [
      "<>:1: DeprecationWarning: invalid escape sequence \\P\n",
      "C:\\Users\\HCAND\\anaconda3\\envs\\psupr\\lib\\site-packages\\xlrd\\xlsx.py:266: PendingDeprecationWarning: This method will be removed in future versions.  Use 'tree.iter()' or 'list(tree.iter())' instead.\n",
      "  for elem in self.tree.iter() if Element_has_iter else self.tree.getiterator():\n"
     ]
    },
    {
     "data": {
      "text/plain": [
       "(381210, 85)"
      ]
     },
     "metadata": {},
     "output_type": "display_data"
    }
   ],
   "source": [
    "filePath = '.\\ParkwaySampleDataForProject_12_WithLabelNoFormula.xlsx'\n",
    "df = pd.read_excel(filePath)\n",
    "display(df.shape)"
   ]
  },
  {
   "cell_type": "markdown",
   "metadata": {},
   "source": [
    "### Exploratory Data Analysis"
   ]
  },
  {
   "cell_type": "markdown",
   "metadata": {},
   "source": [
    "#### Explore data"
   ]
  },
  {
   "cell_type": "code",
   "execution_count": 3,
   "metadata": {},
   "outputs": [
    {
     "data": {
      "text/html": [
       "<div>\n",
       "<style scoped>\n",
       "    .dataframe tbody tr th:only-of-type {\n",
       "        vertical-align: middle;\n",
       "    }\n",
       "\n",
       "    .dataframe tbody tr th {\n",
       "        vertical-align: top;\n",
       "    }\n",
       "\n",
       "    .dataframe thead th {\n",
       "        text-align: right;\n",
       "    }\n",
       "</style>\n",
       "<table border=\"1\" class=\"dataframe\">\n",
       "  <thead>\n",
       "    <tr style=\"text-align: right;\">\n",
       "      <th></th>\n",
       "      <th>colName</th>\n",
       "      <th>non-null values</th>\n",
       "      <th>unique</th>\n",
       "      <th>dtype</th>\n",
       "    </tr>\n",
       "  </thead>\n",
       "  <tbody>\n",
       "    <tr>\n",
       "      <th>0</th>\n",
       "      <td>INSTITUTION</td>\n",
       "      <td>381210</td>\n",
       "      <td>4</td>\n",
       "      <td>object</td>\n",
       "    </tr>\n",
       "    <tr>\n",
       "      <th>1</th>\n",
       "      <td>CASE_NUMBER</td>\n",
       "      <td>381210</td>\n",
       "      <td>381210</td>\n",
       "      <td>int64</td>\n",
       "    </tr>\n",
       "    <tr>\n",
       "      <th>2</th>\n",
       "      <td>TOTAL_PAID_AMT</td>\n",
       "      <td>381210</td>\n",
       "      <td>326907</td>\n",
       "      <td>float64</td>\n",
       "    </tr>\n",
       "    <tr>\n",
       "      <th>3</th>\n",
       "      <td>PAYER_CODE_1</td>\n",
       "      <td>381210</td>\n",
       "      <td>482</td>\n",
       "      <td>object</td>\n",
       "    </tr>\n",
       "    <tr>\n",
       "      <th>4</th>\n",
       "      <td>PAYER_NAME_1</td>\n",
       "      <td>381210</td>\n",
       "      <td>425</td>\n",
       "      <td>object</td>\n",
       "    </tr>\n",
       "    <tr>\n",
       "      <th>5</th>\n",
       "      <td>PAYER_1_PAID_AMT</td>\n",
       "      <td>381210</td>\n",
       "      <td>308341</td>\n",
       "      <td>float64</td>\n",
       "    </tr>\n",
       "    <tr>\n",
       "      <th>6</th>\n",
       "      <td>PAYER_CODE_2</td>\n",
       "      <td>149318</td>\n",
       "      <td>378</td>\n",
       "      <td>object</td>\n",
       "    </tr>\n",
       "    <tr>\n",
       "      <th>7</th>\n",
       "      <td>PAYER_NAME_2</td>\n",
       "      <td>149318</td>\n",
       "      <td>329</td>\n",
       "      <td>object</td>\n",
       "    </tr>\n",
       "    <tr>\n",
       "      <th>8</th>\n",
       "      <td>PAYER_2_PAID_AMT</td>\n",
       "      <td>381210</td>\n",
       "      <td>117053</td>\n",
       "      <td>float64</td>\n",
       "    </tr>\n",
       "    <tr>\n",
       "      <th>9</th>\n",
       "      <td>PAYER_CODE_3</td>\n",
       "      <td>53205</td>\n",
       "      <td>230</td>\n",
       "      <td>object</td>\n",
       "    </tr>\n",
       "    <tr>\n",
       "      <th>10</th>\n",
       "      <td>PAYER_NAME_3</td>\n",
       "      <td>53205</td>\n",
       "      <td>201</td>\n",
       "      <td>object</td>\n",
       "    </tr>\n",
       "    <tr>\n",
       "      <th>11</th>\n",
       "      <td>PAYER_3_PAID_AMT</td>\n",
       "      <td>381210</td>\n",
       "      <td>42878</td>\n",
       "      <td>float64</td>\n",
       "    </tr>\n",
       "    <tr>\n",
       "      <th>12</th>\n",
       "      <td>PAYER_CODE_4</td>\n",
       "      <td>2373</td>\n",
       "      <td>89</td>\n",
       "      <td>object</td>\n",
       "    </tr>\n",
       "    <tr>\n",
       "      <th>13</th>\n",
       "      <td>PAYER_NAME_4</td>\n",
       "      <td>2373</td>\n",
       "      <td>78</td>\n",
       "      <td>object</td>\n",
       "    </tr>\n",
       "    <tr>\n",
       "      <th>14</th>\n",
       "      <td>PAYER_4_PAID_AMT</td>\n",
       "      <td>381210</td>\n",
       "      <td>2198</td>\n",
       "      <td>float64</td>\n",
       "    </tr>\n",
       "    <tr>\n",
       "      <th>15</th>\n",
       "      <td>PAYER_CODE_5</td>\n",
       "      <td>52</td>\n",
       "      <td>21</td>\n",
       "      <td>object</td>\n",
       "    </tr>\n",
       "    <tr>\n",
       "      <th>16</th>\n",
       "      <td>PAYER_NAME_5</td>\n",
       "      <td>52</td>\n",
       "      <td>18</td>\n",
       "      <td>object</td>\n",
       "    </tr>\n",
       "    <tr>\n",
       "      <th>17</th>\n",
       "      <td>PAYER_5_PAID_AMT</td>\n",
       "      <td>381210</td>\n",
       "      <td>41</td>\n",
       "      <td>float64</td>\n",
       "    </tr>\n",
       "    <tr>\n",
       "      <th>18</th>\n",
       "      <td>CASE_TYPE</td>\n",
       "      <td>381210</td>\n",
       "      <td>1</td>\n",
       "      <td>object</td>\n",
       "    </tr>\n",
       "    <tr>\n",
       "      <th>19</th>\n",
       "      <td>BED_TYPE</td>\n",
       "      <td>381210</td>\n",
       "      <td>10</td>\n",
       "      <td>object</td>\n",
       "    </tr>\n",
       "    <tr>\n",
       "      <th>20</th>\n",
       "      <td>REFERRAL_TYPE</td>\n",
       "      <td>381206</td>\n",
       "      <td>50</td>\n",
       "      <td>object</td>\n",
       "    </tr>\n",
       "    <tr>\n",
       "      <th>21</th>\n",
       "      <td>TREATMENT_CATEGORY</td>\n",
       "      <td>381210</td>\n",
       "      <td>60</td>\n",
       "      <td>object</td>\n",
       "    </tr>\n",
       "    <tr>\n",
       "      <th>22</th>\n",
       "      <td>ADMISSION_DTE</td>\n",
       "      <td>381210</td>\n",
       "      <td>1095</td>\n",
       "      <td>datetime64[ns]</td>\n",
       "    </tr>\n",
       "    <tr>\n",
       "      <th>23</th>\n",
       "      <td>ADMISSION_TYPE</td>\n",
       "      <td>381210</td>\n",
       "      <td>8</td>\n",
       "      <td>object</td>\n",
       "    </tr>\n",
       "    <tr>\n",
       "      <th>24</th>\n",
       "      <td>DISCHARGE_DTE</td>\n",
       "      <td>381210</td>\n",
       "      <td>1128</td>\n",
       "      <td>datetime64[ns]</td>\n",
       "    </tr>\n",
       "    <tr>\n",
       "      <th>25</th>\n",
       "      <td>DISCHARGE_TYPE</td>\n",
       "      <td>381210</td>\n",
       "      <td>9</td>\n",
       "      <td>int64</td>\n",
       "    </tr>\n",
       "    <tr>\n",
       "      <th>26</th>\n",
       "      <td>DISCHARGE_TYPE_DESC</td>\n",
       "      <td>381210</td>\n",
       "      <td>9</td>\n",
       "      <td>object</td>\n",
       "    </tr>\n",
       "    <tr>\n",
       "      <th>27</th>\n",
       "      <td>LOS_DAYS</td>\n",
       "      <td>381210</td>\n",
       "      <td>147</td>\n",
       "      <td>int64</td>\n",
       "    </tr>\n",
       "    <tr>\n",
       "      <th>28</th>\n",
       "      <td>DOCTOR_CODE</td>\n",
       "      <td>381209</td>\n",
       "      <td>1247</td>\n",
       "      <td>object</td>\n",
       "    </tr>\n",
       "    <tr>\n",
       "      <th>29</th>\n",
       "      <td>DOCTOR_NAME</td>\n",
       "      <td>381210</td>\n",
       "      <td>1247</td>\n",
       "      <td>object</td>\n",
       "    </tr>\n",
       "    <tr>\n",
       "      <th>30</th>\n",
       "      <td>SPECIALTY_CODE</td>\n",
       "      <td>381173</td>\n",
       "      <td>36</td>\n",
       "      <td>float64</td>\n",
       "    </tr>\n",
       "    <tr>\n",
       "      <th>31</th>\n",
       "      <td>SPECIALTY_DESC</td>\n",
       "      <td>381173</td>\n",
       "      <td>36</td>\n",
       "      <td>object</td>\n",
       "    </tr>\n",
       "    <tr>\n",
       "      <th>32</th>\n",
       "      <td>SPECIALTY_GRP</td>\n",
       "      <td>372891</td>\n",
       "      <td>5</td>\n",
       "      <td>float64</td>\n",
       "    </tr>\n",
       "    <tr>\n",
       "      <th>33</th>\n",
       "      <td>TOSP_COUNT</td>\n",
       "      <td>381210</td>\n",
       "      <td>12</td>\n",
       "      <td>int64</td>\n",
       "    </tr>\n",
       "    <tr>\n",
       "      <th>34</th>\n",
       "      <td>TOSP_STRING</td>\n",
       "      <td>267026</td>\n",
       "      <td>17489</td>\n",
       "      <td>object</td>\n",
       "    </tr>\n",
       "    <tr>\n",
       "      <th>35</th>\n",
       "      <td>TOSP_CODE1</td>\n",
       "      <td>267026</td>\n",
       "      <td>2114</td>\n",
       "      <td>object</td>\n",
       "    </tr>\n",
       "    <tr>\n",
       "      <th>36</th>\n",
       "      <td>TOSP_CODE2</td>\n",
       "      <td>85649</td>\n",
       "      <td>1571</td>\n",
       "      <td>object</td>\n",
       "    </tr>\n",
       "    <tr>\n",
       "      <th>37</th>\n",
       "      <td>TOSP_CODE3</td>\n",
       "      <td>12950</td>\n",
       "      <td>965</td>\n",
       "      <td>object</td>\n",
       "    </tr>\n",
       "    <tr>\n",
       "      <th>38</th>\n",
       "      <td>TOSP_CODE4</td>\n",
       "      <td>3265</td>\n",
       "      <td>491</td>\n",
       "      <td>object</td>\n",
       "    </tr>\n",
       "    <tr>\n",
       "      <th>39</th>\n",
       "      <td>TOSP_DESC1</td>\n",
       "      <td>381210</td>\n",
       "      <td>1807</td>\n",
       "      <td>object</td>\n",
       "    </tr>\n",
       "    <tr>\n",
       "      <th>40</th>\n",
       "      <td>TOSP_DESC2</td>\n",
       "      <td>85649</td>\n",
       "      <td>1358</td>\n",
       "      <td>object</td>\n",
       "    </tr>\n",
       "    <tr>\n",
       "      <th>41</th>\n",
       "      <td>TOSP_DESC3</td>\n",
       "      <td>12950</td>\n",
       "      <td>852</td>\n",
       "      <td>object</td>\n",
       "    </tr>\n",
       "    <tr>\n",
       "      <th>42</th>\n",
       "      <td>TOSP_DESC4</td>\n",
       "      <td>3265</td>\n",
       "      <td>442</td>\n",
       "      <td>object</td>\n",
       "    </tr>\n",
       "    <tr>\n",
       "      <th>43</th>\n",
       "      <td>NATIONALITY</td>\n",
       "      <td>381210</td>\n",
       "      <td>163</td>\n",
       "      <td>object</td>\n",
       "    </tr>\n",
       "    <tr>\n",
       "      <th>44</th>\n",
       "      <td>RESID_CTY</td>\n",
       "      <td>381205</td>\n",
       "      <td>132</td>\n",
       "      <td>object</td>\n",
       "    </tr>\n",
       "    <tr>\n",
       "      <th>45</th>\n",
       "      <td>RESID_POSTALCODE</td>\n",
       "      <td>381198</td>\n",
       "      <td>41533</td>\n",
       "      <td>object</td>\n",
       "    </tr>\n",
       "    <tr>\n",
       "      <th>46</th>\n",
       "      <td>DOB</td>\n",
       "      <td>381210</td>\n",
       "      <td>31946</td>\n",
       "      <td>datetime64[ns]</td>\n",
       "    </tr>\n",
       "    <tr>\n",
       "      <th>47</th>\n",
       "      <td>NONRESID_FLAG</td>\n",
       "      <td>381210</td>\n",
       "      <td>2</td>\n",
       "      <td>object</td>\n",
       "    </tr>\n",
       "    <tr>\n",
       "      <th>48</th>\n",
       "      <td>PATIENT_SID</td>\n",
       "      <td>381210</td>\n",
       "      <td>266574</td>\n",
       "      <td>int64</td>\n",
       "    </tr>\n",
       "    <tr>\n",
       "      <th>49</th>\n",
       "      <td>PATIENT_NUMBER</td>\n",
       "      <td>381210</td>\n",
       "      <td>266574</td>\n",
       "      <td>int64</td>\n",
       "    </tr>\n",
       "    <tr>\n",
       "      <th>50</th>\n",
       "      <td>GENDER</td>\n",
       "      <td>381210</td>\n",
       "      <td>3</td>\n",
       "      <td>object</td>\n",
       "    </tr>\n",
       "    <tr>\n",
       "      <th>51</th>\n",
       "      <td>DECEASED_FLAG</td>\n",
       "      <td>381210</td>\n",
       "      <td>2</td>\n",
       "      <td>object</td>\n",
       "    </tr>\n",
       "    <tr>\n",
       "      <th>52</th>\n",
       "      <td>MARITAL_STATUS</td>\n",
       "      <td>363544</td>\n",
       "      <td>8</td>\n",
       "      <td>object</td>\n",
       "    </tr>\n",
       "    <tr>\n",
       "      <th>53</th>\n",
       "      <td>RELIGION</td>\n",
       "      <td>172705</td>\n",
       "      <td>17</td>\n",
       "      <td>object</td>\n",
       "    </tr>\n",
       "    <tr>\n",
       "      <th>54</th>\n",
       "      <td>LANGUAGE</td>\n",
       "      <td>381210</td>\n",
       "      <td>1</td>\n",
       "      <td>object</td>\n",
       "    </tr>\n",
       "    <tr>\n",
       "      <th>55</th>\n",
       "      <td>VIP_FLAG</td>\n",
       "      <td>381210</td>\n",
       "      <td>2</td>\n",
       "      <td>object</td>\n",
       "    </tr>\n",
       "    <tr>\n",
       "      <th>56</th>\n",
       "      <td>RACE</td>\n",
       "      <td>380824</td>\n",
       "      <td>8</td>\n",
       "      <td>object</td>\n",
       "    </tr>\n",
       "    <tr>\n",
       "      <th>57</th>\n",
       "      <td>DRG_CODE</td>\n",
       "      <td>372890</td>\n",
       "      <td>682</td>\n",
       "      <td>object</td>\n",
       "    </tr>\n",
       "    <tr>\n",
       "      <th>58</th>\n",
       "      <td>DRG_DESC</td>\n",
       "      <td>381210</td>\n",
       "      <td>681</td>\n",
       "      <td>object</td>\n",
       "    </tr>\n",
       "    <tr>\n",
       "      <th>59</th>\n",
       "      <td>PAYER_CODE1_V</td>\n",
       "      <td>381210</td>\n",
       "      <td>482</td>\n",
       "      <td>object</td>\n",
       "    </tr>\n",
       "    <tr>\n",
       "      <th>60</th>\n",
       "      <td>PAYER_NAME1_V</td>\n",
       "      <td>381210</td>\n",
       "      <td>425</td>\n",
       "      <td>object</td>\n",
       "    </tr>\n",
       "    <tr>\n",
       "      <th>61</th>\n",
       "      <td>PAYER_CODE2_V</td>\n",
       "      <td>149363</td>\n",
       "      <td>378</td>\n",
       "      <td>object</td>\n",
       "    </tr>\n",
       "    <tr>\n",
       "      <th>62</th>\n",
       "      <td>PAYER_NAME2_V</td>\n",
       "      <td>149363</td>\n",
       "      <td>330</td>\n",
       "      <td>object</td>\n",
       "    </tr>\n",
       "    <tr>\n",
       "      <th>63</th>\n",
       "      <td>PAYER_CODE3_V</td>\n",
       "      <td>53232</td>\n",
       "      <td>231</td>\n",
       "      <td>object</td>\n",
       "    </tr>\n",
       "    <tr>\n",
       "      <th>64</th>\n",
       "      <td>PAYER_NAME3_V</td>\n",
       "      <td>53232</td>\n",
       "      <td>203</td>\n",
       "      <td>object</td>\n",
       "    </tr>\n",
       "    <tr>\n",
       "      <th>65</th>\n",
       "      <td>PAYER_CODE4_V</td>\n",
       "      <td>2380</td>\n",
       "      <td>89</td>\n",
       "      <td>object</td>\n",
       "    </tr>\n",
       "    <tr>\n",
       "      <th>66</th>\n",
       "      <td>PAYER_NAME4_V</td>\n",
       "      <td>2380</td>\n",
       "      <td>78</td>\n",
       "      <td>object</td>\n",
       "    </tr>\n",
       "    <tr>\n",
       "      <th>67</th>\n",
       "      <td>PACKAGE_CODE</td>\n",
       "      <td>91099</td>\n",
       "      <td>185</td>\n",
       "      <td>float64</td>\n",
       "    </tr>\n",
       "    <tr>\n",
       "      <th>68</th>\n",
       "      <td>PACKAGE_PRICE</td>\n",
       "      <td>91099</td>\n",
       "      <td>473</td>\n",
       "      <td>float64</td>\n",
       "    </tr>\n",
       "    <tr>\n",
       "      <th>69</th>\n",
       "      <td>PACKAGE_EXCL</td>\n",
       "      <td>91099</td>\n",
       "      <td>51908</td>\n",
       "      <td>float64</td>\n",
       "    </tr>\n",
       "    <tr>\n",
       "      <th>70</th>\n",
       "      <td>PACKAGE_ADJ</td>\n",
       "      <td>91099</td>\n",
       "      <td>46968</td>\n",
       "      <td>float64</td>\n",
       "    </tr>\n",
       "    <tr>\n",
       "      <th>71</th>\n",
       "      <td>PACKAGE_DESC</td>\n",
       "      <td>91099</td>\n",
       "      <td>187</td>\n",
       "      <td>object</td>\n",
       "    </tr>\n",
       "    <tr>\n",
       "      <th>72</th>\n",
       "      <td>PACKAGE_CODE1</td>\n",
       "      <td>91099</td>\n",
       "      <td>185</td>\n",
       "      <td>float64</td>\n",
       "    </tr>\n",
       "    <tr>\n",
       "      <th>73</th>\n",
       "      <td>PACKAGE_CODE2</td>\n",
       "      <td>1</td>\n",
       "      <td>1</td>\n",
       "      <td>float64</td>\n",
       "    </tr>\n",
       "    <tr>\n",
       "      <th>74</th>\n",
       "      <td>PACKAGE_DESC1</td>\n",
       "      <td>91099</td>\n",
       "      <td>187</td>\n",
       "      <td>object</td>\n",
       "    </tr>\n",
       "    <tr>\n",
       "      <th>75</th>\n",
       "      <td>PACKAGE_DESC2</td>\n",
       "      <td>1</td>\n",
       "      <td>1</td>\n",
       "      <td>object</td>\n",
       "    </tr>\n",
       "    <tr>\n",
       "      <th>76</th>\n",
       "      <td>ICD_CODE1</td>\n",
       "      <td>377241</td>\n",
       "      <td>7143</td>\n",
       "      <td>object</td>\n",
       "    </tr>\n",
       "    <tr>\n",
       "      <th>77</th>\n",
       "      <td>ICD_CODE2</td>\n",
       "      <td>166166</td>\n",
       "      <td>5699</td>\n",
       "      <td>object</td>\n",
       "    </tr>\n",
       "    <tr>\n",
       "      <th>78</th>\n",
       "      <td>ICD_CODE3</td>\n",
       "      <td>68949</td>\n",
       "      <td>3411</td>\n",
       "      <td>object</td>\n",
       "    </tr>\n",
       "    <tr>\n",
       "      <th>79</th>\n",
       "      <td>ICDCODE_STRING</td>\n",
       "      <td>377241</td>\n",
       "      <td>72388</td>\n",
       "      <td>object</td>\n",
       "    </tr>\n",
       "    <tr>\n",
       "      <th>80</th>\n",
       "      <td>PROF_FEE</td>\n",
       "      <td>381210</td>\n",
       "      <td>77917</td>\n",
       "      <td>float64</td>\n",
       "    </tr>\n",
       "    <tr>\n",
       "      <th>81</th>\n",
       "      <td>TOTAL_FEES</td>\n",
       "      <td>381210</td>\n",
       "      <td>326929</td>\n",
       "      <td>float64</td>\n",
       "    </tr>\n",
       "    <tr>\n",
       "      <th>82</th>\n",
       "      <td>WRITE_OFF</td>\n",
       "      <td>381210</td>\n",
       "      <td>2452</td>\n",
       "      <td>float64</td>\n",
       "    </tr>\n",
       "    <tr>\n",
       "      <th>83</th>\n",
       "      <td>PCT_WRITE_OFF</td>\n",
       "      <td>381210</td>\n",
       "      <td>15983</td>\n",
       "      <td>float64</td>\n",
       "    </tr>\n",
       "    <tr>\n",
       "      <th>84</th>\n",
       "      <td>WRITE_OFF_LABEL</td>\n",
       "      <td>381210</td>\n",
       "      <td>2</td>\n",
       "      <td>int64</td>\n",
       "    </tr>\n",
       "  </tbody>\n",
       "</table>\n",
       "</div>"
      ],
      "text/plain": [
       "                colName  non-null values  unique           dtype\n",
       "0           INSTITUTION           381210       4          object\n",
       "1           CASE_NUMBER           381210  381210           int64\n",
       "2        TOTAL_PAID_AMT           381210  326907         float64\n",
       "3          PAYER_CODE_1           381210     482          object\n",
       "4          PAYER_NAME_1           381210     425          object\n",
       "5      PAYER_1_PAID_AMT           381210  308341         float64\n",
       "6          PAYER_CODE_2           149318     378          object\n",
       "7          PAYER_NAME_2           149318     329          object\n",
       "8      PAYER_2_PAID_AMT           381210  117053         float64\n",
       "9          PAYER_CODE_3            53205     230          object\n",
       "10         PAYER_NAME_3            53205     201          object\n",
       "11     PAYER_3_PAID_AMT           381210   42878         float64\n",
       "12         PAYER_CODE_4             2373      89          object\n",
       "13         PAYER_NAME_4             2373      78          object\n",
       "14     PAYER_4_PAID_AMT           381210    2198         float64\n",
       "15         PAYER_CODE_5               52      21          object\n",
       "16         PAYER_NAME_5               52      18          object\n",
       "17     PAYER_5_PAID_AMT           381210      41         float64\n",
       "18            CASE_TYPE           381210       1          object\n",
       "19             BED_TYPE           381210      10          object\n",
       "20        REFERRAL_TYPE           381206      50          object\n",
       "21   TREATMENT_CATEGORY           381210      60          object\n",
       "22        ADMISSION_DTE           381210    1095  datetime64[ns]\n",
       "23       ADMISSION_TYPE           381210       8          object\n",
       "24        DISCHARGE_DTE           381210    1128  datetime64[ns]\n",
       "25       DISCHARGE_TYPE           381210       9           int64\n",
       "26  DISCHARGE_TYPE_DESC           381210       9          object\n",
       "27             LOS_DAYS           381210     147           int64\n",
       "28          DOCTOR_CODE           381209    1247          object\n",
       "29          DOCTOR_NAME           381210    1247          object\n",
       "30       SPECIALTY_CODE           381173      36         float64\n",
       "31       SPECIALTY_DESC           381173      36          object\n",
       "32        SPECIALTY_GRP           372891       5         float64\n",
       "33           TOSP_COUNT           381210      12           int64\n",
       "34          TOSP_STRING           267026   17489          object\n",
       "35           TOSP_CODE1           267026    2114          object\n",
       "36           TOSP_CODE2            85649    1571          object\n",
       "37           TOSP_CODE3            12950     965          object\n",
       "38           TOSP_CODE4             3265     491          object\n",
       "39           TOSP_DESC1           381210    1807          object\n",
       "40           TOSP_DESC2            85649    1358          object\n",
       "41           TOSP_DESC3            12950     852          object\n",
       "42           TOSP_DESC4             3265     442          object\n",
       "43          NATIONALITY           381210     163          object\n",
       "44            RESID_CTY           381205     132          object\n",
       "45     RESID_POSTALCODE           381198   41533          object\n",
       "46                  DOB           381210   31946  datetime64[ns]\n",
       "47        NONRESID_FLAG           381210       2          object\n",
       "48          PATIENT_SID           381210  266574           int64\n",
       "49       PATIENT_NUMBER           381210  266574           int64\n",
       "50               GENDER           381210       3          object\n",
       "51        DECEASED_FLAG           381210       2          object\n",
       "52       MARITAL_STATUS           363544       8          object\n",
       "53             RELIGION           172705      17          object\n",
       "54             LANGUAGE           381210       1          object\n",
       "55             VIP_FLAG           381210       2          object\n",
       "56                 RACE           380824       8          object\n",
       "57             DRG_CODE           372890     682          object\n",
       "58             DRG_DESC           381210     681          object\n",
       "59        PAYER_CODE1_V           381210     482          object\n",
       "60        PAYER_NAME1_V           381210     425          object\n",
       "61        PAYER_CODE2_V           149363     378          object\n",
       "62        PAYER_NAME2_V           149363     330          object\n",
       "63        PAYER_CODE3_V            53232     231          object\n",
       "64        PAYER_NAME3_V            53232     203          object\n",
       "65        PAYER_CODE4_V             2380      89          object\n",
       "66        PAYER_NAME4_V             2380      78          object\n",
       "67         PACKAGE_CODE            91099     185         float64\n",
       "68        PACKAGE_PRICE            91099     473         float64\n",
       "69         PACKAGE_EXCL            91099   51908         float64\n",
       "70          PACKAGE_ADJ            91099   46968         float64\n",
       "71         PACKAGE_DESC            91099     187          object\n",
       "72        PACKAGE_CODE1            91099     185         float64\n",
       "73        PACKAGE_CODE2                1       1         float64\n",
       "74        PACKAGE_DESC1            91099     187          object\n",
       "75        PACKAGE_DESC2                1       1          object\n",
       "76            ICD_CODE1           377241    7143          object\n",
       "77            ICD_CODE2           166166    5699          object\n",
       "78            ICD_CODE3            68949    3411          object\n",
       "79       ICDCODE_STRING           377241   72388          object\n",
       "80             PROF_FEE           381210   77917         float64\n",
       "81           TOTAL_FEES           381210  326929         float64\n",
       "82            WRITE_OFF           381210    2452         float64\n",
       "83        PCT_WRITE_OFF           381210   15983         float64\n",
       "84      WRITE_OFF_LABEL           381210       2           int64"
      ]
     },
     "metadata": {},
     "output_type": "display_data"
    }
   ],
   "source": [
    "info = []\n",
    "for col in df.columns:\n",
    "    non_null  = len(df) - np.sum(pd.isna(df[col]))\n",
    "    num_unique = df[col].nunique()\n",
    "    col_type = str(df[col].dtype)\n",
    "\n",
    "    info.append([col, non_null, num_unique, col_type])\n",
    "\n",
    "features_info = pd.DataFrame(info, columns = ['colName','non-null values', 'unique', 'dtype'])\n",
    "\n",
    "display(features_info)\n",
    "#features_info.to_csv('Info_List.csv')"
   ]
  },
  {
   "cell_type": "code",
   "execution_count": 5,
   "metadata": {},
   "outputs": [
    {
     "name": "stdout",
     "output_type": "stream",
     "text": [
      "<class 'pandas.core.frame.DataFrame'>\n",
      "RangeIndex: 381210 entries, 0 to 381209\n",
      "Data columns (total 44 columns):\n",
      " #   Column               Non-Null Count   Dtype  \n",
      "---  ------               --------------   -----  \n",
      " 0   INSTITUTION          381210 non-null  int64  \n",
      " 1   CASE_NUMBER          381210 non-null  int64  \n",
      " 2   PAYER_CODE_1         381210 non-null  int64  \n",
      " 3   PAYER_CODE_2         381210 non-null  int64  \n",
      " 4   PAYER_CODE_3         381210 non-null  int64  \n",
      " 5   PAYER_CODE_4         381210 non-null  int64  \n",
      " 6   PAYER_CODE_5         381210 non-null  int64  \n",
      " 7   BED_TYPE             381210 non-null  int64  \n",
      " 8   REFERRAL_TYPE        381210 non-null  int64  \n",
      " 9   TREATMENT_CATEGORY   381210 non-null  int64  \n",
      " 10  ADMISSION_TYPE       381210 non-null  int64  \n",
      " 11  DISCHARGE_TYPE       381210 non-null  int64  \n",
      " 12  LOS_DAYS             381210 non-null  int64  \n",
      " 13  DOCTOR_CODE          381210 non-null  int64  \n",
      " 14  SPECIALTY_CODE       381173 non-null  float64\n",
      " 15  SPECIALTY_GRP        372891 non-null  float64\n",
      " 16  TOSP_COUNT           381210 non-null  int64  \n",
      " 17  TOSP_CODE1           381210 non-null  int64  \n",
      " 18  TOSP_CODE2           381210 non-null  int64  \n",
      " 19  TOSP_CODE3           381210 non-null  int64  \n",
      " 20  TOSP_CODE4           381210 non-null  int64  \n",
      " 21  NATIONALITY          381210 non-null  int64  \n",
      " 22  RESID_CTY            381210 non-null  int64  \n",
      " 23  RESID_POSTALCODE     381210 non-null  int64  \n",
      " 24  NONRESID_FLAG        381210 non-null  int64  \n",
      " 25  GENDER               381210 non-null  int64  \n",
      " 26  DECEASED_FLAG        381210 non-null  int64  \n",
      " 27  MARITAL_STATUS       381210 non-null  int64  \n",
      " 28  RELIGION             381210 non-null  int64  \n",
      " 29  VIP_FLAG             381210 non-null  int64  \n",
      " 30  RACE                 381210 non-null  int64  \n",
      " 31  ICD_CODE1            381210 non-null  int64  \n",
      " 32  ICD_CODE2            381210 non-null  int64  \n",
      " 33  ICD_CODE3            381210 non-null  int64  \n",
      " 34  WRITE_OFF_LABEL      381210 non-null  int64  \n",
      " 35  ADMISSION_DTE_year   381210 non-null  int64  \n",
      " 36  ADMISSION_DTE_month  381210 non-null  int64  \n",
      " 37  ADMISSION_DTE_day    381210 non-null  int64  \n",
      " 38  DISCHARGE_DTE_year   381210 non-null  int64  \n",
      " 39  DISCHARGE_DTE_month  381210 non-null  int64  \n",
      " 40  DISCHARGE_DTE_day    381210 non-null  int64  \n",
      " 41  DOB_year             381210 non-null  int64  \n",
      " 42  DOB_month            381210 non-null  int64  \n",
      " 43  DOB_day              381210 non-null  int64  \n",
      "dtypes: float64(2), int64(42)\n",
      "memory usage: 128.0 MB\n",
      "None\n"
     ]
    },
    {
     "data": {
      "text/html": [
       "<div>\n",
       "<style scoped>\n",
       "    .dataframe tbody tr th:only-of-type {\n",
       "        vertical-align: middle;\n",
       "    }\n",
       "\n",
       "    .dataframe tbody tr th {\n",
       "        vertical-align: top;\n",
       "    }\n",
       "\n",
       "    .dataframe thead th {\n",
       "        text-align: right;\n",
       "    }\n",
       "</style>\n",
       "<table border=\"1\" class=\"dataframe\">\n",
       "  <thead>\n",
       "    <tr style=\"text-align: right;\">\n",
       "      <th></th>\n",
       "      <th>colName</th>\n",
       "      <th>non-null values</th>\n",
       "      <th>unique</th>\n",
       "      <th>dtype</th>\n",
       "    </tr>\n",
       "  </thead>\n",
       "  <tbody>\n",
       "    <tr>\n",
       "      <th>0</th>\n",
       "      <td>INSTITUTION</td>\n",
       "      <td>381210</td>\n",
       "      <td>4</td>\n",
       "      <td>int64</td>\n",
       "    </tr>\n",
       "    <tr>\n",
       "      <th>1</th>\n",
       "      <td>CASE_NUMBER</td>\n",
       "      <td>381210</td>\n",
       "      <td>381210</td>\n",
       "      <td>int64</td>\n",
       "    </tr>\n",
       "    <tr>\n",
       "      <th>2</th>\n",
       "      <td>PAYER_CODE_1</td>\n",
       "      <td>381210</td>\n",
       "      <td>482</td>\n",
       "      <td>int64</td>\n",
       "    </tr>\n",
       "    <tr>\n",
       "      <th>3</th>\n",
       "      <td>PAYER_CODE_2</td>\n",
       "      <td>381210</td>\n",
       "      <td>379</td>\n",
       "      <td>int64</td>\n",
       "    </tr>\n",
       "    <tr>\n",
       "      <th>4</th>\n",
       "      <td>PAYER_CODE_3</td>\n",
       "      <td>381210</td>\n",
       "      <td>231</td>\n",
       "      <td>int64</td>\n",
       "    </tr>\n",
       "    <tr>\n",
       "      <th>5</th>\n",
       "      <td>PAYER_CODE_4</td>\n",
       "      <td>381210</td>\n",
       "      <td>90</td>\n",
       "      <td>int64</td>\n",
       "    </tr>\n",
       "    <tr>\n",
       "      <th>6</th>\n",
       "      <td>PAYER_CODE_5</td>\n",
       "      <td>381210</td>\n",
       "      <td>22</td>\n",
       "      <td>int64</td>\n",
       "    </tr>\n",
       "    <tr>\n",
       "      <th>7</th>\n",
       "      <td>BED_TYPE</td>\n",
       "      <td>381210</td>\n",
       "      <td>10</td>\n",
       "      <td>int64</td>\n",
       "    </tr>\n",
       "    <tr>\n",
       "      <th>8</th>\n",
       "      <td>REFERRAL_TYPE</td>\n",
       "      <td>381210</td>\n",
       "      <td>51</td>\n",
       "      <td>int64</td>\n",
       "    </tr>\n",
       "    <tr>\n",
       "      <th>9</th>\n",
       "      <td>TREATMENT_CATEGORY</td>\n",
       "      <td>381210</td>\n",
       "      <td>60</td>\n",
       "      <td>int64</td>\n",
       "    </tr>\n",
       "    <tr>\n",
       "      <th>10</th>\n",
       "      <td>ADMISSION_TYPE</td>\n",
       "      <td>381210</td>\n",
       "      <td>8</td>\n",
       "      <td>int64</td>\n",
       "    </tr>\n",
       "    <tr>\n",
       "      <th>11</th>\n",
       "      <td>DISCHARGE_TYPE</td>\n",
       "      <td>381210</td>\n",
       "      <td>9</td>\n",
       "      <td>int64</td>\n",
       "    </tr>\n",
       "    <tr>\n",
       "      <th>12</th>\n",
       "      <td>LOS_DAYS</td>\n",
       "      <td>381210</td>\n",
       "      <td>147</td>\n",
       "      <td>int64</td>\n",
       "    </tr>\n",
       "    <tr>\n",
       "      <th>13</th>\n",
       "      <td>DOCTOR_CODE</td>\n",
       "      <td>381210</td>\n",
       "      <td>1248</td>\n",
       "      <td>int64</td>\n",
       "    </tr>\n",
       "    <tr>\n",
       "      <th>14</th>\n",
       "      <td>SPECIALTY_CODE</td>\n",
       "      <td>381173</td>\n",
       "      <td>36</td>\n",
       "      <td>float64</td>\n",
       "    </tr>\n",
       "    <tr>\n",
       "      <th>15</th>\n",
       "      <td>SPECIALTY_GRP</td>\n",
       "      <td>372891</td>\n",
       "      <td>5</td>\n",
       "      <td>float64</td>\n",
       "    </tr>\n",
       "    <tr>\n",
       "      <th>16</th>\n",
       "      <td>TOSP_COUNT</td>\n",
       "      <td>381210</td>\n",
       "      <td>12</td>\n",
       "      <td>int64</td>\n",
       "    </tr>\n",
       "    <tr>\n",
       "      <th>17</th>\n",
       "      <td>TOSP_CODE1</td>\n",
       "      <td>381210</td>\n",
       "      <td>2115</td>\n",
       "      <td>int64</td>\n",
       "    </tr>\n",
       "    <tr>\n",
       "      <th>18</th>\n",
       "      <td>TOSP_CODE2</td>\n",
       "      <td>381210</td>\n",
       "      <td>1572</td>\n",
       "      <td>int64</td>\n",
       "    </tr>\n",
       "    <tr>\n",
       "      <th>19</th>\n",
       "      <td>TOSP_CODE3</td>\n",
       "      <td>381210</td>\n",
       "      <td>966</td>\n",
       "      <td>int64</td>\n",
       "    </tr>\n",
       "    <tr>\n",
       "      <th>20</th>\n",
       "      <td>TOSP_CODE4</td>\n",
       "      <td>381210</td>\n",
       "      <td>492</td>\n",
       "      <td>int64</td>\n",
       "    </tr>\n",
       "    <tr>\n",
       "      <th>21</th>\n",
       "      <td>NATIONALITY</td>\n",
       "      <td>381210</td>\n",
       "      <td>163</td>\n",
       "      <td>int64</td>\n",
       "    </tr>\n",
       "    <tr>\n",
       "      <th>22</th>\n",
       "      <td>RESID_CTY</td>\n",
       "      <td>381210</td>\n",
       "      <td>133</td>\n",
       "      <td>int64</td>\n",
       "    </tr>\n",
       "    <tr>\n",
       "      <th>23</th>\n",
       "      <td>RESID_POSTALCODE</td>\n",
       "      <td>381210</td>\n",
       "      <td>41534</td>\n",
       "      <td>int64</td>\n",
       "    </tr>\n",
       "    <tr>\n",
       "      <th>24</th>\n",
       "      <td>NONRESID_FLAG</td>\n",
       "      <td>381210</td>\n",
       "      <td>2</td>\n",
       "      <td>int64</td>\n",
       "    </tr>\n",
       "    <tr>\n",
       "      <th>25</th>\n",
       "      <td>GENDER</td>\n",
       "      <td>381210</td>\n",
       "      <td>3</td>\n",
       "      <td>int64</td>\n",
       "    </tr>\n",
       "    <tr>\n",
       "      <th>26</th>\n",
       "      <td>DECEASED_FLAG</td>\n",
       "      <td>381210</td>\n",
       "      <td>2</td>\n",
       "      <td>int64</td>\n",
       "    </tr>\n",
       "    <tr>\n",
       "      <th>27</th>\n",
       "      <td>MARITAL_STATUS</td>\n",
       "      <td>381210</td>\n",
       "      <td>9</td>\n",
       "      <td>int64</td>\n",
       "    </tr>\n",
       "    <tr>\n",
       "      <th>28</th>\n",
       "      <td>RELIGION</td>\n",
       "      <td>381210</td>\n",
       "      <td>18</td>\n",
       "      <td>int64</td>\n",
       "    </tr>\n",
       "    <tr>\n",
       "      <th>29</th>\n",
       "      <td>VIP_FLAG</td>\n",
       "      <td>381210</td>\n",
       "      <td>2</td>\n",
       "      <td>int64</td>\n",
       "    </tr>\n",
       "    <tr>\n",
       "      <th>30</th>\n",
       "      <td>RACE</td>\n",
       "      <td>381210</td>\n",
       "      <td>9</td>\n",
       "      <td>int64</td>\n",
       "    </tr>\n",
       "    <tr>\n",
       "      <th>31</th>\n",
       "      <td>ICD_CODE1</td>\n",
       "      <td>381210</td>\n",
       "      <td>7144</td>\n",
       "      <td>int64</td>\n",
       "    </tr>\n",
       "    <tr>\n",
       "      <th>32</th>\n",
       "      <td>ICD_CODE2</td>\n",
       "      <td>381210</td>\n",
       "      <td>5700</td>\n",
       "      <td>int64</td>\n",
       "    </tr>\n",
       "    <tr>\n",
       "      <th>33</th>\n",
       "      <td>ICD_CODE3</td>\n",
       "      <td>381210</td>\n",
       "      <td>3412</td>\n",
       "      <td>int64</td>\n",
       "    </tr>\n",
       "    <tr>\n",
       "      <th>34</th>\n",
       "      <td>WRITE_OFF_LABEL</td>\n",
       "      <td>381210</td>\n",
       "      <td>2</td>\n",
       "      <td>int64</td>\n",
       "    </tr>\n",
       "    <tr>\n",
       "      <th>35</th>\n",
       "      <td>ADMISSION_DTE_year</td>\n",
       "      <td>381210</td>\n",
       "      <td>3</td>\n",
       "      <td>int64</td>\n",
       "    </tr>\n",
       "    <tr>\n",
       "      <th>36</th>\n",
       "      <td>ADMISSION_DTE_month</td>\n",
       "      <td>381210</td>\n",
       "      <td>12</td>\n",
       "      <td>int64</td>\n",
       "    </tr>\n",
       "    <tr>\n",
       "      <th>37</th>\n",
       "      <td>ADMISSION_DTE_day</td>\n",
       "      <td>381210</td>\n",
       "      <td>31</td>\n",
       "      <td>int64</td>\n",
       "    </tr>\n",
       "    <tr>\n",
       "      <th>38</th>\n",
       "      <td>DISCHARGE_DTE_year</td>\n",
       "      <td>381210</td>\n",
       "      <td>4</td>\n",
       "      <td>int64</td>\n",
       "    </tr>\n",
       "    <tr>\n",
       "      <th>39</th>\n",
       "      <td>DISCHARGE_DTE_month</td>\n",
       "      <td>381210</td>\n",
       "      <td>12</td>\n",
       "      <td>int64</td>\n",
       "    </tr>\n",
       "    <tr>\n",
       "      <th>40</th>\n",
       "      <td>DISCHARGE_DTE_day</td>\n",
       "      <td>381210</td>\n",
       "      <td>31</td>\n",
       "      <td>int64</td>\n",
       "    </tr>\n",
       "    <tr>\n",
       "      <th>41</th>\n",
       "      <td>DOB_year</td>\n",
       "      <td>381210</td>\n",
       "      <td>110</td>\n",
       "      <td>int64</td>\n",
       "    </tr>\n",
       "    <tr>\n",
       "      <th>42</th>\n",
       "      <td>DOB_month</td>\n",
       "      <td>381210</td>\n",
       "      <td>12</td>\n",
       "      <td>int64</td>\n",
       "    </tr>\n",
       "    <tr>\n",
       "      <th>43</th>\n",
       "      <td>DOB_day</td>\n",
       "      <td>381210</td>\n",
       "      <td>31</td>\n",
       "      <td>int64</td>\n",
       "    </tr>\n",
       "  </tbody>\n",
       "</table>\n",
       "</div>"
      ],
      "text/plain": [
       "                colName  non-null values  unique    dtype\n",
       "0           INSTITUTION           381210       4    int64\n",
       "1           CASE_NUMBER           381210  381210    int64\n",
       "2          PAYER_CODE_1           381210     482    int64\n",
       "3          PAYER_CODE_2           381210     379    int64\n",
       "4          PAYER_CODE_3           381210     231    int64\n",
       "5          PAYER_CODE_4           381210      90    int64\n",
       "6          PAYER_CODE_5           381210      22    int64\n",
       "7              BED_TYPE           381210      10    int64\n",
       "8         REFERRAL_TYPE           381210      51    int64\n",
       "9    TREATMENT_CATEGORY           381210      60    int64\n",
       "10       ADMISSION_TYPE           381210       8    int64\n",
       "11       DISCHARGE_TYPE           381210       9    int64\n",
       "12             LOS_DAYS           381210     147    int64\n",
       "13          DOCTOR_CODE           381210    1248    int64\n",
       "14       SPECIALTY_CODE           381173      36  float64\n",
       "15        SPECIALTY_GRP           372891       5  float64\n",
       "16           TOSP_COUNT           381210      12    int64\n",
       "17           TOSP_CODE1           381210    2115    int64\n",
       "18           TOSP_CODE2           381210    1572    int64\n",
       "19           TOSP_CODE3           381210     966    int64\n",
       "20           TOSP_CODE4           381210     492    int64\n",
       "21          NATIONALITY           381210     163    int64\n",
       "22            RESID_CTY           381210     133    int64\n",
       "23     RESID_POSTALCODE           381210   41534    int64\n",
       "24        NONRESID_FLAG           381210       2    int64\n",
       "25               GENDER           381210       3    int64\n",
       "26        DECEASED_FLAG           381210       2    int64\n",
       "27       MARITAL_STATUS           381210       9    int64\n",
       "28             RELIGION           381210      18    int64\n",
       "29             VIP_FLAG           381210       2    int64\n",
       "30                 RACE           381210       9    int64\n",
       "31            ICD_CODE1           381210    7144    int64\n",
       "32            ICD_CODE2           381210    5700    int64\n",
       "33            ICD_CODE3           381210    3412    int64\n",
       "34      WRITE_OFF_LABEL           381210       2    int64\n",
       "35   ADMISSION_DTE_year           381210       3    int64\n",
       "36  ADMISSION_DTE_month           381210      12    int64\n",
       "37    ADMISSION_DTE_day           381210      31    int64\n",
       "38   DISCHARGE_DTE_year           381210       4    int64\n",
       "39  DISCHARGE_DTE_month           381210      12    int64\n",
       "40    DISCHARGE_DTE_day           381210      31    int64\n",
       "41             DOB_year           381210     110    int64\n",
       "42            DOB_month           381210      12    int64\n",
       "43              DOB_day           381210      31    int64"
      ]
     },
     "metadata": {},
     "output_type": "display_data"
    }
   ],
   "source": [
    "# drop unnecessary columns\n",
    "col_drop = ['PAYER_NAME_1', 'PAYER_NAME_2', 'PAYER_NAME_3', 'PAYER_NAME_4', 'PAYER_NAME_5', 'CASE_TYPE',\n",
    "            'DISCHARGE_TYPE_DESC', 'DOCTOR_NAME', 'SPECIALTY_DESC','TOSP_STRING', 'TOSP_DESC1', 'TOSP_DESC2',\n",
    "            'TOSP_DESC3', 'TOSP_DESC4', 'DRG_DESC', 'PAYER_CODE1_V', 'PAYER_NAME1_V', 'PAYER_CODE2_V',\n",
    "            'PAYER_NAME2_V', 'PAYER_CODE3_V', 'PAYER_NAME3_V', 'PAYER_CODE4_V', 'PAYER_NAME4_V',\n",
    "            'PACKAGE_DESC', 'PACKAGE_DESC1', 'PACKAGE_DESC2','ICDCODE_STRING', 'PACKAGE_CODE',\n",
    "            'PACKAGE_PRICE', 'PACKAGE_EXCL', 'PACKAGE_ADJ', 'PACKAGE_CODE1', 'PACKAGE_CODE2','WRITE_OFF',\n",
    "            'PCT_WRITE_OFF','PROF_FEE','TOTAL_FEES','TOTAL_PAID_AMT','PAYER_1_PAID_AMT','PAYER_2_PAID_AMT',\n",
    "            'PAYER_3_PAID_AMT','PAYER_4_PAID_AMT','PAYER_5_PAID_AMT','PATIENT_SID','PATIENT_NUMBER','LANGUAGE','DRG_CODE']\n",
    "df1 =  df.drop(col_drop, axis=1)\n",
    "\n",
    "# convert dates\n",
    "col_dt = df1.select_dtypes(include=np.datetime64).columns\n",
    "for col in col_dt:\n",
    "    df1[col+'_year'] = df1[col].dt.year\n",
    "    df1[col+'_month'] = df1[col].dt.month\n",
    "    df1[col+'_day'] = df1[col].dt.day\n",
    "df1 =  df1.drop(col_dt, axis=1)\n",
    "\n",
    "# convert objects to factors\n",
    "col_obj = df1.select_dtypes(include=np.object).columns\n",
    "for col in col_obj:\n",
    "    df1[col] = pd.factorize(df1[col])[0] +1\n",
    "\n",
    "print(df1.info())\n",
    "\n",
    "\n",
    "# Checking df1 columns\n",
    "info = []\n",
    "for col in df1.columns:\n",
    "    non_null  = len(df1) - np.sum(pd.isna(df1[col]))\n",
    "    num_unique = df1[col].nunique()\n",
    "    col_type = str(df1[col].dtype)\n",
    "\n",
    "    info.append([col, non_null, num_unique, col_type])\n",
    "\n",
    "features_info = pd.DataFrame(info, columns = ['colName','non-null values', 'unique', 'dtype'])\n",
    "\n",
    "display(features_info)"
   ]
  },
  {
   "cell_type": "code",
   "execution_count": 6,
   "metadata": {},
   "outputs": [
    {
     "name": "stdout",
     "output_type": "stream",
     "text": [
      "381210\n"
     ]
    }
   ],
   "source": [
    "print(df['CASE_NUMBER'].nunique())"
   ]
  },
  {
   "cell_type": "code",
   "execution_count": 7,
   "metadata": {},
   "outputs": [
    {
     "name": "stdout",
     "output_type": "stream",
     "text": [
      "Empty DataFrame\n",
      "Columns: [INSTITUTION, CASE_NUMBER, TOTAL_PAID_AMT, PAYER_CODE_1, PAYER_NAME_1, PAYER_1_PAID_AMT, PAYER_CODE_2, PAYER_NAME_2, PAYER_2_PAID_AMT, PAYER_CODE_3, PAYER_NAME_3, PAYER_3_PAID_AMT, PAYER_CODE_4, PAYER_NAME_4, PAYER_4_PAID_AMT, PAYER_CODE_5, PAYER_NAME_5, PAYER_5_PAID_AMT, CASE_TYPE, BED_TYPE, REFERRAL_TYPE, TREATMENT_CATEGORY, ADMISSION_DTE, ADMISSION_TYPE, DISCHARGE_DTE, DISCHARGE_TYPE, DISCHARGE_TYPE_DESC, LOS_DAYS, DOCTOR_CODE, DOCTOR_NAME, SPECIALTY_CODE, SPECIALTY_DESC, SPECIALTY_GRP, TOSP_COUNT, TOSP_STRING, TOSP_CODE1, TOSP_CODE2, TOSP_CODE3, TOSP_CODE4, TOSP_DESC1, TOSP_DESC2, TOSP_DESC3, TOSP_DESC4, NATIONALITY, RESID_CTY, RESID_POSTALCODE, DOB, NONRESID_FLAG, PATIENT_SID, PATIENT_NUMBER, GENDER, DECEASED_FLAG, MARITAL_STATUS, RELIGION, LANGUAGE, VIP_FLAG, RACE, DRG_CODE, DRG_DESC, PAYER_CODE1_V, PAYER_NAME1_V, PAYER_CODE2_V, PAYER_NAME2_V, PAYER_CODE3_V, PAYER_NAME3_V, PAYER_CODE4_V, PAYER_NAME4_V, PACKAGE_CODE, PACKAGE_PRICE, PACKAGE_EXCL, PACKAGE_ADJ, PACKAGE_DESC, PACKAGE_CODE1, PACKAGE_CODE2, PACKAGE_DESC1, PACKAGE_DESC2, ICD_CODE1, ICD_CODE2, ICD_CODE3, ICDCODE_STRING, PROF_FEE, TOTAL_FEES, WRITE_OFF, PCT_WRITE_OFF, WRITE_OFF_LABEL]\n",
      "Index: []\n",
      "\n",
      "[0 rows x 85 columns]\n"
     ]
    }
   ],
   "source": [
    "print(df[df.duplicated(subset=['CASE_NUMBER'], keep=False)])"
   ]
  },
  {
   "cell_type": "code",
   "execution_count": 90,
   "metadata": {},
   "outputs": [
    {
     "data": {
      "image/png": "[encoded data removed]",
      "text/plain": [
       "<Figure size 1080x1440 with 45 Axes>"
      ]
     },
     "metadata": {
      "needs_background": "light"
     },
     "output_type": "display_data"
    }
   ],
   "source": [
    "df1.hist(figsize=(15,20), layout=(-1,5))\n",
    "plt.tight_layout()\n",
    "plt.show()"
   ]
  },
  {
   "cell_type": "code",
   "execution_count": 8,
   "metadata": {},
   "outputs": [
    {
     "name": "stdout",
     "output_type": "stream",
     "text": [
      "        INSTITUTION  CASE_NUMBER  PAYER_CODE_1  PAYER_CODE_2  PAYER_CODE_3  \\\n",
      "0                 1   1014019571             1             1             1   \n",
      "1                 1   1014022893             1             0             0   \n",
      "2                 1   1014060798             2             2             0   \n",
      "3                 1   1015067071             1             1             0   \n",
      "4                 1   1015073219             1             0             0   \n",
      "...             ...          ...           ...           ...           ...   \n",
      "381205            4   4019117108            16             0             0   \n",
      "381206            4   4019117110             4             0             0   \n",
      "381207            4   4019117113             1             1             8   \n",
      "381208            4   4019117132             8             0             0   \n",
      "381209            4   4019117134             4             0             0   \n",
      "\n",
      "        PAYER_CODE_4  PAYER_CODE_5  BED_TYPE  REFERRAL_TYPE  \\\n",
      "0                  0             0         1              1   \n",
      "1                  0             0         2              1   \n",
      "2                  0             0         1              1   \n",
      "3                  0             0         3              1   \n",
      "4                  0             0         2              1   \n",
      "...              ...           ...       ...            ...   \n",
      "381205             0             0        10              1   \n",
      "381206             0             0        10              3   \n",
      "381207             0             0         1              3   \n",
      "381208             0             0        10              3   \n",
      "381209             0             0         1              3   \n",
      "\n",
      "        TREATMENT_CATEGORY  ...  WRITE_OFF_LABEL  ADMISSION_DTE_year  \\\n",
      "0                        1  ...                0                2018   \n",
      "1                        2  ...                0                2018   \n",
      "2                        1  ...                0                2018   \n",
      "3                        3  ...                0                2017   \n",
      "4                        4  ...                0                2019   \n",
      "...                    ...  ...              ...                 ...   \n",
      "381205                  52  ...                0                2019   \n",
      "381206                  52  ...                0                2019   \n",
      "381207                   1  ...                0                2019   \n",
      "381208                  52  ...                0                2019   \n",
      "381209                   1  ...                0                2019   \n",
      "\n",
      "        ADMISSION_DTE_month  ADMISSION_DTE_day  DISCHARGE_DTE_year  \\\n",
      "0                         5                  1                2018   \n",
      "1                         4                 24                2018   \n",
      "2                         4                 11                2018   \n",
      "3                         1                 26                2017   \n",
      "4                         9                 26                2019   \n",
      "...                     ...                ...                 ...   \n",
      "381205                   12                 31                2020   \n",
      "381206                   12                 31                2020   \n",
      "381207                   12                 31                2020   \n",
      "381208                   12                 31                2020   \n",
      "381209                   12                 31                2020   \n",
      "\n",
      "        DISCHARGE_DTE_month  DISCHARGE_DTE_day  DOB_year  DOB_month  DOB_day  \n",
      "0                         5                  4      1980         12       25  \n",
      "1                         4                 24      1951         10       26  \n",
      "2                         4                 12      1948          6        6  \n",
      "3                         1                 27      1980          1       23  \n",
      "4                         9                 26      1972          5       25  \n",
      "...                     ...                ...       ...        ...      ...  \n",
      "381205                    1                  3      1964         10       29  \n",
      "381206                    1                  4      1982          7       28  \n",
      "381207                    1                  6      1937          7       16  \n",
      "381208                    1                  1      1964          6       13  \n",
      "381209                    1                  1      2015         12       23  \n",
      "\n",
      "[381210 rows x 44 columns]\n"
     ]
    }
   ],
   "source": [
    "print(df1)"
   ]
  },
  {
   "cell_type": "markdown",
   "metadata": {},
   "source": [
    "### Feature Engineering"
   ]
  },
  {
   "cell_type": "code",
   "execution_count": 9,
   "metadata": {},
   "outputs": [
    {
     "name": "stdout",
     "output_type": "stream",
     "text": [
      "0    1980\n",
      "1    1951\n",
      "2    1948\n",
      "3    1980\n",
      "4    1972\n",
      "Name: DOB_year, dtype: int64\n",
      "        ADMISSION_DTE_year  DOB_year  Admission_Age\n",
      "0                     2018      1980             38\n",
      "1                     2018      1951             67\n",
      "2                     2018      1948             70\n",
      "3                     2017      1980             37\n",
      "4                     2019      1972             47\n",
      "...                    ...       ...            ...\n",
      "381205                2019      1964             55\n",
      "381206                2019      1982             37\n",
      "381207                2019      1937             82\n",
      "381208                2019      1964             55\n",
      "381209                2019      2015              4\n",
      "\n",
      "[381210 rows x 3 columns]\n"
     ]
    }
   ],
   "source": [
    "# Aggregate 'Admission_Age' using 'ADMISSION_DTE', 'DOB'\n",
    "print(df1['DOB_year'].head())\n",
    "df1['Admission_Age'] = df1['ADMISSION_DTE_year']-df1['DOB_year']\n",
    "print(df1[['ADMISSION_DTE_year', 'DOB_year','Admission_Age']])"
   ]
  },
  {
   "cell_type": "markdown",
   "metadata": {},
   "source": [
    "### Split Data to Training and Test"
   ]
  },
  {
   "cell_type": "code",
   "execution_count": 12,
   "metadata": {},
   "outputs": [
    {
     "data": {
      "text/plain": [
       "pandas.core.frame.DataFrame"
      ]
     },
     "execution_count": 12,
     "metadata": {},
     "output_type": "execute_result"
    }
   ],
   "source": [
    "type(df1)"
   ]
  },
  {
   "cell_type": "code",
   "execution_count": 13,
   "metadata": {},
   "outputs": [
    {
     "data": {
      "text/plain": [
       "(381210, 45)"
      ]
     },
     "execution_count": 13,
     "metadata": {},
     "output_type": "execute_result"
    }
   ],
   "source": [
    "df1.shape"
   ]
  },
  {
   "cell_type": "code",
   "execution_count": 14,
   "metadata": {},
   "outputs": [],
   "source": [
    "df1.index = df1.CASE_NUMBER\n",
    "df1 =  df1.drop(['CASE_NUMBER'], axis=1)"
   ]
  },
  {
   "cell_type": "code",
   "execution_count": 15,
   "metadata": {},
   "outputs": [],
   "source": [
    "# Fill NAN with zeros\n",
    "df1 = df1.fillna(0)"
   ]
  },
  {
   "cell_type": "code",
   "execution_count": 16,
   "metadata": {},
   "outputs": [
    {
     "name": "stdout",
     "output_type": "stream",
     "text": [
      "             INSTITUTION  PAYER_CODE_1  PAYER_CODE_2  PAYER_CODE_3  \\\n",
      "CASE_NUMBER                                                          \n",
      "1014019571             1             1             1             1   \n",
      "1014022893             1             1             0             0   \n",
      "1014060798             1             2             2             0   \n",
      "1015067071             1             1             1             0   \n",
      "1015073219             1             1             0             0   \n",
      "...                  ...           ...           ...           ...   \n",
      "4019117108             4            16             0             0   \n",
      "4019117110             4             4             0             0   \n",
      "4019117113             4             1             1             8   \n",
      "4019117132             4             8             0             0   \n",
      "4019117134             4             4             0             0   \n",
      "\n",
      "             PAYER_CODE_4  PAYER_CODE_5  BED_TYPE  REFERRAL_TYPE  \\\n",
      "CASE_NUMBER                                                        \n",
      "1014019571              0             0         1              1   \n",
      "1014022893              0             0         2              1   \n",
      "1014060798              0             0         1              1   \n",
      "1015067071              0             0         3              1   \n",
      "1015073219              0             0         2              1   \n",
      "...                   ...           ...       ...            ...   \n",
      "4019117108              0             0        10              1   \n",
      "4019117110              0             0        10              3   \n",
      "4019117113              0             0         1              3   \n",
      "4019117132              0             0        10              3   \n",
      "4019117134              0             0         1              3   \n",
      "\n",
      "             TREATMENT_CATEGORY  ADMISSION_TYPE  ...  ADMISSION_DTE_year  \\\n",
      "CASE_NUMBER                                      ...                       \n",
      "1014019571                    1               1  ...                2018   \n",
      "1014022893                    2               2  ...                2018   \n",
      "1014060798                    1               3  ...                2018   \n",
      "1015067071                    3               4  ...                2017   \n",
      "1015073219                    4               2  ...                2019   \n",
      "...                         ...             ...  ...                 ...   \n",
      "4019117108                   52               4  ...                2019   \n",
      "4019117110                   52               4  ...                2019   \n",
      "4019117113                    1               3  ...                2019   \n",
      "4019117132                   52               4  ...                2019   \n",
      "4019117134                    1               3  ...                2019   \n",
      "\n",
      "             ADMISSION_DTE_month  ADMISSION_DTE_day  DISCHARGE_DTE_year  \\\n",
      "CASE_NUMBER                                                               \n",
      "1014019571                     5                  1                2018   \n",
      "1014022893                     4                 24                2018   \n",
      "1014060798                     4                 11                2018   \n",
      "1015067071                     1                 26                2017   \n",
      "1015073219                     9                 26                2019   \n",
      "...                          ...                ...                 ...   \n",
      "4019117108                    12                 31                2020   \n",
      "4019117110                    12                 31                2020   \n",
      "4019117113                    12                 31                2020   \n",
      "4019117132                    12                 31                2020   \n",
      "4019117134                    12                 31                2020   \n",
      "\n",
      "             DISCHARGE_DTE_month  DISCHARGE_DTE_day  DOB_year  DOB_month  \\\n",
      "CASE_NUMBER                                                                \n",
      "1014019571                     5                  4      1980         12   \n",
      "1014022893                     4                 24      1951         10   \n",
      "1014060798                     4                 12      1948          6   \n",
      "1015067071                     1                 27      1980          1   \n",
      "1015073219                     9                 26      1972          5   \n",
      "...                          ...                ...       ...        ...   \n",
      "4019117108                     1                  3      1964         10   \n",
      "4019117110                     1                  4      1982          7   \n",
      "4019117113                     1                  6      1937          7   \n",
      "4019117132                     1                  1      1964          6   \n",
      "4019117134                     1                  1      2015         12   \n",
      "\n",
      "             DOB_day  Admission_Age  \n",
      "CASE_NUMBER                          \n",
      "1014019571        25             38  \n",
      "1014022893        26             67  \n",
      "1014060798         6             70  \n",
      "1015067071        23             37  \n",
      "1015073219        25             47  \n",
      "...              ...            ...  \n",
      "4019117108        29             55  \n",
      "4019117110        28             37  \n",
      "4019117113        16             82  \n",
      "4019117132        13             55  \n",
      "4019117134        23              4  \n",
      "\n",
      "[381210 rows x 44 columns]\n"
     ]
    }
   ],
   "source": [
    "print(df1)"
   ]
  },
  {
   "cell_type": "code",
   "execution_count": 17,
   "metadata": {},
   "outputs": [],
   "source": [
    "df1.to_csv('PARKWAY_PROCESSED_4_NAN.csv')"
   ]
  },
  {
   "cell_type": "code",
   "execution_count": 18,
   "metadata": {},
   "outputs": [],
   "source": [
    "X = df1.drop(\"WRITE_OFF_LABEL\",axis = 1)\n",
    "y = df1.WRITE_OFF_LABEL"
   ]
  },
  {
   "cell_type": "code",
   "execution_count": 19,
   "metadata": {},
   "outputs": [],
   "source": [
    "import warnings\n",
    "warnings.filterwarnings('ignore')\n",
    "%matplotlib inline\n",
    "#importing train_test_split\n",
    "from sklearn.model_selection import train_test_split\n",
    "X_train,X_test,y_train,y_test = train_test_split(X,y,test_size=1/3,random_state=42, stratify=y)"
   ]
  },
  {
   "cell_type": "code",
   "execution_count": 20,
   "metadata": {},
   "outputs": [
    {
     "data": {
      "text/html": [
       "<div>\n",
       "<style scoped>\n",
       "    .dataframe tbody tr th:only-of-type {\n",
       "        vertical-align: middle;\n",
       "    }\n",
       "\n",
       "    .dataframe tbody tr th {\n",
       "        vertical-align: top;\n",
       "    }\n",
       "\n",
       "    .dataframe thead th {\n",
       "        text-align: right;\n",
       "    }\n",
       "</style>\n",
       "<table border=\"1\" class=\"dataframe\">\n",
       "  <thead>\n",
       "    <tr style=\"text-align: right;\">\n",
       "      <th></th>\n",
       "      <th>INSTITUTION</th>\n",
       "      <th>PAYER_CODE_1</th>\n",
       "      <th>PAYER_CODE_2</th>\n",
       "      <th>PAYER_CODE_3</th>\n",
       "      <th>PAYER_CODE_4</th>\n",
       "      <th>PAYER_CODE_5</th>\n",
       "      <th>BED_TYPE</th>\n",
       "      <th>REFERRAL_TYPE</th>\n",
       "      <th>TREATMENT_CATEGORY</th>\n",
       "      <th>ADMISSION_TYPE</th>\n",
       "      <th>...</th>\n",
       "      <th>ADMISSION_DTE_year</th>\n",
       "      <th>ADMISSION_DTE_month</th>\n",
       "      <th>ADMISSION_DTE_day</th>\n",
       "      <th>DISCHARGE_DTE_year</th>\n",
       "      <th>DISCHARGE_DTE_month</th>\n",
       "      <th>DISCHARGE_DTE_day</th>\n",
       "      <th>DOB_year</th>\n",
       "      <th>DOB_month</th>\n",
       "      <th>DOB_day</th>\n",
       "      <th>Admission_Age</th>\n",
       "    </tr>\n",
       "    <tr>\n",
       "      <th>CASE_NUMBER</th>\n",
       "      <th></th>\n",
       "      <th></th>\n",
       "      <th></th>\n",
       "      <th></th>\n",
       "      <th></th>\n",
       "      <th></th>\n",
       "      <th></th>\n",
       "      <th></th>\n",
       "      <th></th>\n",
       "      <th></th>\n",
       "      <th></th>\n",
       "      <th></th>\n",
       "      <th></th>\n",
       "      <th></th>\n",
       "      <th></th>\n",
       "      <th></th>\n",
       "      <th></th>\n",
       "      <th></th>\n",
       "      <th></th>\n",
       "      <th></th>\n",
       "      <th></th>\n",
       "    </tr>\n",
       "  </thead>\n",
       "  <tbody>\n",
       "    <tr>\n",
       "      <th>1014019571</th>\n",
       "      <td>1</td>\n",
       "      <td>1</td>\n",
       "      <td>1</td>\n",
       "      <td>1</td>\n",
       "      <td>0</td>\n",
       "      <td>0</td>\n",
       "      <td>1</td>\n",
       "      <td>1</td>\n",
       "      <td>1</td>\n",
       "      <td>1</td>\n",
       "      <td>...</td>\n",
       "      <td>2018</td>\n",
       "      <td>5</td>\n",
       "      <td>1</td>\n",
       "      <td>2018</td>\n",
       "      <td>5</td>\n",
       "      <td>4</td>\n",
       "      <td>1980</td>\n",
       "      <td>12</td>\n",
       "      <td>25</td>\n",
       "      <td>38</td>\n",
       "    </tr>\n",
       "    <tr>\n",
       "      <th>1014022893</th>\n",
       "      <td>1</td>\n",
       "      <td>1</td>\n",
       "      <td>0</td>\n",
       "      <td>0</td>\n",
       "      <td>0</td>\n",
       "      <td>0</td>\n",
       "      <td>2</td>\n",
       "      <td>1</td>\n",
       "      <td>2</td>\n",
       "      <td>2</td>\n",
       "      <td>...</td>\n",
       "      <td>2018</td>\n",
       "      <td>4</td>\n",
       "      <td>24</td>\n",
       "      <td>2018</td>\n",
       "      <td>4</td>\n",
       "      <td>24</td>\n",
       "      <td>1951</td>\n",
       "      <td>10</td>\n",
       "      <td>26</td>\n",
       "      <td>67</td>\n",
       "    </tr>\n",
       "    <tr>\n",
       "      <th>1014060798</th>\n",
       "      <td>1</td>\n",
       "      <td>2</td>\n",
       "      <td>2</td>\n",
       "      <td>0</td>\n",
       "      <td>0</td>\n",
       "      <td>0</td>\n",
       "      <td>1</td>\n",
       "      <td>1</td>\n",
       "      <td>1</td>\n",
       "      <td>3</td>\n",
       "      <td>...</td>\n",
       "      <td>2018</td>\n",
       "      <td>4</td>\n",
       "      <td>11</td>\n",
       "      <td>2018</td>\n",
       "      <td>4</td>\n",
       "      <td>12</td>\n",
       "      <td>1948</td>\n",
       "      <td>6</td>\n",
       "      <td>6</td>\n",
       "      <td>70</td>\n",
       "    </tr>\n",
       "    <tr>\n",
       "      <th>1015067071</th>\n",
       "      <td>1</td>\n",
       "      <td>1</td>\n",
       "      <td>1</td>\n",
       "      <td>0</td>\n",
       "      <td>0</td>\n",
       "      <td>0</td>\n",
       "      <td>3</td>\n",
       "      <td>1</td>\n",
       "      <td>3</td>\n",
       "      <td>4</td>\n",
       "      <td>...</td>\n",
       "      <td>2017</td>\n",
       "      <td>1</td>\n",
       "      <td>26</td>\n",
       "      <td>2017</td>\n",
       "      <td>1</td>\n",
       "      <td>27</td>\n",
       "      <td>1980</td>\n",
       "      <td>1</td>\n",
       "      <td>23</td>\n",
       "      <td>37</td>\n",
       "    </tr>\n",
       "    <tr>\n",
       "      <th>1015073219</th>\n",
       "      <td>1</td>\n",
       "      <td>1</td>\n",
       "      <td>0</td>\n",
       "      <td>0</td>\n",
       "      <td>0</td>\n",
       "      <td>0</td>\n",
       "      <td>2</td>\n",
       "      <td>1</td>\n",
       "      <td>4</td>\n",
       "      <td>2</td>\n",
       "      <td>...</td>\n",
       "      <td>2019</td>\n",
       "      <td>9</td>\n",
       "      <td>26</td>\n",
       "      <td>2019</td>\n",
       "      <td>9</td>\n",
       "      <td>26</td>\n",
       "      <td>1972</td>\n",
       "      <td>5</td>\n",
       "      <td>25</td>\n",
       "      <td>47</td>\n",
       "    </tr>\n",
       "  </tbody>\n",
       "</table>\n",
       "<p>5 rows × 43 columns</p>\n",
       "</div>"
      ],
      "text/plain": [
       "             INSTITUTION  PAYER_CODE_1  PAYER_CODE_2  PAYER_CODE_3  \\\n",
       "CASE_NUMBER                                                          \n",
       "1014019571             1             1             1             1   \n",
       "1014022893             1             1             0             0   \n",
       "1014060798             1             2             2             0   \n",
       "1015067071             1             1             1             0   \n",
       "1015073219             1             1             0             0   \n",
       "\n",
       "             PAYER_CODE_4  PAYER_CODE_5  BED_TYPE  REFERRAL_TYPE  \\\n",
       "CASE_NUMBER                                                        \n",
       "1014019571              0             0         1              1   \n",
       "1014022893              0             0         2              1   \n",
       "1014060798              0             0         1              1   \n",
       "1015067071              0             0         3              1   \n",
       "1015073219              0             0         2              1   \n",
       "\n",
       "             TREATMENT_CATEGORY  ADMISSION_TYPE  ...  ADMISSION_DTE_year  \\\n",
       "CASE_NUMBER                                      ...                       \n",
       "1014019571                    1               1  ...                2018   \n",
       "1014022893                    2               2  ...                2018   \n",
       "1014060798                    1               3  ...                2018   \n",
       "1015067071                    3               4  ...                2017   \n",
       "1015073219                    4               2  ...                2019   \n",
       "\n",
       "             ADMISSION_DTE_month  ADMISSION_DTE_day  DISCHARGE_DTE_year  \\\n",
       "CASE_NUMBER                                                               \n",
       "1014019571                     5                  1                2018   \n",
       "1014022893                     4                 24                2018   \n",
       "1014060798                     4                 11                2018   \n",
       "1015067071                     1                 26                2017   \n",
       "1015073219                     9                 26                2019   \n",
       "\n",
       "             DISCHARGE_DTE_month  DISCHARGE_DTE_day  DOB_year  DOB_month  \\\n",
       "CASE_NUMBER                                                                \n",
       "1014019571                     5                  4      1980         12   \n",
       "1014022893                     4                 24      1951         10   \n",
       "1014060798                     4                 12      1948          6   \n",
       "1015067071                     1                 27      1980          1   \n",
       "1015073219                     9                 26      1972          5   \n",
       "\n",
       "             DOB_day  Admission_Age  \n",
       "CASE_NUMBER                          \n",
       "1014019571        25             38  \n",
       "1014022893        26             67  \n",
       "1014060798         6             70  \n",
       "1015067071        23             37  \n",
       "1015073219        25             47  \n",
       "\n",
       "[5 rows x 43 columns]"
      ]
     },
     "execution_count": 20,
     "metadata": {},
     "output_type": "execute_result"
    }
   ],
   "source": [
    "X.head()"
   ]
  },
  {
   "cell_type": "code",
   "execution_count": 21,
   "metadata": {},
   "outputs": [
    {
     "data": {
      "text/plain": [
       "CASE_NUMBER\n",
       "1014019571    0\n",
       "1014022893    0\n",
       "1014060798    0\n",
       "1015067071    0\n",
       "1015073219    0\n",
       "Name: WRITE_OFF_LABEL, dtype: int64"
      ]
     },
     "execution_count": 21,
     "metadata": {},
     "output_type": "execute_result"
    }
   ],
   "source": [
    "y.head()"
   ]
  },
  {
   "cell_type": "code",
   "execution_count": 22,
   "metadata": {},
   "outputs": [
    {
     "data": {
      "text/plain": [
       "CASE_NUMBER\n",
       "4017062839    0\n",
       "1019051639    0\n",
       "4018041857    0\n",
       "1017016510    0\n",
       "2019044524    0\n",
       "Name: WRITE_OFF_LABEL, dtype: int64"
      ]
     },
     "execution_count": 22,
     "metadata": {},
     "output_type": "execute_result"
    }
   ],
   "source": [
    "y_train.head()"
   ]
  },
  {
   "cell_type": "code",
   "execution_count": 23,
   "metadata": {},
   "outputs": [
    {
     "name": "stdout",
     "output_type": "stream",
     "text": [
      "X_train.shape is  (254140, 43)\n",
      "X_test.shape is  (127070, 43)\n",
      "y_train.shape is  (254140,)\n",
      "y_test.shape is  (127070,)\n"
     ]
    }
   ],
   "source": [
    "print('X_train.shape is ', X_train.shape)\n",
    "print('X_test.shape is ', X_test.shape)\n",
    "print('y_train.shape is ', y_train.shape)\n",
    "print('y_test.shape is ', y_test.shape)"
   ]
  },
  {
   "cell_type": "code",
   "execution_count": 24,
   "metadata": {},
   "outputs": [],
   "source": [
    "from sklearn.preprocessing import StandardScaler  \n",
    "scaler = StandardScaler()  \n",
    "scaler.fit(X_train)\n",
    "\n",
    "X_train_scaled = scaler.transform(X_train)  \n",
    "X_test_scaled = scaler.transform(X_test) "
   ]
  },
  {
   "cell_type": "code",
   "execution_count": 25,
   "metadata": {},
   "outputs": [
    {
     "data": {
      "text/plain": [
       "(array([], dtype=int64), array([], dtype=int64))"
      ]
     },
     "execution_count": 25,
     "metadata": {},
     "output_type": "execute_result"
    }
   ],
   "source": [
    "#type(X_train)\n",
    "np.where(np.isnan(X_train))"
   ]
  },
  {
   "cell_type": "markdown",
   "metadata": {},
   "source": [
    "## DATA PREPARATION WITH SMOTE (Synthetic Minority Over Sampling Technique)\n",
    "## UNSCALED FOR DECISION TREE MODELS"
   ]
  },
  {
   "cell_type": "code",
   "execution_count": 26,
   "metadata": {},
   "outputs": [
    {
     "name": "stdout",
     "output_type": "stream",
     "text": [
      "0.7.0\n",
      "X_train.shape is  (254140, 43)\n",
      "X_train_unscaled_ss_01.shape is  (279121, 43)\n",
      "y_train_unscaled_ss_01.shape is  (279121,)\n",
      "X_train_unscaled_ss_02.shape is  (304496, 43)\n",
      "y_train_unscaled_ss_02.shape is  (304496,)\n",
      "X_train_unscaled_ss_03.shape is  (329871, 43)\n",
      "y_train_unscaled_ss_03.shape is  (329871,)\n",
      "X_train_unscaled_ss_04.shape is  (355245, 43)\n",
      "y_train_unscaled_ss_04.shape is  (355245,)\n",
      "X_train_unscaled_ss_05.shape is  (380620, 43)\n",
      "y_train_unscaled_ss_05.shape is  (380620,)\n",
      "X_train_unscaled_ss_06.shape is  (405995, 43)\n",
      "y_train_unscaled_ss_06.shape is  (405995,)\n",
      "X_train_unscaled_ss_07.shape is  (431369, 43)\n",
      "y_train_unscaled_ss_07.shape is  (431369,)\n",
      "X_train_unscaled_ss_08.shape is  (456744, 43)\n",
      "y_train_unscaled_ss_08.shape is  (456744,)\n",
      "X_train_unscaled_ss_09.shape is  (482119, 43)\n",
      "y_train_unscaled_ss_09.shape is  (482119,)\n",
      "X_train_unscaled_ss_10.shape is  (507494, 43)\n",
      "y_train_unscaled_ss_10.shape is  (507494,)\n",
      "X_test.shape is  (127070, 43)\n",
      "y_test.shape is  (127070,)\n"
     ]
    }
   ],
   "source": [
    "# Created few instances of smote here\n",
    "# sm_ss_10 = normal smote with default sampling strategy = 1.0 -> this will create synthetic data for minority class such that the\n",
    "#   number of samples for minority class equals with samples for majority class\n",
    "# sm_ss_01 = smote with sampling strategy = 0.1\n",
    "# sm_ss_02 = smote with sampling strategy = 0.2\n",
    "# sm_ss_03 = smote with sampling strategy = 0.3 etc\n",
    "# this will create synthetic data for minority class such that the number of samples for minority class = 0.1,0.2, 0.3 or 10%,20%,30% of the number of samples from majority class\n",
    "import imblearn\n",
    "from imblearn.over_sampling import SMOTE\n",
    "print(imblearn.__version__)\n",
    "\n",
    "sm_ss_01 = SMOTE(random_state=55,sampling_strategy=0.1)\n",
    "sm_ss_02 = SMOTE(random_state=55,sampling_strategy=0.2)\n",
    "sm_ss_03 = SMOTE(random_state=55,sampling_strategy=0.3)\n",
    "sm_ss_04 = SMOTE(random_state=55,sampling_strategy=0.4)\n",
    "sm_ss_05 = SMOTE(random_state=55,sampling_strategy=0.5)\n",
    "sm_ss_06 = SMOTE(random_state=55,sampling_strategy=0.6)\n",
    "sm_ss_07 = SMOTE(random_state=55,sampling_strategy=0.7)\n",
    "sm_ss_08 = SMOTE(random_state=55,sampling_strategy=0.8)\n",
    "sm_ss_09 = SMOTE(random_state=55,sampling_strategy=0.9)\n",
    "sm_ss_10 = SMOTE(random_state=55) # default sampling strategy is 1.0\n",
    "\n",
    "\n",
    "# Preparing Unscaled Training Data with Smote\n",
    "X_train_unscaled_ss_01, y_train_unscaled_ss_01 = sm_ss_01.fit_sample(X_train,y_train)\n",
    "X_train_unscaled_ss_02, y_train_unscaled_ss_02 = sm_ss_02.fit_sample(X_train,y_train)\n",
    "X_train_unscaled_ss_03, y_train_unscaled_ss_03 = sm_ss_03.fit_sample(X_train,y_train)\n",
    "X_train_unscaled_ss_04, y_train_unscaled_ss_04 = sm_ss_04.fit_sample(X_train,y_train)\n",
    "X_train_unscaled_ss_05, y_train_unscaled_ss_05 = sm_ss_05.fit_sample(X_train,y_train)\n",
    "X_train_unscaled_ss_06, y_train_unscaled_ss_06 = sm_ss_06.fit_sample(X_train,y_train)\n",
    "X_train_unscaled_ss_07, y_train_unscaled_ss_07 = sm_ss_07.fit_sample(X_train,y_train)\n",
    "X_train_unscaled_ss_08, y_train_unscaled_ss_08 = sm_ss_08.fit_sample(X_train,y_train)\n",
    "X_train_unscaled_ss_09, y_train_unscaled_ss_09 = sm_ss_09.fit_sample(X_train,y_train)\n",
    "X_train_unscaled_ss_10, y_train_unscaled_ss_10 = sm_ss_10.fit_sample(X_train,y_train)\n",
    "\n",
    "# Checking Data Shape\n",
    "print('X_train.shape is ', X_train.shape)\n",
    "print('X_train_unscaled_ss_01.shape is ', X_train_unscaled_ss_01.shape)\n",
    "print('y_train_unscaled_ss_01.shape is ', y_train_unscaled_ss_01.shape)\n",
    "print('X_train_unscaled_ss_02.shape is ', X_train_unscaled_ss_02.shape)\n",
    "print('y_train_unscaled_ss_02.shape is ', y_train_unscaled_ss_02.shape)\n",
    "print('X_train_unscaled_ss_03.shape is ', X_train_unscaled_ss_03.shape)\n",
    "print('y_train_unscaled_ss_03.shape is ', y_train_unscaled_ss_03.shape)\n",
    "print('X_train_unscaled_ss_04.shape is ', X_train_unscaled_ss_04.shape)\n",
    "print('y_train_unscaled_ss_04.shape is ', y_train_unscaled_ss_04.shape)\n",
    "print('X_train_unscaled_ss_05.shape is ', X_train_unscaled_ss_05.shape)\n",
    "print('y_train_unscaled_ss_05.shape is ', y_train_unscaled_ss_05.shape)\n",
    "print('X_train_unscaled_ss_06.shape is ', X_train_unscaled_ss_06.shape)\n",
    "print('y_train_unscaled_ss_06.shape is ', y_train_unscaled_ss_06.shape)\n",
    "print('X_train_unscaled_ss_07.shape is ', X_train_unscaled_ss_07.shape)\n",
    "print('y_train_unscaled_ss_07.shape is ', y_train_unscaled_ss_07.shape)\n",
    "print('X_train_unscaled_ss_08.shape is ', X_train_unscaled_ss_08.shape)\n",
    "print('y_train_unscaled_ss_08.shape is ', y_train_unscaled_ss_08.shape)\n",
    "print('X_train_unscaled_ss_09.shape is ', X_train_unscaled_ss_09.shape)\n",
    "print('y_train_unscaled_ss_09.shape is ', y_train_unscaled_ss_09.shape)\n",
    "print('X_train_unscaled_ss_10.shape is ', X_train_unscaled_ss_10.shape)\n",
    "print('y_train_unscaled_ss_10.shape is ', y_train_unscaled_ss_10.shape)\n",
    "\n",
    "print('X_test.shape is ', X_test.shape)\n",
    "print('y_test.shape is ', y_test.shape)\n",
    "\n"
   ]
  },
  {
   "cell_type": "code",
   "execution_count": 27,
   "metadata": {
    "scrolled": true
   },
   "outputs": [
    {
     "name": "stdout",
     "output_type": "stream",
     "text": [
      "y_train unique values  {0: 253747, 1: 393}\n",
      "y_train_unscaled_ss_01 unique values  {0: 253747, 1: 25374}\n",
      "y_train_unscaled_ss_02 unique values  {0: 253747, 1: 50749}\n",
      "y_train_unscaled_ss_03 unique values  {0: 253747, 1: 76124}\n",
      "y_train_unscaled_ss_04 unique values  {0: 253747, 1: 101498}\n",
      "y_train_unscaled_ss_05 unique values  {0: 253747, 1: 126873}\n",
      "y_train_unscaled_ss_06 unique values  {0: 253747, 1: 152248}\n",
      "y_train_unscaled_ss_07 unique values  {0: 253747, 1: 177622}\n",
      "y_train_unscaled_ss_08 unique values  {0: 253747, 1: 202997}\n",
      "y_train_unscaled_ss_09 unique values  {0: 253747, 1: 228372}\n",
      "y_train_unscaled_ss_10 unique values  {0: 253747, 1: 253747}\n"
     ]
    }
   ],
   "source": [
    "# Checking Unique Values in y_train\n",
    "unique, count = np.unique(y_train, return_counts=True)\n",
    "y_train_dict_value_count = {k:v for (k,v) in zip(unique,count)}\n",
    "print('y_train unique values ',y_train_dict_value_count)\n",
    "\n",
    "unique, count = np.unique(y_train_unscaled_ss_01, return_counts=True)\n",
    "y_train_dict_value_count = {k:v for (k,v) in zip(unique,count)}\n",
    "print('y_train_unscaled_ss_01 unique values ',y_train_dict_value_count)\n",
    "\n",
    "unique, count = np.unique(y_train_unscaled_ss_02, return_counts=True)\n",
    "y_train_dict_value_count = {k:v for (k,v) in zip(unique,count)}\n",
    "print('y_train_unscaled_ss_02 unique values ',y_train_dict_value_count)\n",
    "\n",
    "unique, count = np.unique(y_train_unscaled_ss_03, return_counts=True)\n",
    "y_train_dict_value_count = {k:v for (k,v) in zip(unique,count)}\n",
    "print('y_train_unscaled_ss_03 unique values ',y_train_dict_value_count)\n",
    "\n",
    "unique, count = np.unique(y_train_unscaled_ss_04, return_counts=True)\n",
    "y_train_dict_value_count = {k:v for (k,v) in zip(unique,count)}\n",
    "print('y_train_unscaled_ss_04 unique values ',y_train_dict_value_count)\n",
    "\n",
    "unique, count = np.unique(y_train_unscaled_ss_05, return_counts=True)\n",
    "y_train_dict_value_count = {k:v for (k,v) in zip(unique,count)}\n",
    "print('y_train_unscaled_ss_05 unique values ',y_train_dict_value_count)\n",
    "\n",
    "unique, count = np.unique(y_train_unscaled_ss_06, return_counts=True)\n",
    "y_train_dict_value_count = {k:v for (k,v) in zip(unique,count)}\n",
    "print('y_train_unscaled_ss_06 unique values ',y_train_dict_value_count)\n",
    "\n",
    "unique, count = np.unique(y_train_unscaled_ss_07, return_counts=True)\n",
    "y_train_dict_value_count = {k:v for (k,v) in zip(unique,count)}\n",
    "print('y_train_unscaled_ss_07 unique values ',y_train_dict_value_count)\n",
    "\n",
    "unique, count = np.unique(y_train_unscaled_ss_08, return_counts=True)\n",
    "y_train_dict_value_count = {k:v for (k,v) in zip(unique,count)}\n",
    "print('y_train_unscaled_ss_08 unique values ',y_train_dict_value_count)\n",
    "\n",
    "unique, count = np.unique(y_train_unscaled_ss_09, return_counts=True)\n",
    "y_train_dict_value_count = {k:v for (k,v) in zip(unique,count)}\n",
    "print('y_train_unscaled_ss_09 unique values ',y_train_dict_value_count)\n",
    "\n",
    "unique, count = np.unique(y_train_unscaled_ss_10, return_counts=True)\n",
    "y_train_dict_value_count = {k:v for (k,v) in zip(unique,count)}\n",
    "print('y_train_unscaled_ss_10 unique values ',y_train_dict_value_count)\n"
   ]
  },
  {
   "cell_type": "markdown",
   "metadata": {},
   "source": [
    "## DECISION TREE"
   ]
  },
  {
   "cell_type": "markdown",
   "metadata": {},
   "source": [
    "### Decision Tree WITHOUT SMOTE"
   ]
  },
  {
   "cell_type": "code",
   "execution_count": 28,
   "metadata": {},
   "outputs": [
    {
     "name": "stdout",
     "output_type": "stream",
     "text": [
      "Accuracy on training set: 1.000\n",
      "Accuracy on test set: 0.997\n"
     ]
    }
   ],
   "source": [
    "from sklearn.tree import DecisionTreeClassifier\n",
    "dt = DecisionTreeClassifier(criterion='entropy',random_state=0)\n",
    "dt.fit(X_train, y_train)\n",
    "print(\"Accuracy on training set: {:.3f}\".format(dt.score(X_train, y_train)))\n",
    "print(\"Accuracy on test set: {:.3f}\".format(dt.score(X_test, y_test)))"
   ]
  },
  {
   "cell_type": "code",
   "execution_count": 29,
   "metadata": {},
   "outputs": [],
   "source": [
    "y_pred = dt.predict(X_test)"
   ]
  },
  {
   "cell_type": "code",
   "execution_count": 30,
   "metadata": {},
   "outputs": [
    {
     "name": "stdout",
     "output_type": "stream",
     "text": [
      "[[126639    235]\n",
      " [   160     36]]\n",
      "              precision    recall  f1-score   support\n",
      "\n",
      "           0       1.00      1.00      1.00    126874\n",
      "           1       0.13      0.18      0.15       196\n",
      "\n",
      "    accuracy                           1.00    127070\n",
      "   macro avg       0.57      0.59      0.58    127070\n",
      "weighted avg       1.00      1.00      1.00    127070\n",
      "\n"
     ]
    }
   ],
   "source": [
    "from sklearn.metrics import classification_report, confusion_matrix  \n",
    "\n",
    "print(confusion_matrix(y_test, y_pred))  \n",
    "print(classification_report(y_test, y_pred)) "
   ]
  },
  {
   "cell_type": "code",
   "execution_count": 31,
   "metadata": {},
   "outputs": [],
   "source": [
    "#DT visualizatin method 1\n",
    "\n",
    "from sklearn.tree import export_graphviz\n",
    "\n",
    "dotfile = open(\"dt_unscaled_NoSMOTE.dot\", 'w')\n",
    "\n",
    "export_graphviz(dt, out_file=dotfile,feature_names = X.columns,class_names=['0','1'])\n",
    "dotfile.close()"
   ]
  },
  {
   "cell_type": "code",
   "execution_count": 32,
   "metadata": {},
   "outputs": [
    {
     "data": {
      "text/plain": [
       "0"
      ]
     },
     "execution_count": 32,
     "metadata": {},
     "output_type": "execute_result"
    }
   ],
   "source": [
    "#DT visualizatin method 2\n",
    "# need to install Graphviz first https://graphviz.gitlab.io/_pages/Download/Download_windows.html\n",
    "from sklearn.tree import export_graphviz\n",
    "import os\n",
    "\n",
    "os.environ[\"PATH\"] += os.pathsep + 'C:/Program Files (x86)/Graphviz2.38/bin/'\n",
    "\n",
    "export_graphviz(dt, out_file='tree.dot', feature_names=X.columns,class_names=['0','1'])\n",
    "# Convert to png using system command (requires Graphviz)\n",
    "from subprocess import call\n",
    "call(['dot', '-Tpng', 'tree.dot', '-o', 'ParkwayWriteOff_Dectree_Unscaled_NoSmote.png', '-Gdpi=600'])\n",
    "\n",
    "# Display in jupyter notebook\n",
    "#from IPython.display import Image\n",
    "#Image(filename = 'ParkwayWriteOff_tree.png')"
   ]
  },
  {
   "cell_type": "code",
   "execution_count": 35,
   "metadata": {},
   "outputs": [
    {
     "name": "stdout",
     "output_type": "stream",
     "text": [
      "Accuracy Score for DT = 0.9968914771385851\n"
     ]
    },
    {
     "data": {
      "image/png": "[encoded data removed]",
      "text/plain": [
       "<Figure size 432x288 with 1 Axes>"
      ]
     },
     "metadata": {
      "needs_background": "light"
     },
     "output_type": "display_data"
    }
   ],
   "source": [
    "from sklearn import metrics\n",
    "y_pred_dt = dt.predict(X_test)\n",
    "print(\"Accuracy Score for DT =\", metrics.accuracy_score(y_test, y_pred_dt))\n",
    "fpr_dt, tpr_dt, _ = metrics.roc_curve(y_test,  y_pred_dt)\n",
    "auc_dt = metrics.roc_auc_score(y_test, y_pred_dt)\n",
    "#HC: Plot ROC for Decision Tree dt\n",
    "plt.plot(fpr_dt,tpr_dt,label=\"Decision Tree, auc=\"+str(auc_dt))\n",
    "plt.plot([0,1],[0,1],'k--')\n",
    "plt.legend(loc=4)\n",
    "plt.show()"
   ]
  },
  {
   "cell_type": "code",
   "execution_count": 36,
   "metadata": {},
   "outputs": [
    {
     "name": "stdout",
     "output_type": "stream",
     "text": [
      "Feature: 0, INSTITUTION, Score: 0.01934\n",
      "Feature: 1, PAYER_CODE_1, Score: 0.03681\n",
      "Feature: 2, PAYER_CODE_2, Score: 0.02216\n",
      "Feature: 3, PAYER_CODE_3, Score: 0.01535\n",
      "Feature: 4, PAYER_CODE_4, Score: 0.00904\n",
      "Feature: 5, PAYER_CODE_5, Score: 0.00111\n",
      "Feature: 6, BED_TYPE, Score: 0.01119\n",
      "Feature: 7, REFERRAL_TYPE, Score: 0.00796\n",
      "Feature: 8, TREATMENT_CATEGORY, Score: 0.01098\n",
      "Feature: 9, ADMISSION_TYPE, Score: 0.00686\n",
      "Feature: 10, DISCHARGE_TYPE, Score: 0.01140\n",
      "Feature: 11, LOS_DAYS, Score: 0.12961\n",
      "Feature: 12, DOCTOR_CODE, Score: 0.05360\n",
      "Feature: 13, SPECIALTY_CODE, Score: 0.02632\n",
      "Feature: 14, SPECIALTY_GRP, Score: 0.00703\n",
      "Feature: 15, TOSP_COUNT, Score: 0.00703\n",
      "Feature: 16, TOSP_CODE1, Score: 0.02049\n",
      "Feature: 17, TOSP_CODE2, Score: 0.00688\n",
      "Feature: 18, TOSP_CODE3, Score: 0.00841\n",
      "Feature: 19, TOSP_CODE4, Score: 0.00265\n",
      "Feature: 20, NATIONALITY, Score: 0.13238\n",
      "Feature: 21, RESID_CTY, Score: 0.00187\n",
      "Feature: 22, RESID_POSTALCODE, Score: 0.04216\n",
      "Feature: 23, NONRESID_FLAG, Score: 0.00065\n",
      "Feature: 24, GENDER, Score: 0.00437\n",
      "Feature: 25, DECEASED_FLAG, Score: 0.00240\n",
      "Feature: 26, MARITAL_STATUS, Score: 0.00985\n",
      "Feature: 27, RELIGION, Score: 0.02610\n",
      "Feature: 28, VIP_FLAG, Score: 0.00170\n",
      "Feature: 29, RACE, Score: 0.01596\n",
      "Feature: 30, ICD_CODE1, Score: 0.04774\n",
      "Feature: 31, ICD_CODE2, Score: 0.02557\n",
      "Feature: 32, ICD_CODE3, Score: 0.01369\n",
      "Feature: 33, WRITE_OFF_LABEL, Score: 0.02559\n",
      "Feature: 34, ADMISSION_DTE_year, Score: 0.01972\n",
      "Feature: 35, ADMISSION_DTE_month, Score: 0.03661\n",
      "Feature: 36, ADMISSION_DTE_day, Score: 0.01120\n",
      "Feature: 37, DISCHARGE_DTE_year, Score: 0.02051\n",
      "Feature: 38, DISCHARGE_DTE_month, Score: 0.03217\n",
      "Feature: 39, DISCHARGE_DTE_day, Score: 0.03302\n",
      "Feature: 40, DOB_year, Score: 0.02575\n",
      "Feature: 41, DOB_month, Score: 0.03296\n",
      "Feature: 42, DOB_day, Score: 0.02384\n",
      "\n",
      "Below is the barchart for each feature's value\n"
     ]
    },
    {
     "data": {
      "image/png": "[encoded data removed]",
      "text/plain": [
       "<Figure size 432x288 with 1 Axes>"
      ]
     },
     "metadata": {
      "needs_background": "light"
     },
     "output_type": "display_data"
    },
    {
     "data": {
      "text/plain": [
       "{'INSTITUTION': 0.01933654296793789,\n",
       " 'PAYER_CODE_1': 0.036814886884121475,\n",
       " 'PAYER_CODE_2': 0.022159918425252938,\n",
       " 'PAYER_CODE_3': 0.01535438009579856,\n",
       " 'PAYER_CODE_4': 0.009043561558009535,\n",
       " 'PAYER_CODE_5': 0.0011073723244204626,\n",
       " 'BED_TYPE': 0.011186677843464447,\n",
       " 'REFERRAL_TYPE': 0.00796318485209775,\n",
       " 'TREATMENT_CATEGORY': 0.010980409048713727,\n",
       " 'ADMISSION_TYPE': 0.0068584024935060715,\n",
       " 'DISCHARGE_TYPE': 0.011399908654919988,\n",
       " 'LOS_DAYS': 0.12961352537703144,\n",
       " 'DOCTOR_CODE': 0.05359913820407048,\n",
       " 'SPECIALTY_CODE': 0.02631911443613569,\n",
       " 'SPECIALTY_GRP': 0.007026431733646504,\n",
       " 'TOSP_COUNT': 0.0070255766966710095,\n",
       " 'TOSP_CODE1': 0.0204855328935143,\n",
       " 'TOSP_CODE2': 0.0068755142450453305,\n",
       " 'TOSP_CODE3': 0.00840649983265432,\n",
       " 'TOSP_CODE4': 0.0026539920639506616,\n",
       " 'NATIONALITY': 0.1323751781499683,\n",
       " 'RESID_CTY': 0.0018662577832660278,\n",
       " 'RESID_POSTALCODE': 0.042158441532338435,\n",
       " 'NONRESID_FLAG': 0.000650361326532613,\n",
       " 'GENDER': 0.004373843409589594,\n",
       " 'DECEASED_FLAG': 0.002398470568087725,\n",
       " 'MARITAL_STATUS': 0.009845736872417476,\n",
       " 'RELIGION': 0.02609708292688212,\n",
       " 'VIP_FLAG': 0.0017016230009593947,\n",
       " 'RACE': 0.0159590755156103,\n",
       " 'ICD_CODE1': 0.04774064338129034,\n",
       " 'ICD_CODE2': 0.02556966665647704,\n",
       " 'ICD_CODE3': 0.013694048439569647,\n",
       " 'WRITE_OFF_LABEL': 0.025585032854699964,\n",
       " 'ADMISSION_DTE_year': 0.019720733155864183,\n",
       " 'ADMISSION_DTE_month': 0.036613947018954256,\n",
       " 'ADMISSION_DTE_day': 0.01120254261353958,\n",
       " 'DISCHARGE_DTE_year': 0.02050607222396658,\n",
       " 'DISCHARGE_DTE_month': 0.032165010499630685,\n",
       " 'DISCHARGE_DTE_day': 0.03302283070892219,\n",
       " 'DOB_year': 0.025747826375221897,\n",
       " 'DOB_month': 0.032958089883609265,\n",
       " 'DOB_day': 0.02383691447163984}"
      ]
     },
     "execution_count": 36,
     "metadata": {},
     "output_type": "execute_result"
    }
   ],
   "source": [
    "# Method 1: with bar chart\n",
    "from matplotlib import pyplot\n",
    "# get importance\n",
    "importance = dt.feature_importances_\n",
    "# summarize feature importance\n",
    "for i,v in enumerate(importance):\n",
    "    print('Feature: %0d, %s, Score: %.5f' % (i,df1.columns[i],v))\n",
    "# plot feature importance\n",
    "print()\n",
    "print('Below is the barchart for each feature\\'s value')\n",
    "pyplot.bar([x for x in range(len(importance))], importance)\n",
    "#pyplot.bar([diabetes_data.columns[x] for x in range(len(importance))], importance)\n",
    "pyplot.show()\n",
    "\n",
    "#Method 2: Simply showing numbers\n",
    "feature_importances = dict(zip(df1.columns, dt.feature_importances_))\n",
    "feature_importances"
   ]
  },
  {
   "cell_type": "markdown",
   "metadata": {},
   "source": [
    "### Decision Tree WITH SMOTE"
   ]
  },
  {
   "cell_type": "markdown",
   "metadata": {},
   "source": [
    "#### Decision Tree WITH SMOTE SS = 0.1"
   ]
  },
  {
   "cell_type": "code",
   "execution_count": 37,
   "metadata": {},
   "outputs": [
    {
     "name": "stdout",
     "output_type": "stream",
     "text": [
      "Accuracy on training set: 1.000\n",
      "Accuracy on test set: 0.995\n",
      "[[126438    436]\n",
      " [   162     34]]\n",
      "              precision    recall  f1-score   support\n",
      "\n",
      "           0       1.00      1.00      1.00    126874\n",
      "           1       0.07      0.17      0.10       196\n",
      "\n",
      "    accuracy                           1.00    127070\n",
      "   macro avg       0.54      0.59      0.55    127070\n",
      "weighted avg       1.00      1.00      1.00    127070\n",
      "\n"
     ]
    }
   ],
   "source": [
    "dt.fit(X_train_unscaled_ss_01, y_train_unscaled_ss_01)\n",
    "print(\"Accuracy on training set: {:.3f}\".format(dt.score(X_train_unscaled_ss_01, y_train_unscaled_ss_01)))\n",
    "print(\"Accuracy on test set: {:.3f}\".format(dt.score(X_test, y_test)))\n",
    "y_pred = dt.predict(X_test)\n",
    "print(confusion_matrix(y_test, y_pred))  \n",
    "print(classification_report(y_test, y_pred)) "
   ]
  },
  {
   "cell_type": "markdown",
   "metadata": {},
   "source": [
    "#### Decision Tree WITH SMOTE SS = 0.2"
   ]
  },
  {
   "cell_type": "code",
   "execution_count": 38,
   "metadata": {},
   "outputs": [
    {
     "name": "stdout",
     "output_type": "stream",
     "text": [
      "Accuracy on training set: 1.000\n",
      "Accuracy on test set: 0.995\n",
      "[[126425    449]\n",
      " [   157     39]]\n",
      "              precision    recall  f1-score   support\n",
      "\n",
      "           0       1.00      1.00      1.00    126874\n",
      "           1       0.08      0.20      0.11       196\n",
      "\n",
      "    accuracy                           1.00    127070\n",
      "   macro avg       0.54      0.60      0.56    127070\n",
      "weighted avg       1.00      1.00      1.00    127070\n",
      "\n"
     ]
    }
   ],
   "source": [
    "dt.fit(X_train_unscaled_ss_02, y_train_unscaled_ss_02)\n",
    "print(\"Accuracy on training set: {:.3f}\".format(dt.score(X_train_unscaled_ss_02, y_train_unscaled_ss_02)))\n",
    "print(\"Accuracy on test set: {:.3f}\".format(dt.score(X_test, y_test)))\n",
    "y_pred = dt.predict(X_test)\n",
    "print(confusion_matrix(y_test, y_pred))  \n",
    "print(classification_report(y_test, y_pred)) "
   ]
  },
  {
   "cell_type": "markdown",
   "metadata": {},
   "source": [
    "#### Decision Tree WITH SMOTE SS = 0.3"
   ]
  },
  {
   "cell_type": "code",
   "execution_count": 39,
   "metadata": {},
   "outputs": [
    {
     "name": "stdout",
     "output_type": "stream",
     "text": [
      "Accuracy on training set: 1.000\n",
      "Accuracy on test set: 0.995\n",
      "[[126400    474]\n",
      " [   161     35]]\n",
      "              precision    recall  f1-score   support\n",
      "\n",
      "           0       1.00      1.00      1.00    126874\n",
      "           1       0.07      0.18      0.10       196\n",
      "\n",
      "    accuracy                           1.00    127070\n",
      "   macro avg       0.53      0.59      0.55    127070\n",
      "weighted avg       1.00      1.00      1.00    127070\n",
      "\n"
     ]
    }
   ],
   "source": [
    "dt.fit(X_train_unscaled_ss_03, y_train_unscaled_ss_03)\n",
    "print(\"Accuracy on training set: {:.3f}\".format(dt.score(X_train_unscaled_ss_03, y_train_unscaled_ss_03)))\n",
    "print(\"Accuracy on test set: {:.3f}\".format(dt.score(X_test, y_test)))\n",
    "y_pred = dt.predict(X_test)\n",
    "print(confusion_matrix(y_test, y_pred))  \n",
    "print(classification_report(y_test, y_pred)) "
   ]
  },
  {
   "cell_type": "markdown",
   "metadata": {},
   "source": [
    "#### Decision Tree WITH SMOTE SS = 0.4"
   ]
  },
  {
   "cell_type": "code",
   "execution_count": 40,
   "metadata": {},
   "outputs": [
    {
     "name": "stdout",
     "output_type": "stream",
     "text": [
      "Accuracy on training set: 1.000\n",
      "Accuracy on test set: 0.995\n",
      "[[126445    429]\n",
      " [   163     33]]\n",
      "              precision    recall  f1-score   support\n",
      "\n",
      "           0       1.00      1.00      1.00    126874\n",
      "           1       0.07      0.17      0.10       196\n",
      "\n",
      "    accuracy                           1.00    127070\n",
      "   macro avg       0.54      0.58      0.55    127070\n",
      "weighted avg       1.00      1.00      1.00    127070\n",
      "\n"
     ]
    }
   ],
   "source": [
    "dt.fit(X_train_unscaled_ss_04, y_train_unscaled_ss_04)\n",
    "print(\"Accuracy on training set: {:.3f}\".format(dt.score(X_train_unscaled_ss_04, y_train_unscaled_ss_04)))\n",
    "print(\"Accuracy on test set: {:.3f}\".format(dt.score(X_test, y_test)))\n",
    "y_pred = dt.predict(X_test)\n",
    "print(confusion_matrix(y_test, y_pred))  \n",
    "print(classification_report(y_test, y_pred)) "
   ]
  },
  {
   "cell_type": "markdown",
   "metadata": {},
   "source": [
    "#### Decision Tree WITH SMOTE SS = 0.5"
   ]
  },
  {
   "cell_type": "code",
   "execution_count": 41,
   "metadata": {},
   "outputs": [
    {
     "name": "stdout",
     "output_type": "stream",
     "text": [
      "Accuracy on training set: 1.000\n",
      "Accuracy on test set: 0.995\n",
      "[[126388    486]\n",
      " [   168     28]]\n",
      "              precision    recall  f1-score   support\n",
      "\n",
      "           0       1.00      1.00      1.00    126874\n",
      "           1       0.05      0.14      0.08       196\n",
      "\n",
      "    accuracy                           0.99    127070\n",
      "   macro avg       0.53      0.57      0.54    127070\n",
      "weighted avg       1.00      0.99      1.00    127070\n",
      "\n"
     ]
    }
   ],
   "source": [
    "dt.fit(X_train_unscaled_ss_05, y_train_unscaled_ss_05)\n",
    "print(\"Accuracy on training set: {:.3f}\".format(dt.score(X_train_unscaled_ss_05, y_train_unscaled_ss_05)))\n",
    "print(\"Accuracy on test set: {:.3f}\".format(dt.score(X_test, y_test)))\n",
    "y_pred = dt.predict(X_test)\n",
    "print(confusion_matrix(y_test, y_pred))  \n",
    "print(classification_report(y_test, y_pred)) "
   ]
  },
  {
   "cell_type": "markdown",
   "metadata": {},
   "source": [
    "#### Decision Tree WITH SMOTE SS = 0.6"
   ]
  },
  {
   "cell_type": "code",
   "execution_count": 42,
   "metadata": {},
   "outputs": [
    {
     "name": "stdout",
     "output_type": "stream",
     "text": [
      "Accuracy on training set: 1.000\n",
      "Accuracy on test set: 0.995\n",
      "[[126457    417]\n",
      " [   165     31]]\n",
      "              precision    recall  f1-score   support\n",
      "\n",
      "           0       1.00      1.00      1.00    126874\n",
      "           1       0.07      0.16      0.10       196\n",
      "\n",
      "    accuracy                           1.00    127070\n",
      "   macro avg       0.53      0.58      0.55    127070\n",
      "weighted avg       1.00      1.00      1.00    127070\n",
      "\n"
     ]
    }
   ],
   "source": [
    "dt.fit(X_train_unscaled_ss_06, y_train_unscaled_ss_06)\n",
    "print(\"Accuracy on training set: {:.3f}\".format(dt.score(X_train_unscaled_ss_06, y_train_unscaled_ss_06)))\n",
    "print(\"Accuracy on test set: {:.3f}\".format(dt.score(X_test, y_test)))\n",
    "y_pred = dt.predict(X_test)\n",
    "print(confusion_matrix(y_test, y_pred))  \n",
    "print(classification_report(y_test, y_pred)) "
   ]
  },
  {
   "cell_type": "markdown",
   "metadata": {},
   "source": [
    "#### Decision Tree WITH SMOTE SS = 0.7"
   ]
  },
  {
   "cell_type": "code",
   "execution_count": 43,
   "metadata": {},
   "outputs": [
    {
     "name": "stdout",
     "output_type": "stream",
     "text": [
      "Accuracy on training set: 1.000\n",
      "Accuracy on test set: 0.995\n",
      "[[126446    428]\n",
      " [   161     35]]\n",
      "              precision    recall  f1-score   support\n",
      "\n",
      "           0       1.00      1.00      1.00    126874\n",
      "           1       0.08      0.18      0.11       196\n",
      "\n",
      "    accuracy                           1.00    127070\n",
      "   macro avg       0.54      0.59      0.55    127070\n",
      "weighted avg       1.00      1.00      1.00    127070\n",
      "\n"
     ]
    }
   ],
   "source": [
    "dt.fit(X_train_unscaled_ss_07, y_train_unscaled_ss_07)\n",
    "print(\"Accuracy on training set: {:.3f}\".format(dt.score(X_train_unscaled_ss_07, y_train_unscaled_ss_07)))\n",
    "print(\"Accuracy on test set: {:.3f}\".format(dt.score(X_test, y_test)))\n",
    "y_pred = dt.predict(X_test)\n",
    "print(confusion_matrix(y_test, y_pred))  \n",
    "print(classification_report(y_test, y_pred)) "
   ]
  },
  {
   "cell_type": "markdown",
   "metadata": {},
   "source": [
    "#### Decision Tree WITH SMOTE SS = 0.8"
   ]
  },
  {
   "cell_type": "code",
   "execution_count": 44,
   "metadata": {},
   "outputs": [
    {
     "name": "stdout",
     "output_type": "stream",
     "text": [
      "Accuracy on training set: 1.000\n",
      "Accuracy on test set: 0.995\n",
      "[[126433    441]\n",
      " [   165     31]]\n",
      "              precision    recall  f1-score   support\n",
      "\n",
      "           0       1.00      1.00      1.00    126874\n",
      "           1       0.07      0.16      0.09       196\n",
      "\n",
      "    accuracy                           1.00    127070\n",
      "   macro avg       0.53      0.58      0.55    127070\n",
      "weighted avg       1.00      1.00      1.00    127070\n",
      "\n"
     ]
    }
   ],
   "source": [
    "dt.fit(X_train_unscaled_ss_08, y_train_unscaled_ss_08)\n",
    "print(\"Accuracy on training set: {:.3f}\".format(dt.score(X_train_unscaled_ss_08, y_train_unscaled_ss_08)))\n",
    "print(\"Accuracy on test set: {:.3f}\".format(dt.score(X_test, y_test)))\n",
    "y_pred = dt.predict(X_test)\n",
    "print(confusion_matrix(y_test, y_pred))  \n",
    "print(classification_report(y_test, y_pred)) "
   ]
  },
  {
   "cell_type": "markdown",
   "metadata": {},
   "source": [
    "#### Decision Tree WITH SMOTE SS = 0.9"
   ]
  },
  {
   "cell_type": "code",
   "execution_count": 45,
   "metadata": {},
   "outputs": [
    {
     "name": "stdout",
     "output_type": "stream",
     "text": [
      "Accuracy on training set: 1.000\n",
      "Accuracy on test set: 0.995\n",
      "[[126418    456]\n",
      " [   168     28]]\n",
      "              precision    recall  f1-score   support\n",
      "\n",
      "           0       1.00      1.00      1.00    126874\n",
      "           1       0.06      0.14      0.08       196\n",
      "\n",
      "    accuracy                           1.00    127070\n",
      "   macro avg       0.53      0.57      0.54    127070\n",
      "weighted avg       1.00      1.00      1.00    127070\n",
      "\n"
     ]
    }
   ],
   "source": [
    "dt.fit(X_train_unscaled_ss_09, y_train_unscaled_ss_09)\n",
    "print(\"Accuracy on training set: {:.3f}\".format(dt.score(X_train_unscaled_ss_09, y_train_unscaled_ss_09)))\n",
    "print(\"Accuracy on test set: {:.3f}\".format(dt.score(X_test, y_test)))\n",
    "y_pred = dt.predict(X_test)\n",
    "print(confusion_matrix(y_test, y_pred))  \n",
    "print(classification_report(y_test, y_pred)) "
   ]
  },
  {
   "cell_type": "markdown",
   "metadata": {},
   "source": [
    "#### Decision Tree WITH SMOTE SS = 1.0"
   ]
  },
  {
   "cell_type": "code",
   "execution_count": 46,
   "metadata": {},
   "outputs": [
    {
     "name": "stdout",
     "output_type": "stream",
     "text": [
      "Accuracy on training set: 1.000\n",
      "Accuracy on test set: 0.995\n",
      "[[126427    447]\n",
      " [   167     29]]\n",
      "              precision    recall  f1-score   support\n",
      "\n",
      "           0       1.00      1.00      1.00    126874\n",
      "           1       0.06      0.15      0.09       196\n",
      "\n",
      "    accuracy                           1.00    127070\n",
      "   macro avg       0.53      0.57      0.54    127070\n",
      "weighted avg       1.00      1.00      1.00    127070\n",
      "\n"
     ]
    }
   ],
   "source": [
    "dt.fit(X_train_unscaled_ss_10, y_train_unscaled_ss_10)\n",
    "print(\"Accuracy on training set: {:.3f}\".format(dt.score(X_train_unscaled_ss_10, y_train_unscaled_ss_10)))\n",
    "print(\"Accuracy on test set: {:.3f}\".format(dt.score(X_test, y_test)))\n",
    "y_pred = dt.predict(X_test)\n",
    "print(confusion_matrix(y_test, y_pred))  \n",
    "print(classification_report(y_test, y_pred)) "
   ]
  },
  {
   "cell_type": "markdown",
   "metadata": {},
   "source": [
    "## DATA PREPARATION WITH SMOTE (Synthetic Minority Over Sampling Technique)\n",
    "## SCALED FOR OTHER MODELS"
   ]
  },
  {
   "cell_type": "code",
   "execution_count": 47,
   "metadata": {},
   "outputs": [
    {
     "name": "stdout",
     "output_type": "stream",
     "text": [
      "X_train.shape is  (254140, 43)\n",
      "X_train_scaled_ss_01.shape is  (279121, 43)\n",
      "y_train_scaled_ss_01.shape is  (279121,)\n",
      "X_train_scaled_ss_02.shape is  (304496, 43)\n",
      "y_train_scaled_ss_02.shape is  (304496,)\n",
      "X_train_scaled_ss_03.shape is  (329871, 43)\n",
      "y_train_scaled_ss_03.shape is  (329871,)\n",
      "X_train_scaled_ss_04.shape is  (355245, 43)\n",
      "y_train_scaled_ss_04.shape is  (355245,)\n",
      "X_train_scaled_ss_05.shape is  (380620, 43)\n",
      "y_train_scaled_ss_05.shape is  (380620,)\n",
      "X_train_scaled_ss_06.shape is  (405995, 43)\n",
      "y_train_scaled_ss_06.shape is  (405995,)\n",
      "X_train_scaled_ss_07.shape is  (431369, 43)\n",
      "y_train_scaled_ss_07.shape is  (431369,)\n",
      "X_train_scaled_ss_08.shape is  (456744, 43)\n",
      "y_train_scaled_ss_08.shape is  (456744,)\n",
      "X_train_scaled_ss_09.shape is  (482119, 43)\n",
      "y_train_scaled_ss_09.shape is  (482119,)\n",
      "X_train_scaled_ss_10.shape is  (507494, 43)\n",
      "y_train_scaled_ss_10.shape is  (507494,)\n",
      "X_test.shape is  (127070, 43)\n",
      "y_test.shape is  (127070,)\n"
     ]
    }
   ],
   "source": [
    "sm_ss_01 = SMOTE(random_state=55,sampling_strategy=0.1)\n",
    "sm_ss_02 = SMOTE(random_state=55,sampling_strategy=0.2)\n",
    "sm_ss_03 = SMOTE(random_state=55,sampling_strategy=0.3)\n",
    "sm_ss_04 = SMOTE(random_state=55,sampling_strategy=0.4)\n",
    "sm_ss_05 = SMOTE(random_state=55,sampling_strategy=0.5)\n",
    "sm_ss_06 = SMOTE(random_state=55,sampling_strategy=0.6)\n",
    "sm_ss_07 = SMOTE(random_state=55,sampling_strategy=0.7)\n",
    "sm_ss_08 = SMOTE(random_state=55,sampling_strategy=0.8)\n",
    "sm_ss_09 = SMOTE(random_state=55,sampling_strategy=0.9)\n",
    "sm_ss_10 = SMOTE(random_state=55) # default sampling strategy is 1.0\n",
    "\n",
    "\n",
    "# Preparing Scaled Training Data with Smote\n",
    "X_train_scaled_ss_01, y_train_scaled_ss_01 = sm_ss_01.fit_sample(X_train_scaled,y_train)\n",
    "X_train_scaled_ss_02, y_train_scaled_ss_02 = sm_ss_02.fit_sample(X_train_scaled,y_train)\n",
    "X_train_scaled_ss_03, y_train_scaled_ss_03 = sm_ss_03.fit_sample(X_train_scaled,y_train)\n",
    "X_train_scaled_ss_04, y_train_scaled_ss_04 = sm_ss_04.fit_sample(X_train_scaled,y_train)\n",
    "X_train_scaled_ss_05, y_train_scaled_ss_05 = sm_ss_05.fit_sample(X_train_scaled,y_train)\n",
    "X_train_scaled_ss_06, y_train_scaled_ss_06 = sm_ss_06.fit_sample(X_train_scaled,y_train)\n",
    "X_train_scaled_ss_07, y_train_scaled_ss_07 = sm_ss_07.fit_sample(X_train_scaled,y_train)\n",
    "X_train_scaled_ss_08, y_train_scaled_ss_08 = sm_ss_08.fit_sample(X_train_scaled,y_train)\n",
    "X_train_scaled_ss_09, y_train_scaled_ss_09 = sm_ss_09.fit_sample(X_train_scaled,y_train)\n",
    "X_train_scaled_ss_10, y_train_scaled_ss_10 = sm_ss_10.fit_sample(X_train_scaled,y_train)\n",
    "\n",
    "# Checking Data Shape\n",
    "print('X_train.shape is ', X_train.shape)\n",
    "print('X_train_scaled_ss_01.shape is ', X_train_scaled_ss_01.shape)\n",
    "print('y_train_scaled_ss_01.shape is ', y_train_scaled_ss_01.shape)\n",
    "print('X_train_scaled_ss_02.shape is ', X_train_scaled_ss_02.shape)\n",
    "print('y_train_scaled_ss_02.shape is ', y_train_scaled_ss_02.shape)\n",
    "print('X_train_scaled_ss_03.shape is ', X_train_scaled_ss_03.shape)\n",
    "print('y_train_scaled_ss_03.shape is ', y_train_scaled_ss_03.shape)\n",
    "print('X_train_scaled_ss_04.shape is ', X_train_scaled_ss_04.shape)\n",
    "print('y_train_scaled_ss_04.shape is ', y_train_scaled_ss_04.shape)\n",
    "print('X_train_scaled_ss_05.shape is ', X_train_scaled_ss_05.shape)\n",
    "print('y_train_scaled_ss_05.shape is ', y_train_scaled_ss_05.shape)\n",
    "print('X_train_scaled_ss_06.shape is ', X_train_scaled_ss_06.shape)\n",
    "print('y_train_scaled_ss_06.shape is ', y_train_scaled_ss_06.shape)\n",
    "print('X_train_scaled_ss_07.shape is ', X_train_scaled_ss_07.shape)\n",
    "print('y_train_scaled_ss_07.shape is ', y_train_scaled_ss_07.shape)\n",
    "print('X_train_scaled_ss_08.shape is ', X_train_scaled_ss_08.shape)\n",
    "print('y_train_scaled_ss_08.shape is ', y_train_scaled_ss_08.shape)\n",
    "print('X_train_scaled_ss_09.shape is ', X_train_scaled_ss_09.shape)\n",
    "print('y_train_scaled_ss_09.shape is ', y_train_scaled_ss_09.shape)\n",
    "print('X_train_scaled_ss_10.shape is ', X_train_scaled_ss_10.shape)\n",
    "print('y_train_scaled_ss_10.shape is ', y_train_scaled_ss_10.shape)\n",
    "\n",
    "print('X_test.shape is ', X_test.shape)\n",
    "print('y_test.shape is ', y_test.shape)\n"
   ]
  },
  {
   "cell_type": "code",
   "execution_count": 48,
   "metadata": {},
   "outputs": [
    {
     "name": "stdout",
     "output_type": "stream",
     "text": [
      "y_train unique values  {0: 253747, 1: 393}\n",
      "y_train_scaled_ss_01 unique values  {0: 253747, 1: 25374}\n",
      "y_train_scaled_ss_02 unique values  {0: 253747, 1: 50749}\n",
      "y_train_scaled_ss_03 unique values  {0: 253747, 1: 76124}\n",
      "y_train_scaled_ss_04 unique values  {0: 253747, 1: 101498}\n",
      "y_train_scaled_ss_05 unique values  {0: 253747, 1: 126873}\n",
      "y_train_scaled_ss_06 unique values  {0: 253747, 1: 152248}\n",
      "y_train_scaled_ss_07 unique values  {0: 253747, 1: 177622}\n",
      "y_train_scaled_ss_08 unique values  {0: 253747, 1: 202997}\n",
      "y_train_scaled_ss_09 unique values  {0: 253747, 1: 228372}\n",
      "y_train_scaled_ss_10 unique values  {0: 253747, 1: 253747}\n"
     ]
    }
   ],
   "source": [
    "# Checking Unique Values in y_train\n",
    "unique, count = np.unique(y_train, return_counts=True)\n",
    "y_train_dict_value_count = {k:v for (k,v) in zip(unique,count)}\n",
    "print('y_train unique values ',y_train_dict_value_count)\n",
    "\n",
    "unique, count = np.unique(y_train_scaled_ss_01, return_counts=True)\n",
    "y_train_dict_value_count = {k:v for (k,v) in zip(unique,count)}\n",
    "print('y_train_scaled_ss_01 unique values ',y_train_dict_value_count)\n",
    "\n",
    "unique, count = np.unique(y_train_scaled_ss_02, return_counts=True)\n",
    "y_train_dict_value_count = {k:v for (k,v) in zip(unique,count)}\n",
    "print('y_train_scaled_ss_02 unique values ',y_train_dict_value_count)\n",
    "\n",
    "unique, count = np.unique(y_train_scaled_ss_03, return_counts=True)\n",
    "y_train_dict_value_count = {k:v for (k,v) in zip(unique,count)}\n",
    "print('y_train_scaled_ss_03 unique values ',y_train_dict_value_count)\n",
    "\n",
    "unique, count = np.unique(y_train_scaled_ss_04, return_counts=True)\n",
    "y_train_dict_value_count = {k:v for (k,v) in zip(unique,count)}\n",
    "print('y_train_scaled_ss_04 unique values ',y_train_dict_value_count)\n",
    "\n",
    "unique, count = np.unique(y_train_scaled_ss_05, return_counts=True)\n",
    "y_train_dict_value_count = {k:v for (k,v) in zip(unique,count)}\n",
    "print('y_train_scaled_ss_05 unique values ',y_train_dict_value_count)\n",
    "\n",
    "unique, count = np.unique(y_train_scaled_ss_06, return_counts=True)\n",
    "y_train_dict_value_count = {k:v for (k,v) in zip(unique,count)}\n",
    "print('y_train_scaled_ss_06 unique values ',y_train_dict_value_count)\n",
    "\n",
    "unique, count = np.unique(y_train_scaled_ss_07, return_counts=True)\n",
    "y_train_dict_value_count = {k:v for (k,v) in zip(unique,count)}\n",
    "print('y_train_scaled_ss_07 unique values ',y_train_dict_value_count)\n",
    "\n",
    "unique, count = np.unique(y_train_scaled_ss_08, return_counts=True)\n",
    "y_train_dict_value_count = {k:v for (k,v) in zip(unique,count)}\n",
    "print('y_train_scaled_ss_08 unique values ',y_train_dict_value_count)\n",
    "\n",
    "unique, count = np.unique(y_train_scaled_ss_09, return_counts=True)\n",
    "y_train_dict_value_count = {k:v for (k,v) in zip(unique,count)}\n",
    "print('y_train_scaled_ss_09 unique values ',y_train_dict_value_count)\n",
    "\n",
    "unique, count = np.unique(y_train_scaled_ss_10, return_counts=True)\n",
    "y_train_dict_value_count = {k:v for (k,v) in zip(unique,count)}\n",
    "print('y_train_scaled_ss_10 unique values ',y_train_dict_value_count)"
   ]
  },
  {
   "cell_type": "markdown",
   "metadata": {},
   "source": [
    "## LOGISTIC REGRESSION"
   ]
  },
  {
   "cell_type": "markdown",
   "metadata": {},
   "source": [
    "### Logistic Regression Without SMOTE"
   ]
  },
  {
   "cell_type": "code",
   "execution_count": 49,
   "metadata": {},
   "outputs": [
    {
     "name": "stdout",
     "output_type": "stream",
     "text": [
      "Training set score: 0.998\n",
      "Test set score: 0.998\n",
      "[[126872      2]\n",
      " [   193      3]]\n",
      "              precision    recall  f1-score   support\n",
      "\n",
      "           0       1.00      1.00      1.00    126874\n",
      "           1       0.60      0.02      0.03       196\n",
      "\n",
      "    accuracy                           1.00    127070\n",
      "   macro avg       0.80      0.51      0.51    127070\n",
      "weighted avg       1.00      1.00      1.00    127070\n",
      "\n"
     ]
    }
   ],
   "source": [
    "from sklearn.linear_model import LogisticRegression\n",
    "logreg = LogisticRegression(C=0.01).fit(X_train_scaled, y_train)\n",
    "print(\"Training set score: {:.3f}\".format(logreg.score(X_train_scaled, y_train)))\n",
    "print(\"Test set score: {:.3f}\".format(logreg.score(X_test_scaled, y_test)))\n",
    "y_pred = logreg.predict(X_test_scaled)\n",
    "print(confusion_matrix(y_test, y_pred))  \n",
    "print(classification_report(y_test, y_pred)) "
   ]
  },
  {
   "cell_type": "markdown",
   "metadata": {},
   "source": [
    "### Logistic Regression With SMOTE"
   ]
  },
  {
   "cell_type": "markdown",
   "metadata": {},
   "source": [
    "#### Logistic Regression With SMOTE ss=0.1"
   ]
  },
  {
   "cell_type": "code",
   "execution_count": 50,
   "metadata": {},
   "outputs": [
    {
     "name": "stdout",
     "output_type": "stream",
     "text": [
      "Training set score: 0.933\n",
      "Test set score: 0.988\n",
      "[[125541   1333]\n",
      " [   134     62]]\n",
      "              precision    recall  f1-score   support\n",
      "\n",
      "           0       1.00      0.99      0.99    126874\n",
      "           1       0.04      0.32      0.08       196\n",
      "\n",
      "    accuracy                           0.99    127070\n",
      "   macro avg       0.52      0.65      0.54    127070\n",
      "weighted avg       1.00      0.99      0.99    127070\n",
      "\n"
     ]
    }
   ],
   "source": [
    "logreg = LogisticRegression(C=0.01).fit(X_train_scaled_ss_01, y_train_scaled_ss_01)\n",
    "print(\"Training set score: {:.3f}\".format(logreg.score(X_train_scaled_ss_01, y_train_scaled_ss_01)))\n",
    "print(\"Test set score: {:.3f}\".format(logreg.score(X_test_scaled, y_test)))\n",
    "y_pred = logreg.predict(X_test_scaled)\n",
    "print(confusion_matrix(y_test, y_pred))  \n",
    "print(classification_report(y_test, y_pred)) "
   ]
  },
  {
   "cell_type": "markdown",
   "metadata": {},
   "source": [
    "#### Logistic Regression With SMOTE ss=0.2"
   ]
  },
  {
   "cell_type": "code",
   "execution_count": 51,
   "metadata": {},
   "outputs": [
    {
     "name": "stdout",
     "output_type": "stream",
     "text": [
      "Training set score: 0.888\n",
      "Test set score: 0.977\n",
      "[[124063   2811]\n",
      " [   117     79]]\n",
      "              precision    recall  f1-score   support\n",
      "\n",
      "           0       1.00      0.98      0.99    126874\n",
      "           1       0.03      0.40      0.05       196\n",
      "\n",
      "    accuracy                           0.98    127070\n",
      "   macro avg       0.51      0.69      0.52    127070\n",
      "weighted avg       1.00      0.98      0.99    127070\n",
      "\n"
     ]
    }
   ],
   "source": [
    "logreg = LogisticRegression(C=0.01).fit(X_train_scaled_ss_02, y_train_scaled_ss_02)\n",
    "print(\"Training set score: {:.3f}\".format(logreg.score(X_train_scaled_ss_02, y_train_scaled_ss_02)))\n",
    "print(\"Test set score: {:.3f}\".format(logreg.score(X_test_scaled, y_test)))\n",
    "y_pred = logreg.predict(X_test_scaled)\n",
    "print(confusion_matrix(y_test, y_pred))  \n",
    "print(classification_report(y_test, y_pred)) "
   ]
  },
  {
   "cell_type": "markdown",
   "metadata": {},
   "source": [
    "#### Logistic Regression With SMOTE ss=0.3"
   ]
  },
  {
   "cell_type": "code",
   "execution_count": 52,
   "metadata": {},
   "outputs": [
    {
     "name": "stdout",
     "output_type": "stream",
     "text": [
      "Training set score: 0.856\n",
      "Test set score: 0.963\n",
      "[[122267   4607]\n",
      " [   101     95]]\n",
      "              precision    recall  f1-score   support\n",
      "\n",
      "           0       1.00      0.96      0.98    126874\n",
      "           1       0.02      0.48      0.04       196\n",
      "\n",
      "    accuracy                           0.96    127070\n",
      "   macro avg       0.51      0.72      0.51    127070\n",
      "weighted avg       1.00      0.96      0.98    127070\n",
      "\n"
     ]
    }
   ],
   "source": [
    "logreg = LogisticRegression(C=0.01).fit(X_train_scaled_ss_03, y_train_scaled_ss_03)\n",
    "print(\"Training set score: {:.3f}\".format(logreg.score(X_train_scaled_ss_03, y_train_scaled_ss_03)))\n",
    "print(\"Test set score: {:.3f}\".format(logreg.score(X_test_scaled, y_test)))\n",
    "y_pred = logreg.predict(X_test_scaled)\n",
    "print(confusion_matrix(y_test, y_pred))  \n",
    "print(classification_report(y_test, y_pred)) "
   ]
  },
  {
   "cell_type": "markdown",
   "metadata": {},
   "source": [
    "#### Logistic Regression With SMOTE ss=0.4"
   ]
  },
  {
   "cell_type": "code",
   "execution_count": 53,
   "metadata": {},
   "outputs": [
    {
     "name": "stdout",
     "output_type": "stream",
     "text": [
      "Training set score: 0.831\n",
      "Test set score: 0.948\n",
      "[[120416   6458]\n",
      " [    91    105]]\n",
      "              precision    recall  f1-score   support\n",
      "\n",
      "           0       1.00      0.95      0.97    126874\n",
      "           1       0.02      0.54      0.03       196\n",
      "\n",
      "    accuracy                           0.95    127070\n",
      "   macro avg       0.51      0.74      0.50    127070\n",
      "weighted avg       1.00      0.95      0.97    127070\n",
      "\n"
     ]
    }
   ],
   "source": [
    "logreg = LogisticRegression(C=0.01).fit(X_train_scaled_ss_04, y_train_scaled_ss_04)\n",
    "print(\"Training set score: {:.3f}\".format(logreg.score(X_train_scaled_ss_04, y_train_scaled_ss_04)))\n",
    "print(\"Test set score: {:.3f}\".format(logreg.score(X_test_scaled, y_test)))\n",
    "y_pred = logreg.predict(X_test_scaled)\n",
    "print(confusion_matrix(y_test, y_pred))  \n",
    "print(classification_report(y_test, y_pred)) "
   ]
  },
  {
   "cell_type": "markdown",
   "metadata": {},
   "source": [
    "#### Logistic Regression With SMOTE ss=0.5"
   ]
  },
  {
   "cell_type": "code",
   "execution_count": 54,
   "metadata": {},
   "outputs": [
    {
     "name": "stdout",
     "output_type": "stream",
     "text": [
      "Training set score: 0.810\n",
      "Test set score: 0.932\n",
      "[[118326   8548]\n",
      " [    84    112]]\n",
      "              precision    recall  f1-score   support\n",
      "\n",
      "           0       1.00      0.93      0.96    126874\n",
      "           1       0.01      0.57      0.03       196\n",
      "\n",
      "    accuracy                           0.93    127070\n",
      "   macro avg       0.51      0.75      0.50    127070\n",
      "weighted avg       1.00      0.93      0.96    127070\n",
      "\n"
     ]
    }
   ],
   "source": [
    "logreg = LogisticRegression(C=0.01).fit(X_train_scaled_ss_05, y_train_scaled_ss_05)\n",
    "print(\"Training set score: {:.3f}\".format(logreg.score(X_train_scaled_ss_05, y_train_scaled_ss_05)))\n",
    "print(\"Test set score: {:.3f}\".format(logreg.score(X_test_scaled, y_test)))\n",
    "y_pred = logreg.predict(X_test_scaled)\n",
    "print(confusion_matrix(y_test, y_pred))  \n",
    "print(classification_report(y_test, y_pred)) "
   ]
  },
  {
   "cell_type": "markdown",
   "metadata": {},
   "source": [
    "#### Logistic Regression With SMOTE ss=0.6"
   ]
  },
  {
   "cell_type": "code",
   "execution_count": 55,
   "metadata": {},
   "outputs": [
    {
     "name": "stdout",
     "output_type": "stream",
     "text": [
      "Training set score: 0.795\n",
      "Test set score: 0.915\n",
      "[[116167  10707]\n",
      " [    71    125]]\n",
      "              precision    recall  f1-score   support\n",
      "\n",
      "           0       1.00      0.92      0.96    126874\n",
      "           1       0.01      0.64      0.02       196\n",
      "\n",
      "    accuracy                           0.92    127070\n",
      "   macro avg       0.51      0.78      0.49    127070\n",
      "weighted avg       1.00      0.92      0.95    127070\n",
      "\n"
     ]
    }
   ],
   "source": [
    "logreg = LogisticRegression(C=0.01).fit(X_train_scaled_ss_06, y_train_scaled_ss_06)\n",
    "print(\"Training set score: {:.3f}\".format(logreg.score(X_train_scaled_ss_06, y_train_scaled_ss_06)))\n",
    "print(\"Test set score: {:.3f}\".format(logreg.score(X_test_scaled, y_test)))\n",
    "y_pred = logreg.predict(X_test_scaled)\n",
    "print(confusion_matrix(y_test, y_pred))  \n",
    "print(classification_report(y_test, y_pred)) "
   ]
  },
  {
   "cell_type": "markdown",
   "metadata": {},
   "source": [
    "#### Logistic Regression With SMOTE ss=0.7"
   ]
  },
  {
   "cell_type": "code",
   "execution_count": 56,
   "metadata": {},
   "outputs": [
    {
     "name": "stdout",
     "output_type": "stream",
     "text": [
      "Training set score: 0.787\n",
      "Test set score: 0.897\n",
      "[[113840  13034]\n",
      " [    63    133]]\n",
      "              precision    recall  f1-score   support\n",
      "\n",
      "           0       1.00      0.90      0.95    126874\n",
      "           1       0.01      0.68      0.02       196\n",
      "\n",
      "    accuracy                           0.90    127070\n",
      "   macro avg       0.50      0.79      0.48    127070\n",
      "weighted avg       1.00      0.90      0.94    127070\n",
      "\n"
     ]
    }
   ],
   "source": [
    "logreg = LogisticRegression(C=0.01).fit(X_train_scaled_ss_07, y_train_scaled_ss_07)\n",
    "print(\"Training set score: {:.3f}\".format(logreg.score(X_train_scaled_ss_07, y_train_scaled_ss_07)))\n",
    "print(\"Test set score: {:.3f}\".format(logreg.score(X_test_scaled, y_test)))\n",
    "y_pred = logreg.predict(X_test_scaled)\n",
    "print(confusion_matrix(y_test, y_pred))  \n",
    "print(classification_report(y_test, y_pred)) "
   ]
  },
  {
   "cell_type": "markdown",
   "metadata": {},
   "source": [
    "#### Logistic Regression With SMOTE ss=0.8"
   ]
  },
  {
   "cell_type": "code",
   "execution_count": 57,
   "metadata": {},
   "outputs": [
    {
     "name": "stdout",
     "output_type": "stream",
     "text": [
      "Training set score: 0.780\n",
      "Test set score: 0.878\n",
      "[[111423  15451]\n",
      " [    56    140]]\n",
      "              precision    recall  f1-score   support\n",
      "\n",
      "           0       1.00      0.88      0.93    126874\n",
      "           1       0.01      0.71      0.02       196\n",
      "\n",
      "    accuracy                           0.88    127070\n",
      "   macro avg       0.50      0.80      0.48    127070\n",
      "weighted avg       1.00      0.88      0.93    127070\n",
      "\n"
     ]
    }
   ],
   "source": [
    "logreg = LogisticRegression(C=0.01).fit(X_train_scaled_ss_08, y_train_scaled_ss_08)\n",
    "print(\"Training set score: {:.3f}\".format(logreg.score(X_train_scaled_ss_08, y_train_scaled_ss_08)))\n",
    "print(\"Test set score: {:.3f}\".format(logreg.score(X_test_scaled, y_test)))\n",
    "y_pred = logreg.predict(X_test_scaled)\n",
    "print(confusion_matrix(y_test, y_pred))  \n",
    "print(classification_report(y_test, y_pred)) "
   ]
  },
  {
   "cell_type": "markdown",
   "metadata": {},
   "source": [
    "#### Logistic Regression With SMOTE ss=0.9"
   ]
  },
  {
   "cell_type": "code",
   "execution_count": 58,
   "metadata": {},
   "outputs": [
    {
     "name": "stdout",
     "output_type": "stream",
     "text": [
      "Training set score: 0.778\n",
      "Test set score: 0.859\n",
      "[[108978  17896]\n",
      " [    52    144]]\n",
      "              precision    recall  f1-score   support\n",
      "\n",
      "           0       1.00      0.86      0.92    126874\n",
      "           1       0.01      0.73      0.02       196\n",
      "\n",
      "    accuracy                           0.86    127070\n",
      "   macro avg       0.50      0.80      0.47    127070\n",
      "weighted avg       1.00      0.86      0.92    127070\n",
      "\n"
     ]
    }
   ],
   "source": [
    "logreg = LogisticRegression(C=0.01).fit(X_train_scaled_ss_09, y_train_scaled_ss_09)\n",
    "print(\"Training set score: {:.3f}\".format(logreg.score(X_train_scaled_ss_09, y_train_scaled_ss_09)))\n",
    "print(\"Test set score: {:.3f}\".format(logreg.score(X_test_scaled, y_test)))\n",
    "y_pred = logreg.predict(X_test_scaled)\n",
    "print(confusion_matrix(y_test, y_pred))  \n",
    "print(classification_report(y_test, y_pred)) "
   ]
  },
  {
   "cell_type": "markdown",
   "metadata": {},
   "source": [
    "#### Logistic Regression With SMOTE ss=1.0"
   ]
  },
  {
   "cell_type": "code",
   "execution_count": 59,
   "metadata": {},
   "outputs": [
    {
     "name": "stdout",
     "output_type": "stream",
     "text": [
      "Training set score: 0.779\n",
      "Test set score: 0.839\n",
      "[[106529  20345]\n",
      " [    52    144]]\n",
      "              precision    recall  f1-score   support\n",
      "\n",
      "           0       1.00      0.84      0.91    126874\n",
      "           1       0.01      0.73      0.01       196\n",
      "\n",
      "    accuracy                           0.84    127070\n",
      "   macro avg       0.50      0.79      0.46    127070\n",
      "weighted avg       1.00      0.84      0.91    127070\n",
      "\n"
     ]
    }
   ],
   "source": [
    "logreg = LogisticRegression(C=0.01).fit(X_train_scaled_ss_10, y_train_scaled_ss_10)\n",
    "print(\"Training set score: {:.3f}\".format(logreg.score(X_train_scaled_ss_10, y_train_scaled_ss_10)))\n",
    "print(\"Test set score: {:.3f}\".format(logreg.score(X_test_scaled, y_test)))\n",
    "y_pred = logreg.predict(X_test_scaled)\n",
    "print(confusion_matrix(y_test, y_pred))  \n",
    "print(classification_report(y_test, y_pred)) "
   ]
  },
  {
   "cell_type": "markdown",
   "metadata": {},
   "source": [
    "## NAIVE BAYES"
   ]
  },
  {
   "cell_type": "markdown",
   "metadata": {},
   "source": [
    "### Naive Bayes Without SMOTE"
   ]
  },
  {
   "cell_type": "code",
   "execution_count": 60,
   "metadata": {},
   "outputs": [
    {
     "name": "stdout",
     "output_type": "stream",
     "text": [
      "Training set score: 0.948\n",
      "Test set score: 0.948\n",
      "[[120337   6537]\n",
      " [   106     90]]\n",
      "              precision    recall  f1-score   support\n",
      "\n",
      "           0       1.00      0.95      0.97    126874\n",
      "           1       0.01      0.46      0.03       196\n",
      "\n",
      "    accuracy                           0.95    127070\n",
      "   macro avg       0.51      0.70      0.50    127070\n",
      "weighted avg       1.00      0.95      0.97    127070\n",
      "\n"
     ]
    }
   ],
   "source": [
    "from sklearn.naive_bayes import GaussianNB\n",
    "# Initiating the Gaussian Classifier\n",
    "mod = GaussianNB()\n",
    "\n",
    "# Training your model \n",
    "mod.fit(X_train_scaled, y_train)\n",
    "\n",
    "# Predicting Outcome \n",
    "predicted = mod.predict(X_test_scaled)\n",
    "\n",
    "# Score\n",
    "print(\"Training set score: {:.3f}\".format(mod.score(X_train_scaled, y_train)))\n",
    "print(\"Test set score: {:.3f}\".format(mod.score(X_test_scaled, y_test)))\n",
    "\n",
    "# Confusion Matrix\n",
    "y_pred = mod.predict(X_test_scaled)\n",
    "print(confusion_matrix(y_test, y_pred))  \n",
    "print(classification_report(y_test, y_pred)) "
   ]
  },
  {
   "cell_type": "markdown",
   "metadata": {},
   "source": [
    "### Naive Bayes With SMOTE"
   ]
  },
  {
   "cell_type": "markdown",
   "metadata": {},
   "source": [
    "#### Naive Bayes Without SMOTE ss=0.1"
   ]
  },
  {
   "cell_type": "code",
   "execution_count": 61,
   "metadata": {},
   "outputs": [
    {
     "name": "stdout",
     "output_type": "stream",
     "text": [
      "Training set score: 0.897\n",
      "Test set score: 0.935\n",
      "[[118664   8210]\n",
      " [    91    105]]\n",
      "              precision    recall  f1-score   support\n",
      "\n",
      "           0       1.00      0.94      0.97    126874\n",
      "           1       0.01      0.54      0.02       196\n",
      "\n",
      "    accuracy                           0.93    127070\n",
      "   macro avg       0.51      0.74      0.50    127070\n",
      "weighted avg       1.00      0.93      0.96    127070\n",
      "\n"
     ]
    }
   ],
   "source": [
    "# Training your model \n",
    "mod.fit(X_train_scaled_ss_01, y_train_scaled_ss_01)\n",
    "\n",
    "# Predicting Outcome \n",
    "predicted = mod.predict(X_test_scaled)\n",
    "\n",
    "# Score\n",
    "print(\"Training set score: {:.3f}\".format(mod.score(X_train_scaled_ss_01, y_train_scaled_ss_01)))\n",
    "print(\"Test set score: {:.3f}\".format(mod.score(X_test_scaled, y_test)))\n",
    "\n",
    "# Confusion Matrix\n",
    "y_pred = mod.predict(X_test_scaled)\n",
    "print(confusion_matrix(y_test, y_pred))  \n",
    "print(classification_report(y_test, y_pred)) "
   ]
  },
  {
   "cell_type": "markdown",
   "metadata": {},
   "source": [
    "#### Naive Bayes Without SMOTE ss=0.2"
   ]
  },
  {
   "cell_type": "code",
   "execution_count": 62,
   "metadata": {},
   "outputs": [
    {
     "name": "stdout",
     "output_type": "stream",
     "text": [
      "Training set score: 0.865\n",
      "Test set score: 0.931\n",
      "[[118251   8623]\n",
      " [    89    107]]\n",
      "              precision    recall  f1-score   support\n",
      "\n",
      "           0       1.00      0.93      0.96    126874\n",
      "           1       0.01      0.55      0.02       196\n",
      "\n",
      "    accuracy                           0.93    127070\n",
      "   macro avg       0.51      0.74      0.49    127070\n",
      "weighted avg       1.00      0.93      0.96    127070\n",
      "\n"
     ]
    }
   ],
   "source": [
    "# Training your model \n",
    "mod.fit(X_train_scaled_ss_02, y_train_scaled_ss_02)\n",
    "\n",
    "# Predicting Outcome \n",
    "predicted = mod.predict(X_test_scaled)\n",
    "\n",
    "# Score\n",
    "print(\"Training set score: {:.3f}\".format(mod.score(X_train_scaled_ss_02, y_train_scaled_ss_02)))\n",
    "print(\"Test set score: {:.3f}\".format(mod.score(X_test_scaled, y_test)))\n",
    "\n",
    "# Confusion Matrix\n",
    "y_pred = mod.predict(X_test_scaled)\n",
    "print(confusion_matrix(y_test, y_pred))  \n",
    "print(classification_report(y_test, y_pred)) "
   ]
  },
  {
   "cell_type": "markdown",
   "metadata": {},
   "source": [
    "#### Naive Bayes Without SMOTE ss=0.3"
   ]
  },
  {
   "cell_type": "code",
   "execution_count": 63,
   "metadata": {},
   "outputs": [
    {
     "name": "stdout",
     "output_type": "stream",
     "text": [
      "Training set score: 0.838\n",
      "Test set score: 0.930\n",
      "[[118055   8819]\n",
      " [    88    108]]\n",
      "              precision    recall  f1-score   support\n",
      "\n",
      "           0       1.00      0.93      0.96    126874\n",
      "           1       0.01      0.55      0.02       196\n",
      "\n",
      "    accuracy                           0.93    127070\n",
      "   macro avg       0.51      0.74      0.49    127070\n",
      "weighted avg       1.00      0.93      0.96    127070\n",
      "\n"
     ]
    }
   ],
   "source": [
    "# Training your model \n",
    "mod.fit(X_train_scaled_ss_03, y_train_scaled_ss_03)\n",
    "\n",
    "# Predicting Outcome \n",
    "predicted = mod.predict(X_test_scaled)\n",
    "\n",
    "# Score\n",
    "print(\"Training set score: {:.3f}\".format(mod.score(X_train_scaled_ss_03, y_train_scaled_ss_03)))\n",
    "print(\"Test set score: {:.3f}\".format(mod.score(X_test_scaled, y_test)))\n",
    "\n",
    "# Confusion Matrix\n",
    "y_pred = mod.predict(X_test_scaled)\n",
    "print(confusion_matrix(y_test, y_pred))  \n",
    "print(classification_report(y_test, y_pred)) "
   ]
  },
  {
   "cell_type": "markdown",
   "metadata": {},
   "source": [
    "#### Naive Bayes Without SMOTE ss=0.4"
   ]
  },
  {
   "cell_type": "code",
   "execution_count": 64,
   "metadata": {},
   "outputs": [
    {
     "name": "stdout",
     "output_type": "stream",
     "text": [
      "Training set score: 0.816\n",
      "Test set score: 0.928\n",
      "[[117823   9051]\n",
      " [    87    109]]\n",
      "              precision    recall  f1-score   support\n",
      "\n",
      "           0       1.00      0.93      0.96    126874\n",
      "           1       0.01      0.56      0.02       196\n",
      "\n",
      "    accuracy                           0.93    127070\n",
      "   macro avg       0.51      0.74      0.49    127070\n",
      "weighted avg       1.00      0.93      0.96    127070\n",
      "\n"
     ]
    }
   ],
   "source": [
    "# Training your model \n",
    "mod.fit(X_train_scaled_ss_04, y_train_scaled_ss_04)\n",
    "\n",
    "# Predicting Outcome \n",
    "predicted = mod.predict(X_test_scaled)\n",
    "\n",
    "# Score\n",
    "print(\"Training set score: {:.3f}\".format(mod.score(X_train_scaled_ss_04, y_train_scaled_ss_04)))\n",
    "print(\"Test set score: {:.3f}\".format(mod.score(X_test_scaled, y_test)))\n",
    "\n",
    "# Confusion Matrix\n",
    "y_pred = mod.predict(X_test_scaled)\n",
    "print(confusion_matrix(y_test, y_pred))  \n",
    "print(classification_report(y_test, y_pred)) "
   ]
  },
  {
   "cell_type": "markdown",
   "metadata": {},
   "source": [
    "#### Naive Bayes Without SMOTE ss=0.5"
   ]
  },
  {
   "cell_type": "code",
   "execution_count": 65,
   "metadata": {},
   "outputs": [
    {
     "name": "stdout",
     "output_type": "stream",
     "text": [
      "Training set score: 0.797\n",
      "Test set score: 0.926\n",
      "[[117602   9272]\n",
      " [    86    110]]\n",
      "              precision    recall  f1-score   support\n",
      "\n",
      "           0       1.00      0.93      0.96    126874\n",
      "           1       0.01      0.56      0.02       196\n",
      "\n",
      "    accuracy                           0.93    127070\n",
      "   macro avg       0.51      0.74      0.49    127070\n",
      "weighted avg       1.00      0.93      0.96    127070\n",
      "\n"
     ]
    }
   ],
   "source": [
    "# Training your model \n",
    "mod.fit(X_train_scaled_ss_05, y_train_scaled_ss_05)\n",
    "\n",
    "# Predicting Outcome \n",
    "predicted = mod.predict(X_test_scaled)\n",
    "\n",
    "# Score\n",
    "print(\"Training set score: {:.3f}\".format(mod.score(X_train_scaled_ss_05, y_train_scaled_ss_05)))\n",
    "print(\"Test set score: {:.3f}\".format(mod.score(X_test_scaled, y_test)))\n",
    "\n",
    "# Confusion Matrix\n",
    "y_pred = mod.predict(X_test_scaled)\n",
    "print(confusion_matrix(y_test, y_pred))  \n",
    "print(classification_report(y_test, y_pred)) "
   ]
  },
  {
   "cell_type": "markdown",
   "metadata": {},
   "source": [
    "#### Naive Bayes Without SMOTE ss=0.6"
   ]
  },
  {
   "cell_type": "code",
   "execution_count": 66,
   "metadata": {},
   "outputs": [
    {
     "name": "stdout",
     "output_type": "stream",
     "text": [
      "Training set score: 0.780\n",
      "Test set score: 0.925\n",
      "[[117389   9485]\n",
      " [    86    110]]\n",
      "              precision    recall  f1-score   support\n",
      "\n",
      "           0       1.00      0.93      0.96    126874\n",
      "           1       0.01      0.56      0.02       196\n",
      "\n",
      "    accuracy                           0.92    127070\n",
      "   macro avg       0.51      0.74      0.49    127070\n",
      "weighted avg       1.00      0.92      0.96    127070\n",
      "\n"
     ]
    }
   ],
   "source": [
    "# Training your model \n",
    "mod.fit(X_train_scaled_ss_06, y_train_scaled_ss_06)\n",
    "\n",
    "# Predicting Outcome \n",
    "predicted = mod.predict(X_test_scaled)\n",
    "\n",
    "# Score\n",
    "print(\"Training set score: {:.3f}\".format(mod.score(X_train_scaled_ss_06, y_train_scaled_ss_06)))\n",
    "print(\"Test set score: {:.3f}\".format(mod.score(X_test_scaled, y_test)))\n",
    "\n",
    "# Confusion Matrix\n",
    "y_pred = mod.predict(X_test_scaled)\n",
    "print(confusion_matrix(y_test, y_pred))  \n",
    "print(classification_report(y_test, y_pred)) "
   ]
  },
  {
   "cell_type": "markdown",
   "metadata": {},
   "source": [
    "#### Naive Bayes Without SMOTE ss=0.7"
   ]
  },
  {
   "cell_type": "code",
   "execution_count": 67,
   "metadata": {},
   "outputs": [
    {
     "name": "stdout",
     "output_type": "stream",
     "text": [
      "Training set score: 0.766\n",
      "Test set score: 0.924\n",
      "[[117247   9627]\n",
      " [    86    110]]\n",
      "              precision    recall  f1-score   support\n",
      "\n",
      "           0       1.00      0.92      0.96    126874\n",
      "           1       0.01      0.56      0.02       196\n",
      "\n",
      "    accuracy                           0.92    127070\n",
      "   macro avg       0.51      0.74      0.49    127070\n",
      "weighted avg       1.00      0.92      0.96    127070\n",
      "\n"
     ]
    }
   ],
   "source": [
    "# Training your model \n",
    "mod.fit(X_train_scaled_ss_07, y_train_scaled_ss_07)\n",
    "\n",
    "# Predicting Outcome \n",
    "predicted = mod.predict(X_test_scaled)\n",
    "\n",
    "# Score\n",
    "print(\"Training set score: {:.3f}\".format(mod.score(X_train_scaled_ss_07, y_train_scaled_ss_07)))\n",
    "print(\"Test set score: {:.3f}\".format(mod.score(X_test_scaled, y_test)))\n",
    "\n",
    "# Confusion Matrix\n",
    "y_pred = mod.predict(X_test_scaled)\n",
    "print(confusion_matrix(y_test, y_pred))  \n",
    "print(classification_report(y_test, y_pred)) "
   ]
  },
  {
   "cell_type": "markdown",
   "metadata": {},
   "source": [
    "#### Naive Bayes Without SMOTE ss=0.8"
   ]
  },
  {
   "cell_type": "code",
   "execution_count": 68,
   "metadata": {},
   "outputs": [
    {
     "name": "stdout",
     "output_type": "stream",
     "text": [
      "Training set score: 0.753\n",
      "Test set score: 0.922\n",
      "[[117032   9842]\n",
      " [    86    110]]\n",
      "              precision    recall  f1-score   support\n",
      "\n",
      "           0       1.00      0.92      0.96    126874\n",
      "           1       0.01      0.56      0.02       196\n",
      "\n",
      "    accuracy                           0.92    127070\n",
      "   macro avg       0.51      0.74      0.49    127070\n",
      "weighted avg       1.00      0.92      0.96    127070\n",
      "\n"
     ]
    }
   ],
   "source": [
    "# Training your model \n",
    "mod.fit(X_train_scaled_ss_08, y_train_scaled_ss_08)\n",
    "\n",
    "# Predicting Outcome \n",
    "predicted = mod.predict(X_test_scaled)\n",
    "\n",
    "# Score\n",
    "print(\"Training set score: {:.3f}\".format(mod.score(X_train_scaled_ss_08, y_train_scaled_ss_08)))\n",
    "print(\"Test set score: {:.3f}\".format(mod.score(X_test_scaled, y_test)))\n",
    "\n",
    "# Confusion Matrix\n",
    "y_pred = mod.predict(X_test_scaled)\n",
    "print(confusion_matrix(y_test, y_pred))  \n",
    "print(classification_report(y_test, y_pred)) "
   ]
  },
  {
   "cell_type": "markdown",
   "metadata": {},
   "source": [
    "#### Naive Bayes Without SMOTE ss=0.9"
   ]
  },
  {
   "cell_type": "code",
   "execution_count": 69,
   "metadata": {},
   "outputs": [
    {
     "name": "stdout",
     "output_type": "stream",
     "text": [
      "Training set score: 0.743\n",
      "Test set score: 0.921\n",
      "[[116878   9996]\n",
      " [    86    110]]\n",
      "              precision    recall  f1-score   support\n",
      "\n",
      "           0       1.00      0.92      0.96    126874\n",
      "           1       0.01      0.56      0.02       196\n",
      "\n",
      "    accuracy                           0.92    127070\n",
      "   macro avg       0.51      0.74      0.49    127070\n",
      "weighted avg       1.00      0.92      0.96    127070\n",
      "\n"
     ]
    }
   ],
   "source": [
    "# Training your model \n",
    "mod.fit(X_train_scaled_ss_09, y_train_scaled_ss_09)\n",
    "\n",
    "# Predicting Outcome \n",
    "predicted = mod.predict(X_test_scaled)\n",
    "\n",
    "# Score\n",
    "print(\"Training set score: {:.3f}\".format(mod.score(X_train_scaled_ss_09, y_train_scaled_ss_09)))\n",
    "print(\"Test set score: {:.3f}\".format(mod.score(X_test_scaled, y_test)))\n",
    "\n",
    "# Confusion Matrix\n",
    "y_pred = mod.predict(X_test_scaled)\n",
    "print(confusion_matrix(y_test, y_pred))  \n",
    "print(classification_report(y_test, y_pred)) "
   ]
  },
  {
   "cell_type": "markdown",
   "metadata": {},
   "source": [
    "#### Naive Bayes Without SMOTE ss=1.0"
   ]
  },
  {
   "cell_type": "code",
   "execution_count": 70,
   "metadata": {},
   "outputs": [
    {
     "name": "stdout",
     "output_type": "stream",
     "text": [
      "Training set score: 0.733\n",
      "Test set score: 0.920\n",
      "[[116772  10102]\n",
      " [    86    110]]\n",
      "              precision    recall  f1-score   support\n",
      "\n",
      "           0       1.00      0.92      0.96    126874\n",
      "           1       0.01      0.56      0.02       196\n",
      "\n",
      "    accuracy                           0.92    127070\n",
      "   macro avg       0.51      0.74      0.49    127070\n",
      "weighted avg       1.00      0.92      0.96    127070\n",
      "\n"
     ]
    }
   ],
   "source": [
    "# Training your model \n",
    "mod.fit(X_train_scaled_ss_10, y_train_scaled_ss_10)\n",
    "\n",
    "# Predicting Outcome \n",
    "predicted = mod.predict(X_test_scaled)\n",
    "\n",
    "# Score\n",
    "print(\"Training set score: {:.3f}\".format(mod.score(X_train_scaled_ss_10, y_train_scaled_ss_10)))\n",
    "print(\"Test set score: {:.3f}\".format(mod.score(X_test_scaled, y_test)))\n",
    "\n",
    "# Confusion Matrix\n",
    "y_pred = mod.predict(X_test_scaled)\n",
    "print(confusion_matrix(y_test, y_pred))  \n",
    "print(classification_report(y_test, y_pred)) "
   ]
  },
  {
   "cell_type": "markdown",
   "metadata": {
    "slideshow": {
     "slide_type": "-"
    }
   },
   "source": [
    "## NEURAL NET MLP"
   ]
  },
  {
   "cell_type": "markdown",
   "metadata": {},
   "source": [
    "### Neural Net MLP Without SMOTE, 2 Layers"
   ]
  },
  {
   "cell_type": "markdown",
   "metadata": {},
   "source": [
    "#### Neural Net MLPClassifier without SMOTE, hidden layer (16,16)"
   ]
  },
  {
   "cell_type": "code",
   "execution_count": 71,
   "metadata": {},
   "outputs": [
    {
     "name": "stdout",
     "output_type": "stream",
     "text": [
      "Iteration 1, loss = 0.04653690\n",
      "Iteration 2, loss = 0.01008173\n",
      "Iteration 3, loss = 0.00934238\n",
      "Iteration 4, loss = 0.00890550\n",
      "Iteration 5, loss = 0.00867237\n",
      "Iteration 6, loss = 0.00845301\n",
      "Iteration 7, loss = 0.00829869\n",
      "Iteration 8, loss = 0.00819168\n",
      "Iteration 9, loss = 0.00807960\n",
      "Iteration 10, loss = 0.00792900\n",
      "Iteration 11, loss = 0.00782911\n",
      "Iteration 12, loss = 0.00773284\n",
      "Iteration 13, loss = 0.00763741\n",
      "Iteration 14, loss = 0.00761253\n",
      "Iteration 15, loss = 0.00751725\n",
      "Iteration 16, loss = 0.00747358\n",
      "Iteration 17, loss = 0.00742516\n",
      "Iteration 18, loss = 0.00733818\n",
      "Iteration 19, loss = 0.00724555\n",
      "Iteration 20, loss = 0.00727716\n",
      "Iteration 21, loss = 0.00720115\n",
      "Training loss did not improve more than tol=0.000100 for 10 consecutive epochs. Stopping.\n"
     ]
    },
    {
     "data": {
      "text/plain": [
       "MLPClassifier(hidden_layer_sizes=(16, 16), max_iter=1000, verbose=2)"
      ]
     },
     "execution_count": 71,
     "metadata": {},
     "output_type": "execute_result"
    }
   ],
   "source": [
    "from sklearn.neural_network import MLPClassifier  \n",
    "from sklearn import metrics\n",
    "mlp = MLPClassifier(hidden_layer_sizes=(16,16), max_iter=1000,verbose=2)  \n",
    "mlp.fit(X_train_scaled, y_train)  "
   ]
  },
  {
   "cell_type": "code",
   "execution_count": 72,
   "metadata": {},
   "outputs": [
    {
     "name": "stdout",
     "output_type": "stream",
     "text": [
      "Training set score: 0.999\n",
      "Test set score: 0.998\n",
      "Accuracy:  0.9983473675926655\n",
      "[[126832     42]\n",
      " [   168     28]]\n",
      "              precision    recall  f1-score   support\n",
      "\n",
      "           0       1.00      1.00      1.00    126874\n",
      "           1       0.40      0.14      0.21       196\n",
      "\n",
      "    accuracy                           1.00    127070\n",
      "   macro avg       0.70      0.57      0.60    127070\n",
      "weighted avg       1.00      1.00      1.00    127070\n",
      "\n"
     ]
    }
   ],
   "source": [
    "predictions = mlp.predict(X_test_scaled) \n",
    "\n",
    "# Score\n",
    "print(\"Training set score: {:.3f}\".format(mlp.score(X_train_scaled, y_train)))\n",
    "print(\"Test set score: {:.3f}\".format(mlp.score(X_test_scaled, y_test)))\n",
    "\n",
    "print(\"Accuracy: \", metrics.accuracy_score(y_test, predictions))\n",
    "print(confusion_matrix(y_test,predictions))  \n",
    "print(classification_report(y_test,predictions))  "
   ]
  },
  {
   "cell_type": "markdown",
   "metadata": {},
   "source": [
    "#### Neural Net MLPClassifier without SMOTE, hidden layer (32,32)"
   ]
  },
  {
   "cell_type": "code",
   "execution_count": 73,
   "metadata": {},
   "outputs": [
    {
     "name": "stdout",
     "output_type": "stream",
     "text": [
      "Iteration 1, loss = 0.03072718\n",
      "Iteration 2, loss = 0.00945830\n",
      "Iteration 3, loss = 0.00886685\n",
      "Iteration 4, loss = 0.00850062\n",
      "Iteration 5, loss = 0.00829989\n",
      "Iteration 6, loss = 0.00806674\n",
      "Iteration 7, loss = 0.00791253\n",
      "Iteration 8, loss = 0.00769026\n",
      "Iteration 9, loss = 0.00753213\n",
      "Iteration 10, loss = 0.00739460\n",
      "Iteration 11, loss = 0.00724321\n",
      "Iteration 12, loss = 0.00708253\n",
      "Iteration 13, loss = 0.00694710\n",
      "Iteration 14, loss = 0.00685170\n",
      "Iteration 15, loss = 0.00664253\n",
      "Iteration 16, loss = 0.00653519\n",
      "Iteration 17, loss = 0.00631710\n",
      "Iteration 18, loss = 0.00628178\n",
      "Iteration 19, loss = 0.00615745\n",
      "Iteration 20, loss = 0.00600804\n",
      "Iteration 21, loss = 0.00593885\n",
      "Iteration 22, loss = 0.00576949\n",
      "Iteration 23, loss = 0.00563587\n",
      "Iteration 24, loss = 0.00564901\n",
      "Iteration 25, loss = 0.00547951\n",
      "Iteration 26, loss = 0.00544391\n",
      "Iteration 27, loss = 0.00532931\n",
      "Iteration 28, loss = 0.00513743\n",
      "Iteration 29, loss = 0.00511964\n",
      "Iteration 30, loss = 0.00504316\n",
      "Iteration 31, loss = 0.00485363\n",
      "Iteration 32, loss = 0.00496684\n",
      "Iteration 33, loss = 0.00472845\n",
      "Iteration 34, loss = 0.00472245\n",
      "Iteration 35, loss = 0.00468957\n",
      "Iteration 36, loss = 0.00459949\n",
      "Iteration 37, loss = 0.00443505\n",
      "Iteration 38, loss = 0.00440106\n",
      "Iteration 39, loss = 0.00444809\n",
      "Iteration 40, loss = 0.00432510\n",
      "Iteration 41, loss = 0.00427372\n",
      "Iteration 42, loss = 0.00423753\n",
      "Iteration 43, loss = 0.00410758\n",
      "Iteration 44, loss = 0.00407884\n",
      "Iteration 45, loss = 0.00409060\n",
      "Iteration 46, loss = 0.00394759\n",
      "Iteration 47, loss = 0.00397091\n",
      "Iteration 48, loss = 0.00387424\n",
      "Iteration 49, loss = 0.00375058\n",
      "Iteration 50, loss = 0.00378630\n",
      "Iteration 51, loss = 0.00366744\n",
      "Iteration 52, loss = 0.00368424\n",
      "Iteration 53, loss = 0.00365606\n",
      "Iteration 54, loss = 0.00353454\n",
      "Iteration 55, loss = 0.00349457\n",
      "Iteration 56, loss = 0.00345723\n",
      "Iteration 57, loss = 0.00348338\n",
      "Iteration 58, loss = 0.00338329\n",
      "Iteration 59, loss = 0.00334151\n",
      "Iteration 60, loss = 0.00326681\n",
      "Iteration 61, loss = 0.00327468\n",
      "Iteration 62, loss = 0.00323935\n",
      "Iteration 63, loss = 0.00318131\n",
      "Iteration 64, loss = 0.00315063\n",
      "Iteration 65, loss = 0.00312100\n",
      "Training loss did not improve more than tol=0.000100 for 10 consecutive epochs. Stopping.\n"
     ]
    },
    {
     "data": {
      "text/plain": [
       "MLPClassifier(hidden_layer_sizes=(32, 32), max_iter=1000, verbose=2)"
      ]
     },
     "execution_count": 73,
     "metadata": {},
     "output_type": "execute_result"
    }
   ],
   "source": [
    "mlp = MLPClassifier(hidden_layer_sizes=(32,32), max_iter=1000,verbose=2)  \n",
    "mlp.fit(X_train_scaled, y_train)  "
   ]
  },
  {
   "cell_type": "code",
   "execution_count": 74,
   "metadata": {},
   "outputs": [
    {
     "name": "stdout",
     "output_type": "stream",
     "text": [
      "Training set score: 0.999\n",
      "Test set score: 0.998\n",
      "Accuracy:  0.9980483198237192\n",
      "[[126798     76]\n",
      " [   172     24]]\n",
      "              precision    recall  f1-score   support\n",
      "\n",
      "           0       1.00      1.00      1.00    126874\n",
      "           1       0.24      0.12      0.16       196\n",
      "\n",
      "    accuracy                           1.00    127070\n",
      "   macro avg       0.62      0.56      0.58    127070\n",
      "weighted avg       1.00      1.00      1.00    127070\n",
      "\n"
     ]
    }
   ],
   "source": [
    "predictions = mlp.predict(X_test_scaled) \n",
    "\n",
    "# Score\n",
    "print(\"Training set score: {:.3f}\".format(mlp.score(X_train_scaled, y_train)))\n",
    "print(\"Test set score: {:.3f}\".format(mlp.score(X_test_scaled, y_test)))\n",
    "\n",
    "print(\"Accuracy: \", metrics.accuracy_score(y_test, predictions))\n",
    "print(confusion_matrix(y_test,predictions))  \n",
    "print(classification_report(y_test,predictions))  "
   ]
  },
  {
   "cell_type": "markdown",
   "metadata": {},
   "source": [
    "#### Neural Net MLPClassifier without SMOTE, hidden layer (64,64)"
   ]
  },
  {
   "cell_type": "code",
   "execution_count": 75,
   "metadata": {},
   "outputs": [
    {
     "name": "stdout",
     "output_type": "stream",
     "text": [
      "Iteration 1, loss = 0.01850770\n",
      "Iteration 2, loss = 0.00911738\n",
      "Iteration 3, loss = 0.00856987\n",
      "Iteration 4, loss = 0.00814619\n",
      "Iteration 5, loss = 0.00785840\n",
      "Iteration 6, loss = 0.00756410\n",
      "Iteration 7, loss = 0.00725918\n",
      "Iteration 8, loss = 0.00695825\n",
      "Iteration 9, loss = 0.00658399\n",
      "Iteration 10, loss = 0.00621677\n",
      "Iteration 11, loss = 0.00590661\n",
      "Iteration 12, loss = 0.00554816\n",
      "Iteration 13, loss = 0.00533353\n",
      "Iteration 14, loss = 0.00500987\n",
      "Iteration 15, loss = 0.00475089\n",
      "Iteration 16, loss = 0.00448428\n",
      "Iteration 17, loss = 0.00421715\n",
      "Iteration 18, loss = 0.00401065\n",
      "Iteration 19, loss = 0.00362673\n",
      "Iteration 20, loss = 0.00349421\n",
      "Iteration 21, loss = 0.00338074\n",
      "Iteration 22, loss = 0.00320054\n",
      "Iteration 23, loss = 0.00291245\n",
      "Iteration 24, loss = 0.00273137\n",
      "Iteration 25, loss = 0.00277677\n",
      "Iteration 26, loss = 0.00238705\n",
      "Iteration 27, loss = 0.00228585\n",
      "Iteration 28, loss = 0.00220277\n",
      "Iteration 29, loss = 0.00205850\n",
      "Iteration 30, loss = 0.00200335\n",
      "Iteration 31, loss = 0.00205027\n",
      "Iteration 32, loss = 0.00168263\n",
      "Iteration 33, loss = 0.00163001\n",
      "Iteration 34, loss = 0.00157654\n",
      "Iteration 35, loss = 0.00149440\n",
      "Iteration 36, loss = 0.00153674\n",
      "Iteration 37, loss = 0.00148216\n",
      "Iteration 38, loss = 0.00133143\n",
      "Iteration 39, loss = 0.00148329\n",
      "Iteration 40, loss = 0.00119925\n",
      "Iteration 41, loss = 0.00124003\n",
      "Iteration 42, loss = 0.00112953\n",
      "Iteration 43, loss = 0.00129799\n",
      "Iteration 44, loss = 0.00098204\n",
      "Iteration 45, loss = 0.00111127\n",
      "Iteration 46, loss = 0.00130227\n",
      "Iteration 47, loss = 0.00089085\n",
      "Iteration 48, loss = 0.00103135\n",
      "Iteration 49, loss = 0.00108503\n",
      "Iteration 50, loss = 0.00122044\n",
      "Iteration 51, loss = 0.00079232\n",
      "Iteration 52, loss = 0.00113485\n",
      "Iteration 53, loss = 0.00098350\n",
      "Iteration 54, loss = 0.00093054\n",
      "Iteration 55, loss = 0.00093374\n",
      "Training loss did not improve more than tol=0.000100 for 10 consecutive epochs. Stopping.\n"
     ]
    },
    {
     "data": {
      "text/plain": [
       "MLPClassifier(hidden_layer_sizes=(64, 64), max_iter=1000, verbose=2)"
      ]
     },
     "execution_count": 75,
     "metadata": {},
     "output_type": "execute_result"
    }
   ],
   "source": [
    "mlp = MLPClassifier(hidden_layer_sizes=(64,64), max_iter=1000,verbose=2)  \n",
    "mlp.fit(X_train_scaled, y_train)  "
   ]
  },
  {
   "cell_type": "code",
   "execution_count": 76,
   "metadata": {},
   "outputs": [
    {
     "name": "stdout",
     "output_type": "stream",
     "text": [
      "Training set score: 1.000\n",
      "Test set score: 0.998\n",
      "Accuracy:  0.9982214527425828\n",
      "[[126824     50]\n",
      " [   176     20]]\n",
      "              precision    recall  f1-score   support\n",
      "\n",
      "           0       1.00      1.00      1.00    126874\n",
      "           1       0.29      0.10      0.15       196\n",
      "\n",
      "    accuracy                           1.00    127070\n",
      "   macro avg       0.64      0.55      0.57    127070\n",
      "weighted avg       1.00      1.00      1.00    127070\n",
      "\n"
     ]
    }
   ],
   "source": [
    "predictions = mlp.predict(X_test_scaled) \n",
    "\n",
    "# Score\n",
    "print(\"Training set score: {:.3f}\".format(mlp.score(X_train_scaled, y_train)))\n",
    "print(\"Test set score: {:.3f}\".format(mlp.score(X_test_scaled, y_test)))\n",
    "\n",
    "print(\"Accuracy: \", metrics.accuracy_score(y_test, predictions))\n",
    "print(confusion_matrix(y_test,predictions))  \n",
    "print(classification_report(y_test,predictions))  "
   ]
  },
  {
   "cell_type": "markdown",
   "metadata": {},
   "source": [
    "#### Neural Net MLPClassifier without SMOTE, hidden layer (128,128)"
   ]
  },
  {
   "cell_type": "code",
   "execution_count": 77,
   "metadata": {},
   "outputs": [
    {
     "name": "stdout",
     "output_type": "stream",
     "text": [
      "Iteration 1, loss = 0.01354809\n",
      "Iteration 2, loss = 0.00897308\n",
      "Iteration 3, loss = 0.00840203\n",
      "Iteration 4, loss = 0.00815592\n",
      "Iteration 5, loss = 0.00773303\n",
      "Iteration 6, loss = 0.00732485\n",
      "Iteration 7, loss = 0.00692609\n",
      "Iteration 8, loss = 0.00649118\n",
      "Iteration 9, loss = 0.00599470\n",
      "Iteration 10, loss = 0.00565518\n",
      "Iteration 11, loss = 0.00500086\n",
      "Iteration 12, loss = 0.00454753\n",
      "Iteration 13, loss = 0.00406369\n",
      "Iteration 14, loss = 0.00366366\n",
      "Iteration 15, loss = 0.00327920\n",
      "Iteration 16, loss = 0.00284088\n",
      "Iteration 17, loss = 0.00263607\n",
      "Iteration 18, loss = 0.00224575\n",
      "Iteration 19, loss = 0.00218667\n",
      "Iteration 20, loss = 0.00195845\n",
      "Iteration 21, loss = 0.00174370\n",
      "Iteration 22, loss = 0.00188302\n",
      "Iteration 23, loss = 0.00142852\n",
      "Iteration 24, loss = 0.00129712\n",
      "Iteration 25, loss = 0.00163502\n",
      "Iteration 26, loss = 0.00132488\n",
      "Iteration 27, loss = 0.00109301\n",
      "Iteration 28, loss = 0.00136031\n",
      "Iteration 29, loss = 0.00100026\n",
      "Iteration 30, loss = 0.00118002\n",
      "Iteration 31, loss = 0.00116586\n",
      "Iteration 32, loss = 0.00105868\n",
      "Iteration 33, loss = 0.00122389\n",
      "Iteration 34, loss = 0.00097488\n",
      "Iteration 35, loss = 0.00099475\n",
      "Iteration 36, loss = 0.00102057\n",
      "Iteration 37, loss = 0.00099135\n",
      "Iteration 38, loss = 0.00120528\n",
      "Training loss did not improve more than tol=0.000100 for 10 consecutive epochs. Stopping.\n"
     ]
    },
    {
     "data": {
      "text/plain": [
       "MLPClassifier(hidden_layer_sizes=(128, 128), max_iter=1000, verbose=2)"
      ]
     },
     "execution_count": 77,
     "metadata": {},
     "output_type": "execute_result"
    }
   ],
   "source": [
    "mlp = MLPClassifier(hidden_layer_sizes=(128,128), max_iter=1000,verbose=2)  \n",
    "mlp.fit(X_train_scaled, y_train)  "
   ]
  },
  {
   "cell_type": "code",
   "execution_count": 78,
   "metadata": {},
   "outputs": [
    {
     "name": "stdout",
     "output_type": "stream",
     "text": [
      "Training set score: 1.000\n",
      "Test set score: 0.998\n",
      "Accuracy:  0.9982214527425828\n",
      "[[126815     59]\n",
      " [   167     29]]\n",
      "              precision    recall  f1-score   support\n",
      "\n",
      "           0       1.00      1.00      1.00    126874\n",
      "           1       0.33      0.15      0.20       196\n",
      "\n",
      "    accuracy                           1.00    127070\n",
      "   macro avg       0.66      0.57      0.60    127070\n",
      "weighted avg       1.00      1.00      1.00    127070\n",
      "\n"
     ]
    }
   ],
   "source": [
    "predictions = mlp.predict(X_test_scaled) \n",
    "\n",
    "# Score\n",
    "print(\"Training set score: {:.3f}\".format(mlp.score(X_train_scaled, y_train)))\n",
    "print(\"Test set score: {:.3f}\".format(mlp.score(X_test_scaled, y_test)))\n",
    "\n",
    "print(\"Accuracy: \", metrics.accuracy_score(y_test, predictions))\n",
    "print(confusion_matrix(y_test,predictions))  \n",
    "print(classification_report(y_test,predictions))  "
   ]
  },
  {
   "cell_type": "markdown",
   "metadata": {},
   "source": [
    "#### Neural Net MLPClassifier without SMOTE, hidden layer (256,256)"
   ]
  },
  {
   "cell_type": "code",
   "execution_count": 79,
   "metadata": {},
   "outputs": [
    {
     "name": "stdout",
     "output_type": "stream",
     "text": [
      "Iteration 1, loss = 0.01333551\n",
      "Iteration 2, loss = 0.00905991\n",
      "Iteration 3, loss = 0.00856621\n",
      "Iteration 4, loss = 0.00822532\n",
      "Iteration 5, loss = 0.00783202\n",
      "Iteration 6, loss = 0.00734392\n",
      "Iteration 7, loss = 0.00690428\n",
      "Iteration 8, loss = 0.00623014\n",
      "Iteration 9, loss = 0.00565417\n",
      "Iteration 10, loss = 0.00488429\n",
      "Iteration 11, loss = 0.00402599\n",
      "Iteration 12, loss = 0.00363028\n",
      "Iteration 13, loss = 0.00303103\n",
      "Iteration 14, loss = 0.00268986\n",
      "Iteration 15, loss = 0.00224893\n",
      "Iteration 16, loss = 0.00220428\n",
      "Iteration 17, loss = 0.00194787\n",
      "Iteration 18, loss = 0.00197772\n",
      "Iteration 19, loss = 0.00152614\n",
      "Iteration 20, loss = 0.00179804\n",
      "Iteration 21, loss = 0.00152980\n",
      "Iteration 22, loss = 0.00138332\n",
      "Iteration 23, loss = 0.00153718\n",
      "Iteration 24, loss = 0.00154729\n",
      "Iteration 25, loss = 0.00119351\n",
      "Iteration 26, loss = 0.00125033\n",
      "Iteration 27, loss = 0.00162130\n",
      "Iteration 28, loss = 0.00132638\n",
      "Iteration 29, loss = 0.00118966\n",
      "Iteration 30, loss = 0.00116198\n",
      "Iteration 31, loss = 0.00118432\n",
      "Iteration 32, loss = 0.00157698\n",
      "Iteration 33, loss = 0.00121565\n",
      "Iteration 34, loss = 0.00105708\n",
      "Iteration 35, loss = 0.00133570\n",
      "Iteration 36, loss = 0.00095710\n",
      "Iteration 37, loss = 0.00118717\n",
      "Iteration 38, loss = 0.00117364\n",
      "Iteration 39, loss = 0.00119370\n",
      "Iteration 40, loss = 0.00103275\n",
      "Iteration 41, loss = 0.00107473\n",
      "Iteration 42, loss = 0.00096644\n",
      "Iteration 43, loss = 0.00113386\n",
      "Iteration 44, loss = 0.00112900\n",
      "Iteration 45, loss = 0.00105717\n",
      "Training loss did not improve more than tol=0.000100 for 10 consecutive epochs. Stopping.\n"
     ]
    },
    {
     "data": {
      "text/plain": [
       "MLPClassifier(hidden_layer_sizes=(256, 256), max_iter=1000, verbose=2)"
      ]
     },
     "execution_count": 79,
     "metadata": {},
     "output_type": "execute_result"
    }
   ],
   "source": [
    "mlp = MLPClassifier(hidden_layer_sizes=(256,256), max_iter=1000,verbose=2)  \n",
    "mlp.fit(X_train_scaled, y_train)  "
   ]
  },
  {
   "cell_type": "code",
   "execution_count": 80,
   "metadata": {},
   "outputs": [
    {
     "name": "stdout",
     "output_type": "stream",
     "text": [
      "Training set score: 1.000\n",
      "Test set score: 0.998\n",
      "Accuracy:  0.9981270166050209\n",
      "[[126797     77]\n",
      " [   161     35]]\n",
      "              precision    recall  f1-score   support\n",
      "\n",
      "           0       1.00      1.00      1.00    126874\n",
      "           1       0.31      0.18      0.23       196\n",
      "\n",
      "    accuracy                           1.00    127070\n",
      "   macro avg       0.66      0.59      0.61    127070\n",
      "weighted avg       1.00      1.00      1.00    127070\n",
      "\n"
     ]
    }
   ],
   "source": [
    "predictions = mlp.predict(X_test_scaled) \n",
    "\n",
    "# Score\n",
    "print(\"Training set score: {:.3f}\".format(mlp.score(X_train_scaled, y_train)))\n",
    "print(\"Test set score: {:.3f}\".format(mlp.score(X_test_scaled, y_test)))\n",
    "\n",
    "print(\"Accuracy: \", metrics.accuracy_score(y_test, predictions))\n",
    "print(confusion_matrix(y_test,predictions))  \n",
    "print(classification_report(y_test,predictions))  "
   ]
  },
  {
   "cell_type": "markdown",
   "metadata": {},
   "source": [
    "### Neural Net MLP Without SMOTE, 3 Layers"
   ]
  },
  {
   "cell_type": "markdown",
   "metadata": {},
   "source": [
    "#### Neural Net MLPClassifier without SMOTE, hidden layer (16,16,16)"
   ]
  },
  {
   "cell_type": "code",
   "execution_count": 81,
   "metadata": {},
   "outputs": [
    {
     "name": "stdout",
     "output_type": "stream",
     "text": [
      "Iteration 1, loss = 0.03247254\n",
      "Iteration 2, loss = 0.00991868\n",
      "Iteration 3, loss = 0.00924188\n",
      "Iteration 4, loss = 0.00894157\n",
      "Iteration 5, loss = 0.00862097\n",
      "Iteration 6, loss = 0.00846934\n",
      "Iteration 7, loss = 0.00826118\n",
      "Iteration 8, loss = 0.00814138\n",
      "Iteration 9, loss = 0.00799924\n",
      "Iteration 10, loss = 0.00791417\n",
      "Iteration 11, loss = 0.00781667\n",
      "Iteration 12, loss = 0.00770384\n",
      "Iteration 13, loss = 0.00759006\n",
      "Iteration 14, loss = 0.00750664\n",
      "Iteration 15, loss = 0.00747064\n",
      "Iteration 16, loss = 0.00736252\n",
      "Iteration 17, loss = 0.00730348\n",
      "Iteration 18, loss = 0.00723770\n",
      "Iteration 19, loss = 0.00715603\n",
      "Iteration 20, loss = 0.00713630\n",
      "Iteration 21, loss = 0.00707110\n",
      "Iteration 22, loss = 0.00693103\n",
      "Iteration 23, loss = 0.00690295\n",
      "Iteration 24, loss = 0.00682379\n",
      "Iteration 25, loss = 0.00678287\n",
      "Iteration 26, loss = 0.00675451\n",
      "Iteration 27, loss = 0.00672160\n",
      "Iteration 28, loss = 0.00664810\n",
      "Iteration 29, loss = 0.00664652\n",
      "Iteration 30, loss = 0.00655806\n",
      "Iteration 31, loss = 0.00652222\n",
      "Iteration 32, loss = 0.00652426\n",
      "Iteration 33, loss = 0.00642542\n",
      "Training loss did not improve more than tol=0.000100 for 10 consecutive epochs. Stopping.\n"
     ]
    },
    {
     "data": {
      "text/plain": [
       "MLPClassifier(hidden_layer_sizes=(16, 16, 16), max_iter=1000, verbose=2)"
      ]
     },
     "execution_count": 81,
     "metadata": {},
     "output_type": "execute_result"
    }
   ],
   "source": [
    "mlp = MLPClassifier(hidden_layer_sizes=(16,16,16), max_iter=1000,verbose=2)  \n",
    "mlp.fit(X_train_scaled, y_train)  "
   ]
  },
  {
   "cell_type": "code",
   "execution_count": 82,
   "metadata": {},
   "outputs": [
    {
     "name": "stdout",
     "output_type": "stream",
     "text": [
      "Training set score: 0.999\n",
      "Test set score: 0.998\n",
      "Accuracy:  0.9984339340520972\n",
      "[[126850     24]\n",
      " [   175     21]]\n",
      "              precision    recall  f1-score   support\n",
      "\n",
      "           0       1.00      1.00      1.00    126874\n",
      "           1       0.47      0.11      0.17       196\n",
      "\n",
      "    accuracy                           1.00    127070\n",
      "   macro avg       0.73      0.55      0.59    127070\n",
      "weighted avg       1.00      1.00      1.00    127070\n",
      "\n"
     ]
    }
   ],
   "source": [
    "predictions = mlp.predict(X_test_scaled) \n",
    "\n",
    "# Score\n",
    "print(\"Training set score: {:.3f}\".format(mlp.score(X_train_scaled, y_train)))\n",
    "print(\"Test set score: {:.3f}\".format(mlp.score(X_test_scaled, y_test)))\n",
    "\n",
    "print(\"Accuracy: \", metrics.accuracy_score(y_test, predictions))\n",
    "print(confusion_matrix(y_test,predictions))  \n",
    "print(classification_report(y_test,predictions))  "
   ]
  },
  {
   "cell_type": "markdown",
   "metadata": {},
   "source": [
    "#### Neural Net MLPClassifier without SMOTE, hidden layer (32,32,32)"
   ]
  },
  {
   "cell_type": "code",
   "execution_count": 83,
   "metadata": {},
   "outputs": [
    {
     "name": "stdout",
     "output_type": "stream",
     "text": [
      "Iteration 1, loss = 0.01687682\n",
      "Iteration 2, loss = 0.00925996\n",
      "Iteration 3, loss = 0.00876164\n",
      "Iteration 4, loss = 0.00831094\n",
      "Iteration 5, loss = 0.00805896\n",
      "Iteration 6, loss = 0.00779113\n",
      "Iteration 7, loss = 0.00757084\n",
      "Iteration 8, loss = 0.00726907\n",
      "Iteration 9, loss = 0.00704150\n",
      "Iteration 10, loss = 0.00684071\n",
      "Iteration 11, loss = 0.00670136\n",
      "Iteration 12, loss = 0.00652418\n",
      "Iteration 13, loss = 0.00624341\n",
      "Iteration 14, loss = 0.00606548\n",
      "Iteration 15, loss = 0.00596826\n",
      "Iteration 16, loss = 0.00564162\n",
      "Iteration 17, loss = 0.00549828\n",
      "Iteration 18, loss = 0.00539949\n",
      "Iteration 19, loss = 0.00525263\n",
      "Iteration 20, loss = 0.00508037\n",
      "Iteration 21, loss = 0.00498077\n",
      "Iteration 22, loss = 0.00474948\n",
      "Iteration 23, loss = 0.00456456\n",
      "Iteration 24, loss = 0.00453506\n",
      "Iteration 25, loss = 0.00440651\n",
      "Iteration 26, loss = 0.00430441\n",
      "Iteration 27, loss = 0.00416649\n",
      "Iteration 28, loss = 0.00396258\n",
      "Iteration 29, loss = 0.00391752\n",
      "Iteration 30, loss = 0.00375532\n",
      "Iteration 31, loss = 0.00354803\n",
      "Iteration 32, loss = 0.00373201\n",
      "Iteration 33, loss = 0.00346132\n",
      "Iteration 34, loss = 0.00335068\n",
      "Iteration 35, loss = 0.00332458\n",
      "Iteration 36, loss = 0.00314881\n",
      "Iteration 37, loss = 0.00317332\n",
      "Iteration 38, loss = 0.00291803\n",
      "Iteration 39, loss = 0.00292803\n",
      "Iteration 40, loss = 0.00279925\n",
      "Iteration 41, loss = 0.00291150\n",
      "Iteration 42, loss = 0.00270664\n",
      "Iteration 43, loss = 0.00267187\n",
      "Iteration 44, loss = 0.00239163\n",
      "Iteration 45, loss = 0.00254526\n",
      "Iteration 46, loss = 0.00239357\n",
      "Iteration 47, loss = 0.00254131\n",
      "Iteration 48, loss = 0.00232097\n",
      "Iteration 49, loss = 0.00244335\n",
      "Iteration 50, loss = 0.00198451\n",
      "Iteration 51, loss = 0.00208274\n",
      "Iteration 52, loss = 0.00217244\n",
      "Iteration 53, loss = 0.00203354\n",
      "Iteration 54, loss = 0.00190400\n",
      "Iteration 55, loss = 0.00212425\n",
      "Iteration 56, loss = 0.00193000\n",
      "Iteration 57, loss = 0.00186303\n",
      "Iteration 58, loss = 0.00178709\n",
      "Iteration 59, loss = 0.00181324\n",
      "Iteration 60, loss = 0.00168556\n",
      "Iteration 61, loss = 0.00177703\n",
      "Iteration 62, loss = 0.00210932\n",
      "Iteration 63, loss = 0.00168947\n",
      "Iteration 64, loss = 0.00180285\n",
      "Iteration 65, loss = 0.00143882\n",
      "Iteration 66, loss = 0.00181400\n",
      "Iteration 67, loss = 0.00164465\n",
      "Iteration 68, loss = 0.00161914\n",
      "Iteration 69, loss = 0.00149244\n",
      "Iteration 70, loss = 0.00158529\n",
      "Iteration 71, loss = 0.00142073\n",
      "Iteration 72, loss = 0.00148071\n",
      "Iteration 73, loss = 0.00166644\n",
      "Iteration 74, loss = 0.00161209\n",
      "Iteration 75, loss = 0.00120405\n",
      "Iteration 76, loss = 0.00154255\n",
      "Iteration 77, loss = 0.00154466\n",
      "Iteration 78, loss = 0.00125791\n",
      "Iteration 79, loss = 0.00165643\n",
      "Iteration 80, loss = 0.00126950\n",
      "Iteration 81, loss = 0.00136427\n",
      "Iteration 82, loss = 0.00118770\n",
      "Iteration 83, loss = 0.00154242\n",
      "Iteration 84, loss = 0.00144838\n",
      "Iteration 85, loss = 0.00133448\n",
      "Iteration 86, loss = 0.00137524\n",
      "Training loss did not improve more than tol=0.000100 for 10 consecutive epochs. Stopping.\n"
     ]
    },
    {
     "data": {
      "text/plain": [
       "MLPClassifier(hidden_layer_sizes=(32, 32, 32), max_iter=1000, verbose=2)"
      ]
     },
     "execution_count": 83,
     "metadata": {},
     "output_type": "execute_result"
    }
   ],
   "source": [
    "mlp = MLPClassifier(hidden_layer_sizes=(32,32,32), max_iter=1000,verbose=2)  \n",
    "mlp.fit(X_train_scaled, y_train)  "
   ]
  },
  {
   "cell_type": "code",
   "execution_count": 84,
   "metadata": {},
   "outputs": [
    {
     "name": "stdout",
     "output_type": "stream",
     "text": [
      "Training set score: 1.000\n",
      "Test set score: 0.998\n",
      "Accuracy:  0.9979302746517668\n",
      "[[126789     85]\n",
      " [   178     18]]\n",
      "              precision    recall  f1-score   support\n",
      "\n",
      "           0       1.00      1.00      1.00    126874\n",
      "           1       0.17      0.09      0.12       196\n",
      "\n",
      "    accuracy                           1.00    127070\n",
      "   macro avg       0.59      0.55      0.56    127070\n",
      "weighted avg       1.00      1.00      1.00    127070\n",
      "\n"
     ]
    }
   ],
   "source": [
    "predictions = mlp.predict(X_test_scaled) \n",
    "\n",
    "# Score\n",
    "print(\"Training set score: {:.3f}\".format(mlp.score(X_train_scaled, y_train)))\n",
    "print(\"Test set score: {:.3f}\".format(mlp.score(X_test_scaled, y_test)))\n",
    "\n",
    "print(\"Accuracy: \", metrics.accuracy_score(y_test, predictions))\n",
    "print(confusion_matrix(y_test,predictions))  \n",
    "print(classification_report(y_test,predictions))  "
   ]
  },
  {
   "cell_type": "markdown",
   "metadata": {},
   "source": [
    "#### Neural Net MLPClassifier without SMOTE, hidden layer (64,64,64)"
   ]
  },
  {
   "cell_type": "code",
   "execution_count": 85,
   "metadata": {},
   "outputs": [
    {
     "name": "stdout",
     "output_type": "stream",
     "text": [
      "Iteration 1, loss = 0.01450565\n",
      "Iteration 2, loss = 0.00904398\n",
      "Iteration 3, loss = 0.00842792\n",
      "Iteration 4, loss = 0.00805782\n",
      "Iteration 5, loss = 0.00768643\n",
      "Iteration 6, loss = 0.00728007\n",
      "Iteration 7, loss = 0.00694338\n",
      "Iteration 8, loss = 0.00661602\n",
      "Iteration 9, loss = 0.00621866\n",
      "Iteration 10, loss = 0.00583565\n",
      "Iteration 11, loss = 0.00538112\n",
      "Iteration 12, loss = 0.00505010\n",
      "Iteration 13, loss = 0.00459227\n",
      "Iteration 14, loss = 0.00424962\n",
      "Iteration 15, loss = 0.00393260\n",
      "Iteration 16, loss = 0.00361489\n",
      "Iteration 17, loss = 0.00352889\n",
      "Iteration 18, loss = 0.00307653\n",
      "Iteration 19, loss = 0.00278620\n",
      "Iteration 20, loss = 0.00261050\n",
      "Iteration 21, loss = 0.00269197\n",
      "Iteration 22, loss = 0.00216699\n",
      "Iteration 23, loss = 0.00198147\n",
      "Iteration 24, loss = 0.00215315\n",
      "Iteration 25, loss = 0.00201066\n",
      "Iteration 26, loss = 0.00183700\n",
      "Iteration 27, loss = 0.00181484\n",
      "Iteration 28, loss = 0.00171677\n",
      "Iteration 29, loss = 0.00148100\n",
      "Iteration 30, loss = 0.00175646\n",
      "Iteration 31, loss = 0.00160171\n",
      "Iteration 32, loss = 0.00158397\n",
      "Iteration 33, loss = 0.00130862\n",
      "Iteration 34, loss = 0.00131682\n",
      "Iteration 35, loss = 0.00124552\n",
      "Iteration 36, loss = 0.00151246\n",
      "Iteration 37, loss = 0.00131341\n",
      "Iteration 38, loss = 0.00107468\n",
      "Iteration 39, loss = 0.00140737\n",
      "Iteration 40, loss = 0.00131136\n",
      "Iteration 41, loss = 0.00112414\n",
      "Iteration 42, loss = 0.00142386\n",
      "Iteration 43, loss = 0.00099874\n",
      "Iteration 44, loss = 0.00103659\n",
      "Iteration 45, loss = 0.00131084\n",
      "Iteration 46, loss = 0.00097386\n",
      "Iteration 47, loss = 0.00120580\n",
      "Iteration 48, loss = 0.00129976\n",
      "Iteration 49, loss = 0.00082301\n",
      "Iteration 50, loss = 0.00115538\n",
      "Iteration 51, loss = 0.00118788\n",
      "Iteration 52, loss = 0.00083961\n",
      "Iteration 53, loss = 0.00123452\n",
      "Iteration 54, loss = 0.00134850\n",
      "Iteration 55, loss = 0.00094015\n",
      "Iteration 56, loss = 0.00085478\n",
      "Iteration 57, loss = 0.00106160\n",
      "Iteration 58, loss = 0.00105459\n",
      "Iteration 59, loss = 0.00090333\n",
      "Iteration 60, loss = 0.00076775\n",
      "Training loss did not improve more than tol=0.000100 for 10 consecutive epochs. Stopping.\n"
     ]
    },
    {
     "data": {
      "text/plain": [
       "MLPClassifier(hidden_layer_sizes=(64, 64, 64), max_iter=1000, verbose=2)"
      ]
     },
     "execution_count": 85,
     "metadata": {},
     "output_type": "execute_result"
    }
   ],
   "source": [
    "mlp = MLPClassifier(hidden_layer_sizes=(64,64,64), max_iter=1000,verbose=2)  \n",
    "mlp.fit(X_train_scaled, y_train)  "
   ]
  },
  {
   "cell_type": "code",
   "execution_count": 86,
   "metadata": {},
   "outputs": [
    {
     "name": "stdout",
     "output_type": "stream",
     "text": [
      "Training set score: 1.000\n",
      "Test set score: 0.998\n",
      "Accuracy:  0.9980483198237192\n",
      "[[126805     69]\n",
      " [   179     17]]\n",
      "              precision    recall  f1-score   support\n",
      "\n",
      "           0       1.00      1.00      1.00    126874\n",
      "           1       0.20      0.09      0.12       196\n",
      "\n",
      "    accuracy                           1.00    127070\n",
      "   macro avg       0.60      0.54      0.56    127070\n",
      "weighted avg       1.00      1.00      1.00    127070\n",
      "\n"
     ]
    }
   ],
   "source": [
    "predictions = mlp.predict(X_test_scaled) \n",
    "\n",
    "# Score\n",
    "print(\"Training set score: {:.3f}\".format(mlp.score(X_train_scaled, y_train)))\n",
    "print(\"Test set score: {:.3f}\".format(mlp.score(X_test_scaled, y_test)))\n",
    "\n",
    "print(\"Accuracy: \", metrics.accuracy_score(y_test, predictions))\n",
    "print(confusion_matrix(y_test,predictions))  \n",
    "print(classification_report(y_test,predictions))  "
   ]
  },
  {
   "cell_type": "markdown",
   "metadata": {},
   "source": [
    "### Neural Net MLP Without SMOTE, 4 Layers"
   ]
  },
  {
   "cell_type": "markdown",
   "metadata": {},
   "source": [
    "#### Neural Net MLPClassifier without SMOTE, hidden layer (16,16,16,16)"
   ]
  },
  {
   "cell_type": "code",
   "execution_count": 87,
   "metadata": {},
   "outputs": [
    {
     "name": "stdout",
     "output_type": "stream",
     "text": [
      "Iteration 1, loss = 0.02524599\n",
      "Iteration 2, loss = 0.00956328\n",
      "Iteration 3, loss = 0.00905083\n",
      "Iteration 4, loss = 0.00867674\n",
      "Iteration 5, loss = 0.00846559\n",
      "Iteration 6, loss = 0.00833427\n",
      "Iteration 7, loss = 0.00816070\n",
      "Iteration 8, loss = 0.00800837\n",
      "Iteration 9, loss = 0.00783140\n",
      "Iteration 10, loss = 0.00777309\n",
      "Iteration 11, loss = 0.00758488\n",
      "Iteration 12, loss = 0.00760016\n",
      "Iteration 13, loss = 0.00745872\n",
      "Iteration 14, loss = 0.00736269\n",
      "Iteration 15, loss = 0.00723986\n",
      "Iteration 16, loss = 0.00718082\n",
      "Iteration 17, loss = 0.00704991\n",
      "Iteration 18, loss = 0.00696456\n",
      "Iteration 19, loss = 0.00684522\n",
      "Iteration 20, loss = 0.00677328\n",
      "Iteration 21, loss = 0.00679965\n",
      "Iteration 22, loss = 0.00659705\n",
      "Iteration 23, loss = 0.00659670\n",
      "Iteration 24, loss = 0.00650733\n",
      "Iteration 25, loss = 0.00651026\n",
      "Iteration 26, loss = 0.00638667\n",
      "Iteration 27, loss = 0.00634684\n",
      "Iteration 28, loss = 0.00624132\n",
      "Iteration 29, loss = 0.00625947\n",
      "Iteration 30, loss = 0.00616823\n",
      "Iteration 31, loss = 0.00607952\n",
      "Iteration 32, loss = 0.00613154\n",
      "Iteration 33, loss = 0.00607217\n",
      "Iteration 34, loss = 0.00597658\n",
      "Iteration 35, loss = 0.00601847\n",
      "Iteration 36, loss = 0.00595521\n",
      "Iteration 37, loss = 0.00582825\n",
      "Iteration 38, loss = 0.00589781\n",
      "Iteration 39, loss = 0.00583199\n",
      "Iteration 40, loss = 0.00578106\n",
      "Iteration 41, loss = 0.00572271\n",
      "Iteration 42, loss = 0.00578144\n",
      "Iteration 43, loss = 0.00562893\n",
      "Iteration 44, loss = 0.00567438\n",
      "Iteration 45, loss = 0.00558795\n",
      "Iteration 46, loss = 0.00562747\n",
      "Iteration 47, loss = 0.00549936\n",
      "Iteration 48, loss = 0.00554174\n",
      "Training loss did not improve more than tol=0.000100 for 10 consecutive epochs. Stopping.\n"
     ]
    },
    {
     "data": {
      "text/plain": [
       "MLPClassifier(hidden_layer_sizes=(16, 16, 16, 16), max_iter=1000, verbose=2)"
      ]
     },
     "execution_count": 87,
     "metadata": {},
     "output_type": "execute_result"
    }
   ],
   "source": [
    "mlp = MLPClassifier(hidden_layer_sizes=(16,16,16,16), max_iter=1000,verbose=2)  \n",
    "mlp.fit(X_train_scaled, y_train)  "
   ]
  },
  {
   "cell_type": "code",
   "execution_count": 88,
   "metadata": {},
   "outputs": [
    {
     "name": "stdout",
     "output_type": "stream",
     "text": [
      "Training set score: 0.999\n",
      "Test set score: 0.998\n",
      "Accuracy:  0.9980640591799795\n",
      "[[126803     71]\n",
      " [   175     21]]\n",
      "              precision    recall  f1-score   support\n",
      "\n",
      "           0       1.00      1.00      1.00    126874\n",
      "           1       0.23      0.11      0.15       196\n",
      "\n",
      "    accuracy                           1.00    127070\n",
      "   macro avg       0.61      0.55      0.57    127070\n",
      "weighted avg       1.00      1.00      1.00    127070\n",
      "\n"
     ]
    }
   ],
   "source": [
    "predictions = mlp.predict(X_test_scaled) \n",
    "\n",
    "# Score\n",
    "print(\"Training set score: {:.3f}\".format(mlp.score(X_train_scaled, y_train)))\n",
    "print(\"Test set score: {:.3f}\".format(mlp.score(X_test_scaled, y_test)))\n",
    "\n",
    "print(\"Accuracy: \", metrics.accuracy_score(y_test, predictions))\n",
    "print(confusion_matrix(y_test,predictions))  \n",
    "print(classification_report(y_test,predictions))  "
   ]
  },
  {
   "cell_type": "markdown",
   "metadata": {},
   "source": [
    "#### Neural Net MLPClassifier without SMOTE, hidden layer (32,32,32,32)"
   ]
  },
  {
   "cell_type": "code",
   "execution_count": 89,
   "metadata": {},
   "outputs": [
    {
     "name": "stdout",
     "output_type": "stream",
     "text": [
      "Iteration 1, loss = 0.02060188\n",
      "Iteration 2, loss = 0.00939798\n",
      "Iteration 3, loss = 0.00887470\n",
      "Iteration 4, loss = 0.00848955\n",
      "Iteration 5, loss = 0.00821014\n",
      "Iteration 6, loss = 0.00784036\n",
      "Iteration 7, loss = 0.00762253\n",
      "Iteration 8, loss = 0.00743200\n",
      "Iteration 9, loss = 0.00708371\n",
      "Iteration 10, loss = 0.00687517\n",
      "Iteration 11, loss = 0.00676953\n",
      "Iteration 12, loss = 0.00646380\n",
      "Iteration 13, loss = 0.00630976\n",
      "Iteration 14, loss = 0.00606460\n",
      "Iteration 15, loss = 0.00594007\n",
      "Iteration 16, loss = 0.00569612\n",
      "Iteration 17, loss = 0.00551500\n",
      "Iteration 18, loss = 0.00540405\n",
      "Iteration 19, loss = 0.00520506\n",
      "Iteration 20, loss = 0.00503870\n",
      "Iteration 21, loss = 0.00491007\n",
      "Iteration 22, loss = 0.00479826\n",
      "Iteration 23, loss = 0.00456265\n",
      "Iteration 24, loss = 0.00440504\n",
      "Iteration 25, loss = 0.00423493\n",
      "Iteration 26, loss = 0.00426504\n",
      "Iteration 27, loss = 0.00411754\n",
      "Iteration 28, loss = 0.00382078\n",
      "Iteration 29, loss = 0.00386096\n",
      "Iteration 30, loss = 0.00373102\n",
      "Iteration 31, loss = 0.00358843\n",
      "Iteration 32, loss = 0.00357044\n",
      "Iteration 33, loss = 0.00321889\n",
      "Iteration 34, loss = 0.00333505\n",
      "Iteration 35, loss = 0.00319677\n",
      "Iteration 36, loss = 0.00316795\n",
      "Iteration 37, loss = 0.00309939\n",
      "Iteration 38, loss = 0.00299325\n",
      "Iteration 39, loss = 0.00266155\n",
      "Iteration 40, loss = 0.00309555\n",
      "Iteration 41, loss = 0.00289447\n",
      "Iteration 42, loss = 0.00272789\n",
      "Iteration 43, loss = 0.00249247\n",
      "Iteration 44, loss = 0.00265383\n",
      "Iteration 45, loss = 0.00235560\n",
      "Iteration 46, loss = 0.00273080\n",
      "Iteration 47, loss = 0.00233069\n",
      "Iteration 48, loss = 0.00259950\n",
      "Iteration 49, loss = 0.00247079\n",
      "Iteration 50, loss = 0.00249436\n",
      "Iteration 51, loss = 0.00233207\n",
      "Iteration 52, loss = 0.00208613\n",
      "Iteration 53, loss = 0.00213365\n",
      "Iteration 54, loss = 0.00202673\n",
      "Iteration 55, loss = 0.00227976\n",
      "Iteration 56, loss = 0.00209033\n",
      "Iteration 57, loss = 0.00204977\n",
      "Iteration 58, loss = 0.00182742\n",
      "Iteration 59, loss = 0.00198285\n",
      "Iteration 60, loss = 0.00191021\n",
      "Iteration 61, loss = 0.00201240\n",
      "Iteration 62, loss = 0.00194332\n",
      "Iteration 63, loss = 0.00214822\n",
      "Iteration 64, loss = 0.00188516\n",
      "Iteration 65, loss = 0.00165164\n",
      "Iteration 66, loss = 0.00192308\n",
      "Iteration 67, loss = 0.00172003\n",
      "Iteration 68, loss = 0.00190815\n",
      "Iteration 69, loss = 0.00189859\n",
      "Iteration 70, loss = 0.00171544\n",
      "Iteration 71, loss = 0.00175599\n",
      "Iteration 72, loss = 0.00174218\n",
      "Iteration 73, loss = 0.00175300\n",
      "Iteration 74, loss = 0.00184368\n",
      "Iteration 75, loss = 0.00145093\n",
      "Iteration 76, loss = 0.00152960\n",
      "Iteration 77, loss = 0.00180128\n",
      "Iteration 78, loss = 0.00204371\n",
      "Iteration 79, loss = 0.00157039\n",
      "Iteration 80, loss = 0.00137980\n",
      "Iteration 81, loss = 0.00157871\n",
      "Iteration 82, loss = 0.00145425\n",
      "Iteration 83, loss = 0.00180718\n",
      "Iteration 84, loss = 0.00141990\n",
      "Iteration 85, loss = 0.00176940\n",
      "Iteration 86, loss = 0.00142948\n",
      "Training loss did not improve more than tol=0.000100 for 10 consecutive epochs. Stopping.\n"
     ]
    },
    {
     "data": {
      "text/plain": [
       "MLPClassifier(hidden_layer_sizes=(32, 32, 32, 32), max_iter=1000, verbose=2)"
      ]
     },
     "execution_count": 89,
     "metadata": {},
     "output_type": "execute_result"
    }
   ],
   "source": [
    "mlp = MLPClassifier(hidden_layer_sizes=(32,32,32,32), max_iter=1000,verbose=2)  \n",
    "mlp.fit(X_train_scaled, y_train)  "
   ]
  },
  {
   "cell_type": "code",
   "execution_count": 90,
   "metadata": {},
   "outputs": [
    {
     "name": "stdout",
     "output_type": "stream",
     "text": [
      "Training set score: 1.000\n",
      "Test set score: 0.998\n",
      "Accuracy:  0.997796490123554\n",
      "[[126764    110]\n",
      " [   170     26]]\n",
      "              precision    recall  f1-score   support\n",
      "\n",
      "           0       1.00      1.00      1.00    126874\n",
      "           1       0.19      0.13      0.16       196\n",
      "\n",
      "    accuracy                           1.00    127070\n",
      "   macro avg       0.59      0.57      0.58    127070\n",
      "weighted avg       1.00      1.00      1.00    127070\n",
      "\n"
     ]
    }
   ],
   "source": [
    "predictions = mlp.predict(X_test_scaled) \n",
    "\n",
    "# Score\n",
    "print(\"Training set score: {:.3f}\".format(mlp.score(X_train_scaled, y_train)))\n",
    "print(\"Test set score: {:.3f}\".format(mlp.score(X_test_scaled, y_test)))\n",
    "\n",
    "print(\"Accuracy: \", metrics.accuracy_score(y_test, predictions))\n",
    "print(confusion_matrix(y_test,predictions))  \n",
    "print(classification_report(y_test,predictions))  "
   ]
  },
  {
   "cell_type": "markdown",
   "metadata": {},
   "source": [
    "### Neural Net With SMOTE"
   ]
  },
  {
   "cell_type": "markdown",
   "metadata": {},
   "source": [
    "#### Neural Net 2 Layers (128,128) With SMOTE ss=0.1"
   ]
  },
  {
   "cell_type": "code",
   "execution_count": 91,
   "metadata": {},
   "outputs": [
    {
     "name": "stdout",
     "output_type": "stream",
     "text": [
      "Iteration 1, loss = 0.09611138\n",
      "Iteration 2, loss = 0.02031363\n",
      "Iteration 3, loss = 0.01022498\n",
      "Iteration 4, loss = 0.00673551\n",
      "Iteration 5, loss = 0.00542338\n",
      "Iteration 6, loss = 0.00451051\n",
      "Iteration 7, loss = 0.00391167\n",
      "Iteration 8, loss = 0.00319716\n",
      "Iteration 9, loss = 0.00315895\n",
      "Iteration 10, loss = 0.00267208\n",
      "Iteration 11, loss = 0.00293035\n",
      "Iteration 12, loss = 0.00240604\n",
      "Iteration 13, loss = 0.00251038\n",
      "Iteration 14, loss = 0.00243056\n",
      "Iteration 15, loss = 0.00246847\n",
      "Iteration 16, loss = 0.00170390\n",
      "Iteration 17, loss = 0.00191249\n",
      "Iteration 18, loss = 0.00233943\n",
      "Iteration 19, loss = 0.00177143\n",
      "Iteration 20, loss = 0.00171501\n",
      "Iteration 21, loss = 0.00159257\n",
      "Iteration 22, loss = 0.00205090\n",
      "Iteration 23, loss = 0.00130562\n",
      "Iteration 24, loss = 0.00164942\n",
      "Iteration 25, loss = 0.00192917\n",
      "Iteration 26, loss = 0.00160532\n",
      "Iteration 27, loss = 0.00141411\n",
      "Iteration 28, loss = 0.00186949\n",
      "Iteration 29, loss = 0.00180681\n",
      "Iteration 30, loss = 0.00099458\n",
      "Iteration 31, loss = 0.00212689\n",
      "Iteration 32, loss = 0.00079997\n",
      "Iteration 33, loss = 0.00170287\n",
      "Iteration 34, loss = 0.00118454\n",
      "Iteration 35, loss = 0.00170126\n",
      "Iteration 36, loss = 0.00162496\n",
      "Iteration 37, loss = 0.00102784\n",
      "Iteration 38, loss = 0.00095767\n",
      "Iteration 39, loss = 0.00183490\n",
      "Iteration 40, loss = 0.00124536\n",
      "Iteration 41, loss = 0.00166636\n",
      "Iteration 42, loss = 0.00125723\n",
      "Iteration 43, loss = 0.00109555\n",
      "Training loss did not improve more than tol=0.000100 for 10 consecutive epochs. Stopping.\n"
     ]
    },
    {
     "data": {
      "text/plain": [
       "MLPClassifier(hidden_layer_sizes=(128, 128), max_iter=1000, verbose=2)"
      ]
     },
     "execution_count": 91,
     "metadata": {},
     "output_type": "execute_result"
    }
   ],
   "source": [
    "mlp = MLPClassifier(hidden_layer_sizes=(128,128), max_iter=1000,verbose=2)  \n",
    "mlp.fit(X_train_scaled_ss_01, y_train_scaled_ss_01)  "
   ]
  },
  {
   "cell_type": "code",
   "execution_count": 92,
   "metadata": {},
   "outputs": [
    {
     "name": "stdout",
     "output_type": "stream",
     "text": [
      "Training set score: 1.000\n",
      "Test set score: 0.998\n",
      "Accuracy:  0.9976548359172109\n",
      "[[126745    129]\n",
      " [   169     27]]\n",
      "              precision    recall  f1-score   support\n",
      "\n",
      "           0       1.00      1.00      1.00    126874\n",
      "           1       0.17      0.14      0.15       196\n",
      "\n",
      "    accuracy                           1.00    127070\n",
      "   macro avg       0.59      0.57      0.58    127070\n",
      "weighted avg       1.00      1.00      1.00    127070\n",
      "\n"
     ]
    }
   ],
   "source": [
    "predictions = mlp.predict(X_test_scaled) \n",
    "\n",
    "# Score\n",
    "print(\"Training set score: {:.3f}\".format(mlp.score(X_train_scaled_ss_01, y_train_scaled_ss_01)))\n",
    "print(\"Test set score: {:.3f}\".format(mlp.score(X_test_scaled, y_test)))\n",
    "\n",
    "print(\"Accuracy: \", metrics.accuracy_score(y_test, predictions))\n",
    "print(confusion_matrix(y_test,predictions))  \n",
    "print(classification_report(y_test,predictions))  "
   ]
  },
  {
   "cell_type": "markdown",
   "metadata": {},
   "source": [
    "#### Neural Net 2 Layers (128,128) With SMOTE ss=0.2"
   ]
  },
  {
   "cell_type": "code",
   "execution_count": 93,
   "metadata": {},
   "outputs": [
    {
     "name": "stdout",
     "output_type": "stream",
     "text": [
      "Iteration 1, loss = 0.10246173\n",
      "Iteration 2, loss = 0.01810243\n",
      "Iteration 3, loss = 0.00930705\n",
      "Iteration 4, loss = 0.00687465\n",
      "Iteration 5, loss = 0.00500010\n",
      "Iteration 6, loss = 0.00459419\n",
      "Iteration 7, loss = 0.00362363\n",
      "Iteration 8, loss = 0.00303814\n",
      "Iteration 9, loss = 0.00339911\n",
      "Iteration 10, loss = 0.00302665\n",
      "Iteration 11, loss = 0.00263082\n",
      "Iteration 12, loss = 0.00263715\n",
      "Iteration 13, loss = 0.00169144\n",
      "Iteration 14, loss = 0.00247739\n",
      "Iteration 15, loss = 0.00190357\n",
      "Iteration 16, loss = 0.00229790\n",
      "Iteration 17, loss = 0.00216568\n",
      "Iteration 18, loss = 0.00153684\n",
      "Iteration 19, loss = 0.00239258\n",
      "Iteration 20, loss = 0.00166406\n",
      "Iteration 21, loss = 0.00175785\n",
      "Iteration 22, loss = 0.00192530\n",
      "Iteration 23, loss = 0.00132579\n",
      "Iteration 24, loss = 0.00163806\n",
      "Iteration 25, loss = 0.00161066\n",
      "Iteration 26, loss = 0.00167471\n",
      "Iteration 27, loss = 0.00142564\n",
      "Iteration 28, loss = 0.00118278\n",
      "Iteration 29, loss = 0.00168659\n",
      "Iteration 30, loss = 0.00189243\n",
      "Iteration 31, loss = 0.00127145\n",
      "Iteration 32, loss = 0.00150828\n",
      "Iteration 33, loss = 0.00159992\n",
      "Iteration 34, loss = 0.00168992\n",
      "Iteration 35, loss = 0.00069243\n",
      "Iteration 36, loss = 0.00131282\n",
      "Iteration 37, loss = 0.00126228\n",
      "Iteration 38, loss = 0.00117916\n",
      "Iteration 39, loss = 0.00134309\n",
      "Iteration 40, loss = 0.00155820\n",
      "Iteration 41, loss = 0.00103777\n",
      "Iteration 42, loss = 0.00142437\n",
      "Iteration 43, loss = 0.00127064\n",
      "Iteration 44, loss = 0.00099592\n",
      "Iteration 45, loss = 0.00092299\n",
      "Iteration 46, loss = 0.00160399\n",
      "Training loss did not improve more than tol=0.000100 for 10 consecutive epochs. Stopping.\n"
     ]
    },
    {
     "data": {
      "text/plain": [
       "MLPClassifier(hidden_layer_sizes=(128, 128), max_iter=1000, verbose=2)"
      ]
     },
     "execution_count": 93,
     "metadata": {},
     "output_type": "execute_result"
    }
   ],
   "source": [
    "mlp = MLPClassifier(hidden_layer_sizes=(128,128), max_iter=1000,verbose=2)  \n",
    "mlp.fit(X_train_scaled_ss_02, y_train_scaled_ss_02)  "
   ]
  },
  {
   "cell_type": "code",
   "execution_count": 94,
   "metadata": {},
   "outputs": [
    {
     "name": "stdout",
     "output_type": "stream",
     "text": [
      "Training set score: 1.000\n",
      "Test set score: 0.998\n",
      "Accuracy:  0.99760761784843\n",
      "[[126740    134]\n",
      " [   170     26]]\n",
      "              precision    recall  f1-score   support\n",
      "\n",
      "           0       1.00      1.00      1.00    126874\n",
      "           1       0.16      0.13      0.15       196\n",
      "\n",
      "    accuracy                           1.00    127070\n",
      "   macro avg       0.58      0.57      0.57    127070\n",
      "weighted avg       1.00      1.00      1.00    127070\n",
      "\n"
     ]
    }
   ],
   "source": [
    "predictions = mlp.predict(X_test_scaled) \n",
    "\n",
    "# Score\n",
    "print(\"Training set score: {:.3f}\".format(mlp.score(X_train_scaled_ss_02, y_train_scaled_ss_02)))\n",
    "print(\"Test set score: {:.3f}\".format(mlp.score(X_test_scaled, y_test)))\n",
    "\n",
    "print(\"Accuracy: \", metrics.accuracy_score(y_test, predictions))\n",
    "print(confusion_matrix(y_test,predictions))  \n",
    "print(classification_report(y_test,predictions))  "
   ]
  },
  {
   "cell_type": "markdown",
   "metadata": {},
   "source": [
    "#### Neural Net 2 Layers (128,128) With SMOTE ss=0.3"
   ]
  },
  {
   "cell_type": "code",
   "execution_count": 95,
   "metadata": {},
   "outputs": [
    {
     "name": "stdout",
     "output_type": "stream",
     "text": [
      "Iteration 1, loss = 0.10244016\n",
      "Iteration 2, loss = 0.01661901\n",
      "Iteration 3, loss = 0.00935829\n",
      "Iteration 4, loss = 0.00652101\n",
      "Iteration 5, loss = 0.00477094\n",
      "Iteration 6, loss = 0.00462746\n",
      "Iteration 7, loss = 0.00386214\n",
      "Iteration 8, loss = 0.00328040\n",
      "Iteration 9, loss = 0.00289427\n",
      "Iteration 10, loss = 0.00245733\n",
      "Iteration 11, loss = 0.00303632\n",
      "Iteration 12, loss = 0.00217675\n",
      "Iteration 13, loss = 0.00176792\n",
      "Iteration 14, loss = 0.00199189\n",
      "Iteration 15, loss = 0.00183862\n",
      "Iteration 16, loss = 0.00176302\n",
      "Iteration 17, loss = 0.00196084\n",
      "Iteration 18, loss = 0.00158847\n",
      "Iteration 19, loss = 0.00186617\n",
      "Iteration 20, loss = 0.00168283\n",
      "Iteration 21, loss = 0.00163009\n",
      "Iteration 22, loss = 0.00162482\n",
      "Iteration 23, loss = 0.00131110\n",
      "Iteration 24, loss = 0.00163698\n",
      "Iteration 25, loss = 0.00146579\n",
      "Iteration 26, loss = 0.00154497\n",
      "Iteration 27, loss = 0.00127869\n",
      "Iteration 28, loss = 0.00154674\n",
      "Iteration 29, loss = 0.00107987\n",
      "Iteration 30, loss = 0.00156440\n",
      "Iteration 31, loss = 0.00129610\n",
      "Iteration 32, loss = 0.00172374\n",
      "Iteration 33, loss = 0.00136342\n",
      "Iteration 34, loss = 0.00095585\n",
      "Iteration 35, loss = 0.00124972\n",
      "Iteration 36, loss = 0.00143748\n",
      "Iteration 37, loss = 0.00125418\n",
      "Iteration 38, loss = 0.00098869\n",
      "Iteration 39, loss = 0.00125196\n",
      "Iteration 40, loss = 0.00148283\n",
      "Iteration 41, loss = 0.00132373\n",
      "Iteration 42, loss = 0.00090866\n",
      "Iteration 43, loss = 0.00138406\n",
      "Iteration 44, loss = 0.00138979\n",
      "Iteration 45, loss = 0.00112076\n",
      "Training loss did not improve more than tol=0.000100 for 10 consecutive epochs. Stopping.\n"
     ]
    },
    {
     "data": {
      "text/plain": [
       "MLPClassifier(hidden_layer_sizes=(128, 128), max_iter=1000, verbose=2)"
      ]
     },
     "execution_count": 95,
     "metadata": {},
     "output_type": "execute_result"
    }
   ],
   "source": [
    "mlp = MLPClassifier(hidden_layer_sizes=(128,128), max_iter=1000,verbose=2)  \n",
    "mlp.fit(X_train_scaled_ss_03, y_train_scaled_ss_03)  "
   ]
  },
  {
   "cell_type": "code",
   "execution_count": 96,
   "metadata": {},
   "outputs": [
    {
     "name": "stdout",
     "output_type": "stream",
     "text": [
      "Training set score: 1.000\n",
      "Test set score: 0.998\n",
      "Accuracy:  0.9976627055953412\n",
      "[[126754    120]\n",
      " [   177     19]]\n",
      "              precision    recall  f1-score   support\n",
      "\n",
      "           0       1.00      1.00      1.00    126874\n",
      "           1       0.14      0.10      0.11       196\n",
      "\n",
      "    accuracy                           1.00    127070\n",
      "   macro avg       0.57      0.55      0.56    127070\n",
      "weighted avg       1.00      1.00      1.00    127070\n",
      "\n"
     ]
    }
   ],
   "source": [
    "predictions = mlp.predict(X_test_scaled) \n",
    "\n",
    "# Score\n",
    "print(\"Training set score: {:.3f}\".format(mlp.score(X_train_scaled_ss_03, y_train_scaled_ss_03)))\n",
    "print(\"Test set score: {:.3f}\".format(mlp.score(X_test_scaled, y_test)))\n",
    "\n",
    "print(\"Accuracy: \", metrics.accuracy_score(y_test, predictions))\n",
    "print(confusion_matrix(y_test,predictions))  \n",
    "print(classification_report(y_test,predictions))  "
   ]
  },
  {
   "cell_type": "markdown",
   "metadata": {},
   "source": [
    "#### Neural Net 3 Layers (16,16,16) With SMOTE ss=0.1"
   ]
  },
  {
   "cell_type": "code",
   "execution_count": 97,
   "metadata": {},
   "outputs": [
    {
     "name": "stdout",
     "output_type": "stream",
     "text": [
      "Iteration 1, loss = 0.17286824\n",
      "Iteration 2, loss = 0.10572242\n",
      "Iteration 3, loss = 0.08419216\n",
      "Iteration 4, loss = 0.07147941\n",
      "Iteration 5, loss = 0.06293917\n",
      "Iteration 6, loss = 0.05727832\n",
      "Iteration 7, loss = 0.05354606\n",
      "Iteration 8, loss = 0.05034034\n",
      "Iteration 9, loss = 0.04805442\n",
      "Iteration 10, loss = 0.04642072\n",
      "Iteration 11, loss = 0.04527234\n",
      "Iteration 12, loss = 0.04397521\n",
      "Iteration 13, loss = 0.04291172\n",
      "Iteration 14, loss = 0.04185435\n",
      "Iteration 15, loss = 0.04133933\n",
      "Iteration 16, loss = 0.04041780\n",
      "Iteration 17, loss = 0.03987537\n",
      "Iteration 18, loss = 0.03915265\n",
      "Iteration 19, loss = 0.03848842\n",
      "Iteration 20, loss = 0.03792928\n",
      "Iteration 21, loss = 0.03741648\n",
      "Iteration 22, loss = 0.03702463\n",
      "Iteration 23, loss = 0.03645112\n",
      "Iteration 24, loss = 0.03587792\n",
      "Iteration 25, loss = 0.03550754\n",
      "Iteration 26, loss = 0.03520021\n",
      "Iteration 27, loss = 0.03474780\n",
      "Iteration 28, loss = 0.03443528\n",
      "Iteration 29, loss = 0.03428781\n",
      "Iteration 30, loss = 0.03388006\n",
      "Iteration 31, loss = 0.03354663\n",
      "Iteration 32, loss = 0.03338064\n",
      "Iteration 33, loss = 0.03318431\n",
      "Iteration 34, loss = 0.03286632\n",
      "Iteration 35, loss = 0.03288880\n",
      "Iteration 36, loss = 0.03237276\n",
      "Iteration 37, loss = 0.03236074\n",
      "Iteration 38, loss = 0.03210704\n",
      "Iteration 39, loss = 0.03176570\n",
      "Iteration 40, loss = 0.03199034\n",
      "Iteration 41, loss = 0.03172376\n",
      "Iteration 42, loss = 0.03134563\n",
      "Iteration 43, loss = 0.03138786\n",
      "Iteration 44, loss = 0.03102830\n",
      "Iteration 45, loss = 0.03059474\n",
      "Iteration 46, loss = 0.03069586\n",
      "Iteration 47, loss = 0.03048433\n",
      "Iteration 48, loss = 0.03020723\n",
      "Iteration 49, loss = 0.02981678\n",
      "Iteration 50, loss = 0.02956911\n",
      "Iteration 51, loss = 0.02971417\n",
      "Iteration 52, loss = 0.02952059\n",
      "Iteration 53, loss = 0.02939048\n",
      "Iteration 54, loss = 0.02940468\n",
      "Iteration 55, loss = 0.02890559\n",
      "Iteration 56, loss = 0.02879885\n",
      "Iteration 57, loss = 0.02872628\n",
      "Iteration 58, loss = 0.02866959\n",
      "Iteration 59, loss = 0.02866060\n",
      "Iteration 60, loss = 0.02859470\n",
      "Iteration 61, loss = 0.02837512\n",
      "Iteration 62, loss = 0.02838363\n",
      "Iteration 63, loss = 0.02840734\n",
      "Iteration 64, loss = 0.02790156\n",
      "Iteration 65, loss = 0.02818941\n",
      "Iteration 66, loss = 0.02805750\n",
      "Iteration 67, loss = 0.02805983\n",
      "Iteration 68, loss = 0.02809597\n",
      "Iteration 69, loss = 0.02782262\n",
      "Iteration 70, loss = 0.02787061\n",
      "Iteration 71, loss = 0.02790388\n",
      "Iteration 72, loss = 0.02755876\n",
      "Iteration 73, loss = 0.02773728\n",
      "Iteration 74, loss = 0.02768601\n",
      "Iteration 75, loss = 0.02734821\n",
      "Iteration 76, loss = 0.02766160\n",
      "Iteration 77, loss = 0.02736315\n",
      "Iteration 78, loss = 0.02714753\n",
      "Iteration 79, loss = 0.02729304\n",
      "Iteration 80, loss = 0.02735600\n",
      "Iteration 81, loss = 0.02729355\n",
      "Iteration 82, loss = 0.02691457\n",
      "Iteration 83, loss = 0.02702891\n",
      "Iteration 84, loss = 0.02699304\n",
      "Iteration 85, loss = 0.02680840\n",
      "Iteration 86, loss = 0.02712863\n",
      "Iteration 87, loss = 0.02681194\n",
      "Iteration 88, loss = 0.02693121\n",
      "Iteration 89, loss = 0.02665815\n",
      "Iteration 90, loss = 0.02684633\n",
      "Iteration 91, loss = 0.02666882\n",
      "Iteration 92, loss = 0.02655266\n",
      "Iteration 93, loss = 0.02665110\n",
      "Iteration 94, loss = 0.02655377\n",
      "Iteration 95, loss = 0.02668159\n",
      "Iteration 96, loss = 0.02653842\n",
      "Iteration 97, loss = 0.02647537\n",
      "Iteration 98, loss = 0.02631530\n",
      "Iteration 99, loss = 0.02628336\n",
      "Iteration 100, loss = 0.02637802\n",
      "Iteration 101, loss = 0.02634326\n",
      "Iteration 102, loss = 0.02613793\n",
      "Iteration 103, loss = 0.02630185\n",
      "Iteration 104, loss = 0.02616468\n",
      "Iteration 105, loss = 0.02630473\n",
      "Iteration 106, loss = 0.02589710\n",
      "Iteration 107, loss = 0.02610296\n",
      "Iteration 108, loss = 0.02607955\n",
      "Iteration 109, loss = 0.02600301\n",
      "Iteration 110, loss = 0.02591069\n",
      "Iteration 111, loss = 0.02584015\n",
      "Iteration 112, loss = 0.02576436\n",
      "Iteration 113, loss = 0.02582434\n",
      "Iteration 114, loss = 0.02563157\n",
      "Iteration 115, loss = 0.02567145\n",
      "Iteration 116, loss = 0.02565515\n",
      "Iteration 117, loss = 0.02569536\n",
      "Iteration 118, loss = 0.02566497\n",
      "Iteration 119, loss = 0.02551687\n",
      "Iteration 120, loss = 0.02562193\n",
      "Iteration 121, loss = 0.02576311\n",
      "Iteration 122, loss = 0.02547469\n",
      "Iteration 123, loss = 0.02548081\n",
      "Iteration 124, loss = 0.02545197\n",
      "Iteration 125, loss = 0.02545840\n",
      "Iteration 126, loss = 0.02559209\n",
      "Iteration 127, loss = 0.02537029\n",
      "Iteration 128, loss = 0.02503685\n",
      "Iteration 129, loss = 0.02532807\n",
      "Iteration 130, loss = 0.02518509\n",
      "Iteration 131, loss = 0.02534564\n",
      "Iteration 132, loss = 0.02506874\n",
      "Iteration 133, loss = 0.02479781\n",
      "Iteration 134, loss = 0.02521969\n",
      "Iteration 135, loss = 0.02499811\n",
      "Iteration 136, loss = 0.02522361\n",
      "Iteration 137, loss = 0.02500237\n",
      "Iteration 138, loss = 0.02489169\n",
      "Iteration 139, loss = 0.02510056\n",
      "Iteration 140, loss = 0.02504041\n",
      "Iteration 141, loss = 0.02495591\n",
      "Iteration 142, loss = 0.02480039\n",
      "Iteration 143, loss = 0.02513885\n",
      "Iteration 144, loss = 0.02480704\n",
      "Training loss did not improve more than tol=0.000100 for 10 consecutive epochs. Stopping.\n"
     ]
    },
    {
     "data": {
      "text/plain": [
       "MLPClassifier(hidden_layer_sizes=(16, 16, 16), max_iter=1000, verbose=2)"
      ]
     },
     "execution_count": 97,
     "metadata": {},
     "output_type": "execute_result"
    }
   ],
   "source": [
    "mlp = MLPClassifier(hidden_layer_sizes=(16,16,16), max_iter=1000,verbose=2)  \n",
    "mlp.fit(X_train_scaled_ss_01, y_train_scaled_ss_01)  "
   ]
  },
  {
   "cell_type": "code",
   "execution_count": 98,
   "metadata": {},
   "outputs": [
    {
     "name": "stdout",
     "output_type": "stream",
     "text": [
      "Training set score: 0.992\n",
      "Test set score: 0.990\n",
      "Accuracy:  0.990044857165342\n",
      "[[125762   1112]\n",
      " [   153     43]]\n",
      "              precision    recall  f1-score   support\n",
      "\n",
      "           0       1.00      0.99      0.99    126874\n",
      "           1       0.04      0.22      0.06       196\n",
      "\n",
      "    accuracy                           0.99    127070\n",
      "   macro avg       0.52      0.61      0.53    127070\n",
      "weighted avg       1.00      0.99      0.99    127070\n",
      "\n"
     ]
    }
   ],
   "source": [
    "predictions = mlp.predict(X_test_scaled) \n",
    "\n",
    "# Score\n",
    "print(\"Training set score: {:.3f}\".format(mlp.score(X_train_scaled_ss_01, y_train_scaled_ss_01)))\n",
    "print(\"Test set score: {:.3f}\".format(mlp.score(X_test_scaled, y_test)))\n",
    "\n",
    "print(\"Accuracy: \", metrics.accuracy_score(y_test, predictions))\n",
    "print(confusion_matrix(y_test,predictions))  \n",
    "print(classification_report(y_test,predictions))  "
   ]
  },
  {
   "cell_type": "markdown",
   "metadata": {},
   "source": [
    "#### Neural Net 3 Layers (16,16,16) With SMOTE ss=0.2"
   ]
  },
  {
   "cell_type": "code",
   "execution_count": 99,
   "metadata": {},
   "outputs": [
    {
     "name": "stdout",
     "output_type": "stream",
     "text": [
      "Iteration 1, loss = 0.23705735\n",
      "Iteration 2, loss = 0.13291069\n",
      "Iteration 3, loss = 0.10217515\n",
      "Iteration 4, loss = 0.08944936\n",
      "Iteration 5, loss = 0.08168185\n",
      "Iteration 6, loss = 0.07592235\n",
      "Iteration 7, loss = 0.07152449\n",
      "Iteration 8, loss = 0.06775245\n",
      "Iteration 9, loss = 0.06464497\n",
      "Iteration 10, loss = 0.06190626\n",
      "Iteration 11, loss = 0.05972143\n",
      "Iteration 12, loss = 0.05743406\n",
      "Iteration 13, loss = 0.05609894\n",
      "Iteration 14, loss = 0.05462765\n",
      "Iteration 15, loss = 0.05327712\n",
      "Iteration 16, loss = 0.05221840\n",
      "Iteration 17, loss = 0.05104458\n",
      "Iteration 18, loss = 0.05054718\n",
      "Iteration 19, loss = 0.04964867\n",
      "Iteration 20, loss = 0.04920488\n",
      "Iteration 21, loss = 0.04854713\n",
      "Iteration 22, loss = 0.04793646\n",
      "Iteration 23, loss = 0.04694068\n",
      "Iteration 24, loss = 0.04656222\n",
      "Iteration 25, loss = 0.04595769\n",
      "Iteration 26, loss = 0.04527621\n",
      "Iteration 27, loss = 0.04504048\n",
      "Iteration 28, loss = 0.04449417\n",
      "Iteration 29, loss = 0.04394237\n",
      "Iteration 30, loss = 0.04366339\n",
      "Iteration 31, loss = 0.04343293\n",
      "Iteration 32, loss = 0.04293243\n",
      "Iteration 33, loss = 0.04253204\n",
      "Iteration 34, loss = 0.04242399\n",
      "Iteration 35, loss = 0.04211514\n",
      "Iteration 36, loss = 0.04170138\n",
      "Iteration 37, loss = 0.04126995\n",
      "Iteration 38, loss = 0.04124435\n",
      "Iteration 39, loss = 0.04087620\n",
      "Iteration 40, loss = 0.04054631\n",
      "Iteration 41, loss = 0.04010000\n",
      "Iteration 42, loss = 0.03990474\n",
      "Iteration 43, loss = 0.03938049\n",
      "Iteration 44, loss = 0.03937543\n",
      "Iteration 45, loss = 0.03908082\n",
      "Iteration 46, loss = 0.03883307\n",
      "Iteration 47, loss = 0.03880077\n",
      "Iteration 48, loss = 0.03847275\n",
      "Iteration 49, loss = 0.03806520\n",
      "Iteration 50, loss = 0.03789653\n",
      "Iteration 51, loss = 0.03780752\n",
      "Iteration 52, loss = 0.03771738\n",
      "Iteration 53, loss = 0.03754685\n",
      "Iteration 54, loss = 0.03722996\n",
      "Iteration 55, loss = 0.03703250\n",
      "Iteration 56, loss = 0.03698495\n",
      "Iteration 57, loss = 0.03664271\n",
      "Iteration 58, loss = 0.03666170\n",
      "Iteration 59, loss = 0.03664880\n",
      "Iteration 60, loss = 0.03622103\n",
      "Iteration 61, loss = 0.03662979\n",
      "Iteration 62, loss = 0.03583613\n",
      "Iteration 63, loss = 0.03590953\n",
      "Iteration 64, loss = 0.03604910\n",
      "Iteration 65, loss = 0.03548554\n",
      "Iteration 66, loss = 0.03567121\n",
      "Iteration 67, loss = 0.03539983\n",
      "Iteration 68, loss = 0.03545110\n",
      "Iteration 69, loss = 0.03484437\n",
      "Iteration 70, loss = 0.03524427\n",
      "Iteration 71, loss = 0.03530905\n",
      "Iteration 72, loss = 0.03470102\n",
      "Iteration 73, loss = 0.03472537\n",
      "Iteration 74, loss = 0.03471822\n",
      "Iteration 75, loss = 0.03468062\n",
      "Iteration 76, loss = 0.03454408\n",
      "Iteration 77, loss = 0.03466675\n",
      "Iteration 78, loss = 0.03426294\n",
      "Iteration 79, loss = 0.03425806\n",
      "Iteration 80, loss = 0.03424278\n",
      "Iteration 81, loss = 0.03353220\n",
      "Iteration 82, loss = 0.03407076\n",
      "Iteration 83, loss = 0.03339522\n",
      "Iteration 84, loss = 0.03402902\n",
      "Iteration 85, loss = 0.03313428\n",
      "Iteration 86, loss = 0.03380557\n",
      "Iteration 87, loss = 0.03355409\n",
      "Iteration 88, loss = 0.03338874\n",
      "Iteration 89, loss = 0.03320874\n",
      "Iteration 90, loss = 0.03333925\n",
      "Iteration 91, loss = 0.03300019\n",
      "Iteration 92, loss = 0.03281339\n",
      "Iteration 93, loss = 0.03304222\n",
      "Iteration 94, loss = 0.03279303\n",
      "Iteration 95, loss = 0.03298356\n",
      "Iteration 96, loss = 0.03292757\n",
      "Iteration 97, loss = 0.03275726\n",
      "Iteration 98, loss = 0.03265999\n",
      "Iteration 99, loss = 0.03239258\n",
      "Iteration 100, loss = 0.03225922\n",
      "Iteration 101, loss = 0.03251750\n",
      "Iteration 102, loss = 0.03234812\n",
      "Iteration 103, loss = 0.03220466\n",
      "Iteration 104, loss = 0.03217502\n",
      "Iteration 105, loss = 0.03208803\n",
      "Iteration 106, loss = 0.03174772\n",
      "Iteration 107, loss = 0.03194870\n",
      "Iteration 108, loss = 0.03188865\n",
      "Iteration 109, loss = 0.03158961\n",
      "Iteration 110, loss = 0.03172504\n",
      "Iteration 111, loss = 0.03141843\n",
      "Iteration 112, loss = 0.03158197\n",
      "Iteration 113, loss = 0.03184122\n",
      "Iteration 114, loss = 0.03155389\n",
      "Iteration 115, loss = 0.03156862\n",
      "Iteration 116, loss = 0.03117402\n",
      "Iteration 117, loss = 0.03170011\n",
      "Iteration 118, loss = 0.03130171\n",
      "Iteration 119, loss = 0.03119642\n",
      "Iteration 120, loss = 0.03109830\n",
      "Iteration 121, loss = 0.03120821\n",
      "Iteration 122, loss = 0.03127959\n",
      "Iteration 123, loss = 0.03119705\n",
      "Iteration 124, loss = 0.03104631\n",
      "Iteration 125, loss = 0.03107210\n",
      "Iteration 126, loss = 0.03072156\n",
      "Iteration 127, loss = 0.03110988\n",
      "Iteration 128, loss = 0.03071897\n",
      "Iteration 129, loss = 0.03079991\n",
      "Iteration 130, loss = 0.03072102\n",
      "Iteration 131, loss = 0.03087842\n",
      "Iteration 132, loss = 0.03072536\n",
      "Iteration 133, loss = 0.03080471\n",
      "Iteration 134, loss = 0.03060050\n",
      "Iteration 135, loss = 0.03024518\n",
      "Iteration 136, loss = 0.03060283\n",
      "Iteration 137, loss = 0.03035039\n",
      "Iteration 138, loss = 0.03066881\n",
      "Iteration 139, loss = 0.03055320\n",
      "Iteration 140, loss = 0.03023904\n",
      "Iteration 141, loss = 0.03054189\n",
      "Iteration 142, loss = 0.03032843\n",
      "Iteration 143, loss = 0.03026989\n",
      "Iteration 144, loss = 0.03040515\n",
      "Iteration 145, loss = 0.03036163\n",
      "Iteration 146, loss = 0.03009860\n",
      "Iteration 147, loss = 0.03023139\n",
      "Iteration 148, loss = 0.02996821\n",
      "Iteration 149, loss = 0.03008276\n",
      "Iteration 150, loss = 0.03012529\n",
      "Iteration 151, loss = 0.03013071\n",
      "Iteration 152, loss = 0.03027679\n",
      "Iteration 153, loss = 0.03001989\n",
      "Iteration 154, loss = 0.03007232\n",
      "Iteration 155, loss = 0.02981817\n",
      "Iteration 156, loss = 0.02982771\n",
      "Iteration 157, loss = 0.03013134\n",
      "Iteration 158, loss = 0.02992974\n",
      "Iteration 159, loss = 0.03012334\n",
      "Iteration 160, loss = 0.03048418\n",
      "Iteration 161, loss = 0.02962714\n",
      "Iteration 162, loss = 0.02987307\n",
      "Iteration 163, loss = 0.02980504\n",
      "Iteration 164, loss = 0.02981860\n",
      "Iteration 165, loss = 0.02964949\n",
      "Iteration 166, loss = 0.03000371\n",
      "Iteration 167, loss = 0.03017002\n",
      "Iteration 168, loss = 0.02961377\n",
      "Iteration 169, loss = 0.02977928\n",
      "Iteration 170, loss = 0.02907718\n",
      "Iteration 171, loss = 0.03005426\n",
      "Iteration 172, loss = 0.02975179\n",
      "Iteration 173, loss = 0.02955226\n",
      "Iteration 174, loss = 0.02965507\n",
      "Iteration 175, loss = 0.02939280\n",
      "Iteration 176, loss = 0.02992364\n",
      "Iteration 177, loss = 0.02961864\n",
      "Iteration 178, loss = 0.02942632\n",
      "Iteration 179, loss = 0.02948277\n",
      "Iteration 180, loss = 0.02974683\n",
      "Iteration 181, loss = 0.02929768\n",
      "Training loss did not improve more than tol=0.000100 for 10 consecutive epochs. Stopping.\n"
     ]
    },
    {
     "data": {
      "text/plain": [
       "MLPClassifier(hidden_layer_sizes=(16, 16, 16), max_iter=1000, verbose=2)"
      ]
     },
     "execution_count": 99,
     "metadata": {},
     "output_type": "execute_result"
    }
   ],
   "source": [
    "mlp = MLPClassifier(hidden_layer_sizes=(16,16,16), max_iter=1000,verbose=2)  \n",
    "mlp.fit(X_train_scaled_ss_02, y_train_scaled_ss_02)  "
   ]
  },
  {
   "cell_type": "code",
   "execution_count": 100,
   "metadata": {},
   "outputs": [
    {
     "name": "stdout",
     "output_type": "stream",
     "text": [
      "Training set score: 0.991\n",
      "Test set score: 0.988\n",
      "Accuracy:  0.9876288659793815\n",
      "[[125454   1420]\n",
      " [   152     44]]\n",
      "              precision    recall  f1-score   support\n",
      "\n",
      "           0       1.00      0.99      0.99    126874\n",
      "           1       0.03      0.22      0.05       196\n",
      "\n",
      "    accuracy                           0.99    127070\n",
      "   macro avg       0.51      0.61      0.52    127070\n",
      "weighted avg       1.00      0.99      0.99    127070\n",
      "\n"
     ]
    }
   ],
   "source": [
    "predictions = mlp.predict(X_test_scaled) \n",
    "\n",
    "# Score\n",
    "print(\"Training set score: {:.3f}\".format(mlp.score(X_train_scaled_ss_02, y_train_scaled_ss_02)))\n",
    "print(\"Test set score: {:.3f}\".format(mlp.score(X_test_scaled, y_test)))\n",
    "\n",
    "print(\"Accuracy: \", metrics.accuracy_score(y_test, predictions))\n",
    "print(confusion_matrix(y_test,predictions))  \n",
    "print(classification_report(y_test,predictions))  "
   ]
  },
  {
   "cell_type": "markdown",
   "metadata": {},
   "source": [
    "#### Neural Net 3 Layers (32,32,32) With SMOTE ss=0.1"
   ]
  },
  {
   "cell_type": "code",
   "execution_count": 101,
   "metadata": {},
   "outputs": [
    {
     "name": "stdout",
     "output_type": "stream",
     "text": [
      "Iteration 1, loss = 0.13758460\n",
      "Iteration 2, loss = 0.06000932\n",
      "Iteration 3, loss = 0.03861061\n",
      "Iteration 4, loss = 0.02940814\n",
      "Iteration 5, loss = 0.02445351\n",
      "Iteration 6, loss = 0.02112724\n",
      "Iteration 7, loss = 0.01841729\n",
      "Iteration 8, loss = 0.01640673\n",
      "Iteration 9, loss = 0.01526268\n",
      "Iteration 10, loss = 0.01431872\n",
      "Iteration 11, loss = 0.01300030\n",
      "Iteration 12, loss = 0.01203704\n",
      "Iteration 13, loss = 0.01170048\n",
      "Iteration 14, loss = 0.01050871\n",
      "Iteration 15, loss = 0.01006815\n",
      "Iteration 16, loss = 0.00940718\n",
      "Iteration 17, loss = 0.00905076\n",
      "Iteration 18, loss = 0.00875992\n",
      "Iteration 19, loss = 0.00804553\n",
      "Iteration 20, loss = 0.00807823\n",
      "Iteration 21, loss = 0.00764789\n",
      "Iteration 22, loss = 0.00745748\n",
      "Iteration 23, loss = 0.00714133\n",
      "Iteration 24, loss = 0.00676898\n",
      "Iteration 25, loss = 0.00623030\n",
      "Iteration 26, loss = 0.00684035\n",
      "Iteration 27, loss = 0.00624628\n",
      "Iteration 28, loss = 0.00600694\n",
      "Iteration 29, loss = 0.00597187\n",
      "Iteration 30, loss = 0.00562859\n",
      "Iteration 31, loss = 0.00528837\n",
      "Iteration 32, loss = 0.00553410\n",
      "Iteration 33, loss = 0.00533457\n",
      "Iteration 34, loss = 0.00461782\n",
      "Iteration 35, loss = 0.00533439\n",
      "Iteration 36, loss = 0.00462480\n",
      "Iteration 37, loss = 0.00542848\n",
      "Iteration 38, loss = 0.00434424\n",
      "Iteration 39, loss = 0.00568585\n",
      "Iteration 40, loss = 0.00465791\n",
      "Iteration 41, loss = 0.00418798\n",
      "Iteration 42, loss = 0.00412237\n",
      "Iteration 43, loss = 0.00446079\n",
      "Iteration 44, loss = 0.00493381\n",
      "Iteration 45, loss = 0.00385990\n",
      "Iteration 46, loss = 0.00430161\n",
      "Iteration 47, loss = 0.00371299\n",
      "Iteration 48, loss = 0.00401933\n",
      "Iteration 49, loss = 0.00419721\n",
      "Iteration 50, loss = 0.00394265\n",
      "Iteration 51, loss = 0.00372829\n",
      "Iteration 52, loss = 0.00380426\n",
      "Iteration 53, loss = 0.00384842\n",
      "Iteration 54, loss = 0.00350365\n",
      "Iteration 55, loss = 0.00359321\n",
      "Iteration 56, loss = 0.00340653\n",
      "Iteration 57, loss = 0.00404673\n",
      "Iteration 58, loss = 0.00325994\n",
      "Iteration 59, loss = 0.00392112\n",
      "Iteration 60, loss = 0.00368641\n",
      "Iteration 61, loss = 0.00329292\n",
      "Iteration 62, loss = 0.00346144\n",
      "Iteration 63, loss = 0.00282466\n",
      "Iteration 64, loss = 0.00285192\n",
      "Iteration 65, loss = 0.00435165\n",
      "Iteration 66, loss = 0.00243750\n",
      "Iteration 67, loss = 0.00306481\n",
      "Iteration 68, loss = 0.00379859\n",
      "Iteration 69, loss = 0.00230106\n",
      "Iteration 70, loss = 0.00350313\n",
      "Iteration 71, loss = 0.00315855\n",
      "Iteration 72, loss = 0.00279914\n",
      "Iteration 73, loss = 0.00323930\n",
      "Iteration 74, loss = 0.00284647\n",
      "Iteration 75, loss = 0.00246396\n",
      "Iteration 76, loss = 0.00317816\n",
      "Iteration 77, loss = 0.00249274\n",
      "Iteration 78, loss = 0.00336207\n",
      "Iteration 79, loss = 0.00272007\n",
      "Iteration 80, loss = 0.00252972\n",
      "Training loss did not improve more than tol=0.000100 for 10 consecutive epochs. Stopping.\n"
     ]
    },
    {
     "data": {
      "text/plain": [
       "MLPClassifier(hidden_layer_sizes=(32, 32, 32), max_iter=1000, verbose=2)"
      ]
     },
     "execution_count": 101,
     "metadata": {},
     "output_type": "execute_result"
    }
   ],
   "source": [
    "mlp = MLPClassifier(hidden_layer_sizes=(32,32,32), max_iter=1000,verbose=2)  \n",
    "mlp.fit(X_train_scaled_ss_01, y_train_scaled_ss_01)  "
   ]
  },
  {
   "cell_type": "code",
   "execution_count": 102,
   "metadata": {},
   "outputs": [
    {
     "name": "stdout",
     "output_type": "stream",
     "text": [
      "Training set score: 0.999\n",
      "Test set score: 0.996\n",
      "Accuracy:  0.996458644841426\n",
      "[[126593    281]\n",
      " [   169     27]]\n",
      "              precision    recall  f1-score   support\n",
      "\n",
      "           0       1.00      1.00      1.00    126874\n",
      "           1       0.09      0.14      0.11       196\n",
      "\n",
      "    accuracy                           1.00    127070\n",
      "   macro avg       0.54      0.57      0.55    127070\n",
      "weighted avg       1.00      1.00      1.00    127070\n",
      "\n"
     ]
    }
   ],
   "source": [
    "predictions = mlp.predict(X_test_scaled) \n",
    "\n",
    "# Score\n",
    "print(\"Training set score: {:.3f}\".format(mlp.score(X_train_scaled_ss_01, y_train_scaled_ss_01)))\n",
    "print(\"Test set score: {:.3f}\".format(mlp.score(X_test_scaled, y_test)))\n",
    "\n",
    "print(\"Accuracy: \", metrics.accuracy_score(y_test, predictions))\n",
    "print(confusion_matrix(y_test,predictions))  \n",
    "print(classification_report(y_test,predictions))  "
   ]
  },
  {
   "cell_type": "markdown",
   "metadata": {},
   "source": [
    "#### Neural Net 3 Layers (32,32,32) With SMOTE ss=0.2"
   ]
  },
  {
   "cell_type": "code",
   "execution_count": 103,
   "metadata": {},
   "outputs": [
    {
     "name": "stdout",
     "output_type": "stream",
     "text": [
      "Iteration 1, loss = 0.17179854\n",
      "Iteration 2, loss = 0.05423930\n",
      "Iteration 3, loss = 0.03329077\n",
      "Iteration 4, loss = 0.02555743\n",
      "Iteration 5, loss = 0.02209740\n",
      "Iteration 6, loss = 0.01864232\n",
      "Iteration 7, loss = 0.01705147\n",
      "Iteration 8, loss = 0.01539982\n",
      "Iteration 9, loss = 0.01453026\n",
      "Iteration 10, loss = 0.01303831\n",
      "Iteration 11, loss = 0.01272511\n",
      "Iteration 12, loss = 0.01198284\n",
      "Iteration 13, loss = 0.01034534\n",
      "Iteration 14, loss = 0.01024312\n",
      "Iteration 15, loss = 0.01001801\n",
      "Iteration 16, loss = 0.00929132\n",
      "Iteration 17, loss = 0.00863927\n",
      "Iteration 18, loss = 0.00841412\n",
      "Iteration 19, loss = 0.00819021\n",
      "Iteration 20, loss = 0.00741401\n",
      "Iteration 21, loss = 0.00734826\n",
      "Iteration 22, loss = 0.00682828\n",
      "Iteration 23, loss = 0.00674814\n",
      "Iteration 24, loss = 0.00647085\n",
      "Iteration 25, loss = 0.00667029\n",
      "Iteration 26, loss = 0.00650387\n",
      "Iteration 27, loss = 0.00570212\n",
      "Iteration 28, loss = 0.00583539\n",
      "Iteration 29, loss = 0.00553806\n",
      "Iteration 30, loss = 0.00588990\n",
      "Iteration 31, loss = 0.00492343\n",
      "Iteration 32, loss = 0.00544832\n",
      "Iteration 33, loss = 0.00504103\n",
      "Iteration 34, loss = 0.00511946\n",
      "Iteration 35, loss = 0.00532604\n",
      "Iteration 36, loss = 0.00461520\n",
      "Iteration 37, loss = 0.00513189\n",
      "Iteration 38, loss = 0.00424896\n",
      "Iteration 39, loss = 0.00422810\n",
      "Iteration 40, loss = 0.00448434\n",
      "Iteration 41, loss = 0.00389258\n",
      "Iteration 42, loss = 0.00486894\n",
      "Iteration 43, loss = 0.00436557\n",
      "Iteration 44, loss = 0.00400339\n",
      "Iteration 45, loss = 0.00369947\n",
      "Iteration 46, loss = 0.00477265\n",
      "Iteration 47, loss = 0.00388573\n",
      "Iteration 48, loss = 0.00382410\n",
      "Iteration 49, loss = 0.00424101\n",
      "Iteration 50, loss = 0.00374557\n",
      "Iteration 51, loss = 0.00371435\n",
      "Iteration 52, loss = 0.00388486\n",
      "Iteration 53, loss = 0.00354807\n",
      "Iteration 54, loss = 0.00355849\n",
      "Iteration 55, loss = 0.00361011\n",
      "Iteration 56, loss = 0.00323970\n",
      "Iteration 57, loss = 0.00335557\n",
      "Iteration 58, loss = 0.00330033\n",
      "Iteration 59, loss = 0.00317077\n",
      "Iteration 60, loss = 0.00338764\n",
      "Iteration 61, loss = 0.00334133\n",
      "Iteration 62, loss = 0.00311199\n",
      "Iteration 63, loss = 0.00281252\n",
      "Iteration 64, loss = 0.00347459\n",
      "Iteration 65, loss = 0.00287690\n",
      "Iteration 66, loss = 0.00348640\n",
      "Iteration 67, loss = 0.00346310\n",
      "Iteration 68, loss = 0.00250146\n",
      "Iteration 69, loss = 0.00349045\n",
      "Iteration 70, loss = 0.00251555\n",
      "Iteration 71, loss = 0.00322446\n",
      "Iteration 72, loss = 0.00290688\n",
      "Iteration 73, loss = 0.00299691\n",
      "Iteration 74, loss = 0.00309206\n",
      "Iteration 75, loss = 0.00268359\n",
      "Iteration 76, loss = 0.00284749\n",
      "Iteration 77, loss = 0.00283229\n",
      "Iteration 78, loss = 0.00241536\n",
      "Iteration 79, loss = 0.00317243\n",
      "Training loss did not improve more than tol=0.000100 for 10 consecutive epochs. Stopping.\n"
     ]
    },
    {
     "data": {
      "text/plain": [
       "MLPClassifier(hidden_layer_sizes=(32, 32, 32), max_iter=1000, verbose=2)"
      ]
     },
     "execution_count": 103,
     "metadata": {},
     "output_type": "execute_result"
    }
   ],
   "source": [
    "mlp = MLPClassifier(hidden_layer_sizes=(32,32,32), max_iter=1000,verbose=2)  \n",
    "mlp.fit(X_train_scaled_ss_02, y_train_scaled_ss_02)  "
   ]
  },
  {
   "cell_type": "code",
   "execution_count": 104,
   "metadata": {},
   "outputs": [
    {
     "name": "stdout",
     "output_type": "stream",
     "text": [
      "Training set score: 1.000\n",
      "Test set score: 0.996\n",
      "Accuracy:  0.9959628551192257\n",
      "[[126527    347]\n",
      " [   166     30]]\n",
      "              precision    recall  f1-score   support\n",
      "\n",
      "           0       1.00      1.00      1.00    126874\n",
      "           1       0.08      0.15      0.10       196\n",
      "\n",
      "    accuracy                           1.00    127070\n",
      "   macro avg       0.54      0.58      0.55    127070\n",
      "weighted avg       1.00      1.00      1.00    127070\n",
      "\n"
     ]
    }
   ],
   "source": [
    "predictions = mlp.predict(X_test_scaled) \n",
    "\n",
    "# Score\n",
    "print(\"Training set score: {:.3f}\".format(mlp.score(X_train_scaled_ss_02, y_train_scaled_ss_02)))\n",
    "print(\"Test set score: {:.3f}\".format(mlp.score(X_test_scaled, y_test)))\n",
    "\n",
    "print(\"Accuracy: \", metrics.accuracy_score(y_test, predictions))\n",
    "print(confusion_matrix(y_test,predictions))  \n",
    "print(classification_report(y_test,predictions))  "
   ]
  },
  {
   "cell_type": "markdown",
   "metadata": {},
   "source": [
    "#### Neural Net With 4 Layers (16,16,16,16) SMOTE ss=0.1"
   ]
  },
  {
   "cell_type": "code",
   "execution_count": 105,
   "metadata": {},
   "outputs": [
    {
     "name": "stdout",
     "output_type": "stream",
     "text": [
      "Iteration 1, loss = 0.17207928\n",
      "Iteration 2, loss = 0.10656078\n",
      "Iteration 3, loss = 0.08565846\n",
      "Iteration 4, loss = 0.07458580\n",
      "Iteration 5, loss = 0.06696533\n",
      "Iteration 6, loss = 0.06140410\n",
      "Iteration 7, loss = 0.05724502\n",
      "Iteration 8, loss = 0.05394902\n",
      "Iteration 9, loss = 0.05092154\n",
      "Iteration 10, loss = 0.04903449\n",
      "Iteration 11, loss = 0.04722999\n",
      "Iteration 12, loss = 0.04578201\n",
      "Iteration 13, loss = 0.04481346\n",
      "Iteration 14, loss = 0.04360742\n",
      "Iteration 15, loss = 0.04269283\n",
      "Iteration 16, loss = 0.04173238\n",
      "Iteration 17, loss = 0.04095272\n",
      "Iteration 18, loss = 0.04061006\n",
      "Iteration 19, loss = 0.03958253\n",
      "Iteration 20, loss = 0.03923834\n",
      "Iteration 21, loss = 0.03872025\n",
      "Iteration 22, loss = 0.03854328\n",
      "Iteration 23, loss = 0.03793877\n",
      "Iteration 24, loss = 0.03724375\n",
      "Iteration 25, loss = 0.03671070\n",
      "Iteration 26, loss = 0.03652642\n",
      "Iteration 27, loss = 0.03632135\n",
      "Iteration 28, loss = 0.03596089\n",
      "Iteration 29, loss = 0.03555129\n",
      "Iteration 30, loss = 0.03561411\n",
      "Iteration 31, loss = 0.03469250\n",
      "Iteration 32, loss = 0.03485789\n",
      "Iteration 33, loss = 0.03455456\n",
      "Iteration 34, loss = 0.03441640\n",
      "Iteration 35, loss = 0.03380324\n",
      "Iteration 36, loss = 0.03383524\n",
      "Iteration 37, loss = 0.03350562\n",
      "Iteration 38, loss = 0.03349691\n",
      "Iteration 39, loss = 0.03329229\n",
      "Iteration 40, loss = 0.03334289\n",
      "Iteration 41, loss = 0.03251149\n",
      "Iteration 42, loss = 0.03268508\n",
      "Iteration 43, loss = 0.03243594\n",
      "Iteration 44, loss = 0.03196461\n",
      "Iteration 45, loss = 0.03232718\n",
      "Iteration 46, loss = 0.03199708\n",
      "Iteration 47, loss = 0.03154777\n",
      "Iteration 48, loss = 0.03121618\n",
      "Iteration 49, loss = 0.03129054\n",
      "Iteration 50, loss = 0.03122397\n",
      "Iteration 51, loss = 0.03098096\n",
      "Iteration 52, loss = 0.03095282\n",
      "Iteration 53, loss = 0.03125001\n",
      "Iteration 54, loss = 0.03054303\n",
      "Iteration 55, loss = 0.03054155\n",
      "Iteration 56, loss = 0.03037904\n",
      "Iteration 57, loss = 0.03025803\n",
      "Iteration 58, loss = 0.03029923\n",
      "Iteration 59, loss = 0.02988991\n",
      "Iteration 60, loss = 0.03005250\n",
      "Iteration 61, loss = 0.02976157\n",
      "Iteration 62, loss = 0.02972973\n",
      "Iteration 63, loss = 0.02969313\n",
      "Iteration 64, loss = 0.02943890\n",
      "Iteration 65, loss = 0.02969533\n",
      "Iteration 66, loss = 0.02940415\n",
      "Iteration 67, loss = 0.02903001\n",
      "Iteration 68, loss = 0.02894004\n",
      "Iteration 69, loss = 0.02897134\n",
      "Iteration 70, loss = 0.02894305\n",
      "Iteration 71, loss = 0.02868712\n",
      "Iteration 72, loss = 0.02881999\n",
      "Iteration 73, loss = 0.02877631\n",
      "Iteration 74, loss = 0.02839114\n",
      "Iteration 75, loss = 0.02858428\n",
      "Iteration 76, loss = 0.02865800\n",
      "Iteration 77, loss = 0.02819979\n",
      "Iteration 78, loss = 0.02812287\n",
      "Iteration 79, loss = 0.02819728\n",
      "Iteration 80, loss = 0.02795362\n",
      "Iteration 81, loss = 0.02827387\n",
      "Iteration 82, loss = 0.02764758\n",
      "Iteration 83, loss = 0.02787518\n",
      "Iteration 84, loss = 0.02774732\n",
      "Iteration 85, loss = 0.02782933\n",
      "Iteration 86, loss = 0.02763494\n",
      "Iteration 87, loss = 0.02734920\n",
      "Iteration 88, loss = 0.02711371\n",
      "Iteration 89, loss = 0.02725240\n",
      "Iteration 90, loss = 0.02731116\n",
      "Iteration 91, loss = 0.02699983\n",
      "Iteration 92, loss = 0.02735517\n",
      "Iteration 93, loss = 0.02706046\n",
      "Iteration 94, loss = 0.02696576\n",
      "Iteration 95, loss = 0.02722292\n",
      "Iteration 96, loss = 0.02697687\n",
      "Iteration 97, loss = 0.02640416\n",
      "Iteration 98, loss = 0.02658994\n",
      "Iteration 99, loss = 0.02643911\n",
      "Iteration 100, loss = 0.02707258\n",
      "Iteration 101, loss = 0.02654956\n",
      "Iteration 102, loss = 0.02635883\n",
      "Iteration 103, loss = 0.02626288\n",
      "Iteration 104, loss = 0.02642595\n",
      "Iteration 105, loss = 0.02632506\n",
      "Iteration 106, loss = 0.02610350\n",
      "Iteration 107, loss = 0.02622588\n",
      "Iteration 108, loss = 0.02632171\n",
      "Iteration 109, loss = 0.02617031\n",
      "Iteration 110, loss = 0.02604288\n",
      "Iteration 111, loss = 0.02562434\n",
      "Iteration 112, loss = 0.02553148\n",
      "Iteration 113, loss = 0.02616552\n",
      "Iteration 114, loss = 0.02552748\n",
      "Iteration 115, loss = 0.02551256\n",
      "Iteration 116, loss = 0.02548739\n",
      "Iteration 117, loss = 0.02516975\n",
      "Iteration 118, loss = 0.02530525\n",
      "Iteration 119, loss = 0.02533032\n",
      "Iteration 120, loss = 0.02555366\n",
      "Iteration 121, loss = 0.02563821\n",
      "Iteration 122, loss = 0.02531011\n",
      "Iteration 123, loss = 0.02556684\n",
      "Iteration 124, loss = 0.02538479\n",
      "Iteration 125, loss = 0.02476315\n",
      "Iteration 126, loss = 0.02515693\n",
      "Iteration 127, loss = 0.02465806\n",
      "Iteration 128, loss = 0.02514103\n",
      "Iteration 129, loss = 0.02517641\n",
      "Iteration 130, loss = 0.02515437\n",
      "Iteration 131, loss = 0.02503233\n",
      "Iteration 132, loss = 0.02483287\n",
      "Iteration 133, loss = 0.02491750\n",
      "Iteration 134, loss = 0.02473802\n",
      "Iteration 135, loss = 0.02481991\n",
      "Iteration 136, loss = 0.02478401\n",
      "Iteration 137, loss = 0.02496615\n",
      "Iteration 138, loss = 0.02471207\n",
      "Training loss did not improve more than tol=0.000100 for 10 consecutive epochs. Stopping.\n"
     ]
    },
    {
     "data": {
      "text/plain": [
       "MLPClassifier(hidden_layer_sizes=(16, 16, 16, 16), max_iter=1000, verbose=2)"
      ]
     },
     "execution_count": 105,
     "metadata": {},
     "output_type": "execute_result"
    }
   ],
   "source": [
    "mlp = MLPClassifier(hidden_layer_sizes=(16,16,16,16), max_iter=1000,verbose=2)  \n",
    "mlp.fit(X_train_scaled_ss_01, y_train_scaled_ss_01)  "
   ]
  },
  {
   "cell_type": "code",
   "execution_count": 107,
   "metadata": {},
   "outputs": [
    {
     "name": "stdout",
     "output_type": "stream",
     "text": [
      "Training set score: 0.990\n",
      "Test set score: 0.992\n",
      "Accuracy:  0.9923978909262611\n",
      "[[126067    807]\n",
      " [   159     37]]\n",
      "              precision    recall  f1-score   support\n",
      "\n",
      "           0       1.00      0.99      1.00    126874\n",
      "           1       0.04      0.19      0.07       196\n",
      "\n",
      "    accuracy                           0.99    127070\n",
      "   macro avg       0.52      0.59      0.53    127070\n",
      "weighted avg       1.00      0.99      0.99    127070\n",
      "\n"
     ]
    }
   ],
   "source": [
    "predictions = mlp.predict(X_test_scaled) \n",
    "\n",
    "# Score\n",
    "print(\"Training set score: {:.3f}\".format(mlp.score(X_train_scaled_ss_01, y_train_scaled_ss_01)))\n",
    "print(\"Test set score: {:.3f}\".format(mlp.score(X_test_scaled, y_test)))\n",
    "\n",
    "print(\"Accuracy: \", metrics.accuracy_score(y_test, predictions))\n",
    "print(confusion_matrix(y_test,predictions))  \n",
    "print(classification_report(y_test,predictions))  "
   ]
  },
  {
   "cell_type": "markdown",
   "metadata": {},
   "source": [
    "#### Neural Net With 4 Layers (16,16,16,16) SMOTE ss=0.2"
   ]
  },
  {
   "cell_type": "code",
   "execution_count": 108,
   "metadata": {},
   "outputs": [
    {
     "name": "stdout",
     "output_type": "stream",
     "text": [
      "Iteration 1, loss = 0.22027067\n",
      "Iteration 2, loss = 0.12232506\n",
      "Iteration 3, loss = 0.09703940\n",
      "Iteration 4, loss = 0.08472463\n",
      "Iteration 5, loss = 0.07608470\n",
      "Iteration 6, loss = 0.06987898\n",
      "Iteration 7, loss = 0.06561415\n",
      "Iteration 8, loss = 0.06153037\n",
      "Iteration 9, loss = 0.05925825\n",
      "Iteration 10, loss = 0.05733607\n",
      "Iteration 11, loss = 0.05524645\n",
      "Iteration 12, loss = 0.05369757\n",
      "Iteration 13, loss = 0.05253601\n",
      "Iteration 14, loss = 0.05131633\n",
      "Iteration 15, loss = 0.04976630\n",
      "Iteration 16, loss = 0.04899205\n",
      "Iteration 17, loss = 0.04854301\n",
      "Iteration 18, loss = 0.04739479\n",
      "Iteration 19, loss = 0.04737889\n",
      "Iteration 20, loss = 0.04614715\n",
      "Iteration 21, loss = 0.04559122\n",
      "Iteration 22, loss = 0.04548585\n",
      "Iteration 23, loss = 0.04458633\n",
      "Iteration 24, loss = 0.04440766\n",
      "Iteration 25, loss = 0.04391308\n",
      "Iteration 26, loss = 0.04303194\n",
      "Iteration 27, loss = 0.04308927\n",
      "Iteration 28, loss = 0.04221589\n",
      "Iteration 29, loss = 0.04225609\n",
      "Iteration 30, loss = 0.04208371\n",
      "Iteration 31, loss = 0.04132471\n",
      "Iteration 32, loss = 0.04111720\n",
      "Iteration 33, loss = 0.04116161\n",
      "Iteration 34, loss = 0.04070686\n",
      "Iteration 35, loss = 0.04044929\n",
      "Iteration 36, loss = 0.03998314\n",
      "Iteration 37, loss = 0.03972794\n",
      "Iteration 38, loss = 0.03957141\n",
      "Iteration 39, loss = 0.03899281\n",
      "Iteration 40, loss = 0.03891509\n",
      "Iteration 41, loss = 0.03864824\n",
      "Iteration 42, loss = 0.03877167\n",
      "Iteration 43, loss = 0.03861464\n",
      "Iteration 44, loss = 0.03755582\n",
      "Iteration 45, loss = 0.03827778\n",
      "Iteration 46, loss = 0.03769648\n",
      "Iteration 47, loss = 0.03736798\n",
      "Iteration 48, loss = 0.03777107\n",
      "Iteration 49, loss = 0.03726372\n",
      "Iteration 50, loss = 0.03692648\n",
      "Iteration 51, loss = 0.03679704\n",
      "Iteration 52, loss = 0.03663846\n",
      "Iteration 53, loss = 0.03675117\n",
      "Iteration 54, loss = 0.03678501\n",
      "Iteration 55, loss = 0.03647666\n",
      "Iteration 56, loss = 0.03642293\n",
      "Iteration 57, loss = 0.03586190\n",
      "Iteration 58, loss = 0.03670429\n",
      "Iteration 59, loss = 0.03555337\n",
      "Iteration 60, loss = 0.03575630\n",
      "Iteration 61, loss = 0.03589789\n",
      "Iteration 62, loss = 0.03528765\n",
      "Iteration 63, loss = 0.03533986\n",
      "Iteration 64, loss = 0.03527338\n",
      "Iteration 65, loss = 0.03545680\n",
      "Iteration 66, loss = 0.03491665\n",
      "Iteration 67, loss = 0.03494049\n",
      "Iteration 68, loss = 0.03452995\n",
      "Iteration 69, loss = 0.03493897\n",
      "Iteration 70, loss = 0.03420542\n",
      "Iteration 71, loss = 0.03387932\n",
      "Iteration 72, loss = 0.03397523\n",
      "Iteration 73, loss = 0.03405376\n",
      "Iteration 74, loss = 0.03359949\n",
      "Iteration 75, loss = 0.03364715\n",
      "Iteration 76, loss = 0.03311421\n",
      "Iteration 77, loss = 0.03304317\n",
      "Iteration 78, loss = 0.03286093\n",
      "Iteration 79, loss = 0.03298276\n",
      "Iteration 80, loss = 0.03248530\n",
      "Iteration 81, loss = 0.03259005\n",
      "Iteration 82, loss = 0.03231236\n",
      "Iteration 83, loss = 0.03260525\n",
      "Iteration 84, loss = 0.03221409\n",
      "Iteration 85, loss = 0.03209093\n",
      "Iteration 86, loss = 0.03194757\n",
      "Iteration 87, loss = 0.03207659\n",
      "Iteration 88, loss = 0.03173278\n",
      "Iteration 89, loss = 0.03155435\n",
      "Iteration 90, loss = 0.03145024\n",
      "Iteration 91, loss = 0.03125356\n",
      "Iteration 92, loss = 0.03132762\n",
      "Iteration 93, loss = 0.03102816\n",
      "Iteration 94, loss = 0.03099623\n",
      "Iteration 95, loss = 0.03080901\n",
      "Iteration 96, loss = 0.03082111\n",
      "Iteration 97, loss = 0.03089138\n",
      "Iteration 98, loss = 0.03091776\n",
      "Iteration 99, loss = 0.03071936\n",
      "Iteration 100, loss = 0.03040164\n",
      "Iteration 101, loss = 0.03052756\n",
      "Iteration 102, loss = 0.03070421\n",
      "Iteration 103, loss = 0.02998556\n",
      "Iteration 104, loss = 0.03049751\n",
      "Iteration 105, loss = 0.02986979\n",
      "Iteration 106, loss = 0.03003275\n",
      "Iteration 107, loss = 0.02993412\n",
      "Iteration 108, loss = 0.02982176\n",
      "Iteration 109, loss = 0.02986692\n",
      "Iteration 110, loss = 0.02965032\n",
      "Iteration 111, loss = 0.03011531\n",
      "Iteration 112, loss = 0.03003342\n",
      "Iteration 113, loss = 0.02973956\n",
      "Iteration 114, loss = 0.02981179\n",
      "Iteration 115, loss = 0.02966914\n",
      "Iteration 116, loss = 0.02944249\n",
      "Iteration 117, loss = 0.02935105\n",
      "Iteration 118, loss = 0.02924902\n",
      "Iteration 119, loss = 0.02903387\n",
      "Iteration 120, loss = 0.02928592\n",
      "Iteration 121, loss = 0.02893325\n",
      "Iteration 122, loss = 0.02904867\n",
      "Iteration 123, loss = 0.02908734\n",
      "Iteration 124, loss = 0.02864149\n",
      "Iteration 125, loss = 0.02884658\n",
      "Iteration 126, loss = 0.02856185\n",
      "Iteration 127, loss = 0.02857225\n",
      "Iteration 128, loss = 0.02847795\n",
      "Iteration 129, loss = 0.02871995\n",
      "Iteration 130, loss = 0.02825341\n",
      "Iteration 131, loss = 0.02822163\n",
      "Iteration 132, loss = 0.02863513\n",
      "Iteration 133, loss = 0.02842808\n",
      "Iteration 134, loss = 0.02833852\n",
      "Iteration 135, loss = 0.02834673\n",
      "Iteration 136, loss = 0.02823853\n",
      "Iteration 137, loss = 0.02780190\n",
      "Iteration 138, loss = 0.02845049\n",
      "Iteration 139, loss = 0.02813305\n",
      "Iteration 140, loss = 0.02803539\n",
      "Iteration 141, loss = 0.02846529\n",
      "Iteration 142, loss = 0.02753234\n",
      "Iteration 143, loss = 0.02812991\n",
      "Iteration 144, loss = 0.02782541\n",
      "Iteration 145, loss = 0.02797712\n",
      "Iteration 146, loss = 0.02772808\n",
      "Iteration 147, loss = 0.02770304\n",
      "Iteration 148, loss = 0.02765323\n",
      "Iteration 149, loss = 0.02791423\n",
      "Iteration 150, loss = 0.02744435\n",
      "Iteration 151, loss = 0.02765757\n",
      "Iteration 152, loss = 0.02786653\n",
      "Iteration 153, loss = 0.02754191\n",
      "Training loss did not improve more than tol=0.000100 for 10 consecutive epochs. Stopping.\n"
     ]
    },
    {
     "data": {
      "text/plain": [
       "MLPClassifier(hidden_layer_sizes=(16, 16, 16, 16), max_iter=1000, verbose=2)"
      ]
     },
     "execution_count": 108,
     "metadata": {},
     "output_type": "execute_result"
    }
   ],
   "source": [
    "mlp = MLPClassifier(hidden_layer_sizes=(16,16,16,16), max_iter=1000,verbose=2)  \n",
    "mlp.fit(X_train_scaled_ss_02, y_train_scaled_ss_02)  "
   ]
  },
  {
   "cell_type": "code",
   "execution_count": 109,
   "metadata": {},
   "outputs": [
    {
     "name": "stdout",
     "output_type": "stream",
     "text": [
      "Training set score: 0.992\n",
      "Test set score: 0.988\n",
      "Accuracy:  0.9878256079326355\n",
      "[[125472   1402]\n",
      " [   145     51]]\n",
      "              precision    recall  f1-score   support\n",
      "\n",
      "           0       1.00      0.99      0.99    126874\n",
      "           1       0.04      0.26      0.06       196\n",
      "\n",
      "    accuracy                           0.99    127070\n",
      "   macro avg       0.52      0.62      0.53    127070\n",
      "weighted avg       1.00      0.99      0.99    127070\n",
      "\n"
     ]
    }
   ],
   "source": [
    "predictions = mlp.predict(X_test_scaled) \n",
    "\n",
    "# Score\n",
    "print(\"Training set score: {:.3f}\".format(mlp.score(X_train_scaled_ss_02, y_train_scaled_ss_02)))\n",
    "print(\"Test set score: {:.3f}\".format(mlp.score(X_test_scaled, y_test)))\n",
    "\n",
    "print(\"Accuracy: \", metrics.accuracy_score(y_test, predictions))\n",
    "print(confusion_matrix(y_test,predictions))  \n",
    "print(classification_report(y_test,predictions))  "
   ]
  },
  {
   "cell_type": "markdown",
   "metadata": {},
   "source": [
    "#### Neural Net With 4 Layers (32,32,32,32) SMOTE ss=0.1"
   ]
  },
  {
   "cell_type": "code",
   "execution_count": 110,
   "metadata": {},
   "outputs": [
    {
     "name": "stdout",
     "output_type": "stream",
     "text": [
      "Iteration 1, loss = 0.13339497\n",
      "Iteration 2, loss = 0.05355025\n",
      "Iteration 3, loss = 0.03392418\n",
      "Iteration 4, loss = 0.02469152\n",
      "Iteration 5, loss = 0.02103507\n",
      "Iteration 6, loss = 0.01895932\n",
      "Iteration 7, loss = 0.01615737\n",
      "Iteration 8, loss = 0.01524168\n",
      "Iteration 9, loss = 0.01428103\n",
      "Iteration 10, loss = 0.01288816\n",
      "Iteration 11, loss = 0.01205065\n",
      "Iteration 12, loss = 0.01135119\n",
      "Iteration 13, loss = 0.01081009\n",
      "Iteration 14, loss = 0.01024013\n",
      "Iteration 15, loss = 0.00982240\n",
      "Iteration 16, loss = 0.00921986\n",
      "Iteration 17, loss = 0.00857861\n",
      "Iteration 18, loss = 0.00886507\n",
      "Iteration 19, loss = 0.00759356\n",
      "Iteration 20, loss = 0.00839627\n",
      "Iteration 21, loss = 0.00727834\n",
      "Iteration 22, loss = 0.00669538\n",
      "Iteration 23, loss = 0.00674127\n",
      "Iteration 24, loss = 0.00715069\n",
      "Iteration 25, loss = 0.00691574\n",
      "Iteration 26, loss = 0.00582832\n",
      "Iteration 27, loss = 0.00626608\n",
      "Iteration 28, loss = 0.00563559\n",
      "Iteration 29, loss = 0.00575564\n",
      "Iteration 30, loss = 0.00582178\n",
      "Iteration 31, loss = 0.00516414\n",
      "Iteration 32, loss = 0.00571607\n",
      "Iteration 33, loss = 0.00513481\n",
      "Iteration 34, loss = 0.00544895\n",
      "Iteration 35, loss = 0.00500493\n",
      "Iteration 36, loss = 0.00503345\n",
      "Iteration 37, loss = 0.00432540\n",
      "Iteration 38, loss = 0.00490927\n",
      "Iteration 39, loss = 0.00440970\n",
      "Iteration 40, loss = 0.00452713\n",
      "Iteration 41, loss = 0.00449495\n",
      "Iteration 42, loss = 0.00445852\n",
      "Iteration 43, loss = 0.00427970\n",
      "Iteration 44, loss = 0.00391361\n",
      "Iteration 45, loss = 0.00423745\n",
      "Iteration 46, loss = 0.00429735\n",
      "Iteration 47, loss = 0.00379994\n",
      "Iteration 48, loss = 0.00397163\n",
      "Iteration 49, loss = 0.00414281\n",
      "Iteration 50, loss = 0.00349730\n",
      "Iteration 51, loss = 0.00328171\n",
      "Iteration 52, loss = 0.00426412\n",
      "Iteration 53, loss = 0.00407285\n",
      "Iteration 54, loss = 0.00342050\n",
      "Iteration 55, loss = 0.00368346\n",
      "Iteration 56, loss = 0.00363065\n",
      "Iteration 57, loss = 0.00346537\n",
      "Iteration 58, loss = 0.00339378\n",
      "Iteration 59, loss = 0.00309177\n",
      "Iteration 60, loss = 0.00333353\n",
      "Iteration 61, loss = 0.00335269\n",
      "Iteration 62, loss = 0.00330715\n",
      "Iteration 63, loss = 0.00320216\n",
      "Iteration 64, loss = 0.00292215\n",
      "Iteration 65, loss = 0.00346425\n",
      "Iteration 66, loss = 0.00319489\n",
      "Iteration 67, loss = 0.00364424\n",
      "Iteration 68, loss = 0.00328195\n",
      "Iteration 69, loss = 0.00294071\n",
      "Iteration 70, loss = 0.00346315\n",
      "Iteration 71, loss = 0.00267125\n",
      "Iteration 72, loss = 0.00376483\n",
      "Iteration 73, loss = 0.00223813\n",
      "Iteration 74, loss = 0.00318584\n",
      "Iteration 75, loss = 0.00288485\n",
      "Iteration 76, loss = 0.00271950\n",
      "Iteration 77, loss = 0.00275418\n",
      "Iteration 78, loss = 0.00318965\n",
      "Iteration 79, loss = 0.00264474\n",
      "Iteration 80, loss = 0.00281589\n",
      "Iteration 81, loss = 0.00219551\n",
      "Iteration 82, loss = 0.00304842\n",
      "Iteration 83, loss = 0.00238044\n",
      "Iteration 84, loss = 0.00300100\n",
      "Training loss did not improve more than tol=0.000100 for 10 consecutive epochs. Stopping.\n"
     ]
    },
    {
     "data": {
      "text/plain": [
       "MLPClassifier(hidden_layer_sizes=(32, 32, 32, 32), max_iter=1000, verbose=2)"
      ]
     },
     "execution_count": 110,
     "metadata": {},
     "output_type": "execute_result"
    }
   ],
   "source": [
    "mlp = MLPClassifier(hidden_layer_sizes=(32,32,32,32), max_iter=1000,verbose=2)  \n",
    "mlp.fit(X_train_scaled_ss_01, y_train_scaled_ss_01)  "
   ]
  },
  {
   "cell_type": "code",
   "execution_count": 111,
   "metadata": {},
   "outputs": [
    {
     "name": "stdout",
     "output_type": "stream",
     "text": [
      "Training set score: 0.999\n",
      "Test set score: 0.995\n",
      "Accuracy:  0.9951837569843394\n",
      "[[126420    454]\n",
      " [   158     38]]\n",
      "              precision    recall  f1-score   support\n",
      "\n",
      "           0       1.00      1.00      1.00    126874\n",
      "           1       0.08      0.19      0.11       196\n",
      "\n",
      "    accuracy                           1.00    127070\n",
      "   macro avg       0.54      0.60      0.55    127070\n",
      "weighted avg       1.00      1.00      1.00    127070\n",
      "\n"
     ]
    }
   ],
   "source": [
    "predictions = mlp.predict(X_test_scaled) \n",
    "\n",
    "# Score\n",
    "print(\"Training set score: {:.3f}\".format(mlp.score(X_train_scaled_ss_01, y_train_scaled_ss_01)))\n",
    "print(\"Test set score: {:.3f}\".format(mlp.score(X_test_scaled, y_test)))\n",
    "\n",
    "print(\"Accuracy: \", metrics.accuracy_score(y_test, predictions))\n",
    "print(confusion_matrix(y_test,predictions))  \n",
    "print(classification_report(y_test,predictions))  "
   ]
  },
  {
   "cell_type": "markdown",
   "metadata": {},
   "source": [
    "#### Neural Net With SMOTE ss=1.0"
   ]
  },
  {
   "cell_type": "markdown",
   "metadata": {},
   "source": [
    "#### Neural Net With 4 Layers (32,32,32,32) SMOTE ss=0.2"
   ]
  },
  {
   "cell_type": "code",
   "execution_count": 112,
   "metadata": {},
   "outputs": [
    {
     "name": "stdout",
     "output_type": "stream",
     "text": [
      "Iteration 1, loss = 0.15651324\n",
      "Iteration 2, loss = 0.04485582\n",
      "Iteration 3, loss = 0.02853554\n",
      "Iteration 4, loss = 0.02233710\n",
      "Iteration 5, loss = 0.01797502\n",
      "Iteration 6, loss = 0.01609885\n",
      "Iteration 7, loss = 0.01401507\n",
      "Iteration 8, loss = 0.01393788\n",
      "Iteration 9, loss = 0.01189261\n",
      "Iteration 10, loss = 0.01120514\n",
      "Iteration 11, loss = 0.01109739\n",
      "Iteration 12, loss = 0.01022266\n",
      "Iteration 13, loss = 0.00932680\n",
      "Iteration 14, loss = 0.00882786\n",
      "Iteration 15, loss = 0.00876033\n",
      "Iteration 16, loss = 0.00810792\n",
      "Iteration 17, loss = 0.00793529\n",
      "Iteration 18, loss = 0.00729094\n",
      "Iteration 19, loss = 0.00741692\n",
      "Iteration 20, loss = 0.00688547\n",
      "Iteration 21, loss = 0.00643791\n",
      "Iteration 22, loss = 0.00683622\n",
      "Iteration 23, loss = 0.00602773\n",
      "Iteration 24, loss = 0.00625929\n",
      "Iteration 25, loss = 0.00561432\n",
      "Iteration 26, loss = 0.00613331\n",
      "Iteration 27, loss = 0.00525087\n",
      "Iteration 28, loss = 0.00523967\n",
      "Iteration 29, loss = 0.00537190\n",
      "Iteration 30, loss = 0.00556560\n",
      "Iteration 31, loss = 0.00487161\n",
      "Iteration 32, loss = 0.00517050\n",
      "Iteration 33, loss = 0.00458486\n",
      "Iteration 34, loss = 0.00465568\n",
      "Iteration 35, loss = 0.00472462\n",
      "Iteration 36, loss = 0.00416031\n",
      "Iteration 37, loss = 0.00423198\n",
      "Iteration 38, loss = 0.00447378\n",
      "Iteration 39, loss = 0.00454042\n",
      "Iteration 40, loss = 0.00379135\n",
      "Iteration 41, loss = 0.00417133\n",
      "Iteration 42, loss = 0.00366202\n",
      "Iteration 43, loss = 0.00402632\n",
      "Iteration 44, loss = 0.00367998\n",
      "Iteration 45, loss = 0.00408471\n",
      "Iteration 46, loss = 0.00329256\n",
      "Iteration 47, loss = 0.00388199\n",
      "Iteration 48, loss = 0.00407289\n",
      "Iteration 49, loss = 0.00290665\n",
      "Iteration 50, loss = 0.00391233\n",
      "Iteration 51, loss = 0.00326178\n",
      "Iteration 52, loss = 0.00357403\n",
      "Iteration 53, loss = 0.00335098\n",
      "Iteration 54, loss = 0.00340696\n",
      "Iteration 55, loss = 0.00352547\n",
      "Iteration 56, loss = 0.00329051\n",
      "Iteration 57, loss = 0.00315784\n",
      "Iteration 58, loss = 0.00352817\n",
      "Iteration 59, loss = 0.00300123\n",
      "Iteration 60, loss = 0.00251263\n",
      "Iteration 61, loss = 0.00336591\n",
      "Iteration 62, loss = 0.00273235\n",
      "Iteration 63, loss = 0.00293349\n",
      "Iteration 64, loss = 0.00304748\n",
      "Iteration 65, loss = 0.00215699\n",
      "Iteration 66, loss = 0.00389490\n",
      "Iteration 67, loss = 0.00216925\n",
      "Iteration 68, loss = 0.00308562\n",
      "Iteration 69, loss = 0.00266718\n",
      "Iteration 70, loss = 0.00284481\n",
      "Iteration 71, loss = 0.00265421\n",
      "Iteration 72, loss = 0.00251803\n",
      "Iteration 73, loss = 0.00269286\n",
      "Iteration 74, loss = 0.00288301\n",
      "Iteration 75, loss = 0.00262509\n",
      "Iteration 76, loss = 0.00303165\n",
      "Training loss did not improve more than tol=0.000100 for 10 consecutive epochs. Stopping.\n"
     ]
    },
    {
     "data": {
      "text/plain": [
       "MLPClassifier(hidden_layer_sizes=(32, 32, 32, 32), max_iter=1000, verbose=2)"
      ]
     },
     "execution_count": 112,
     "metadata": {},
     "output_type": "execute_result"
    }
   ],
   "source": [
    "mlp = MLPClassifier(hidden_layer_sizes=(32,32,32,32), max_iter=1000,verbose=2)  \n",
    "mlp.fit(X_train_scaled_ss_02, y_train_scaled_ss_02)  "
   ]
  },
  {
   "cell_type": "code",
   "execution_count": 113,
   "metadata": {},
   "outputs": [
    {
     "name": "stdout",
     "output_type": "stream",
     "text": [
      "Training set score: 0.999\n",
      "Test set score: 0.995\n",
      "Accuracy:  0.9954828047532855\n",
      "[[126464    410]\n",
      " [   164     32]]\n",
      "              precision    recall  f1-score   support\n",
      "\n",
      "           0       1.00      1.00      1.00    126874\n",
      "           1       0.07      0.16      0.10       196\n",
      "\n",
      "    accuracy                           1.00    127070\n",
      "   macro avg       0.54      0.58      0.55    127070\n",
      "weighted avg       1.00      1.00      1.00    127070\n",
      "\n"
     ]
    }
   ],
   "source": [
    "predictions = mlp.predict(X_test_scaled) \n",
    "\n",
    "# Score\n",
    "print(\"Training set score: {:.3f}\".format(mlp.score(X_train_scaled_ss_02, y_train_scaled_ss_02)))\n",
    "print(\"Test set score: {:.3f}\".format(mlp.score(X_test_scaled, y_test)))\n",
    "\n",
    "print(\"Accuracy: \", metrics.accuracy_score(y_test, predictions))\n",
    "print(confusion_matrix(y_test,predictions))  \n",
    "print(classification_report(y_test,predictions))  "
   ]
  },
  {
   "cell_type": "markdown",
   "metadata": {},
   "source": [
    "#### Neural Net With 4 Layers (32,32,32,32) SMOTE ss=0.5"
   ]
  },
  {
   "cell_type": "code",
   "execution_count": 114,
   "metadata": {},
   "outputs": [
    {
     "name": "stdout",
     "output_type": "stream",
     "text": [
      "Iteration 1, loss = 0.14660130\n",
      "Iteration 2, loss = 0.04132074\n",
      "Iteration 3, loss = 0.02791592\n",
      "Iteration 4, loss = 0.02216910\n",
      "Iteration 5, loss = 0.01853869\n",
      "Iteration 6, loss = 0.01634886\n",
      "Iteration 7, loss = 0.01495367\n",
      "Iteration 8, loss = 0.01368400\n",
      "Iteration 9, loss = 0.01223319\n",
      "Iteration 10, loss = 0.01192523\n",
      "Iteration 11, loss = 0.01110994\n",
      "Iteration 12, loss = 0.01038465\n",
      "Iteration 13, loss = 0.00937631\n",
      "Iteration 14, loss = 0.00937778\n",
      "Iteration 15, loss = 0.00872488\n",
      "Iteration 16, loss = 0.00814743\n",
      "Iteration 17, loss = 0.00781805\n",
      "Iteration 18, loss = 0.00761393\n",
      "Iteration 19, loss = 0.00685108\n",
      "Iteration 20, loss = 0.00693112\n",
      "Iteration 21, loss = 0.00669896\n",
      "Iteration 22, loss = 0.00656909\n",
      "Iteration 23, loss = 0.00645464\n",
      "Iteration 24, loss = 0.00578230\n",
      "Iteration 25, loss = 0.00582598\n",
      "Iteration 26, loss = 0.00549720\n",
      "Iteration 27, loss = 0.00534752\n",
      "Iteration 28, loss = 0.00573510\n",
      "Iteration 29, loss = 0.00497255\n",
      "Iteration 30, loss = 0.00504671\n",
      "Iteration 31, loss = 0.00438947\n",
      "Iteration 32, loss = 0.00497555\n",
      "Iteration 33, loss = 0.00478943\n",
      "Iteration 34, loss = 0.00430500\n",
      "Iteration 35, loss = 0.00416218\n",
      "Iteration 36, loss = 0.00425343\n",
      "Iteration 37, loss = 0.00413157\n",
      "Iteration 38, loss = 0.00408164\n",
      "Iteration 39, loss = 0.00417938\n",
      "Iteration 40, loss = 0.00386718\n",
      "Iteration 41, loss = 0.00359135\n",
      "Iteration 42, loss = 0.00394586\n",
      "Iteration 43, loss = 0.00374467\n",
      "Iteration 44, loss = 0.00394885\n",
      "Iteration 45, loss = 0.00305194\n",
      "Iteration 46, loss = 0.00379175\n",
      "Iteration 47, loss = 0.00380282\n",
      "Iteration 48, loss = 0.00340005\n",
      "Iteration 49, loss = 0.00313262\n",
      "Iteration 50, loss = 0.00320186\n",
      "Iteration 51, loss = 0.00302222\n",
      "Iteration 52, loss = 0.00368728\n",
      "Iteration 53, loss = 0.00301675\n",
      "Iteration 54, loss = 0.00305439\n",
      "Iteration 55, loss = 0.00293003\n",
      "Iteration 56, loss = 0.00346152\n",
      "Training loss did not improve more than tol=0.000100 for 10 consecutive epochs. Stopping.\n"
     ]
    },
    {
     "data": {
      "text/plain": [
       "MLPClassifier(hidden_layer_sizes=(32, 32, 32, 32), max_iter=1000, verbose=2)"
      ]
     },
     "execution_count": 114,
     "metadata": {},
     "output_type": "execute_result"
    }
   ],
   "source": [
    "mlp = MLPClassifier(hidden_layer_sizes=(32,32,32,32), max_iter=1000,verbose=2)  \n",
    "mlp.fit(X_train_scaled_ss_05, y_train_scaled_ss_05)  "
   ]
  },
  {
   "cell_type": "code",
   "execution_count": 115,
   "metadata": {},
   "outputs": [
    {
     "name": "stdout",
     "output_type": "stream",
     "text": [
      "Training set score: 1.000\n",
      "Test set score: 0.996\n",
      "Accuracy:  0.9955772408908475\n",
      "[[126468    406]\n",
      " [   156     40]]\n",
      "              precision    recall  f1-score   support\n",
      "\n",
      "           0       1.00      1.00      1.00    126874\n",
      "           1       0.09      0.20      0.12       196\n",
      "\n",
      "    accuracy                           1.00    127070\n",
      "   macro avg       0.54      0.60      0.56    127070\n",
      "weighted avg       1.00      1.00      1.00    127070\n",
      "\n"
     ]
    }
   ],
   "source": [
    "predictions = mlp.predict(X_test_scaled) \n",
    "\n",
    "# Score\n",
    "print(\"Training set score: {:.3f}\".format(mlp.score(X_train_scaled_ss_05, y_train_scaled_ss_05)))\n",
    "print(\"Test set score: {:.3f}\".format(mlp.score(X_test_scaled, y_test)))\n",
    "\n",
    "print(\"Accuracy: \", metrics.accuracy_score(y_test, predictions))\n",
    "print(confusion_matrix(y_test,predictions))  \n",
    "print(classification_report(y_test,predictions))  "
   ]
  },
  {
   "cell_type": "markdown",
   "metadata": {},
   "source": [
    "#### Neural Net With 4 Layers (32,32,32,32) SMOTE ss=1.0"
   ]
  },
  {
   "cell_type": "code",
   "execution_count": 116,
   "metadata": {},
   "outputs": [
    {
     "name": "stdout",
     "output_type": "stream",
     "text": [
      "Iteration 1, loss = 0.11604227\n",
      "Iteration 2, loss = 0.03173838\n",
      "Iteration 3, loss = 0.02319945\n",
      "Iteration 4, loss = 0.01899796\n",
      "Iteration 5, loss = 0.01644877\n",
      "Iteration 6, loss = 0.01442764\n",
      "Iteration 7, loss = 0.01341342\n",
      "Iteration 8, loss = 0.01269000\n",
      "Iteration 9, loss = 0.01110869\n",
      "Iteration 10, loss = 0.01087883\n",
      "Iteration 11, loss = 0.00974009\n",
      "Iteration 12, loss = 0.00898092\n",
      "Iteration 13, loss = 0.00825962\n",
      "Iteration 14, loss = 0.00873855\n",
      "Iteration 15, loss = 0.00745496\n",
      "Iteration 16, loss = 0.00708929\n",
      "Iteration 17, loss = 0.00691486\n",
      "Iteration 18, loss = 0.00660847\n",
      "Iteration 19, loss = 0.00666481\n",
      "Iteration 20, loss = 0.00620412\n",
      "Iteration 21, loss = 0.00568480\n",
      "Iteration 22, loss = 0.00548427\n",
      "Iteration 23, loss = 0.00602051\n",
      "Iteration 24, loss = 0.00534291\n",
      "Iteration 25, loss = 0.00514543\n",
      "Iteration 26, loss = 0.00481538\n",
      "Iteration 27, loss = 0.00470267\n",
      "Iteration 28, loss = 0.00504599\n",
      "Iteration 29, loss = 0.00459687\n",
      "Iteration 30, loss = 0.00438158\n",
      "Iteration 31, loss = 0.00444506\n",
      "Iteration 32, loss = 0.00441882\n",
      "Iteration 33, loss = 0.00395593\n",
      "Iteration 34, loss = 0.00437897\n",
      "Iteration 35, loss = 0.00399974\n",
      "Iteration 36, loss = 0.00385249\n",
      "Iteration 37, loss = 0.00421987\n",
      "Iteration 38, loss = 0.00362701\n",
      "Iteration 39, loss = 0.00374505\n",
      "Iteration 40, loss = 0.00376404\n",
      "Iteration 41, loss = 0.00355240\n",
      "Iteration 42, loss = 0.00352645\n",
      "Iteration 43, loss = 0.00331679\n",
      "Iteration 44, loss = 0.00344219\n",
      "Iteration 45, loss = 0.00298267\n",
      "Iteration 46, loss = 0.00374328\n",
      "Iteration 47, loss = 0.00314073\n",
      "Iteration 48, loss = 0.00301235\n",
      "Iteration 49, loss = 0.00296636\n",
      "Iteration 50, loss = 0.00314926\n",
      "Iteration 51, loss = 0.00284487\n",
      "Iteration 52, loss = 0.00270327\n",
      "Iteration 53, loss = 0.00310632\n",
      "Iteration 54, loss = 0.00292831\n",
      "Iteration 55, loss = 0.00294226\n",
      "Iteration 56, loss = 0.00266574\n",
      "Iteration 57, loss = 0.00274960\n",
      "Iteration 58, loss = 0.00286092\n",
      "Iteration 59, loss = 0.00303631\n",
      "Iteration 60, loss = 0.00259017\n",
      "Iteration 61, loss = 0.00262822\n",
      "Iteration 62, loss = 0.00250618\n",
      "Iteration 63, loss = 0.00279609\n",
      "Training loss did not improve more than tol=0.000100 for 10 consecutive epochs. Stopping.\n"
     ]
    },
    {
     "data": {
      "text/plain": [
       "MLPClassifier(hidden_layer_sizes=(32, 32, 32, 32), max_iter=1000, verbose=2)"
      ]
     },
     "execution_count": 116,
     "metadata": {},
     "output_type": "execute_result"
    }
   ],
   "source": [
    "mlp = MLPClassifier(hidden_layer_sizes=(32,32,32,32), max_iter=1000,verbose=2)  \n",
    "mlp.fit(X_train_scaled_ss_10, y_train_scaled_ss_10) "
   ]
  },
  {
   "cell_type": "code",
   "execution_count": 157,
   "metadata": {},
   "outputs": [
    {
     "name": "stdout",
     "output_type": "stream",
     "text": [
      "Training set score: 0.999\n",
      "Test set score: 0.995\n",
      "Accuracy:  0.9949555363185646\n",
      "[[126394    480]\n",
      " [   161     35]]\n",
      "              precision    recall  f1-score   support\n",
      "\n",
      "           0       1.00      1.00      1.00    126874\n",
      "           1       0.07      0.18      0.10       196\n",
      "\n",
      "    accuracy                           0.99    127070\n",
      "   macro avg       0.53      0.59      0.55    127070\n",
      "weighted avg       1.00      0.99      1.00    127070\n",
      "\n"
     ]
    }
   ],
   "source": [
    "predictions = mlp.predict(X_test_scaled) \n",
    "\n",
    "# Score\n",
    "print(\"Training set score: {:.3f}\".format(mlp.score(X_train_scaled_ss_10, y_train_scaled_ss_10)))\n",
    "print(\"Test set score: {:.3f}\".format(mlp.score(X_test_scaled, y_test)))\n",
    "\n",
    "print(\"Accuracy: \", metrics.accuracy_score(y_test, predictions))\n",
    "print(confusion_matrix(y_test,predictions))  \n",
    "print(classification_report(y_test,predictions))  "
   ]
  },
  {
   "cell_type": "markdown",
   "metadata": {},
   "source": [
    "## KNN"
   ]
  },
  {
   "cell_type": "code",
   "execution_count": 165,
   "metadata": {},
   "outputs": [],
   "source": [
    "# Be careful when running this, about 2 full days are needed to run this!!!\n",
    "from sklearn.neighbors import KNeighborsClassifier\n",
    "\n",
    "test_scores = []\n",
    "train_scores = []\n",
    "\n",
    "for i in range(1,15):\n",
    "\n",
    "    knn = KNeighborsClassifier(i)\n",
    "    knn.fit(X_train_scaled,y_train)\n",
    "    \n",
    "    train_scores.append(knn.score(X_train_scaled,y_train))\n",
    "    test_scores.append(knn.score(X_test_scaled,y_test))"
   ]
  },
  {
   "cell_type": "code",
   "execution_count": 166,
   "metadata": {},
   "outputs": [
    {
     "name": "stdout",
     "output_type": "stream",
     "text": [
      "Max train score 100.0 % and k = [1]\n"
     ]
    }
   ],
   "source": [
    "## score that comes from testing on the same datapoints that were used for training\n",
    "max_train_score = max(train_scores)\n",
    "train_scores_ind = [i for i, v in enumerate(train_scores) if v == max_train_score]\n",
    "print('Max train score {} % and k = {}'.format(max_train_score*100,list(map(lambda x: x+1, train_scores_ind))))"
   ]
  },
  {
   "cell_type": "code",
   "execution_count": 167,
   "metadata": {},
   "outputs": [
    {
     "name": "stdout",
     "output_type": "stream",
     "text": [
      "Max test score 99.84968914771386 % and k = [7, 8]\n"
     ]
    }
   ],
   "source": [
    "## score that comes from testing on the datapoints that were split in the beginning to be used for testing solely\n",
    "max_test_score = max(test_scores)\n",
    "test_scores_ind = [i for i, v in enumerate(test_scores) if v == max_test_score]\n",
    "print('Max test score {} % and k = {}'.format(max_test_score*100,list(map(lambda x: x+1, test_scores_ind))))"
   ]
  },
  {
   "cell_type": "code",
   "execution_count": 168,
   "metadata": {},
   "outputs": [
    {
     "data": {
      "text/plain": [
       "[<matplotlib.lines.Line2D at 0x2389a99f988>]"
      ]
     },
     "execution_count": 168,
     "metadata": {},
     "output_type": "execute_result"
    },
    {
     "data": {
      "image/png": "[encoded data removed]",
      "text/plain": [
       "<Figure size 864x360 with 1 Axes>"
      ]
     },
     "metadata": {
      "needs_background": "light"
     },
     "output_type": "display_data"
    }
   ],
   "source": [
    "plt.figure(figsize=(12,5))\n",
    "plt.plot(range(1,15),train_scores,marker='*',label='Train Score')\n",
    "plt.plot(range(1,15),test_scores,marker='o',label='Test Score')"
   ]
  },
  {
   "cell_type": "code",
   "execution_count": 117,
   "metadata": {},
   "outputs": [],
   "source": [
    "from sklearn.neighbors import KNeighborsClassifier\n",
    "# From the above, the best KNN is at k=8\n",
    "#Setup a knn classifier with k neighbors\n",
    "best_knn = KNeighborsClassifier(8)"
   ]
  },
  {
   "cell_type": "markdown",
   "metadata": {},
   "source": [
    "### KNN without SMOTE"
   ]
  },
  {
   "cell_type": "code",
   "execution_count": 118,
   "metadata": {},
   "outputs": [
    {
     "data": {
      "text/plain": [
       "0.9984968914771386"
      ]
     },
     "execution_count": 118,
     "metadata": {},
     "output_type": "execute_result"
    }
   ],
   "source": [
    "# Fit the KNN model with training data and score the test data\n",
    "\n",
    "best_knn.fit(X_train_scaled,y_train)\n",
    "best_knn.score(X_test_scaled,y_test)"
   ]
  },
  {
   "cell_type": "code",
   "execution_count": 119,
   "metadata": {},
   "outputs": [],
   "source": [
    "import pickle\n",
    "# save the model to disk\n",
    "filename = 'best_knn_without_smote.sav'\n",
    "pickle.dump(best_knn, open(filename, 'wb'))"
   ]
  },
  {
   "cell_type": "code",
   "execution_count": null,
   "metadata": {},
   "outputs": [],
   "source": [
    "# load the model from disk, NO NEED TO RUN IF NOT NECESSARY\n",
    "knn_loaded_model = pickle.load(open(filename, 'rb'))\n",
    "#result = knn_loaded_model.score(X_test, y_test)\n",
    "#print(result)"
   ]
  },
  {
   "cell_type": "code",
   "execution_count": 120,
   "metadata": {},
   "outputs": [
    {
     "name": "stdout",
     "output_type": "stream",
     "text": [
      "Training set score: 0.999\n",
      "Test set score: 0.998\n",
      "Accuracy:  0.9984968914771386\n",
      "[[126868      6]\n",
      " [   185     11]]\n",
      "              precision    recall  f1-score   support\n",
      "\n",
      "           0       1.00      1.00      1.00    126874\n",
      "           1       0.65      0.06      0.10       196\n",
      "\n",
      "    accuracy                           1.00    127070\n",
      "   macro avg       0.82      0.53      0.55    127070\n",
      "weighted avg       1.00      1.00      1.00    127070\n",
      "\n"
     ]
    }
   ],
   "source": [
    "y_pred = best_knn.predict(X_test_scaled)\n",
    "# Score for Best KNN, No SMOTE\n",
    "print(\"Training set score: {:.3f}\".format(best_knn.score(X_train_scaled, y_train)))\n",
    "print(\"Test set score: {:.3f}\".format(best_knn.score(X_test_scaled, y_test)))\n",
    "\n",
    "print(\"Accuracy: \", metrics.accuracy_score(y_test, y_pred))\n",
    "print(confusion_matrix(y_test,y_pred))  \n",
    "print(classification_report(y_test,y_pred))  "
   ]
  },
  {
   "cell_type": "markdown",
   "metadata": {},
   "source": [
    "### KNN With SMOTE"
   ]
  },
  {
   "cell_type": "markdown",
   "metadata": {},
   "source": [
    "#### KNN With SMOTE ss=0.1"
   ]
  },
  {
   "cell_type": "code",
   "execution_count": 121,
   "metadata": {},
   "outputs": [
    {
     "data": {
      "text/plain": [
       "KNeighborsClassifier(n_neighbors=8)"
      ]
     },
     "execution_count": 121,
     "metadata": {},
     "output_type": "execute_result"
    }
   ],
   "source": [
    "# Fit the KNN model with training data and score the test data\n",
    "best_knn.fit(X_train_scaled_ss_01,y_train_scaled_ss_01)\n",
    "#best_knn.score(X_test_scaled,y_test)"
   ]
  },
  {
   "cell_type": "code",
   "execution_count": 122,
   "metadata": {},
   "outputs": [],
   "source": [
    "# save the model to disk\n",
    "filename = 'best_knn_with_smote_ss_01.sav'\n",
    "pickle.dump(best_knn, open(filename, 'wb'))"
   ]
  },
  {
   "cell_type": "code",
   "execution_count": null,
   "metadata": {},
   "outputs": [],
   "source": [
    "# load the model from disk\n",
    "knn_loaded_model = pickle.load(open(filename, 'rb'))\n",
    "#result = knn_loaded_model.score(X_test, y_test)\n",
    "#print(result)"
   ]
  },
  {
   "cell_type": "code",
   "execution_count": 123,
   "metadata": {},
   "outputs": [
    {
     "name": "stdout",
     "output_type": "stream",
     "text": [
      "Training set score: 0.991\n",
      "Test set score: 0.985\n",
      "Accuracy:  0.9850869599433383\n",
      "[[125110   1764]\n",
      " [   131     65]]\n",
      "              precision    recall  f1-score   support\n",
      "\n",
      "           0       1.00      0.99      0.99    126874\n",
      "           1       0.04      0.33      0.06       196\n",
      "\n",
      "    accuracy                           0.99    127070\n",
      "   macro avg       0.52      0.66      0.53    127070\n",
      "weighted avg       1.00      0.99      0.99    127070\n",
      "\n"
     ]
    }
   ],
   "source": [
    "y_pred = best_knn.predict(X_test_scaled)\n",
    "# Score for Best KNN, with SMOTE\n",
    "print(\"Training set score: {:.3f}\".format(best_knn.score(X_train_scaled_ss_01, y_train_scaled_ss_01)))\n",
    "print(\"Test set score: {:.3f}\".format(best_knn.score(X_test_scaled, y_test)))\n",
    "\n",
    "print(\"Accuracy: \", metrics.accuracy_score(y_test, y_pred))\n",
    "print(confusion_matrix(y_test,y_pred))  \n",
    "print(classification_report(y_test,y_pred)) "
   ]
  },
  {
   "cell_type": "markdown",
   "metadata": {},
   "source": [
    "#### KNN With SMOTE ss=0.5"
   ]
  },
  {
   "cell_type": "code",
   "execution_count": 124,
   "metadata": {},
   "outputs": [
    {
     "data": {
      "text/plain": [
       "KNeighborsClassifier(n_neighbors=8)"
      ]
     },
     "execution_count": 124,
     "metadata": {},
     "output_type": "execute_result"
    }
   ],
   "source": [
    "# Fit the KNN model with training data and score the test data\n",
    "best_knn.fit(X_train_scaled_ss_05,y_train_scaled_ss_05)\n",
    "#best_knn.score(X_test_scaled,y_test)"
   ]
  },
  {
   "cell_type": "code",
   "execution_count": 125,
   "metadata": {},
   "outputs": [],
   "source": [
    "# save the model to disk\n",
    "filename = 'best_knn_with_smote_ss_05.sav'\n",
    "pickle.dump(best_knn, open(filename, 'wb'))"
   ]
  },
  {
   "cell_type": "code",
   "execution_count": null,
   "metadata": {},
   "outputs": [],
   "source": [
    "# load the model from disk\n",
    "knn_loaded_model = pickle.load(open(filename, 'rb'))\n",
    "#result = knn_loaded_model.score(X_test, y_test)\n",
    "#print(result)"
   ]
  },
  {
   "cell_type": "code",
   "execution_count": 126,
   "metadata": {},
   "outputs": [
    {
     "name": "stdout",
     "output_type": "stream",
     "text": [
      "Training set score: 0.991\n",
      "Test set score: 0.980\n",
      "Accuracy:  0.9802156291807665\n",
      "[[124485   2389]\n",
      " [   125     71]]\n",
      "              precision    recall  f1-score   support\n",
      "\n",
      "           0       1.00      0.98      0.99    126874\n",
      "           1       0.03      0.36      0.05       196\n",
      "\n",
      "    accuracy                           0.98    127070\n",
      "   macro avg       0.51      0.67      0.52    127070\n",
      "weighted avg       1.00      0.98      0.99    127070\n",
      "\n"
     ]
    }
   ],
   "source": [
    "y_pred = best_knn.predict(X_test_scaled)\n",
    "# Score for Best KNN, with SMOTE\n",
    "print(\"Training set score: {:.3f}\".format(best_knn.score(X_train_scaled_ss_05, y_train_scaled_ss_05)))\n",
    "print(\"Test set score: {:.3f}\".format(best_knn.score(X_test_scaled, y_test)))\n",
    "\n",
    "print(\"Accuracy: \", metrics.accuracy_score(y_test, y_pred))\n",
    "print(confusion_matrix(y_test,y_pred))  \n",
    "print(classification_report(y_test,y_pred)) "
   ]
  },
  {
   "cell_type": "markdown",
   "metadata": {},
   "source": [
    "#### KNN With SMOTE ss=1.0"
   ]
  },
  {
   "cell_type": "code",
   "execution_count": 127,
   "metadata": {},
   "outputs": [
    {
     "data": {
      "text/plain": [
       "KNeighborsClassifier(n_neighbors=8)"
      ]
     },
     "execution_count": 127,
     "metadata": {},
     "output_type": "execute_result"
    }
   ],
   "source": [
    "# Fit the KNN model with training data and score the test data\n",
    "best_knn.fit(X_train_scaled_ss_10,y_train_scaled_ss_10)\n",
    "#best_knn.score(X_test_scaled,y_test)"
   ]
  },
  {
   "cell_type": "code",
   "execution_count": 128,
   "metadata": {},
   "outputs": [],
   "source": [
    "# save the model to disk\n",
    "filename = 'best_knn_with_smote_ss_10.sav'\n",
    "pickle.dump(best_knn, open(filename, 'wb'))"
   ]
  },
  {
   "cell_type": "code",
   "execution_count": null,
   "metadata": {},
   "outputs": [],
   "source": [
    "# load the model from disk\n",
    "knn_loaded_model = pickle.load(open(filename, 'rb'))\n",
    "#result = knn_loaded_model.score(X_test, y_test)\n",
    "#print(result)"
   ]
  },
  {
   "cell_type": "code",
   "execution_count": 129,
   "metadata": {},
   "outputs": [
    {
     "name": "stdout",
     "output_type": "stream",
     "text": [
      "Training set score: 0.993\n",
      "Test set score: 0.980\n",
      "Accuracy:  0.9798536239867789\n",
      "[[124439   2435]\n",
      " [   125     71]]\n",
      "              precision    recall  f1-score   support\n",
      "\n",
      "           0       1.00      0.98      0.99    126874\n",
      "           1       0.03      0.36      0.05       196\n",
      "\n",
      "    accuracy                           0.98    127070\n",
      "   macro avg       0.51      0.67      0.52    127070\n",
      "weighted avg       1.00      0.98      0.99    127070\n",
      "\n"
     ]
    }
   ],
   "source": [
    "y_pred = best_knn.predict(X_test_scaled)\n",
    "# Score for Best KNN, with SMOTE\n",
    "print(\"Training set score: {:.3f}\".format(best_knn.score(X_train_scaled_ss_10, y_train_scaled_ss_10)))\n",
    "print(\"Test set score: {:.3f}\".format(best_knn.score(X_test_scaled, y_test)))\n",
    "\n",
    "print(\"Accuracy: \", metrics.accuracy_score(y_test, y_pred))\n",
    "print(confusion_matrix(y_test,y_pred))  \n",
    "print(classification_report(y_test,y_pred)) "
   ]
  },
  {
   "cell_type": "code",
   "execution_count": null,
   "metadata": {},
   "outputs": [],
   "source": []
  }
 ],
 "metadata": {
  "jupytext": {
   "formats": "ipynb,py:light"
  },
  "kernelspec": {
   "display_name": "Python 3",
   "language": "python",
   "name": "python3"
  },
  "language_info": {
   "codemirror_mode": {
    "name": "ipython",
    "version": 3
   },
   "file_extension": ".py",
   "mimetype": "text/x-python",
   "name": "python",
   "nbconvert_exporter": "python",
   "pygments_lexer": "ipython3",
   "version": "3.7.7"
  }
 },
 "nbformat": 4,
 "nbformat_minor": 4
}
