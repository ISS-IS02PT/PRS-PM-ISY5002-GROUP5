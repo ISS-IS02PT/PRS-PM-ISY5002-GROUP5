{
 "cells": [
  {
   "cell_type": "markdown",
   "metadata": {},
   "source": [
    "Imports"
   ]
  },
  {
   "cell_type": "code",
   "execution_count": 12,
   "metadata": {},
   "outputs": [],
   "source": [
    "import pandas as pd\n",
    "import numpy as np\n",
    "import seaborn as sns\n",
    "import matplotlib.pyplot as plt\n",
    "from xgboost import XGBRegressor\n",
    "from keras.callbacks import ModelCheckpoint\n",
    "from keras.models import Sequential\n",
    "from keras.layers import Dense, Activation, Flatten\n",
    "from sklearn.model_selection import train_test_split\n",
    "from sklearn.ensemble import RandomForestRegressor\n",
    "from sklearn.metrics import mean_absolute_error \n",
    "from sklearn.metrics import mean_squared_error\n",
    "import pickle\n",
    "import sys"
   ]
  },
  {
   "cell_type": "code",
   "execution_count": 13,
   "metadata": {},
   "outputs": [],
   "source": [
    "# Function to show various error measurement\n",
    "def forecast_accuracy(forecast, actual):\n",
    "    mape = np.mean(np.abs(forecast - actual)/np.abs(actual))  # MAPE\n",
    "    me = np.mean(forecast - actual)             # ME\n",
    "    mae = np.mean(np.abs(forecast - actual))    # MAE\n",
    "    mpe = np.mean((forecast - actual)/actual)   # MPE\n",
    "    mse = np.mean((forecast - actual)**2)  # MSE\n",
    "    rmse = np.mean((forecast - actual)**2)**.5  # RMSE\n",
    "    #corr = np.corrcoef(forecast, actual)[0,1]   # corr\n",
    "    #mins = np.amin(np.hstack([forecast[:,None], \n",
    "    #                          actual[:,None]]), axis=1)\n",
    "    #maxs = np.amax(np.hstack([forecast[:,None], \n",
    "    #                          actual[:,None]]), axis=1)\n",
    "    #minmax = 1 - np.mean(mins/maxs)             # minmax\n",
    "    #acf1 = acf(fc-test)[1]                      # ACF1\n",
    "    #return({'mape':mape, 'me':me, 'mae': mae, \n",
    "    #        'mpe': mpe, 'rmse':rmse, 'acf1':acf1, \n",
    "    #        'corr':corr, 'minmax':minmax})\n",
    "    return({'mape':mape, 'me':me, 'mae': mae, \n",
    "            'mpe': mpe, 'mse':mse, 'rmse':rmse})"
   ]
  },
  {
   "cell_type": "code",
   "execution_count": 14,
   "metadata": {},
   "outputs": [
    {
     "name": "stdout",
     "output_type": "stream",
     "text": [
      "d:\\Users\\mokky\\Documents\\GitHub\\nus-iss\\PRS-PM-ISY5002-GROUP5\\SystemCode\n"
     ]
    }
   ],
   "source": [
    "import os\n",
    "os.chdir('d:/Users/mokky/Documents/GitHub/nus-iss/PRS-PM-ISY5002-GROUP5/SystemCode')\n",
    "print(os.getcwd())"
   ]
  },
  {
   "cell_type": "code",
   "execution_count": 15,
   "metadata": {},
   "outputs": [],
   "source": [
    "file_dir = './Data Exploration/data/uc3/'\n",
    "X_train_file_path = 'all_hosp_new_train_X_uc3.pkl'\n",
    "y_train_file_path = 'all_hosp_data_uc3_y_train_uc3.pkl'\n",
    "X_test_file_path = 'all_hosp_new_test_X_uc3.pkl'\n",
    "y_test_file_path = 'all_hosp_data_uc3_y_test_uc3.pkl'"
   ]
  },
  {
   "cell_type": "code",
   "execution_count": 22,
   "metadata": {},
   "outputs": [],
   "source": [
    "df_X_train = pd.read_pickle(file_dir + X_train_file_path)\n",
    "df_y_train = pd.read_pickle(file_dir + y_train_file_path)\n",
    "df_X_test = pd.read_pickle(file_dir + X_test_file_path)\n",
    "df_y_test = pd.read_pickle(file_dir + y_test_file_path)"
   ]
  },
  {
   "cell_type": "markdown",
   "metadata": {},
   "source": [
    "Creating a train and test dataset."
   ]
  },
  {
   "cell_type": "code",
   "execution_count": 23,
   "metadata": {},
   "outputs": [],
   "source": [
    "from sklearn.linear_model import LinearRegression\n",
    "model = LinearRegression()\n",
    "model.fit(df_X_train,df_y_train)\n",
    "\n",
    "# save model to file\n",
    "pickle.dump(model, open(file_dir + \"uc3_linreg_model_pkl.sav\", \"wb\"))"
   ]
  },
  {
   "cell_type": "code",
   "execution_count": 24,
   "metadata": {},
   "outputs": [],
   "source": [
    "y_pred = model.predict(df_X_test)"
   ]
  },
  {
   "cell_type": "code",
   "execution_count": 25,
   "metadata": {},
   "outputs": [
    {
     "name": "stderr",
     "output_type": "stream",
     "text": [
      "C:\\ProgramData\\Anaconda3\\envs\\prpms\\lib\\site-packages\\seaborn\\_decorators.py:43: FutureWarning: Pass the following variables as keyword args: x, y. From version 0.12, the only valid positional argument will be `data`, and passing other arguments without an explicit keyword will result in an error or misinterpretation.\n",
      "  FutureWarning\n"
     ]
    },
    {
     "data": {
      "text/plain": [
       "<matplotlib.axes._subplots.AxesSubplot at 0x26c17f4d048>"
      ]
     },
     "execution_count": 25,
     "metadata": {},
     "output_type": "execute_result"
    },
    {
     "data": {
      "image/png": "[encoded data removed]",
      "text/plain": [
       "<Figure size 432x288 with 1 Axes>"
      ]
     },
     "metadata": {
      "needs_background": "light"
     },
     "output_type": "display_data"
    }
   ],
   "source": [
    "sns.regplot(df_y_test,y_pred)"
   ]
  },
  {
   "cell_type": "code",
   "execution_count": 26,
   "metadata": {},
   "outputs": [
    {
     "name": "stdout",
     "output_type": "stream",
     "text": [
      "Mean squared error: 32087639831807434602577920.00\n",
      "Root Mean squared error: 5664595292852.56\n",
      "Mean absolute error: 540683888662.52\n"
     ]
    }
   ],
   "source": [
    "# MSE\n",
    "print('Mean squared error: %.2f'\n",
    "      % mean_squared_error(df_y_test,y_pred, squared=True))\n",
    "\n",
    "# RMSE\n",
    "print('Root Mean squared error: %.2f'\n",
    "      % mean_squared_error(df_y_test,y_pred, squared=False))\n",
    "\n",
    "# MAE\n",
    "print('Mean absolute error: %.2f'\n",
    "      % mean_absolute_error(df_y_test,y_pred))"
   ]
  },
  {
   "cell_type": "code",
   "execution_count": 27,
   "metadata": {},
   "outputs": [
    {
     "data": {
      "text/plain": [
       "{'mape': 128968586.85256241,\n",
       " 'me': -26962606429.271862,\n",
       " 'mae': 540683888662.51843,\n",
       " 'mpe': -1148534.8089953386,\n",
       " 'mse': 3.2087639831807435e+25,\n",
       " 'rmse': 5664595292852.564}"
      ]
     },
     "execution_count": 27,
     "metadata": {},
     "output_type": "execute_result"
    }
   ],
   "source": [
    "forecast_accuracy(y_pred, df_y_test)"
   ]
  },
  {
   "cell_type": "code",
   "execution_count": null,
   "metadata": {},
   "outputs": [],
   "source": []
  }
 ],
 "metadata": {
  "kernelspec": {
   "display_name": "Python 3",
   "language": "python",
   "name": "python3"
  },
  "language_info": {
   "codemirror_mode": {
    "name": "ipython",
    "version": 3
   },
   "file_extension": ".py",
   "mimetype": "text/x-python",
   "name": "python",
   "nbconvert_exporter": "python",
   "pygments_lexer": "ipython3",
   "version": "3.7.8"
  }
 },
 "nbformat": 4,
 "nbformat_minor": 4
}
