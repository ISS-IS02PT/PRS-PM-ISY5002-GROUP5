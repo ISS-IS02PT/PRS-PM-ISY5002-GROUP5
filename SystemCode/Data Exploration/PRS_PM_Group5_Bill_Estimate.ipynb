{
 "cells": [
  {
   "cell_type": "code",
   "execution_count": 1,
   "metadata": {},
   "outputs": [],
   "source": [
    "%load_ext autoreload\n",
    "%autoreload 2"
   ]
  },
  {
   "cell_type": "code",
   "execution_count": 2,
   "metadata": {},
   "outputs": [
    {
     "name": "stdout",
     "output_type": "stream",
     "text": [
      "d:\\Users\\mokky\\Documents\\GitHub\\nus-iss\\PRS-PM-ISY5002-GROUP5\\SystemCode\n"
     ]
    }
   ],
   "source": [
    "import os\n",
    "os.chdir('d:/Users/mokky/Documents/GitHub/nus-iss/PRS-PM-ISY5002-GROUP5/SystemCode')\n",
    "print(os.getcwd())"
   ]
  },
  {
   "cell_type": "code",
   "execution_count": 3,
   "metadata": {},
   "outputs": [],
   "source": [
    "import pandas as pd\n",
    "import numpy as np\n",
    "import constants_uc3 "
   ]
  },
  {
   "cell_type": "code",
   "execution_count": 4,
   "metadata": {},
   "outputs": [
    {
     "name": "stdout",
     "output_type": "stream",
     "text": [
      "<class 'pandas.core.frame.DataFrame'>\n",
      "RangeIndex: 62517 entries, 0 to 62516\n",
      "Data columns (total 49 columns):\n",
      " #   Column                        Non-Null Count  Dtype         \n",
      "---  ------                        --------------  -----         \n",
      " 0   ACTUAL_CASE_NUMBER            62517 non-null  int64         \n",
      " 1   ACTUAL_TREATMENT_CATEGORY     62517 non-null  object        \n",
      " 2   ACTUAL_PATIENT_NUMBER         62517 non-null  int64         \n",
      " 3   ACTUAL_PRIMARY_DIAGNOSIS_SID  62517 non-null  int64         \n",
      " 4   ACTUAL_CASE_INSTITUTION       62517 non-null  object        \n",
      " 5   ACTUAL_ADMISSION_DTE          62517 non-null  datetime64[ns]\n",
      " 6   ACTUAL_LOS                    62517 non-null  int64         \n",
      " 7   ACTUAL_ICU_HDU_LOS            49 non-null     float64       \n",
      " 8   ACTUAL_SURGICAL_CODE_1        43688 non-null  object        \n",
      " 9   ACTUAL_SURGICAL_CODE_2        16939 non-null  object        \n",
      " 10  ACTUAL_SURGICAL_CODE_3        3422 non-null   object        \n",
      " 11  ACTUAL_DIAGNOSIS_CODE         62354 non-null  object        \n",
      " 12  ADM_DATE                      62517 non-null  datetime64[ns]\n",
      " 13  INST                          62517 non-null  object        \n",
      " 14  CASE_NO                       49400 non-null  float64       \n",
      " 15  ETBS_LOS                      60994 non-null  float64       \n",
      " 16  ETBS_ICU_HDU_LOS              15735 non-null  object        \n",
      " 17  ETBS_MOVE_TYPE                62517 non-null  object        \n",
      " 18  ETBS_TOSP_1                   39657 non-null  object        \n",
      " 19  ETBS_TOSP_2                   10832 non-null  object        \n",
      " 20  ETBS_TOSP_3                   1106 non-null   object        \n",
      " 21  ETBS_ICD10_1                  22709 non-null  object        \n",
      " 22  ETBS_ICD10_2                  598 non-null    object        \n",
      " 23  ETBS_ICD10_3                  39 non-null     object        \n",
      " 24  CASE_TYPE                     62395 non-null  object        \n",
      " 25  PATIENT_TYPE                  0 non-null      float64       \n",
      " 26  ADMISSION_TYPE                62330 non-null  object        \n",
      " 27  TREATMENT_CATEGORY            62395 non-null  object        \n",
      " 28  REFERRAL_TYPE                 62347 non-null  object        \n",
      " 29  DEPT_OU                       62375 non-null  object        \n",
      " 30  ADMITTING_SMC_NUMBER          49242 non-null  object        \n",
      " 31  ATTENDING_SMC_NUMBER          49284 non-null  object        \n",
      " 32  REFERRAL_SMC_NUMBER           34337 non-null  object        \n",
      " 33  ADM_CLASS_DISC                213 non-null    object        \n",
      " 34  PATIENT_NUMBER                62395 non-null  float64       \n",
      " 35  GENDER                        62395 non-null  object        \n",
      " 36  DOB                           62395 non-null  datetime64[ns]\n",
      " 37  MARITAL_STATUS                55758 non-null  object        \n",
      " 38  RELIGION                      23083 non-null  object        \n",
      " 39  NATIONALITY                   62374 non-null  object        \n",
      " 40  RESID_CTY                     62395 non-null  object        \n",
      " 41  RESID_POSTALCODE              50685 non-null  float64       \n",
      " 42  OCCUPATION                    2314 non-null   object        \n",
      " 43  RESID_GEOAREA                 57703 non-null  object        \n",
      " 44  NONRESID_FLAG                 62395 non-null  object        \n",
      " 45  IDENT_TYPE                    62362 non-null  object        \n",
      " 46  CONT_POSTAL                   48273 non-null  float64       \n",
      " 47  CONT_RELATION                 56435 non-null  object        \n",
      " 48  TOTAL_HOSP                    62517 non-null  float64       \n",
      "dtypes: datetime64[ns](3), float64(8), int64(4), object(34)\n",
      "memory usage: 23.4+ MB\n",
      "None\n"
     ]
    }
   ],
   "source": [
    "file_path = './Data Exploration/data/uc3/BillEstimate.csv'\n",
    "df = pd.read_csv(file_path, parse_dates=['ACTUAL_ADMISSION_DTE', 'ADM_DATE', 'DOB'])\n",
    "print(df.info())"
   ]
  },
  {
   "cell_type": "code",
   "execution_count": 5,
   "metadata": {},
   "outputs": [
    {
     "name": "stdout",
     "output_type": "stream",
     "text": [
      "ACTUAL_TREATMENT_CATEGORY      51\n",
      "ACTUAL_CASE_INSTITUTION         4\n",
      "ACTUAL_SURGICAL_CODE_1       1343\n",
      "ACTUAL_SURGICAL_CODE_2        849\n",
      "ACTUAL_SURGICAL_CODE_3        496\n",
      "ACTUAL_DIAGNOSIS_CODE        3770\n",
      "INST                            8\n",
      "ETBS_ICU_HDU_LOS               12\n",
      "ETBS_MOVE_TYPE                 11\n",
      "ETBS_TOSP_1                  1441\n",
      "ETBS_TOSP_2                   648\n",
      "ETBS_TOSP_3                   227\n",
      "ETBS_ICD10_1                 2342\n",
      "ETBS_ICD10_2                  267\n",
      "ETBS_ICD10_3                   37\n",
      "CASE_TYPE                       1\n",
      "ADMISSION_TYPE                  8\n",
      "TREATMENT_CATEGORY             55\n",
      "REFERRAL_TYPE                  33\n",
      "DEPT_OU                        93\n",
      "ADMITTING_SMC_NUMBER         1102\n",
      "ATTENDING_SMC_NUMBER         1124\n",
      "REFERRAL_SMC_NUMBER           935\n",
      "ADM_CLASS_DISC                 12\n",
      "GENDER                          3\n",
      "MARITAL_STATUS                  7\n",
      "RELIGION                       17\n",
      "NATIONALITY                   198\n",
      "RESID_CTY                      88\n",
      "OCCUPATION                    655\n",
      "RESID_GEOAREA                 217\n",
      "NONRESID_FLAG                   2\n",
      "IDENT_TYPE                      6\n",
      "CONT_RELATION                  34\n",
      "dtype: int64\n"
     ]
    }
   ],
   "source": [
    "print(df.select_dtypes(include=['object']).nunique())"
   ]
  },
  {
   "cell_type": "code",
   "execution_count": 6,
   "metadata": {},
   "outputs": [
    {
     "name": "stdout",
     "output_type": "stream",
     "text": [
      "ACTUAL_CASE_INSTITUTION vs INST:  2\n",
      "ACTUAL_CASE_INSTITUTION\n",
      "ghl    [ghl, GHL]\n",
      "meh    [meh, MEH]\n",
      "peh    [peh, PEH]\n",
      "pnh    [pnh, PNH]\n",
      "Name: INST, dtype: object\n",
      "['ghl' 'meh' 'pnh' 'peh']\n",
      "['ghl' 'meh' 'pnh' 'peh' 'PNH' 'GHL' 'MEH' 'PEH']\n"
     ]
    }
   ],
   "source": [
    "print('ACTUAL_CASE_INSTITUTION vs INST: ',\n",
    "      df.groupby(by=['ACTUAL_CASE_INSTITUTION'])['INST'].nunique().max())\n",
    "print(df.groupby(by=['ACTUAL_CASE_INSTITUTION'])['INST'].unique())\n",
    "print(df['ACTUAL_CASE_INSTITUTION'].unique())\n",
    "print(df['INST'].unique())"
   ]
  },
  {
   "cell_type": "code",
   "execution_count": 118,
   "metadata": {},
   "outputs": [
    {
     "name": "stdout",
     "output_type": "stream",
     "text": [
      "ACTUAL_LOS vs ETBS_ICU_HDU_LOS:  11\n"
     ]
    }
   ],
   "source": [
    "print('ACTUAL_LOS vs ETBS_ICU_HDU_LOS: ',\n",
    "      df.groupby(by=['ACTUAL_LOS'])['ETBS_ICU_HDU_LOS'].nunique().max())"
   ]
  },
  {
   "cell_type": "code",
   "execution_count": 127,
   "metadata": {},
   "outputs": [
    {
     "name": "stdout",
     "output_type": "stream",
     "text": [
      "['MISSING' nan '1' '2' '3' '4' 1.0 5.0 3.0 2.0 4.0 7.0 9.0]\n",
      "[0. 1. 2. 3. 4. 5. 7. 9.]\n"
     ]
    }
   ],
   "source": [
    "print(df['ETBS_ICU_HDU_LOS'].unique())\n",
    "print(df['ETBS_ICU_HDU_LOS'].fillna(0).replace('MISSING', 0).astype(np.number).unique())"
   ]
  },
  {
   "cell_type": "code",
   "execution_count": 8,
   "metadata": {},
   "outputs": [
    {
     "name": "stdout",
     "output_type": "stream",
     "text": [
      "ACTUAL_TREATMENT_CATEGORY\n",
      "['endo' 'dw2b' 'dc' 'dw1b' 'sgl' 'dc1' 'ni2b' '4bd' '2bd' 'a1' 'vip2'\n",
      " 'nursp' 'hdu' 'sgln' 'ni1' 'dc2b' 'tusgl' 'exe' 'icu' 'sup' 'vip' 'ryl'\n",
      " 'argon' 'dlx' 'eye' 'yag' '2bdw14' 'sgls' 'dc4b' 'hbc' 'ni3' 'dc1b'\n",
      " 'ryl1' 'edlx' 'dal' 'vip3' 'glen' 'tu2bd' 'iod' 'daf' 'sglw14' 'orc'\n",
      " 'ni2a' '4bdw14' 'si35' 'tangln' 'dem' 'nur1' 'rylll' 'ryl2' 'ryll']\n",
      "ACTUAL_CASE_INSTITUTION\n",
      "['ghl' 'meh' 'pnh' 'peh']\n",
      "ACTUAL_SURGICAL_CODE_1\n",
      "['sf710c' 'sf701i' 'sf704c' ... 'sf817m' 'sf713m' 'sd736a']\n",
      "ACTUAL_SURGICAL_CODE_2\n",
      "[nan 'sf701i' 'sk759e' 'sf834a' 'sl714e' 'sm724n' 'si843u' 'sk703s'\n",
      " 'sf838a' 'sf700i' 'sc719t' 'sf836a' 'sk728n' 'sf702c' 'sg709b' 'sf849a'\n",
      " 'sg700u' 'sa706b' 'sb707k' 'si725u' 'sh802v' 'se700l' 'sm700n' 'sk705s'\n",
      " 'sd708h' 'sf707t' 'sd717v' 'NA_VALUE' 'si705c' 'sm711s' 'sm714n' 'sm839m'\n",
      " 'sd811h' 'sg716b' 'sm700i' 'si704c' 'sb806j' 'sc704b' 'sm707s' 'sf801a'\n",
      " 'si816u' 'sf704c' 'sj701t' 'sm713n' 'sa853s' 'sa840s' 'sf705c' 'sc715t'\n",
      " 'sb700s' 'sb820t' 'sa716s' 'si700u' 'sb825j' 'sf831a' 'sd809h' 'sl847e'\n",
      " 'si810c' 'sf704i' 'sb700h' 'sk733n' 'sk744s' 'sg717b' 'sb707s' 'sf711l'\n",
      " 'si707c' 'si806c' 'sa852s' 'sl814l' 'sf819a' 'sb738s' 'sl853e' 'sb746a'\n",
      " 'sa704b' 'sl805r' 'sl801i' 'si807u' 'sf707a' 'sf835a' 'sb816t' 'sa701s'\n",
      " 'sb814t' 'sb803t' 'sb801b' 'sm709s' 'sb720s' 'sb745j' 'sg709u' 'sm708e'\n",
      " 'sb810k' 'sb709h' 'sa841s' 'si812v' 'sb825b' 'sa715s' 'sb808b' 'sf837a'\n",
      " 'si805o' 'sd710b' 'sm715s' 'si842u' 'sb816s' 'sl810l' 'sd811v' 'sg718b'\n",
      " 'si820u' 'sg701u' 'sd707b' 'se707l' 'si805c' 'sb809b' 'sb801l' 'sl700v'\n",
      " 'sb705a' 'sb703k' 'sb805j' 'si816v' 'sl808l' 'sb702a' 'sm704s' 'se801m'\n",
      " 'sa827b' 'sa714s' 'si802o' 'sm700a' 'sb819h' 'sg727k' 'sk710a' 'sg700p'\n",
      " 'sg711b' 'sb708h' 'sa811s' 'sl723e' 'sf710c' 'sm703t' 'sa854s' 'sf841a'\n",
      " 'sb819j' 'sm705t' 'sf814a' 'si837u' 'sf802c' 'sb702w' 'sl704r' 'si705f'\n",
      " 'sk702s' 'sg713b' 'si715u' 'sh831p' 'sf801g' 'sa812b' 'sb800b' 'sf808a'\n",
      " 'sa829s' 'sb722s' 'sa826b' 'sk809b' 'sk737n' 'sb828j' 'sa823s' 'sd721a'\n",
      " 'sb715k' 'sh804v' 'si709u' 'si807f' 'sh803s' 'sf833a' 'sb803n' 'sb841h'\n",
      " 'sg800u' 'sh806t' 'sa886s' 'sf800a' 'sg802b' 'sl809l' 'sm720s' 'sd718a'\n",
      " 'sk712s' 'sb830j' 'sg705b' 'se701l' 'sd731h' 'sb710b' 'si702c' 'si813c'\n",
      " 'sa831s' 'sb817s' 'sh808p' 'si700l' 'si801u' 'sc706b' 'sa805s' 'sd812h'\n",
      " 'sl846e' 'sf706i' 'se807l' 'sj700t' 'sk700n' 'sd729a' 'sa708b' 'sf711b'\n",
      " 'sf708b' 'sl710e' 'sb709s' 'sa702b' 'si700o' 'sl807c' 'sg831u' 'sc703t'\n",
      " 'si808f' 'sa709b' 'sd713v' 'sk736s' 'sf706g' 'sk716s' 'sa702s' 'sf720a'\n",
      " 'sb802b' 'si720v' 'sb700p' 'sb726f' 'sm707e' 'sb801c' 'sf807a' 'sd808v'\n",
      " 'sb801e' 'sl801l' 'sl815l' 'si819u' 'sp820u' 'si825v' 'sa868s' 'sa813b'\n",
      " 'sk701c' 'sb826b' 'sf804t' 'sb801t' 'se800l' 'sb701k' 'sk729n' 'sb801s'\n",
      " 'sf718b' 'sf809m' 'sd707v' 'sb708s' 'sf840a' 'sb811j' 'sf721a' 'se702l'\n",
      " 'sb808k' 'sb802k' 'sk700s' 'sa842s' 'sf706a' 'sb805k' 'sm832e' 'sb814f'\n",
      " 'sa850s' 'sj802t' 'si809u' 'sb813t' 'sk715n' 'sa711b' 'sa824b' 'sg812u'\n",
      " 'sf706l' 'se713l' 'sk701b' 'sf827a' 'sa870s' 'sl706e' 'sa800s' 'sb817b'\n",
      " 'sf723a' 'sl724e' 'sb732f' 'sb712k' 'sg804b' 'sk746s' 'sb724f' 'sc807t'\n",
      " 'sb802u' 'sa803s' 'sg802k' 'sd722v' 'sd720v' 'sb821b' 'sd714v' 'sd704v'\n",
      " 'si806o' 'sa711s' 'sb714k' 'sd726a' 'sk732s' 'sa710b' 'sm707n' 'sb700w'\n",
      " 'sh809t' 'sb830f' 'sf711c' 'sd725a' 'sc808t' 'sa851s' 'sb715f' 'sa821s'\n",
      " 'sb830h' 'sk713s' 'sm703e' 'sm720n' 'sb725h' 'se809l' 'sk704s' 'sk717n'\n",
      " 'si701u' 'sk700c' 'si804f' 'sl833e' 'si807o' 'si820v' 'sa712b' 'sb712w'\n",
      " 'sk731s' 'sc703b' 'sf703g' 'sb722f' 'sl705r' 'si701o' 'sf701a' 'sk806b'\n",
      " 'sa801b' 'sm831e' 'sm701m' 'sk808b' 'si717u' 'sf807e' 'sm712s' 'sk734n'\n",
      " 'sd720a' 'sg711k' 'sd820h' 'sm716l' 'sm703n' 'si703p' 'si801o' 'si721u'\n",
      " 'sa898s' 'sf717b' 'sd728a' 'sl803c' 'sb847m' 'sg807u' 'sb703e' 'sb803u'\n",
      " 'si703c' 'sb803c' 'sb811t' 'sg821u' 'sa822s' 'sl807l' 'sb736s' 'sd721v'\n",
      " 'sb803b' 'sb826j' 'sb805t' 'sf706b' 'sf704l' 'sk812n' 'sm714s' 'sb737s'\n",
      " 'sb712s' 'sd706b' 'si823v' 'sl804r' 'sl713e' 'sk717s' 'sl813l' 'sf700c'\n",
      " 'sb735s' 'sb832f' 'sm715n' 'sg715b' 'sa833s' 'sf803c' 'sa705b' 'sf823a'\n",
      " 'sf704g' 'sg813k' 'sg710b' 'sm827e' 'sa700t' 'sm705n' 'sh801s' 'sb801r'\n",
      " 'sd838h' 'sm712n' 'sm813e' 'sb719s' 'sb700k' 'sh834p' 'sl803e' 'se805l'\n",
      " 'sl801r' 'sf846a' 'sc700t' 'si706u' 'sc814t' 'sb800k' 'sf810a' 'sb700l'\n",
      " 'sb804t' 'sd711v' 'sb809s' 'sa861s' 'sb804a' 'sf701c' 'sd712h' 'sb815j'\n",
      " 'sf844a' 'si811c' 'sm700l' 'sk711s' 'si708u' 'sg704u' 'sb806l' 'si707u'\n",
      " 'sm711l' 'sb801a' 'si815u' 'sh823p' 'sa883s' 'sb704h' 'sf842a' 'sh804s'\n",
      " 'sl800a' 'sf704b' 'sb849m' 'sa893s' 'sg707u' 'sb803a' 'si803c' 'si803o'\n",
      " 'sf806m' 'sd732h' 'sf800s' 'sh835p' 'sg815b' 'si702o' 'sa800t' 'sb707b'\n",
      " 'si808c' 'si833v' 'sf848a' 'sb701s' 'sd804a' 'sa899s' 'sk731n' 'sc720t'\n",
      " 'sk733s' 'sk815s' 'sj800p' 'sf714b' 'sd714h' 'sk718s' 'sa713s' 'sf712b'\n",
      " 'sa890s' 'sk715s' 'sb811m' 'sb804k' 'si815v' 'sb806f' 'si706f' 'si808v'\n",
      " 'sc817t' 'sk700t' 'sd730a' 'sl700r' 'sa834s' 'sf700l' 'se802l' 'sk738n'\n",
      " 'sl717e' 'se706l' 'si713u' 'sd713h' 'sf803e' 'sb804h' 'sh802s' 'sa805m'\n",
      " 'sd821a' 'sl800r' 'sd810h' 'sb803h' 'sf800i' 'sb800t' 'sb819t' 'si724u'\n",
      " 'si803u' 'sk732n' 'sg825u' 'sa839s' 'sl805e' 'sl708l' 'si801c' 'sk723n'\n",
      " 'sk701n' 'sa838s' 'si805f' 'sf707s' 'sc709t' 'sf832a' 'sc705b' 'sa865s'\n",
      " 'sd801v' 'sb718h' 'si703v' 'sk737s' 'sb727f' 'sm802e' 'sk708b' 'sb701l'\n",
      " 'sb835f' 'sc801l' 'sm702s' 'se808l' 'sf707l' 'sk742s' 'sf704s' 'si802v'\n",
      " 'sb805a' 'sd737a' 'sb807b' 'sb812t' 'sf705g' 'sk745n' 'sg712u' 'sb818b'\n",
      " 'sb740s' 'sg808b' 'sh819p' 'sg817u' 'sf843a' 'sb800j' 'sb806k' 'sl700c'\n",
      " 'sa858s' 'sk740n' 'sf809r' 'sl802r' 'sf800l' 'sk739n' 'sa894s' 'sk702a'\n",
      " 'sa871s' 'sb807j' 'sb843m' 'se806l' 'sl801v' 'sd727h' 'si702v' 'sa801s'\n",
      " 'si704v' 'sf818a' 'sa878s' 'sl803r' 'sd804v' 'sd724h' 'sf708c' 'sd810a'\n",
      " 'sk700f' 'sk730n' 'sb819b' 'sf709a' 'sg717k' 'sg714b' 'se712l' 'sa824s'\n",
      " 'sk753s' 'sa707b' 'sk735n' 'sl802c' 'sb828t' 'sa863s' 'sg726k' 'sp834u'\n",
      " 'sf707i' 'sa712s' 'sf701b' 'sb818f' 'sk757s' 'sg807b' 'sk804s' 'sl829e'\n",
      " 'sc803t' 'sf811t' 'sb822h' 'sb713s' 'si710v' 'sa864s' 'sb802t' 'sa812s'\n",
      " 'sm811e' 'sb801j' 'si838u' 'sf700e' 'sb812j' 'sm822e' 'sa891s' 'sb703f'\n",
      " 'sb802m' 'sf808e' 'sa820b' 'sk745s' 'sf820a' 'si802u' 'sd818a' 'sa821b'\n",
      " 'si826v' 'sb831j' 'sg800b' 'sd701a' 'sf805r' 'sa719s' 'sd722a' 'si701v'\n",
      " 'sa816s' 'sb829f' 'sb711s' 'sf711s' 'sb804l' 'sd709b' 'si726u' 'sb801p'\n",
      " 'sd819h' 'si836u' 'si806f' 'sa822b' 'sl802a' 'sb831f' 'sk723s' 'sf804l'\n",
      " 'si712u' 'sb817h' 'sb708t' 'sf708t' 'sb820b' 'sa843s' 'sp836u' 'si803v'\n",
      " 'sb702k' 'sb802e' 'sl826e' 'sh803v' 'sk700l' 'sb705w' 'sk702f' 'sc716t'\n",
      " 'sb700a' 'sk803n' 'sd716h' 'sa832s' 'sc718t' 'sb800p' 'si804u' 'sd813h'\n",
      " 'sm704t' 'sb808j' 'sk749s' 'sl722e' 'sm814e' 'sb703d' 'sk805b' 'si701c'\n",
      " 'sa812f' 'sh822p' 'sb806t' 'sk722n' 'se711l' 'si822v' 'sa828s' 'sl810o'\n",
      " 'se803l' 'sd723v' 'sb723s' 'sl700e' 'sb714j' 'sl803l' 'sh824p' 'sa704s'\n",
      " 'se703l' 'sf716m' 'sc726l' 'sf702i' 'sa817b' 'sk812b' 'sg810b' 'si716u'\n",
      " 'sa823b' 'sm823e' 'sf808s' 'sc811t' 'si824v' 'sd712v' 'sf800d' 'sa815b'\n",
      " 'sf814p' 'sf801e' 'sd710v' 'sb816m' 'sk738s' 'sb823m' 'sa800f' 'sa857s'\n",
      " 'sk810s' 'sb728f' 'sf800c' 'sf708a' 'sl702o' 'si811v' 'sb805b' 'sf808r'\n",
      " 'sk750s' 'sb822b' 'sf810m' 'sa721s' 'si828v' 'sl802v' 'sb803e' 'sg815u'\n",
      " 'sh808t' 'sb806h' 'sk736n' 'sf710b' 'sg700b' 'sb837h' 'sb809m' 'sa813f'\n",
      " 'sd814h' 'sb704u' 'si714v' 'sk701t' 'sf826a' 'sd802h' 'sb834b' 'sb724s'\n",
      " 'sa837s' 'sb742s' 'sa844s' 'sb701e' 'sb804j' 'sb846m' 'sa814f' 'sk800a'\n",
      " 'se800m' 'sf801m' 'sf811a' 'sd724v' 'sk755s' 'sf709s' 'sd712a' 'sf806p'\n",
      " 'sc708t' 'sb805l' 'sf809a' 'sc721t' 'si718u' 'sd809v' 'sm701t' 'sa800b'\n",
      " 'sm804m' 'sb807s' 'sa884s' 'sa895s' 'sb711k' 'sb827m' 'sf722a' 'si834u'\n",
      " 'sb838m' 'sd705v' 'sb823b' 'sf703r' 'sd707h' 'sk811s' 'sc702t' 'sb741s'\n",
      " 'sb829j' 'si809v' 'sb844m' 'sb827t' 'sb824f' 'sa718s' 'sb713b' 'sa800m'\n",
      " 'sk703l' 'sf703b' 'sd727v' 'sd728v' 'sf821m' 'sg813b' 'sc700b' 'sb832b'\n",
      " 'sf712c' 'sb703w' 'sa804m' 'sg729b' 'sm815e' 'sd831h' 'sb805h' 'sc702b'\n",
      " 'sa707s' 'sk721s' 'sh706p' 'sa814b' 'si810u' 'sh809p' 'sa814s' 'sk725n'\n",
      " 'sb803f' 'sb802h' 'si835v' 'sb711b' 'sa825b' 'si704f' 'sb801k' 'sa807b'\n",
      " 'sb814j' 'sf802l' 'sd824h' 'sb802n' 'sl824e' 'sb700u' 'sb710s' 'sl704c'\n",
      " 'si804c' 'sk727n' 'si701l' 'sl834e' 'sa860s' 'sl709c' 'sg702u' 'sb813f'\n",
      " 'sl800o' 'sb801n' 'sa726s' 'sh833p' 'sb800n' 'sf805p' 'sf706m' 'sb701t'\n",
      " 'sm704n' 'sm708s']\n",
      "ACTUAL_SURGICAL_CODE_3\n",
      "[nan 'sm714n' 'sk745s' 'sa702s' 'sf837a' 'sf701i' 'sg709b' 'sa815b'\n",
      " 'sf801a' 'sm700n' 'sg700u' 'NA_VALUE' 'sm724n' 'sf702c' 'sf831a' 'si802o'\n",
      " 'sk711s' 'si706f' 'sm700a' 'sa854s' 'sc721t' 'si843u' 'sm700i' 'sf721a'\n",
      " 'sb819j' 'sf833a' 'sk702s' 'si704c' 'sf706l' 'sm707n' 'si715u' 'sk744s'\n",
      " 'sf814a' 'sf800a' 'sg711k' 'sb709h' 'sf834a' 'sa701s' 'sb719s' 'sg710b'\n",
      " 'sa715s' 'sf700e' 'sf838a' 'si806c' 'sd704v' 'si700u' 'sf700i' 'sa865s'\n",
      " 'sa801b' 'sa812b' 'sg800u' 'sg711b' 'sg705b' 'sg718b' 'sf827a' 'sg714b'\n",
      " 'sk759e' 'sk723n' 'sa811s' 'sf701c' 'si806o' 'sf710c' 'sf701b' 'sm708e'\n",
      " 'sl704r' 'sk737n' 'sf849a' 'si701o' 'sa712b' 'sb745j' 'sd722v' 'si725u'\n",
      " 'sf808a' 'sa890s' 'sg821u' 'sf706b' 'sa824s' 'si808c' 'sg709u' 'sg716b'\n",
      " 'sm711s' 'sg726k' 'sk703n' 'sk703s' 'sm707e' 'sk712s' 'sf704s' 'sf835a'\n",
      " 'sm715n' 'sb738s' 'sa851s' 'sc704b' 'sk704s' 'sk731s' 'sf841a' 'si705c'\n",
      " 'si705f' 'sh805t' 'sa718s' 'sk733n' 'sb802k' 'sf704c' 'sf711b' 'sb829j'\n",
      " 'si838u' 'sf819a' 'sa842s' 'sf836a' 'sa711b' 'sb701k' 'sb707s' 'sg813b'\n",
      " 'si823v' 'sk705s' 'sb724s' 'sg713b' 'sm713n' 'sa803s' 'sc806t' 'sd809v'\n",
      " 'sb806k' 'sb822b' 'si803o' 'sm707s' 'sb800k' 'se800l' 'sm704s' 'sb702w'\n",
      " 'sa805s' 'sd811v' 'sa711s' 'si807f' 'sk715s' 'sb805j' 'sk735s' 'sk749s'\n",
      " 'sb834b' 'sc703b' 'sf804l' 'sd718a' 'sk701n' 'sk738n' 'sd726a' 'si807u'\n",
      " 'sk716s' 'sm705t' 'si809v' 'sm701t' 'sf700c' 'sg812u' 'si700o' 'sm715s'\n",
      " 'si842u' 'sb835f' 'si816u' 'sa829s' 'si809u' 'sb722s' 'sd808v' 'sf840a'\n",
      " 'sh801s' 'sb825b' 'sk805b' 'sa813f' 'sa870s' 'sb700l' 'sg701k' 'sb803a'\n",
      " 'sb709t' 'si805c' 'sb737s' 'sa852s' 'si720v' 'sd811h' 'sa840s' 'sm714s'\n",
      " 'sf823a' 'si709u' 'sk732n' 'si700l' 'sm706s' 'sm703l' 'sb727f' 'sd720v'\n",
      " 'sg700p' 'sa814b' 'sa716s' 'sm702s' 'sa826b' 'sc807t' 'sb705a' 'sb717j'\n",
      " 'sa710b' 'sb732f' 'sb808k' 'sb708h' 'sk730n' 'sa860s' 'sc817t' 'sb700w'\n",
      " 'si807c' 'sk728n' 'sd815h' 'sf707i' 'sf824m' 'sb832f' 'sg802b' 'sh809p'\n",
      " 'sa800s' 'sb806j' 'sb720s' 'sg727k' 'sk706s' 'sc808t' 'sb801b' 'sh802v'\n",
      " 'sf705b' 'sh808p' 'sd804a' 'sa827b' 'sa708b' 'si811u' 'si803c' 'sg808u'\n",
      " 'sb801t' 'sh833p' 'sf706g' 'sl808l' 'sm703e' 'sk733s' 'sd812h' 'sa721s'\n",
      " 'sb808m' 'sa841s' 'sb707k' 'sh835p' 'sm831e' 'sm701m' 'sb702e' 'sf801g'\n",
      " 'sf707t' 'sf842a' 'sk701t' 'sa700t' 'sd713v' 'sb826j' 'sm836e' 'sc719t'\n",
      " 'sf718b' 'sb809b' 'sg707u' 'sd714h' 'sa823s' 'sb700h' 'sd717v' 'sb845m'\n",
      " 'sb800j' 'sd720a' 'si717u' 'si809f' 'sb817b' 'sa707s' 'sf803b' 'sh803v'\n",
      " 'sd804v' 'sd728a' 'sh803s' 'sk715n' 'sa853s' 'sk806b' 'sf712c' 'sl700v'\n",
      " 'sk713s' 'sa858s' 'sk710s' 'sl705r' 'sd706b' 'sa868s' 'sg823u' 'sb809t'\n",
      " 'sm716l' 'sa883s' 'sb814t' 'si707c' 'sb739s' 'sl809o' 'sd810a' 'sf704e'\n",
      " 'sm827e' 'sm832e' 'sd813h' 'sa808b' 'sm720n' 'sc802l' 'sl828e' 'se801m'\n",
      " 'sl802v' 'sb810b' 'sl802a' 'sb822h' 'sb736s' 'sa848s' 'sf844a' 'sk742n'\n",
      " 'sb705e' 'sb740s' 'sk731n' 'sf806m' 'sb802n' 'sd800b' 'si810c' 'sk735n'\n",
      " 'sc720t' 'sf846a' 'sb805b' 'sb805k' 'sd725a' 'sd817a' 'sk704a' 'sf711s'\n",
      " 'sk732s' 'sl700r' 'sf802b' 'sb723s' 'sb713s' 'sa899s' 'si708u' 'sc800t'\n",
      " 'si812v' 'sb717s' 'sf704b' 'sa894s' 'sk717n' 'sl723e' 'sb808b' 'sk729n'\n",
      " 'sf807t' 'sc702b' 'sk736n' 'sf720a' 'sa804m' 'sb801l' 'sk739n' 'sd802h'\n",
      " 'sb702j' 'sb703l' 'sb712k' 'sa814f' 'sb746a' 'sg704u' 'sf810a' 'sb830j'\n",
      " 'sh802s' 'si804f' 'sa707b' 'si707u' 'sk818b' 'sk717s' 'sf723a' 'sc715t'\n",
      " 'sb816t' 'sc813t' 'sb801a' 'sk812b' 'sg807u' 'sb804l' 'sf803c' 'sd820h'\n",
      " 'sd803h' 'sb801r' 'sa809b' 'sa822b' 'sd712v' 'sl718e' 'sg704k' 'sf704i'\n",
      " 'sl801r' 'sf826a' 'sb803n' 'sk718s' 'sb819h' 'si822v' 'sh809t' 'sb809j'\n",
      " 'sf705c' 'se808l' 'sf708a' 'sa702b' 'sb705k' 'si803v' 'sb715k' 'sb807t'\n",
      " 'sd712h' 'sb803e' 'sf706a' 'sa824b' 'sf705i' 'sa844s' 'sa821s' 'si820v'\n",
      " 'sm823e' 'si801u' 'sm709s' 'sf708b' 'sb818t' 'sb728f' 'sf807e' 'si807o'\n",
      " 'sk734n' 'si716u' 'sf802i' 'sf813m' 'sf814l' 'sa831s' 'sl800a' 'sf810s'\n",
      " 'sm716s' 'sf707a' 'sa704s' 'sk714s' 'sf717b' 'si812c' 'si808f' 'sm700m'\n",
      " 'sb802b' 'sm712n' 'sa893s' 'se701l' 'sb805a' 'sd809h' 'sb702a' 'sk700n'\n",
      " 'sd727v' 'sb822t' 'sf701e' 'si811c' 'sb823b' 'sh706p' 'sb811t' 'sb805t'\n",
      " 'sk726s' 'sf800i' 'sa704b' 'sa805m' 'sb741s' 'sf704g' 'sl702o' 'sf808e'\n",
      " 'sb814f' 'sf709s' 'sg706b' 'sf815l' 'sd731h' 'sm708s' 'sk722n' 'sa839s'\n",
      " 'sd740h' 'sg703k' 'si810o' 'sb700s' 'sa812s' 'sl801v' 'sf703l' 'sa838s'\n",
      " 'se708l' 'sd706a' 'sa825b' 'sc801l' 'sa820b' 'se803l' 'sa828s' 'sa843s'\n",
      " 'sb821b' 'si827v' 'sg808b' 'sk700c' 'sf806r' 'sk812n' 'sb700e' 'sc701t'\n",
      " 'si819u' 'sb829f' 'sb805l' 'sb801n' 'sc700t' 'sb802u' 'sa859s' 'sf832a'\n",
      " 'se702l' 'si835v' 'si819v' 'sl813l' 'sd708h' 'si813c' 'sf706m' 'sm708n'\n",
      " 'sf809a']\n",
      "ACTUAL_DIAGNOSIS_CODE\n",
      "['k6350' 'k229' 'k297' ... 'j448' 'm7958' 'j370']\n",
      "INST\n",
      "['ghl' 'meh' 'pnh' 'peh' 'PNH' 'GHL' 'MEH' 'PEH']\n",
      "ETBS_ICU_HDU_LOS\n",
      "['MISSING' nan '1' '2' '3' '4' 1.0 5.0 3.0 2.0 4.0 7.0 9.0]\n",
      "ETBS_MOVE_TYPE\n",
      "['ds' 'pd' 'ma' 'in' 'pi' 'MB' 'MA' 'IN' 'mb' 'ea' 'eb']\n",
      "ETBS_TOSP_1\n",
      "['sf710c' 'sf700i' 'sf701i' ... 'sl804c' 'sf817m' 'sa832s']\n",
      "ETBS_TOSP_2\n",
      "[nan 'sf702c' 'sf701i' 'sf704c' 'sk759e' 'sm724n' 'si843u' 'sb745j'\n",
      " 'sg700u' 'sh802v' 'sb734s' 'sf836a' 'sd811h' 'sm700n' 'sa870s' 'sm707t'\n",
      " 'sd717v' ' ' 'SF702C' 'SM724N' 'SM839M' 'sg716b' 'sm714n' 'sm700i'\n",
      " 'si701o' 'sb806j' 'sm707s' 'si725u' 'sk733n' 'sm700a' 'SM714N' 'sa716s'\n",
      " 'sb825j' 'sm724m' 'sl847e' 'si813c' 'sb700h' 'sb808k' 'si705c' 'sb738s'\n",
      " 'sb711s' 'sf706l' 'sm712n' 'sk703c' 'sl814l' 'sd712h' 'sf814a' 'sb746a'\n",
      " 'sl801i' 'si810c' 'si807u' 'sb806b' 'sk744s' 'sa812b' 'sb816t' 'sa701s'\n",
      " 'sf701a' 'sb708s' 'sb720s' 'sj804t' 'SM708E' 'sa841s' 'si700v' 'sb808b'\n",
      " 'sm715s' 'sf841a' 'si803c' 'sg709b' 'si704c' 'sl811l' 'sb700w' 'sd707b'\n",
      " 'se707l' 'SD811H' 'si700l' 'sk705s' 'sl815l' 'sb705a' 'sa804m' 'sb800k'\n",
      " 'sk723n' 'sg713b' 'sa715s' 'sb702a' 'sm704s' 'SE707L' 'sa714s' 'sb801u'\n",
      " 'sm720n' 'si700o' 'sa869s' 'sb819h' 'sg727k' 'sf807e' 'sg718b' 'sf835a'\n",
      " 'sm705t' 'sf837a' 'sg711b' 'sg717b' 'sb700s' 'sa824b' 'sa829s' 'sa823b'\n",
      " 'si842u' 'sf710c' 'sb819j' 'sa712b' 'sl809l' 'si812u' 'sf700c' 'SF836A'\n",
      " 'sm705s' 'sb707s' 'si800o' 'sk703s' 'sg700p' 'si803o' 'SB816M' 'sc705b'\n",
      " 'sg701u' 'sb800b' 'sa828b' 'si805c' 'sm708e' 'sk806b' 'sk737n' 'sa815s'\n",
      " 'sh805v' 'sg707u' 'sl700v' 'sb730h' 'sg731b' 'sh806t' 'sg802b' 'sj802t'\n",
      " 'sa707b' 'sb800t' 'sm711s' 'sk712s' 'sb811t' 'se701l' 'si802c' 'sk705n'\n",
      " 'si704u' 'sb703k' 'sg709u' 'sf800a' 'sg713k' 'si808f' 'sa702s' 'sk732n'\n",
      " 'sl846e' 'sk730n' 'sb709h' 'sf809r' 'sf701c' 'se800l' 'se808l' 'sb819b'\n",
      " 'sl710e' 'sb709s' 'sa702b' 'sg831u' 'sk702s' 'sa709b' 'sk716s' 'sb826b'\n",
      " 'sd713h' 'sf833a' 'sh803s' 'sa711s' 'sa852s' 'sb801b' 'sb820t' 'sb700p'\n",
      " 'sb726f' 'sm830e' 'sb801c' 'se801m' 'si700u' 'sl801l' 'sb819k' 'sb803c'\n",
      " 'si834u' 'sb712k' 'sd808v' 'sb830j' 'se700l' 'sf700i' 'sf804t' 'sa840s'\n",
      " 'sf849a' 'sb801s' 'sf831a' 'sk732s' 'sl801v' 'sb811j' 'sm713n' 'sf801g'\n",
      " 'sf805r' 'sf834a' 'sm703t' 'sd804v' 'sf720a' 'sl802v' 'si822u' 'sk728n'\n",
      " 'sb822h' 'sl805r' 'se802l' 'sm712s' 'si836u' 'sk743s' 'sg812u' 'sb702w'\n",
      " 'sk718s' 'sf707l' 'sb833j' 'sa864s' 'si806c' 'sb803n' 'sl705c' 'si807f'\n",
      " 'sk711s' 'sb805j' 'sf703c' 'sa712s' 'sl724e' 'sb723f' 'sb704h' 'sd809h'\n",
      " 'sb817b' 'sb715k' 'si816u' 'sb825b' 'sf717b' 'sa823s' 'sa704b' 'sg800u'\n",
      " 'si715u' 'sd722a' 'sm701t' 'sl803l' 'sb708h' 'sg714b' 'sm027e' 'sf801a'\n",
      " 'si706f' 'sd710v' 'sh808p' 'sb802b' 'sh803v' 'sm723n' 'sa811s' 'si705f'\n",
      " 'sf810a' 'sk811s' 'sd726v' 'sb800j' 'sf838a' 'sf708b' 'sf723a' 'si726u'\n",
      " 'sa812s' 'sd714v' 'sm831e' 'sb805k' 'sa831s' 'sd720a' 'sm716l' 'sm703n'\n",
      " 'sg826u' 'sa898s' 'sl803c' 'si709u' 'sg807u' 'si707c' 'si708u' 'sl704r'\n",
      " 'sb719s' 'sk731n' 'sf846a' 'sa813b' 'sb801r' 'sl807l' 'sb803b' 'sb826j'\n",
      " 'sb803h' 'sk731s' 'sm707n' 'sb737s' 'sb712s' 'sf823a' 'sf802c' 'sf819a'\n",
      " 'sf711c' 'sa850s' 'si823v' 'si806o' 'sa706b' 'sf809t' 'sl813l' 'sb801l'\n",
      " 'sf702a' 'sb736s' 'sa816s' 'sa700t' 'sa801b' 'sa854s' 'sd706b' 'sb811s'\n",
      " 'sf702s' 'sl808l' 'sb704k' 'sa711b' 'sa827b' 'sa710b' 'sl803e' 'sl810e'\n",
      " 'se713l' 'sg702p' 'si712u' 'sa828s' 'sb732f' 'sh808t' 'sm703e' 'sb810t'\n",
      " 'sd704v' 'sk704s' 'sb813f' 'sb804a' 'sb815j' 'sb704b' 'sa803s' 'sa801s'\n",
      " 'sd810h' 'sg712u' 'sm707e' 'sf707b' 'sf704i' 'sg705b' 'sb709t' 'sh809p'\n",
      " 'sh805t' 'si724u' 'sm714s' 'sl818e' 'sh804s' 'sl800a' 'sd726a' 'sb803a'\n",
      " 'si705u' 'sg802k' 'si804f' 'sf806m' 'sf800s' 'sh835p' 'sk717n' 'sb708t'\n",
      " 'sb716h' 'si812v' 'sf814p' 'sa817b' 'sb802h' 'sm815e' 'sj803t' 'si833u'\n",
      " 'sf702l' 'sg823u' 'sb710s' 'sa800f' 'sk715s' 'sb809b' 'si815v' 'sb802t'\n",
      " 'sf705c' 'sb707k' 'sf703i' 'sk734n' 'sa721s' 'sa853s' 'si810u' 'si828v'\n",
      " 'sb702e' 'si704v' 'sf821m' 'sc800t' 'sm715n' 'sb804h' 'sb834b' 'sl800r'\n",
      " 'sm836e' 'sd713v' 'sa842s' 'si802o' 'sb819t' 'si713u' 'sb701l' 'sa839s'\n",
      " 'sb802c' 'sf718b' 'sd807a' 'si703u' 'sk701n' 'sa838s' 'sl804r' 'sf840a'\n",
      " 'sl705r' 'sb707w' 'sf802a' 'sf832a' 'sg704u' 'sl714e' 'sd816v' 'sf001y'\n",
      " 'se805k' 'sa708b' 'sf830a' 'sb700l' 'sm703s' 'sa701i' 'sa800s' 'sc702b'\n",
      " 'sb820s' 'sf827a' 's' 'sf800l' 'sk713s' 'sk742s' 'se806l' 'si815u'\n",
      " 'sf702' 'sb832f' 'si702v' 'se805l' 'sf842a' 'sf414a' 'si710v' 'sl706e'\n",
      " 'sd805v' 'sl819l' 'sf800c' 'sm700l' 'sg821u' 'si805o' 'sb729f' 'sb727f'\n",
      " 'sb723s' 'sm832e' 'sb818j' 'sd804a' 'sb803t' 'sf706g' 'sa822b' 'sa890s'\n",
      " 'sb701k' 'sb814f' 'sb802u' '3' 'sb704u' 'sf708c' 'sm70oi' 'sc703b'\n",
      " 'sf102y' 'sf722a' 'sl708l' 'sh706p' 'sf714p' 'sb713s' 'si812c' 'si809u'\n",
      " 'sk724s' 'sb705e' 'si802u' 'sf808a' 'sa805s' 'sm811e' 'sf701y' 'sf700d'\n",
      " 'sg801u' 'si820u' 'sb816h' 'sk725s' 'sm822e' 'sa893s' 'si716u' 'sf816t'\n",
      " 'si013c' 'sb813t' 'si720u' 'si805f' 'sd817a' 'sf844a' 'sa868s' 'sg702u'\n",
      " 'sm802e' 'sf721a' 'sf701b' 'sd721v' 'sd715h' 'sa719s' 'sm706s' 'si819u'\n",
      " 'sa727s' 'sb726s' 'sf709s' 'sb733s' 'sf701d' 'sk739n' 'sj701t' 'sb817h'\n",
      " 'sf708t' 'sl817e' 'sk718n' 'sb805b' 'sa863s' 'sb702h' 'sh834p' 'sb812t'\n",
      " 'sk715n' 'sa825s' 'sk700l' 'sg729n' 'sf807t' 'sb711k' 'sa881s' 'sb805a'\n",
      " 'sd712v' 'sd014h' 'sb741s' 'sd731h' 'sb840h' 'sb706e' 'si804u' 'sb700a'\n",
      " 'si702c' 'sb703l' 'sd739h' 'sf710g' 'sf803c' 'sd015h' 'sh802s' 'sg710b'\n",
      " 'sa814f' 'sm711l' 'sl802r' 'sk727n' 'sh822p' 'sb806t' 's745j' 'sk738s'\n",
      " 'si785u' 'se702l' 'sb812s' 'sm823e' 'sj700t' 'sl820e' 'si801c' 'si807o'\n",
      " 'si720v' 'sh830p' 'si701i' 'sf820a' 'sd706v' 'sf806c' 'si707u' 'sf706b'\n",
      " 'sb805t' 'sb728f' 'sb711f' 'sd821a' 'sb801e' 'sh823p' 'sb820b' 'sa865s'\n",
      " 'sa895s' 'sg813u' 'si811v' 'sf711l' 'sb816s' 'sd708h' 'sk737s' 'sa858s'\n",
      " 'si703c' 'sm705n' 'sb808t' 'sk745s' 'sb724h' 'sl825e' 'si819v' 'si809a'\n",
      " 'sf824m' 'si714v' 'sa813s' 'sf704s' 'sf707c' 'sl802i' 'sb801a' 'sb729s'\n",
      " 'sb705s' 'sl759e' 'sd721a' 'sb839s' 'sb804j' 'sa251s' 'sk733s' 'si701c'\n",
      " 'sb868s' 'sk729n' 'sg700b' 'sl824e' 'sm701e' 'sf812t' 'sf700e' 'sb721f'\n",
      " 'sd727v' 'sk722n' 'sf815l' 'si811c' 'sm839m' 'sf823m' 'sf02c' 'sk735n'\n",
      " 'sc704b' 'sa705b' 'sd809v' 'sa713s' 'sf711b' 'sb847m' 'sd728v' 'sn714s'\n",
      " 'sb801k' 'sm813e' 'sl723e' 'sb802n' 'sb815t' 'sl704c' 'si822v' 'sf706i'\n",
      " 'sb700k' 'sa867s' 'sb700o' 'sp834u' 'sl800c' 'sb834h' 'sg726k' 'si824v'\n",
      " 'sa813f']\n",
      "ETBS_TOSP_3\n",
      "[nan 'sm714n' ' ' 'SM714N' 'sg700u' 'sf836a' 'si706f' 'si807u' 'sm705t'\n",
      " 'sm711s' 'sb819j' 'sk702s' 'sm707n' 'sk744s' 'sb709h' 'sf834a' 'sf701s'\n",
      " 'sm700a' 'sf838a' 'sf701i' 'se804l' 'si843u' 'sm700l' 'sa865s' 'SM700N'\n",
      " 'sb818j' 'sm715n' 'sf833a' 'sa829s' 'sm700n' 'sm708e' 'si812u' 'sg718b'\n",
      " 'sm700i' 'sm704s' 'sg821u' 'sm724n' 'sf837a' 'sa824s' 'sm706s' 'sg709b'\n",
      " 'sf835a' 'sm701t' 'sk733n' 'sk705s' 'sf801a' 'sk704s' 'sk731s' 'si705f'\n",
      " 'sm707s' 'sa718s' 'sa716s' 'sb802k' 'sf704c' 'sb800j' 'sa813b' 'sa712b'\n",
      " 'sf705c' 'sf702c' 'sf708b' 'sb708s' 'si806c' 'sb808k' 'sb724s' 'si800o'\n",
      " 'sg714b' 'sm714s' 'sa701s' 'si800f' 'sa705b' 'sk743s' 'sf718b' 'sc704b'\n",
      " 'sf843a' 'sf831a' 'sm713n' 'sk738n' 'si725u' 'sd726d' 'sf846a' 'sg716b'\n",
      " 'sb825b' 'sd704v' 'si700u' 'sk712s' 'sg812u' 'sb805j' 'sa711s' 'sf820a'\n",
      " 'si700o' 'si704c' 'sc703b' 'sb726s' 'sb811j' 'sm832e' 'sb705a' 'sf703a'\n",
      " 'sf813a' 'sk737n' 'sb737s' 'sm701p' 'sh823p' 'si703c' 'sa852s' 'sg710b'\n",
      " 'sh835p' 'sk732n' 'sa801b' 'sb801t' 'sb712b' 'sf700i' 'sg700p' 'si700l'\n",
      " 'sf702i' 'si805c' 'sm701m' 'sb703e' 'sg713b' 'sk727n' 'sf817m' 'sg808b'\n",
      " 'sa823s' 'sk759e' 'sd808v' 'sk731n' 'sm831e' 'sf717b' 'sd804v' 'sm716l'\n",
      " 'si842u' 'sb720s' 'sf819a' 'sa800s' 'sf827a' 'sk715s' 'sb745j' 'si809u'\n",
      " 'sb832f' 'sf809t' 'sg759e' 'sd717v' 'sk703s' 'sf841a' 'sb801b' 'sb806j'\n",
      " 'si805o' 'sm709s' 'sm715s' 'sm720n' 'sa704b' 'si707u' 'sf713p' 'sa863s'\n",
      " 'sg706b' 'sb802n' 'sk735n' 'sm705n' 'si808f' 'sa821b' 'sg711b' 'si709u'\n",
      " 'se802l' 'sb738s' 'sd809v' 'si812v' 'si806f' 'sa894s' 'sf800b' 'sd714v'\n",
      " 'sf700c' 'sf834c' 'sg702s' 'sc702b' 'si707c' 'sf110l' 'si810c' 'sf840a'\n",
      " 'sk717s' 'sb700l' 'si702c' 'sa814f' 'sg704u' 'sh803s' 'sa823b' 'sc801t'\n",
      " 'sg800u' 'sa811s' 'sa868s' 'sa825s' 'si705c' 'sf710c' 'sg823u' 'sb700e'\n",
      " 'si816v' 'sa824b' 'sl700r' 'sg729b' 'sb702a' 'sf832a' 'sb715k' 'sa890s'\n",
      " 'sg727k' 'si803o' 'se801m' 'sl700v' 'sf809r' 'sa711b' 'sg702p' 'sg725k'\n",
      " 'sk716s' 'sb803n' 'sl701l' 'sk734n' 'sg726k' 'sg709u' 'sa828s' 'sf701b'\n",
      " 'sm702s' 'si825u' 'sb808b' 'sa702s' 'sf709b' 'sm712n' 'si801u' 'sa853s'\n",
      " 'sf720a' 'sb701n' 'si819v']\n",
      "ETBS_ICD10_1\n",
      "[nan 'i209' 'c119' ... 'z542' 't185' 't84']\n",
      "ETBS_ICD10_2\n",
      "[nan 'r51' 'r104' 'n133' 's800' 'r509' 'i712' 'r074' 'm2557' 'r42' '2500'\n",
      " 'r208' '9249' 'k297' 'g409' 'c55' 'j09' 'h259' 'd649' 'l729' 'j101'\n",
      " 'n809' 'r060' 'm542' 'r53' 'r05' 'c159' 'n189' 'h650' 'j90' '7865' 'c56'\n",
      " 'r10' 'c509' 'k529' 'm2556' 'e079' 'r749' 'g439' '4660' 'r11' 'h814'\n",
      " 's903' '2512' 's042' '8070' '4659' '1749' 'i10' 'm4797' 'n390' 's509'\n",
      " 'j069' 'j449' 'j22' 'j11' 'l239' 'f329' 'i48' 'k35' 'i629' 'm7961' 'a099'\n",
      " 'c499' 'o091' '5733' '7806' 'j459' 'm232' 'r030' 'm4699' 'r103' 'i849'\n",
      " 'i509' 'm2555' 'r194' 'm4799' 'n80' 's7310' 'e149' 'm54' 'k625' '7870'\n",
      " 'r223' 's009' '7804' 'm179' 'k046' '389' '5580' 'k219' '4871' 's202'\n",
      " '7890' 's0601' 'a08' 'i50' 'r19' 'r09' '7222' 'm2551' 'h669' 'n10'\n",
      " 'm4786' 'k227' 'n50' 'j039' 'l039' '5119' 'l509' 'a419' '7860' 'j329'\n",
      " 'c220' 'j019' 'j05' 'e232' 'j189' 'm659' 'a090' 'm545' 'i619' 'j029'\n",
      " 'k802' 'r21' 's628' '7245' 'c349' 'h811' 'f33' 'g523' 'c259' 'k52' 'c61'\n",
      " '4619' 'j209' 'j350' 'p834' 'z940' '4789' 'j40' 's602' 'm790' 's832'\n",
      " 'r070' '4109' 'l0311' 'k30' 'g501' 'j050' 'j45' 'r50' 'j06' 'c119' '7803'\n",
      " 'd696' '5901' 'r55' 's300' '7840' 'n92' 's7200' 'j47' 'r03' 'k566' 'r56'\n",
      " 'r062' 'r07' 'h401' 'm791' 's018' 'l50' 'm7966' 'm10' 's01' 'm2418' '88'\n",
      " 'c23' 's731' 'i313' 'b16' 'g039' 's099' 'j91' '5640' 'r06' 'k766' 't78'\n",
      " 'z95' 'm4782' 's0633' 'n17' 'e11' 'l309' 's136' 'i259' 'i959' '5355'\n",
      " 'i119' 'm5499' 's868' 'n40' 'e876' 'r31' 'e10' 'e871' 'g4732' 'm0769'\n",
      " 'c189' 'r102' 'm7967' 'k590' 'h334' 't1301' 'a90' 's434' 'k5730' 'j01'\n",
      " '5908' '7862' 'j02' 'n39' 'k21' 'b338' 'n920' 'h10' '2761' '2859' 'j00'\n",
      " 'l0301' 's5220' '2765' 'k5731' 'k291' 'j439' 's32' 'i891' 'm1396' 'r560'\n",
      " '7847' 'l539' 'k6350' 'k295' 's400' '7295' 'a415' '5770' 'n939' 'a09'\n",
      " 'r298' 's9348' 'e87' 's934' 'j014' 'c67' 'f419' 'g473' 'k81' '8730'\n",
      " '9231' 'g43' 's0188' 'j180' 's999' 'r630' 'c18' 'd125' 'm25']\n",
      "ETBS_ICD10_3\n",
      "[nan 'r508' 's635' 'i842' 'r11' 'h46' 'i10' 'r224' 'c221' 'm7967' 'j11'\n",
      " 'r291' 'm750' 'k297' 'r10' 's3283' 'm545' '7821' 's903' 'k92' 'h813'\n",
      " 'j348' 'r31' '7804' 'k746' 'i259' 'a099' 'k603' 'p920' 's300' '7870'\n",
      " 'j189' 'r53' 'j151' 'j20' 'j343' 'j45' 'r195']\n",
      "CASE_TYPE\n",
      "['inpatient' nan]\n",
      "ADMISSION_TYPE\n",
      "['ds' 'pd' 'ma' 'in' 'pi' nan 'mb' 'ea' 'eb']\n",
      "TREATMENT_CATEGORY\n",
      "['endo' 'dw2b' 'dc' 'dw1b' 'sgl' 'dc1' 'ni2b' '4bd' '2bd' 'a1' nan 'hdu'\n",
      " 'sgln' 'vip2' 'ni1' 'dc4b' 'dc2b' 'tusgl' 'exe' 'icu' 'nursp' 'ryl1'\n",
      " 'sup' 'vip' 'argon' 'dlx' 'eye' 'yag' '2bdw14' 'sgls' 'hbc' 'ni3' 'dc1b'\n",
      " 'ryl3' 'edlx' 'dal' 'vip3' 'glen' 'iod' 'daf' 'ryl' 'sglw14' 'orc' 'ni2a'\n",
      " 'si35' 'tangln' 'dem' 'tu2bd' 'nur1' 'nassim' 'rylll' 'ryl2' 'vip4'\n",
      " 'wbaby' 'vip1' 'ryll']\n",
      "REFERRAL_TYPE\n",
      "['mc' 'cc' 'ma' 'ae' 'oc' 'oh' nan 'ab' 'm2' 'mr' 'cm' 'oo' 'zc' 'ms' 'zi'\n",
      " 'mw' 'or' 'm' 'hs' 'mi' 'sm' 'm1' 'mk' 'zw' 'ri' 'zs' 'zn' 'cp' 'ah' 'za'\n",
      " 'dc' 'zj' 'pc' 'zg']\n",
      "DEPT_OU\n",
      "['endo-g' 'endoc-m' 'daywd-g' 'daywd-m' 'endoc-n' 'ward08-n' 'sur-meh'\n",
      " 'w9-m' '9wpaed-g' 'ward02-n' 'ward07-n' 'haem-meh' 'nicu-e' 'ward3a-e'\n",
      " 'ward12-n' '10wsur-g' 'w4c-m' '8wsur-g' 'ward4a-e' '8emed-g' 'transt-m'\n",
      " 'w8-m' 'ward6p-n' 'transt-n' 'transt-g' 'ward06-n' 'paed-meh' '7wmed-g'\n",
      " 'ward4p-e' 'med-meh' 'daywd-n' 'ward09-n' 'ward11-n' 'w4a-m' '6wmat-g'\n",
      " 'ward10-n' 'w4b-m' 'w5c-m' 'lw-m' '5emat-g' 'lw-e' '9eenty-g' nan 'w7-m'\n",
      " 'icu-g' 'w4d-m' 'tugen-g' 'ward4b-e' 'obs-meh' 'ds-n' 'rehm-meh'\n",
      " 'penths-n' 'nrsp4a-m' 'w5b-m' 'tuicu-g' 'wcam-m' 'icu-m' 'lw-g' 'icu3c-n'\n",
      " 'w5a-m' 'w5e-m' 'w5d-m' '5enur-g' 'w6-m' 'child-m' 'nicu-n' 'hdu-m'\n",
      " 'w10-m' 'nrsp5e-g' 'nicu-m' 'nrsp09-n' 'transt-e' 'nrsp4b-m' 'nicu2b-g'\n",
      " '6wnur-g' 'icu-e' 'nicu2a-g' 'sur-ghl' 'nicu3-g' 'gammad-n' 'ward04-n'\n",
      " 'dw-meh' 'nur-e' 'ward4h-n' 'nrsp8e-g' '8enur-g' '6emed-g' 'a&e-n'\n",
      " 'med-pnh' 'wbb4a-m' 'wbb6w-g' 'obs-pnh' 'a&e-m' 'icu-meh']\n",
      "ADMITTING_SMC_NUMBER\n",
      "[nan '02067b' '07559j' ... '03940c' '01014f' '15668z']\n",
      "ATTENDING_SMC_NUMBER\n",
      "[nan '02067b' '06004f' ... '04982d' '03940c' '01014f']\n",
      "REFERRAL_SMC_NUMBER\n",
      "[nan '02067b' '06298g' '13488j' '04192j' '03365j' '04177g' '09500a'\n",
      " '06985z' '07956a' '05471b' '03502e' '09439j' '04572a' '07283d' '03715z'\n",
      " '08047j' '08505g' '16342b' '08436j' '08000d' '05650b' '03974h' '06874h'\n",
      " '08359c' '06506d' '07877h' '00748z' '03723j' '06815b' '03181z' '05155a'\n",
      " '08455g' '03933j' '08423i' '05835a' '08377a' '06478e' '10052h' '03947j'\n",
      " '08053e' '07009b' '09421h' '06826h' '07559j' '14174g' '05921h' '05850e'\n",
      " '05793b' '00599a' '08087z' '07238i' '03575j' '07012b' '09161h' '10378j'\n",
      " '09503f' '08497b' '03239e' '09346g' '04810j' '06273a' '11711j' '00242i'\n",
      " '10037d' '02785e' '09006i' '06828d' '04512h' '06674e' '03494j' '08881a'\n",
      " '05481z' '01235a' '10331d' '10054d' '01556c' '03878d' '08492a' '07717h'\n",
      " '10180z' '05884z' '07338e' '04421j' '07864f' '06247b' '01602j' '05632d'\n",
      " '03503c' '06561g' '06990f' '08518i' '08493z' '11120a' '10041b' '06145z'\n",
      " '13076a' '11832z' '02235g' '06779b' '03000g' '10626g' '08923j' '01877e'\n",
      " '06566h' '07501i' '03044i' '01471j' '02631z' '08488c' '08921d' '08444a'\n",
      " '02444i' '06891h' '03266b' '08433f' 'gz007x' '04425c' '08604e' '11438c'\n",
      " '04157b' '09417z' '06488b' '11798f' '05839d' '04151c' '03450i' '01092h'\n",
      " '02617d' '05476c' '04787b' '04309e' '03194a' '09003d' '08400z' '11358a'\n",
      " '03273e' '05834c' '05213b' '10687i' '05854h' '05487i' '06787c' '10607j'\n",
      " '08565j' '03028g' '03818j' '03015e' '02272a' '05125z' '06898e' '06810a'\n",
      " '07565e' '07149h' '08511a' '05785a' '08984b' '06907h' '05728b' '03984e'\n",
      " '10787e' '06489j' '09675z' '05014h' '09488i' '09526e' '11346h' '02595z'\n",
      " '05683i' '09966z' '04006a' '05602b' '05534d' '07315f' '05597b' '19393c'\n",
      " '11521e' '01258j' '10011j' '11858c' '08432h' '07008d' '06204i' '04555a'\n",
      " '10089g' '07231a' '07951j' '02495c' '04878z' '06310z' '07190j' '08929z'\n",
      " '04096g' '13724c' '03190i' '03908z' '07949i' '09486b' '06182d' '02021d'\n",
      " '10092g' '60313i' '02677h' '19012h' '07222b' '03319g' '10132z' '15128i'\n",
      " '07058j' '05909i' '07971e' '10020z' '16540i' '01819h' '04159i' '03302b'\n",
      " '03654d' '11868j' '12313g' '03493b' '06936a' '02026e' '10209a' '05902a'\n",
      " '04163g' '01671c' '09945g' '05191h' '03486z' '11839g' '08706h' '02320e'\n",
      " '10986z' '09172c' '09389j' '01886d' '06205g' '10074i' '03506h' '02055i'\n",
      " '17292h' '03009j' '05905f' '06577c' '07558b' '00650e' '04890i' '03890c'\n",
      " '17247b' '06721j' '08691f' '10990h' '03247f' '04270f' '09518d' '03136d'\n",
      " '03529g' '12447h' '07183h' '07358z' '04563b' '14139i' '03701z' '08515d'\n",
      " '09029h' '06390h' '05620j' '02011g' '01337d' '06407f' '06852g' '05296e'\n",
      " '05906d' '07582e' '06533a' '06177h' '01587c' '04573z' '06797j' '03085f'\n",
      " '09000z' '10038b' '03254i' '07990a' '06773c' '06138g' '08827g' '05957i'\n",
      " '00055h' '05160h' '07499c' '12711f' '05556e' '08548j' '04994h' '12099e'\n",
      " '03930f' '01112f' '01190h' '13314j' '04807j' '00144i' '09984h' '01800g'\n",
      " '07543d' '06159z' '04493h' '11177e' '03979i' '06701f' '08769f' '03943h'\n",
      " '05220e' '06633h' '07161g' '02224a' '08936b' '03421e' '05584j' '01721c'\n",
      " '09630z' '01152e' '09659h' '06526i' '05140c' '09433a' '03510f' '04571c'\n",
      " '08532d' '03808c' '11799d' '06260z' '03051a' '04078i' '12489c' '04221h'\n",
      " '05461e' '05352z' '04495d' '03288c' '09754c' '04948d' '02651d' '11037z'\n",
      " '17011i' '10566z' '11650e' '09480c' '07652z' '04004e' '06569b' '07692i'\n",
      " '05157h' '07439z' '13513e' '07641d' '12909g' '05492e' '03660i' '09567b'\n",
      " '03010d' '08620g' '06995g' '04100i' '08980z' '07508f' '05107a' '03294h'\n",
      " '06902g' '02270e' '12199a' '07351b' '04519e' '21080c' '05192f' '09484f'\n",
      " '14221b' '08968j' '04236f' '07385g' '06825z' '08026h' '09771c' '06084d'\n",
      " '02848g' '00248h' '05801g' '10333j' '07716z' '02251i' '05130f' '04681g'\n",
      " '09469b' '03292a' '08268f' '06207c' '10681z' '05395c' '03934i' '04881z'\n",
      " '06568d' '06893d' '01950z' '10891z' '03311a' '03464i' '03381b' '09955d'\n",
      " '05085g' '08264c' '05025c' '11844c' '06149b' '08032b' '07392z' '10631c'\n",
      " '09453f' '05572g' '06840c' '04437g' '20592c' '00238j' '04023a' '08843i'\n",
      " '06843h' '09746b' '05574c' '03245z' '03024d' '01730b' '04562d' '10336e'\n",
      " '04475z' '10678z' '04499g' '03444d' '11788i' '04505e' '07614g' '09752g'\n",
      " '14357z' '06778d' '09396c' '10671b' '05879c' '06479c' '03695a' '07199d'\n",
      " '05919f' '09506j' '20640g' '07899i' '05106c' '00566e' '09014z' '08062d'\n",
      " '08908g' '02626c' '08476z' '02432e' '11022a' '05102j' '04946h' '00715c'\n",
      " '05523i' '10637b' '13801j' '02632h' '03281f' '07752f' '07989h' '04217z'\n",
      " '02862b' '02260h' '06867e' '09362i' '07170f' '01704c' '08703c' '02883e'\n",
      " '07578g' '03517c' '09707a' '09644z' '04430z' '03944f' '03066z' '07988z'\n",
      " '03255g' '11141d' '08988e' '08664i' '16371f' '03452e' '02706e' '06456d'\n",
      " '01612h' '12260b' '04941g' '01541e' '04185h' '05095d' '02865g' '05592a'\n",
      " '07980d' '08454i' '06128z' '07866b' '03696z' '06195f' '02648d' '05868h'\n",
      " '10722j' '06429g' '07198f' '09933c' '04782a' '02111c' '05880g' '02994g'\n",
      " '10033a' '07014i' '05522j' '03210g' '11183z' '04083e' '04570e' '04537c'\n",
      " '06830f' '13284e' '01916z' '03261a' '11864h' '08883h' '09458g' '14674i'\n",
      " '10797b' '08177i' '04150e' '03014g' '09464a' '03756g' '04876c' '14349i'\n",
      " '10654b' '03678a' '04825i' '13334e' '03964j' '04974c' '04534i' '16411i'\n",
      " '08043h' '11265h' '10463i' '08063b' '14350b' '03738i' '08934f' '02756a'\n",
      " '03924a' '08435b' '04989a' '14595e' '00507z' '05600f' '16477a' '09777b'\n",
      " '02491j' '02978e' '03343z' '11122h' '21537f' '13693z' '04173d' '09479z'\n",
      " '08882z' '07329f' '05607c' '02903c' '05548d' '06862d' '04832a' '10057i'\n",
      " '01292j' '05444e' '03362f' '10874z' '03048a' '04434b' '07237j' '05508e'\n",
      " '05197g' '02995e' '07084z' '04413z' '03278f' '08166c' '03208e' '08957e'\n",
      " '06586b' '02349c' '14424z' '08821h' '11128g' '60240z' '02880j' '21598h'\n",
      " '05819z' '04445h' '16437b' '05500z' '08016j' '10046c' '02696d' '05457g'\n",
      " '10721b' '07386e' '08998b' '07750z' '03366i' '07225g' '07617a' '01225d'\n",
      " '01017j' '07393h' '12492c' '02450c' '02331j' '07959f' '03321i' '11723d'\n",
      " '08188d' '03999c' '07275c' '04461z' '09738a' '03279d' '13342f' '04187d'\n",
      " '00788i' '03915b' '03588b' '03197f' '08417d' '09517f' '04503i' '09470f'\n",
      " '08771i' '03659e' '04798h' '21127c' '08898f' '06269c' '11771d' '05131d'\n",
      " '08368b' '04520i' '03901b' '09481a' '02549f' '07162e' '14401j' '02712z'\n",
      " '00669f' '09454d' '06903e' '06262f' '09501z' '08010a' '07955c' '08768h'\n",
      " '01752c' '10786g' '03866j' '00716a' '11879f' '03060j' '06588i' '04170z'\n",
      " '04406g' '04640z' '16732j' '05077f' '02674c' '04423g' '08124h' '04605a'\n",
      " '02132f' '05546h' '04164e' '08533b' '07328h' '10029c' '08891i' '04494f'\n",
      " '08055a' '07538h' '01506g' '15230g' '16256f' '03308a' '01362e' '10077c'\n",
      " '14192e' '03716h' '00156b' '08992c' '00917b' '18831z' '11140f' '05214j'\n",
      " '01900c' '15296z' '09383a' '07548e' '08426c' '00046i' '05707z' '01835z'\n",
      " '11190b' '03074j' '02453h' '10108g' '02852e' '09684i' '04453i' '10731z'\n",
      " '03550e' '05971d' '04544f' '10135d' '05895e' '11557f' '05815g' '01850c'\n",
      " '01778g' '20924d' '14004z' '03913f' '05495z' '08064j' '07435g' '07530b'\n",
      " '06055j' '05175f' '05349z' '08538c' '02348e' '01653e' '11909a' '04714g'\n",
      " '09452h' '21379i' '15458z' '00187b' '08425e' '06242a' '05170e' '08826i'\n",
      " '14102z' '12480z' '01968b' '06005d' '19592h' '19983d' '07150a' '03290e'\n",
      " '05558a' '05171c' '10886c' '09393i' '10071d' '05816e' '10685b' '06237e'\n",
      " '03470c' '01567i' '09980e' '12800g' '06070d' '61382g' '10587b' '02263b'\n",
      " '01791d' '09693h' '10063c' '07257e' '04969g' '04272b' '11222d' '03891a'\n",
      " '02334e' '09593a' '07731c' '09755a' '08020i' '00707b' '09001h' '21489b'\n",
      " '02336a' '07304j' '03184d' '07892a' '00628i' '03935g' '03896b' '09023i'\n",
      " '10019f' '10493j' '05527a' '03952g' '06847j' '08059d' '08986i' '07474h'\n",
      " '02914i' '07088b' '09386f' '10611i' '04012f' '12690z' '19290b' '08905b'\n",
      " '01060z' '10837e' '01481h' '11871j' '12712d' '14453c' '10070f' '03637d'\n",
      " '03036h' '06059c' '13775h' '21441h' '07202h' '06503z' '04546b' '03309z'\n",
      " '07763a' '01748e' '12604g' '08931a' '21575i' '07624d' '09408j' '02201b'\n",
      " '21050a' '03018z' '18667h' '00257g' '08363a' '05083j' '11877z' '19507c'\n",
      " '03957h' '05932c' '01132j' '00517g' '07191i' '04650g' '01150i' '09141c'\n",
      " '09748i' '21217b' '11551g' '04148c' '21315b' '07961h' '05552b' '03747h'\n",
      " '13268c' '13680h' '00378f' '05878e' '14726e' '03482g' '06258h' '07215z'\n",
      " '60724z' '02601h' '09271a' '07718f' '12896a' '13926b' '00132e' '02482a'\n",
      " '13207a' '05914e' '15985i' '06251j' '07143i' '08958c' '11097c' '10565a'\n",
      " '08695i' '08491c' '10030g' '08885d' '08033j' 'gs002x' '15766z' '21327f'\n",
      " '07985e' '12426e' '05562z' '18474h' '04924g' '10536h' '20790z' '09523j'\n",
      " '20711z' '14272g' '06544g' '11708j' '03573d' '10044g' '08441g' '06837c'\n",
      " '08125f' '04227g' '06551z' '03900d' '08835h' '08153a' '07618z' '03703f'\n",
      " '14355c' '08774b' '04253f' '02793f' '15919j' '04982d' '03940c' '15668z']\n",
      "ADM_CLASS_DISC\n",
      "[nan 'dr20' 'bca' 'dr25' 'cg10' 'zv12' 'rp05' 'em20' 'bca6' 'is10' 'ay10'\n",
      " 'bdo5' 'em10']\n",
      "GENDER\n",
      "['male' 'female' nan 'unknown']\n",
      "MARITAL_STATUS\n",
      "['marri' 'single' 'divrce' nan 'unknwn' 'widow' 'separ' 'nm']\n",
      "RELIGION\n",
      "[nan 'other' 'none' 'christian' 'roman catholic' 'buddhist' 'islam'\n",
      " 'hindu' 'taoist' 'sikhism' 'muslim' 'protestant' 'church of england'\n",
      " 'unitarian' 'methodist' 'punjabi' '9' 'javanese']\n",
      "NATIONALITY\n",
      "['singapore' 'japan' 'australia' 'indonesia' 'united kingdom'\n",
      " 'switzerland' 'egypt' 'south africa' 'philippines' 'malaysia' 'spain'\n",
      " 'germany' 'india' 'china' 'russian fed.' 'brazil' 'austria' 'canada'\n",
      " 'vietnam' 'myanmar' 'usa' 'hong kong' nan 'brunei daruss.' 'bangladesh'\n",
      " 'argentina' 'venezuela' 'france' 'taiwan' 'georgia' 'thailand' 'iran'\n",
      " 'laos' 'utd.arab emir.' 'cambodia' 'netherlands' 'morocco' 'sri lanka'\n",
      " 'south korea' 'pakistan' 'timor' 'denmark' 'italy' 'ireland'\n",
      " 'new zealand' 'israel' 'seychelles' 'kazakhstan' 'ukraine' 'uzbekistan'\n",
      " 'czech republic' 'sweden' 'mexico' 'unknown' 'st kitts&nevis' 'nepal'\n",
      " 'mauritius' 'portugal' 'belgium' 'romania' 'macau' 'bulgaria' 'mongolia'\n",
      " 'turkey' 'guam' 'maldives' 'algeria' 'north korea' 'singaporean'\n",
      " 'indonesian' 'filipino' 'brunei' 'british' 'malaysian' 'japanese'\n",
      " 'maldivian' 'burmese' 'greek' 'australian' 'chilean' 'american' 'french'\n",
      " 'kazakh' 'vietnamese' 'indian' 'pakistani' 'german' 'russian' 'dutch'\n",
      " 'bangladeshi' 'chinese' 'croatian' 'italian' 'spanish' 'slovakian' 'thai'\n",
      " 'danish' 'sri lankan' 'taiwanese' 'norwegian' 'canadian' 'mongolian'\n",
      " 'argentinian' 'ukrainian' 'slovenian' 'swiss' 'austrian' 'korean'\n",
      " 'unit.arab emir.' 'omani' 'irish' 'turkish' 'south african' 'portuguese'\n",
      " 'rumanian' 'belgian' 'cambodian' 'mauritian' 'hungarian' 'mexican'\n",
      " 'stateless' 'nepalese' 'seychellian' 'swedish' 'finnish' 'moldovan'\n",
      " 'israeli' 'latvian' 'venezuelan' 'brazilian' 'moroccan' 'lucian'\n",
      " 'colombian' 'palestine' 'egyptian' 'polish' 'maltese' 'bahraini' 'yemeni'\n",
      " 'saudi arabian' 'laotian' 'bulgarian' 'antiguan' 'kenyan' 'cameroonian'\n",
      " 'yugoslavian' 'f. st kitts/nev' 'ethiopian' 'azerbaijani' 'georgian'\n",
      " 'angolan' 'czech' 'nicaraguan' 'iranian' 'peruvian' 'lithuanian'\n",
      " 'kyrgyzstani' 'MISSING' 'sudanese' 'guinean' 'fijian' 'ghanian'\n",
      " 'paraguayan' 'grenadian' 'algerian' 'bhutanese' 'jordanian' 'qatari'\n",
      " 'ecuadorian' 'zimbabwean' 'lebanese' 'equatorial guin' 'serb/mont'\n",
      " 'kuwaiti' 'estonian' 'liechtenstein' 'samoan' 'luxembourgian'\n",
      " 'costa rican' 'armenian' 'belarusian' 'comoran' 'zambian' 'madagascan'\n",
      " 'ni-vanuatu' 'burkinabe' 'pap.new guinean' 'tanzanian' 'f. trinidad & t'\n",
      " 'swazi' 'solomonese' 'jamaican' 'cuban' 'tunisian' 'nigerian'\n",
      " 'uzbekistani' 'palestinian' 'cypriot' 'rwandan']\n",
      "RESID_CTY\n",
      "['singapore' 'indonesia' 'vietnam' 'myanmar' nan 'malaysia' 'thailand'\n",
      " 'india' 'bangladesh' 'laos' 'cambodia' 'hong kong' 'utd.arab emir.' 'usa'\n",
      " 'canada' 'sri lanka' 'pakistan' 'timor' 'china' 'united kingdom'\n",
      " 'philippines' 'brunei daruss.' 'russian fed.' 'seychelles' 'australia'\n",
      " 'sweden' 'kazakhstan' 'nepal' 'netherlands' 'macau' 'bulgaria'\n",
      " 'switzerland' 'japan' 'pap. new guinea' 'mongolia' 'mauritius' 'maldives'\n",
      " 'taiwan' 'oman' 'czech republic' 'east timor' 'germany' 'italy' 'france'\n",
      " 'spain' 'qatar' 'monaco' 'poland' 'south korea' 'unknown' 'bahrain'\n",
      " 'new zealand' 'fiji' 'denmark' 'south africa' 'turkmenistan' 'kenya'\n",
      " 'ethiopia' 'cameroon' 'israel' 'argentina' 'kyrgyzstan' 'montenegro'\n",
      " 'finland' 'rwanda' 'bermuda' 'solomon islands' 'bhutan' 'hungary'\n",
      " 'norway' 'portugal' 'zimbabwe' 'saudi arabia' 'jordan' 'ireland'\n",
      " 'lesotho' 'ukraine' 'nigeria' 'jamaica' 'moldova' 'kuwait' 'swaziland'\n",
      " 'angola' 'brazil' 'iceland' 'chile' 'slovakia' 'mexico' 'liberia']\n",
      "OCCUPATION\n",
      "[nan 'manager' 'engineering manager' 'client advisor' 'clerk' 'artist'\n",
      " 'sales manager' 'housewife' 'nil' 'attorney-at-law'\n",
      " 'management secretary' 'training manager' 'teacher' 'supervisor' 'h/wife'\n",
      " 'businessman' '-' 'consultant' 'director' 'auditor' 'retired' 'retiree'\n",
      " 'na' 'tour consultant' 'editor' 'business' 'engineer' 'dentist'\n",
      " 'managing director' 'welder' 'budget analyst' 'shipping exec'\n",
      " 'accountant' 'self employ' 'hotel line' 'tax consultant' 'doctor'\n",
      " 'dental surgeon' 'exec director' 'senior engineer' 'trader'\n",
      " 'computer operator' 'homemaker' 'flight attendent' 'admin'\n",
      " 'senior admin officer' 'executive' 'pt.rep' 'counsellor'\n",
      " 'sole proprietor' 'senior consultant' 'data security analyst'\n",
      " 'supermarker mgr' 'plumber' 'officer' 'ceo' 'financial controller'\n",
      " 'operations analyst' 'senior professor' 'technician' 'saf'\n",
      " 'technical mgr' 'admin. manager' 'sales' 'network security manager'\n",
      " 'student' 'chemist' 'grp chairman exc. ass.' 'marketing exec' 'broker'\n",
      " 'staff nurse' 'vice president' 'lawyer' 'legal assc' 'gen manager'\n",
      " 'employee' 'techinician' 'commercial director' 'investment banker'\n",
      " 'account asst' 'h.w' 'self-employed' 'marketing executive' 'nurse'\n",
      " 'insurance agent' 'business develop manager' 'secretary' 'entrepeneur'\n",
      " 'admin asst.' 'regional vice president' 'accounts asst' 'h.w.' 'lecturer'\n",
      " 'technical officer' 'contractor' 'warrant officer' 'project manager'\n",
      " 'admin manager' 'pharmacist' 'machinist' 'property agent' 'equity sales'\n",
      " 'operation manager' 'banker' 'personal asst' 'bank officer' 'regional md'\n",
      " 'politician' 'senior sales & mrk direct' 'associate director'\n",
      " 'finance director' 'ceo spc' 'snr system administrator' 'it exe'\n",
      " 'assistant general manager' 'civil service' 'marketing manager'\n",
      " 'senior staff nurse' 'admin assistant' 'doctor (gleneagles)'\n",
      " 'senior software engineer' 'chairman' 'chief operationg officer'\n",
      " 'public relation' 'finance manager' 'treasury analyst' 'ins.agent'\n",
      " 'insurance advisor' 'administrative assistant' 'senior tech service rep'\n",
      " 'merchant' 'house wife' 'sales merchandiser' 'hr manager'\n",
      " 'portfolio manager' 'food technologist' 'nsf' 'executive assistant'\n",
      " 'clinic nurse' 'self employed' 'assistant vice president'\n",
      " 'human resources director' 'money broker' 'exe v president'\n",
      " 'fiancy manager' 'sales coordinator' 'admin exec' 'reg manager'\n",
      " 'administrator' 'printer' 'designer' 'self-employ' 'operations executive'\n",
      " 'barrister' 'hr executive' 'finance' 'it specialist'\n",
      " 'human resource director' 'secrectary' 'sales exec' 'singaporean'\n",
      " 'researcher' 'investment director' 'programmer' 'restaurant manager'\n",
      " 'surveyor (general)' 'senior manager' 'en wd 5b' 'shipping manager'\n",
      " 'exe. secretary' 'accts' 'system engineer' 'stockbroker' 'others'\n",
      " 'tuition teacher' 'bank auditor' 'fund manager' 'educator'\n",
      " 'general manager' 'regional sales manager' 'army regular' 'banking'\n",
      " 'business develop assoc' 'secondary school teacher'\n",
      " 'senior acc. rel. manager' 'executive director' 'operations manager'\n",
      " 'cs operations manager' 'admin officer' 'sofeware developer'\n",
      " 'university principal' 'h.r.officer' 'journalist' 'police officer'\n",
      " 'associates' 'technical director' 'asst vice president'\n",
      " 'it sales consultant' 'execative' 'it manager' 'm&e technician'\n",
      " 'senior director' 'it consultant' 'pastor' 'r. financial analyst'\n",
      " 'cabin crew' 'sap consulatant' 'sales marketing mgr' 'system analyst'\n",
      " 'economist' 'deputy general manager' 'g.m.' 'account manager'\n",
      " 'office manager' 'company director' 'procurement' 'clinical research ass'\n",
      " 'h/w' 'client service' 'program admit' 'customer service' 'coordinator'\n",
      " 'banker trader' 'busunessman' 'asst engineer' 'vp' 'it management'\n",
      " 'senior sales representati' 'market research analyst' 'marine manager'\n",
      " 'accounts manager' 'clinical site monitor' 'marketing mgr'\n",
      " 'purchasing manager' 'whole sale' 'assistant professor'\n",
      " 'major account manager' 'it business process consu'\n",
      " 'global brand manager' 'global strategy director' 'asia pacific opts mgr'\n",
      " 'principal consultant' 'sales executive' 'retried' 'faculty assistant'\n",
      " 'md' 'credit officer' 'software engineer' 'accounts assistant'\n",
      " 'recruitment consultant' 'mkg exec' 'customer sales' 'planner'\n",
      " 'pre-schoolteacher' 'business co-ordinator' 'civil engineer'\n",
      " 'personal assistant' 'employer' 'hawker' 'physiotherapist' 'events'\n",
      " 'biz analyst' 'regional director' 'consultant 1' 'product dev analyst'\n",
      " 'architect' 'sales admin' 'mgr' 'in-house counsel/lawyer' 'civil servant'\n",
      " 'marketing assistant' 'solution consultant' 'finance officer'\n",
      " 'settlement officer' 'advertising' 'merchandiser' 'degree holder'\n",
      " 'bank exe' 'it' 'operations supervisor' 'logistic specialist'\n",
      " 'director of united bangladeshi' 'client services manager' 'associate'\n",
      " 'advice president of mark' 'q.s. manager' 'adminstration'\n",
      " 'booth personnel' 'assistant manager' 'shipping co-ordinator' 'artiste'\n",
      " 'taxi driver' 'snr procurement specialis' 'managing editor'\n",
      " 'school administrator' 'trading' 'asst director' 'event manager'\n",
      " 'service manager' 'research fellow' 'senior system analyst' 'beautician'\n",
      " 'tech supt' 'sr public rel officer' 'security officer'\n",
      " 'business dev. manager' 'consultant manager' 'analyst'\n",
      " 'senior hydrologist' 'exec planner' 'client care manager' 'marketing'\n",
      " 'it mgr' 'comm officer' 'public relations' 'assistant a/cs mgr'\n",
      " 'operator' 'asst manager' 'skin specialist' 'supply chain manager'\n",
      " 'vice pres.explor.product.' 'asst exec' 'traner' 'unemployed'\n",
      " 'underwriting manager' 'admin. assistant' 'psycho therapist'\n",
      " 'snr v.p. & head' 'financial officer' 'computer programmer'\n",
      " 'legal director' 'principal perfusionist' 'key account manager'\n",
      " 'assistant manager admin' 'dental nurse' 'music teacher'\n",
      " 'asst accountant' 'safety superintendent' 'master chef' 'c.s.o'\n",
      " 'account mgr' 'project engineer' 'it professional' 'financial accounting'\n",
      " 'bank offficer' 'mktg director' 'relationship manager' 'regional manager'\n",
      " 'accts officer' 'mktg exec' 'financial cpnsultant' 'sub contractor'\n",
      " 'hospital administrator' 'corporate secretary execu' 'adminstrator'\n",
      " 'professor' 'food safety and qlty mgr' 'design' 'marketing coordinator'\n",
      " 'database architect' 'microbiologist' 'accounts administrator' 'cse'\n",
      " 'croupier' 'none' 'elect.component assembler' 'qa lab specialist'\n",
      " 'flight stewart' 'admin asst' 'account officer' 'finance executive'\n",
      " 'psychotherapist' 'buyer' 'letruongthaonhi@gmail.com'\n",
      " 'financial services mgr' 'finance business partner' 'dental tech'\n",
      " 'bank executive' 'training assistant' 'contract manager' 'draftswoman'\n",
      " 'thurs 9.6.16-11am' 'public service' 'finance vp, asia pacific'\n",
      " 'psychologist' 'dance instructor' 'account clerk'\n",
      " 'erp software consultant' 'g.m' 'executive officer' 'construction worker'\n",
      " 'executive secretary' 'airline pilot' 'hr consultant' 'cisco'\n",
      " 'executive asst' 'business info mgr' 'justice' 'santul.chandra@sc.com'\n",
      " 'senior production planner' 'senior supply chain direc' 'department head'\n",
      " 'salesman' 'industrialist' 'project office manager' 'solution manager'\n",
      " 'car park attendant' 'attorney' 'gm' 'hr supervisor'\n",
      " 'senior marketing mgr' 'rmc' 'advertising director' 'ad exec'\n",
      " 'ceo/business owner' 'co director' 'higher technical officer'\n",
      " 'brand manager' 'investment' 'statistician' 'marketing consultant'\n",
      " 'business director' 'senior web designer' 'oil mining' 'hr' 'shop helper'\n",
      " 'kindergarten teacher' 'tech support engineer' 'corporate communications'\n",
      " 'programme manager' 'cust svc officer' 'assistant audit manager'\n",
      " 'enginner' 'banking manager' 'mktg manager' 'lease manager' 'qc manager'\n",
      " 'producer' 'bank teller' 'accounting manager' 'child'\n",
      " 'assistant finance manager' 'senior physiotherapist' 'admin assist'\n",
      " 'sales & marketing manager' 'management' 'corporate development'\n",
      " 'development specialist' 'regional business develop' 'hr assistant'\n",
      " 'research coordinator' 'exe' 'scientist' 'business executive'\n",
      " 'clinical operations manag' 'sales/marketing' 'navy personnel'\n",
      " 'executive principle' 'sr manager' 'financial manager'\n",
      " 'palliative med consultant' 'planning manager' 'investment banking'\n",
      " 'financial consultant' 'administration' 'analy prog' 'remeiser'\n",
      " 'application engineer' 'ercp' 'guest' 'accts assistant'\n",
      " 'business development mana' 'secretary/nissin foods' 'captain'\n",
      " 'president' 'travel agent' 'sr consultant' 'dosmetic worker'\n",
      " 'admin executive' 'art teacher' 'chef' 'network engineer'\n",
      " 'brand director' 'dealer' 'senior associate' 'bank manager'\n",
      " 'hardware shop asst.' 'hair stylish' 'marketing associate'\n",
      " 'principal researcher' 'hairdresser' 'co.director'\n",
      " 'senior vice president' 'pre-school teacher' 'financial serv consultant'\n",
      " 'soft ware manger' 'investment consultant' 'accounts'\n",
      " 'marketing director' 'royston.tan@tadano.com' 'traffic officer'\n",
      " 'bank associate' 'it support' 'snr research executive' 'design engineer'\n",
      " 'business manager' 'account exec' 'cso' 'snr bank officer'\n",
      " 'training officer' 'markerting manager' 'it engineer'\n",
      " 'accounts executive' 'quality assurance' 'human resource'\n",
      " 'trading analyst' 'management consultant' 'regular military expert'\n",
      " 'snr system analyst' 'telecom manager' 'purchaser' 'health administrator'\n",
      " 'senior it manager' 'edi analyst' 'contact centre spec' 'sr chemist'\n",
      " 'finance controller' 'ship broker' 'financial services consul'\n",
      " 'donar relations exe' 'hs-21/6' 'communication specialist' 'librarian'\n",
      " 'customer service agent' 'g.s.o' 'associate engineer' 'anaylst'\n",
      " 'qc chemist' 'real estate bix dept' 'despatch clerk' 'snr engineer'\n",
      " 'flight attendant' 'customer ser manager' 'product consultant'\n",
      " 'account executive' 'coporate administrator' 'senior lab technician'\n",
      " 'home maker' 'opertion staff' 'tax advisor' 'asst treasurer'\n",
      " 'sr customer support exec.' 'surgeon' 'customer svc manager'\n",
      " 'assistant vp' 'excutive secretary' 'retired nurse' 'senior accountant'\n",
      " 'dep mgr' 'malaysian' 'sales marketing manager' 'insurance executive'\n",
      " 'fitness manager' 'legal officer' 'geologist' 'design director'\n",
      " 'finance analyst' 'applicant architect' 'insurance broker' 'cont mgr'\n",
      " 'product manager' 'supply demand planner' 'financial consellor'\n",
      " 'central banker' 'cook' 'priest' 'personnel asst.' 'operation analyst'\n",
      " 'property consultant' \"pt's mom staff of meh\" 'accts asst' 'developer'\n",
      " 'credit approval manager' '0811224529/0222019565' 'education officer'\n",
      " 'loss adjuster' 'inspector' 'deputy representative'\n",
      " 'customer service officer' 'photovoltaic/heraeus mate' 'senior admin'\n",
      " 'senior general manager' 'nursery teacher' 'administrative' 'adviser'\n",
      " 'treasury manager' 'senior officer' 'doctore' 'canteen helper'\n",
      " 'creative group head' 'key account director' '2047929' 'plant manager'\n",
      " 'business exec' 'finance planning mgr' 'consulting mgr'\n",
      " 'sofware consultant' 'houseiwife' 'jewellery design' 'dennis.sim@sc.com'\n",
      " 'business analyst' 'entrepreneur' 'it executive'\n",
      " 'associate corp secretary' 'safety advisor' 'physician'\n",
      " 'sr vice president, legal' 'bd manager' 'snr planner'\n",
      " 'freelance journalist' 'research director' 'grab driver' 'unempolyed'\n",
      " 'ins.agent aia' 'logistics consultant' 'asst officer' 'exec'\n",
      " 'property developer' 'finance associate' 'corporate secretary'\n",
      " 'machinery technician' 'copywriter' 'business sys analyst'\n",
      " 'settlement clerk' 'senior risk controller' 'investment manager'\n",
      " 'dealers' 'senior clerk' 'principle engineer' 'engineeer' 'co executive'\n",
      " 'shahrizan.mansor@sc.com' 'arm' 'boutique supervisor' 'pr' 'pr officer'\n",
      " 'account assistant' 'sales-asst.' 'financial compliance'\n",
      " 'private banking' 'hr & admin executive' 'senior sales training man'\n",
      " 'professional' 'recreuitment manager' 'm.d' 'ronald.buder@gmail.com']\n",
      "RESID_GEOAREA\n",
      "['singapore' nan 'singapore.p.r.' 'indonesia,jakarta' 'indonesia,makassar'\n",
      " 'indonesia,medan' 'vietnam,hochiminh' 'myanmar,yangon' 'vietnam,hanoi'\n",
      " 'vietnam,others' 'india,mumbai' 'indonesia,others' 'bangladesh,dhaka'\n",
      " 'indonesia,surabaya' 'hongkong' 'indonesia,bandung' 'cambodia'\n",
      " 'indonesia,denpasar/bali' 'canada' 'srilanka,galle' 'indonesia,bogor'\n",
      " 'srilanka,colombo' 'malaysia,perak' 'indonesia,malang'\n",
      " 'indonesia,semarang' 'indonesia,tanjung pinang' 'indonesia,batam'\n",
      " 'pakistan,karachi' 'indonesia,solo/surakarta' 'indonesia,sidoarjo'\n",
      " 'indonesia,palembang' 'unitedkingdom' 'brunei,others' 'malaysia,johor'\n",
      " 'vietnam,binhduong' 'malaysia,sabah' 'malaysia,selangor'\n",
      " 'indonesia,pekanbaru' 'phillipines' 'indonesia,tangerang' 'china,fujian'\n",
      " 'russia,moscow' 'seychelles' 'indonesia,balikpapan'\n",
      " 'unitedstatesofamerica' 'vietnam,haiphong' 'indonesia,bandarlampung'\n",
      " 'indonesia,metro' 'indonesia,kediri' 'indonesia,padang' 'china,shanghai'\n",
      " 'china,beijing' 'sweden' 'indonesia,mataram' 'india,kolkata'\n",
      " 'china,hebei' 'malaysia,kualalumpur' 'myanmar,mandalay' 'china,shandong'\n",
      " 'australia' 'nepal' 'srilanka,others' 'malaysia,kedah'\n",
      " 'uae,ajmanalfujayrah' 'switzerland' 'papuanewguinea' 'indonesia,jambi'\n",
      " 'japan' 'china,jiangsu' 'thailand' 'mauritius' 'indonesia,ujungpadang'\n",
      " 'uae,others' 'brunei,bandarseribegawan' 'brunei,kualabelait'\n",
      " 'indonesia,banjarmasin' 'indonesia,yogyakarta' 'maldives' 'china,others'\n",
      " 'kazakhstan,others' 'bangladesh,chittagong' 'vietnam,quangninh'\n",
      " 'russia,vladivostok' 'indonesia,bekasi' 'india,others' 'malaysia,sarawak'\n",
      " 'mongolia' 'malaysia,others' 'vietnam,langson' 'bangladesh,others'\n",
      " 'china,shantou' 'china,tianjin' 'malaysia,perlis' 'indonesia,ambon'\n",
      " 'china,xiamen' 'indonesia,sukabumi' 'india,chennai' 'russia,others'\n",
      " 'indonesia,gorontalo' 'czechrepublic' 'indonesia,pontianak' 'germany'\n",
      " 'brunei,pekantutong' 'china,nanjing' 'china,xian' 'myanmar,others'\n",
      " 'uae,abuzaby(abudhabi)' 'indonesia,serang' 'indonesia,semarinda'\n",
      " 'indonesia,probolinggo' 'india,newdelhi' 'vietnam,danang'\n",
      " 'indonesia,pekalongan' 'india,bengaluru' 'monaco'\n",
      " 'malaysia,penang/pulaupinang' 'indonesia,kudus' 'india,bangalore' 'oman'\n",
      " 'indonesia,riau' 'indonesia,magelang' 'taiwan' 'indonesia,cilegon'\n",
      " 'korea' 'bharain' 'indonesia,depok' 'pakistan,others' 'indonesia,manado'\n",
      " 'vietnam,cantho' 'france' 'srilanka,kandy' 'china,gansu' 'indonesia,palu'\n",
      " 'china,wuhan' 'china,shenzhen' 'indonesia,kebumen' 'laos' 'china,xuzhou'\n",
      " 'kazakhstan,almaty' 'russia,khabarovsk' 'pakistan,lahore' \"china,yan'an\"\n",
      " 'uae,dubayy(dubai)' 'china,shanxi' 'kenya' 'indonesia,tegal'\n",
      " 'indonesia,tasikmalaya' 'indonesia,cirebon' 'netherlands' 'israel'\n",
      " 'indonesia,blitar' 'indonesia,kendari' 'vietnam,thaibinh'\n",
      " 'russia,nakhodka' 'indonesia,jayapura' 'russia,ussuriysk' 'china,suzhou'\n",
      " 'china,hunan' 'newzealand' 'malaysia,malaka' 'vietnam,nhatrang'\n",
      " 'indonesia,bengkulu' 'qatar' 'indonesia,tenggarong' 'rwanda'\n",
      " 'solomonislands' 'myanmar,taunggyi' 'sin' 'bhutan' 'china,changsha'\n",
      " 'indonesia,binjai' 'indonesia,palangkaraya' 'indonesia,aceh'\n",
      " 'china,guangdong' 'vietnam,vinh' 'hungary' 'indonesia,pasuruan'\n",
      " 'india,hyderabad' 'indonesia,cimahi' 'portugal' 'zimbabwe' 'india,jaipur'\n",
      " 'indonesia,mojokerto' 'china,neimongol' 'macau'\n",
      " 'indonesia,pematangsiantar' 'china,sichuan' 'india,ghaziabad' 'bulgaria'\n",
      " 'indonesia,kupang' 'ireland' 'india,noida' 'lesotho' 'indonesia,tarakan'\n",
      " 'fiji' 'china,henan' 'china,chengdu' 'china,heilongjiang'\n",
      " 'malaysia,pahang' 'nigeria' 'indonesia,dumai' 'jamaica' 'denmark'\n",
      " 'malaysia,negerisembilan' 'china,guangzhou' 'indonesia,pangkalpinang'\n",
      " 'china,ningbo' 'kuwait' 'swaziland' 'indonesia,solok' 'china,guizhou'\n",
      " 'norway' 'china,taizhou,zhejiang' 'angola' 'china,hangzhou'\n",
      " 'indonesia,bau-bau' 'liberia' 'chile']\n",
      "NONRESID_FLAG\n",
      "['n' 'y' nan]\n",
      "IDENT_TYPE\n",
      "[\"pink s'pore ic\" 'others' \"blue s'pore ic\" 'uin for non-ic' nan\n",
      " \"m'sian ic\" 'cpf a/c no.']\n",
      "CONT_RELATION\n",
      "['m-spouse' 'mother' 'others' 'sister' nan 'brother' 'm-child' 'aunt'\n",
      " 'son' 'daughter' 'father' 'friend' 'fiancee' 'm-parent' 'colleague'\n",
      " 'grandson' 'fiance' 'cousin' 'sister-in-law' 'brother-in-law'\n",
      " 'mother-in-law' 'niece' 'granddaughter' 'son-in-law' 'nephew' 'employee'\n",
      " 'employer' 'daughter-in-law' 'm-self' 'uncle' 'grandmother' 'grandfather'\n",
      " 'm-grandparent' 'm-sibling' 'father-in-law']\n"
     ]
    }
   ],
   "source": [
    "for col in df.select_dtypes(include=['object']).columns:\n",
    "    print(col)\n",
    "    print(df[col].unique())"
   ]
  },
  {
   "cell_type": "code",
   "execution_count": 9,
   "metadata": {},
   "outputs": [
    {
     "name": "stdout",
     "output_type": "stream",
     "text": [
      "[]\n"
     ]
    }
   ],
   "source": [
    "not_listed = []\n",
    "for value in df['ACTUAL_TREATMENT_CATEGORY'].str.upper().unique():\n",
    "    if value not in constants_uc3.TREATMENT_TYPES:\n",
    "        not_listed.append(value)\n",
    "print(not_listed)"
   ]
  },
  {
   "cell_type": "code",
   "execution_count": 10,
   "metadata": {},
   "outputs": [
    {
     "name": "stdout",
     "output_type": "stream",
     "text": [
      "[]\n"
     ]
    }
   ],
   "source": [
    "not_listed = []\n",
    "for value in df['ACTUAL_CASE_INSTITUTION'].str.upper().unique():\n",
    "    if value not in constants_uc3.INSTITUTION_TYPES:\n",
    "        not_listed.append(value)\n",
    "print(not_listed)"
   ]
  },
  {
   "cell_type": "code",
   "execution_count": 55,
   "metadata": {},
   "outputs": [
    {
     "name": "stdout",
     "output_type": "stream",
     "text": [
      "[nan, 'NA_VALUE']\n"
     ]
    }
   ],
   "source": [
    "not_listed = []\n",
    "for value in df['ACTUAL_SURGICAL_CODE_1'].str.upper().unique():\n",
    "    if value not in constants_uc3.TOSP_CODES:\n",
    "        not_listed.append(value)\n",
    "print(not_listed)"
   ]
  },
  {
   "cell_type": "code",
   "execution_count": 57,
   "metadata": {},
   "outputs": [
    {
     "name": "stdout",
     "output_type": "stream",
     "text": [
      "[nan, 'NA_VALUE']\n"
     ]
    }
   ],
   "source": [
    "not_listed = []\n",
    "for value in df['ACTUAL_SURGICAL_CODE_2'].str.upper().unique():\n",
    "    if value not in constants_uc3.TOSP_CODES:\n",
    "        not_listed.append(value)\n",
    "print(not_listed)"
   ]
  },
  {
   "cell_type": "code",
   "execution_count": 58,
   "metadata": {},
   "outputs": [
    {
     "name": "stdout",
     "output_type": "stream",
     "text": [
      "[nan]\n"
     ]
    }
   ],
   "source": [
    "not_listed = []\n",
    "for value in df['ACTUAL_DIAGNOSIS_CODE'].str.upper().unique():\n",
    "    if value not in constants_uc3.ICD_CODES:\n",
    "        not_listed.append(value)\n",
    "print(not_listed)"
   ]
  },
  {
   "cell_type": "code",
   "execution_count": 60,
   "metadata": {},
   "outputs": [
    {
     "name": "stdout",
     "output_type": "stream",
     "text": [
      "[nan, 'NA_VALUE']\n"
     ]
    }
   ],
   "source": [
    "not_listed = []\n",
    "for value in df['ACTUAL_SURGICAL_CODE_3'].str.upper().unique():\n",
    "    if value not in constants_uc3.TOSP_CODES:\n",
    "        not_listed.append(value)\n",
    "print(not_listed)"
   ]
  },
  {
   "cell_type": "code",
   "execution_count": 15,
   "metadata": {},
   "outputs": [
    {
     "name": "stdout",
     "output_type": "stream",
     "text": [
      "[]\n"
     ]
    }
   ],
   "source": [
    "not_listed = []\n",
    "for value in df['INST'].str.upper().unique():\n",
    "    if value not in constants_uc3.INSTITUTION_TYPES:\n",
    "        not_listed.append(value)\n",
    "print(not_listed)"
   ]
  },
  {
   "cell_type": "code",
   "execution_count": 16,
   "metadata": {},
   "outputs": [
    {
     "name": "stdout",
     "output_type": "stream",
     "text": [
      "[]\n"
     ]
    }
   ],
   "source": [
    "not_listed = []\n",
    "for value in df['ETBS_MOVE_TYPE'].str.upper().unique():\n",
    "    if value not in constants_uc3.ADMISSION_TYPES:\n",
    "        not_listed.append(value)\n",
    "print(not_listed)"
   ]
  },
  {
   "cell_type": "code",
   "execution_count": 62,
   "metadata": {},
   "outputs": [
    {
     "name": "stdout",
     "output_type": "stream",
     "text": [
      "[nan, ' ']\n"
     ]
    }
   ],
   "source": [
    "not_listed = []\n",
    "for value in df['ETBS_TOSP_1'].str.upper().unique():\n",
    "    if value not in constants_uc3.TOSP_CODES:\n",
    "        not_listed.append(value)\n",
    "print(not_listed)"
   ]
  },
  {
   "cell_type": "code",
   "execution_count": 69,
   "metadata": {},
   "outputs": [
    {
     "name": "stdout",
     "output_type": "stream",
     "text": [
      "[nan, ' ']\n"
     ]
    }
   ],
   "source": [
    "not_listed = []\n",
    "for value in df['ETBS_TOSP_2'].str.upper().unique():\n",
    "    if value not in constants_uc3.TOSP_CODES:\n",
    "        not_listed.append(value)\n",
    "print(not_listed)"
   ]
  },
  {
   "cell_type": "code",
   "execution_count": 66,
   "metadata": {},
   "outputs": [
    {
     "name": "stdout",
     "output_type": "stream",
     "text": [
      "[nan, ' ']\n"
     ]
    }
   ],
   "source": [
    "not_listed = []\n",
    "for value in df['ETBS_TOSP_3'].str.upper().unique():\n",
    "    if value not in constants_uc3.TOSP_CODES:\n",
    "        not_listed.append(value)\n",
    "print(not_listed)"
   ]
  },
  {
   "cell_type": "code",
   "execution_count": 68,
   "metadata": {},
   "outputs": [
    {
     "name": "stdout",
     "output_type": "stream",
     "text": [
      "[nan]\n"
     ]
    }
   ],
   "source": [
    "not_listed = []\n",
    "for value in df['ETBS_ICD10_1'].str.upper().unique():\n",
    "    if value not in constants_uc3.ICD_CODES:\n",
    "        not_listed.append(value)\n",
    "print(not_listed)"
   ]
  },
  {
   "cell_type": "code",
   "execution_count": 71,
   "metadata": {},
   "outputs": [
    {
     "name": "stdout",
     "output_type": "stream",
     "text": [
      "[nan]\n"
     ]
    }
   ],
   "source": [
    "not_listed = []\n",
    "for value in df['ETBS_ICD10_2'].str.upper().unique():\n",
    "    if value not in constants_uc3.ICD_CODES:\n",
    "        not_listed.append(value)\n",
    "print(not_listed)"
   ]
  },
  {
   "cell_type": "code",
   "execution_count": 72,
   "metadata": {},
   "outputs": [
    {
     "name": "stdout",
     "output_type": "stream",
     "text": [
      "[nan]\n"
     ]
    }
   ],
   "source": [
    "not_listed = []\n",
    "for value in df['ETBS_ICD10_3'].str.upper().unique():\n",
    "    if value not in constants_uc3.ICD_CODES:\n",
    "        not_listed.append(value)\n",
    "print(not_listed)"
   ]
  },
  {
   "cell_type": "code",
   "execution_count": 23,
   "metadata": {},
   "outputs": [
    {
     "name": "stdout",
     "output_type": "stream",
     "text": [
      "[nan]\n"
     ]
    }
   ],
   "source": [
    "not_listed = []\n",
    "for value in df['ADMISSION_TYPE'].str.upper().unique():\n",
    "    if value not in constants_uc3.ADMISSION_TYPES:\n",
    "        not_listed.append(value)\n",
    "print(not_listed)"
   ]
  },
  {
   "cell_type": "code",
   "execution_count": 74,
   "metadata": {},
   "outputs": [
    {
     "name": "stdout",
     "output_type": "stream",
     "text": [
      "[nan]\n"
     ]
    }
   ],
   "source": [
    "not_listed = []\n",
    "for value in df['TREATMENT_CATEGORY'].str.upper().unique():\n",
    "    if value not in constants_uc3.TREATMENT_TYPES:\n",
    "        not_listed.append(value)\n",
    "print(not_listed)"
   ]
  },
  {
   "cell_type": "code",
   "execution_count": 101,
   "metadata": {},
   "outputs": [
    {
     "name": "stdout",
     "output_type": "stream",
     "text": [
      "[nan]\n"
     ]
    }
   ],
   "source": [
    "not_listed = []\n",
    "for value in df['DEPT_OU'].str.upper().unique():\n",
    "    if value not in constants_uc3.DEPT_OUS:\n",
    "        not_listed.append(value)\n",
    "print(not_listed)"
   ]
  },
  {
   "cell_type": "code",
   "execution_count": 76,
   "metadata": {},
   "outputs": [
    {
     "name": "stdout",
     "output_type": "stream",
     "text": [
      "[nan]\n"
     ]
    }
   ],
   "source": [
    "not_listed = []\n",
    "for value in df['ADMITTING_SMC_NUMBER'].str.upper().unique():\n",
    "    if value not in constants_uc3.DOCTOR_CODES:\n",
    "        not_listed.append(value)\n",
    "print(not_listed)"
   ]
  },
  {
   "cell_type": "code",
   "execution_count": 78,
   "metadata": {},
   "outputs": [
    {
     "name": "stdout",
     "output_type": "stream",
     "text": [
      "[nan]\n"
     ]
    }
   ],
   "source": [
    "not_listed = []\n",
    "for value in df['ATTENDING_SMC_NUMBER'].str.upper().unique():\n",
    "    if value not in constants_uc3.DOCTOR_CODES:\n",
    "        not_listed.append(value)\n",
    "print(not_listed)"
   ]
  },
  {
   "cell_type": "code",
   "execution_count": 80,
   "metadata": {},
   "outputs": [
    {
     "name": "stdout",
     "output_type": "stream",
     "text": [
      "[nan]\n"
     ]
    }
   ],
   "source": [
    "not_listed = []\n",
    "for value in df['REFERRAL_SMC_NUMBER'].str.upper().unique():\n",
    "    if value not in constants_uc3.DOCTOR_CODES:\n",
    "        not_listed.append(value)\n",
    "print(not_listed)"
   ]
  },
  {
   "cell_type": "code",
   "execution_count": 104,
   "metadata": {},
   "outputs": [
    {
     "name": "stdout",
     "output_type": "stream",
     "text": [
      "[nan]\n"
     ]
    }
   ],
   "source": [
    "not_listed = []\n",
    "for value in df['ADM_CLASS_DISC'].str.upper().unique():\n",
    "    if value not in constants_uc3.ADM_CLASSES:\n",
    "        not_listed.append(value)\n",
    "print(not_listed)"
   ]
  },
  {
   "cell_type": "code",
   "execution_count": 32,
   "metadata": {},
   "outputs": [
    {
     "name": "stdout",
     "output_type": "stream",
     "text": [
      "[nan, 'UNKNOWN']\n"
     ]
    }
   ],
   "source": [
    "not_listed = []\n",
    "for value in df['GENDER'].str.upper().unique():\n",
    "    if value not in constants_uc3.GENDER_TYPES:\n",
    "        not_listed.append(value)\n",
    "print(not_listed)"
   ]
  },
  {
   "cell_type": "code",
   "execution_count": 33,
   "metadata": {},
   "outputs": [
    {
     "name": "stdout",
     "output_type": "stream",
     "text": [
      "[nan, 'UNKNWN']\n"
     ]
    }
   ],
   "source": [
    "not_listed = []\n",
    "for value in df['MARITAL_STATUS'].str.upper().unique():\n",
    "    if value not in constants_uc3.MARITAL_STATUSES:\n",
    "        not_listed.append(value)\n",
    "print(not_listed)"
   ]
  },
  {
   "cell_type": "code",
   "execution_count": 34,
   "metadata": {},
   "outputs": [
    {
     "name": "stdout",
     "output_type": "stream",
     "text": [
      "[nan, 'NONE', '9']\n"
     ]
    }
   ],
   "source": [
    "not_listed = []\n",
    "for value in df['RELIGION'].str.upper().unique():\n",
    "    if value not in constants_uc3.RELIGION_TYPES:\n",
    "        not_listed.append(value)\n",
    "print(not_listed)"
   ]
  },
  {
   "cell_type": "code",
   "execution_count": 81,
   "metadata": {},
   "outputs": [
    {
     "name": "stdout",
     "output_type": "stream",
     "text": [
      "['SINGAPORE', 'JAPAN', 'AUSTRALIA', 'INDONESIA', 'UNITED KINGDOM', 'SWITZERLAND', 'EGYPT', 'SOUTH AFRICA', 'PHILIPPINES', 'MALAYSIA', 'SPAIN', 'GERMANY', 'INDIA', 'CHINA', 'RUSSIAN FED.', 'BRAZIL', 'AUSTRIA', 'CANADA', 'VIETNAM', 'MYANMAR', 'USA', nan, 'BRUNEI DARUSS.', 'BANGLADESH', 'ARGENTINA', 'VENEZUELA', 'FRANCE', 'TAIWAN', 'GEORGIA', 'THAILAND', 'IRAN', 'LAOS', 'UTD.ARAB EMIR.', 'CAMBODIA', 'NETHERLANDS', 'MOROCCO', 'SRI LANKA', 'SOUTH KOREA', 'PAKISTAN', 'DENMARK', 'ITALY', 'IRELAND', 'ISRAEL', 'SEYCHELLES', 'KAZAKHSTAN', 'UKRAINE', 'UZBEKISTAN', 'CZECH REPUBLIC', 'SWEDEN', 'MEXICO', 'UNKNOWN', 'ST KITTS&NEVIS', 'NEPAL', 'MAURITIUS', 'PORTUGAL', 'BELGIUM', 'ROMANIA', 'MACAU', 'BULGARIA', 'MONGOLIA', 'TURKEY', 'GUAM', 'MALDIVES', 'ALGERIA', 'NORTH KOREA', 'LUCIAN', 'NICARAGUAN', 'MISSING', 'SERB/MONT', 'BURKINABE', 'PALESTINIAN']\n"
     ]
    }
   ],
   "source": [
    "not_listed = []\n",
    "for value in df['NATIONALITY'].str.upper().unique():\n",
    "    consts = [const.upper() for const in constants_uc3.NATIONALITIES]\n",
    "    if value not in consts:\n",
    "        not_listed.append(value)\n",
    "print(not_listed)"
   ]
  },
  {
   "cell_type": "code",
   "execution_count": 36,
   "metadata": {},
   "outputs": [
    {
     "name": "stdout",
     "output_type": "stream",
     "text": [
      "[nan, 'UNKNOWN']\n"
     ]
    }
   ],
   "source": [
    "not_listed = []\n",
    "for value in df['RESID_CTY'].str.upper().unique():\n",
    "    consts = [const.upper() for const in constants_uc3.COUNTRY_CODES]\n",
    "    if value not in consts:\n",
    "        not_listed.append(value)\n",
    "print(not_listed)"
   ]
  },
  {
   "cell_type": "code",
   "execution_count": 106,
   "metadata": {},
   "outputs": [
    {
     "name": "stdout",
     "output_type": "stream",
     "text": [
      "[nan, 'NIL', '-', 'NA', 'OTHERS', 'NONE', 'LETRUONGTHAONHI@GMAIL.COM', 'SANTUL.CHANDRA@SC.COM', 'ROYSTON.TAN@TADANO.COM', 'MALAYSIAN', 'DENNIS.SIM@SC.COM', 'SHAHRIZAN.MANSOR@SC.COM', 'RONALD.BUDER@GMAIL.COM']\n"
     ]
    }
   ],
   "source": [
    "not_listed = []\n",
    "for value in df['OCCUPATION'].str.upper().unique():\n",
    "    consts = [const.upper() for const in constants_uc3.OCCUPATIONS]\n",
    "    if value not in consts:\n",
    "        not_listed.append(value)\n",
    "print(not_listed)"
   ]
  },
  {
   "cell_type": "code",
   "execution_count": 109,
   "metadata": {},
   "outputs": [
    {
     "name": "stdout",
     "output_type": "stream",
     "text": [
      "[nan]\n"
     ]
    }
   ],
   "source": [
    "not_listed = []\n",
    "for value in df['RESID_GEOAREA'].str.upper().unique():\n",
    "    consts = [const.upper() for const in constants_uc3.RESID_LOCATIONS]\n",
    "    if value not in consts:\n",
    "        not_listed.append(value)\n",
    "print(not_listed)"
   ]
  },
  {
   "cell_type": "code",
   "execution_count": 110,
   "metadata": {},
   "outputs": [
    {
     "data": {
      "text/plain": [
       "array(['N', 'Y', nan], dtype=object)"
      ]
     },
     "execution_count": 110,
     "metadata": {},
     "output_type": "execute_result"
    }
   ],
   "source": [
    "df['NONRESID_FLAG'].str.upper().unique()"
   ]
  },
  {
   "cell_type": "code",
   "execution_count": 114,
   "metadata": {},
   "outputs": [
    {
     "name": "stdout",
     "output_type": "stream",
     "text": [
      "['OTHERS', nan]\n"
     ]
    }
   ],
   "source": [
    "not_listed = []\n",
    "for value in df['IDENT_TYPE'].str.upper().unique():\n",
    "    consts = [const.upper() for const in constants_uc3.ID_TYPES]\n",
    "    if value not in consts:\n",
    "        not_listed.append(value)\n",
    "print(not_listed)"
   ]
  },
  {
   "cell_type": "code",
   "execution_count": 117,
   "metadata": {},
   "outputs": [
    {
     "name": "stdout",
     "output_type": "stream",
     "text": [
      "[nan]\n"
     ]
    }
   ],
   "source": [
    "not_listed = []\n",
    "for value in df['CONT_RELATION'].str.upper().unique():\n",
    "    consts = [const.upper() for const in constants_uc3.RELATIONS]\n",
    "    if value not in consts:\n",
    "        not_listed.append(value)\n",
    "print(not_listed)"
   ]
  },
  {
   "cell_type": "code",
   "execution_count": 42,
   "metadata": {},
   "outputs": [
    {
     "name": "stdout",
     "output_type": "stream",
     "text": [
      "ACTUAL_CASE_NUMBER              62517\n",
      "ACTUAL_PATIENT_NUMBER           54952\n",
      "ACTUAL_PRIMARY_DIAGNOSIS_SID     3778\n",
      "ACTUAL_ADMISSION_DTE              442\n",
      "ACTUAL_LOS                         66\n",
      "ACTUAL_ICU_HDU_LOS                 14\n",
      "ADM_DATE                          442\n",
      "CASE_NO                         49381\n",
      "ETBS_LOS                           22\n",
      "PATIENT_TYPE                        0\n",
      "PATIENT_NUMBER                  54842\n",
      "DOB                             23093\n",
      "RESID_POSTALCODE                19124\n",
      "CONT_POSTAL                     18720\n",
      "TOTAL_HOSP                      58326\n",
      "dtype: int64\n",
      "15\n"
     ]
    }
   ],
   "source": [
    "print(df.select_dtypes(exclude=['object']).nunique())\n",
    "print(len(df.select_dtypes(exclude=['object']).columns))"
   ]
  },
  {
   "cell_type": "code",
   "execution_count": 43,
   "metadata": {},
   "outputs": [
    {
     "name": "stdout",
     "output_type": "stream",
     "text": [
      "ACTUAL_ADMISSION_DTE      442\n",
      "ADM_DATE                  442\n",
      "DOB                     23093\n",
      "dtype: int64\n"
     ]
    }
   ],
   "source": [
    "print(df.select_dtypes(exclude=[np.number, np.object]).nunique())"
   ]
  },
  {
   "cell_type": "code",
   "execution_count": 44,
   "metadata": {},
   "outputs": [
    {
     "name": "stdout",
     "output_type": "stream",
     "text": [
      "ACTUAL_ADMISSION_DTE vs ADM_DATE:  1\n"
     ]
    }
   ],
   "source": [
    "print('ACTUAL_ADMISSION_DTE vs ADM_DATE: ',\n",
    "      df.groupby(by=['ACTUAL_ADMISSION_DTE'])['ADM_DATE'].nunique().max())"
   ]
  },
  {
   "cell_type": "code",
   "execution_count": 134,
   "metadata": {},
   "outputs": [
    {
     "name": "stdout",
     "output_type": "stream",
     "text": [
      "ACTUAL_CASE_NUMBER              62517\n",
      "ACTUAL_PATIENT_NUMBER           54952\n",
      "ACTUAL_PRIMARY_DIAGNOSIS_SID     3778\n",
      "ACTUAL_LOS                         66\n",
      "ACTUAL_ICU_HDU_LOS                 14\n",
      "CASE_NO                         49381\n",
      "ETBS_LOS                           22\n",
      "PATIENT_TYPE                        0\n",
      "PATIENT_NUMBER                  54842\n",
      "RESID_POSTALCODE                19124\n",
      "CONT_POSTAL                     18720\n",
      "TOTAL_HOSP                      58326\n",
      "dtype: int64\n",
      "12\n",
      "<class 'pandas.core.frame.DataFrame'>\n",
      "RangeIndex: 62517 entries, 0 to 62516\n",
      "Data columns (total 12 columns):\n",
      " #   Column                        Non-Null Count  Dtype  \n",
      "---  ------                        --------------  -----  \n",
      " 0   ACTUAL_CASE_NUMBER            62517 non-null  int64  \n",
      " 1   ACTUAL_PATIENT_NUMBER         62517 non-null  int64  \n",
      " 2   ACTUAL_PRIMARY_DIAGNOSIS_SID  62517 non-null  int64  \n",
      " 3   ACTUAL_LOS                    62517 non-null  int64  \n",
      " 4   ACTUAL_ICU_HDU_LOS            49 non-null     float64\n",
      " 5   CASE_NO                       49400 non-null  float64\n",
      " 6   ETBS_LOS                      60994 non-null  float64\n",
      " 7   PATIENT_TYPE                  0 non-null      float64\n",
      " 8   PATIENT_NUMBER                62395 non-null  float64\n",
      " 9   RESID_POSTALCODE              50685 non-null  float64\n",
      " 10  CONT_POSTAL                   48273 non-null  float64\n",
      " 11  TOTAL_HOSP                    62517 non-null  float64\n",
      "dtypes: float64(8), int64(4)\n",
      "memory usage: 5.7 MB\n",
      "None\n"
     ]
    }
   ],
   "source": [
    "print(df.select_dtypes(include=[np.number]).nunique())\n",
    "print(len(df.select_dtypes(include=[np.number]).columns))\n",
    "print(df.select_dtypes(include=[np.number]).info())"
   ]
  },
  {
   "cell_type": "code",
   "execution_count": 46,
   "metadata": {},
   "outputs": [
    {
     "name": "stdout",
     "output_type": "stream",
     "text": [
      "Empty DataFrame\n",
      "Columns: [ACTUAL_CASE_NUMBER, ACTUAL_TREATMENT_CATEGORY, ACTUAL_PATIENT_NUMBER, ACTUAL_PRIMARY_DIAGNOSIS_SID, ACTUAL_CASE_INSTITUTION, ACTUAL_ADMISSION_DTE, ACTUAL_LOS, ACTUAL_ICU_HDU_LOS, ACTUAL_SURGICAL_CODE_1, ACTUAL_SURGICAL_CODE_2, ACTUAL_SURGICAL_CODE_3, ACTUAL_DIAGNOSIS_CODE, ADM_DATE, INST, CASE_NO, ETBS_LOS, ETBS_ICU_HDU_LOS, ETBS_MOVE_TYPE, ETBS_TOSP_1, ETBS_TOSP_2, ETBS_TOSP_3, ETBS_ICD10_1, ETBS_ICD10_2, ETBS_ICD10_3, CASE_TYPE, PATIENT_TYPE, ADMISSION_TYPE, TREATMENT_CATEGORY, REFERRAL_TYPE, DEPT_OU, ADMITTING_SMC_NUMBER, ATTENDING_SMC_NUMBER, REFERRAL_SMC_NUMBER, ADM_CLASS_DISC, PATIENT_NUMBER, GENDER, DOB, MARITAL_STATUS, RELIGION, NATIONALITY, RESID_CTY, RESID_POSTALCODE, OCCUPATION, RESID_GEOAREA, NONRESID_FLAG, IDENT_TYPE, CONT_POSTAL, CONT_RELATION, TOTAL_HOSP]\n",
      "Index: []\n",
      "\n",
      "[0 rows x 49 columns]\n"
     ]
    }
   ],
   "source": [
    "print(df[df.duplicated(subset=['ACTUAL_CASE_NUMBER'], keep=False)])"
   ]
  },
  {
   "cell_type": "code",
   "execution_count": 47,
   "metadata": {},
   "outputs": [
    {
     "name": "stdout",
     "output_type": "stream",
     "text": [
      "[nan]\n"
     ]
    }
   ],
   "source": [
    "print(df['PATIENT_TYPE'].unique())"
   ]
  },
  {
   "cell_type": "code",
   "execution_count": 48,
   "metadata": {},
   "outputs": [
    {
     "name": "stdout",
     "output_type": "stream",
     "text": [
      "ACTUAL_CASE_NUMBER vs CASE_NO:  1\n",
      "0                 NaN\n",
      "1                 NaN\n",
      "2                 NaN\n",
      "3                 NaN\n",
      "4                 NaN\n",
      "             ...     \n",
      "62512    1.020009e+09\n",
      "62513    4.020010e+09\n",
      "62514    4.020010e+09\n",
      "62515    1.020009e+09\n",
      "62516    4.020005e+09\n",
      "Name: CASE_NO, Length: 62517, dtype: float64\n"
     ]
    }
   ],
   "source": [
    "print('ACTUAL_CASE_NUMBER vs CASE_NO: ',\n",
    "      df.groupby(by=['ACTUAL_CASE_NUMBER'])['CASE_NO'].nunique().max())\n",
    "print(df.groupby(by=['ACTUAL_CASE_NUMBER'])['CASE_NO'].head())"
   ]
  },
  {
   "cell_type": "code",
   "execution_count": 49,
   "metadata": {},
   "outputs": [
    {
     "name": "stdout",
     "output_type": "stream",
     "text": [
      "ACTUAL_PATIENT_NUMBER vs PATIENT_NUMBER:  1\n",
      "0        4471730.0\n",
      "1        5148520.0\n",
      "2        6112323.0\n",
      "3        6112322.0\n",
      "4        6098582.0\n",
      "           ...    \n",
      "62512    3679873.0\n",
      "62513    6261014.0\n",
      "62514    6120029.0\n",
      "62515    5485720.0\n",
      "62516    6256103.0\n",
      "Name: PATIENT_NUMBER, Length: 62310, dtype: float64\n"
     ]
    }
   ],
   "source": [
    "print('ACTUAL_PATIENT_NUMBER vs PATIENT_NUMBER: ',\n",
    "      df.groupby(by=['ACTUAL_PATIENT_NUMBER'])['PATIENT_NUMBER'].nunique().max())\n",
    "print(df.groupby(by=['ACTUAL_PATIENT_NUMBER'])['PATIENT_NUMBER'].head())"
   ]
  },
  {
   "cell_type": "code",
   "execution_count": 50,
   "metadata": {},
   "outputs": [
    {
     "name": "stdout",
     "output_type": "stream",
     "text": [
      "ACTUAL_CASE_NUMBER vs ACTUAL_PATIENT_NUMBER:  1\n",
      "0        4471730\n",
      "1        5148520\n",
      "2        6112323\n",
      "3        6112322\n",
      "4        6098582\n",
      "          ...   \n",
      "62512    3679873\n",
      "62513    6261014\n",
      "62514    6120029\n",
      "62515    5485720\n",
      "62516    6256103\n",
      "Name: ACTUAL_PATIENT_NUMBER, Length: 62517, dtype: int64\n"
     ]
    }
   ],
   "source": [
    "print('ACTUAL_CASE_NUMBER vs ACTUAL_PATIENT_NUMBER: ',\n",
    "      df.groupby(by=['ACTUAL_CASE_NUMBER'])['ACTUAL_PATIENT_NUMBER'].nunique().max())\n",
    "print(df.groupby(by=['ACTUAL_CASE_NUMBER'])['ACTUAL_PATIENT_NUMBER'].head())"
   ]
  },
  {
   "cell_type": "code",
   "execution_count": 51,
   "metadata": {},
   "outputs": [
    {
     "name": "stdout",
     "output_type": "stream",
     "text": [
      "ACTUAL_CASE_NUMBER vs PATIENT_NUMBER:  1\n"
     ]
    }
   ],
   "source": [
    "print('ACTUAL_CASE_NUMBER vs PATIENT_NUMBER: ',\n",
    "      df.groupby(by=['ACTUAL_CASE_NUMBER'])['PATIENT_NUMBER'].nunique().max())"
   ]
  },
  {
   "cell_type": "code",
   "execution_count": 52,
   "metadata": {},
   "outputs": [
    {
     "name": "stdout",
     "output_type": "stream",
     "text": [
      "CASE_NO vs ACTUAL_PATIENT_NUMBER:  1\n"
     ]
    }
   ],
   "source": [
    "print('CASE_NO vs ACTUAL_PATIENT_NUMBER: ',\n",
    "      df.groupby(by=['CASE_NO'])['ACTUAL_PATIENT_NUMBER'].nunique().max())"
   ]
  },
  {
   "cell_type": "code",
   "execution_count": 53,
   "metadata": {},
   "outputs": [
    {
     "name": "stdout",
     "output_type": "stream",
     "text": [
      "CASE_NO vs PATIENT_NUMBER:  1\n"
     ]
    }
   ],
   "source": [
    "print('CASE_NO vs PATIENT_NUMBER: ',\n",
    "      df.groupby(by=['CASE_NO'])['PATIENT_NUMBER'].nunique().max())"
   ]
  },
  {
   "cell_type": "code",
   "execution_count": 147,
   "metadata": {},
   "outputs": [
    {
     "name": "stdout",
     "output_type": "stream",
     "text": [
      "ACTUAL_CASE_NUMBER vs ACTUAL_PRIMARY_DIAGNOSIS_SID:  1\n"
     ]
    }
   ],
   "source": [
    "print('ACTUAL_CASE_NUMBER vs ACTUAL_PRIMARY_DIAGNOSIS_SID: ',\n",
    "      df.groupby(by=['ACTUAL_CASE_NUMBER'])['ACTUAL_PRIMARY_DIAGNOSIS_SID'].nunique().max())"
   ]
  },
  {
   "cell_type": "code",
   "execution_count": 131,
   "metadata": {},
   "outputs": [
    {
     "name": "stdout",
     "output_type": "stream",
     "text": [
      "ACTUAL_LOS vs ETBS_LOS:  11\n",
      "[  0  10   1   8   3   6   4  11   9   2   5   7  16  18  14  35  12  23\n",
      "  29  13  17  32  28  40  26  20  45  31  61  15  21  48  36  54  63  22\n",
      "  51  19  27  24  34  30  50  25  37  38  47  52  72  43  70  68  56  55\n",
      " 100  46  33  44  39  67  41 130  98  76  64  79]\n",
      "[  1.  nan   2.   3.   5.   7.   4.   6.  10.  14.  22.  30.   8.  20.\n",
      "  11.  28.   9.  12. 111.  21.  42.  49.  32.]\n"
     ]
    }
   ],
   "source": [
    "print('ACTUAL_LOS vs ETBS_LOS: ',\n",
    "      df.groupby(by=['ACTUAL_LOS'])['ETBS_LOS'].nunique().max())\n",
    "print(df['ACTUAL_LOS'].unique())\n",
    "print(df['ETBS_LOS'].unique())"
   ]
  },
  {
   "cell_type": "code",
   "execution_count": 138,
   "metadata": {},
   "outputs": [
    {
     "name": "stdout",
     "output_type": "stream",
     "text": [
      "[ 8976 13220 26921 ... 20130  8054 24384]\n",
      "0\n"
     ]
    }
   ],
   "source": [
    "print(df['ACTUAL_PRIMARY_DIAGNOSIS_SID'].unique())\n",
    "print(df['ACTUAL_PRIMARY_DIAGNOSIS_SID'].isna().sum())"
   ]
  },
  {
   "cell_type": "code",
   "execution_count": 144,
   "metadata": {},
   "outputs": [
    {
     "name": "stdout",
     "output_type": "stream",
     "text": [
      "2.0     13\n",
      "4.0      7\n",
      "3.0      6\n",
      "7.0      5\n",
      "6.0      4\n",
      "5.0      4\n",
      "8.0      3\n",
      "15.0     1\n",
      "13.0     1\n",
      "12.0     1\n",
      "14.0     1\n",
      "18.0     1\n",
      "9.0      1\n",
      "16.0     1\n",
      "Name: ACTUAL_ICU_HDU_LOS, dtype: int64\n",
      "62468\n"
     ]
    }
   ],
   "source": [
    "print(df['ACTUAL_ICU_HDU_LOS'].value_counts())\n",
    "print(df['ACTUAL_ICU_HDU_LOS'].isna().sum())"
   ]
  },
  {
   "cell_type": "code",
   "execution_count": 140,
   "metadata": {},
   "outputs": [
    {
     "name": "stdout",
     "output_type": "stream",
     "text": [
      "[           nan 4.01807619e+09 1.01808677e+09 ... 4.02000976e+09\n",
      " 1.02000882e+09 4.02000532e+09]\n",
      "13117\n"
     ]
    }
   ],
   "source": [
    "print(df['CASE_NO'].unique())\n",
    "print(df['CASE_NO'].isna().sum())"
   ]
  },
  {
   "cell_type": "code",
   "execution_count": 143,
   "metadata": {},
   "outputs": [
    {
     "name": "stdout",
     "output_type": "stream",
     "text": [
      "1.0      39307\n",
      "2.0      13449\n",
      "3.0       6279\n",
      "5.0        767\n",
      "4.0        720\n",
      "7.0        290\n",
      "6.0         87\n",
      "10.0        51\n",
      "14.0        20\n",
      "8.0          5\n",
      "30.0         3\n",
      "21.0         2\n",
      "9.0          2\n",
      "28.0         2\n",
      "11.0         2\n",
      "20.0         2\n",
      "111.0        1\n",
      "12.0         1\n",
      "49.0         1\n",
      "32.0         1\n",
      "42.0         1\n",
      "22.0         1\n",
      "Name: ETBS_LOS, dtype: int64\n",
      "1523\n"
     ]
    }
   ],
   "source": [
    "print(df['ETBS_LOS'].value_counts())\n",
    "print(df['ETBS_LOS'].isna().sum())"
   ]
  },
  {
   "cell_type": "code",
   "execution_count": 145,
   "metadata": {},
   "outputs": [
    {
     "name": "stdout",
     "output_type": "stream",
     "text": [
      "[4471730. 5148520. 6112323. ... 6120029. 5485720. 6256103.]\n",
      "122\n"
     ]
    }
   ],
   "source": [
    "print(df['PATIENT_NUMBER'].unique())\n",
    "print(df['PATIENT_NUMBER'].isna().sum())"
   ]
  },
  {
   "cell_type": "code",
   "execution_count": 146,
   "metadata": {},
   "outputs": [
    {
     "name": "stdout",
     "output_type": "stream",
     "text": [
      "[509730. 679695. 239899. ... 278093. 109345. 268485.]\n",
      "11832\n"
     ]
    }
   ],
   "source": [
    "print(df['RESID_POSTALCODE'].unique())\n",
    "print(df['RESID_POSTALCODE'].isna().sum())"
   ]
  },
  {
   "cell_type": "code",
   "execution_count": 137,
   "metadata": {},
   "outputs": [
    {
     "name": "stdout",
     "output_type": "stream",
     "text": [
      "[509730. 688536. 239899. ... 238334. 669487. 268485.]\n",
      "14244\n"
     ]
    }
   ],
   "source": [
    "print(df['CONT_POSTAL'].unique())\n",
    "print(df['CONT_POSTAL'].isna().sum())"
   ]
  },
  {
   "cell_type": "code",
   "execution_count": 54,
   "metadata": {},
   "outputs": [],
   "source": [
    "index_col = 'ACTUAL_CASE_NUMBER'\n",
    "col_drop = [\n",
    "    'INST', # represented by 'ACTUAL_CASE_INSTITUTION'\n",
    "    'ACTUAL_PATIENT_NUMBER','CASE_NO','PATIENT_NUMBER','ACTUAL_PRIMARY_DIAGNOSIS_SID', # represented by 'ACTUAL_CASE_NUMBER'\n",
    "    'CASE_TYPE','PATIENT_TYPE', # single value features\n",
    "    'ADM_DATE','ACTUAL_ADMISSION_DTE','DOB', # aggregate to admission age\n",
    "    'RESID_POSTALCODE','CONT_POSTAL', # drop postal codes for now\n",
    "    ]"
   ]
  },
  {
   "cell_type": "code",
   "execution_count": null,
   "metadata": {},
   "outputs": [],
   "source": []
  }
 ],
 "metadata": {
  "kernelspec": {
   "display_name": "Python 3",
   "language": "python",
   "name": "python3"
  },
  "language_info": {
   "codemirror_mode": {
    "name": "ipython",
    "version": 3
   },
   "file_extension": ".py",
   "mimetype": "text/x-python",
   "name": "python",
   "nbconvert_exporter": "python",
   "pygments_lexer": "ipython3",
   "version": "3.8.6"
  }
 },
 "nbformat": 4,
 "nbformat_minor": 2
}
