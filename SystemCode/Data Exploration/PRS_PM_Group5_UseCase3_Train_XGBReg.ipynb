{
 "cells": [
  {
   "cell_type": "markdown",
   "metadata": {},
   "source": [
    "Imports"
   ]
  },
  {
   "cell_type": "code",
   "execution_count": 1,
   "metadata": {},
   "outputs": [
    {
     "name": "stderr",
     "output_type": "stream",
     "text": [
      "Using Theano backend.\n",
      "WARNING (theano.configdefaults): g++ not available, if using conda: `conda install m2w64-toolchain`\n",
      "C:\\ProgramData\\Anaconda3\\envs\\prpms\\lib\\site-packages\\theano\\configdefaults.py:560: UserWarning: DeprecationWarning: there is no c++ compiler.This is deprecated and with Theano 0.11 a c++ compiler will be mandatory\n",
      "  warnings.warn(\"DeprecationWarning: there is no c++ compiler.\"\n",
      "WARNING (theano.configdefaults): g++ not detected ! Theano will be unable to execute optimized C-implementations (for both CPU and GPU) and will default to Python implementations. Performance will be severely degraded. To remove this warning, set Theano flags cxx to an empty string.\n",
      "WARNING (theano.tensor.blas): Using NumPy C-API based implementation for BLAS functions.\n"
     ]
    }
   ],
   "source": [
    "import pandas as pd\n",
    "import numpy as np\n",
    "import seaborn as sns\n",
    "import matplotlib.pyplot as plt\n",
    "from xgboost import XGBRegressor\n",
    "from keras.callbacks import ModelCheckpoint\n",
    "from keras.models import Sequential\n",
    "from keras.layers import Dense, Activation, Flatten\n",
    "from sklearn.model_selection import train_test_split\n",
    "from sklearn.ensemble import RandomForestRegressor\n",
    "from sklearn.metrics import mean_absolute_error \n",
    "from sklearn.metrics import mean_squared_error\n",
    "import pickle\n",
    "import sys"
   ]
  },
  {
   "cell_type": "code",
   "execution_count": 2,
   "metadata": {},
   "outputs": [],
   "source": [
    "# Function to show various error measurement\n",
    "def forecast_accuracy(forecast, actual):\n",
    "    mape = np.mean(np.abs(forecast - actual)/np.abs(actual))  # MAPE\n",
    "    me = np.mean(forecast - actual)             # ME\n",
    "    mae = np.mean(np.abs(forecast - actual))    # MAE\n",
    "    mpe = np.mean((forecast - actual)/actual)   # MPE\n",
    "    mse = np.mean((forecast - actual)**2)  # MSE\n",
    "    rmse = np.mean((forecast - actual)**2)**.5  # RMSE\n",
    "    #corr = np.corrcoef(forecast, actual)[0,1]   # corr\n",
    "    #mins = np.amin(np.hstack([forecast[:,None], \n",
    "    #                          actual[:,None]]), axis=1)\n",
    "    #maxs = np.amax(np.hstack([forecast[:,None], \n",
    "    #                          actual[:,None]]), axis=1)\n",
    "    #minmax = 1 - np.mean(mins/maxs)             # minmax\n",
    "    #acf1 = acf(fc-test)[1]                      # ACF1\n",
    "    #return({'mape':mape, 'me':me, 'mae': mae, \n",
    "    #        'mpe': mpe, 'rmse':rmse, 'acf1':acf1, \n",
    "    #        'corr':corr, 'minmax':minmax})\n",
    "    return({'mape':mape, 'me':me, 'mae': mae, \n",
    "            'mpe': mpe, 'mse':mse, 'rmse':rmse})"
   ]
  },
  {
   "cell_type": "code",
   "execution_count": 3,
   "metadata": {},
   "outputs": [
    {
     "name": "stdout",
     "output_type": "stream",
     "text": [
      "d:\\Users\\mokky\\Documents\\GitHub\\nus-iss\\PRS-PM-ISY5002-GROUP5\\SystemCode\n"
     ]
    }
   ],
   "source": [
    "import os\n",
    "os.chdir('d:/Users/mokky/Documents/GitHub/nus-iss/PRS-PM-ISY5002-GROUP5/SystemCode')\n",
    "print(os.getcwd())"
   ]
  },
  {
   "cell_type": "code",
   "execution_count": 4,
   "metadata": {},
   "outputs": [],
   "source": [
    "file_dir = './Data Exploration/data/uc3/'\n",
    "X_train_file_path = 'all_hosp_new_train_X_uc3.pkl'\n",
    "y_train_file_path = 'all_hosp_data_uc3_y_train_uc3.pkl'\n",
    "X_test_file_path = 'all_hosp_new_test_X_uc3.pkl'\n",
    "y_test_file_path = 'all_hosp_data_uc3_y_test_uc3.pkl'"
   ]
  },
  {
   "cell_type": "code",
   "execution_count": 5,
   "metadata": {},
   "outputs": [],
   "source": [
    "df_X_train = pd.read_pickle(file_dir + X_train_file_path)\n",
    "df_y_train = pd.read_pickle(file_dir + y_train_file_path)\n",
    "df_X_test = pd.read_pickle(file_dir + X_test_file_path)\n",
    "df_y_test = pd.read_pickle(file_dir + y_test_file_path)"
   ]
  },
  {
   "cell_type": "code",
   "execution_count": 125,
   "metadata": {},
   "outputs": [
    {
     "data": {
      "text/plain": [
       "XGBRegressor(base_score=0.5, booster='gbtree', colsample_bylevel=1,\n",
       "             colsample_bynode=1, colsample_bytree=1, gamma=0, gpu_id=-1,\n",
       "             importance_type='gain', interaction_constraints='',\n",
       "             learning_rate=0.300000012, max_delta_step=0, max_depth=6,\n",
       "             min_child_weight=1, missing=nan, monotone_constraints='()',\n",
       "             n_estimators=100, n_jobs=0, num_parallel_tree=1, random_state=0,\n",
       "             reg_alpha=0, reg_lambda=1, scale_pos_weight=1, subsample=1,\n",
       "             tree_method='exact', validate_parameters=1, verbosity=None)"
      ]
     },
     "execution_count": 125,
     "metadata": {},
     "output_type": "execute_result"
    }
   ],
   "source": [
    "XGBModel = XGBRegressor()\n",
    "XGBModel.fit(df_X_train,df_y_train , verbose=True)\n",
    "\n",
    "# save model to file\n",
    "pickle.dump(model, open(file_dir + \"uc3_xgbreg_model_pkl.sav\", \"wb\"))"
   ]
  },
  {
   "cell_type": "code",
   "execution_count": 126,
   "metadata": {},
   "outputs": [],
   "source": [
    "XGBpredictions = XGBModel.predict(df_X_test)"
   ]
  },
  {
   "cell_type": "code",
   "execution_count": 127,
   "metadata": {},
   "outputs": [
    {
     "data": {
      "text/plain": [
       "<matplotlib.axes._subplots.AxesSubplot at 0x1e48a7808c8>"
      ]
     },
     "execution_count": 127,
     "metadata": {},
     "output_type": "execute_result"
    },
    {
     "data": {
      "image/png": "[encoded data removed]",
      "text/plain": [
       "<Figure size 432x288 with 1 Axes>"
      ]
     },
     "metadata": {
      "needs_background": "light"
     },
     "output_type": "display_data"
    }
   ],
   "source": [
    "sns.regplot(df_y_test,XGBpredictions)"
   ]
  },
  {
   "cell_type": "code",
   "execution_count": 128,
   "metadata": {},
   "outputs": [
    {
     "name": "stdout",
     "output_type": "stream",
     "text": [
      "Mean squared error: 70582758.54\n",
      "Root Mean squared error: 8401.35\n",
      "Mean absolute error: 2097.85\n"
     ]
    }
   ],
   "source": [
    "# MSE\n",
    "print('Mean squared error: %.2f'\n",
    "      % mean_squared_error(df_y_test,XGBpredictions, squared=True))\n",
    "\n",
    "# RMSE\n",
    "print('Root Mean squared error: %.2f'\n",
    "      % mean_squared_error(df_y_test,XGBpredictions, squared=False))\n",
    "\n",
    "# MAE\n",
    "print('Mean absolute error: %.2f'\n",
    "      % mean_absolute_error(df_y_test,XGBpredictions))"
   ]
  },
  {
   "cell_type": "code",
   "execution_count": 129,
   "metadata": {},
   "outputs": [
    {
     "data": {
      "text/plain": [
       "{'mape': 0.4179715600785779,\n",
       " 'me': 37.48459491954715,\n",
       " 'mae': 2097.8492469866064,\n",
       " 'mpe': 0.22924739651142068,\n",
       " 'mse': 70582758.53612088,\n",
       " 'rmse': 8401.354565551967}"
      ]
     },
     "execution_count": 129,
     "metadata": {},
     "output_type": "execute_result"
    }
   ],
   "source": [
    "forecast_accuracy(XGBpredictions, df_y_test)"
   ]
  },
  {
   "cell_type": "code",
   "execution_count": null,
   "metadata": {},
   "outputs": [],
   "source": []
  }
 ],
 "metadata": {
  "kernelspec": {
   "display_name": "Python 3",
   "language": "python",
   "name": "python3"
  },
  "language_info": {
   "codemirror_mode": {
    "name": "ipython",
    "version": 3
   },
   "file_extension": ".py",
   "mimetype": "text/x-python",
   "name": "python",
   "nbconvert_exporter": "python",
   "pygments_lexer": "ipython3",
   "version": "3.7.8"
  }
 },
 "nbformat": 4,
 "nbformat_minor": 4
}
