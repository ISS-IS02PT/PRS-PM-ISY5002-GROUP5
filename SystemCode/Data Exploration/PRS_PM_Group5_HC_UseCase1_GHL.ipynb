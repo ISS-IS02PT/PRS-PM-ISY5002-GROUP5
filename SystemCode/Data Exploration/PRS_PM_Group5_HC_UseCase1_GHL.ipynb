{
 "cells": [
  {
   "cell_type": "markdown",
   "metadata": {},
   "source": [
    "# Parkway Project Use Case 1: Write Off Cases Prediction"
   ]
  },
  {
   "cell_type": "markdown",
   "metadata": {},
   "source": [
    "## DATA PREPARATION"
   ]
  },
  {
   "cell_type": "markdown",
   "metadata": {},
   "source": [
    "### Load Data"
   ]
  },
  {
   "cell_type": "markdown",
   "metadata": {},
   "source": [
    "#### Import packages"
   ]
  },
  {
   "cell_type": "code",
   "execution_count": 2,
   "metadata": {},
   "outputs": [
    {
     "name": "stderr",
     "output_type": "stream",
     "text": [
      "/opt/conda/lib/python3.7/site-packages/ipykernel/ipkernel.py:287: DeprecationWarning: `should_run_async` will not call `transform_cell` automatically in the future. Please pass the result to `transformed_cell` argument and any exception that happen during thetransform in `preprocessing_exc_tuple` in IPython 7.17 and above.\n",
      "  and should_run_async(code)\n"
     ]
    }
   ],
   "source": [
    "import pandas as pd\n",
    "import numpy as np\n",
    "import seaborn as sns\n",
    "import matplotlib.pyplot as plt\n",
    "%matplotlib inline\n",
    "pd.set_option('display.max_rows', 500)\n",
    "import warnings\n",
    "warnings.filterwarnings(action='once')\n",
    "import pickle\n",
    "from imblearn.over_sampling import SMOTE"
   ]
  },
  {
   "cell_type": "code",
   "execution_count": 3,
   "metadata": {},
   "outputs": [
    {
     "name": "stdout",
     "output_type": "stream",
     "text": [
      "/home/jupyter/temp25Oct-Mok-cfc9083c3125ca7ce3bf62e5/PRS-PM-ISY5002-GROUP5/SystemCode\n"
     ]
    },
    {
     "name": "stderr",
     "output_type": "stream",
     "text": [
      "/opt/conda/lib/python3.7/site-packages/ipykernel/ipkernel.py:287: DeprecationWarning: `should_run_async` will not call `transform_cell` automatically in the future. Please pass the result to `transformed_cell` argument and any exception that happen during thetransform in `preprocessing_exc_tuple` in IPython 7.17 and above.\n",
      "  and should_run_async(code)\n"
     ]
    }
   ],
   "source": [
    "import os\n",
    "os.chdir('../')\n",
    "print(os.getcwd())"
   ]
  },
  {
   "cell_type": "code",
   "execution_count": 4,
   "metadata": {},
   "outputs": [],
   "source": [
    "%load_ext autoreload\n",
    "%autoreload 2\n",
    "from datapipeline import Datapipeline\n",
    "dpl = Datapipeline()"
   ]
  },
  {
   "cell_type": "markdown",
   "metadata": {},
   "source": [
    "#### Read data from file"
   ]
  },
  {
   "cell_type": "code",
   "execution_count": 10,
   "metadata": {},
   "outputs": [],
   "source": [
    "file_dir = './Data Exploration/data/uc1/'\n",
    "dict_X_train_file_paths = {\n",
    "    'GHL' : [file_dir + 'GHL_new_train_X_uc1.pkl'],\n",
    "#    'MEH' : [file_dir + 'MEH_new_train_X_uc1.pkl'],\n",
    "#    'PEH' : [file_dir + 'PEH_new_train_X_uc1.pkl'],\n",
    "#    'PNH' : [file_dir + 'PNH_new_train_X_uc1.pkl']\n",
    "}\n",
    "dict_y_train_file_paths = {\n",
    "    'GHL' : file_dir + 'GHL_data_y_train.pkl',\n",
    "#     'MEH' : file_dir + 'MEH_data_y_train.pkl',\n",
    "#     'PEH' : file_dir + 'PEH_data_y_train.pkl',\n",
    "#     'PNH' : file_dir + 'PNH_data_y_train.pkl'\n",
    "}\n",
    "dict_X_test_file_paths = {\n",
    "    'GHL' : [file_dir + 'GHL_new_test_X_uc1.pkl'],\n",
    "#     'MEH' : [file_dir + 'MEH_new_test_X_uc1.pkl'],\n",
    "#     'PEH' : [file_dir + 'PEH_new_test_X_uc1.pkl'],\n",
    "#     'PNH' : [file_dir + 'PNH_new_test_X_uc1.pkl']\n",
    "}\n",
    "dict_y_test_file_paths = {\n",
    "    'GHL' : file_dir + 'GHL_data_y_test.pkl',\n",
    "#     'MEH' : file_dir + 'MEH_data_y_test.pkl',\n",
    "#     'PEH' : file_dir + 'PEH_data_y_test.pkl',\n",
    "#     'PNH' : file_dir + 'PNH_data_y_test.pkl'\n",
    "}"
   ]
  },
  {
   "cell_type": "code",
   "execution_count": 11,
   "metadata": {},
   "outputs": [
    {
     "name": "stdout",
     "output_type": "stream",
     "text": [
      "X_train GHL (79672, 3581)\n",
      "y_train GHL (79672,)\n",
      "X_test GHL (26557, 3581)\n",
      "y_test GHL (26557,)\n"
     ]
    }
   ],
   "source": [
    "dict_df_X_train = {}\n",
    "dict_df_y_train = {}\n",
    "dict_df_X_test = {}\n",
    "dict_df_y_test = {}\n",
    "\n",
    "for hosp in dict_X_train_file_paths:\n",
    "    dict_df_X_train[hosp] = pd.concat([pd.read_pickle(file_path)\n",
    "                                       for file_path in dict_X_train_file_paths[hosp]])\n",
    "    print(f'X_train {hosp} {dict_df_X_train[hosp].shape}')\n",
    "    \n",
    "    dict_df_y_train[hosp] = pd.read_pickle(dict_y_train_file_paths[hosp])\n",
    "    print(f'y_train {hosp} {dict_df_y_train[hosp].shape}')\n",
    "\n",
    "    dict_df_X_test[hosp] = pd.concat([pd.read_pickle(file_path)\n",
    "                                      for file_path in dict_X_test_file_paths[hosp]])\n",
    "    print(f'X_test {hosp} {dict_df_X_test[hosp].shape}')\n",
    "\n",
    "    dict_df_y_test[hosp] = pd.read_pickle(dict_y_test_file_paths[hosp])\n",
    "    print(f'y_test {hosp} {dict_df_y_test[hosp].shape}')"
   ]
  },
  {
   "cell_type": "code",
   "execution_count": 12,
   "metadata": {},
   "outputs": [
    {
     "name": "stderr",
     "output_type": "stream",
     "text": [
      "/opt/conda/lib/python3.7/site-packages/ipykernel/ipkernel.py:287: DeprecationWarning: `should_run_async` will not call `transform_cell` automatically in the future. Please pass the result to `transformed_cell` argument and any exception that happen during thetransform in `preprocessing_exc_tuple` in IPython 7.17 and above.\n",
      "  and should_run_async(code)\n"
     ]
    }
   ],
   "source": [
    "def convert_y(df):\n",
    "    df1 = dpl.bin_column(df.to_frame(), col='WRITE_OFF', bin_thresh = [500])\n",
    "    df1 = pd.get_dummies(df1['bin_WRITE_OFF'])\n",
    "    df1 = df1.drop(0, axis=1)\n",
    "    df1.columns = ['WRITE_OFF_LABEL']\n",
    "    return df1"
   ]
  },
  {
   "cell_type": "code",
   "execution_count": 13,
   "metadata": {},
   "outputs": [],
   "source": [
    "for hosp in dict_df_y_train:\n",
    "    dict_df_y_train[hosp] = convert_y(dict_df_y_train[hosp])\n",
    "    dict_df_y_test[hosp] = convert_y(dict_df_y_test[hosp])"
   ]
  },
  {
   "cell_type": "markdown",
   "metadata": {},
   "source": [
    "## DECISION TREE"
   ]
  },
  {
   "cell_type": "markdown",
   "metadata": {},
   "source": [
    "### Decision Tree WITHOUT SMOTE"
   ]
  },
  {
   "cell_type": "code",
   "execution_count": 14,
   "metadata": {},
   "outputs": [],
   "source": [
    "from sklearn.tree import DecisionTreeClassifier\n",
    "from sklearn.metrics import classification_report, confusion_matrix  \n",
    "from sklearn.tree import export_graphviz\n",
    "from subprocess import call"
   ]
  },
  {
   "cell_type": "code",
   "execution_count": 15,
   "metadata": {},
   "outputs": [],
   "source": [
    "criterion = 'entropy'\n",
    "rand_seed = 0"
   ]
  },
  {
   "cell_type": "code",
   "execution_count": 16,
   "metadata": {},
   "outputs": [
    {
     "name": "stdout",
     "output_type": "stream",
     "text": [
      "DecisionTreeClassifier(criterion='entropy', random_state=0)\n",
      "Accuracy on GHL training set without SMOTE decision tree: 1.0\n",
      "Accuracy on GHL test set without SMOTE decision tree: 0.9986444251986294\n"
     ]
    },
    {
     "name": "stderr",
     "output_type": "stream",
     "text": [
      "/opt/conda/lib/python3.7/site-packages/ipykernel_launcher.py:9: ResourceWarning: unclosed file <_io.BufferedWriter name='./Data Exploration/data/uc1/GHL_uc1_no_smote_dt_model.pkl'>\n",
      "  if __name__ == '__main__':\n",
      "ResourceWarning: Enable tracemalloc to get the object allocation traceback\n"
     ]
    },
    {
     "name": "stdout",
     "output_type": "stream",
     "text": [
      "GHL decision tree\n",
      " [[26520    18]\n",
      " [   18     1]]\n",
      "GHL decision tree\n",
      "               precision    recall  f1-score   support\n",
      "\n",
      "           0       1.00      1.00      1.00     26538\n",
      "           1       0.05      0.05      0.05        19\n",
      "\n",
      "    accuracy                           1.00     26557\n",
      "   macro avg       0.53      0.53      0.53     26557\n",
      "weighted avg       1.00      1.00      1.00     26557\n",
      "\n"
     ]
    }
   ],
   "source": [
    "for hosp in dict_df_X_train:\n",
    "    model = DecisionTreeClassifier(criterion=criterion,random_state=rand_seed)\n",
    "    model.fit(dict_df_X_train[hosp], dict_df_y_train[hosp])\n",
    "    print(model)\n",
    "    print(f\"Accuracy on {hosp} training set without SMOTE decision tree: {model.score(dict_df_X_train[hosp], dict_df_y_train[hosp])}\")\n",
    "    print(f\"Accuracy on {hosp} test set without SMOTE decision tree: {model.score(dict_df_X_test[hosp], dict_df_y_test[hosp])}\")\n",
    "    \n",
    "    filename = file_dir + f'{hosp}_uc1_no_smote_dt_model.pkl'\n",
    "    pickle.dump(model, open(filename, 'wb'))\n",
    "    \n",
    "    y_pred = model.predict(dict_df_X_test[hosp])\n",
    "    print(hosp, 'decision tree\\n', confusion_matrix(dict_df_y_test[hosp], y_pred))  \n",
    "    print(hosp, 'decision tree\\n', classification_report(dict_df_y_test[hosp], y_pred)) "
   ]
  },
  {
   "cell_type": "markdown",
   "metadata": {},
   "source": [
    "### Decision Tree WITH SMOTE"
   ]
  },
  {
   "cell_type": "markdown",
   "metadata": {},
   "source": [
    "#### Decision Tree WITH SMOTE SS = 0.1 ~ 1.0"
   ]
  },
  {
   "cell_type": "code",
   "execution_count": 17,
   "metadata": {
    "scrolled": true
   },
   "outputs": [
    {
     "name": "stderr",
     "output_type": "stream",
     "text": [
      "/opt/conda/lib/python3.7/site-packages/ipykernel/ipkernel.py:287: DeprecationWarning: `should_run_async` will not call `transform_cell` automatically in the future. Please pass the result to `transformed_cell` argument and any exception that happen during thetransform in `preprocessing_exc_tuple` in IPython 7.17 and above.\n",
      "  and should_run_async(code)\n"
     ]
    },
    {
     "name": "stdout",
     "output_type": "stream",
     "text": [
      "DecisionTreeClassifier(criterion='entropy', random_state=0)\n",
      "Accuracy on GHL training set with 0.1 SMOTE decision tree: 1.0\n",
      "Accuracy on GHL test set with 0.1 SMOTE decision tree: 0.9986444251986294\n"
     ]
    },
    {
     "name": "stderr",
     "output_type": "stream",
     "text": [
      "/opt/conda/lib/python3.7/site-packages/ipykernel_launcher.py:13: ResourceWarning: unclosed file <_io.BufferedWriter name='./Data Exploration/data/uc1/GHL_uc1_0.1_smote_dt_model.pkl'>\n",
      "  del sys.path[0]\n",
      "ResourceWarning: Enable tracemalloc to get the object allocation traceback\n"
     ]
    },
    {
     "name": "stdout",
     "output_type": "stream",
     "text": [
      "GHL decision tree \n",
      " [[26518    20]\n",
      " [   16     3]]\n",
      "GHL decision tree \n",
      "               precision    recall  f1-score   support\n",
      "\n",
      "           0       1.00      1.00      1.00     26538\n",
      "           1       0.13      0.16      0.14        19\n",
      "\n",
      "    accuracy                           1.00     26557\n",
      "   macro avg       0.56      0.58      0.57     26557\n",
      "weighted avg       1.00      1.00      1.00     26557\n",
      "\n",
      "DecisionTreeClassifier(criterion='entropy', random_state=0)\n",
      "Accuracy on GHL training set with 0.2 SMOTE decision tree: 1.0\n",
      "Accuracy on GHL test set with 0.2 SMOTE decision tree: 0.9986444251986294\n"
     ]
    },
    {
     "name": "stderr",
     "output_type": "stream",
     "text": [
      "/opt/conda/lib/python3.7/site-packages/ipykernel_launcher.py:13: ResourceWarning: unclosed file <_io.BufferedWriter name='./Data Exploration/data/uc1/GHL_uc1_0.2_smote_dt_model.pkl'>\n",
      "  del sys.path[0]\n",
      "ResourceWarning: Enable tracemalloc to get the object allocation traceback\n"
     ]
    },
    {
     "name": "stdout",
     "output_type": "stream",
     "text": [
      "GHL decision tree \n",
      " [[26518    20]\n",
      " [   16     3]]\n",
      "GHL decision tree \n",
      "               precision    recall  f1-score   support\n",
      "\n",
      "           0       1.00      1.00      1.00     26538\n",
      "           1       0.13      0.16      0.14        19\n",
      "\n",
      "    accuracy                           1.00     26557\n",
      "   macro avg       0.56      0.58      0.57     26557\n",
      "weighted avg       1.00      1.00      1.00     26557\n",
      "\n",
      "DecisionTreeClassifier(criterion='entropy', random_state=0)\n",
      "Accuracy on GHL training set with 0.30000000000000004 SMOTE decision tree: 1.0\n",
      "Accuracy on GHL test set with 0.30000000000000004 SMOTE decision tree: 0.9983055314982867\n"
     ]
    },
    {
     "name": "stderr",
     "output_type": "stream",
     "text": [
      "/opt/conda/lib/python3.7/site-packages/ipykernel_launcher.py:13: ResourceWarning: unclosed file <_io.BufferedWriter name='./Data Exploration/data/uc1/GHL_uc1_0.30000000000000004_smote_dt_model.pkl'>\n",
      "  del sys.path[0]\n",
      "ResourceWarning: Enable tracemalloc to get the object allocation traceback\n"
     ]
    },
    {
     "name": "stdout",
     "output_type": "stream",
     "text": [
      "GHL decision tree \n",
      " [[26510    28]\n",
      " [   17     2]]\n",
      "GHL decision tree \n",
      "               precision    recall  f1-score   support\n",
      "\n",
      "           0       1.00      1.00      1.00     26538\n",
      "           1       0.07      0.11      0.08        19\n",
      "\n",
      "    accuracy                           1.00     26557\n",
      "   macro avg       0.53      0.55      0.54     26557\n",
      "weighted avg       1.00      1.00      1.00     26557\n",
      "\n",
      "DecisionTreeClassifier(criterion='entropy', random_state=0)\n",
      "Accuracy on GHL training set with 0.4 SMOTE decision tree: 1.0\n",
      "Accuracy on GHL test set with 0.4 SMOTE decision tree: 0.9981925669315058\n"
     ]
    },
    {
     "name": "stderr",
     "output_type": "stream",
     "text": [
      "/opt/conda/lib/python3.7/site-packages/ipykernel_launcher.py:13: ResourceWarning: unclosed file <_io.BufferedWriter name='./Data Exploration/data/uc1/GHL_uc1_0.4_smote_dt_model.pkl'>\n",
      "  del sys.path[0]\n",
      "ResourceWarning: Enable tracemalloc to get the object allocation traceback\n"
     ]
    },
    {
     "name": "stdout",
     "output_type": "stream",
     "text": [
      "GHL decision tree \n",
      " [[26507    31]\n",
      " [   17     2]]\n",
      "GHL decision tree \n",
      "               precision    recall  f1-score   support\n",
      "\n",
      "           0       1.00      1.00      1.00     26538\n",
      "           1       0.06      0.11      0.08        19\n",
      "\n",
      "    accuracy                           1.00     26557\n",
      "   macro avg       0.53      0.55      0.54     26557\n",
      "weighted avg       1.00      1.00      1.00     26557\n",
      "\n",
      "DecisionTreeClassifier(criterion='entropy', random_state=0)\n",
      "Accuracy on GHL training set with 0.5 SMOTE decision tree: 1.0\n",
      "Accuracy on GHL test set with 0.5 SMOTE decision tree: 0.9986067703430357\n"
     ]
    },
    {
     "name": "stderr",
     "output_type": "stream",
     "text": [
      "/opt/conda/lib/python3.7/site-packages/ipykernel_launcher.py:13: ResourceWarning: unclosed file <_io.BufferedWriter name='./Data Exploration/data/uc1/GHL_uc1_0.5_smote_dt_model.pkl'>\n",
      "  del sys.path[0]\n",
      "ResourceWarning: Enable tracemalloc to get the object allocation traceback\n"
     ]
    },
    {
     "name": "stdout",
     "output_type": "stream",
     "text": [
      "GHL decision tree \n",
      " [[26518    20]\n",
      " [   17     2]]\n",
      "GHL decision tree \n",
      "               precision    recall  f1-score   support\n",
      "\n",
      "           0       1.00      1.00      1.00     26538\n",
      "           1       0.09      0.11      0.10        19\n",
      "\n",
      "    accuracy                           1.00     26557\n",
      "   macro avg       0.55      0.55      0.55     26557\n",
      "weighted avg       1.00      1.00      1.00     26557\n",
      "\n",
      "DecisionTreeClassifier(criterion='entropy', random_state=0)\n",
      "Accuracy on GHL training set with 0.6 SMOTE decision tree: 1.0\n",
      "Accuracy on GHL test set with 0.6 SMOTE decision tree: 0.9984938057762548\n"
     ]
    },
    {
     "name": "stderr",
     "output_type": "stream",
     "text": [
      "/opt/conda/lib/python3.7/site-packages/ipykernel_launcher.py:13: ResourceWarning: unclosed file <_io.BufferedWriter name='./Data Exploration/data/uc1/GHL_uc1_0.6_smote_dt_model.pkl'>\n",
      "  del sys.path[0]\n",
      "ResourceWarning: Enable tracemalloc to get the object allocation traceback\n"
     ]
    },
    {
     "name": "stdout",
     "output_type": "stream",
     "text": [
      "GHL decision tree \n",
      " [[26515    23]\n",
      " [   17     2]]\n",
      "GHL decision tree \n",
      "               precision    recall  f1-score   support\n",
      "\n",
      "           0       1.00      1.00      1.00     26538\n",
      "           1       0.08      0.11      0.09        19\n",
      "\n",
      "    accuracy                           1.00     26557\n",
      "   macro avg       0.54      0.55      0.55     26557\n",
      "weighted avg       1.00      1.00      1.00     26557\n",
      "\n",
      "DecisionTreeClassifier(criterion='entropy', random_state=0)\n",
      "Accuracy on GHL training set with 0.7000000000000001 SMOTE decision tree: 1.0\n",
      "Accuracy on GHL test set with 0.7000000000000001 SMOTE decision tree: 0.9982302217870994\n"
     ]
    },
    {
     "name": "stderr",
     "output_type": "stream",
     "text": [
      "/opt/conda/lib/python3.7/site-packages/ipykernel_launcher.py:13: ResourceWarning: unclosed file <_io.BufferedWriter name='./Data Exploration/data/uc1/GHL_uc1_0.7000000000000001_smote_dt_model.pkl'>\n",
      "  del sys.path[0]\n",
      "ResourceWarning: Enable tracemalloc to get the object allocation traceback\n"
     ]
    },
    {
     "name": "stdout",
     "output_type": "stream",
     "text": [
      "GHL decision tree \n",
      " [[26509    29]\n",
      " [   18     1]]\n",
      "GHL decision tree \n",
      "               precision    recall  f1-score   support\n",
      "\n",
      "           0       1.00      1.00      1.00     26538\n",
      "           1       0.03      0.05      0.04        19\n",
      "\n",
      "    accuracy                           1.00     26557\n",
      "   macro avg       0.52      0.53      0.52     26557\n",
      "weighted avg       1.00      1.00      1.00     26557\n",
      "\n",
      "DecisionTreeClassifier(criterion='entropy', random_state=0)\n",
      "Accuracy on GHL training set with 0.8 SMOTE decision tree: 1.0\n",
      "Accuracy on GHL test set with 0.8 SMOTE decision tree: 0.9985314606318485\n"
     ]
    },
    {
     "name": "stderr",
     "output_type": "stream",
     "text": [
      "/opt/conda/lib/python3.7/site-packages/ipykernel_launcher.py:13: ResourceWarning: unclosed file <_io.BufferedWriter name='./Data Exploration/data/uc1/GHL_uc1_0.8_smote_dt_model.pkl'>\n",
      "  del sys.path[0]\n",
      "ResourceWarning: Enable tracemalloc to get the object allocation traceback\n"
     ]
    },
    {
     "name": "stdout",
     "output_type": "stream",
     "text": [
      "GHL decision tree \n",
      " [[26516    22]\n",
      " [   17     2]]\n",
      "GHL decision tree \n",
      "               precision    recall  f1-score   support\n",
      "\n",
      "           0       1.00      1.00      1.00     26538\n",
      "           1       0.08      0.11      0.09        19\n",
      "\n",
      "    accuracy                           1.00     26557\n",
      "   macro avg       0.54      0.55      0.55     26557\n",
      "weighted avg       1.00      1.00      1.00     26557\n",
      "\n",
      "DecisionTreeClassifier(criterion='entropy', random_state=0)\n",
      "Accuracy on GHL training set with 0.9 SMOTE decision tree: 1.0\n",
      "Accuracy on GHL test set with 0.9 SMOTE decision tree: 0.9984184960650676\n"
     ]
    },
    {
     "name": "stderr",
     "output_type": "stream",
     "text": [
      "/opt/conda/lib/python3.7/site-packages/ipykernel_launcher.py:13: ResourceWarning: unclosed file <_io.BufferedWriter name='./Data Exploration/data/uc1/GHL_uc1_0.9_smote_dt_model.pkl'>\n",
      "  del sys.path[0]\n",
      "ResourceWarning: Enable tracemalloc to get the object allocation traceback\n"
     ]
    },
    {
     "name": "stdout",
     "output_type": "stream",
     "text": [
      "GHL decision tree \n",
      " [[26514    24]\n",
      " [   18     1]]\n",
      "GHL decision tree \n",
      "               precision    recall  f1-score   support\n",
      "\n",
      "           0       1.00      1.00      1.00     26538\n",
      "           1       0.04      0.05      0.05        19\n",
      "\n",
      "    accuracy                           1.00     26557\n",
      "   macro avg       0.52      0.53      0.52     26557\n",
      "weighted avg       1.00      1.00      1.00     26557\n",
      "\n",
      "DecisionTreeClassifier(criterion='entropy', random_state=0)\n",
      "Accuracy on GHL training set with 1.0 SMOTE decision tree: 1.0\n",
      "Accuracy on GHL test set with 1.0 SMOTE decision tree: 0.9982678766426931\n"
     ]
    },
    {
     "name": "stderr",
     "output_type": "stream",
     "text": [
      "/opt/conda/lib/python3.7/site-packages/ipykernel_launcher.py:13: ResourceWarning: unclosed file <_io.BufferedWriter name='./Data Exploration/data/uc1/GHL_uc1_1.0_smote_dt_model.pkl'>\n",
      "  del sys.path[0]\n",
      "ResourceWarning: Enable tracemalloc to get the object allocation traceback\n"
     ]
    },
    {
     "name": "stdout",
     "output_type": "stream",
     "text": [
      "GHL decision tree \n",
      " [[26510    28]\n",
      " [   18     1]]\n",
      "GHL decision tree \n",
      "               precision    recall  f1-score   support\n",
      "\n",
      "           0       1.00      1.00      1.00     26538\n",
      "           1       0.03      0.05      0.04        19\n",
      "\n",
      "    accuracy                           1.00     26557\n",
      "   macro avg       0.52      0.53      0.52     26557\n",
      "weighted avg       1.00      1.00      1.00     26557\n",
      "\n"
     ]
    }
   ],
   "source": [
    "for hosp in dict_df_X_train:\n",
    "    for sample in np.arange(0.1, 1.1, 0.1):\n",
    "        sm_ss = SMOTE(random_state=55,sampling_strategy=sample)\n",
    "        X_train_ss, y_train_ss = sm_ss.fit_sample(dict_df_X_train[hosp], dict_df_y_train[hosp])\n",
    "        \n",
    "        model = DecisionTreeClassifier(criterion=criterion,random_state=rand_seed)\n",
    "        model.fit(X_train_ss, y_train_ss)\n",
    "        print(model)\n",
    "        print(f\"Accuracy on {hosp} training set with {sample} SMOTE decision tree: {model.score(X_train_ss, y_train_ss)}\")\n",
    "        print(f\"Accuracy on {hosp} test set with {sample} SMOTE decision tree: {model.score(dict_df_X_test[hosp], dict_df_y_test[hosp])}\")\n",
    "    \n",
    "        filename = file_dir + f'{hosp}_uc1_{sample}_smote_dt_model.pkl'\n",
    "        pickle.dump(model, open(filename, 'wb'))\n",
    "        \n",
    "        y_pred = model.predict(dict_df_X_test[hosp])\n",
    "        print(hosp, 'decision tree \\n', confusion_matrix(dict_df_y_test[hosp], y_pred))  \n",
    "        print(hosp, 'decision tree \\n', classification_report(dict_df_y_test[hosp], y_pred)) "
   ]
  },
  {
   "cell_type": "markdown",
   "metadata": {},
   "source": [
    "## LOGISTIC REGRESSION"
   ]
  },
  {
   "cell_type": "markdown",
   "metadata": {},
   "source": [
    "### Logistic Regression Without SMOTE"
   ]
  },
  {
   "cell_type": "code",
   "execution_count": 18,
   "metadata": {},
   "outputs": [
    {
     "name": "stderr",
     "output_type": "stream",
     "text": [
      "/opt/conda/lib/python3.7/site-packages/ipykernel/ipkernel.py:287: DeprecationWarning: `should_run_async` will not call `transform_cell` automatically in the future. Please pass the result to `transformed_cell` argument and any exception that happen during thetransform in `preprocessing_exc_tuple` in IPython 7.17 and above.\n",
      "  and should_run_async(code)\n"
     ]
    }
   ],
   "source": [
    "from sklearn.linear_model import LogisticRegression"
   ]
  },
  {
   "cell_type": "code",
   "execution_count": 19,
   "metadata": {},
   "outputs": [],
   "source": [
    "reg_strength = 0.01"
   ]
  },
  {
   "cell_type": "code",
   "execution_count": 20,
   "metadata": {},
   "outputs": [
    {
     "name": "stderr",
     "output_type": "stream",
     "text": [
      "/opt/conda/lib/python3.7/site-packages/sklearn/utils/validation.py:72: DataConversionWarning: A column-vector y was passed when a 1d array was expected. Please change the shape of y to (n_samples, ), for example using ravel().\n",
      "  return f(**kwargs)\n"
     ]
    },
    {
     "name": "stdout",
     "output_type": "stream",
     "text": [
      "LogisticRegression(C=0.01)\n",
      "GHL Training set without SMOTE log reg score: 0.9990460889647556\n",
      "GHL Test set without SMOTE log reg score: 0.999284557743721\n"
     ]
    },
    {
     "name": "stderr",
     "output_type": "stream",
     "text": [
      "/opt/conda/lib/python3.7/site-packages/ipykernel_launcher.py:8: ResourceWarning: unclosed file <_io.BufferedWriter name='./Data Exploration/data/uc1/GHL_uc1_no_smote_logreg_model.pkl'>\n",
      "  \n",
      "ResourceWarning: Enable tracemalloc to get the object allocation traceback\n"
     ]
    },
    {
     "name": "stdout",
     "output_type": "stream",
     "text": [
      "GHL log reg \n",
      " [[26538     0]\n",
      " [   19     0]]\n",
      "GHL log reg \n",
      "               precision    recall  f1-score   support\n",
      "\n",
      "           0       1.00      1.00      1.00     26538\n",
      "           1       0.00      0.00      0.00        19\n",
      "\n",
      "    accuracy                           1.00     26557\n",
      "   macro avg       0.50      0.50      0.50     26557\n",
      "weighted avg       1.00      1.00      1.00     26557\n",
      "\n"
     ]
    },
    {
     "name": "stderr",
     "output_type": "stream",
     "text": [
      "/opt/conda/lib/python3.7/site-packages/sklearn/metrics/_classification.py:1221: UndefinedMetricWarning: Precision and F-score are ill-defined and being set to 0.0 in labels with no predicted samples. Use `zero_division` parameter to control this behavior.\n",
      "  _warn_prf(average, modifier, msg_start, len(result))\n"
     ]
    }
   ],
   "source": [
    "for hosp in dict_df_X_train:\n",
    "    model = LogisticRegression(C=reg_strength).fit(dict_df_X_train[hosp], dict_df_y_train[hosp])\n",
    "    print(model)\n",
    "    print(f\"{hosp} Training set without SMOTE log reg score: {model.score(dict_df_X_train[hosp], dict_df_y_train[hosp])}\")\n",
    "    print(f\"{hosp} Test set without SMOTE log reg score: {model.score(dict_df_X_test[hosp], dict_df_y_test[hosp])}\")\n",
    "    \n",
    "    filename = file_dir + f'{hosp}_uc1_no_smote_logreg_model.pkl'\n",
    "    pickle.dump(model, open(filename, 'wb'))\n",
    "    \n",
    "    y_pred = model.predict(dict_df_X_test[hosp])\n",
    "    print(hosp, 'log reg \\n', confusion_matrix(dict_df_y_test[hosp], y_pred))  \n",
    "    print(hosp, 'log reg \\n', classification_report(dict_df_y_test[hosp], y_pred)) "
   ]
  },
  {
   "cell_type": "markdown",
   "metadata": {},
   "source": [
    "### Logistic Regression With SMOTE"
   ]
  },
  {
   "cell_type": "markdown",
   "metadata": {},
   "source": [
    "#### Logistic Regression With SMOTE ss=0.1 ~ 1.0"
   ]
  },
  {
   "cell_type": "code",
   "execution_count": 21,
   "metadata": {},
   "outputs": [
    {
     "name": "stderr",
     "output_type": "stream",
     "text": [
      "/opt/conda/lib/python3.7/site-packages/ipykernel/ipkernel.py:287: DeprecationWarning: `should_run_async` will not call `transform_cell` automatically in the future. Please pass the result to `transformed_cell` argument and any exception that happen during thetransform in `preprocessing_exc_tuple` in IPython 7.17 and above.\n",
      "  and should_run_async(code)\n",
      "/opt/conda/lib/python3.7/site-packages/sklearn/utils/validation.py:72: DataConversionWarning: A column-vector y was passed when a 1d array was expected. Please change the shape of y to (n_samples, ), for example using ravel().\n",
      "  return f(**kwargs)\n",
      "/opt/conda/lib/python3.7/site-packages/sklearn/linear_model/_logistic.py:764: ConvergenceWarning: lbfgs failed to converge (status=1):\n",
      "STOP: TOTAL NO. of ITERATIONS REACHED LIMIT.\n",
      "\n",
      "Increase the number of iterations (max_iter) or scale the data as shown in:\n",
      "    https://scikit-learn.org/stable/modules/preprocessing.html\n",
      "Please also refer to the documentation for alternative solver options:\n",
      "    https://scikit-learn.org/stable/modules/linear_model.html#logistic-regression\n",
      "  extra_warning_msg=_LOGISTIC_SOLVER_CONVERGENCE_MSG)\n"
     ]
    },
    {
     "name": "stdout",
     "output_type": "stream",
     "text": [
      "LogisticRegression(C=0.01)\n",
      "GHL Training set with 0.1 SMOTE log reg score: 0.9622869934670383\n",
      "GHL Test set with 0.1 SMOTE log reg score: 0.9956320367511391\n"
     ]
    },
    {
     "name": "stderr",
     "output_type": "stream",
     "text": [
      "/opt/conda/lib/python3.7/site-packages/ipykernel_launcher.py:12: ResourceWarning: unclosed file <_io.BufferedWriter name='./Data Exploration/data/uc1/GHL_uc1_0.1_smote_logreg_model.pkl'>\n",
      "  if sys.path[0] == '':\n",
      "ResourceWarning: Enable tracemalloc to get the object allocation traceback\n"
     ]
    },
    {
     "name": "stdout",
     "output_type": "stream",
     "text": [
      "GHL log reg \n",
      " [[26438   100]\n",
      " [   16     3]]\n",
      "GHL log reg \n",
      "               precision    recall  f1-score   support\n",
      "\n",
      "           0       1.00      1.00      1.00     26538\n",
      "           1       0.03      0.16      0.05        19\n",
      "\n",
      "    accuracy                           1.00     26557\n",
      "   macro avg       0.51      0.58      0.52     26557\n",
      "weighted avg       1.00      1.00      1.00     26557\n",
      "\n"
     ]
    },
    {
     "name": "stderr",
     "output_type": "stream",
     "text": [
      "/opt/conda/lib/python3.7/site-packages/sklearn/utils/validation.py:72: DataConversionWarning: A column-vector y was passed when a 1d array was expected. Please change the shape of y to (n_samples, ), for example using ravel().\n",
      "  return f(**kwargs)\n",
      "/opt/conda/lib/python3.7/site-packages/sklearn/linear_model/_logistic.py:764: ConvergenceWarning: lbfgs failed to converge (status=1):\n",
      "STOP: TOTAL NO. of ITERATIONS REACHED LIMIT.\n",
      "\n",
      "Increase the number of iterations (max_iter) or scale the data as shown in:\n",
      "    https://scikit-learn.org/stable/modules/preprocessing.html\n",
      "Please also refer to the documentation for alternative solver options:\n",
      "    https://scikit-learn.org/stable/modules/linear_model.html#logistic-regression\n",
      "  extra_warning_msg=_LOGISTIC_SOLVER_CONVERGENCE_MSG)\n"
     ]
    },
    {
     "name": "stdout",
     "output_type": "stream",
     "text": [
      "LogisticRegression(C=0.01)\n",
      "GHL Training set with 0.2 SMOTE log reg score: 0.9831651241676788\n",
      "GHL Test set with 0.2 SMOTE log reg score: 0.9902097375456566\n"
     ]
    },
    {
     "name": "stderr",
     "output_type": "stream",
     "text": [
      "/opt/conda/lib/python3.7/site-packages/ipykernel_launcher.py:12: ResourceWarning: unclosed file <_io.BufferedWriter name='./Data Exploration/data/uc1/GHL_uc1_0.2_smote_logreg_model.pkl'>\n",
      "  if sys.path[0] == '':\n",
      "ResourceWarning: Enable tracemalloc to get the object allocation traceback\n"
     ]
    },
    {
     "name": "stdout",
     "output_type": "stream",
     "text": [
      "GHL log reg \n",
      " [[26291   247]\n",
      " [   13     6]]\n",
      "GHL log reg \n",
      "               precision    recall  f1-score   support\n",
      "\n",
      "           0       1.00      0.99      1.00     26538\n",
      "           1       0.02      0.32      0.04        19\n",
      "\n",
      "    accuracy                           0.99     26557\n",
      "   macro avg       0.51      0.65      0.52     26557\n",
      "weighted avg       1.00      0.99      0.99     26557\n",
      "\n"
     ]
    },
    {
     "name": "stderr",
     "output_type": "stream",
     "text": [
      "/opt/conda/lib/python3.7/site-packages/sklearn/utils/validation.py:72: DataConversionWarning: A column-vector y was passed when a 1d array was expected. Please change the shape of y to (n_samples, ), for example using ravel().\n",
      "  return f(**kwargs)\n",
      "/opt/conda/lib/python3.7/site-packages/sklearn/linear_model/_logistic.py:764: ConvergenceWarning: lbfgs failed to converge (status=1):\n",
      "STOP: TOTAL NO. of ITERATIONS REACHED LIMIT.\n",
      "\n",
      "Increase the number of iterations (max_iter) or scale the data as shown in:\n",
      "    https://scikit-learn.org/stable/modules/preprocessing.html\n",
      "Please also refer to the documentation for alternative solver options:\n",
      "    https://scikit-learn.org/stable/modules/linear_model.html#logistic-regression\n",
      "  extra_warning_msg=_LOGISTIC_SOLVER_CONVERGENCE_MSG)\n"
     ]
    },
    {
     "name": "stdout",
     "output_type": "stream",
     "text": [
      "LogisticRegression(C=0.01)\n",
      "GHL Training set with 0.30000000000000004 SMOTE log reg score: 0.9879295682090533\n",
      "GHL Test set with 0.30000000000000004 SMOTE log reg score: 0.9861430131415446\n"
     ]
    },
    {
     "name": "stderr",
     "output_type": "stream",
     "text": [
      "/opt/conda/lib/python3.7/site-packages/ipykernel_launcher.py:12: ResourceWarning: unclosed file <_io.BufferedWriter name='./Data Exploration/data/uc1/GHL_uc1_0.30000000000000004_smote_logreg_model.pkl'>\n",
      "  if sys.path[0] == '':\n",
      "ResourceWarning: Enable tracemalloc to get the object allocation traceback\n"
     ]
    },
    {
     "name": "stdout",
     "output_type": "stream",
     "text": [
      "GHL log reg \n",
      " [[26183   355]\n",
      " [   13     6]]\n",
      "GHL log reg \n",
      "               precision    recall  f1-score   support\n",
      "\n",
      "           0       1.00      0.99      0.99     26538\n",
      "           1       0.02      0.32      0.03        19\n",
      "\n",
      "    accuracy                           0.99     26557\n",
      "   macro avg       0.51      0.65      0.51     26557\n",
      "weighted avg       1.00      0.99      0.99     26557\n",
      "\n"
     ]
    },
    {
     "name": "stderr",
     "output_type": "stream",
     "text": [
      "/opt/conda/lib/python3.7/site-packages/sklearn/utils/validation.py:72: DataConversionWarning: A column-vector y was passed when a 1d array was expected. Please change the shape of y to (n_samples, ), for example using ravel().\n",
      "  return f(**kwargs)\n",
      "/opt/conda/lib/python3.7/site-packages/sklearn/linear_model/_logistic.py:764: ConvergenceWarning: lbfgs failed to converge (status=1):\n",
      "STOP: TOTAL NO. of ITERATIONS REACHED LIMIT.\n",
      "\n",
      "Increase the number of iterations (max_iter) or scale the data as shown in:\n",
      "    https://scikit-learn.org/stable/modules/preprocessing.html\n",
      "Please also refer to the documentation for alternative solver options:\n",
      "    https://scikit-learn.org/stable/modules/linear_model.html#logistic-regression\n",
      "  extra_warning_msg=_LOGISTIC_SOLVER_CONVERGENCE_MSG)\n"
     ]
    },
    {
     "name": "stdout",
     "output_type": "stream",
     "text": [
      "LogisticRegression(C=0.01)\n",
      "GHL Training set with 0.4 SMOTE log reg score: 0.9872571454210975\n",
      "GHL Test set with 0.4 SMOTE log reg score: 0.9826787664269307\n"
     ]
    },
    {
     "name": "stderr",
     "output_type": "stream",
     "text": [
      "/opt/conda/lib/python3.7/site-packages/ipykernel_launcher.py:12: ResourceWarning: unclosed file <_io.BufferedWriter name='./Data Exploration/data/uc1/GHL_uc1_0.4_smote_logreg_model.pkl'>\n",
      "  if sys.path[0] == '':\n",
      "ResourceWarning: Enable tracemalloc to get the object allocation traceback\n"
     ]
    },
    {
     "name": "stdout",
     "output_type": "stream",
     "text": [
      "GHL log reg \n",
      " [[26091   447]\n",
      " [   13     6]]\n",
      "GHL log reg \n",
      "               precision    recall  f1-score   support\n",
      "\n",
      "           0       1.00      0.98      0.99     26538\n",
      "           1       0.01      0.32      0.03        19\n",
      "\n",
      "    accuracy                           0.98     26557\n",
      "   macro avg       0.51      0.65      0.51     26557\n",
      "weighted avg       1.00      0.98      0.99     26557\n",
      "\n"
     ]
    },
    {
     "name": "stderr",
     "output_type": "stream",
     "text": [
      "/opt/conda/lib/python3.7/site-packages/sklearn/utils/validation.py:72: DataConversionWarning: A column-vector y was passed when a 1d array was expected. Please change the shape of y to (n_samples, ), for example using ravel().\n",
      "  return f(**kwargs)\n",
      "/opt/conda/lib/python3.7/site-packages/sklearn/linear_model/_logistic.py:764: ConvergenceWarning: lbfgs failed to converge (status=1):\n",
      "STOP: TOTAL NO. of ITERATIONS REACHED LIMIT.\n",
      "\n",
      "Increase the number of iterations (max_iter) or scale the data as shown in:\n",
      "    https://scikit-learn.org/stable/modules/preprocessing.html\n",
      "Please also refer to the documentation for alternative solver options:\n",
      "    https://scikit-learn.org/stable/modules/linear_model.html#logistic-regression\n",
      "  extra_warning_msg=_LOGISTIC_SOLVER_CONVERGENCE_MSG)\n"
     ]
    },
    {
     "name": "stdout",
     "output_type": "stream",
     "text": [
      "LogisticRegression(C=0.01)\n",
      "GHL Training set with 0.5 SMOTE log reg score: 0.9863562125717157\n",
      "GHL Test set with 0.5 SMOTE log reg score: 0.9792898294235042\n"
     ]
    },
    {
     "name": "stderr",
     "output_type": "stream",
     "text": [
      "/opt/conda/lib/python3.7/site-packages/ipykernel_launcher.py:12: ResourceWarning: unclosed file <_io.BufferedWriter name='./Data Exploration/data/uc1/GHL_uc1_0.5_smote_logreg_model.pkl'>\n",
      "  if sys.path[0] == '':\n",
      "ResourceWarning: Enable tracemalloc to get the object allocation traceback\n"
     ]
    },
    {
     "name": "stdout",
     "output_type": "stream",
     "text": [
      "GHL log reg \n",
      " [[26001   537]\n",
      " [   13     6]]\n",
      "GHL log reg \n",
      "               precision    recall  f1-score   support\n",
      "\n",
      "           0       1.00      0.98      0.99     26538\n",
      "           1       0.01      0.32      0.02        19\n",
      "\n",
      "    accuracy                           0.98     26557\n",
      "   macro avg       0.51      0.65      0.51     26557\n",
      "weighted avg       1.00      0.98      0.99     26557\n",
      "\n"
     ]
    },
    {
     "name": "stderr",
     "output_type": "stream",
     "text": [
      "/opt/conda/lib/python3.7/site-packages/sklearn/utils/validation.py:72: DataConversionWarning: A column-vector y was passed when a 1d array was expected. Please change the shape of y to (n_samples, ), for example using ravel().\n",
      "  return f(**kwargs)\n",
      "/opt/conda/lib/python3.7/site-packages/sklearn/linear_model/_logistic.py:764: ConvergenceWarning: lbfgs failed to converge (status=1):\n",
      "STOP: TOTAL NO. of ITERATIONS REACHED LIMIT.\n",
      "\n",
      "Increase the number of iterations (max_iter) or scale the data as shown in:\n",
      "    https://scikit-learn.org/stable/modules/preprocessing.html\n",
      "Please also refer to the documentation for alternative solver options:\n",
      "    https://scikit-learn.org/stable/modules/linear_model.html#logistic-regression\n",
      "  extra_warning_msg=_LOGISTIC_SOLVER_CONVERGENCE_MSG)\n"
     ]
    },
    {
     "name": "stdout",
     "output_type": "stream",
     "text": [
      "LogisticRegression(C=0.01)\n",
      "GHL Training set with 0.6 SMOTE log reg score: 0.9857249420910055\n",
      "GHL Test set with 0.6 SMOTE log reg score: 0.9773317769326355\n"
     ]
    },
    {
     "name": "stderr",
     "output_type": "stream",
     "text": [
      "/opt/conda/lib/python3.7/site-packages/ipykernel_launcher.py:12: ResourceWarning: unclosed file <_io.BufferedWriter name='./Data Exploration/data/uc1/GHL_uc1_0.6_smote_logreg_model.pkl'>\n",
      "  if sys.path[0] == '':\n",
      "ResourceWarning: Enable tracemalloc to get the object allocation traceback\n"
     ]
    },
    {
     "name": "stdout",
     "output_type": "stream",
     "text": [
      "GHL log reg \n",
      " [[25949   589]\n",
      " [   13     6]]\n",
      "GHL log reg \n",
      "               precision    recall  f1-score   support\n",
      "\n",
      "           0       1.00      0.98      0.99     26538\n",
      "           1       0.01      0.32      0.02        19\n",
      "\n",
      "    accuracy                           0.98     26557\n",
      "   macro avg       0.50      0.65      0.50     26557\n",
      "weighted avg       1.00      0.98      0.99     26557\n",
      "\n"
     ]
    },
    {
     "name": "stderr",
     "output_type": "stream",
     "text": [
      "/opt/conda/lib/python3.7/site-packages/sklearn/utils/validation.py:72: DataConversionWarning: A column-vector y was passed when a 1d array was expected. Please change the shape of y to (n_samples, ), for example using ravel().\n",
      "  return f(**kwargs)\n",
      "/opt/conda/lib/python3.7/site-packages/sklearn/linear_model/_logistic.py:764: ConvergenceWarning: lbfgs failed to converge (status=1):\n",
      "STOP: TOTAL NO. of ITERATIONS REACHED LIMIT.\n",
      "\n",
      "Increase the number of iterations (max_iter) or scale the data as shown in:\n",
      "    https://scikit-learn.org/stable/modules/preprocessing.html\n",
      "Please also refer to the documentation for alternative solver options:\n",
      "    https://scikit-learn.org/stable/modules/linear_model.html#logistic-regression\n",
      "  extra_warning_msg=_LOGISTIC_SOLVER_CONVERGENCE_MSG)\n"
     ]
    },
    {
     "name": "stdout",
     "output_type": "stream",
     "text": [
      "LogisticRegression(C=0.01)\n",
      "GHL Training set with 0.7000000000000001 SMOTE log reg score: 0.9849239546536205\n",
      "GHL Test set with 0.7000000000000001 SMOTE log reg score: 0.975750272997703\n"
     ]
    },
    {
     "name": "stderr",
     "output_type": "stream",
     "text": [
      "/opt/conda/lib/python3.7/site-packages/ipykernel_launcher.py:12: ResourceWarning: unclosed file <_io.BufferedWriter name='./Data Exploration/data/uc1/GHL_uc1_0.7000000000000001_smote_logreg_model.pkl'>\n",
      "  if sys.path[0] == '':\n",
      "ResourceWarning: Enable tracemalloc to get the object allocation traceback\n"
     ]
    },
    {
     "name": "stdout",
     "output_type": "stream",
     "text": [
      "GHL log reg \n",
      " [[25905   633]\n",
      " [   11     8]]\n",
      "GHL log reg \n",
      "               precision    recall  f1-score   support\n",
      "\n",
      "           0       1.00      0.98      0.99     26538\n",
      "           1       0.01      0.42      0.02        19\n",
      "\n",
      "    accuracy                           0.98     26557\n",
      "   macro avg       0.51      0.70      0.51     26557\n",
      "weighted avg       1.00      0.98      0.99     26557\n",
      "\n"
     ]
    },
    {
     "name": "stderr",
     "output_type": "stream",
     "text": [
      "/opt/conda/lib/python3.7/site-packages/sklearn/utils/validation.py:72: DataConversionWarning: A column-vector y was passed when a 1d array was expected. Please change the shape of y to (n_samples, ), for example using ravel().\n",
      "  return f(**kwargs)\n",
      "/opt/conda/lib/python3.7/site-packages/sklearn/linear_model/_logistic.py:764: ConvergenceWarning: lbfgs failed to converge (status=1):\n",
      "STOP: TOTAL NO. of ITERATIONS REACHED LIMIT.\n",
      "\n",
      "Increase the number of iterations (max_iter) or scale the data as shown in:\n",
      "    https://scikit-learn.org/stable/modules/preprocessing.html\n",
      "Please also refer to the documentation for alternative solver options:\n",
      "    https://scikit-learn.org/stable/modules/linear_model.html#logistic-regression\n",
      "  extra_warning_msg=_LOGISTIC_SOLVER_CONVERGENCE_MSG)\n"
     ]
    },
    {
     "name": "stdout",
     "output_type": "stream",
     "text": [
      "LogisticRegression(C=0.01)\n",
      "GHL Training set with 0.8 SMOTE log reg score: 0.9846029286541871\n",
      "GHL Test set with 0.8 SMOTE log reg score: 0.973528636517679\n"
     ]
    },
    {
     "name": "stderr",
     "output_type": "stream",
     "text": [
      "/opt/conda/lib/python3.7/site-packages/ipykernel_launcher.py:12: ResourceWarning: unclosed file <_io.BufferedWriter name='./Data Exploration/data/uc1/GHL_uc1_0.8_smote_logreg_model.pkl'>\n",
      "  if sys.path[0] == '':\n",
      "ResourceWarning: Enable tracemalloc to get the object allocation traceback\n"
     ]
    },
    {
     "name": "stdout",
     "output_type": "stream",
     "text": [
      "GHL log reg \n",
      " [[25846   692]\n",
      " [   11     8]]\n",
      "GHL log reg \n",
      "               precision    recall  f1-score   support\n",
      "\n",
      "           0       1.00      0.97      0.99     26538\n",
      "           1       0.01      0.42      0.02        19\n",
      "\n",
      "    accuracy                           0.97     26557\n",
      "   macro avg       0.51      0.70      0.50     26557\n",
      "weighted avg       1.00      0.97      0.99     26557\n",
      "\n"
     ]
    },
    {
     "name": "stderr",
     "output_type": "stream",
     "text": [
      "/opt/conda/lib/python3.7/site-packages/sklearn/utils/validation.py:72: DataConversionWarning: A column-vector y was passed when a 1d array was expected. Please change the shape of y to (n_samples, ), for example using ravel().\n",
      "  return f(**kwargs)\n",
      "/opt/conda/lib/python3.7/site-packages/sklearn/linear_model/_logistic.py:764: ConvergenceWarning: lbfgs failed to converge (status=1):\n",
      "STOP: TOTAL NO. of ITERATIONS REACHED LIMIT.\n",
      "\n",
      "Increase the number of iterations (max_iter) or scale the data as shown in:\n",
      "    https://scikit-learn.org/stable/modules/preprocessing.html\n",
      "Please also refer to the documentation for alternative solver options:\n",
      "    https://scikit-learn.org/stable/modules/linear_model.html#logistic-regression\n",
      "  extra_warning_msg=_LOGISTIC_SOLVER_CONVERGENCE_MSG)\n"
     ]
    },
    {
     "name": "stdout",
     "output_type": "stream",
     "text": [
      "LogisticRegression(C=0.01)\n",
      "GHL Training set with 0.9 SMOTE log reg score: 0.984533901106894\n",
      "GHL Test set with 0.9 SMOTE log reg score: 0.9715705840268103\n"
     ]
    },
    {
     "name": "stderr",
     "output_type": "stream",
     "text": [
      "/opt/conda/lib/python3.7/site-packages/ipykernel_launcher.py:12: ResourceWarning: unclosed file <_io.BufferedWriter name='./Data Exploration/data/uc1/GHL_uc1_0.9_smote_logreg_model.pkl'>\n",
      "  if sys.path[0] == '':\n",
      "ResourceWarning: Enable tracemalloc to get the object allocation traceback\n"
     ]
    },
    {
     "name": "stdout",
     "output_type": "stream",
     "text": [
      "GHL log reg \n",
      " [[25793   745]\n",
      " [   10     9]]\n",
      "GHL log reg \n",
      "               precision    recall  f1-score   support\n",
      "\n",
      "           0       1.00      0.97      0.99     26538\n",
      "           1       0.01      0.47      0.02        19\n",
      "\n",
      "    accuracy                           0.97     26557\n",
      "   macro avg       0.51      0.72      0.50     26557\n",
      "weighted avg       1.00      0.97      0.98     26557\n",
      "\n"
     ]
    },
    {
     "name": "stderr",
     "output_type": "stream",
     "text": [
      "/opt/conda/lib/python3.7/site-packages/sklearn/utils/validation.py:72: DataConversionWarning: A column-vector y was passed when a 1d array was expected. Please change the shape of y to (n_samples, ), for example using ravel().\n",
      "  return f(**kwargs)\n",
      "/opt/conda/lib/python3.7/site-packages/sklearn/linear_model/_logistic.py:764: ConvergenceWarning: lbfgs failed to converge (status=1):\n",
      "STOP: TOTAL NO. of ITERATIONS REACHED LIMIT.\n",
      "\n",
      "Increase the number of iterations (max_iter) or scale the data as shown in:\n",
      "    https://scikit-learn.org/stable/modules/preprocessing.html\n",
      "Please also refer to the documentation for alternative solver options:\n",
      "    https://scikit-learn.org/stable/modules/linear_model.html#logistic-regression\n",
      "  extra_warning_msg=_LOGISTIC_SOLVER_CONVERGENCE_MSG)\n"
     ]
    },
    {
     "name": "stdout",
     "output_type": "stream",
     "text": [
      "LogisticRegression(C=0.01)\n",
      "GHL Training set with 1.0 SMOTE log reg score: 0.9844654949307134\n",
      "GHL Test set with 1.0 SMOTE log reg score: 0.9696125315359415\n"
     ]
    },
    {
     "name": "stderr",
     "output_type": "stream",
     "text": [
      "/opt/conda/lib/python3.7/site-packages/ipykernel_launcher.py:12: ResourceWarning: unclosed file <_io.BufferedWriter name='./Data Exploration/data/uc1/GHL_uc1_1.0_smote_logreg_model.pkl'>\n",
      "  if sys.path[0] == '':\n",
      "ResourceWarning: Enable tracemalloc to get the object allocation traceback\n"
     ]
    },
    {
     "name": "stdout",
     "output_type": "stream",
     "text": [
      "GHL log reg \n",
      " [[25741   797]\n",
      " [   10     9]]\n",
      "GHL log reg \n",
      "               precision    recall  f1-score   support\n",
      "\n",
      "           0       1.00      0.97      0.98     26538\n",
      "           1       0.01      0.47      0.02        19\n",
      "\n",
      "    accuracy                           0.97     26557\n",
      "   macro avg       0.51      0.72      0.50     26557\n",
      "weighted avg       1.00      0.97      0.98     26557\n",
      "\n"
     ]
    }
   ],
   "source": [
    "for hosp in dict_df_X_train:\n",
    "    for sample in np.arange(0.1, 1.1, 0.1):\n",
    "        sm_ss = SMOTE(random_state=55,sampling_strategy=sample)\n",
    "        X_train_ss, y_train_ss = sm_ss.fit_sample(dict_df_X_train[hosp], dict_df_y_train[hosp])\n",
    "        \n",
    "        model = LogisticRegression(C=reg_strength).fit(X_train_ss, y_train_ss)\n",
    "        print(model)\n",
    "        print(f\"{hosp} Training set with {sample} SMOTE log reg score: {model.score(X_train_ss, y_train_ss)}\")\n",
    "        print(f\"{hosp} Test set with {sample} SMOTE log reg score: {model.score(dict_df_X_test[hosp], dict_df_y_test[hosp])}\")\n",
    "\n",
    "        filename = file_dir + f'{hosp}_uc1_{sample}_smote_logreg_model.pkl'\n",
    "        pickle.dump(model, open(filename, 'wb'))\n",
    "\n",
    "        y_pred = model.predict(dict_df_X_test[hosp])\n",
    "        print(hosp, 'log reg \\n', confusion_matrix(dict_df_y_test[hosp], y_pred))  \n",
    "        print(hosp, 'log reg \\n', classification_report(dict_df_y_test[hosp], y_pred)) "
   ]
  },
  {
   "cell_type": "markdown",
   "metadata": {},
   "source": [
    "## NAIVE BAYES"
   ]
  },
  {
   "cell_type": "markdown",
   "metadata": {},
   "source": [
    "### Naive Bayes Without SMOTE"
   ]
  },
  {
   "cell_type": "code",
   "execution_count": 22,
   "metadata": {},
   "outputs": [
    {
     "name": "stderr",
     "output_type": "stream",
     "text": [
      "/opt/conda/lib/python3.7/site-packages/ipykernel/ipkernel.py:287: DeprecationWarning: `should_run_async` will not call `transform_cell` automatically in the future. Please pass the result to `transformed_cell` argument and any exception that happen during thetransform in `preprocessing_exc_tuple` in IPython 7.17 and above.\n",
      "  and should_run_async(code)\n"
     ]
    }
   ],
   "source": [
    "from sklearn.naive_bayes import GaussianNB"
   ]
  },
  {
   "cell_type": "code",
   "execution_count": 23,
   "metadata": {},
   "outputs": [
    {
     "name": "stderr",
     "output_type": "stream",
     "text": [
      "/opt/conda/lib/python3.7/site-packages/sklearn/utils/validation.py:72: DataConversionWarning: A column-vector y was passed when a 1d array was expected. Please change the shape of y to (n_samples, ), for example using ravel().\n",
      "  return f(**kwargs)\n"
     ]
    },
    {
     "name": "stdout",
     "output_type": "stream",
     "text": [
      "GaussianNB()\n"
     ]
    },
    {
     "name": "stderr",
     "output_type": "stream",
     "text": [
      "/opt/conda/lib/python3.7/site-packages/ipykernel_launcher.py:9: ResourceWarning: unclosed file <_io.BufferedWriter name='./Data Exploration/data/uc1/GHL_uc1_no_smote_nb_model.pkl'>\n",
      "  if __name__ == '__main__':\n",
      "ResourceWarning: Enable tracemalloc to get the object allocation traceback\n"
     ]
    },
    {
     "name": "stdout",
     "output_type": "stream",
     "text": [
      "GHL Training set without SMOTE Naive Bayes score: 0.9772065468420524\n",
      "GHL Test set without SMOTE Naive Bayes score: 0.9765033701095757\n",
      "GHL Naive Bayes \n",
      " [[25929   609]\n",
      " [   15     4]]\n",
      "GHL Naive Bayes \n",
      "               precision    recall  f1-score   support\n",
      "\n",
      "           0       1.00      0.98      0.99     26538\n",
      "           1       0.01      0.21      0.01        19\n",
      "\n",
      "    accuracy                           0.98     26557\n",
      "   macro avg       0.50      0.59      0.50     26557\n",
      "weighted avg       1.00      0.98      0.99     26557\n",
      "\n"
     ]
    }
   ],
   "source": [
    "for hosp in dict_df_X_train:\n",
    "    # Initiating the Gaussian Classifier\n",
    "    model = GaussianNB()\n",
    "\n",
    "    # Training your model \n",
    "    model.fit(dict_df_X_train[hosp], dict_df_y_train[hosp])\n",
    "    print(model)\n",
    "    filename = file_dir + f'{hosp}_uc1_no_smote_nb_model.pkl'\n",
    "    pickle.dump(model, open(filename, 'wb'))\n",
    "\n",
    "    # Score\n",
    "    print(f\"{hosp} Training set without SMOTE Naive Bayes score: {model.score(dict_df_X_train[hosp], dict_df_y_train[hosp])}\")\n",
    "    print(f\"{hosp} Test set without SMOTE Naive Bayes score: {model.score(dict_df_X_test[hosp], dict_df_y_test[hosp])}\")\n",
    "\n",
    "    # Confusion Matrix\n",
    "    y_pred = model.predict(dict_df_X_test[hosp])\n",
    "    print(hosp, 'Naive Bayes \\n', confusion_matrix(dict_df_y_test[hosp], y_pred))  \n",
    "    print(hosp, 'Naive Bayes \\n', classification_report(dict_df_y_test[hosp], y_pred)) "
   ]
  },
  {
   "cell_type": "markdown",
   "metadata": {},
   "source": [
    "### Naive Bayes With SMOTE"
   ]
  },
  {
   "cell_type": "markdown",
   "metadata": {},
   "source": [
    "#### Naive Bayes Without SMOTE ss=0.1 ~ 1.0"
   ]
  },
  {
   "cell_type": "code",
   "execution_count": 24,
   "metadata": {},
   "outputs": [
    {
     "name": "stderr",
     "output_type": "stream",
     "text": [
      "/opt/conda/lib/python3.7/site-packages/ipykernel/ipkernel.py:287: DeprecationWarning: `should_run_async` will not call `transform_cell` automatically in the future. Please pass the result to `transformed_cell` argument and any exception that happen during thetransform in `preprocessing_exc_tuple` in IPython 7.17 and above.\n",
      "  and should_run_async(code)\n",
      "/opt/conda/lib/python3.7/site-packages/sklearn/utils/validation.py:72: DataConversionWarning: A column-vector y was passed when a 1d array was expected. Please change the shape of y to (n_samples, ), for example using ravel().\n",
      "  return f(**kwargs)\n"
     ]
    },
    {
     "name": "stdout",
     "output_type": "stream",
     "text": [
      "GaussianNB()\n"
     ]
    },
    {
     "name": "stderr",
     "output_type": "stream",
     "text": [
      "/opt/conda/lib/python3.7/site-packages/ipykernel_launcher.py:13: ResourceWarning: unclosed file <_io.BufferedWriter name='./Data Exploration/data/uc1/GHL_uc1_0.1_smote_nb_model.pkl'>\n",
      "  del sys.path[0]\n",
      "ResourceWarning: Enable tracemalloc to get the object allocation traceback\n"
     ]
    },
    {
     "name": "stdout",
     "output_type": "stream",
     "text": [
      "GHL Training set with 0.1 SMOTE Naive Bayes score: 0.9792589885330532\n",
      "GHL Test set with 0.1 SMOTE Naive Bayes score: 0.9765033701095757\n",
      "GHL Naive Bayes\n",
      " [[25929   609]\n",
      " [   15     4]]\n",
      "GHL Naive Bayes\n",
      "               precision    recall  f1-score   support\n",
      "\n",
      "           0       1.00      0.98      0.99     26538\n",
      "           1       0.01      0.21      0.01        19\n",
      "\n",
      "    accuracy                           0.98     26557\n",
      "   macro avg       0.50      0.59      0.50     26557\n",
      "weighted avg       1.00      0.98      0.99     26557\n",
      "\n"
     ]
    },
    {
     "name": "stderr",
     "output_type": "stream",
     "text": [
      "/opt/conda/lib/python3.7/site-packages/sklearn/utils/validation.py:72: DataConversionWarning: A column-vector y was passed when a 1d array was expected. Please change the shape of y to (n_samples, ), for example using ravel().\n",
      "  return f(**kwargs)\n"
     ]
    },
    {
     "name": "stdout",
     "output_type": "stream",
     "text": [
      "GaussianNB()\n"
     ]
    },
    {
     "name": "stderr",
     "output_type": "stream",
     "text": [
      "/opt/conda/lib/python3.7/site-packages/ipykernel_launcher.py:13: ResourceWarning: unclosed file <_io.BufferedWriter name='./Data Exploration/data/uc1/GHL_uc1_0.2_smote_nb_model.pkl'>\n",
      "  del sys.path[0]\n",
      "ResourceWarning: Enable tracemalloc to get the object allocation traceback\n"
     ]
    },
    {
     "name": "stdout",
     "output_type": "stream",
     "text": [
      "GHL Training set with 0.2 SMOTE Naive Bayes score: 0.9809874785376272\n",
      "GHL Test set with 0.2 SMOTE Naive Bayes score: 0.9765033701095757\n",
      "GHL Naive Bayes\n",
      " [[25929   609]\n",
      " [   15     4]]\n",
      "GHL Naive Bayes\n",
      "               precision    recall  f1-score   support\n",
      "\n",
      "           0       1.00      0.98      0.99     26538\n",
      "           1       0.01      0.21      0.01        19\n",
      "\n",
      "    accuracy                           0.98     26557\n",
      "   macro avg       0.50      0.59      0.50     26557\n",
      "weighted avg       1.00      0.98      0.99     26557\n",
      "\n"
     ]
    },
    {
     "name": "stderr",
     "output_type": "stream",
     "text": [
      "/opt/conda/lib/python3.7/site-packages/sklearn/utils/validation.py:72: DataConversionWarning: A column-vector y was passed when a 1d array was expected. Please change the shape of y to (n_samples, ), for example using ravel().\n",
      "  return f(**kwargs)\n"
     ]
    },
    {
     "name": "stdout",
     "output_type": "stream",
     "text": [
      "GaussianNB()\n"
     ]
    },
    {
     "name": "stderr",
     "output_type": "stream",
     "text": [
      "/opt/conda/lib/python3.7/site-packages/ipykernel_launcher.py:13: ResourceWarning: unclosed file <_io.BufferedWriter name='./Data Exploration/data/uc1/GHL_uc1_0.30000000000000004_smote_nb_model.pkl'>\n",
      "  del sys.path[0]\n",
      "ResourceWarning: Enable tracemalloc to get the object allocation traceback\n"
     ]
    },
    {
     "name": "stdout",
     "output_type": "stream",
     "text": [
      "GHL Training set with 0.30000000000000004 SMOTE Naive Bayes score: 0.9824500367234914\n",
      "GHL Test set with 0.30000000000000004 SMOTE Naive Bayes score: 0.9765033701095757\n",
      "GHL Naive Bayes\n",
      " [[25929   609]\n",
      " [   15     4]]\n",
      "GHL Naive Bayes\n",
      "               precision    recall  f1-score   support\n",
      "\n",
      "           0       1.00      0.98      0.99     26538\n",
      "           1       0.01      0.21      0.01        19\n",
      "\n",
      "    accuracy                           0.98     26557\n",
      "   macro avg       0.50      0.59      0.50     26557\n",
      "weighted avg       1.00      0.98      0.99     26557\n",
      "\n"
     ]
    },
    {
     "name": "stderr",
     "output_type": "stream",
     "text": [
      "/opt/conda/lib/python3.7/site-packages/sklearn/utils/validation.py:72: DataConversionWarning: A column-vector y was passed when a 1d array was expected. Please change the shape of y to (n_samples, ), for example using ravel().\n",
      "  return f(**kwargs)\n"
     ]
    },
    {
     "name": "stdout",
     "output_type": "stream",
     "text": [
      "GaussianNB()\n"
     ]
    },
    {
     "name": "stderr",
     "output_type": "stream",
     "text": [
      "/opt/conda/lib/python3.7/site-packages/ipykernel_launcher.py:13: ResourceWarning: unclosed file <_io.BufferedWriter name='./Data Exploration/data/uc1/GHL_uc1_0.4_smote_nb_model.pkl'>\n",
      "  del sys.path[0]\n",
      "ResourceWarning: Enable tracemalloc to get the object allocation traceback\n"
     ]
    },
    {
     "name": "stdout",
     "output_type": "stream",
     "text": [
      "GHL Training set with 0.4 SMOTE Naive Bayes score: 0.9837035042850092\n",
      "GHL Test set with 0.4 SMOTE Naive Bayes score: 0.9765033701095757\n",
      "GHL Naive Bayes\n",
      " [[25929   609]\n",
      " [   15     4]]\n",
      "GHL Naive Bayes\n",
      "               precision    recall  f1-score   support\n",
      "\n",
      "           0       1.00      0.98      0.99     26538\n",
      "           1       0.01      0.21      0.01        19\n",
      "\n",
      "    accuracy                           0.98     26557\n",
      "   macro avg       0.50      0.59      0.50     26557\n",
      "weighted avg       1.00      0.98      0.99     26557\n",
      "\n"
     ]
    },
    {
     "name": "stderr",
     "output_type": "stream",
     "text": [
      "/opt/conda/lib/python3.7/site-packages/sklearn/utils/validation.py:72: DataConversionWarning: A column-vector y was passed when a 1d array was expected. Please change the shape of y to (n_samples, ), for example using ravel().\n",
      "  return f(**kwargs)\n"
     ]
    },
    {
     "name": "stdout",
     "output_type": "stream",
     "text": [
      "GaussianNB()\n"
     ]
    },
    {
     "name": "stderr",
     "output_type": "stream",
     "text": [
      "/opt/conda/lib/python3.7/site-packages/ipykernel_launcher.py:13: ResourceWarning: unclosed file <_io.BufferedWriter name='./Data Exploration/data/uc1/GHL_uc1_0.5_smote_nb_model.pkl'>\n",
      "  del sys.path[0]\n",
      "ResourceWarning: Enable tracemalloc to get the object allocation traceback\n"
     ]
    },
    {
     "name": "stdout",
     "output_type": "stream",
     "text": [
      "GHL Training set with 0.5 SMOTE Naive Bayes score: 0.9847899828301018\n",
      "GHL Test set with 0.5 SMOTE Naive Bayes score: 0.9765033701095757\n",
      "GHL Naive Bayes\n",
      " [[25929   609]\n",
      " [   15     4]]\n",
      "GHL Naive Bayes\n",
      "               precision    recall  f1-score   support\n",
      "\n",
      "           0       1.00      0.98      0.99     26538\n",
      "           1       0.01      0.21      0.01        19\n",
      "\n",
      "    accuracy                           0.98     26557\n",
      "   macro avg       0.50      0.59      0.50     26557\n",
      "weighted avg       1.00      0.98      0.99     26557\n",
      "\n"
     ]
    },
    {
     "name": "stderr",
     "output_type": "stream",
     "text": [
      "/opt/conda/lib/python3.7/site-packages/sklearn/utils/validation.py:72: DataConversionWarning: A column-vector y was passed when a 1d array was expected. Please change the shape of y to (n_samples, ), for example using ravel().\n",
      "  return f(**kwargs)\n"
     ]
    },
    {
     "name": "stdout",
     "output_type": "stream",
     "text": [
      "GaussianNB()\n"
     ]
    },
    {
     "name": "stderr",
     "output_type": "stream",
     "text": [
      "/opt/conda/lib/python3.7/site-packages/ipykernel_launcher.py:13: ResourceWarning: unclosed file <_io.BufferedWriter name='./Data Exploration/data/uc1/GHL_uc1_0.6_smote_nb_model.pkl'>\n",
      "  del sys.path[0]\n",
      "ResourceWarning: Enable tracemalloc to get the object allocation traceback\n"
     ]
    },
    {
     "name": "stdout",
     "output_type": "stream",
     "text": [
      "GHL Training set with 0.6 SMOTE Naive Bayes score: 0.9857406462251188\n",
      "GHL Test set with 0.6 SMOTE Naive Bayes score: 0.9765033701095757\n",
      "GHL Naive Bayes\n",
      " [[25929   609]\n",
      " [   15     4]]\n",
      "GHL Naive Bayes\n",
      "               precision    recall  f1-score   support\n",
      "\n",
      "           0       1.00      0.98      0.99     26538\n",
      "           1       0.01      0.21      0.01        19\n",
      "\n",
      "    accuracy                           0.98     26557\n",
      "   macro avg       0.50      0.59      0.50     26557\n",
      "weighted avg       1.00      0.98      0.99     26557\n",
      "\n"
     ]
    },
    {
     "name": "stderr",
     "output_type": "stream",
     "text": [
      "/opt/conda/lib/python3.7/site-packages/sklearn/utils/validation.py:72: DataConversionWarning: A column-vector y was passed when a 1d array was expected. Please change the shape of y to (n_samples, ), for example using ravel().\n",
      "  return f(**kwargs)\n"
     ]
    },
    {
     "name": "stdout",
     "output_type": "stream",
     "text": [
      "GaussianNB()\n"
     ]
    },
    {
     "name": "stderr",
     "output_type": "stream",
     "text": [
      "/opt/conda/lib/python3.7/site-packages/ipykernel_launcher.py:13: ResourceWarning: unclosed file <_io.BufferedWriter name='./Data Exploration/data/uc1/GHL_uc1_0.7000000000000001_smote_nb_model.pkl'>\n",
      "  del sys.path[0]\n",
      "ResourceWarning: Enable tracemalloc to get the object allocation traceback\n"
     ]
    },
    {
     "name": "stdout",
     "output_type": "stream",
     "text": [
      "GHL Training set with 0.7000000000000001 SMOTE Naive Bayes score: 0.9865793635543993\n",
      "GHL Test set with 0.7000000000000001 SMOTE Naive Bayes score: 0.9765033701095757\n",
      "GHL Naive Bayes\n",
      " [[25929   609]\n",
      " [   15     4]]\n",
      "GHL Naive Bayes\n",
      "               precision    recall  f1-score   support\n",
      "\n",
      "           0       1.00      0.98      0.99     26538\n",
      "           1       0.01      0.21      0.01        19\n",
      "\n",
      "    accuracy                           0.98     26557\n",
      "   macro avg       0.50      0.59      0.50     26557\n",
      "weighted avg       1.00      0.98      0.99     26557\n",
      "\n"
     ]
    },
    {
     "name": "stderr",
     "output_type": "stream",
     "text": [
      "/opt/conda/lib/python3.7/site-packages/sklearn/utils/validation.py:72: DataConversionWarning: A column-vector y was passed when a 1d array was expected. Please change the shape of y to (n_samples, ), for example using ravel().\n",
      "  return f(**kwargs)\n"
     ]
    },
    {
     "name": "stdout",
     "output_type": "stream",
     "text": [
      "GaussianNB()\n"
     ]
    },
    {
     "name": "stderr",
     "output_type": "stream",
     "text": [
      "/opt/conda/lib/python3.7/site-packages/ipykernel_launcher.py:13: ResourceWarning: unclosed file <_io.BufferedWriter name='./Data Exploration/data/uc1/GHL_uc1_0.8_smote_nb_model.pkl'>\n",
      "  del sys.path[0]\n",
      "ResourceWarning: Enable tracemalloc to get the object allocation traceback\n"
     ]
    },
    {
     "name": "stdout",
     "output_type": "stream",
     "text": [
      "GHL Training set with 0.8 SMOTE Naive Bayes score: 0.9873249856917514\n",
      "GHL Test set with 0.8 SMOTE Naive Bayes score: 0.9765033701095757\n",
      "GHL Naive Bayes\n",
      " [[25929   609]\n",
      " [   15     4]]\n",
      "GHL Naive Bayes\n",
      "               precision    recall  f1-score   support\n",
      "\n",
      "           0       1.00      0.98      0.99     26538\n",
      "           1       0.01      0.21      0.01        19\n",
      "\n",
      "    accuracy                           0.98     26557\n",
      "   macro avg       0.50      0.59      0.50     26557\n",
      "weighted avg       1.00      0.98      0.99     26557\n",
      "\n"
     ]
    },
    {
     "name": "stderr",
     "output_type": "stream",
     "text": [
      "/opt/conda/lib/python3.7/site-packages/sklearn/utils/validation.py:72: DataConversionWarning: A column-vector y was passed when a 1d array was expected. Please change the shape of y to (n_samples, ), for example using ravel().\n",
      "  return f(**kwargs)\n"
     ]
    },
    {
     "name": "stdout",
     "output_type": "stream",
     "text": [
      "GaussianNB()\n"
     ]
    },
    {
     "name": "stderr",
     "output_type": "stream",
     "text": [
      "/opt/conda/lib/python3.7/site-packages/ipykernel_launcher.py:13: ResourceWarning: unclosed file <_io.BufferedWriter name='./Data Exploration/data/uc1/GHL_uc1_0.9_smote_nb_model.pkl'>\n",
      "  del sys.path[0]\n",
      "ResourceWarning: Enable tracemalloc to get the object allocation traceback\n"
     ]
    },
    {
     "name": "stdout",
     "output_type": "stream",
     "text": [
      "GHL Training set with 0.9 SMOTE Naive Bayes score: 0.9879921181744846\n",
      "GHL Test set with 0.9 SMOTE Naive Bayes score: 0.9765033701095757\n",
      "GHL Naive Bayes\n",
      " [[25929   609]\n",
      " [   15     4]]\n",
      "GHL Naive Bayes\n",
      "               precision    recall  f1-score   support\n",
      "\n",
      "           0       1.00      0.98      0.99     26538\n",
      "           1       0.01      0.21      0.01        19\n",
      "\n",
      "    accuracy                           0.98     26557\n",
      "   macro avg       0.50      0.59      0.50     26557\n",
      "weighted avg       1.00      0.98      0.99     26557\n",
      "\n"
     ]
    },
    {
     "name": "stderr",
     "output_type": "stream",
     "text": [
      "/opt/conda/lib/python3.7/site-packages/sklearn/utils/validation.py:72: DataConversionWarning: A column-vector y was passed when a 1d array was expected. Please change the shape of y to (n_samples, ), for example using ravel().\n",
      "  return f(**kwargs)\n"
     ]
    },
    {
     "name": "stdout",
     "output_type": "stream",
     "text": [
      "GaussianNB()\n"
     ]
    },
    {
     "name": "stderr",
     "output_type": "stream",
     "text": [
      "/opt/conda/lib/python3.7/site-packages/ipykernel_launcher.py:13: ResourceWarning: unclosed file <_io.BufferedWriter name='./Data Exploration/data/uc1/GHL_uc1_1.0_smote_nb_model.pkl'>\n",
      "  del sys.path[0]\n",
      "ResourceWarning: Enable tracemalloc to get the object allocation traceback\n"
     ]
    },
    {
     "name": "stdout",
     "output_type": "stream",
     "text": [
      "GHL Training set with 1.0 SMOTE Naive Bayes score: 0.9885925348945312\n",
      "GHL Test set with 1.0 SMOTE Naive Bayes score: 0.9765033701095757\n",
      "GHL Naive Bayes\n",
      " [[25929   609]\n",
      " [   15     4]]\n",
      "GHL Naive Bayes\n",
      "               precision    recall  f1-score   support\n",
      "\n",
      "           0       1.00      0.98      0.99     26538\n",
      "           1       0.01      0.21      0.01        19\n",
      "\n",
      "    accuracy                           0.98     26557\n",
      "   macro avg       0.50      0.59      0.50     26557\n",
      "weighted avg       1.00      0.98      0.99     26557\n",
      "\n"
     ]
    }
   ],
   "source": [
    "for hosp in dict_df_X_train:\n",
    "    for sample in np.arange(0.1, 1.1, 0.1):\n",
    "        sm_ss = SMOTE(random_state=55,sampling_strategy=sample)\n",
    "        X_train_ss, y_train_ss = sm_ss.fit_sample(dict_df_X_train[hosp], dict_df_y_train[hosp])\n",
    "        \n",
    "        # Initiating the Gaussian Classifier\n",
    "        model = GaussianNB()\n",
    "        \n",
    "        # Training your model \n",
    "        model.fit(X_train_ss, y_train_ss)\n",
    "        print(model)\n",
    "        filename = file_dir + f'{hosp}_uc1_{sample}_smote_nb_model.pkl'\n",
    "        pickle.dump(model, open(filename, 'wb'))\n",
    "\n",
    "        # Score\n",
    "        print(f\"{hosp} Training set with {sample} SMOTE Naive Bayes score: {model.score(X_train_ss, y_train_ss)}\")\n",
    "        print(f\"{hosp} Test set with {sample} SMOTE Naive Bayes score: {model.score(dict_df_X_test[hosp], dict_df_y_test[hosp])}\")\n",
    "\n",
    "        # Confusion Matrix\n",
    "        y_pred = model.predict(dict_df_X_test[hosp])\n",
    "        print(hosp, 'Naive Bayes\\n', confusion_matrix(dict_df_y_test[hosp], y_pred))  \n",
    "        print(hosp, 'Naive Bayes\\n', classification_report(dict_df_y_test[hosp], y_pred)) "
   ]
  },
  {
   "cell_type": "markdown",
   "metadata": {
    "slideshow": {
     "slide_type": "-"
    }
   },
   "source": [
    "## NEURAL NET MLP"
   ]
  },
  {
   "cell_type": "markdown",
   "metadata": {},
   "source": [
    "### Neural Net MLP Without SMOTE, 2 Layers"
   ]
  },
  {
   "cell_type": "code",
   "execution_count": 25,
   "metadata": {},
   "outputs": [
    {
     "name": "stderr",
     "output_type": "stream",
     "text": [
      "/opt/conda/lib/python3.7/site-packages/ipykernel/ipkernel.py:287: DeprecationWarning: `should_run_async` will not call `transform_cell` automatically in the future. Please pass the result to `transformed_cell` argument and any exception that happen during thetransform in `preprocessing_exc_tuple` in IPython 7.17 and above.\n",
      "  and should_run_async(code)\n"
     ]
    }
   ],
   "source": [
    "from sklearn.neural_network import MLPClassifier  \n",
    "from sklearn import metrics"
   ]
  },
  {
   "cell_type": "code",
   "execution_count": 26,
   "metadata": {},
   "outputs": [],
   "source": [
    "list_hid_layers = [(128,128), (16,16,16), (32,32,32), (16,16,16,16), (32,32,32,32)]\n",
    "max_iter = 1000\n",
    "list_smote_sampling = [0.1, 0.2, 0.3, 0.5, 1.0]"
   ]
  },
  {
   "cell_type": "markdown",
   "metadata": {},
   "source": [
    "#### Neural Net MLPClassifier without SMOTE"
   ]
  },
  {
   "cell_type": "code",
   "execution_count": 28,
   "metadata": {},
   "outputs": [
    {
     "name": "stderr",
     "output_type": "stream",
     "text": [
      "/opt/conda/lib/python3.7/site-packages/ipykernel/ipkernel.py:287: DeprecationWarning: `should_run_async` will not call `transform_cell` automatically in the future. Please pass the result to `transformed_cell` argument and any exception that happen during thetransform in `preprocessing_exc_tuple` in IPython 7.17 and above.\n",
      "  and should_run_async(code)\n",
      "/opt/conda/lib/python3.7/site-packages/sklearn/utils/validation.py:72: DataConversionWarning: A column-vector y was passed when a 1d array was expected. Please change the shape of y to (n_samples, ), for example using ravel().\n",
      "  return f(**kwargs)\n"
     ]
    },
    {
     "name": "stdout",
     "output_type": "stream",
     "text": [
      "Iteration 1, loss = 0.02600972\n",
      "Iteration 2, loss = 0.00579728\n",
      "Iteration 3, loss = 0.00449412\n",
      "Iteration 4, loss = 0.00345465\n",
      "Iteration 5, loss = 0.00242810\n",
      "Iteration 6, loss = 0.00177766\n",
      "Iteration 7, loss = 0.00144586\n",
      "Iteration 8, loss = 0.00087191\n",
      "Iteration 9, loss = 0.00068203\n",
      "Iteration 10, loss = 0.00045496\n",
      "Iteration 11, loss = 0.00049959\n",
      "Iteration 12, loss = 0.00029035\n",
      "Iteration 13, loss = 0.00053392\n",
      "Iteration 14, loss = 0.00059042\n",
      "Iteration 15, loss = 0.00056622\n",
      "Iteration 16, loss = 0.00047071\n",
      "Iteration 17, loss = 0.00068893\n",
      "Iteration 18, loss = 0.00085757\n",
      "Iteration 19, loss = 0.00042698\n",
      "Iteration 20, loss = 0.00019457\n",
      "Iteration 21, loss = 0.00016587\n",
      "Iteration 22, loss = 0.00020288\n",
      "Iteration 23, loss = 0.00012714\n",
      "Training loss did not improve more than tol=0.000100 for 10 consecutive epochs. Stopping.\n",
      "MLPClassifier(hidden_layer_sizes=(128, 128), max_iter=1000, verbose=1)\n"
     ]
    },
    {
     "name": "stderr",
     "output_type": "stream",
     "text": [
      "/opt/conda/lib/python3.7/site-packages/ipykernel_launcher.py:7: ResourceWarning: unclosed file <_io.BufferedWriter name='./Data Exploration/data/uc1/GHL_uc1_no_smote_mlp_(128, 128)_model.pkl'>\n",
      "  import sys\n",
      "ResourceWarning: Enable tracemalloc to get the object allocation traceback\n"
     ]
    },
    {
     "name": "stdout",
     "output_type": "stream",
     "text": [
      "GHL Training set without SMOTE mlp (128, 128) score: 0.9999874485390099\n",
      "GHL Test set without SMOTE mlp (128, 128) score: 0.9990209737545657\n",
      "GHL Accuracy without SMOTE mlp (128, 128):  0.9990209737545657\n",
      "GHL mlp (128, 128)\n",
      " [[26530     8]\n",
      " [   18     1]]\n",
      "GHL mlp (128, 128)\n",
      "               precision    recall  f1-score   support\n",
      "\n",
      "           0       1.00      1.00      1.00     26538\n",
      "           1       0.11      0.05      0.07        19\n",
      "\n",
      "    accuracy                           1.00     26557\n",
      "   macro avg       0.56      0.53      0.54     26557\n",
      "weighted avg       1.00      1.00      1.00     26557\n",
      "\n"
     ]
    },
    {
     "name": "stderr",
     "output_type": "stream",
     "text": [
      "/opt/conda/lib/python3.7/site-packages/sklearn/utils/validation.py:72: DataConversionWarning: A column-vector y was passed when a 1d array was expected. Please change the shape of y to (n_samples, ), for example using ravel().\n",
      "  return f(**kwargs)\n"
     ]
    },
    {
     "name": "stdout",
     "output_type": "stream",
     "text": [
      "Iteration 1, loss = 0.12056912\n",
      "Iteration 2, loss = 0.00635624\n",
      "Iteration 3, loss = 0.00580786\n",
      "Iteration 4, loss = 0.00507137\n",
      "Iteration 5, loss = 0.00443710\n",
      "Iteration 6, loss = 0.00366592\n",
      "Iteration 7, loss = 0.00292054\n",
      "Iteration 8, loss = 0.00223179\n",
      "Iteration 9, loss = 0.00189148\n",
      "Iteration 10, loss = 0.00133517\n",
      "Iteration 11, loss = 0.00111590\n",
      "Iteration 12, loss = 0.00091520\n",
      "Iteration 13, loss = 0.00074588\n",
      "Iteration 14, loss = 0.00060470\n",
      "Iteration 15, loss = 0.00051125\n",
      "Iteration 16, loss = 0.00034811\n",
      "Iteration 17, loss = 0.00027696\n",
      "Iteration 18, loss = 0.00031245\n",
      "Iteration 19, loss = 0.00024023\n",
      "Iteration 20, loss = 0.00026828\n",
      "Iteration 21, loss = 0.00023735\n",
      "Iteration 22, loss = 0.00014995\n",
      "Iteration 23, loss = 0.00019704\n",
      "Iteration 24, loss = 0.00036427\n",
      "Iteration 25, loss = 0.00035542\n",
      "Iteration 26, loss = 0.00037661\n",
      "Iteration 27, loss = 0.00024280\n",
      "Training loss did not improve more than tol=0.000100 for 10 consecutive epochs. Stopping.\n",
      "MLPClassifier(hidden_layer_sizes=(16, 16, 16), max_iter=1000, verbose=1)\n"
     ]
    },
    {
     "name": "stderr",
     "output_type": "stream",
     "text": [
      "/opt/conda/lib/python3.7/site-packages/ipykernel_launcher.py:7: ResourceWarning: unclosed file <_io.BufferedWriter name='./Data Exploration/data/uc1/GHL_uc1_no_smote_mlp_(16, 16, 16)_model.pkl'>\n",
      "  import sys\n",
      "ResourceWarning: Enable tracemalloc to get the object allocation traceback\n"
     ]
    },
    {
     "name": "stdout",
     "output_type": "stream",
     "text": [
      "GHL Training set without SMOTE mlp (16, 16, 16) score: 0.9999372426950497\n",
      "GHL Test set without SMOTE mlp (16, 16, 16) score: 0.9989833188989721\n",
      "GHL Accuracy without SMOTE mlp (16, 16, 16):  0.9989833188989721\n",
      "GHL mlp (16, 16, 16)\n",
      " [[26530     8]\n",
      " [   19     0]]\n",
      "GHL mlp (16, 16, 16)\n",
      "               precision    recall  f1-score   support\n",
      "\n",
      "           0       1.00      1.00      1.00     26538\n",
      "           1       0.00      0.00      0.00        19\n",
      "\n",
      "    accuracy                           1.00     26557\n",
      "   macro avg       0.50      0.50      0.50     26557\n",
      "weighted avg       1.00      1.00      1.00     26557\n",
      "\n"
     ]
    },
    {
     "name": "stderr",
     "output_type": "stream",
     "text": [
      "/opt/conda/lib/python3.7/site-packages/sklearn/utils/validation.py:72: DataConversionWarning: A column-vector y was passed when a 1d array was expected. Please change the shape of y to (n_samples, ), for example using ravel().\n",
      "  return f(**kwargs)\n"
     ]
    },
    {
     "name": "stdout",
     "output_type": "stream",
     "text": [
      "Iteration 1, loss = 0.07035355\n",
      "Iteration 2, loss = 0.00597074\n",
      "Iteration 3, loss = 0.00497252\n",
      "Iteration 4, loss = 0.00394603\n",
      "Iteration 5, loss = 0.00300020\n",
      "Iteration 6, loss = 0.00228430\n",
      "Iteration 7, loss = 0.00174212\n",
      "Iteration 8, loss = 0.00127732\n",
      "Iteration 9, loss = 0.00103978\n",
      "Iteration 10, loss = 0.00109198\n",
      "Iteration 11, loss = 0.00089684\n",
      "Iteration 12, loss = 0.00076828\n",
      "Iteration 13, loss = 0.00051588\n",
      "Iteration 14, loss = 0.00031332\n",
      "Iteration 15, loss = 0.00027129\n",
      "Iteration 16, loss = 0.00020003\n",
      "Iteration 17, loss = 0.00015081\n",
      "Iteration 18, loss = 0.00013242\n",
      "Iteration 19, loss = 0.00012777\n",
      "Iteration 20, loss = 0.00010901\n",
      "Iteration 21, loss = 0.00008127\n",
      "Iteration 22, loss = 0.00028456\n",
      "Iteration 23, loss = 0.00180213\n",
      "Iteration 24, loss = 0.00081524\n",
      "Iteration 25, loss = 0.00032665\n",
      "Training loss did not improve more than tol=0.000100 for 10 consecutive epochs. Stopping.\n",
      "MLPClassifier(hidden_layer_sizes=(32, 32, 32), max_iter=1000, verbose=1)\n"
     ]
    },
    {
     "name": "stderr",
     "output_type": "stream",
     "text": [
      "/opt/conda/lib/python3.7/site-packages/ipykernel_launcher.py:7: ResourceWarning: unclosed file <_io.BufferedWriter name='./Data Exploration/data/uc1/GHL_uc1_no_smote_mlp_(32, 32, 32)_model.pkl'>\n",
      "  import sys\n",
      "ResourceWarning: Enable tracemalloc to get the object allocation traceback\n"
     ]
    },
    {
     "name": "stdout",
     "output_type": "stream",
     "text": [
      "GHL Training set without SMOTE mlp (32, 32, 32) score: 0.9999874485390099\n",
      "GHL Test set without SMOTE mlp (32, 32, 32) score: 0.9989833188989721\n",
      "GHL Accuracy without SMOTE mlp (32, 32, 32):  0.9989833188989721\n",
      "GHL mlp (32, 32, 32)\n",
      " [[26528    10]\n",
      " [   17     2]]\n",
      "GHL mlp (32, 32, 32)\n",
      "               precision    recall  f1-score   support\n",
      "\n",
      "           0       1.00      1.00      1.00     26538\n",
      "           1       0.17      0.11      0.13        19\n",
      "\n",
      "    accuracy                           1.00     26557\n",
      "   macro avg       0.58      0.55      0.56     26557\n",
      "weighted avg       1.00      1.00      1.00     26557\n",
      "\n"
     ]
    },
    {
     "name": "stderr",
     "output_type": "stream",
     "text": [
      "/opt/conda/lib/python3.7/site-packages/sklearn/utils/validation.py:72: DataConversionWarning: A column-vector y was passed when a 1d array was expected. Please change the shape of y to (n_samples, ), for example using ravel().\n",
      "  return f(**kwargs)\n"
     ]
    },
    {
     "name": "stdout",
     "output_type": "stream",
     "text": [
      "Iteration 1, loss = 0.04737455\n",
      "Iteration 2, loss = 0.00630325\n",
      "Iteration 3, loss = 0.00557921\n",
      "Iteration 4, loss = 0.00492706\n",
      "Iteration 5, loss = 0.00402891\n",
      "Iteration 6, loss = 0.00316294\n",
      "Iteration 7, loss = 0.00251042\n",
      "Iteration 8, loss = 0.00176963\n",
      "Iteration 9, loss = 0.00139163\n",
      "Iteration 10, loss = 0.00123724\n",
      "Iteration 11, loss = 0.00068467\n",
      "Iteration 12, loss = 0.00060506\n",
      "Iteration 13, loss = 0.00084491\n",
      "Iteration 14, loss = 0.00037462\n",
      "Iteration 15, loss = 0.00047502\n",
      "Iteration 16, loss = 0.00082589\n",
      "Iteration 17, loss = 0.00082352\n",
      "Iteration 18, loss = 0.00023048\n",
      "Iteration 19, loss = 0.00026316\n",
      "Iteration 20, loss = 0.00014636\n",
      "Iteration 21, loss = 0.00018485\n",
      "Iteration 22, loss = 0.00028350\n",
      "Iteration 23, loss = 0.00018811\n",
      "Iteration 24, loss = 0.00014510\n",
      "Iteration 25, loss = 0.00013796\n",
      "Iteration 26, loss = 0.00025071\n",
      "Iteration 27, loss = 0.00008473\n",
      "Iteration 28, loss = 0.00007559\n",
      "Iteration 29, loss = 0.00082032\n",
      "Training loss did not improve more than tol=0.000100 for 10 consecutive epochs. Stopping.\n",
      "MLPClassifier(hidden_layer_sizes=(16, 16, 16, 16), max_iter=1000, verbose=1)\n"
     ]
    },
    {
     "name": "stderr",
     "output_type": "stream",
     "text": [
      "/opt/conda/lib/python3.7/site-packages/ipykernel_launcher.py:7: ResourceWarning: unclosed file <_io.BufferedWriter name='./Data Exploration/data/uc1/GHL_uc1_no_smote_mlp_(16, 16, 16, 16)_model.pkl'>\n",
      "  import sys\n",
      "ResourceWarning: Enable tracemalloc to get the object allocation traceback\n"
     ]
    },
    {
     "name": "stdout",
     "output_type": "stream",
     "text": [
      "GHL Training set without SMOTE mlp (16, 16, 16, 16) score: 1.0\n",
      "GHL Test set without SMOTE mlp (16, 16, 16, 16) score: 0.9990962834657529\n",
      "GHL Accuracy without SMOTE mlp (16, 16, 16, 16):  0.9990962834657529\n",
      "GHL mlp (16, 16, 16, 16)\n",
      " [[26531     7]\n",
      " [   17     2]]\n",
      "GHL mlp (16, 16, 16, 16)\n",
      "               precision    recall  f1-score   support\n",
      "\n",
      "           0       1.00      1.00      1.00     26538\n",
      "           1       0.22      0.11      0.14        19\n",
      "\n",
      "    accuracy                           1.00     26557\n",
      "   macro avg       0.61      0.55      0.57     26557\n",
      "weighted avg       1.00      1.00      1.00     26557\n",
      "\n"
     ]
    },
    {
     "name": "stderr",
     "output_type": "stream",
     "text": [
      "/opt/conda/lib/python3.7/site-packages/sklearn/utils/validation.py:72: DataConversionWarning: A column-vector y was passed when a 1d array was expected. Please change the shape of y to (n_samples, ), for example using ravel().\n",
      "  return f(**kwargs)\n"
     ]
    },
    {
     "name": "stdout",
     "output_type": "stream",
     "text": [
      "Iteration 1, loss = 0.03175654\n",
      "Iteration 2, loss = 0.00602640\n",
      "Iteration 3, loss = 0.00495211\n",
      "Iteration 4, loss = 0.00385336\n",
      "Iteration 5, loss = 0.00323167\n",
      "Iteration 6, loss = 0.00208605\n",
      "Iteration 7, loss = 0.00133545\n",
      "Iteration 8, loss = 0.00130436\n",
      "Iteration 9, loss = 0.00074133\n",
      "Iteration 10, loss = 0.00047921\n",
      "Iteration 11, loss = 0.00055340\n",
      "Iteration 12, loss = 0.00037132\n",
      "Iteration 13, loss = 0.00031490\n",
      "Iteration 14, loss = 0.00064364\n",
      "Iteration 15, loss = 0.00023140\n",
      "Iteration 16, loss = 0.00032342\n",
      "Iteration 17, loss = 0.00121134\n",
      "Iteration 18, loss = 0.00060589\n",
      "Iteration 19, loss = 0.00015037\n",
      "Iteration 20, loss = 0.00036148\n",
      "Iteration 21, loss = 0.00072258\n",
      "Iteration 22, loss = 0.00021675\n",
      "Iteration 23, loss = 0.00020858\n",
      "Training loss did not improve more than tol=0.000100 for 10 consecutive epochs. Stopping.\n",
      "MLPClassifier(hidden_layer_sizes=(32, 32, 32, 32), max_iter=1000, verbose=1)\n"
     ]
    },
    {
     "name": "stderr",
     "output_type": "stream",
     "text": [
      "/opt/conda/lib/python3.7/site-packages/ipykernel_launcher.py:7: ResourceWarning: unclosed file <_io.BufferedWriter name='./Data Exploration/data/uc1/GHL_uc1_no_smote_mlp_(32, 32, 32, 32)_model.pkl'>\n",
      "  import sys\n",
      "ResourceWarning: Enable tracemalloc to get the object allocation traceback\n"
     ]
    },
    {
     "name": "stdout",
     "output_type": "stream",
     "text": [
      "GHL Training set without SMOTE mlp (32, 32, 32, 32) score: 0.9998870368510895\n",
      "GHL Test set without SMOTE mlp (32, 32, 32, 32) score: 0.9991715931769402\n",
      "GHL Accuracy without SMOTE mlp (32, 32, 32, 32):  0.9991715931769402\n",
      "GHL mlp (32, 32, 32, 32)\n",
      " [[26535     3]\n",
      " [   19     0]]\n",
      "GHL mlp (32, 32, 32, 32)\n",
      "               precision    recall  f1-score   support\n",
      "\n",
      "           0       1.00      1.00      1.00     26538\n",
      "           1       0.00      0.00      0.00        19\n",
      "\n",
      "    accuracy                           1.00     26557\n",
      "   macro avg       0.50      0.50      0.50     26557\n",
      "weighted avg       1.00      1.00      1.00     26557\n",
      "\n"
     ]
    }
   ],
   "source": [
    "for hosp in dict_df_X_train:\n",
    "    for hid_layers in list_hid_layers:\n",
    "        model = MLPClassifier(hidden_layer_sizes=hid_layers, max_iter=max_iter,verbose=1)  \n",
    "        model.fit(dict_df_X_train[hosp], dict_df_y_train[hosp])\n",
    "        print(model)\n",
    "        filename = file_dir + f'{hosp}_uc1_no_smote_mlp_{hid_layers}_model.pkl'\n",
    "        pickle.dump(model, open(filename, 'wb'))\n",
    "\n",
    "        predictions = model.predict(dict_df_X_test[hosp]) \n",
    "\n",
    "        # Score\n",
    "        print(f\"{hosp} Training set without SMOTE mlp {hid_layers} score: {model.score(dict_df_X_train[hosp], dict_df_y_train[hosp])}\")\n",
    "        print(f\"{hosp} Test set without SMOTE mlp {hid_layers} score: {model.score(dict_df_X_test[hosp], dict_df_y_test[hosp])}\")\n",
    "\n",
    "        print(f\"{hosp} Accuracy without SMOTE mlp {hid_layers}: \", metrics.accuracy_score(dict_df_y_test[hosp], predictions))\n",
    "        print(hosp, f'mlp {hid_layers}\\n', confusion_matrix(dict_df_y_test[hosp],predictions))  \n",
    "        print(hosp, f'mlp {hid_layers}\\n', classification_report(dict_df_y_test[hosp],predictions))  "
   ]
  },
  {
   "cell_type": "markdown",
   "metadata": {},
   "source": [
    "### Neural Net With SMOTE"
   ]
  },
  {
   "cell_type": "code",
   "execution_count": 29,
   "metadata": {},
   "outputs": [
    {
     "name": "stderr",
     "output_type": "stream",
     "text": [
      "/opt/conda/lib/python3.7/site-packages/ipykernel/ipkernel.py:287: DeprecationWarning: `should_run_async` will not call `transform_cell` automatically in the future. Please pass the result to `transformed_cell` argument and any exception that happen during thetransform in `preprocessing_exc_tuple` in IPython 7.17 and above.\n",
      "  and should_run_async(code)\n"
     ]
    }
   ],
   "source": [
    "list_hid_layers = [(16,16), (32,32), (64,64), (128,128), (256,256),\n",
    "                   (16,16,16), (32,32,32), (64,64,64),\n",
    "                   (16,16,16,16), (32,32,32,32)]\n",
    "max_iter = 1000\n",
    "list_smote_sampling = [0.1, 0.2, 0.3, 0.5, 1.0]"
   ]
  },
  {
   "cell_type": "markdown",
   "metadata": {},
   "source": [
    "#### Neural Net Layers With SMOTE"
   ]
  },
  {
   "cell_type": "code",
   "execution_count": null,
   "metadata": {},
   "outputs": [
    {
     "name": "stderr",
     "output_type": "stream",
     "text": [
      "/opt/conda/lib/python3.7/site-packages/sklearn/utils/validation.py:72: DataConversionWarning: A column-vector y was passed when a 1d array was expected. Please change the shape of y to (n_samples, ), for example using ravel().\n",
      "  return f(**kwargs)\n"
     ]
    },
    {
     "name": "stdout",
     "output_type": "stream",
     "text": [
      "Iteration 1, loss = 0.20007886\n",
      "Iteration 2, loss = 0.00851135\n",
      "Iteration 3, loss = 0.00335019\n",
      "Iteration 4, loss = 0.00185529\n",
      "Iteration 5, loss = 0.00213162\n",
      "Iteration 6, loss = 0.00085333\n",
      "Iteration 7, loss = 0.00056258\n",
      "Iteration 8, loss = 0.00044879\n",
      "Iteration 9, loss = 0.00035732\n",
      "Iteration 10, loss = 0.00028566\n",
      "Iteration 11, loss = 0.00025900\n",
      "Iteration 12, loss = 0.00025362\n",
      "Iteration 13, loss = 0.00022349\n",
      "Iteration 14, loss = 0.00100574\n",
      "Iteration 15, loss = 0.00020332\n",
      "Iteration 16, loss = 0.00017062\n",
      "Iteration 17, loss = 0.00014926\n",
      "Iteration 18, loss = 0.00015908\n",
      "Iteration 19, loss = 0.00012338\n",
      "Training loss did not improve more than tol=0.000100 for 10 consecutive epochs. Stopping.\n",
      "MLPClassifier(hidden_layer_sizes=(16, 16), max_iter=1000, verbose=1)\n"
     ]
    },
    {
     "name": "stderr",
     "output_type": "stream",
     "text": [
      "/opt/conda/lib/python3.7/site-packages/ipykernel_launcher.py:11: ResourceWarning: unclosed file <_io.BufferedWriter name='./Data Exploration/data/uc1/GHL_uc1_0.1_smote_mlp_(16, 16)_model.pkl'>\n",
      "  # This is added back by InteractiveShellApp.init_path()\n",
      "ResourceWarning: Enable tracemalloc to get the object allocation traceback\n"
     ]
    },
    {
     "name": "stdout",
     "output_type": "stream",
     "text": [
      "GHL Training set 0.1 SMOTE mlp (16, 16) score: 1.0\n",
      "GHL Test set 0.1 SMOTE mlp (16, 16) score: 0.9988703543321912\n",
      "GHL Accuracy:  0.9988703543321912\n",
      "GHL mlp (16, 16)\n",
      " [[26525    13]\n",
      " [   17     2]]\n",
      "GHL mlp (16, 16)\n",
      "               precision    recall  f1-score   support\n",
      "\n",
      "           0       1.00      1.00      1.00     26538\n",
      "           1       0.13      0.11      0.12        19\n",
      "\n",
      "    accuracy                           1.00     26557\n",
      "   macro avg       0.57      0.55      0.56     26557\n",
      "weighted avg       1.00      1.00      1.00     26557\n",
      "\n"
     ]
    },
    {
     "name": "stderr",
     "output_type": "stream",
     "text": [
      "/opt/conda/lib/python3.7/site-packages/sklearn/utils/validation.py:72: DataConversionWarning: A column-vector y was passed when a 1d array was expected. Please change the shape of y to (n_samples, ), for example using ravel().\n",
      "  return f(**kwargs)\n"
     ]
    },
    {
     "name": "stdout",
     "output_type": "stream",
     "text": [
      "Iteration 1, loss = 0.12653381\n",
      "Iteration 2, loss = 0.00561548\n",
      "Iteration 3, loss = 0.00284233\n",
      "Iteration 4, loss = 0.00203483\n",
      "Iteration 5, loss = 0.00106699\n",
      "Iteration 6, loss = 0.00069303\n",
      "Iteration 7, loss = 0.00049191\n",
      "Iteration 8, loss = 0.00036605\n",
      "Iteration 9, loss = 0.00028477\n",
      "Iteration 10, loss = 0.00024947\n",
      "Iteration 11, loss = 0.00098140\n",
      "Iteration 12, loss = 0.00025241\n",
      "Iteration 13, loss = 0.00018019\n",
      "Iteration 14, loss = 0.00015173\n",
      "Iteration 15, loss = 0.00014940\n",
      "Iteration 16, loss = 0.00016930\n",
      "Iteration 17, loss = 0.00011230\n",
      "Iteration 18, loss = 0.00008619\n",
      "Iteration 19, loss = 0.00011227\n",
      "Training loss did not improve more than tol=0.000100 for 10 consecutive epochs. Stopping.\n",
      "MLPClassifier(hidden_layer_sizes=(16, 16), max_iter=1000, verbose=1)\n"
     ]
    },
    {
     "name": "stderr",
     "output_type": "stream",
     "text": [
      "/opt/conda/lib/python3.7/site-packages/ipykernel_launcher.py:11: ResourceWarning: unclosed file <_io.BufferedWriter name='./Data Exploration/data/uc1/GHL_uc1_0.2_smote_mlp_(16, 16)_model.pkl'>\n",
      "  # This is added back by InteractiveShellApp.init_path()\n",
      "ResourceWarning: Enable tracemalloc to get the object allocation traceback\n"
     ]
    },
    {
     "name": "stdout",
     "output_type": "stream",
     "text": [
      "GHL Training set 0.2 SMOTE mlp (16, 16) score: 0.9999895305498555\n",
      "GHL Test set 0.2 SMOTE mlp (16, 16) score: 0.9986067703430357\n",
      "GHL Accuracy:  0.9986067703430357\n",
      "GHL mlp (16, 16)\n",
      " [[26517    21]\n",
      " [   16     3]]\n",
      "GHL mlp (16, 16)\n",
      "               precision    recall  f1-score   support\n",
      "\n",
      "           0       1.00      1.00      1.00     26538\n",
      "           1       0.12      0.16      0.14        19\n",
      "\n",
      "    accuracy                           1.00     26557\n",
      "   macro avg       0.56      0.58      0.57     26557\n",
      "weighted avg       1.00      1.00      1.00     26557\n",
      "\n"
     ]
    },
    {
     "name": "stderr",
     "output_type": "stream",
     "text": [
      "/opt/conda/lib/python3.7/site-packages/sklearn/utils/validation.py:72: DataConversionWarning: A column-vector y was passed when a 1d array was expected. Please change the shape of y to (n_samples, ), for example using ravel().\n",
      "  return f(**kwargs)\n"
     ]
    },
    {
     "name": "stdout",
     "output_type": "stream",
     "text": [
      "Iteration 1, loss = 0.07909301\n",
      "Iteration 2, loss = 0.00507083\n",
      "Iteration 3, loss = 0.00232139\n",
      "Iteration 4, loss = 0.00141067\n",
      "Iteration 5, loss = 0.00088802\n",
      "Iteration 6, loss = 0.00058064\n",
      "Iteration 7, loss = 0.00089589\n",
      "Iteration 8, loss = 0.00034166\n",
      "Iteration 9, loss = 0.00029649\n",
      "Iteration 10, loss = 0.00023025\n",
      "Iteration 11, loss = 0.00048899\n",
      "Iteration 12, loss = 0.00019413\n",
      "Iteration 13, loss = 0.00018253\n",
      "Iteration 14, loss = 0.00016904\n",
      "Iteration 15, loss = 0.00017467\n",
      "Iteration 16, loss = 0.00014119\n",
      "Iteration 17, loss = 0.00020017\n",
      "Iteration 18, loss = 0.00017057\n",
      "Iteration 19, loss = 0.00015262\n",
      "Training loss did not improve more than tol=0.000100 for 10 consecutive epochs. Stopping.\n",
      "MLPClassifier(hidden_layer_sizes=(16, 16), max_iter=1000, verbose=1)\n"
     ]
    },
    {
     "name": "stderr",
     "output_type": "stream",
     "text": [
      "/opt/conda/lib/python3.7/site-packages/ipykernel_launcher.py:11: ResourceWarning: unclosed file <_io.BufferedWriter name='./Data Exploration/data/uc1/GHL_uc1_0.3_smote_mlp_(16, 16)_model.pkl'>\n",
      "  # This is added back by InteractiveShellApp.init_path()\n",
      "ResourceWarning: Enable tracemalloc to get the object allocation traceback\n"
     ]
    },
    {
     "name": "stdout",
     "output_type": "stream",
     "text": [
      "GHL Training set 0.3 SMOTE mlp (16, 16) score: 0.9999903359233059\n",
      "GHL Test set 0.3 SMOTE mlp (16, 16) score: 0.9988703543321912\n",
      "GHL Accuracy:  0.9988703543321912\n",
      "GHL mlp (16, 16)\n",
      " [[26525    13]\n",
      " [   17     2]]\n",
      "GHL mlp (16, 16)\n",
      "               precision    recall  f1-score   support\n",
      "\n",
      "           0       1.00      1.00      1.00     26538\n",
      "           1       0.13      0.11      0.12        19\n",
      "\n",
      "    accuracy                           1.00     26557\n",
      "   macro avg       0.57      0.55      0.56     26557\n",
      "weighted avg       1.00      1.00      1.00     26557\n",
      "\n"
     ]
    },
    {
     "name": "stderr",
     "output_type": "stream",
     "text": [
      "/opt/conda/lib/python3.7/site-packages/sklearn/utils/validation.py:72: DataConversionWarning: A column-vector y was passed when a 1d array was expected. Please change the shape of y to (n_samples, ), for example using ravel().\n",
      "  return f(**kwargs)\n"
     ]
    },
    {
     "name": "stdout",
     "output_type": "stream",
     "text": [
      "Iteration 1, loss = 0.08480165\n",
      "Iteration 2, loss = 0.00466274\n",
      "Iteration 3, loss = 0.00215801\n",
      "Iteration 4, loss = 0.00123425\n",
      "Iteration 5, loss = 0.00077050\n",
      "Iteration 6, loss = 0.00044898\n",
      "Iteration 7, loss = 0.00036573\n",
      "Iteration 8, loss = 0.00019572\n",
      "Iteration 9, loss = 0.00021459\n",
      "Iteration 10, loss = 0.00019483\n",
      "Iteration 11, loss = 0.00014382\n",
      "Iteration 12, loss = 0.00014007\n",
      "Iteration 13, loss = 0.00053884\n",
      "Iteration 14, loss = 0.00013331\n",
      "Iteration 15, loss = 0.00011150\n",
      "Iteration 16, loss = 0.00010611\n",
      "Iteration 17, loss = 0.00008996\n",
      "Iteration 18, loss = 0.00010500\n",
      "Iteration 19, loss = 0.00010433\n",
      "Training loss did not improve more than tol=0.000100 for 10 consecutive epochs. Stopping.\n",
      "MLPClassifier(hidden_layer_sizes=(16, 16), max_iter=1000, verbose=1)\n"
     ]
    },
    {
     "name": "stderr",
     "output_type": "stream",
     "text": [
      "/opt/conda/lib/python3.7/site-packages/ipykernel_launcher.py:11: ResourceWarning: unclosed file <_io.BufferedWriter name='./Data Exploration/data/uc1/GHL_uc1_0.5_smote_mlp_(16, 16)_model.pkl'>\n",
      "  # This is added back by InteractiveShellApp.init_path()\n",
      "ResourceWarning: Enable tracemalloc to get the object allocation traceback\n"
     ]
    },
    {
     "name": "stdout",
     "output_type": "stream",
     "text": [
      "GHL Training set 0.5 SMOTE mlp (16, 16) score: 0.9999916244398844\n",
      "GHL Test set 0.5 SMOTE mlp (16, 16) score: 0.9988326994765975\n",
      "GHL Accuracy:  0.9988326994765975\n",
      "GHL mlp (16, 16)\n",
      " [[26524    14]\n",
      " [   17     2]]\n",
      "GHL mlp (16, 16)\n",
      "               precision    recall  f1-score   support\n",
      "\n",
      "           0       1.00      1.00      1.00     26538\n",
      "           1       0.12      0.11      0.11        19\n",
      "\n",
      "    accuracy                           1.00     26557\n",
      "   macro avg       0.56      0.55      0.56     26557\n",
      "weighted avg       1.00      1.00      1.00     26557\n",
      "\n"
     ]
    },
    {
     "name": "stderr",
     "output_type": "stream",
     "text": [
      "/opt/conda/lib/python3.7/site-packages/sklearn/utils/validation.py:72: DataConversionWarning: A column-vector y was passed when a 1d array was expected. Please change the shape of y to (n_samples, ), for example using ravel().\n",
      "  return f(**kwargs)\n"
     ]
    },
    {
     "name": "stdout",
     "output_type": "stream",
     "text": [
      "Iteration 1, loss = 0.08010900\n",
      "Iteration 2, loss = 0.00360597\n",
      "Iteration 3, loss = 0.00178350\n",
      "Iteration 4, loss = 0.00090996\n",
      "Iteration 5, loss = 0.00055459\n",
      "Iteration 6, loss = 0.00081925\n",
      "Iteration 7, loss = 0.00057070\n",
      "Iteration 8, loss = 0.00026101\n",
      "Iteration 9, loss = 0.00018872\n",
      "Iteration 10, loss = 0.00018590\n",
      "Iteration 11, loss = 0.00015978\n",
      "Iteration 12, loss = 0.00015158\n",
      "Iteration 13, loss = 0.00010344\n",
      "Iteration 14, loss = 0.00073692\n",
      "Iteration 15, loss = 0.00012548\n",
      "Iteration 16, loss = 0.00010923\n",
      "Iteration 17, loss = 0.00015248\n",
      "Iteration 18, loss = 0.00010829\n",
      "Iteration 19, loss = 0.00049544\n",
      "Training loss did not improve more than tol=0.000100 for 10 consecutive epochs. Stopping.\n",
      "MLPClassifier(hidden_layer_sizes=(16, 16), max_iter=1000, verbose=1)\n"
     ]
    },
    {
     "name": "stderr",
     "output_type": "stream",
     "text": [
      "/opt/conda/lib/python3.7/site-packages/ipykernel_launcher.py:11: ResourceWarning: unclosed file <_io.BufferedWriter name='./Data Exploration/data/uc1/GHL_uc1_1.0_smote_mlp_(16, 16)_model.pkl'>\n",
      "  # This is added back by InteractiveShellApp.init_path()\n",
      "ResourceWarning: Enable tracemalloc to get the object allocation traceback\n"
     ]
    },
    {
     "name": "stdout",
     "output_type": "stream",
     "text": [
      "GHL Training set 1.0 SMOTE mlp (16, 16) score: 0.9996984810985339\n",
      "GHL Test set 1.0 SMOTE mlp (16, 16) score: 0.9983431863538803\n",
      "GHL Accuracy:  0.9983431863538803\n",
      "GHL mlp (16, 16)\n",
      " [[26510    28]\n",
      " [   16     3]]\n",
      "GHL mlp (16, 16)\n",
      "               precision    recall  f1-score   support\n",
      "\n",
      "           0       1.00      1.00      1.00     26538\n",
      "           1       0.10      0.16      0.12        19\n",
      "\n",
      "    accuracy                           1.00     26557\n",
      "   macro avg       0.55      0.58      0.56     26557\n",
      "weighted avg       1.00      1.00      1.00     26557\n",
      "\n"
     ]
    },
    {
     "name": "stderr",
     "output_type": "stream",
     "text": [
      "/opt/conda/lib/python3.7/site-packages/sklearn/utils/validation.py:72: DataConversionWarning: A column-vector y was passed when a 1d array was expected. Please change the shape of y to (n_samples, ), for example using ravel().\n",
      "  return f(**kwargs)\n"
     ]
    },
    {
     "name": "stdout",
     "output_type": "stream",
     "text": [
      "Iteration 1, loss = 0.09678859\n",
      "Iteration 2, loss = 0.00354830\n",
      "Iteration 3, loss = 0.00138216\n",
      "Iteration 4, loss = 0.00079409\n",
      "Iteration 5, loss = 0.00156166\n",
      "Iteration 6, loss = 0.00038884\n",
      "Iteration 7, loss = 0.00033503\n",
      "Iteration 8, loss = 0.00025773\n",
      "Iteration 9, loss = 0.00024881\n",
      "Iteration 10, loss = 0.00014973\n",
      "Iteration 11, loss = 0.00042770\n",
      "Iteration 12, loss = 0.00017998\n",
      "Iteration 13, loss = 0.00017681\n",
      "Iteration 14, loss = 0.00012509\n",
      "Iteration 15, loss = 0.00012466\n",
      "Iteration 16, loss = 0.00011880\n",
      "Iteration 17, loss = 0.00008776\n",
      "Training loss did not improve more than tol=0.000100 for 10 consecutive epochs. Stopping.\n",
      "MLPClassifier(hidden_layer_sizes=(32, 32), max_iter=1000, verbose=1)\n"
     ]
    },
    {
     "name": "stderr",
     "output_type": "stream",
     "text": [
      "/opt/conda/lib/python3.7/site-packages/ipykernel_launcher.py:11: ResourceWarning: unclosed file <_io.BufferedWriter name='./Data Exploration/data/uc1/GHL_uc1_0.1_smote_mlp_(32, 32)_model.pkl'>\n",
      "  # This is added back by InteractiveShellApp.init_path()\n",
      "ResourceWarning: Enable tracemalloc to get the object allocation traceback\n"
     ]
    },
    {
     "name": "stdout",
     "output_type": "stream",
     "text": [
      "GHL Training set 0.1 SMOTE mlp (32, 32) score: 0.999988578738179\n",
      "GHL Test set 0.1 SMOTE mlp (32, 32) score: 0.9988326994765975\n",
      "GHL Accuracy:  0.9988326994765975\n",
      "GHL mlp (32, 32)\n",
      " [[26524    14]\n",
      " [   17     2]]\n",
      "GHL mlp (32, 32)\n",
      "               precision    recall  f1-score   support\n",
      "\n",
      "           0       1.00      1.00      1.00     26538\n",
      "           1       0.12      0.11      0.11        19\n",
      "\n",
      "    accuracy                           1.00     26557\n",
      "   macro avg       0.56      0.55      0.56     26557\n",
      "weighted avg       1.00      1.00      1.00     26557\n",
      "\n"
     ]
    },
    {
     "name": "stderr",
     "output_type": "stream",
     "text": [
      "/opt/conda/lib/python3.7/site-packages/sklearn/utils/validation.py:72: DataConversionWarning: A column-vector y was passed when a 1d array was expected. Please change the shape of y to (n_samples, ), for example using ravel().\n",
      "  return f(**kwargs)\n"
     ]
    },
    {
     "name": "stdout",
     "output_type": "stream",
     "text": [
      "Iteration 1, loss = 0.06574746\n",
      "Iteration 2, loss = 0.00259950\n",
      "Iteration 3, loss = 0.00103124\n",
      "Iteration 4, loss = 0.00054007\n",
      "Iteration 5, loss = 0.00034327\n",
      "Iteration 6, loss = 0.00025357\n",
      "Iteration 7, loss = 0.00036714\n",
      "Iteration 8, loss = 0.00019377\n",
      "Iteration 9, loss = 0.00016445\n",
      "Iteration 10, loss = 0.00014972\n",
      "Iteration 11, loss = 0.00008967\n",
      "Iteration 12, loss = 0.00148165\n",
      "Iteration 13, loss = 0.00020868\n",
      "Iteration 14, loss = 0.00015242\n",
      "Iteration 15, loss = 0.00014406\n",
      "Iteration 16, loss = 0.00015441\n",
      "Training loss did not improve more than tol=0.000100 for 10 consecutive epochs. Stopping.\n",
      "MLPClassifier(hidden_layer_sizes=(32, 32), max_iter=1000, verbose=1)\n"
     ]
    },
    {
     "name": "stderr",
     "output_type": "stream",
     "text": [
      "/opt/conda/lib/python3.7/site-packages/ipykernel_launcher.py:11: ResourceWarning: unclosed file <_io.BufferedWriter name='./Data Exploration/data/uc1/GHL_uc1_0.2_smote_mlp_(32, 32)_model.pkl'>\n",
      "  # This is added back by InteractiveShellApp.init_path()\n",
      "ResourceWarning: Enable tracemalloc to get the object allocation traceback\n"
     ]
    },
    {
     "name": "stdout",
     "output_type": "stream",
     "text": [
      "GHL Training set 0.2 SMOTE mlp (32, 32) score: 0.9999895305498555\n",
      "GHL Test set 0.2 SMOTE mlp (32, 32) score: 0.9987950446210039\n",
      "GHL Accuracy:  0.9987950446210039\n",
      "GHL mlp (32, 32)\n",
      " [[26523    15]\n",
      " [   17     2]]\n",
      "GHL mlp (32, 32)\n",
      "               precision    recall  f1-score   support\n",
      "\n",
      "           0       1.00      1.00      1.00     26538\n",
      "           1       0.12      0.11      0.11        19\n",
      "\n",
      "    accuracy                           1.00     26557\n",
      "   macro avg       0.56      0.55      0.56     26557\n",
      "weighted avg       1.00      1.00      1.00     26557\n",
      "\n"
     ]
    },
    {
     "name": "stderr",
     "output_type": "stream",
     "text": [
      "/opt/conda/lib/python3.7/site-packages/sklearn/utils/validation.py:72: DataConversionWarning: A column-vector y was passed when a 1d array was expected. Please change the shape of y to (n_samples, ), for example using ravel().\n",
      "  return f(**kwargs)\n"
     ]
    },
    {
     "name": "stdout",
     "output_type": "stream",
     "text": [
      "Iteration 1, loss = 0.08231308\n",
      "Iteration 2, loss = 0.00303196\n",
      "Iteration 3, loss = 0.00091695\n",
      "Iteration 4, loss = 0.00045931\n",
      "Iteration 5, loss = 0.00031826\n",
      "Iteration 6, loss = 0.00033723\n",
      "Iteration 7, loss = 0.00063853\n",
      "Iteration 8, loss = 0.00062987\n",
      "Iteration 9, loss = 0.00019136\n",
      "Iteration 10, loss = 0.00013925\n",
      "Iteration 11, loss = 0.00013338\n",
      "Iteration 12, loss = 0.00012030\n",
      "Iteration 13, loss = 0.00016704\n",
      "Iteration 14, loss = 0.00011105\n",
      "Iteration 15, loss = 0.00134464\n",
      "Iteration 16, loss = 0.00049099\n",
      "Iteration 17, loss = 0.00012603\n",
      "Iteration 18, loss = 0.00016541\n",
      "Iteration 19, loss = 0.00013278\n",
      "Iteration 20, loss = 0.00008968\n",
      "Training loss did not improve more than tol=0.000100 for 10 consecutive epochs. Stopping.\n",
      "MLPClassifier(hidden_layer_sizes=(32, 32), max_iter=1000, verbose=1)\n"
     ]
    },
    {
     "name": "stderr",
     "output_type": "stream",
     "text": [
      "/opt/conda/lib/python3.7/site-packages/ipykernel_launcher.py:11: ResourceWarning: unclosed file <_io.BufferedWriter name='./Data Exploration/data/uc1/GHL_uc1_0.3_smote_mlp_(32, 32)_model.pkl'>\n",
      "  # This is added back by InteractiveShellApp.init_path()\n",
      "ResourceWarning: Enable tracemalloc to get the object allocation traceback\n"
     ]
    },
    {
     "name": "stdout",
     "output_type": "stream",
     "text": [
      "GHL Training set 0.3 SMOTE mlp (32, 32) score: 1.0\n",
      "GHL Test set 0.3 SMOTE mlp (32, 32) score: 0.998682080054223\n",
      "GHL Accuracy:  0.998682080054223\n",
      "GHL mlp (32, 32)\n",
      " [[26520    18]\n",
      " [   17     2]]\n",
      "GHL mlp (32, 32)\n",
      "               precision    recall  f1-score   support\n",
      "\n",
      "           0       1.00      1.00      1.00     26538\n",
      "           1       0.10      0.11      0.10        19\n",
      "\n",
      "    accuracy                           1.00     26557\n",
      "   macro avg       0.55      0.55      0.55     26557\n",
      "weighted avg       1.00      1.00      1.00     26557\n",
      "\n"
     ]
    },
    {
     "name": "stderr",
     "output_type": "stream",
     "text": [
      "/opt/conda/lib/python3.7/site-packages/sklearn/utils/validation.py:72: DataConversionWarning: A column-vector y was passed when a 1d array was expected. Please change the shape of y to (n_samples, ), for example using ravel().\n",
      "  return f(**kwargs)\n"
     ]
    },
    {
     "name": "stdout",
     "output_type": "stream",
     "text": [
      "Iteration 1, loss = 0.06315009\n",
      "Iteration 2, loss = 0.00259781\n",
      "Iteration 3, loss = 0.00121489\n",
      "Iteration 4, loss = 0.00051398\n",
      "Iteration 5, loss = 0.00033251\n",
      "Iteration 6, loss = 0.00024141\n",
      "Iteration 7, loss = 0.00019978\n",
      "Iteration 8, loss = 0.00066949\n",
      "Iteration 9, loss = 0.00017669\n",
      "Iteration 10, loss = 0.00014041\n",
      "Iteration 11, loss = 0.00013280\n",
      "Iteration 12, loss = 0.00010942\n",
      "Iteration 13, loss = 0.00009970\n",
      "Iteration 14, loss = 0.00010242\n",
      "Iteration 15, loss = 0.00009209\n",
      "Iteration 16, loss = 0.00008654\n",
      "Training loss did not improve more than tol=0.000100 for 10 consecutive epochs. Stopping.\n",
      "MLPClassifier(hidden_layer_sizes=(32, 32), max_iter=1000, verbose=1)\n"
     ]
    },
    {
     "name": "stderr",
     "output_type": "stream",
     "text": [
      "/opt/conda/lib/python3.7/site-packages/ipykernel_launcher.py:11: ResourceWarning: unclosed file <_io.BufferedWriter name='./Data Exploration/data/uc1/GHL_uc1_0.5_smote_mlp_(32, 32)_model.pkl'>\n",
      "  # This is added back by InteractiveShellApp.init_path()\n",
      "ResourceWarning: Enable tracemalloc to get the object allocation traceback\n"
     ]
    },
    {
     "name": "stdout",
     "output_type": "stream",
     "text": [
      "GHL Training set 0.5 SMOTE mlp (32, 32) score: 0.9999916244398844\n",
      "GHL Test set 0.5 SMOTE mlp (32, 32) score: 0.9987573897654103\n",
      "GHL Accuracy:  0.9987573897654103\n",
      "GHL mlp (32, 32)\n",
      " [[26522    16]\n",
      " [   17     2]]\n",
      "GHL mlp (32, 32)\n",
      "               precision    recall  f1-score   support\n",
      "\n",
      "           0       1.00      1.00      1.00     26538\n",
      "           1       0.11      0.11      0.11        19\n",
      "\n",
      "    accuracy                           1.00     26557\n",
      "   macro avg       0.56      0.55      0.55     26557\n",
      "weighted avg       1.00      1.00      1.00     26557\n",
      "\n"
     ]
    },
    {
     "name": "stderr",
     "output_type": "stream",
     "text": [
      "/opt/conda/lib/python3.7/site-packages/sklearn/utils/validation.py:72: DataConversionWarning: A column-vector y was passed when a 1d array was expected. Please change the shape of y to (n_samples, ), for example using ravel().\n",
      "  return f(**kwargs)\n"
     ]
    },
    {
     "name": "stdout",
     "output_type": "stream",
     "text": [
      "Iteration 1, loss = 0.04852398\n",
      "Iteration 2, loss = 0.00174464\n",
      "Iteration 3, loss = 0.00085746\n",
      "Iteration 4, loss = 0.00043879\n",
      "Iteration 5, loss = 0.00022627\n",
      "Iteration 6, loss = 0.00065271\n",
      "Iteration 7, loss = 0.00074644\n",
      "Iteration 8, loss = 0.00020019\n",
      "Iteration 9, loss = 0.00017983\n",
      "Iteration 10, loss = 0.00013107\n",
      "Iteration 11, loss = 0.00020002\n",
      "Iteration 12, loss = 0.00021981\n",
      "Iteration 13, loss = 0.00013240\n",
      "Iteration 14, loss = 0.00011533\n",
      "Iteration 15, loss = 0.00012305\n",
      "Iteration 16, loss = 0.00010533\n",
      "Training loss did not improve more than tol=0.000100 for 10 consecutive epochs. Stopping.\n",
      "MLPClassifier(hidden_layer_sizes=(32, 32), max_iter=1000, verbose=1)\n"
     ]
    },
    {
     "name": "stderr",
     "output_type": "stream",
     "text": [
      "/opt/conda/lib/python3.7/site-packages/ipykernel_launcher.py:11: ResourceWarning: unclosed file <_io.BufferedWriter name='./Data Exploration/data/uc1/GHL_uc1_1.0_smote_mlp_(32, 32)_model.pkl'>\n",
      "  # This is added back by InteractiveShellApp.init_path()\n",
      "ResourceWarning: Enable tracemalloc to get the object allocation traceback\n"
     ]
    },
    {
     "name": "stdout",
     "output_type": "stream",
     "text": [
      "GHL Training set 1.0 SMOTE mlp (32, 32) score: 0.9999937183562194\n",
      "GHL Test set 1.0 SMOTE mlp (32, 32) score: 0.9989080091877848\n",
      "GHL Accuracy:  0.9989080091877848\n",
      "GHL mlp (32, 32)\n",
      " [[26526    12]\n",
      " [   17     2]]\n",
      "GHL mlp (32, 32)\n",
      "               precision    recall  f1-score   support\n",
      "\n",
      "           0       1.00      1.00      1.00     26538\n",
      "           1       0.14      0.11      0.12        19\n",
      "\n",
      "    accuracy                           1.00     26557\n",
      "   macro avg       0.57      0.55      0.56     26557\n",
      "weighted avg       1.00      1.00      1.00     26557\n",
      "\n"
     ]
    },
    {
     "name": "stderr",
     "output_type": "stream",
     "text": [
      "/opt/conda/lib/python3.7/site-packages/sklearn/utils/validation.py:72: DataConversionWarning: A column-vector y was passed when a 1d array was expected. Please change the shape of y to (n_samples, ), for example using ravel().\n",
      "  return f(**kwargs)\n"
     ]
    },
    {
     "name": "stdout",
     "output_type": "stream",
     "text": [
      "Iteration 1, loss = 0.05580902\n",
      "Iteration 2, loss = 0.00171804\n",
      "Iteration 3, loss = 0.00068512\n",
      "Iteration 4, loss = 0.00028044\n",
      "Iteration 5, loss = 0.00025566\n",
      "Iteration 6, loss = 0.00019677\n",
      "Iteration 7, loss = 0.00026731\n",
      "Iteration 8, loss = 0.00218196\n",
      "Iteration 9, loss = 0.00036658\n",
      "Iteration 10, loss = 0.00019858\n",
      "Iteration 11, loss = 0.00016856\n",
      "Iteration 12, loss = 0.00013460\n",
      "Iteration 13, loss = 0.00016167\n",
      "Iteration 14, loss = 0.00020985\n",
      "Iteration 15, loss = 0.00012166\n",
      "Training loss did not improve more than tol=0.000100 for 10 consecutive epochs. Stopping.\n",
      "MLPClassifier(hidden_layer_sizes=(64, 64), max_iter=1000, verbose=1)\n"
     ]
    },
    {
     "name": "stderr",
     "output_type": "stream",
     "text": [
      "/opt/conda/lib/python3.7/site-packages/ipykernel_launcher.py:11: ResourceWarning: unclosed file <_io.BufferedWriter name='./Data Exploration/data/uc1/GHL_uc1_0.1_smote_mlp_(64, 64)_model.pkl'>\n",
      "  # This is added back by InteractiveShellApp.init_path()\n",
      "ResourceWarning: Enable tracemalloc to get the object allocation traceback\n"
     ]
    },
    {
     "name": "stdout",
     "output_type": "stream",
     "text": [
      "GHL Training set 0.1 SMOTE mlp (64, 64) score: 0.999988578738179\n",
      "GHL Test set 0.1 SMOTE mlp (64, 64) score: 0.9989456640433784\n",
      "GHL Accuracy:  0.9989456640433784\n",
      "GHL mlp (64, 64)\n",
      " [[26527    11]\n",
      " [   17     2]]\n",
      "GHL mlp (64, 64)\n",
      "               precision    recall  f1-score   support\n",
      "\n",
      "           0       1.00      1.00      1.00     26538\n",
      "           1       0.15      0.11      0.12        19\n",
      "\n",
      "    accuracy                           1.00     26557\n",
      "   macro avg       0.58      0.55      0.56     26557\n",
      "weighted avg       1.00      1.00      1.00     26557\n",
      "\n"
     ]
    },
    {
     "name": "stderr",
     "output_type": "stream",
     "text": [
      "/opt/conda/lib/python3.7/site-packages/sklearn/utils/validation.py:72: DataConversionWarning: A column-vector y was passed when a 1d array was expected. Please change the shape of y to (n_samples, ), for example using ravel().\n",
      "  return f(**kwargs)\n"
     ]
    },
    {
     "name": "stdout",
     "output_type": "stream",
     "text": [
      "Iteration 1, loss = 0.06131382\n",
      "Iteration 2, loss = 0.00222532\n",
      "Iteration 3, loss = 0.00075467\n",
      "Iteration 4, loss = 0.00039288\n",
      "Iteration 5, loss = 0.00029384\n",
      "Iteration 6, loss = 0.00028001\n",
      "Iteration 7, loss = 0.00022513\n",
      "Iteration 8, loss = 0.00014279\n",
      "Iteration 9, loss = 0.00075050\n",
      "Iteration 10, loss = 0.00209626\n",
      "Iteration 11, loss = 0.00020662\n",
      "Iteration 12, loss = 0.00016342\n",
      "Iteration 13, loss = 0.00020939\n",
      "Iteration 14, loss = 0.00014553\n",
      "Iteration 15, loss = 0.00017281\n",
      "Training loss did not improve more than tol=0.000100 for 10 consecutive epochs. Stopping.\n",
      "MLPClassifier(hidden_layer_sizes=(64, 64), max_iter=1000, verbose=1)\n"
     ]
    },
    {
     "name": "stderr",
     "output_type": "stream",
     "text": [
      "/opt/conda/lib/python3.7/site-packages/ipykernel_launcher.py:11: ResourceWarning: unclosed file <_io.BufferedWriter name='./Data Exploration/data/uc1/GHL_uc1_0.2_smote_mlp_(64, 64)_model.pkl'>\n",
      "  # This is added back by InteractiveShellApp.init_path()\n",
      "ResourceWarning: Enable tracemalloc to get the object allocation traceback\n"
     ]
    },
    {
     "name": "stdout",
     "output_type": "stream",
     "text": [
      "GHL Training set 0.2 SMOTE mlp (64, 64) score: 0.9999685916495665\n",
      "GHL Test set 0.2 SMOTE mlp (64, 64) score: 0.9988326994765975\n",
      "GHL Accuracy:  0.9988326994765975\n",
      "GHL mlp (64, 64)\n",
      " [[26524    14]\n",
      " [   17     2]]\n",
      "GHL mlp (64, 64)\n",
      "               precision    recall  f1-score   support\n",
      "\n",
      "           0       1.00      1.00      1.00     26538\n",
      "           1       0.12      0.11      0.11        19\n",
      "\n",
      "    accuracy                           1.00     26557\n",
      "   macro avg       0.56      0.55      0.56     26557\n",
      "weighted avg       1.00      1.00      1.00     26557\n",
      "\n"
     ]
    },
    {
     "name": "stderr",
     "output_type": "stream",
     "text": [
      "/opt/conda/lib/python3.7/site-packages/sklearn/utils/validation.py:72: DataConversionWarning: A column-vector y was passed when a 1d array was expected. Please change the shape of y to (n_samples, ), for example using ravel().\n",
      "  return f(**kwargs)\n"
     ]
    },
    {
     "name": "stdout",
     "output_type": "stream",
     "text": [
      "Iteration 1, loss = 0.04594212\n",
      "Iteration 2, loss = 0.00225749\n",
      "Iteration 3, loss = 0.00063599\n",
      "Iteration 4, loss = 0.00035287\n",
      "Iteration 5, loss = 0.00024706\n",
      "Iteration 6, loss = 0.00028133\n",
      "Iteration 7, loss = 0.00019959\n",
      "Iteration 8, loss = 0.00012494\n",
      "Iteration 9, loss = 0.00014815\n",
      "Iteration 10, loss = 0.00015563\n",
      "Iteration 11, loss = 0.00021970\n",
      "Iteration 12, loss = 0.00012817\n",
      "Iteration 13, loss = 0.00013877\n",
      "Iteration 14, loss = 0.00256016\n",
      "Iteration 15, loss = 0.00034821\n",
      "Iteration 16, loss = 0.00038753\n",
      "Training loss did not improve more than tol=0.000100 for 10 consecutive epochs. Stopping.\n",
      "MLPClassifier(hidden_layer_sizes=(64, 64), max_iter=1000, verbose=1)\n"
     ]
    },
    {
     "name": "stderr",
     "output_type": "stream",
     "text": [
      "/opt/conda/lib/python3.7/site-packages/ipykernel_launcher.py:11: ResourceWarning: unclosed file <_io.BufferedWriter name='./Data Exploration/data/uc1/GHL_uc1_0.3_smote_mlp_(64, 64)_model.pkl'>\n",
      "  # This is added back by InteractiveShellApp.init_path()\n",
      "ResourceWarning: Enable tracemalloc to get the object allocation traceback\n"
     ]
    },
    {
     "name": "stdout",
     "output_type": "stream",
     "text": [
      "GHL Training set 0.3 SMOTE mlp (64, 64) score: 0.9999903359233059\n",
      "GHL Test set 0.3 SMOTE mlp (64, 64) score: 0.9989833188989721\n",
      "GHL Accuracy:  0.9989833188989721\n",
      "GHL mlp (64, 64)\n",
      " [[26529     9]\n",
      " [   18     1]]\n",
      "GHL mlp (64, 64)\n",
      "               precision    recall  f1-score   support\n",
      "\n",
      "           0       1.00      1.00      1.00     26538\n",
      "           1       0.10      0.05      0.07        19\n",
      "\n",
      "    accuracy                           1.00     26557\n",
      "   macro avg       0.55      0.53      0.53     26557\n",
      "weighted avg       1.00      1.00      1.00     26557\n",
      "\n"
     ]
    },
    {
     "name": "stderr",
     "output_type": "stream",
     "text": [
      "/opt/conda/lib/python3.7/site-packages/sklearn/utils/validation.py:72: DataConversionWarning: A column-vector y was passed when a 1d array was expected. Please change the shape of y to (n_samples, ), for example using ravel().\n",
      "  return f(**kwargs)\n"
     ]
    },
    {
     "name": "stdout",
     "output_type": "stream",
     "text": [
      "Iteration 1, loss = 0.04663223\n",
      "Iteration 2, loss = 0.00142584\n",
      "Iteration 3, loss = 0.00117877\n",
      "Iteration 4, loss = 0.00043387\n",
      "Iteration 5, loss = 0.00025413\n",
      "Iteration 6, loss = 0.00031452\n",
      "Iteration 7, loss = 0.00016935\n",
      "Iteration 8, loss = 0.00015976\n",
      "Iteration 9, loss = 0.00043479\n",
      "Iteration 10, loss = 0.00148172\n",
      "Iteration 11, loss = 0.00016992\n",
      "Iteration 12, loss = 0.00014250\n",
      "Iteration 13, loss = 0.00014294\n",
      "Iteration 14, loss = 0.00023528\n",
      "Iteration 15, loss = 0.00017008\n",
      "Iteration 16, loss = 0.00011451\n",
      "Training loss did not improve more than tol=0.000100 for 10 consecutive epochs. Stopping.\n",
      "MLPClassifier(hidden_layer_sizes=(64, 64), max_iter=1000, verbose=1)\n"
     ]
    },
    {
     "name": "stderr",
     "output_type": "stream",
     "text": [
      "/opt/conda/lib/python3.7/site-packages/ipykernel_launcher.py:11: ResourceWarning: unclosed file <_io.BufferedWriter name='./Data Exploration/data/uc1/GHL_uc1_0.5_smote_mlp_(64, 64)_model.pkl'>\n",
      "  # This is added back by InteractiveShellApp.init_path()\n",
      "ResourceWarning: Enable tracemalloc to get the object allocation traceback\n"
     ]
    },
    {
     "name": "stdout",
     "output_type": "stream",
     "text": [
      "GHL Training set 0.5 SMOTE mlp (64, 64) score: 0.9999832488797689\n",
      "GHL Test set 0.5 SMOTE mlp (64, 64) score: 0.9990586286101593\n",
      "GHL Accuracy:  0.9990586286101593\n",
      "GHL mlp (64, 64)\n",
      " [[26530     8]\n",
      " [   17     2]]\n",
      "GHL mlp (64, 64)\n",
      "               precision    recall  f1-score   support\n",
      "\n",
      "           0       1.00      1.00      1.00     26538\n",
      "           1       0.20      0.11      0.14        19\n",
      "\n",
      "    accuracy                           1.00     26557\n",
      "   macro avg       0.60      0.55      0.57     26557\n",
      "weighted avg       1.00      1.00      1.00     26557\n",
      "\n"
     ]
    },
    {
     "name": "stderr",
     "output_type": "stream",
     "text": [
      "/opt/conda/lib/python3.7/site-packages/sklearn/utils/validation.py:72: DataConversionWarning: A column-vector y was passed when a 1d array was expected. Please change the shape of y to (n_samples, ), for example using ravel().\n",
      "  return f(**kwargs)\n"
     ]
    },
    {
     "name": "stdout",
     "output_type": "stream",
     "text": [
      "Iteration 1, loss = 0.03274412\n",
      "Iteration 2, loss = 0.00097911\n",
      "Iteration 3, loss = 0.00088167\n",
      "Iteration 4, loss = 0.00029885\n",
      "Iteration 5, loss = 0.00018792\n",
      "Iteration 6, loss = 0.00016762\n",
      "Iteration 7, loss = 0.00012445\n",
      "Iteration 8, loss = 0.00011097\n",
      "Iteration 9, loss = 0.00112237\n",
      "Iteration 10, loss = 0.00020701\n",
      "Iteration 11, loss = 0.00013561\n",
      "Iteration 12, loss = 0.00012988\n",
      "Iteration 13, loss = 0.00013453\n",
      "Iteration 14, loss = 0.00012583\n",
      "Iteration 15, loss = 0.00088391\n",
      "Iteration 16, loss = 0.00038571\n",
      "Training loss did not improve more than tol=0.000100 for 10 consecutive epochs. Stopping.\n",
      "MLPClassifier(hidden_layer_sizes=(64, 64), max_iter=1000, verbose=1)\n"
     ]
    },
    {
     "name": "stderr",
     "output_type": "stream",
     "text": [
      "/opt/conda/lib/python3.7/site-packages/ipykernel_launcher.py:11: ResourceWarning: unclosed file <_io.BufferedWriter name='./Data Exploration/data/uc1/GHL_uc1_1.0_smote_mlp_(64, 64)_model.pkl'>\n",
      "  # This is added back by InteractiveShellApp.init_path()\n",
      "ResourceWarning: Enable tracemalloc to get the object allocation traceback\n"
     ]
    },
    {
     "name": "stdout",
     "output_type": "stream",
     "text": [
      "GHL Training set 1.0 SMOTE mlp (64, 64) score: 1.0\n",
      "GHL Test set 1.0 SMOTE mlp (64, 64) score: 0.9991339383213466\n",
      "GHL Accuracy:  0.9991339383213466\n",
      "GHL mlp (64, 64)\n",
      " [[26532     6]\n",
      " [   17     2]]\n",
      "GHL mlp (64, 64)\n",
      "               precision    recall  f1-score   support\n",
      "\n",
      "           0       1.00      1.00      1.00     26538\n",
      "           1       0.25      0.11      0.15        19\n",
      "\n",
      "    accuracy                           1.00     26557\n",
      "   macro avg       0.62      0.55      0.57     26557\n",
      "weighted avg       1.00      1.00      1.00     26557\n",
      "\n"
     ]
    },
    {
     "name": "stderr",
     "output_type": "stream",
     "text": [
      "/opt/conda/lib/python3.7/site-packages/sklearn/utils/validation.py:72: DataConversionWarning: A column-vector y was passed when a 1d array was expected. Please change the shape of y to (n_samples, ), for example using ravel().\n",
      "  return f(**kwargs)\n"
     ]
    },
    {
     "name": "stdout",
     "output_type": "stream",
     "text": [
      "Iteration 1, loss = 0.04407614\n",
      "Iteration 2, loss = 0.00109713\n",
      "Iteration 3, loss = 0.00045458\n",
      "Iteration 4, loss = 0.00287289\n",
      "Iteration 5, loss = 0.00040136\n",
      "Iteration 6, loss = 0.00028469\n",
      "Iteration 7, loss = 0.00018909\n",
      "Iteration 8, loss = 0.00029070\n",
      "Iteration 9, loss = 0.00023661\n",
      "Iteration 10, loss = 0.00018495\n",
      "Iteration 11, loss = 0.00017001\n",
      "Iteration 12, loss = 0.00014724\n",
      "Iteration 13, loss = 0.00017353\n",
      "Iteration 14, loss = 0.00013188\n",
      "Iteration 15, loss = 0.00013931\n",
      "Iteration 16, loss = 0.00390099\n",
      "Iteration 17, loss = 0.00025847\n",
      "Training loss did not improve more than tol=0.000100 for 10 consecutive epochs. Stopping.\n",
      "MLPClassifier(hidden_layer_sizes=(128, 128), max_iter=1000, verbose=1)\n"
     ]
    },
    {
     "name": "stderr",
     "output_type": "stream",
     "text": [
      "/opt/conda/lib/python3.7/site-packages/ipykernel_launcher.py:11: ResourceWarning: unclosed file <_io.BufferedWriter name='./Data Exploration/data/uc1/GHL_uc1_0.1_smote_mlp_(128, 128)_model.pkl'>\n",
      "  # This is added back by InteractiveShellApp.init_path()\n",
      "ResourceWarning: Enable tracemalloc to get the object allocation traceback\n"
     ]
    },
    {
     "name": "stdout",
     "output_type": "stream",
     "text": [
      "GHL Training set 0.1 SMOTE mlp (128, 128) score: 0.999988578738179\n",
      "GHL Test set 0.1 SMOTE mlp (128, 128) score: 0.9992092480325337\n",
      "GHL Accuracy:  0.9992092480325337\n",
      "GHL mlp (128, 128)\n",
      " [[26534     4]\n",
      " [   17     2]]\n",
      "GHL mlp (128, 128)\n",
      "               precision    recall  f1-score   support\n",
      "\n",
      "           0       1.00      1.00      1.00     26538\n",
      "           1       0.33      0.11      0.16        19\n",
      "\n",
      "    accuracy                           1.00     26557\n",
      "   macro avg       0.67      0.55      0.58     26557\n",
      "weighted avg       1.00      1.00      1.00     26557\n",
      "\n"
     ]
    },
    {
     "name": "stderr",
     "output_type": "stream",
     "text": [
      "/opt/conda/lib/python3.7/site-packages/sklearn/utils/validation.py:72: DataConversionWarning: A column-vector y was passed when a 1d array was expected. Please change the shape of y to (n_samples, ), for example using ravel().\n",
      "  return f(**kwargs)\n"
     ]
    },
    {
     "name": "stdout",
     "output_type": "stream",
     "text": [
      "Iteration 1, loss = 0.04289695\n",
      "Iteration 2, loss = 0.00162237\n",
      "Iteration 3, loss = 0.00065617\n",
      "Iteration 4, loss = 0.00039070\n",
      "Iteration 5, loss = 0.00030884\n",
      "Iteration 6, loss = 0.00021360\n",
      "Iteration 7, loss = 0.00031817\n",
      "Iteration 8, loss = 0.00014737\n",
      "Iteration 9, loss = 0.00020316\n",
      "Iteration 10, loss = 0.00027079\n",
      "Iteration 11, loss = 0.00017828\n",
      "Iteration 12, loss = 0.00019564\n",
      "Iteration 13, loss = 0.00014171\n",
      "Iteration 14, loss = 0.00013928\n",
      "Iteration 15, loss = 0.00250088\n",
      "Training loss did not improve more than tol=0.000100 for 10 consecutive epochs. Stopping.\n",
      "MLPClassifier(hidden_layer_sizes=(128, 128), max_iter=1000, verbose=1)\n"
     ]
    },
    {
     "name": "stderr",
     "output_type": "stream",
     "text": [
      "/opt/conda/lib/python3.7/site-packages/ipykernel_launcher.py:11: ResourceWarning: unclosed file <_io.BufferedWriter name='./Data Exploration/data/uc1/GHL_uc1_0.2_smote_mlp_(128, 128)_model.pkl'>\n",
      "  # This is added back by InteractiveShellApp.init_path()\n",
      "ResourceWarning: Enable tracemalloc to get the object allocation traceback\n"
     ]
    },
    {
     "name": "stdout",
     "output_type": "stream",
     "text": [
      "GHL Training set 0.2 SMOTE mlp (128, 128) score: 0.999979061099711\n",
      "GHL Test set 0.2 SMOTE mlp (128, 128) score: 0.9990586286101593\n",
      "GHL Accuracy:  0.9990586286101593\n",
      "GHL mlp (128, 128)\n",
      " [[26530     8]\n",
      " [   17     2]]\n",
      "GHL mlp (128, 128)\n",
      "               precision    recall  f1-score   support\n",
      "\n",
      "           0       1.00      1.00      1.00     26538\n",
      "           1       0.20      0.11      0.14        19\n",
      "\n",
      "    accuracy                           1.00     26557\n",
      "   macro avg       0.60      0.55      0.57     26557\n",
      "weighted avg       1.00      1.00      1.00     26557\n",
      "\n"
     ]
    },
    {
     "name": "stderr",
     "output_type": "stream",
     "text": [
      "/opt/conda/lib/python3.7/site-packages/sklearn/utils/validation.py:72: DataConversionWarning: A column-vector y was passed when a 1d array was expected. Please change the shape of y to (n_samples, ), for example using ravel().\n",
      "  return f(**kwargs)\n"
     ]
    },
    {
     "name": "stdout",
     "output_type": "stream",
     "text": [
      "Iteration 1, loss = 0.03698325\n",
      "Iteration 2, loss = 0.00096677\n",
      "Iteration 3, loss = 0.00047271\n",
      "Iteration 4, loss = 0.00026115\n",
      "Iteration 5, loss = 0.00034889\n",
      "Iteration 6, loss = 0.00028842\n",
      "Iteration 7, loss = 0.00034791\n",
      "Iteration 8, loss = 0.00018224\n",
      "Iteration 9, loss = 0.00157437\n",
      "Iteration 10, loss = 0.00047328\n",
      "Iteration 11, loss = 0.00022602\n",
      "Iteration 12, loss = 0.00016152\n",
      "Iteration 13, loss = 0.00027025\n",
      "Iteration 14, loss = 0.00058112\n",
      "Iteration 15, loss = 0.00037887\n",
      "Training loss did not improve more than tol=0.000100 for 10 consecutive epochs. Stopping.\n",
      "MLPClassifier(hidden_layer_sizes=(128, 128), max_iter=1000, verbose=1)\n"
     ]
    },
    {
     "name": "stderr",
     "output_type": "stream",
     "text": [
      "/opt/conda/lib/python3.7/site-packages/ipykernel_launcher.py:11: ResourceWarning: unclosed file <_io.BufferedWriter name='./Data Exploration/data/uc1/GHL_uc1_0.3_smote_mlp_(128, 128)_model.pkl'>\n",
      "  # This is added back by InteractiveShellApp.init_path()\n",
      "ResourceWarning: Enable tracemalloc to get the object allocation traceback\n"
     ]
    },
    {
     "name": "stdout",
     "output_type": "stream",
     "text": [
      "GHL Training set 0.3 SMOTE mlp (128, 128) score: 0.9999903359233059\n",
      "GHL Test set 0.3 SMOTE mlp (128, 128) score: 0.9992469028881275\n",
      "GHL Accuracy:  0.9992469028881275\n",
      "GHL mlp (128, 128)\n",
      " [[26535     3]\n",
      " [   17     2]]\n",
      "GHL mlp (128, 128)\n",
      "               precision    recall  f1-score   support\n",
      "\n",
      "           0       1.00      1.00      1.00     26538\n",
      "           1       0.40      0.11      0.17        19\n",
      "\n",
      "    accuracy                           1.00     26557\n",
      "   macro avg       0.70      0.55      0.58     26557\n",
      "weighted avg       1.00      1.00      1.00     26557\n",
      "\n"
     ]
    },
    {
     "name": "stderr",
     "output_type": "stream",
     "text": [
      "/opt/conda/lib/python3.7/site-packages/sklearn/utils/validation.py:72: DataConversionWarning: A column-vector y was passed when a 1d array was expected. Please change the shape of y to (n_samples, ), for example using ravel().\n",
      "  return f(**kwargs)\n"
     ]
    },
    {
     "name": "stdout",
     "output_type": "stream",
     "text": [
      "Iteration 1, loss = 0.03487973\n",
      "Iteration 2, loss = 0.00082985\n",
      "Iteration 3, loss = 0.00038589\n",
      "Iteration 4, loss = 0.00034275\n",
      "Iteration 5, loss = 0.00024496\n",
      "Iteration 6, loss = 0.00024663\n",
      "Iteration 7, loss = 0.00016961\n",
      "Iteration 8, loss = 0.00020596\n",
      "Iteration 9, loss = 0.00020037\n",
      "Iteration 10, loss = 0.00263587\n",
      "Iteration 11, loss = 0.00028235\n",
      "Iteration 12, loss = 0.00018236\n",
      "Iteration 13, loss = 0.00019902\n",
      "Iteration 14, loss = 0.00017223\n",
      "Training loss did not improve more than tol=0.000100 for 10 consecutive epochs. Stopping.\n",
      "MLPClassifier(hidden_layer_sizes=(128, 128), max_iter=1000, verbose=1)\n"
     ]
    },
    {
     "name": "stderr",
     "output_type": "stream",
     "text": [
      "/opt/conda/lib/python3.7/site-packages/ipykernel_launcher.py:11: ResourceWarning: unclosed file <_io.BufferedWriter name='./Data Exploration/data/uc1/GHL_uc1_0.5_smote_mlp_(128, 128)_model.pkl'>\n",
      "  # This is added back by InteractiveShellApp.init_path()\n",
      "ResourceWarning: Enable tracemalloc to get the object allocation traceback\n"
     ]
    },
    {
     "name": "stdout",
     "output_type": "stream",
     "text": [
      "GHL Training set 0.5 SMOTE mlp (128, 128) score: 0.9999916244398844\n",
      "GHL Test set 0.5 SMOTE mlp (128, 128) score: 0.9990586286101593\n",
      "GHL Accuracy:  0.9990586286101593\n",
      "GHL mlp (128, 128)\n",
      " [[26530     8]\n",
      " [   17     2]]\n",
      "GHL mlp (128, 128)\n",
      "               precision    recall  f1-score   support\n",
      "\n",
      "           0       1.00      1.00      1.00     26538\n",
      "           1       0.20      0.11      0.14        19\n",
      "\n",
      "    accuracy                           1.00     26557\n",
      "   macro avg       0.60      0.55      0.57     26557\n",
      "weighted avg       1.00      1.00      1.00     26557\n",
      "\n"
     ]
    },
    {
     "name": "stderr",
     "output_type": "stream",
     "text": [
      "/opt/conda/lib/python3.7/site-packages/sklearn/utils/validation.py:72: DataConversionWarning: A column-vector y was passed when a 1d array was expected. Please change the shape of y to (n_samples, ), for example using ravel().\n",
      "  return f(**kwargs)\n"
     ]
    },
    {
     "name": "stdout",
     "output_type": "stream",
     "text": [
      "Iteration 1, loss = 0.02525244\n",
      "Iteration 2, loss = 0.00151523\n",
      "Iteration 3, loss = 0.00041070\n",
      "Iteration 4, loss = 0.00024205\n",
      "Iteration 5, loss = 0.00059284\n",
      "Iteration 6, loss = 0.00035402\n",
      "Iteration 7, loss = 0.00024342\n",
      "Iteration 8, loss = 0.00017184\n",
      "Iteration 9, loss = 0.00014128\n",
      "Iteration 10, loss = 0.00153126\n",
      "Iteration 11, loss = 0.00021460\n",
      "Iteration 12, loss = 0.00018660\n",
      "Iteration 13, loss = 0.00019957\n",
      "Iteration 14, loss = 0.00017651\n",
      "Iteration 15, loss = 0.00014401\n",
      "Training loss did not improve more than tol=0.000100 for 10 consecutive epochs. Stopping.\n",
      "MLPClassifier(hidden_layer_sizes=(128, 128), max_iter=1000, verbose=1)\n"
     ]
    },
    {
     "name": "stderr",
     "output_type": "stream",
     "text": [
      "/opt/conda/lib/python3.7/site-packages/ipykernel_launcher.py:11: ResourceWarning: unclosed file <_io.BufferedWriter name='./Data Exploration/data/uc1/GHL_uc1_1.0_smote_mlp_(128, 128)_model.pkl'>\n",
      "  # This is added back by InteractiveShellApp.init_path()\n",
      "ResourceWarning: Enable tracemalloc to get the object allocation traceback\n"
     ]
    },
    {
     "name": "stdout",
     "output_type": "stream",
     "text": [
      "GHL Training set 1.0 SMOTE mlp (128, 128) score: 0.9999937183562194\n",
      "GHL Test set 1.0 SMOTE mlp (128, 128) score: 0.9992092480325337\n",
      "GHL Accuracy:  0.9992092480325337\n",
      "GHL mlp (128, 128)\n",
      " [[26534     4]\n",
      " [   17     2]]\n",
      "GHL mlp (128, 128)\n",
      "               precision    recall  f1-score   support\n",
      "\n",
      "           0       1.00      1.00      1.00     26538\n",
      "           1       0.33      0.11      0.16        19\n",
      "\n",
      "    accuracy                           1.00     26557\n",
      "   macro avg       0.67      0.55      0.58     26557\n",
      "weighted avg       1.00      1.00      1.00     26557\n",
      "\n"
     ]
    },
    {
     "name": "stderr",
     "output_type": "stream",
     "text": [
      "/opt/conda/lib/python3.7/site-packages/sklearn/utils/validation.py:72: DataConversionWarning: A column-vector y was passed when a 1d array was expected. Please change the shape of y to (n_samples, ), for example using ravel().\n",
      "  return f(**kwargs)\n"
     ]
    },
    {
     "name": "stdout",
     "output_type": "stream",
     "text": [
      "Iteration 1, loss = 0.03282013\n",
      "Iteration 2, loss = 0.00128775\n",
      "Iteration 3, loss = 0.00043359\n",
      "Iteration 4, loss = 0.00064869\n",
      "Iteration 5, loss = 0.00043644\n",
      "Iteration 6, loss = 0.00029584\n",
      "Iteration 7, loss = 0.00023250\n",
      "Iteration 8, loss = 0.00024269\n",
      "Iteration 9, loss = 0.00019485\n",
      "Iteration 10, loss = 0.00432037\n",
      "Iteration 11, loss = 0.00086684\n",
      "Iteration 12, loss = 0.00030438\n",
      "Iteration 13, loss = 0.00028640\n",
      "Iteration 14, loss = 0.00023452\n",
      "Iteration 15, loss = 0.00026219\n",
      "Iteration 16, loss = 0.00021730\n",
      "Iteration 17, loss = 0.00019041\n",
      "Training loss did not improve more than tol=0.000100 for 10 consecutive epochs. Stopping.\n",
      "MLPClassifier(hidden_layer_sizes=(256, 256), max_iter=1000, verbose=1)\n"
     ]
    },
    {
     "name": "stderr",
     "output_type": "stream",
     "text": [
      "/opt/conda/lib/python3.7/site-packages/ipykernel_launcher.py:11: ResourceWarning: unclosed file <_io.BufferedWriter name='./Data Exploration/data/uc1/GHL_uc1_0.1_smote_mlp_(256, 256)_model.pkl'>\n",
      "  # This is added back by InteractiveShellApp.init_path()\n",
      "ResourceWarning: Enable tracemalloc to get the object allocation traceback\n"
     ]
    },
    {
     "name": "stdout",
     "output_type": "stream",
     "text": [
      "GHL Training set 0.1 SMOTE mlp (256, 256) score: 0.9997030471926538\n",
      "GHL Test set 0.1 SMOTE mlp (256, 256) score: 0.9990962834657529\n",
      "GHL Accuracy:  0.9990962834657529\n",
      "GHL mlp (256, 256)\n",
      " [[26532     6]\n",
      " [   18     1]]\n",
      "GHL mlp (256, 256)\n",
      "               precision    recall  f1-score   support\n",
      "\n",
      "           0       1.00      1.00      1.00     26538\n",
      "           1       0.14      0.05      0.08        19\n",
      "\n",
      "    accuracy                           1.00     26557\n",
      "   macro avg       0.57      0.53      0.54     26557\n",
      "weighted avg       1.00      1.00      1.00     26557\n",
      "\n"
     ]
    },
    {
     "name": "stderr",
     "output_type": "stream",
     "text": [
      "/opt/conda/lib/python3.7/site-packages/sklearn/utils/validation.py:72: DataConversionWarning: A column-vector y was passed when a 1d array was expected. Please change the shape of y to (n_samples, ), for example using ravel().\n",
      "  return f(**kwargs)\n"
     ]
    },
    {
     "name": "stdout",
     "output_type": "stream",
     "text": [
      "Iteration 1, loss = 0.03097798\n",
      "Iteration 2, loss = 0.00102606\n",
      "Iteration 3, loss = 0.00067666\n",
      "Iteration 4, loss = 0.00031332\n",
      "Iteration 5, loss = 0.00031878\n",
      "Iteration 6, loss = 0.00025826\n",
      "Iteration 7, loss = 0.00036921\n",
      "Iteration 8, loss = 0.00022824\n",
      "Iteration 9, loss = 0.00310528\n",
      "Iteration 10, loss = 0.00052723\n",
      "Iteration 11, loss = 0.00023873\n",
      "Iteration 12, loss = 0.00027652\n",
      "Iteration 13, loss = 0.00023641\n",
      "Iteration 14, loss = 0.00032063\n",
      "Iteration 15, loss = 0.00018836\n",
      "Training loss did not improve more than tol=0.000100 for 10 consecutive epochs. Stopping.\n",
      "MLPClassifier(hidden_layer_sizes=(256, 256), max_iter=1000, verbose=1)\n"
     ]
    },
    {
     "name": "stderr",
     "output_type": "stream",
     "text": [
      "/opt/conda/lib/python3.7/site-packages/ipykernel_launcher.py:11: ResourceWarning: unclosed file <_io.BufferedWriter name='./Data Exploration/data/uc1/GHL_uc1_0.2_smote_mlp_(256, 256)_model.pkl'>\n",
      "  # This is added back by InteractiveShellApp.init_path()\n",
      "ResourceWarning: Enable tracemalloc to get the object allocation traceback\n"
     ]
    },
    {
     "name": "stdout",
     "output_type": "stream",
     "text": [
      "GHL Training set 0.2 SMOTE mlp (256, 256) score: 0.9999895305498555\n",
      "GHL Test set 0.2 SMOTE mlp (256, 256) score: 0.9989456640433784\n",
      "GHL Accuracy:  0.9989456640433784\n",
      "GHL mlp (256, 256)\n",
      " [[26527    11]\n",
      " [   17     2]]\n",
      "GHL mlp (256, 256)\n",
      "               precision    recall  f1-score   support\n",
      "\n",
      "           0       1.00      1.00      1.00     26538\n",
      "           1       0.15      0.11      0.12        19\n",
      "\n",
      "    accuracy                           1.00     26557\n",
      "   macro avg       0.58      0.55      0.56     26557\n",
      "weighted avg       1.00      1.00      1.00     26557\n",
      "\n"
     ]
    },
    {
     "name": "stderr",
     "output_type": "stream",
     "text": [
      "/opt/conda/lib/python3.7/site-packages/sklearn/utils/validation.py:72: DataConversionWarning: A column-vector y was passed when a 1d array was expected. Please change the shape of y to (n_samples, ), for example using ravel().\n",
      "  return f(**kwargs)\n"
     ]
    },
    {
     "name": "stdout",
     "output_type": "stream",
     "text": [
      "Iteration 1, loss = 0.02996206\n",
      "Iteration 2, loss = 0.00085664\n",
      "Iteration 3, loss = 0.00040451\n",
      "Iteration 4, loss = 0.00048016\n",
      "Iteration 5, loss = 0.00027294\n",
      "Iteration 6, loss = 0.00031476\n",
      "Iteration 16, loss = 0.00020565\n",
      "Training loss did not improve more than tol=0.000100 for 10 consecutive epochs. Stopping.\n",
      "MLPClassifier(hidden_layer_sizes=(256, 256), max_iter=1000, verbose=1)\n"
     ]
    },
    {
     "name": "stderr",
     "output_type": "stream",
     "text": [
      "/opt/conda/lib/python3.7/site-packages/ipykernel_launcher.py:11: ResourceWarning: unclosed file <_io.BufferedWriter name='./Data Exploration/data/uc1/GHL_uc1_0.3_smote_mlp_(256, 256)_model.pkl'>\n",
      "  # This is added back by InteractiveShellApp.init_path()\n",
      "ResourceWarning: Enable tracemalloc to get the object allocation traceback\n"
     ]
    },
    {
     "name": "stdout",
     "output_type": "stream",
     "text": [
      "GHL Training set 0.3 SMOTE mlp (256, 256) score: 0.9999903359233059\n",
      "GHL Test set 0.3 SMOTE mlp (256, 256) score: 0.9992092480325337\n",
      "GHL Accuracy:  0.9992092480325337\n",
      "GHL mlp (256, 256)\n",
      " [[26534     4]\n",
      " [   17     2]]\n",
      "GHL mlp (256, 256)\n",
      "               precision    recall  f1-score   support\n",
      "\n",
      "           0       1.00      1.00      1.00     26538\n",
      "           1       0.33      0.11      0.16        19\n",
      "\n",
      "    accuracy                           1.00     26557\n",
      "   macro avg       0.67      0.55      0.58     26557\n",
      "weighted avg       1.00      1.00      1.00     26557\n",
      "\n"
     ]
    },
    {
     "name": "stderr",
     "output_type": "stream",
     "text": [
      "/opt/conda/lib/python3.7/site-packages/sklearn/utils/validation.py:72: DataConversionWarning: A column-vector y was passed when a 1d array was expected. Please change the shape of y to (n_samples, ), for example using ravel().\n",
      "  return f(**kwargs)\n"
     ]
    },
    {
     "name": "stdout",
     "output_type": "stream",
     "text": [
      "Iteration 1, loss = 0.02507469\n",
      "Iteration 2, loss = 0.00062221\n",
      "Iteration 3, loss = 0.00042781\n",
      "Iteration 4, loss = 0.00040810\n",
      "Iteration 5, loss = 0.00171375\n",
      "Iteration 6, loss = 0.00115720\n",
      "Iteration 7, loss = 0.00041920\n",
      "Iteration 8, loss = 0.00034141\n",
      "Iteration 9, loss = 0.00025470\n",
      "Iteration 10, loss = 0.00026152\n",
      "Iteration 11, loss = 0.00022385\n",
      "Iteration 12, loss = 0.00027171\n",
      "Iteration 13, loss = 0.00179481\n",
      "Iteration 14, loss = 0.00094956\n",
      "Training loss did not improve more than tol=0.000100 for 10 consecutive epochs. Stopping.\n",
      "MLPClassifier(hidden_layer_sizes=(256, 256), max_iter=1000, verbose=1)\n"
     ]
    },
    {
     "name": "stderr",
     "output_type": "stream",
     "text": [
      "/opt/conda/lib/python3.7/site-packages/ipykernel_launcher.py:11: ResourceWarning: unclosed file <_io.BufferedWriter name='./Data Exploration/data/uc1/GHL_uc1_0.5_smote_mlp_(256, 256)_model.pkl'>\n",
      "  # This is added back by InteractiveShellApp.init_path()\n",
      "ResourceWarning: Enable tracemalloc to get the object allocation traceback\n"
     ]
    },
    {
     "name": "stdout",
     "output_type": "stream",
     "text": [
      "GHL Training set 0.5 SMOTE mlp (256, 256) score: 0.9999832488797689\n",
      "GHL Test set 0.5 SMOTE mlp (256, 256) score: 0.9992092480325337\n",
      "GHL Accuracy:  0.9992092480325337\n",
      "GHL mlp (256, 256)\n",
      " [[26534     4]\n",
      " [   17     2]]\n",
      "GHL mlp (256, 256)\n",
      "               precision    recall  f1-score   support\n",
      "\n",
      "           0       1.00      1.00      1.00     26538\n",
      "           1       0.33      0.11      0.16        19\n",
      "\n",
      "    accuracy                           1.00     26557\n",
      "   macro avg       0.67      0.55      0.58     26557\n",
      "weighted avg       1.00      1.00      1.00     26557\n",
      "\n"
     ]
    },
    {
     "name": "stderr",
     "output_type": "stream",
     "text": [
      "/opt/conda/lib/python3.7/site-packages/sklearn/utils/validation.py:72: DataConversionWarning: A column-vector y was passed when a 1d array was expected. Please change the shape of y to (n_samples, ), for example using ravel().\n",
      "  return f(**kwargs)\n"
     ]
    },
    {
     "name": "stdout",
     "output_type": "stream",
     "text": [
      "Iteration 1, loss = 0.01884382\n",
      "Iteration 2, loss = 0.00057690\n",
      "Iteration 3, loss = 0.00043852\n",
      "Iteration 4, loss = 0.00029204\n",
      "Iteration 5, loss = 0.00029144\n",
      "Iteration 6, loss = 0.00138974\n",
      "Iteration 7, loss = 0.00080231\n",
      "Iteration 8, loss = 0.00036383\n",
      "Iteration 9, loss = 0.00026693\n",
      "Iteration 10, loss = 0.00022394\n",
      "Iteration 11, loss = 0.00019983\n",
      "Iteration 12, loss = 0.00019102\n",
      "Iteration 13, loss = 0.00146233\n",
      "Iteration 14, loss = 0.00044516\n",
      "Iteration 15, loss = 0.00023721\n",
      "Training loss did not improve more than tol=0.000100 for 10 consecutive epochs. Stopping.\n",
      "MLPClassifier(hidden_layer_sizes=(256, 256), max_iter=1000, verbose=1)\n"
     ]
    },
    {
     "name": "stderr",
     "output_type": "stream",
     "text": [
      "/opt/conda/lib/python3.7/site-packages/ipykernel_launcher.py:11: ResourceWarning: unclosed file <_io.BufferedWriter name='./Data Exploration/data/uc1/GHL_uc1_1.0_smote_mlp_(256, 256)_model.pkl'>\n",
      "  # This is added back by InteractiveShellApp.init_path()\n",
      "ResourceWarning: Enable tracemalloc to get the object allocation traceback\n"
     ]
    },
    {
     "name": "stdout",
     "output_type": "stream",
     "text": [
      "GHL Training set 1.0 SMOTE mlp (256, 256) score: 0.9999937183562194\n",
      "GHL Test set 1.0 SMOTE mlp (256, 256) score: 0.9992092480325337\n",
      "GHL Accuracy:  0.9992092480325337\n",
      "GHL mlp (256, 256)\n",
      " [[26534     4]\n",
      " [   17     2]]\n",
      "GHL mlp (256, 256)\n",
      "               precision    recall  f1-score   support\n",
      "\n",
      "           0       1.00      1.00      1.00     26538\n",
      "           1       0.33      0.11      0.16        19\n",
      "\n",
      "    accuracy                           1.00     26557\n",
      "   macro avg       0.67      0.55      0.58     26557\n",
      "weighted avg       1.00      1.00      1.00     26557\n",
      "\n"
     ]
    },
    {
     "name": "stderr",
     "output_type": "stream",
     "text": [
      "/opt/conda/lib/python3.7/site-packages/sklearn/utils/validation.py:72: DataConversionWarning: A column-vector y was passed when a 1d array was expected. Please change the shape of y to (n_samples, ), for example using ravel().\n",
      "  return f(**kwargs)\n"
     ]
    },
    {
     "name": "stdout",
     "output_type": "stream",
     "text": [
      "Iteration 1, loss = 0.11103045\n",
      "Iteration 2, loss = 0.00278562\n",
      "Iteration 3, loss = 0.00101702\n",
      "Iteration 4, loss = 0.00063432\n",
      "Iteration 5, loss = 0.00031639\n",
      "Iteration 6, loss = 0.00078408\n",
      "Iteration 7, loss = 0.00023875\n",
      "Iteration 8, loss = 0.00017006\n",
      "Iteration 9, loss = 0.00014859\n",
      "Iteration 10, loss = 0.00013910\n",
      "Iteration 11, loss = 0.00008427\n",
      "Iteration 12, loss = 0.00008213\n",
      "Iteration 13, loss = 0.00174349\n",
      "Iteration 14, loss = 0.00034748\n",
      "Iteration 15, loss = 0.00011115\n",
      "Iteration 16, loss = 0.00008316\n",
      "Training loss did not improve more than tol=0.000100 for 10 consecutive epochs. Stopping.\n",
      "MLPClassifier(hidden_layer_sizes=(16, 16, 16), max_iter=1000, verbose=1)\n"
     ]
    },
    {
     "name": "stderr",
     "output_type": "stream",
     "text": [
      "/opt/conda/lib/python3.7/site-packages/ipykernel_launcher.py:11: ResourceWarning: unclosed file <_io.BufferedWriter name='./Data Exploration/data/uc1/GHL_uc1_0.1_smote_mlp_(16, 16, 16)_model.pkl'>\n",
      "  # This is added back by InteractiveShellApp.init_path()\n",
      "ResourceWarning: Enable tracemalloc to get the object allocation traceback\n"
     ]
    },
    {
     "name": "stdout",
     "output_type": "stream",
     "text": [
      "GHL Training set 0.1 SMOTE mlp (16, 16, 16) score: 0.999988578738179\n",
      "GHL Test set 0.1 SMOTE mlp (16, 16, 16) score: 0.9987197349098166\n",
      "GHL Accuracy:  0.9987197349098166\n",
      "GHL mlp (16, 16, 16)\n",
      " [[26521    17]\n",
      " [   17     2]]\n",
      "GHL mlp (16, 16, 16)\n",
      "               precision    recall  f1-score   support\n",
      "\n",
      "           0       1.00      1.00      1.00     26538\n",
      "           1       0.11      0.11      0.11        19\n",
      "\n",
      "    accuracy                           1.00     26557\n",
      "   macro avg       0.55      0.55      0.55     26557\n",
      "weighted avg       1.00      1.00      1.00     26557\n",
      "\n"
     ]
    },
    {
     "name": "stderr",
     "output_type": "stream",
     "text": [
      "/opt/conda/lib/python3.7/site-packages/sklearn/utils/validation.py:72: DataConversionWarning: A column-vector y was passed when a 1d array was expected. Please change the shape of y to (n_samples, ), for example using ravel().\n",
      "  return f(**kwargs)\n"
     ]
    },
    {
     "name": "stdout",
     "output_type": "stream",
     "text": [
      "Iteration 1, loss = 0.06731580\n",
      "Iteration 2, loss = 0.00253106\n",
      "Iteration 3, loss = 0.00113253\n",
      "Iteration 4, loss = 0.00060755\n",
      "Iteration 5, loss = 0.00040946\n",
      "Iteration 6, loss = 0.00031281\n",
      "Iteration 7, loss = 0.00098581\n",
      "Iteration 8, loss = 0.00086518\n",
      "Iteration 9, loss = 0.00019321\n",
      "Iteration 10, loss = 0.00009855\n",
      "Iteration 11, loss = 0.00009558\n",
      "Iteration 12, loss = 0.00016551\n",
      "Iteration 13, loss = 0.00008462\n",
      "Iteration 14, loss = 0.00008139\n",
      "Iteration 15, loss = 0.00032644\n",
      "Iteration 16, loss = 0.00061128\n",
      "Iteration 17, loss = 0.00023813\n",
      "Iteration 18, loss = 0.00008227\n",
      "Iteration 19, loss = 0.00008083\n",
      "Iteration 20, loss = 0.00008236\n",
      "Training loss did not improve more than tol=0.000100 for 10 consecutive epochs. Stopping.\n",
      "MLPClassifier(hidden_layer_sizes=(16, 16, 16), max_iter=1000, verbose=1)\n"
     ]
    },
    {
     "name": "stderr",
     "output_type": "stream",
     "text": [
      "/opt/conda/lib/python3.7/site-packages/ipykernel_launcher.py:11: ResourceWarning: unclosed file <_io.BufferedWriter name='./Data Exploration/data/uc1/GHL_uc1_0.2_smote_mlp_(16, 16, 16)_model.pkl'>\n",
      "  # This is added back by InteractiveShellApp.init_path()\n",
      "ResourceWarning: Enable tracemalloc to get the object allocation traceback\n"
     ]
    },
    {
     "name": "stdout",
     "output_type": "stream",
     "text": [
      "GHL Training set 0.2 SMOTE mlp (16, 16, 16) score: 1.0\n",
      "GHL Test set 0.2 SMOTE mlp (16, 16, 16) score: 0.9987197349098166\n",
      "GHL Accuracy:  0.9987197349098166\n",
      "GHL mlp (16, 16, 16)\n",
      " [[26522    16]\n",
      " [   18     1]]\n",
      "GHL mlp (16, 16, 16)\n",
      "               precision    recall  f1-score   support\n",
      "\n",
      "           0       1.00      1.00      1.00     26538\n",
      "           1       0.06      0.05      0.06        19\n",
      "\n",
      "    accuracy                           1.00     26557\n",
      "   macro avg       0.53      0.53      0.53     26557\n",
      "weighted avg       1.00      1.00      1.00     26557\n",
      "\n"
     ]
    },
    {
     "name": "stderr",
     "output_type": "stream",
     "text": [
      "/opt/conda/lib/python3.7/site-packages/sklearn/utils/validation.py:72: DataConversionWarning: A column-vector y was passed when a 1d array was expected. Please change the shape of y to (n_samples, ), for example using ravel().\n",
      "  return f(**kwargs)\n"
     ]
    },
    {
     "name": "stdout",
     "output_type": "stream",
     "text": [
      "Iteration 1, loss = 0.08570440\n",
      "Iteration 2, loss = 0.00346850\n",
      "Iteration 3, loss = 0.00143414\n",
      "Iteration 4, loss = 0.00069473\n",
      "Iteration 5, loss = 0.00051969\n",
      "Iteration 6, loss = 0.00039523\n",
      "Iteration 7, loss = 0.00032008\n",
      "Iteration 8, loss = 0.00032227\n",
      "Iteration 9, loss = 0.00020804\n",
      "Iteration 10, loss = 0.00020329\n",
      "Iteration 11, loss = 0.00078480\n",
      "Iteration 12, loss = 0.00028658\n",
      "Iteration 13, loss = 0.00020293\n",
      "Iteration 14, loss = 0.00019087\n",
      "Iteration 15, loss = 0.00031161\n",
      "Iteration 16, loss = 0.00013127\n",
      "Iteration 17, loss = 0.00019266\n",
      "Iteration 18, loss = 0.00018588\n",
      "Iteration 19, loss = 0.00015949\n",
      "Iteration 20, loss = 0.00152209\n",
      "Training loss did not improve more than tol=0.000100 for 10 consecutive epochs. Stopping.\n",
      "MLPClassifier(hidden_layer_sizes=(16, 16, 16), max_iter=1000, verbose=1)\n"
     ]
    },
    {
     "name": "stderr",
     "output_type": "stream",
     "text": [
      "/opt/conda/lib/python3.7/site-packages/ipykernel_launcher.py:11: ResourceWarning: unclosed file <_io.BufferedWriter name='./Data Exploration/data/uc1/GHL_uc1_0.3_smote_mlp_(16, 16, 16)_model.pkl'>\n",
      "  # This is added back by InteractiveShellApp.init_path()\n",
      "ResourceWarning: Enable tracemalloc to get the object allocation traceback\n"
     ]
    },
    {
     "name": "stdout",
     "output_type": "stream",
     "text": [
      "GHL Training set 0.3 SMOTE mlp (16, 16, 16) score: 0.9999806718466118\n",
      "GHL Test set 0.3 SMOTE mlp (16, 16, 16) score: 0.9988703543321912\n",
      "GHL Accuracy:  0.9988703543321912\n",
      "GHL mlp (16, 16, 16)\n",
      " [[26525    13]\n",
      " [   17     2]]\n",
      "GHL mlp (16, 16, 16)\n",
      "               precision    recall  f1-score   support\n",
      "\n",
      "           0       1.00      1.00      1.00     26538\n",
      "           1       0.13      0.11      0.12        19\n",
      "\n",
      "    accuracy                           1.00     26557\n",
      "   macro avg       0.57      0.55      0.56     26557\n",
      "weighted avg       1.00      1.00      1.00     26557\n",
      "\n"
     ]
    },
    {
     "name": "stderr",
     "output_type": "stream",
     "text": [
      "/opt/conda/lib/python3.7/site-packages/sklearn/utils/validation.py:72: DataConversionWarning: A column-vector y was passed when a 1d array was expected. Please change the shape of y to (n_samples, ), for example using ravel().\n",
      "  return f(**kwargs)\n"
     ]
    },
    {
     "name": "stdout",
     "output_type": "stream",
     "text": [
      "Iteration 1, loss = 0.09758943\n",
      "Iteration 2, loss = 0.00328239\n",
      "Iteration 3, loss = 0.00140405\n",
      "Iteration 4, loss = 0.00171498\n",
      "Iteration 5, loss = 0.00053133\n",
      "Iteration 6, loss = 0.00033631\n",
      "Iteration 7, loss = 0.00027707\n",
      "Iteration 8, loss = 0.00022196\n",
      "Iteration 9, loss = 0.00085604\n",
      "Iteration 10, loss = 0.00028551\n",
      "Iteration 11, loss = 0.00025630\n",
      "Iteration 12, loss = 0.00027096\n",
      "Iteration 13, loss = 0.00010701\n",
      "Iteration 14, loss = 0.00157055\n",
      "Iteration 15, loss = 0.00024787\n",
      "Iteration 16, loss = 0.00010703\n",
      "Iteration 17, loss = 0.00012660\n",
      "Iteration 18, loss = 0.00008074\n",
      "Iteration 19, loss = 0.00011376\n",
      "Iteration 20, loss = 0.00006681\n",
      "Iteration 21, loss = 0.00008394\n",
      "Iteration 22, loss = 0.00085089\n",
      "Iteration 23, loss = 0.00009436\n",
      "Iteration 24, loss = 0.00007545\n",
      "Training loss did not improve more than tol=0.000100 for 10 consecutive epochs. Stopping.\n",
      "MLPClassifier(hidden_layer_sizes=(16, 16, 16), max_iter=1000, verbose=1)\n"
     ]
    },
    {
     "name": "stderr",
     "output_type": "stream",
     "text": [
      "/opt/conda/lib/python3.7/site-packages/ipykernel_launcher.py:11: ResourceWarning: unclosed file <_io.BufferedWriter name='./Data Exploration/data/uc1/GHL_uc1_0.5_smote_mlp_(16, 16, 16)_model.pkl'>\n",
      "  # This is added back by InteractiveShellApp.init_path()\n",
      "ResourceWarning: Enable tracemalloc to get the object allocation traceback\n"
     ]
    }
   ],
   "source": [
    "for hosp in dict_df_X_train:\n",
    "    for hid_layers in list_hid_layers:\n",
    "        for sample in list_smote_sampling:\n",
    "            sm_ss = SMOTE(random_state=55,sampling_strategy=sample)\n",
    "            X_train_ss, y_train_ss = sm_ss.fit_sample(dict_df_X_train[hosp], dict_df_y_train[hosp])\n",
    "        \n",
    "            model = MLPClassifier(hidden_layer_sizes=hid_layers, max_iter=max_iter,verbose=1)  \n",
    "            model.fit(X_train_ss, y_train_ss)  \n",
    "            print(model)\n",
    "            filename = file_dir + f'{hosp}_uc1_{sample}_smote_mlp_{hid_layers}_model.pkl'\n",
    "            pickle.dump(model, open(filename, 'wb'))\n",
    "            \n",
    "            predictions = model.predict(dict_df_X_test[hosp]) \n",
    "\n",
    "            # Score\n",
    "            print(f\"{hosp} Training set {sample} SMOTE mlp {hid_layers} score: {model.score(X_train_ss, y_train_ss)}\")\n",
    "            print(f\"{hosp} Test set {sample} SMOTE mlp {hid_layers} score: {model.score(dict_df_X_test[hosp], dict_df_y_test[hosp])}\")\n",
    "\n",
    "            print(f\"{hosp} Accuracy: \", metrics.accuracy_score(dict_df_y_test[hosp], predictions))\n",
    "            print(hosp, f'mlp {hid_layers}\\n', confusion_matrix(dict_df_y_test[hosp],predictions))  \n",
    "            print(hosp, f'mlp {hid_layers}\\n', classification_report(dict_df_y_test[hosp],predictions))  "
   ]
  },
  {
   "cell_type": "markdown",
   "metadata": {},
   "source": [
    "## KNN"
   ]
  },
  {
   "cell_type": "code",
   "execution_count": null,
   "metadata": {},
   "outputs": [],
   "source": [
    "# Be careful when running this, about 2 full days are needed to run this!!!\n",
    "from sklearn.neighbors import KNeighborsClassifier"
   ]
  },
  {
   "cell_type": "code",
   "execution_count": null,
   "metadata": {},
   "outputs": [],
   "source": [
    "for hosp in dict_df_X_train:\n",
    "    test_scores = []\n",
    "    train_scores = []\n",
    "\n",
    "    for i in range(1,15):\n",
    "\n",
    "        knn = KNeighborsClassifier(i)\n",
    "        knn.fit(dict_df_X_train[hosp],dict_df_y_train[hosp])\n",
    "\n",
    "        train_scores.append(knn.score(dict_df_X_train[hosp],dict_df_y_train[hosp]))\n",
    "        test_scores.append(knn.score(dict_df_X_test[hosp],dict_df_y_test[hosp]))\n",
    "\n",
    "    ## score that comes from testing on the same datapoints that were used for training\n",
    "    max_train_score = max(train_scores)\n",
    "    train_scores_ind = [i for i, v in enumerate(train_scores) if v == max_train_score]\n",
    "    print(f'{hosp} Max train score {max_train_score*100} % and k = {list(map(lambda x: x+1, train_scores_ind))}')\n",
    "\n",
    "    ## score that comes from testing on the datapoints that were split in the beginning to be used for testing solely\n",
    "    max_test_score = max(test_scores)\n",
    "    test_scores_ind = [i for i, v in enumerate(test_scores) if v == max_test_score]\n",
    "    print(f'{hosp} Max test score {max_test_score*100} % and k = {list(map(lambda x: x+1, test_scores_ind))}')\n",
    "\n",
    "    plt.figure(figsize=(12,5))\n",
    "    plt.plot(range(1,15),train_scores,marker='*',label='Train Score')\n",
    "    plt.plot(range(1,15),test_scores,marker='o',label='Test Score')\n",
    "    plt.title(f'{hosp} KNN')\n",
    "    plt.tight_layout()\n",
    "    plt.show()"
   ]
  },
  {
   "cell_type": "code",
   "execution_count": null,
   "metadata": {},
   "outputs": [],
   "source": [
    "from sklearn.neighbors import KNeighborsClassifier\n",
    "# From the above, the best KNN is at k=8\n",
    "#Setup a knn classifier with k neighbors\n",
    "best_knn = KNeighborsClassifier(8)"
   ]
  },
  {
   "cell_type": "markdown",
   "metadata": {},
   "source": [
    "### KNN without SMOTE"
   ]
  },
  {
   "cell_type": "code",
   "execution_count": null,
   "metadata": {},
   "outputs": [],
   "source": [
    "n_neighbours = 8\n",
    "for hosp in dict_df_X_train:\n",
    "    # Fit the KNN model with training data and score the test data\n",
    "    best_knn = KNeighborsClassifier(n_neighbours)\n",
    "    \n",
    "    best_knn.fit(dict_df_X_train[hosp],dict_df_y_train[hosp])\n",
    "    best_knn.score(dict_df_X_test[hosp],dict_df_y_test[hosp])\n",
    "    \n",
    "    # save the model to disk\n",
    "    filename = f'{hosp}_best_knn_without_smote.pkl'\n",
    "    pickle.dump(best_knn, open(filename, 'wb'))\n",
    "    \n",
    "    y_pred = best_knn.predict(dict_df_X_test[hosp])\n",
    "    # Score for Best KNN, No SMOTE\n",
    "    print(f\"{hosp} Training set without SMOTE KNN({n_neighbours}) score: {best_knn.score(dict_df_X_train[hosp], dict_df_y_train[hosp])}\")\n",
    "    print(f\"{hosp} Test set without SMOTE KNN({n_neighbours}) score: {best_knn.score(dict_df_X_test[hosp], dict_df_y_test[hosp])}\")\n",
    "\n",
    "    print(f\"{hosp} Accuracy without SMOTE KNN({n_neighbours}): {metrics.accuracy_score(dict_df_y_test[hosp], y_pred)}\")\n",
    "    print(hosp, f'KNN({n_neighbours})\\n', confusion_matrix(dict_df_y_test[hosp],y_pred))  \n",
    "    print(hosp, f'KNN({n_neighbours})\\n', classification_report(dict_df_y_test[hosp],y_pred))  "
   ]
  },
  {
   "cell_type": "markdown",
   "metadata": {},
   "source": [
    "### KNN With SMOTE"
   ]
  },
  {
   "cell_type": "markdown",
   "metadata": {},
   "source": [
    "#### KNN With SMOTE ss=0.1"
   ]
  },
  {
   "cell_type": "code",
   "execution_count": null,
   "metadata": {},
   "outputs": [],
   "source": [
    "n_neighbours = 8\n",
    "list_smote_sampling = [0.1, 0.5, 1.0]\n",
    "for hosp in dict_df_X_train:\n",
    "    for sample in list_smote_sampling:\n",
    "        sm_ss = SMOTE(random_state=55,sampling_strategy=sample)\n",
    "        X_train_ss, y_train_ss = sm_ss.fit_sample(dict_df_X_train[hosp], dict_df_y_train[hosp])\n",
    "        \n",
    "        # Fit the KNN model with training data and score the test data\n",
    "        best_knn = KNeighborsClassifier(n_neighbours)    \n",
    "        best_knn.fit(X_train_ss,y_train_ss)\n",
    "        #best_knn.score(dict_df_X_test[hosp],dict_df_y_test[hosp])\n",
    "        \n",
    "        # save the model to disk\n",
    "        filename = f'{hosp}_best_knn_{sample}_smote.pkl'\n",
    "        pickle.dump(best_knn, open(filename, 'wb'))\n",
    "        \n",
    "        y_pred = best_knn.predict(dict_df_X_test[hosp])\n",
    "        # Score for Best KNN, with SMOTE\n",
    "        print(f\"{hosp} Training set {sample} SMOTE KNN({n_neighbours}) score: {best_knn.score(X_train_ss, y_train_ss)}\")\n",
    "        print(f\"{hosp} Test set {sample} SMOTE KNN({n_neighbours}) score: {best_knn.score(dict_df_X_test[hosp], dict_df_y_test[hosp])}\")\n",
    "\n",
    "        print(f\"{hosp} Accuracy {sample} SMOTE KNN({n_neighbours}): \", metrics.accuracy_score(dict_df_y_test[hosp], y_pred))\n",
    "        print(confusion_matrix(dict_df_y_test[hosp],y_pred))  \n",
    "        print(classification_report(dict_df_y_test[hosp],y_pred)) "
   ]
  },
  {
   "cell_type": "code",
   "execution_count": null,
   "metadata": {},
   "outputs": [],
   "source": []
  }
 ],
 "metadata": {
  "environment": {
   "name": "common-cpu.m56",
   "type": "gcloud",
   "uri": "gcr.io/deeplearning-platform-release/base-cpu:m56"
  },
  "jupytext": {
   "formats": "ipynb,py:light"
  },
  "kernelspec": {
   "display_name": "Python 3",
   "language": "python",
   "name": "python3"
  },
  "language_info": {
   "codemirror_mode": {
    "name": "ipython",
    "version": 3
   },
   "file_extension": ".py",
   "mimetype": "text/x-python",
   "name": "python",
   "nbconvert_exporter": "python",
   "pygments_lexer": "ipython3",
   "version": "3.7.8"
  }
 },
 "nbformat": 4,
 "nbformat_minor": 4
}
