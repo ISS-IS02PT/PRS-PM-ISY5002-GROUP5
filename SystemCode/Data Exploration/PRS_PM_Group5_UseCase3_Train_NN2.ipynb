{
 "cells": [
  {
   "cell_type": "markdown",
   "metadata": {},
   "source": [
    "Imports"
   ]
  },
  {
   "cell_type": "code",
   "execution_count": 1,
   "metadata": {},
   "outputs": [
    {
     "name": "stderr",
     "output_type": "stream",
     "text": [
      "C:\\Users\\mokky\\AppData\\Roaming\\Python\\Python37\\site-packages\\tensorflow\\python\\framework\\dtypes.py:516: FutureWarning: Passing (type, 1) or '1type' as a synonym of type is deprecated; in a future version of numpy, it will be understood as (type, (1,)) / '(1,)type'.\n",
      "  _np_qint8 = np.dtype([(\"qint8\", np.int8, 1)])\n",
      "C:\\Users\\mokky\\AppData\\Roaming\\Python\\Python37\\site-packages\\tensorflow\\python\\framework\\dtypes.py:517: FutureWarning: Passing (type, 1) or '1type' as a synonym of type is deprecated; in a future version of numpy, it will be understood as (type, (1,)) / '(1,)type'.\n",
      "  _np_quint8 = np.dtype([(\"quint8\", np.uint8, 1)])\n",
      "C:\\Users\\mokky\\AppData\\Roaming\\Python\\Python37\\site-packages\\tensorflow\\python\\framework\\dtypes.py:518: FutureWarning: Passing (type, 1) or '1type' as a synonym of type is deprecated; in a future version of numpy, it will be understood as (type, (1,)) / '(1,)type'.\n",
      "  _np_qint16 = np.dtype([(\"qint16\", np.int16, 1)])\n",
      "C:\\Users\\mokky\\AppData\\Roaming\\Python\\Python37\\site-packages\\tensorflow\\python\\framework\\dtypes.py:519: FutureWarning: Passing (type, 1) or '1type' as a synonym of type is deprecated; in a future version of numpy, it will be understood as (type, (1,)) / '(1,)type'.\n",
      "  _np_quint16 = np.dtype([(\"quint16\", np.uint16, 1)])\n",
      "C:\\Users\\mokky\\AppData\\Roaming\\Python\\Python37\\site-packages\\tensorflow\\python\\framework\\dtypes.py:520: FutureWarning: Passing (type, 1) or '1type' as a synonym of type is deprecated; in a future version of numpy, it will be understood as (type, (1,)) / '(1,)type'.\n",
      "  _np_qint32 = np.dtype([(\"qint32\", np.int32, 1)])\n",
      "C:\\Users\\mokky\\AppData\\Roaming\\Python\\Python37\\site-packages\\tensorflow\\python\\framework\\dtypes.py:525: FutureWarning: Passing (type, 1) or '1type' as a synonym of type is deprecated; in a future version of numpy, it will be understood as (type, (1,)) / '(1,)type'.\n",
      "  np_resource = np.dtype([(\"resource\", np.ubyte, 1)])\n",
      "C:\\Users\\mokky\\AppData\\Roaming\\Python\\Python37\\site-packages\\tensorboard\\compat\\tensorflow_stub\\dtypes.py:541: FutureWarning: Passing (type, 1) or '1type' as a synonym of type is deprecated; in a future version of numpy, it will be understood as (type, (1,)) / '(1,)type'.\n",
      "  _np_qint8 = np.dtype([(\"qint8\", np.int8, 1)])\n",
      "C:\\Users\\mokky\\AppData\\Roaming\\Python\\Python37\\site-packages\\tensorboard\\compat\\tensorflow_stub\\dtypes.py:542: FutureWarning: Passing (type, 1) or '1type' as a synonym of type is deprecated; in a future version of numpy, it will be understood as (type, (1,)) / '(1,)type'.\n",
      "  _np_quint8 = np.dtype([(\"quint8\", np.uint8, 1)])\n",
      "C:\\Users\\mokky\\AppData\\Roaming\\Python\\Python37\\site-packages\\tensorboard\\compat\\tensorflow_stub\\dtypes.py:543: FutureWarning: Passing (type, 1) or '1type' as a synonym of type is deprecated; in a future version of numpy, it will be understood as (type, (1,)) / '(1,)type'.\n",
      "  _np_qint16 = np.dtype([(\"qint16\", np.int16, 1)])\n",
      "C:\\Users\\mokky\\AppData\\Roaming\\Python\\Python37\\site-packages\\tensorboard\\compat\\tensorflow_stub\\dtypes.py:544: FutureWarning: Passing (type, 1) or '1type' as a synonym of type is deprecated; in a future version of numpy, it will be understood as (type, (1,)) / '(1,)type'.\n",
      "  _np_quint16 = np.dtype([(\"quint16\", np.uint16, 1)])\n",
      "C:\\Users\\mokky\\AppData\\Roaming\\Python\\Python37\\site-packages\\tensorboard\\compat\\tensorflow_stub\\dtypes.py:545: FutureWarning: Passing (type, 1) or '1type' as a synonym of type is deprecated; in a future version of numpy, it will be understood as (type, (1,)) / '(1,)type'.\n",
      "  _np_qint32 = np.dtype([(\"qint32\", np.int32, 1)])\n",
      "C:\\Users\\mokky\\AppData\\Roaming\\Python\\Python37\\site-packages\\tensorboard\\compat\\tensorflow_stub\\dtypes.py:550: FutureWarning: Passing (type, 1) or '1type' as a synonym of type is deprecated; in a future version of numpy, it will be understood as (type, (1,)) / '(1,)type'.\n",
      "  np_resource = np.dtype([(\"resource\", np.ubyte, 1)])\n"
     ]
    }
   ],
   "source": [
    "import pandas as pd\n",
    "import numpy as np\n",
    "import seaborn as sns\n",
    "import matplotlib.pyplot as plt\n",
    "from xgboost import XGBRegressor\n",
    "from tensorflow.keras.callbacks import ModelCheckpoint\n",
    "from tensorflow.keras.models import Sequential\n",
    "from tensorflow.keras.layers import Dense, Activation, Dropout, BatchNormalization\n",
    "from sklearn.model_selection import train_test_split\n",
    "from sklearn.ensemble import RandomForestRegressor\n",
    "from sklearn.metrics import mean_absolute_error \n",
    "from sklearn.metrics import mean_squared_error\n",
    "import pickle\n",
    "import sys"
   ]
  },
  {
   "cell_type": "code",
   "execution_count": 2,
   "metadata": {},
   "outputs": [
    {
     "data": {
      "text/plain": [
       "<tensorflow.python.client.session.Session at 0x229eb0e3b48>"
      ]
     },
     "execution_count": 2,
     "metadata": {},
     "output_type": "execute_result"
    }
   ],
   "source": [
    "import tensorflow as tf\n",
    "tf.Session(config=tf.ConfigProto(log_device_placement=True))"
   ]
  },
  {
   "cell_type": "code",
   "execution_count": 3,
   "metadata": {},
   "outputs": [],
   "source": [
    "# Function to show various error measurement\n",
    "def forecast_accuracy(forecast, actual):\n",
    "    mape = np.mean(np.abs(forecast - actual)/np.abs(actual))  # MAPE\n",
    "    me = np.mean(forecast - actual)             # ME\n",
    "    mae = np.mean(np.abs(forecast - actual))    # MAE\n",
    "    mpe = np.mean((forecast - actual)/actual)   # MPE\n",
    "    mse = np.mean((forecast - actual)**2)  # MSE\n",
    "    rmse = np.mean((forecast - actual)**2)**.5  # RMSE\n",
    "    #corr = np.corrcoef(forecast, actual)[0,1]   # corr\n",
    "    #mins = np.amin(np.hstack([forecast[:,None], \n",
    "    #                          actual[:,None]]), axis=1)\n",
    "    #maxs = np.amax(np.hstack([forecast[:,None], \n",
    "    #                          actual[:,None]]), axis=1)\n",
    "    #minmax = 1 - np.mean(mins/maxs)             # minmax\n",
    "    #acf1 = acf(fc-test)[1]                      # ACF1\n",
    "    #return({'mape':mape, 'me':me, 'mae': mae, \n",
    "    #        'mpe': mpe, 'rmse':rmse, 'acf1':acf1, \n",
    "    #        'corr':corr, 'minmax':minmax})\n",
    "    return({'mape':mape, 'me':me, 'mae': mae, \n",
    "            'mpe': mpe, 'mse':mse, 'rmse':rmse})"
   ]
  },
  {
   "cell_type": "code",
   "execution_count": 4,
   "metadata": {},
   "outputs": [
    {
     "name": "stdout",
     "output_type": "stream",
     "text": [
      "d:\\Users\\mokky\\Documents\\GitHub\\nus-iss\\PRS-PM-ISY5002-GROUP5\\SystemCode\n"
     ]
    }
   ],
   "source": [
    "import os\n",
    "os.chdir('d:/Users/mokky/Documents/GitHub/nus-iss/PRS-PM-ISY5002-GROUP5/SystemCode')\n",
    "print(os.getcwd())"
   ]
  },
  {
   "cell_type": "code",
   "execution_count": 5,
   "metadata": {},
   "outputs": [],
   "source": [
    "file_dir = './Data Exploration/data/uc3/'\n",
    "X_train_file_path = 'all_hosp_new_train_X_uc3.pkl'\n",
    "y_train_file_path = 'all_hosp_data_uc3_y_train_uc3.pkl'\n",
    "X_test_file_path = 'all_hosp_new_test_X_uc3.pkl'\n",
    "y_test_file_path = 'all_hosp_data_uc3_y_test_uc3.pkl'"
   ]
  },
  {
   "cell_type": "code",
   "execution_count": 6,
   "metadata": {},
   "outputs": [
    {
     "name": "stdout",
     "output_type": "stream",
     "text": [
      "(46888, 14313) (46888,) (15629, 14313) (15629,)\n"
     ]
    }
   ],
   "source": [
    "df_X_train = pd.read_pickle(file_dir + X_train_file_path)\n",
    "df_y_train = pd.read_pickle(file_dir + y_train_file_path)\n",
    "df_X_test = pd.read_pickle(file_dir + X_test_file_path)\n",
    "df_y_test = pd.read_pickle(file_dir + y_test_file_path)\n",
    "print(df_X_train.shape, df_y_train.shape, df_X_test.shape, df_y_test.shape)"
   ]
  },
  {
   "cell_type": "code",
   "execution_count": 7,
   "metadata": {},
   "outputs": [
    {
     "name": "stdout",
     "output_type": "stream",
     "text": [
      "(15629,)\n"
     ]
    }
   ],
   "source": [
    "print(df_y_test.values.shape)"
   ]
  },
  {
   "cell_type": "markdown",
   "metadata": {},
   "source": [
    "Neural Networks ( Sequential )"
   ]
  },
  {
   "cell_type": "code",
   "execution_count": 8,
   "metadata": {},
   "outputs": [],
   "source": [
    "NN_model = Sequential()\n",
    "n_hid_nodes = 4096\n",
    "dropout_rate = 0.2\n",
    "rand_seed = 42\n",
    "kernel_init = 'he_normal'\n",
    "hid_act = 'relu'"
   ]
  },
  {
   "cell_type": "code",
   "execution_count": 9,
   "metadata": {},
   "outputs": [],
   "source": [
    "NN_model.add(Dense(n_hid_nodes, kernel_initializer=kernel_init,input_dim = df_X_train.shape[1], activation=hid_act))\n",
    "NN_model.add(Dropout(dropout_rate, seed=rand_seed))"
   ]
  },
  {
   "cell_type": "code",
   "execution_count": 10,
   "metadata": {},
   "outputs": [],
   "source": [
    "#NN_model.add(GaussianNoise(0.01,input_shape = (df_X_train.shape[1],)))\n",
    "#NN_model.add(Dense(n_hid_nodes, kernel_initializer=kernel_init,activation='relu'))\n",
    "#NN_model.add(Dropout(dropout_rate, seed=rand_seed))"
   ]
  },
  {
   "cell_type": "code",
   "execution_count": 11,
   "metadata": {},
   "outputs": [],
   "source": [
    "for i in range(5):\n",
    "    NN_model.add(Dense(n_hid_nodes, kernel_initializer=kernel_init))#,activation=hid_act))\n",
    "    NN_model.add(BatchNormalization())\n",
    "    NN_model.add(Activation(hid_act))\n",
    "    NN_model.add(Dropout(dropout_rate, seed=rand_seed))"
   ]
  },
  {
   "cell_type": "code",
   "execution_count": 12,
   "metadata": {},
   "outputs": [],
   "source": [
    "NN_model.add(Dense(1, kernel_initializer=kernel_init,activation='linear'))"
   ]
  },
  {
   "cell_type": "code",
   "execution_count": 13,
   "metadata": {},
   "outputs": [
    {
     "name": "stdout",
     "output_type": "stream",
     "text": [
      "Model: \"sequential\"\n",
      "_________________________________________________________________\n",
      "Layer (type)                 Output Shape              Param #   \n",
      "=================================================================\n",
      "dense (Dense)                (None, 4096)              58630144  \n",
      "_________________________________________________________________\n",
      "dropout (Dropout)            (None, 4096)              0         \n",
      "_________________________________________________________________\n",
      "dense_1 (Dense)              (None, 4096)              16781312  \n",
      "_________________________________________________________________\n",
      "batch_normalization (BatchNo (None, 4096)              16384     \n",
      "_________________________________________________________________\n",
      "activation (Activation)      (None, 4096)              0         \n",
      "_________________________________________________________________\n",
      "dropout_1 (Dropout)          (None, 4096)              0         \n",
      "_________________________________________________________________\n",
      "dense_2 (Dense)              (None, 4096)              16781312  \n",
      "_________________________________________________________________\n",
      "batch_normalization_1 (Batch (None, 4096)              16384     \n",
      "_________________________________________________________________\n",
      "activation_1 (Activation)    (None, 4096)              0         \n",
      "_________________________________________________________________\n",
      "dropout_2 (Dropout)          (None, 4096)              0         \n",
      "_________________________________________________________________\n",
      "dense_3 (Dense)              (None, 4096)              16781312  \n",
      "_________________________________________________________________\n",
      "batch_normalization_2 (Batch (None, 4096)              16384     \n",
      "_________________________________________________________________\n",
      "activation_2 (Activation)    (None, 4096)              0         \n",
      "_________________________________________________________________\n",
      "dropout_3 (Dropout)          (None, 4096)              0         \n",
      "_________________________________________________________________\n",
      "dense_4 (Dense)              (None, 4096)              16781312  \n",
      "_________________________________________________________________\n",
      "batch_normalization_3 (Batch (None, 4096)              16384     \n",
      "_________________________________________________________________\n",
      "activation_3 (Activation)    (None, 4096)              0         \n",
      "_________________________________________________________________\n",
      "dropout_4 (Dropout)          (None, 4096)              0         \n",
      "_________________________________________________________________\n",
      "dense_5 (Dense)              (None, 4096)              16781312  \n",
      "_________________________________________________________________\n",
      "batch_normalization_4 (Batch (None, 4096)              16384     \n",
      "_________________________________________________________________\n",
      "activation_4 (Activation)    (None, 4096)              0         \n",
      "_________________________________________________________________\n",
      "dropout_5 (Dropout)          (None, 4096)              0         \n",
      "_________________________________________________________________\n",
      "dense_6 (Dense)              (None, 4096)              16781312  \n",
      "_________________________________________________________________\n",
      "batch_normalization_5 (Batch (None, 4096)              16384     \n",
      "_________________________________________________________________\n",
      "activation_5 (Activation)    (None, 4096)              0         \n",
      "_________________________________________________________________\n",
      "dropout_6 (Dropout)          (None, 4096)              0         \n",
      "_________________________________________________________________\n",
      "dense_7 (Dense)              (None, 1)                 4097      \n",
      "=================================================================\n",
      "Total params: 159,420,417\n",
      "Trainable params: 159,371,265\n",
      "Non-trainable params: 49,152\n",
      "_________________________________________________________________\n"
     ]
    }
   ],
   "source": [
    "NN_model.compile(loss='mean_absolute_error', optimizer='adam', metrics=['mean_absolute_error'])\n",
    "NN_model.summary()"
   ]
  },
  {
   "cell_type": "code",
   "execution_count": 14,
   "metadata": {},
   "outputs": [],
   "source": [
    "checkpoint_name = 'NN2_Weights-{epoch:03d}--{val_loss:.5f}.hdf5' \n",
    "checkpoint = ModelCheckpoint(checkpoint_name, monitor='val_loss', verbose = 1, save_best_only = True, mode ='auto')\n",
    "callbacks_list = [checkpoint]"
   ]
  },
  {
   "cell_type": "code",
   "execution_count": 15,
   "metadata": {
    "scrolled": true
   },
   "outputs": [
    {
     "name": "stdout",
     "output_type": "stream",
     "text": [
      "Train on 37510 samples, validate on 9378 samples\n",
      "Epoch 1/100\n",
      "37504/37510 [============================>.] - ETA: 0s - loss: 6259.8815 - mean_absolute_error: 6259.8794\n",
      "Epoch 00001: val_loss improved from inf to 6408.00158, saving model to NN2_Weights-001--6408.00158.hdf5\n",
      "37510/37510 [==============================] - 78s 2ms/sample - loss: 6259.4697 - mean_absolute_error: 6259.4673 - val_loss: 6408.0016 - val_mean_absolute_error: 6408.0020\n",
      "Epoch 2/100\n",
      "37504/37510 [============================>.] - ETA: 0s - loss: 4413.5970 - mean_absolute_error: 4413.5977\n",
      "Epoch 00002: val_loss improved from 6408.00158 to 2955.14515, saving model to NN2_Weights-002--2955.14515.hdf5\n",
      "37510/37510 [==============================] - 75s 2ms/sample - loss: 4414.3641 - mean_absolute_error: 4414.3647 - val_loss: 2955.1452 - val_mean_absolute_error: 2955.1455\n",
      "Epoch 3/100\n",
      "37504/37510 [============================>.] - ETA: 0s - loss: 2679.6331 - mean_absolute_error: 2679.6326\n",
      "Epoch 00003: val_loss improved from 2955.14515 to 2291.50389, saving model to NN2_Weights-003--2291.50389.hdf5\n",
      "37510/37510 [==============================] - 74s 2ms/sample - loss: 2679.4803 - mean_absolute_error: 2679.4797 - val_loss: 2291.5039 - val_mean_absolute_error: 2291.5039\n",
      "Epoch 4/100\n",
      "37504/37510 [============================>.] - ETA: 0s - loss: 2096.2104 - mean_absolute_error: 2096.2095\n",
      "Epoch 00004: val_loss improved from 2291.50389 to 1953.80885, saving model to NN2_Weights-004--1953.80885.hdf5\n",
      "37510/37510 [==============================] - 73s 2ms/sample - loss: 2096.2497 - mean_absolute_error: 2096.2488 - val_loss: 1953.8089 - val_mean_absolute_error: 1953.8090\n",
      "Epoch 5/100\n",
      "37504/37510 [============================>.] - ETA: 0s - loss: 1880.7469 - mean_absolute_error: 1880.7466\n",
      "Epoch 00005: val_loss improved from 1953.80885 to 1886.55810, saving model to NN2_Weights-005--1886.55810.hdf5\n",
      "37510/37510 [==============================] - 74s 2ms/sample - loss: 1880.6598 - mean_absolute_error: 1880.6594 - val_loss: 1886.5581 - val_mean_absolute_error: 1886.5581\n",
      "Epoch 6/100\n",
      "37504/37510 [============================>.] - ETA: 0s - loss: 1725.3542 - mean_absolute_error: 1725.3541\n",
      "Epoch 00006: val_loss improved from 1886.55810 to 1852.09398, saving model to NN2_Weights-006--1852.09398.hdf5\n",
      "37510/37510 [==============================] - 75s 2ms/sample - loss: 1725.2317 - mean_absolute_error: 1725.2316 - val_loss: 1852.0940 - val_mean_absolute_error: 1852.0940\n",
      "Epoch 7/100\n",
      "37504/37510 [============================>.] - ETA: 0s - loss: 1638.4333 - mean_absolute_error: 1638.4331\n",
      "Epoch 00007: val_loss did not improve from 1852.09398\n",
      "37510/37510 [==============================] - 70s 2ms/sample - loss: 1638.7026 - mean_absolute_error: 1638.7024 - val_loss: 1854.7739 - val_mean_absolute_error: 1854.7736\n",
      "Epoch 8/100\n",
      "37504/37510 [============================>.] - ETA: 0s - loss: 1572.8416 - mean_absolute_error: 1572.8408\n",
      "Epoch 00008: val_loss improved from 1852.09398 to 1848.21212, saving model to NN2_Weights-008--1848.21212.hdf5\n",
      "37510/37510 [==============================] - 75s 2ms/sample - loss: 1572.8391 - mean_absolute_error: 1572.8384 - val_loss: 1848.2121 - val_mean_absolute_error: 1848.2122\n",
      "Epoch 9/100\n",
      "37504/37510 [============================>.] - ETA: 0s - loss: 1517.1468 - mean_absolute_error: 1517.1469\n",
      "Epoch 00009: val_loss improved from 1848.21212 to 1814.58301, saving model to NN2_Weights-009--1814.58301.hdf5\n",
      "37510/37510 [==============================] - 75s 2ms/sample - loss: 1517.1018 - mean_absolute_error: 1517.1019 - val_loss: 1814.5830 - val_mean_absolute_error: 1814.5830\n",
      "Epoch 10/100\n",
      "37504/37510 [============================>.] - ETA: 0s - loss: 1454.9712 - mean_absolute_error: 1454.9711\n",
      "Epoch 00010: val_loss did not improve from 1814.58301\n",
      "37510/37510 [==============================] - 70s 2ms/sample - loss: 1455.2341 - mean_absolute_error: 1455.2340 - val_loss: 1830.9296 - val_mean_absolute_error: 1830.9296\n",
      "Epoch 11/100\n",
      "37504/37510 [============================>.] - ETA: 0s - loss: 1382.1946 - mean_absolute_error: 1382.1943\n",
      "Epoch 00011: val_loss did not improve from 1814.58301\n",
      "37510/37510 [==============================] - 70s 2ms/sample - loss: 1382.4993 - mean_absolute_error: 1382.4989 - val_loss: 1849.1095 - val_mean_absolute_error: 1849.1094\n",
      "Epoch 12/100\n",
      "37504/37510 [============================>.] - ETA: 0s - loss: 1363.3243 - mean_absolute_error: 1363.3240\n",
      "Epoch 00012: val_loss improved from 1814.58301 to 1812.72225, saving model to NN2_Weights-012--1812.72225.hdf5\n",
      "37510/37510 [==============================] - 75s 2ms/sample - loss: 1363.6362 - mean_absolute_error: 1363.6360 - val_loss: 1812.7222 - val_mean_absolute_error: 1812.7222\n",
      "Epoch 13/100\n",
      "37504/37510 [============================>.] - ETA: 0s - loss: 1344.3993 - mean_absolute_error: 1344.3997\n",
      "Epoch 00013: val_loss did not improve from 1812.72225\n",
      "37510/37510 [==============================] - 70s 2ms/sample - loss: 1344.6522 - mean_absolute_error: 1344.6525 - val_loss: 1878.8150 - val_mean_absolute_error: 1878.8149\n",
      "Epoch 14/100\n",
      "37504/37510 [============================>.] - ETA: 0s - loss: 1286.7052 - mean_absolute_error: 1286.7050\n",
      "Epoch 00014: val_loss did not improve from 1812.72225\n",
      "37510/37510 [==============================] - 70s 2ms/sample - loss: 1286.8751 - mean_absolute_error: 1286.8749 - val_loss: 1838.5946 - val_mean_absolute_error: 1838.5944\n",
      "Epoch 15/100\n",
      "37504/37510 [============================>.] - ETA: 0s - loss: 1242.5012 - mean_absolute_error: 1242.5009\n",
      "Epoch 00015: val_loss did not improve from 1812.72225\n",
      "37510/37510 [==============================] - 70s 2ms/sample - loss: 1242.7500 - mean_absolute_error: 1242.7496 - val_loss: 1835.6955 - val_mean_absolute_error: 1835.6952\n",
      "Epoch 16/100\n",
      "37504/37510 [============================>.] - ETA: 0s - loss: 1244.8867 - mean_absolute_error: 1244.8865\n",
      "Epoch 00016: val_loss did not improve from 1812.72225\n",
      "37510/37510 [==============================] - 70s 2ms/sample - loss: 1247.9645 - mean_absolute_error: 1247.9642 - val_loss: 1845.6107 - val_mean_absolute_error: 1845.6108\n",
      "Epoch 17/100\n",
      "37504/37510 [============================>.] - ETA: 0s - loss: 1212.9829 - mean_absolute_error: 1212.9834\n",
      "Epoch 00017: val_loss did not improve from 1812.72225\n",
      "37510/37510 [==============================] - 70s 2ms/sample - loss: 1213.0338 - mean_absolute_error: 1213.0342 - val_loss: 1824.5147 - val_mean_absolute_error: 1824.5153\n",
      "Epoch 18/100\n",
      "37504/37510 [============================>.] - ETA: 0s - loss: 1176.9845 - mean_absolute_error: 1176.9847\n",
      "Epoch 00018: val_loss did not improve from 1812.72225\n",
      "37510/37510 [==============================] - 70s 2ms/sample - loss: 1177.1490 - mean_absolute_error: 1177.1493 - val_loss: 1815.5097 - val_mean_absolute_error: 1815.5096\n",
      "Epoch 19/100\n",
      "37504/37510 [============================>.] - ETA: 0s - loss: 1121.0374 - mean_absolute_error: 1121.0376\n",
      "Epoch 00019: val_loss did not improve from 1812.72225\n",
      "37510/37510 [==============================] - 70s 2ms/sample - loss: 1121.4007 - mean_absolute_error: 1121.4008 - val_loss: 1823.6177 - val_mean_absolute_error: 1823.6177\n",
      "Epoch 20/100\n",
      "37504/37510 [============================>.] - ETA: 0s - loss: 1134.8659 - mean_absolute_error: 1134.8661\n",
      "Epoch 00020: val_loss did not improve from 1812.72225\n",
      "37510/37510 [==============================] - 70s 2ms/sample - loss: 1135.0827 - mean_absolute_error: 1135.0829 - val_loss: 1849.3624 - val_mean_absolute_error: 1849.3625\n",
      "Epoch 21/100\n",
      "37504/37510 [============================>.] - ETA: 0s - loss: 1086.9317 - mean_absolute_error: 1086.9316\n",
      "Epoch 00021: val_loss did not improve from 1812.72225\n",
      "37510/37510 [==============================] - 72s 2ms/sample - loss: 1087.3825 - mean_absolute_error: 1087.3823 - val_loss: 1820.3776 - val_mean_absolute_error: 1820.3777\n",
      "Epoch 22/100\n",
      "37504/37510 [============================>.] - ETA: 0s - loss: 1067.3446 - mean_absolute_error: 1067.3439\n",
      "Epoch 00022: val_loss did not improve from 1812.72225\n",
      "37510/37510 [==============================] - 71s 2ms/sample - loss: 1067.6880 - mean_absolute_error: 1067.6874 - val_loss: 1833.8854 - val_mean_absolute_error: 1833.8855\n",
      "Epoch 23/100\n"
     ]
    },
    {
     "name": "stdout",
     "output_type": "stream",
     "text": [
      "37504/37510 [============================>.] - ETA: 0s - loss: 1041.7340 - mean_absolute_error: 1041.7335\n",
      "Epoch 00023: val_loss improved from 1812.72225 to 1810.02216, saving model to NN2_Weights-023--1810.02216.hdf5\n",
      "37510/37510 [==============================] - 76s 2ms/sample - loss: 1041.6844 - mean_absolute_error: 1041.6841 - val_loss: 1810.0222 - val_mean_absolute_error: 1810.0223\n",
      "Epoch 24/100\n",
      "37504/37510 [============================>.] - ETA: 0s - loss: 1032.8754 - mean_absolute_error: 1032.8754\n",
      "Epoch 00024: val_loss did not improve from 1810.02216\n",
      "37510/37510 [==============================] - 71s 2ms/sample - loss: 1032.9775 - mean_absolute_error: 1032.9774 - val_loss: 1853.3946 - val_mean_absolute_error: 1853.3945\n",
      "Epoch 25/100\n",
      "37504/37510 [============================>.] - ETA: 0s - loss: 997.0445 - mean_absolute_error: 997.0445\n",
      "Epoch 00025: val_loss improved from 1810.02216 to 1805.76201, saving model to NN2_Weights-025--1805.76201.hdf5\n",
      "37510/37510 [==============================] - 75s 2ms/sample - loss: 997.1730 - mean_absolute_error: 997.1730 - val_loss: 1805.7620 - val_mean_absolute_error: 1805.7620\n",
      "Epoch 26/100\n",
      "37504/37510 [============================>.] - ETA: 0s - loss: 970.8327 - mean_absolute_error: 970.8328\n",
      "Epoch 00026: val_loss did not improve from 1805.76201\n",
      "37510/37510 [==============================] - 71s 2ms/sample - loss: 970.9677 - mean_absolute_error: 970.9678 - val_loss: 1860.8644 - val_mean_absolute_error: 1860.8646\n",
      "Epoch 27/100\n",
      "37504/37510 [============================>.] - ETA: 0s - loss: 963.1732 - mean_absolute_error: 963.1731\n",
      "Epoch 00027: val_loss did not improve from 1805.76201\n",
      "37510/37510 [==============================] - 70s 2ms/sample - loss: 963.3204 - mean_absolute_error: 963.3203 - val_loss: 1843.3085 - val_mean_absolute_error: 1843.3083\n",
      "Epoch 28/100\n",
      "37504/37510 [============================>.] - ETA: 0s - loss: 923.9756 - mean_absolute_error: 923.9757\n",
      "Epoch 00028: val_loss did not improve from 1805.76201\n",
      "37510/37510 [==============================] - 71s 2ms/sample - loss: 924.2501 - mean_absolute_error: 924.2503 - val_loss: 1846.0690 - val_mean_absolute_error: 1846.0691\n",
      "Epoch 29/100\n",
      "37504/37510 [============================>.] - ETA: 0s - loss: 904.7429 - mean_absolute_error: 904.7429\n",
      "Epoch 00029: val_loss did not improve from 1805.76201\n",
      "37510/37510 [==============================] - 71s 2ms/sample - loss: 904.8261 - mean_absolute_error: 904.8260 - val_loss: 1886.0982 - val_mean_absolute_error: 1886.0983\n",
      "Epoch 30/100\n",
      "37504/37510 [============================>.] - ETA: 0s - loss: 886.1555 - mean_absolute_error: 886.1555\n",
      "Epoch 00030: val_loss did not improve from 1805.76201\n",
      "37510/37510 [==============================] - 70s 2ms/sample - loss: 886.2445 - mean_absolute_error: 886.2444 - val_loss: 1810.8836 - val_mean_absolute_error: 1810.8840\n",
      "Epoch 31/100\n",
      "37504/37510 [============================>.] - ETA: 0s - loss: 866.0430 - mean_absolute_error: 866.0430\n",
      "Epoch 00031: val_loss improved from 1805.76201 to 1801.08387, saving model to NN2_Weights-031--1801.08387.hdf5\n",
      "37510/37510 [==============================] - 76s 2ms/sample - loss: 866.1059 - mean_absolute_error: 866.1058 - val_loss: 1801.0839 - val_mean_absolute_error: 1801.0840\n",
      "Epoch 32/100\n",
      "37504/37510 [============================>.] - ETA: 0s - loss: 852.3701 - mean_absolute_error: 852.3699\n",
      "Epoch 00032: val_loss did not improve from 1801.08387\n",
      "37510/37510 [==============================] - 71s 2ms/sample - loss: 852.4628 - mean_absolute_error: 852.4626 - val_loss: 1813.0351 - val_mean_absolute_error: 1813.0352\n",
      "Epoch 33/100\n",
      "37504/37510 [============================>.] - ETA: 0s - loss: 839.9293 - mean_absolute_error: 839.9293\n",
      "Epoch 00033: val_loss did not improve from 1801.08387\n",
      "37510/37510 [==============================] - 71s 2ms/sample - loss: 840.1527 - mean_absolute_error: 840.1527 - val_loss: 1851.3402 - val_mean_absolute_error: 1851.3402\n",
      "Epoch 34/100\n",
      "37504/37510 [============================>.] - ETA: 0s - loss: 805.9597 - mean_absolute_error: 805.9601\n",
      "Epoch 00034: val_loss did not improve from 1801.08387\n",
      "37510/37510 [==============================] - 71s 2ms/sample - loss: 806.4006 - mean_absolute_error: 806.4009 - val_loss: 1824.6621 - val_mean_absolute_error: 1824.6622\n",
      "Epoch 35/100\n",
      "37504/37510 [============================>.] - ETA: 0s - loss: 815.2468 - mean_absolute_error: 815.2466\n",
      "Epoch 00035: val_loss did not improve from 1801.08387\n",
      "37510/37510 [==============================] - 70s 2ms/sample - loss: 815.4957 - mean_absolute_error: 815.4955 - val_loss: 1820.1881 - val_mean_absolute_error: 1820.1881\n",
      "Epoch 36/100\n",
      "37504/37510 [============================>.] - ETA: 0s - loss: 821.8193 - mean_absolute_error: 821.8195\n",
      "Epoch 00036: val_loss did not improve from 1801.08387\n",
      "37510/37510 [==============================] - 71s 2ms/sample - loss: 821.8122 - mean_absolute_error: 821.8124 - val_loss: 1820.2081 - val_mean_absolute_error: 1820.2075\n",
      "Epoch 37/100\n",
      "37504/37510 [============================>.] - ETA: 0s - loss: 784.4745 - mean_absolute_error: 784.4744\n",
      "Epoch 00037: val_loss did not improve from 1801.08387\n",
      "37510/37510 [==============================] - 71s 2ms/sample - loss: 784.7965 - mean_absolute_error: 784.7964 - val_loss: 1832.9818 - val_mean_absolute_error: 1832.9817\n",
      "Epoch 38/100\n",
      "37504/37510 [============================>.] - ETA: 0s - loss: 769.7305 - mean_absolute_error: 769.7308\n",
      "Epoch 00038: val_loss did not improve from 1801.08387\n",
      "37510/37510 [==============================] - 71s 2ms/sample - loss: 770.0465 - mean_absolute_error: 770.0467 - val_loss: 1850.3188 - val_mean_absolute_error: 1850.3188\n",
      "Epoch 39/100\n",
      "37504/37510 [============================>.] - ETA: 0s - loss: 767.6096 - mean_absolute_error: 767.6096\n",
      "Epoch 00039: val_loss did not improve from 1801.08387\n",
      "37510/37510 [==============================] - 71s 2ms/sample - loss: 768.2445 - mean_absolute_error: 768.2445 - val_loss: 1859.1630 - val_mean_absolute_error: 1859.1632\n",
      "Epoch 40/100\n",
      "37504/37510 [============================>.] - ETA: 0s - loss: 753.4013 - mean_absolute_error: 753.4012\n",
      "Epoch 00040: val_loss did not improve from 1801.08387\n",
      "37510/37510 [==============================] - 71s 2ms/sample - loss: 753.7910 - mean_absolute_error: 753.7910 - val_loss: 1804.1180 - val_mean_absolute_error: 1804.1177\n",
      "Epoch 41/100\n",
      "37504/37510 [============================>.] - ETA: 0s - loss: 745.7649 - mean_absolute_error: 745.7646\n",
      "Epoch 00041: val_loss did not improve from 1801.08387\n",
      "37510/37510 [==============================] - 70s 2ms/sample - loss: 745.9296 - mean_absolute_error: 745.9293 - val_loss: 1824.2826 - val_mean_absolute_error: 1824.2830\n",
      "Epoch 42/100\n",
      "37504/37510 [============================>.] - ETA: 0s - loss: 735.2141 - mean_absolute_error: 735.2142\n",
      "Epoch 00042: val_loss did not improve from 1801.08387\n",
      "37510/37510 [==============================] - 71s 2ms/sample - loss: 735.3114 - mean_absolute_error: 735.3115 - val_loss: 1821.1375 - val_mean_absolute_error: 1821.1376\n",
      "Epoch 43/100\n",
      "37504/37510 [============================>.] - ETA: 0s - loss: 741.9489 - mean_absolute_error: 741.9486\n",
      "Epoch 00043: val_loss did not improve from 1801.08387\n",
      "37510/37510 [==============================] - 74s 2ms/sample - loss: 742.2442 - mean_absolute_error: 742.2440 - val_loss: 1846.4382 - val_mean_absolute_error: 1846.4382\n",
      "Epoch 44/100\n",
      "37504/37510 [============================>.] - ETA: 0s - loss: 723.3980 - mean_absolute_error: 723.3979\n",
      "Epoch 00044: val_loss did not improve from 1801.08387\n",
      "37510/37510 [==============================] - 75s 2ms/sample - loss: 724.1568 - mean_absolute_error: 724.1567 - val_loss: 1844.0009 - val_mean_absolute_error: 1844.0011\n",
      "Epoch 45/100\n",
      "37504/37510 [============================>.] - ETA: 0s - loss: 719.8425 - mean_absolute_error: 719.8427\n",
      "Epoch 00045: val_loss did not improve from 1801.08387\n",
      "37510/37510 [==============================] - 82s 2ms/sample - loss: 720.1018 - mean_absolute_error: 720.1020 - val_loss: 1872.6663 - val_mean_absolute_error: 1872.6665\n",
      "Epoch 46/100\n",
      "37504/37510 [============================>.] - ETA: 0s - loss: 710.2548 - mean_absolute_error: 710.2546\n",
      "Epoch 00046: val_loss did not improve from 1801.08387\n",
      "37510/37510 [==============================] - 98s 3ms/sample - loss: 711.1290 - mean_absolute_error: 711.1287 - val_loss: 1853.1606 - val_mean_absolute_error: 1853.1608\n"
     ]
    },
    {
     "name": "stdout",
     "output_type": "stream",
     "text": [
      "Epoch 47/100\n",
      "37504/37510 [============================>.] - ETA: 0s - loss: 697.2471 - mean_absolute_error: 697.2472\n",
      "Epoch 00047: val_loss did not improve from 1801.08387\n",
      "37510/37510 [==============================] - 76s 2ms/sample - loss: 697.8335 - mean_absolute_error: 697.8336 - val_loss: 1885.1812 - val_mean_absolute_error: 1885.1813\n",
      "Epoch 48/100\n",
      "37504/37510 [============================>.] - ETA: 0s - loss: 689.1867 - mean_absolute_error: 689.1867\n",
      "Epoch 00048: val_loss did not improve from 1801.08387\n",
      "37510/37510 [==============================] - 86s 2ms/sample - loss: 689.7184 - mean_absolute_error: 689.7184 - val_loss: 1817.9817 - val_mean_absolute_error: 1817.9817\n",
      "Epoch 49/100\n",
      "37504/37510 [============================>.] - ETA: 0s - loss: 694.7743 - mean_absolute_error: 694.7743\n",
      "Epoch 00049: val_loss did not improve from 1801.08387\n",
      "37510/37510 [==============================] - 71s 2ms/sample - loss: 695.5213 - mean_absolute_error: 695.5212 - val_loss: 1829.0633 - val_mean_absolute_error: 1829.0634\n",
      "Epoch 50/100\n",
      "37504/37510 [============================>.] - ETA: 0s - loss: 667.1304 - mean_absolute_error: 667.1308\n",
      "Epoch 00050: val_loss did not improve from 1801.08387\n",
      "37510/37510 [==============================] - 74s 2ms/sample - loss: 667.6461 - mean_absolute_error: 667.6465 - val_loss: 1823.0445 - val_mean_absolute_error: 1823.0446\n",
      "Epoch 51/100\n",
      "37504/37510 [============================>.] - ETA: 0s - loss: 672.2580 - mean_absolute_error: 672.2581\n",
      "Epoch 00051: val_loss did not improve from 1801.08387\n",
      "37510/37510 [==============================] - 79s 2ms/sample - loss: 673.0258 - mean_absolute_error: 673.0259 - val_loss: 1821.8985 - val_mean_absolute_error: 1821.8987\n",
      "Epoch 52/100\n",
      "37504/37510 [============================>.] - ETA: 0s - loss: 656.8608 - mean_absolute_error: 656.8609\n",
      "Epoch 00052: val_loss did not improve from 1801.08387\n",
      "37510/37510 [==============================] - 89s 2ms/sample - loss: 656.9956 - mean_absolute_error: 656.9956 - val_loss: 1843.5343 - val_mean_absolute_error: 1843.5341\n",
      "Epoch 53/100\n",
      "37504/37510 [============================>.] - ETA: 0s - loss: 638.3916 - mean_absolute_error: 638.3914\n",
      "Epoch 00053: val_loss did not improve from 1801.08387\n",
      "37510/37510 [==============================] - 77s 2ms/sample - loss: 638.6093 - mean_absolute_error: 638.6091 - val_loss: 1848.3288 - val_mean_absolute_error: 1848.3284\n",
      "Epoch 54/100\n",
      "37504/37510 [============================>.] - ETA: 0s - loss: 660.0181 - mean_absolute_error: 660.0180\n",
      "Epoch 00054: val_loss did not improve from 1801.08387\n",
      "37510/37510 [==============================] - 75s 2ms/sample - loss: 660.6663 - mean_absolute_error: 660.6662 - val_loss: 1847.5961 - val_mean_absolute_error: 1847.5961\n",
      "Epoch 55/100\n",
      "37504/37510 [============================>.] - ETA: 0s - loss: 641.5033 - mean_absolute_error: 641.5030\n",
      "Epoch 00055: val_loss did not improve from 1801.08387\n",
      "37510/37510 [==============================] - 78s 2ms/sample - loss: 641.5995 - mean_absolute_error: 641.5991 - val_loss: 1841.3311 - val_mean_absolute_error: 1841.3308\n",
      "Epoch 56/100\n",
      "37504/37510 [============================>.] - ETA: 0s - loss: 638.0366 - mean_absolute_error: 638.0363\n",
      "Epoch 00056: val_loss did not improve from 1801.08387\n",
      "37510/37510 [==============================] - 106s 3ms/sample - loss: 638.1981 - mean_absolute_error: 638.1979 - val_loss: 1827.7910 - val_mean_absolute_error: 1827.7908\n",
      "Epoch 57/100\n",
      "37504/37510 [============================>.] - ETA: 0s - loss: 625.5197 - mean_absolute_error: 625.5198\n",
      "Epoch 00057: val_loss did not improve from 1801.08387\n",
      "37510/37510 [==============================] - 129s 3ms/sample - loss: 626.5440 - mean_absolute_error: 626.5441 - val_loss: 1840.9298 - val_mean_absolute_error: 1840.9296\n",
      "Epoch 58/100\n",
      "37504/37510 [============================>.] - ETA: 0s - loss: 621.1586 - mean_absolute_error: 621.1591\n",
      "Epoch 00058: val_loss did not improve from 1801.08387\n",
      "37510/37510 [==============================] - 74s 2ms/sample - loss: 621.7340 - mean_absolute_error: 621.7345 - val_loss: 1837.1708 - val_mean_absolute_error: 1837.1707\n",
      "Epoch 59/100\n",
      "37504/37510 [============================>.] - ETA: 0s - loss: 630.3061 - mean_absolute_error: 630.3064\n",
      "Epoch 00059: val_loss did not improve from 1801.08387\n",
      "37510/37510 [==============================] - 84s 2ms/sample - loss: 630.7192 - mean_absolute_error: 630.7195 - val_loss: 1838.9284 - val_mean_absolute_error: 1838.9286\n",
      "Epoch 60/100\n",
      "37504/37510 [============================>.] - ETA: 0s - loss: 629.4163 - mean_absolute_error: 629.4162\n",
      "Epoch 00060: val_loss did not improve from 1801.08387\n",
      "37510/37510 [==============================] - 76s 2ms/sample - loss: 629.8304 - mean_absolute_error: 629.8303 - val_loss: 1856.3068 - val_mean_absolute_error: 1856.3071\n",
      "Epoch 61/100\n",
      "37504/37510 [============================>.] - ETA: 0s - loss: 620.1206 - mean_absolute_error: 620.1205\n",
      "Epoch 00061: val_loss did not improve from 1801.08387\n",
      "37510/37510 [==============================] - 71s 2ms/sample - loss: 620.2862 - mean_absolute_error: 620.2862 - val_loss: 1873.8289 - val_mean_absolute_error: 1873.8287\n",
      "Epoch 62/100\n",
      "37504/37510 [============================>.] - ETA: 0s - loss: 619.5474 - mean_absolute_error: 619.5475\n",
      "Epoch 00062: val_loss did not improve from 1801.08387\n",
      "37510/37510 [==============================] - 70s 2ms/sample - loss: 619.8529 - mean_absolute_error: 619.8530 - val_loss: 1856.8078 - val_mean_absolute_error: 1856.8076\n",
      "Epoch 63/100\n",
      "37504/37510 [============================>.] - ETA: 0s - loss: 612.2609 - mean_absolute_error: 612.2607\n",
      "Epoch 00063: val_loss did not improve from 1801.08387\n",
      "37510/37510 [==============================] - 70s 2ms/sample - loss: 612.7405 - mean_absolute_error: 612.7404 - val_loss: 1854.1410 - val_mean_absolute_error: 1854.1414\n",
      "Epoch 64/100\n",
      "37504/37510 [============================>.] - ETA: 0s - loss: 588.5050 - mean_absolute_error: 588.5049\n",
      "Epoch 00064: val_loss did not improve from 1801.08387\n",
      "37510/37510 [==============================] - 70s 2ms/sample - loss: 589.5918 - mean_absolute_error: 589.5916 - val_loss: 1847.9424 - val_mean_absolute_error: 1847.9420\n",
      "Epoch 65/100\n",
      "37504/37510 [============================>.] - ETA: 0s - loss: 584.1916 - mean_absolute_error: 584.1915\n",
      "Epoch 00065: val_loss did not improve from 1801.08387\n",
      "37510/37510 [==============================] - 70s 2ms/sample - loss: 584.4525 - mean_absolute_error: 584.4525 - val_loss: 1855.5522 - val_mean_absolute_error: 1855.5527\n",
      "Epoch 66/100\n",
      "37504/37510 [============================>.] - ETA: 0s - loss: 572.8662 - mean_absolute_error: 572.8661\n",
      "Epoch 00066: val_loss did not improve from 1801.08387\n",
      "37510/37510 [==============================] - 70s 2ms/sample - loss: 573.2979 - mean_absolute_error: 573.2978 - val_loss: 1837.9414 - val_mean_absolute_error: 1837.9414\n",
      "Epoch 67/100\n",
      "37504/37510 [============================>.] - ETA: 0s - loss: 596.7619 - mean_absolute_error: 596.7623\n",
      "Epoch 00067: val_loss did not improve from 1801.08387\n",
      "37510/37510 [==============================] - 70s 2ms/sample - loss: 597.1114 - mean_absolute_error: 597.1118 - val_loss: 1840.3830 - val_mean_absolute_error: 1840.3831\n",
      "Epoch 68/100\n",
      "37504/37510 [============================>.] - ETA: 0s - loss: 573.1731 - mean_absolute_error: 573.1729\n",
      "Epoch 00068: val_loss did not improve from 1801.08387\n",
      "37510/37510 [==============================] - 70s 2ms/sample - loss: 573.6115 - mean_absolute_error: 573.6114 - val_loss: 1857.3126 - val_mean_absolute_error: 1857.3124\n",
      "Epoch 69/100\n",
      "37504/37510 [============================>.] - ETA: 0s - loss: 570.8461 - mean_absolute_error: 570.8459\n",
      "Epoch 00069: val_loss did not improve from 1801.08387\n",
      "37510/37510 [==============================] - 72s 2ms/sample - loss: 571.8240 - mean_absolute_error: 571.8239 - val_loss: 1843.2116 - val_mean_absolute_error: 1843.2115\n",
      "Epoch 70/100\n",
      "37504/37510 [============================>.] - ETA: 0s - loss: 574.3592 - mean_absolute_error: 574.3589\n",
      "Epoch 00070: val_loss did not improve from 1801.08387\n",
      "37510/37510 [==============================] - 76s 2ms/sample - loss: 574.5006 - mean_absolute_error: 574.5003 - val_loss: 1827.6737 - val_mean_absolute_error: 1827.6735\n",
      "Epoch 71/100\n"
     ]
    },
    {
     "name": "stdout",
     "output_type": "stream",
     "text": [
      "37504/37510 [============================>.] - ETA: 0s - loss: 551.5898 - mean_absolute_error: 551.5898\n",
      "Epoch 00071: val_loss did not improve from 1801.08387\n",
      "37510/37510 [==============================] - 70s 2ms/sample - loss: 552.0482 - mean_absolute_error: 552.0482 - val_loss: 1842.6370 - val_mean_absolute_error: 1842.6372\n",
      "Epoch 72/100\n",
      "37504/37510 [============================>.] - ETA: 0s - loss: 563.7759 - mean_absolute_error: 563.7761\n",
      "Epoch 00072: val_loss did not improve from 1801.08387\n",
      "37510/37510 [==============================] - 70s 2ms/sample - loss: 564.5251 - mean_absolute_error: 564.5254 - val_loss: 1846.1016 - val_mean_absolute_error: 1846.1016\n",
      "Epoch 73/100\n",
      "37504/37510 [============================>.] - ETA: 0s - loss: 551.5939 - mean_absolute_error: 551.5941\n",
      "Epoch 00073: val_loss did not improve from 1801.08387\n",
      "37510/37510 [==============================] - 70s 2ms/sample - loss: 552.5615 - mean_absolute_error: 552.5616 - val_loss: 1860.5096 - val_mean_absolute_error: 1860.5095\n",
      "Epoch 74/100\n",
      "37504/37510 [============================>.] - ETA: 0s - loss: 537.1897 - mean_absolute_error: 537.1896\n",
      "Epoch 00074: val_loss did not improve from 1801.08387\n",
      "37510/37510 [==============================] - 70s 2ms/sample - loss: 537.3292 - mean_absolute_error: 537.3291 - val_loss: 1844.1594 - val_mean_absolute_error: 1844.1595\n",
      "Epoch 75/100\n",
      "37504/37510 [============================>.] - ETA: 0s - loss: 561.4844 - mean_absolute_error: 561.4842\n",
      "Epoch 00075: val_loss did not improve from 1801.08387\n",
      "37510/37510 [==============================] - 73s 2ms/sample - loss: 562.5179 - mean_absolute_error: 562.5177 - val_loss: 1861.0494 - val_mean_absolute_error: 1861.0493\n",
      "Epoch 76/100\n",
      "37504/37510 [============================>.] - ETA: 0s - loss: 562.4153 - mean_absolute_error: 562.4157\n",
      "Epoch 00076: val_loss did not improve from 1801.08387\n",
      "37510/37510 [==============================] - 83s 2ms/sample - loss: 562.4884 - mean_absolute_error: 562.4887 - val_loss: 1846.9541 - val_mean_absolute_error: 1846.9540\n",
      "Epoch 77/100\n",
      "37504/37510 [============================>.] - ETA: 0s - loss: 537.9020 - mean_absolute_error: 537.9020\n",
      "Epoch 00077: val_loss did not improve from 1801.08387\n",
      "37510/37510 [==============================] - 70s 2ms/sample - loss: 537.9768 - mean_absolute_error: 537.9769 - val_loss: 1840.1594 - val_mean_absolute_error: 1840.1591\n",
      "Epoch 78/100\n",
      "37504/37510 [============================>.] - ETA: 0s - loss: 548.3978 - mean_absolute_error: 548.3976\n",
      "Epoch 00078: val_loss did not improve from 1801.08387\n",
      "37510/37510 [==============================] - 70s 2ms/sample - loss: 549.0086 - mean_absolute_error: 549.0084 - val_loss: 1852.7379 - val_mean_absolute_error: 1852.7379\n",
      "Epoch 79/100\n",
      "37504/37510 [============================>.] - ETA: 0s - loss: 543.8031 - mean_absolute_error: 543.8031\n",
      "Epoch 00079: val_loss did not improve from 1801.08387\n",
      "37510/37510 [==============================] - 69s 2ms/sample - loss: 543.9315 - mean_absolute_error: 543.9315 - val_loss: 1833.4312 - val_mean_absolute_error: 1833.4313\n",
      "Epoch 80/100\n",
      "37504/37510 [============================>.] - ETA: 0s - loss: 542.1865 - mean_absolute_error: 542.1864\n",
      "Epoch 00080: val_loss did not improve from 1801.08387\n",
      "37510/37510 [==============================] - 71s 2ms/sample - loss: 543.2622 - mean_absolute_error: 543.2621 - val_loss: 1862.3379 - val_mean_absolute_error: 1862.3380\n",
      "Epoch 81/100\n",
      "37504/37510 [============================>.] - ETA: 0s - loss: 532.9666 - mean_absolute_error: 532.9666\n",
      "Epoch 00081: val_loss did not improve from 1801.08387\n",
      "37510/37510 [==============================] - 80s 2ms/sample - loss: 533.6888 - mean_absolute_error: 533.6887 - val_loss: 1862.2313 - val_mean_absolute_error: 1862.2310\n",
      "Epoch 82/100\n",
      "37504/37510 [============================>.] - ETA: 0s - loss: 518.8008 - mean_absolute_error: 518.8009\n",
      "Epoch 00082: val_loss did not improve from 1801.08387\n",
      "37510/37510 [==============================] - 84s 2ms/sample - loss: 519.0602 - mean_absolute_error: 519.0603 - val_loss: 1853.0064 - val_mean_absolute_error: 1853.0063\n",
      "Epoch 83/100\n",
      "30976/37510 [=======================>......] - ETA: 11s - loss: 538.1936 - mean_absolute_error: 538.1937"
     ]
    },
    {
     "ename": "MemoryError",
     "evalue": "Unable to allocate 14.0 MiB for an array with shape (128, 14313) and data type float64",
     "output_type": "error",
     "traceback": [
      "\u001b[1;31m---------------------------------------------------------------------------\u001b[0m",
      "\u001b[1;31mMemoryError\u001b[0m                               Traceback (most recent call last)",
      "\u001b[1;32m<ipython-input-15-5981c096f57f>\u001b[0m in \u001b[0;36m<module>\u001b[1;34m()\u001b[0m\n\u001b[1;32m----> 1\u001b[1;33m \u001b[0mNN_model\u001b[0m\u001b[1;33m.\u001b[0m\u001b[0mfit\u001b[0m\u001b[1;33m(\u001b[0m\u001b[0mdf_X_train\u001b[0m\u001b[1;33m,\u001b[0m \u001b[0mdf_y_train\u001b[0m\u001b[1;33m,\u001b[0m \u001b[0mepochs\u001b[0m\u001b[1;33m=\u001b[0m\u001b[1;36m100\u001b[0m\u001b[1;33m,\u001b[0m \u001b[0mbatch_size\u001b[0m\u001b[1;33m=\u001b[0m\u001b[1;36m128\u001b[0m\u001b[1;33m,\u001b[0m \u001b[0mvalidation_split\u001b[0m \u001b[1;33m=\u001b[0m \u001b[1;36m0.2\u001b[0m\u001b[1;33m,\u001b[0m \u001b[0mcallbacks\u001b[0m\u001b[1;33m=\u001b[0m\u001b[0mcallbacks_list\u001b[0m\u001b[1;33m)\u001b[0m\u001b[1;33m\u001b[0m\u001b[1;33m\u001b[0m\u001b[0m\n\u001b[0m\u001b[0;32m      2\u001b[0m \u001b[1;33m\u001b[0m\u001b[0m\n\u001b[0;32m      3\u001b[0m \u001b[1;31m# save model to file\u001b[0m\u001b[1;33m\u001b[0m\u001b[1;33m\u001b[0m\u001b[1;33m\u001b[0m\u001b[0m\n\u001b[0;32m      4\u001b[0m \u001b[0mNN_model\u001b[0m\u001b[1;33m.\u001b[0m\u001b[0msave\u001b[0m\u001b[1;33m(\u001b[0m\u001b[0mfile_dir\u001b[0m \u001b[1;33m+\u001b[0m \u001b[1;34m\"uc3_NN2_model.h5\"\u001b[0m\u001b[1;33m)\u001b[0m\u001b[1;33m\u001b[0m\u001b[1;33m\u001b[0m\u001b[0m\n",
      "\u001b[1;32mC:\\Users\\mokky\\AppData\\Roaming\\Python\\Python37\\site-packages\\tensorflow\\python\\keras\\engine\\training.py\u001b[0m in \u001b[0;36mfit\u001b[1;34m(self, x, y, batch_size, epochs, verbose, callbacks, validation_split, validation_data, shuffle, class_weight, sample_weight, initial_epoch, steps_per_epoch, validation_steps, validation_freq, max_queue_size, workers, use_multiprocessing, **kwargs)\u001b[0m\n\u001b[0;32m    778\u001b[0m           \u001b[0mvalidation_steps\u001b[0m\u001b[1;33m=\u001b[0m\u001b[0mvalidation_steps\u001b[0m\u001b[1;33m,\u001b[0m\u001b[1;33m\u001b[0m\u001b[1;33m\u001b[0m\u001b[0m\n\u001b[0;32m    779\u001b[0m           \u001b[0mvalidation_freq\u001b[0m\u001b[1;33m=\u001b[0m\u001b[0mvalidation_freq\u001b[0m\u001b[1;33m,\u001b[0m\u001b[1;33m\u001b[0m\u001b[1;33m\u001b[0m\u001b[0m\n\u001b[1;32m--> 780\u001b[1;33m           steps_name='steps_per_epoch')\n\u001b[0m\u001b[0;32m    781\u001b[0m \u001b[1;33m\u001b[0m\u001b[0m\n\u001b[0;32m    782\u001b[0m   def evaluate(self,\n",
      "\u001b[1;32mC:\\Users\\mokky\\AppData\\Roaming\\Python\\Python37\\site-packages\\tensorflow\\python\\keras\\engine\\training_arrays.py\u001b[0m in \u001b[0;36mmodel_iteration\u001b[1;34m(model, inputs, targets, sample_weights, batch_size, epochs, verbose, callbacks, val_inputs, val_targets, val_sample_weights, shuffle, initial_epoch, steps_per_epoch, validation_steps, validation_freq, mode, validation_in_fit, prepared_feed_values_from_dataset, steps_name, **kwargs)\u001b[0m\n\u001b[0;32m    342\u001b[0m           \u001b[1;32mif\u001b[0m \u001b[0mins\u001b[0m \u001b[1;32mand\u001b[0m \u001b[0misinstance\u001b[0m\u001b[1;33m(\u001b[0m\u001b[0mins\u001b[0m\u001b[1;33m[\u001b[0m\u001b[1;33m-\u001b[0m\u001b[1;36m1\u001b[0m\u001b[1;33m]\u001b[0m\u001b[1;33m,\u001b[0m \u001b[0mint\u001b[0m\u001b[1;33m)\u001b[0m\u001b[1;33m:\u001b[0m\u001b[1;33m\u001b[0m\u001b[1;33m\u001b[0m\u001b[0m\n\u001b[0;32m    343\u001b[0m             \u001b[1;31m# Do not slice the training phase flag.\u001b[0m\u001b[1;33m\u001b[0m\u001b[1;33m\u001b[0m\u001b[1;33m\u001b[0m\u001b[0m\n\u001b[1;32m--> 344\u001b[1;33m             \u001b[0mins_batch\u001b[0m \u001b[1;33m=\u001b[0m \u001b[0mslice_arrays\u001b[0m\u001b[1;33m(\u001b[0m\u001b[0mins\u001b[0m\u001b[1;33m[\u001b[0m\u001b[1;33m:\u001b[0m\u001b[1;33m-\u001b[0m\u001b[1;36m1\u001b[0m\u001b[1;33m]\u001b[0m\u001b[1;33m,\u001b[0m \u001b[0mbatch_ids\u001b[0m\u001b[1;33m)\u001b[0m \u001b[1;33m+\u001b[0m \u001b[1;33m[\u001b[0m\u001b[0mins\u001b[0m\u001b[1;33m[\u001b[0m\u001b[1;33m-\u001b[0m\u001b[1;36m1\u001b[0m\u001b[1;33m]\u001b[0m\u001b[1;33m]\u001b[0m\u001b[1;33m\u001b[0m\u001b[1;33m\u001b[0m\u001b[0m\n\u001b[0m\u001b[0;32m    345\u001b[0m           \u001b[1;32melse\u001b[0m\u001b[1;33m:\u001b[0m\u001b[1;33m\u001b[0m\u001b[1;33m\u001b[0m\u001b[0m\n\u001b[0;32m    346\u001b[0m             \u001b[0mins_batch\u001b[0m \u001b[1;33m=\u001b[0m \u001b[0mslice_arrays\u001b[0m\u001b[1;33m(\u001b[0m\u001b[0mins\u001b[0m\u001b[1;33m,\u001b[0m \u001b[0mbatch_ids\u001b[0m\u001b[1;33m)\u001b[0m\u001b[1;33m\u001b[0m\u001b[1;33m\u001b[0m\u001b[0m\n",
      "\u001b[1;32mC:\\Users\\mokky\\AppData\\Roaming\\Python\\Python37\\site-packages\\tensorflow\\python\\keras\\utils\\generic_utils.py\u001b[0m in \u001b[0;36mslice_arrays\u001b[1;34m(arrays, start, stop)\u001b[0m\n\u001b[0;32m    529\u001b[0m       \u001b[1;32mif\u001b[0m \u001b[0mhasattr\u001b[0m\u001b[1;33m(\u001b[0m\u001b[0mstart\u001b[0m\u001b[1;33m,\u001b[0m \u001b[1;34m'shape'\u001b[0m\u001b[1;33m)\u001b[0m\u001b[1;33m:\u001b[0m\u001b[1;33m\u001b[0m\u001b[1;33m\u001b[0m\u001b[0m\n\u001b[0;32m    530\u001b[0m         \u001b[0mstart\u001b[0m \u001b[1;33m=\u001b[0m \u001b[0mstart\u001b[0m\u001b[1;33m.\u001b[0m\u001b[0mtolist\u001b[0m\u001b[1;33m(\u001b[0m\u001b[1;33m)\u001b[0m\u001b[1;33m\u001b[0m\u001b[1;33m\u001b[0m\u001b[0m\n\u001b[1;32m--> 531\u001b[1;33m       \u001b[1;32mreturn\u001b[0m \u001b[1;33m[\u001b[0m\u001b[1;32mNone\u001b[0m \u001b[1;32mif\u001b[0m \u001b[0mx\u001b[0m \u001b[1;32mis\u001b[0m \u001b[1;32mNone\u001b[0m \u001b[1;32melse\u001b[0m \u001b[0mx\u001b[0m\u001b[1;33m[\u001b[0m\u001b[0mstart\u001b[0m\u001b[1;33m]\u001b[0m \u001b[1;32mfor\u001b[0m \u001b[0mx\u001b[0m \u001b[1;32min\u001b[0m \u001b[0marrays\u001b[0m\u001b[1;33m]\u001b[0m\u001b[1;33m\u001b[0m\u001b[1;33m\u001b[0m\u001b[0m\n\u001b[0m\u001b[0;32m    532\u001b[0m     \u001b[1;32melse\u001b[0m\u001b[1;33m:\u001b[0m\u001b[1;33m\u001b[0m\u001b[1;33m\u001b[0m\u001b[0m\n\u001b[0;32m    533\u001b[0m       \u001b[1;32mreturn\u001b[0m \u001b[1;33m[\u001b[0m\u001b[1;32mNone\u001b[0m \u001b[1;32mif\u001b[0m \u001b[0mx\u001b[0m \u001b[1;32mis\u001b[0m \u001b[1;32mNone\u001b[0m \u001b[1;32melse\u001b[0m \u001b[0mx\u001b[0m\u001b[1;33m[\u001b[0m\u001b[0mstart\u001b[0m\u001b[1;33m:\u001b[0m\u001b[0mstop\u001b[0m\u001b[1;33m]\u001b[0m \u001b[1;32mfor\u001b[0m \u001b[0mx\u001b[0m \u001b[1;32min\u001b[0m \u001b[0marrays\u001b[0m\u001b[1;33m]\u001b[0m\u001b[1;33m\u001b[0m\u001b[1;33m\u001b[0m\u001b[0m\n",
      "\u001b[1;32mC:\\Users\\mokky\\AppData\\Roaming\\Python\\Python37\\site-packages\\tensorflow\\python\\keras\\utils\\generic_utils.py\u001b[0m in \u001b[0;36m<listcomp>\u001b[1;34m(.0)\u001b[0m\n\u001b[0;32m    529\u001b[0m       \u001b[1;32mif\u001b[0m \u001b[0mhasattr\u001b[0m\u001b[1;33m(\u001b[0m\u001b[0mstart\u001b[0m\u001b[1;33m,\u001b[0m \u001b[1;34m'shape'\u001b[0m\u001b[1;33m)\u001b[0m\u001b[1;33m:\u001b[0m\u001b[1;33m\u001b[0m\u001b[1;33m\u001b[0m\u001b[0m\n\u001b[0;32m    530\u001b[0m         \u001b[0mstart\u001b[0m \u001b[1;33m=\u001b[0m \u001b[0mstart\u001b[0m\u001b[1;33m.\u001b[0m\u001b[0mtolist\u001b[0m\u001b[1;33m(\u001b[0m\u001b[1;33m)\u001b[0m\u001b[1;33m\u001b[0m\u001b[1;33m\u001b[0m\u001b[0m\n\u001b[1;32m--> 531\u001b[1;33m       \u001b[1;32mreturn\u001b[0m \u001b[1;33m[\u001b[0m\u001b[1;32mNone\u001b[0m \u001b[1;32mif\u001b[0m \u001b[0mx\u001b[0m \u001b[1;32mis\u001b[0m \u001b[1;32mNone\u001b[0m \u001b[1;32melse\u001b[0m \u001b[0mx\u001b[0m\u001b[1;33m[\u001b[0m\u001b[0mstart\u001b[0m\u001b[1;33m]\u001b[0m \u001b[1;32mfor\u001b[0m \u001b[0mx\u001b[0m \u001b[1;32min\u001b[0m \u001b[0marrays\u001b[0m\u001b[1;33m]\u001b[0m\u001b[1;33m\u001b[0m\u001b[1;33m\u001b[0m\u001b[0m\n\u001b[0m\u001b[0;32m    532\u001b[0m     \u001b[1;32melse\u001b[0m\u001b[1;33m:\u001b[0m\u001b[1;33m\u001b[0m\u001b[1;33m\u001b[0m\u001b[0m\n\u001b[0;32m    533\u001b[0m       \u001b[1;32mreturn\u001b[0m \u001b[1;33m[\u001b[0m\u001b[1;32mNone\u001b[0m \u001b[1;32mif\u001b[0m \u001b[0mx\u001b[0m \u001b[1;32mis\u001b[0m \u001b[1;32mNone\u001b[0m \u001b[1;32melse\u001b[0m \u001b[0mx\u001b[0m\u001b[1;33m[\u001b[0m\u001b[0mstart\u001b[0m\u001b[1;33m:\u001b[0m\u001b[0mstop\u001b[0m\u001b[1;33m]\u001b[0m \u001b[1;32mfor\u001b[0m \u001b[0mx\u001b[0m \u001b[1;32min\u001b[0m \u001b[0marrays\u001b[0m\u001b[1;33m]\u001b[0m\u001b[1;33m\u001b[0m\u001b[1;33m\u001b[0m\u001b[0m\n",
      "\u001b[1;31mMemoryError\u001b[0m: Unable to allocate 14.0 MiB for an array with shape (128, 14313) and data type float64"
     ]
    }
   ],
   "source": [
    "NN_model.fit(df_X_train, df_y_train, epochs=100, batch_size=128, validation_split = 0.2, callbacks=callbacks_list)\n",
    "\n",
    "# save model to file\n",
    "NN_model.save(file_dir + \"uc3_NN2_model.h5\")"
   ]
  },
  {
   "cell_type": "code",
   "execution_count": null,
   "metadata": {},
   "outputs": [],
   "source": [
    "predictions = NN_model.predict(df_X_test)"
   ]
  },
  {
   "cell_type": "code",
   "execution_count": null,
   "metadata": {},
   "outputs": [],
   "source": [
    "sns.regplot(x=df_y_test, y=predictions)"
   ]
  },
  {
   "cell_type": "code",
   "execution_count": null,
   "metadata": {},
   "outputs": [],
   "source": [
    "# MSE\n",
    "print('Mean squared error: %.2f'\n",
    "      % mean_squared_error(df_y_test,predictions, squared=True))\n",
    "\n",
    "# RMSE\n",
    "print('Root Mean squared error: %.2f'\n",
    "      % mean_squared_error(df_y_test,predictions, squared=False))\n",
    "\n",
    "# MAE\n",
    "print('Mean absolute error: %.2f'\n",
    "      % mean_absolute_error(df_y_test,predictions))"
   ]
  },
  {
   "cell_type": "code",
   "execution_count": null,
   "metadata": {},
   "outputs": [],
   "source": [
    "forecast_accuracy(predictions.reshape((-1,)), df_y_test)"
   ]
  },
  {
   "cell_type": "code",
   "execution_count": null,
   "metadata": {},
   "outputs": [],
   "source": []
  }
 ],
 "metadata": {
  "kernelspec": {
   "display_name": "Python 3",
   "language": "python",
   "name": "python3"
  },
  "language_info": {
   "codemirror_mode": {
    "name": "ipython",
    "version": 3
   },
   "file_extension": ".py",
   "mimetype": "text/x-python",
   "name": "python",
   "nbconvert_exporter": "python",
   "pygments_lexer": "ipython3",
   "version": "3.7.8"
  }
 },
 "nbformat": 4,
 "nbformat_minor": 4
}
