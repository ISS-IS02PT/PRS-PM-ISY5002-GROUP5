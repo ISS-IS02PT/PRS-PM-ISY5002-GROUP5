{
 "cells": [
  {
   "cell_type": "markdown",
   "metadata": {},
   "source": [
    "Imports"
   ]
  },
  {
   "cell_type": "code",
   "execution_count": 7,
   "metadata": {},
   "outputs": [],
   "source": [
    "import pandas as pd\n",
    "import numpy as np\n",
    "import seaborn as sns\n",
    "import matplotlib.pyplot as plt\n",
    "from xgboost import XGBRegressor\n",
    "from tensorflow.keras.callbacks import ModelCheckpoint, EarlyStopping\n",
    "from tensorflow.keras.models import Sequential, load_model\n",
    "from tensorflow.keras.layers import Dense, Activation, Dropout, BatchNormalization\n",
    "from sklearn.model_selection import train_test_split\n",
    "from sklearn.ensemble import RandomForestRegressor\n",
    "from sklearn.metrics import mean_absolute_error \n",
    "from sklearn.metrics import mean_squared_error\n",
    "import pickle\n",
    "import sys"
   ]
  },
  {
   "cell_type": "code",
   "execution_count": 2,
   "metadata": {},
   "outputs": [
    {
     "data": {
      "text/plain": [
       "<tensorflow.python.client.session.Session at 0x22098464bc8>"
      ]
     },
     "execution_count": 2,
     "metadata": {},
     "output_type": "execute_result"
    }
   ],
   "source": [
    "import tensorflow as tf\n",
    "tf.Session(config=tf.ConfigProto(log_device_placement=True))"
   ]
  },
  {
   "cell_type": "code",
   "execution_count": 2,
   "metadata": {},
   "outputs": [],
   "source": [
    "# Function to show various error measurement\n",
    "def forecast_accuracy(forecast, actual):\n",
    "    mape = np.mean(np.abs(forecast - actual)/np.abs(actual))  # MAPE\n",
    "    me = np.mean(forecast - actual)             # ME\n",
    "    mae = np.mean(np.abs(forecast - actual))    # MAE\n",
    "    mpe = np.mean((forecast - actual)/actual)   # MPE\n",
    "    mse = np.mean((forecast - actual)**2)  # MSE\n",
    "    rmse = np.mean((forecast - actual)**2)**.5  # RMSE\n",
    "    mmape = np.mean(np.abs(forecast - actual) / np.abs(forecast)) # modified mape\n",
    "    #corr = np.corrcoef(forecast, actual)[0,1]   # corr\n",
    "    #mins = np.amin(np.hstack([forecast[:,None], \n",
    "    #                          actual[:,None]]), axis=1)\n",
    "    #maxs = np.amax(np.hstack([forecast[:,None], \n",
    "    #                          actual[:,None]]), axis=1)\n",
    "    #minmax = 1 - np.mean(mins/maxs)             # minmax\n",
    "    #acf1 = acf(fc-test)[1]                      # ACF1\n",
    "    #return({'mape':mape, 'me':me, 'mae': mae, \n",
    "    #        'mpe': mpe, 'rmse':rmse, 'acf1':acf1, \n",
    "    #        'corr':corr, 'minmax':minmax})\n",
    "    return({'mape':mape, 'me':me, 'mae': mae, \n",
    "            'mpe': mpe, 'mse':mse, 'rmse':rmse, 'mmape': mmape})"
   ]
  },
  {
   "cell_type": "code",
   "execution_count": 5,
   "metadata": {},
   "outputs": [
    {
     "name": "stdout",
     "output_type": "stream",
     "text": [
      "d:\\Users\\mokky\\Documents\\GitHub\\nus-iss\\PRS-PM-ISY5002-GROUP5\\SystemCode\n"
     ]
    }
   ],
   "source": [
    "import os\n",
    "os.chdir('d:/Users/mokky/Documents/GitHub/nus-iss/PRS-PM-ISY5002-GROUP5/SystemCode')\n",
    "print(os.getcwd())"
   ]
  },
  {
   "cell_type": "code",
   "execution_count": 3,
   "metadata": {},
   "outputs": [],
   "source": [
    "file_dir = './Data Exploration/data/uc3/'\n",
    "X_train_file_path = 'all_hosp_new_train_X_uc3.pkl'\n",
    "y_train_file_path = 'all_hosp_data_uc3_y_train_uc3.pkl'\n",
    "X_test_file_path = 'all_hosp_new_test_X_uc3.pkl'\n",
    "y_test_file_path = 'all_hosp_data_uc3_y_test_uc3.pkl'"
   ]
  },
  {
   "cell_type": "code",
   "execution_count": 6,
   "metadata": {},
   "outputs": [
    {
     "name": "stdout",
     "output_type": "stream",
     "text": [
      "(46888, 14313) (46888,) (15629, 14313) (15629,)\n"
     ]
    }
   ],
   "source": [
    "df_X_train = pd.read_pickle(file_dir + X_train_file_path)\n",
    "df_y_train = pd.read_pickle(file_dir + y_train_file_path)\n",
    "df_X_test = pd.read_pickle(file_dir + X_test_file_path)\n",
    "df_y_test = pd.read_pickle(file_dir + y_test_file_path)\n",
    "print(df_X_train.shape, df_y_train.shape, df_X_test.shape, df_y_test.shape)"
   ]
  },
  {
   "cell_type": "code",
   "execution_count": 7,
   "metadata": {},
   "outputs": [
    {
     "name": "stdout",
     "output_type": "stream",
     "text": [
      "(15629,)\n"
     ]
    }
   ],
   "source": [
    "print(df_y_test.values.shape)"
   ]
  },
  {
   "cell_type": "markdown",
   "metadata": {},
   "source": [
    "Neural Networks ( Sequential )"
   ]
  },
  {
   "cell_type": "code",
   "execution_count": 8,
   "metadata": {},
   "outputs": [],
   "source": [
    "NN_model = Sequential()\n",
    "n_hid_nodes = 4096\n",
    "dropout_rate = 0.2\n",
    "rand_seed = 42\n",
    "kernel_init = 'he_normal'\n",
    "hid_act = 'relu'"
   ]
  },
  {
   "cell_type": "code",
   "execution_count": 9,
   "metadata": {},
   "outputs": [],
   "source": [
    "NN_model.add(Dense(n_hid_nodes, kernel_initializer=kernel_init,input_dim = df_X_train.shape[1], activation=hid_act))\n",
    "NN_model.add(Dropout(dropout_rate, seed=rand_seed))"
   ]
  },
  {
   "cell_type": "code",
   "execution_count": 10,
   "metadata": {},
   "outputs": [],
   "source": [
    "#NN_model.add(GaussianNoise(0.01,input_shape = (df_X_train.shape[1],)))\n",
    "#NN_model.add(Dense(n_hid_nodes, kernel_initializer=kernel_init,activation='relu'))\n",
    "#NN_model.add(Dropout(dropout_rate, seed=rand_seed))"
   ]
  },
  {
   "cell_type": "code",
   "execution_count": 11,
   "metadata": {},
   "outputs": [],
   "source": [
    "for i in range(2):\n",
    "    NN_model.add(Dense(n_hid_nodes, kernel_initializer=kernel_init))#,activation=hid_act))\n",
    "    NN_model.add(BatchNormalization())\n",
    "    NN_model.add(Activation(hid_act))\n",
    "    NN_model.add(Dropout(dropout_rate, seed=rand_seed))"
   ]
  },
  {
   "cell_type": "code",
   "execution_count": 12,
   "metadata": {},
   "outputs": [],
   "source": [
    "NN_model.add(Dense(1, kernel_initializer=kernel_init,activation='linear'))"
   ]
  },
  {
   "cell_type": "code",
   "execution_count": 13,
   "metadata": {},
   "outputs": [
    {
     "name": "stdout",
     "output_type": "stream",
     "text": [
      "Model: \"sequential\"\n",
      "_________________________________________________________________\n",
      "Layer (type)                 Output Shape              Param #   \n",
      "=================================================================\n",
      "dense (Dense)                (None, 4096)              58630144  \n",
      "_________________________________________________________________\n",
      "dropout (Dropout)            (None, 4096)              0         \n",
      "_________________________________________________________________\n",
      "dense_1 (Dense)              (None, 4096)              16781312  \n",
      "_________________________________________________________________\n",
      "batch_normalization (BatchNo (None, 4096)              16384     \n",
      "_________________________________________________________________\n",
      "activation (Activation)      (None, 4096)              0         \n",
      "_________________________________________________________________\n",
      "dropout_1 (Dropout)          (None, 4096)              0         \n",
      "_________________________________________________________________\n",
      "dense_2 (Dense)              (None, 4096)              16781312  \n",
      "_________________________________________________________________\n",
      "batch_normalization_1 (Batch (None, 4096)              16384     \n",
      "_________________________________________________________________\n",
      "activation_1 (Activation)    (None, 4096)              0         \n",
      "_________________________________________________________________\n",
      "dropout_2 (Dropout)          (None, 4096)              0         \n",
      "_________________________________________________________________\n",
      "dense_3 (Dense)              (None, 1)                 4097      \n",
      "=================================================================\n",
      "Total params: 92,229,633\n",
      "Trainable params: 92,213,249\n",
      "Non-trainable params: 16,384\n",
      "_________________________________________________________________\n"
     ]
    }
   ],
   "source": [
    "NN_model.compile(loss='mean_absolute_error', optimizer='adam', metrics=['mean_absolute_error'])\n",
    "NN_model.summary()"
   ]
  },
  {
   "cell_type": "code",
   "execution_count": 14,
   "metadata": {},
   "outputs": [],
   "source": [
    "checkpoint_name = 'NN2_Weights-{epoch:03d}--{val_loss:.5f}.hdf5' \n",
    "checkpoint = ModelCheckpoint(checkpoint_name, monitor='val_loss', verbose = 1, save_best_only = True, mode ='auto')\n",
    "es = EarlyStopping(monitor='val_loss', mode='min', verbose=1, patience=10)\n",
    "callbacks_list = [es, checkpoint]"
   ]
  },
  {
   "cell_type": "code",
   "execution_count": 15,
   "metadata": {
    "scrolled": true
   },
   "outputs": [
    {
     "name": "stdout",
     "output_type": "stream",
     "text": [
      "Train on 37510 samples, validate on 9378 samples\n",
      "Epoch 1/100\n",
      "37504/37510 [============================>.] - ETA: 0s - loss: 6270.3791 - mean_absolute_error: 6270.3799\n",
      "Epoch 00001: val_loss improved from inf to 5460.40301, saving model to NN2_Weights-001--5460.40301.hdf5\n",
      "37510/37510 [==============================] - 58s 2ms/sample - loss: 6271.5757 - mean_absolute_error: 6271.5767 - val_loss: 5460.4030 - val_mean_absolute_error: 5460.4028\n",
      "Epoch 2/100\n",
      "37504/37510 [============================>.] - ETA: 0s - loss: 4409.9712 - mean_absolute_error: 4409.9722\n",
      "Epoch 00002: val_loss improved from 5460.40301 to 2673.03832, saving model to NN2_Weights-002--2673.03832.hdf5\n",
      "37510/37510 [==============================] - 56s 1ms/sample - loss: 4410.0633 - mean_absolute_error: 4410.0645 - val_loss: 2673.0383 - val_mean_absolute_error: 2673.0388\n",
      "Epoch 3/100\n",
      "37504/37510 [============================>.] - ETA: 0s - loss: 2591.0017 - mean_absolute_error: 2591.0015\n",
      "Epoch 00003: val_loss improved from 2673.03832 to 1990.75322, saving model to NN2_Weights-003--1990.75322.hdf5\n",
      "37510/37510 [==============================] - 54s 1ms/sample - loss: 2591.0463 - mean_absolute_error: 2591.0461 - val_loss: 1990.7532 - val_mean_absolute_error: 1990.7534\n",
      "Epoch 4/100\n",
      "37504/37510 [============================>.] - ETA: 0s - loss: 2022.7134 - mean_absolute_error: 2022.7133\n",
      "Epoch 00004: val_loss improved from 1990.75322 to 1872.62530, saving model to NN2_Weights-004--1872.62530.hdf5\n",
      "37510/37510 [==============================] - 54s 1ms/sample - loss: 2022.7774 - mean_absolute_error: 2022.7773 - val_loss: 1872.6253 - val_mean_absolute_error: 1872.6255\n",
      "Epoch 5/100\n",
      "37504/37510 [============================>.] - ETA: 0s - loss: 1792.0242 - mean_absolute_error: 1792.0243\n",
      "Epoch 00005: val_loss did not improve from 1872.62530\n",
      "37510/37510 [==============================] - 53s 1ms/sample - loss: 1792.0452 - mean_absolute_error: 1792.0454 - val_loss: 1885.6109 - val_mean_absolute_error: 1885.6110\n",
      "Epoch 6/100\n",
      "37504/37510 [============================>.] - ETA: 0s - loss: 1666.2652 - mean_absolute_error: 1666.2650\n",
      "Epoch 00006: val_loss improved from 1872.62530 to 1869.04651, saving model to NN2_Weights-006--1869.04651.hdf5\n",
      "37510/37510 [==============================] - 56s 1ms/sample - loss: 1666.5563 - mean_absolute_error: 1666.5562 - val_loss: 1869.0465 - val_mean_absolute_error: 1869.0465\n",
      "Epoch 7/100\n",
      "37504/37510 [============================>.] - ETA: 0s - loss: 1547.4333 - mean_absolute_error: 1547.4335\n",
      "Epoch 00007: val_loss improved from 1869.04651 to 1817.61366, saving model to NN2_Weights-007--1817.61366.hdf5\n",
      "37510/37510 [==============================] - 55s 1ms/sample - loss: 1547.6730 - mean_absolute_error: 1547.6731 - val_loss: 1817.6137 - val_mean_absolute_error: 1817.6134\n",
      "Epoch 8/100\n",
      "37504/37510 [============================>.] - ETA: 0s - loss: 1452.2337 - mean_absolute_error: 1452.2340\n",
      "Epoch 00008: val_loss did not improve from 1817.61366\n",
      "37510/37510 [==============================] - 51s 1ms/sample - loss: 1454.8549 - mean_absolute_error: 1454.8552 - val_loss: 1896.5123 - val_mean_absolute_error: 1896.5127\n",
      "Epoch 9/100\n",
      "37504/37510 [============================>.] - ETA: 0s - loss: 1425.8553 - mean_absolute_error: 1425.8551\n",
      "Epoch 00009: val_loss improved from 1817.61366 to 1811.00318, saving model to NN2_Weights-009--1811.00318.hdf5\n",
      "37510/37510 [==============================] - 56s 1ms/sample - loss: 1425.9875 - mean_absolute_error: 1425.9874 - val_loss: 1811.0032 - val_mean_absolute_error: 1811.0034\n",
      "Epoch 10/100\n",
      "37504/37510 [============================>.] - ETA: 0s - loss: 1335.6363 - mean_absolute_error: 1335.6367\n",
      "Epoch 00010: val_loss did not improve from 1811.00318\n",
      "37510/37510 [==============================] - 51s 1ms/sample - loss: 1335.6568 - mean_absolute_error: 1335.6572 - val_loss: 1819.4837 - val_mean_absolute_error: 1819.4839\n",
      "Epoch 11/100\n",
      "37504/37510 [============================>.] - ETA: 0s - loss: 1299.0402 - mean_absolute_error: 1299.0398\n",
      "Epoch 00011: val_loss did not improve from 1811.00318\n",
      "37510/37510 [==============================] - 51s 1ms/sample - loss: 1299.2848 - mean_absolute_error: 1299.2843 - val_loss: 1839.5317 - val_mean_absolute_error: 1839.5315\n",
      "Epoch 12/100\n",
      "37504/37510 [============================>.] - ETA: 0s - loss: 1277.2816 - mean_absolute_error: 1277.2806\n",
      "Epoch 00012: val_loss did not improve from 1811.00318\n",
      "37510/37510 [==============================] - 52s 1ms/sample - loss: 1277.3997 - mean_absolute_error: 1277.3987 - val_loss: 1876.7285 - val_mean_absolute_error: 1876.7288\n",
      "Epoch 13/100\n",
      "37504/37510 [============================>.] - ETA: 0s - loss: 1246.6505 - mean_absolute_error: 1246.6508\n",
      "Epoch 00013: val_loss did not improve from 1811.00318\n",
      "37510/37510 [==============================] - 52s 1ms/sample - loss: 1246.7158 - mean_absolute_error: 1246.7159 - val_loss: 1849.9313 - val_mean_absolute_error: 1849.9312\n",
      "Epoch 14/100\n",
      "37504/37510 [============================>.] - ETA: 0s - loss: 1194.2732 - mean_absolute_error: 1194.2733\n",
      "Epoch 00014: val_loss did not improve from 1811.00318\n",
      "37510/37510 [==============================] - 51s 1ms/sample - loss: 1194.6869 - mean_absolute_error: 1194.6870 - val_loss: 1823.6132 - val_mean_absolute_error: 1823.6132\n",
      "Epoch 15/100\n",
      "37504/37510 [============================>.] - ETA: 0s - loss: 1172.6557 - mean_absolute_error: 1172.6553\n",
      "Epoch 00015: val_loss improved from 1811.00318 to 1803.01664, saving model to NN2_Weights-015--1803.01664.hdf5\n",
      "37510/37510 [==============================] - 54s 1ms/sample - loss: 1172.8012 - mean_absolute_error: 1172.8009 - val_loss: 1803.0166 - val_mean_absolute_error: 1803.0166\n",
      "Epoch 16/100\n",
      "37504/37510 [============================>.] - ETA: 0s - loss: 1169.7658 - mean_absolute_error: 1169.7654\n",
      "Epoch 00016: val_loss did not improve from 1803.01664\n",
      "37510/37510 [==============================] - 52s 1ms/sample - loss: 1169.8247 - mean_absolute_error: 1169.8242 - val_loss: 1804.8698 - val_mean_absolute_error: 1804.8698\n",
      "Epoch 17/100\n",
      "37504/37510 [============================>.] - ETA: 0s - loss: 1115.3938 - mean_absolute_error: 1115.3940\n",
      "Epoch 00017: val_loss did not improve from 1803.01664\n",
      "37510/37510 [==============================] - 51s 1ms/sample - loss: 1115.4476 - mean_absolute_error: 1115.4479 - val_loss: 1808.8649 - val_mean_absolute_error: 1808.8646\n",
      "Epoch 18/100\n",
      "37504/37510 [============================>.] - ETA: 0s - loss: 1088.3381 - mean_absolute_error: 1088.3381\n",
      "Epoch 00018: val_loss improved from 1803.01664 to 1785.98725, saving model to NN2_Weights-018--1785.98725.hdf5\n",
      "37510/37510 [==============================] - 54s 1ms/sample - loss: 1088.5073 - mean_absolute_error: 1088.5073 - val_loss: 1785.9873 - val_mean_absolute_error: 1785.9874\n",
      "Epoch 19/100\n",
      "37504/37510 [============================>.] - ETA: 0s - loss: 1074.8465 - mean_absolute_error: 1074.8466\n",
      "Epoch 00019: val_loss did not improve from 1785.98725\n",
      "37510/37510 [==============================] - 51s 1ms/sample - loss: 1075.2837 - mean_absolute_error: 1075.2837 - val_loss: 1791.7473 - val_mean_absolute_error: 1791.7473\n",
      "Epoch 20/100\n",
      "37504/37510 [============================>.] - ETA: 0s - loss: 1054.5431 - mean_absolute_error: 1054.5427\n",
      "Epoch 00020: val_loss did not improve from 1785.98725\n",
      "37510/37510 [==============================] - 52s 1ms/sample - loss: 1054.6647 - mean_absolute_error: 1054.6643 - val_loss: 1835.9861 - val_mean_absolute_error: 1835.9860\n",
      "Epoch 21/100\n",
      "37504/37510 [============================>.] - ETA: 0s - loss: 1026.9966 - mean_absolute_error: 1026.9966\n",
      "Epoch 00021: val_loss did not improve from 1785.98725\n",
      "37510/37510 [==============================] - 52s 1ms/sample - loss: 1027.2915 - mean_absolute_error: 1027.2915 - val_loss: 1811.7037 - val_mean_absolute_error: 1811.7034\n",
      "Epoch 22/100\n",
      "37504/37510 [============================>.] - ETA: 0s - loss: 1030.5147 - mean_absolute_error: 1030.5148\n",
      "Epoch 00022: val_loss did not improve from 1785.98725\n",
      "37510/37510 [==============================] - 53s 1ms/sample - loss: 1030.8205 - mean_absolute_error: 1030.8206 - val_loss: 1806.7627 - val_mean_absolute_error: 1806.7627\n",
      "Epoch 23/100\n",
      "37504/37510 [============================>.] - ETA: 0s - loss: 1002.6189 - mean_absolute_error: 1002.6190\n",
      "Epoch 00023: val_loss did not improve from 1785.98725\n",
      "37510/37510 [==============================] - 52s 1ms/sample - loss: 1003.0789 - mean_absolute_error: 1003.0790 - val_loss: 1794.0528 - val_mean_absolute_error: 1794.0527\n",
      "Epoch 24/100\n",
      "37504/37510 [============================>.] - ETA: 0s - loss: 976.7627 - mean_absolute_error: 976.7625\n",
      "Epoch 00024: val_loss did not improve from 1785.98725\n",
      "37510/37510 [==============================] - 52s 1ms/sample - loss: 977.0210 - mean_absolute_error: 977.0209 - val_loss: 1823.7520 - val_mean_absolute_error: 1823.7522\n",
      "Epoch 25/100\n",
      "37504/37510 [============================>.] - ETA: 0s - loss: 959.5189 - mean_absolute_error: 959.5192\n",
      "Epoch 00025: val_loss did not improve from 1785.98725\n",
      "37510/37510 [==============================] - 53s 1ms/sample - loss: 959.4360 - mean_absolute_error: 959.4363 - val_loss: 1831.9014 - val_mean_absolute_error: 1831.9015\n",
      "Epoch 26/100\n",
      "37504/37510 [============================>.] - ETA: 0s - loss: 941.9660 - mean_absolute_error: 941.9661\n",
      "Epoch 00026: val_loss did not improve from 1785.98725\n",
      "37510/37510 [==============================] - 53s 1ms/sample - loss: 941.9378 - mean_absolute_error: 941.9378 - val_loss: 1800.0532 - val_mean_absolute_error: 1800.0533\n",
      "Epoch 27/100\n",
      "37504/37510 [============================>.] - ETA: 0s - loss: 913.9101 - mean_absolute_error: 913.9104\n",
      "Epoch 00027: val_loss improved from 1785.98725 to 1780.66390, saving model to NN2_Weights-027--1780.66390.hdf5\n",
      "37510/37510 [==============================] - 59s 2ms/sample - loss: 914.3873 - mean_absolute_error: 914.3876 - val_loss: 1780.6639 - val_mean_absolute_error: 1780.6637\n",
      "Epoch 28/100\n",
      "37504/37510 [============================>.] - ETA: 0s - loss: 927.1218 - mean_absolute_error: 927.1218\n",
      "Epoch 00028: val_loss did not improve from 1780.66390\n",
      "37510/37510 [==============================] - 54s 1ms/sample - loss: 927.5372 - mean_absolute_error: 927.5372 - val_loss: 1790.4778 - val_mean_absolute_error: 1790.4777\n",
      "Epoch 29/100\n",
      "37504/37510 [============================>.] - ETA: 0s - loss: 926.0947 - mean_absolute_error: 926.0943\n",
      "Epoch 00029: val_loss did not improve from 1780.66390\n",
      "37510/37510 [==============================] - 51s 1ms/sample - loss: 926.2542 - mean_absolute_error: 926.2538 - val_loss: 1799.9353 - val_mean_absolute_error: 1799.9354\n",
      "Epoch 30/100\n",
      "37504/37510 [============================>.] - ETA: 0s - loss: 899.2676 - mean_absolute_error: 899.2676\n",
      "Epoch 00030: val_loss did not improve from 1780.66390\n",
      "37510/37510 [==============================] - 52s 1ms/sample - loss: 899.3966 - mean_absolute_error: 899.3965 - val_loss: 1832.5016 - val_mean_absolute_error: 1832.5016\n",
      "Epoch 31/100\n",
      "37504/37510 [============================>.] - ETA: 0s - loss: 883.6738 - mean_absolute_error: 883.6735\n",
      "Epoch 00031: val_loss did not improve from 1780.66390\n",
      "37510/37510 [==============================] - 55s 1ms/sample - loss: 883.7751 - mean_absolute_error: 883.7750 - val_loss: 1817.1132 - val_mean_absolute_error: 1817.1134\n",
      "Epoch 32/100\n",
      "37504/37510 [============================>.] - ETA: 0s - loss: 896.1596 - mean_absolute_error: 896.1595\n",
      "Epoch 00032: val_loss did not improve from 1780.66390\n",
      "37510/37510 [==============================] - 54s 1ms/sample - loss: 896.4827 - mean_absolute_error: 896.4827 - val_loss: 1807.9253 - val_mean_absolute_error: 1807.9252\n",
      "Epoch 33/100\n",
      "37504/37510 [============================>.] - ETA: 0s - loss: 880.6750 - mean_absolute_error: 880.6752\n",
      "Epoch 00033: val_loss did not improve from 1780.66390\n",
      "37510/37510 [==============================] - 55s 1ms/sample - loss: 881.2059 - mean_absolute_error: 881.2061 - val_loss: 1825.5791 - val_mean_absolute_error: 1825.5792\n",
      "Epoch 34/100\n",
      "37504/37510 [============================>.] - ETA: 0s - loss: 864.8542 - mean_absolute_error: 864.8539\n",
      "Epoch 00034: val_loss did not improve from 1780.66390\n",
      "37510/37510 [==============================] - 52s 1ms/sample - loss: 865.2601 - mean_absolute_error: 865.2599 - val_loss: 1811.3912 - val_mean_absolute_error: 1811.3914\n",
      "Epoch 35/100\n",
      "37504/37510 [============================>.] - ETA: 0s - loss: 858.1431 - mean_absolute_error: 858.1431\n",
      "Epoch 00035: val_loss did not improve from 1780.66390\n",
      "37510/37510 [==============================] - 55s 1ms/sample - loss: 858.8166 - mean_absolute_error: 858.8166 - val_loss: 1814.7218 - val_mean_absolute_error: 1814.7219\n",
      "Epoch 36/100\n",
      "37504/37510 [============================>.] - ETA: 0s - loss: 838.5864 - mean_absolute_error: 838.5863\n",
      "Epoch 00036: val_loss did not improve from 1780.66390\n",
      "37510/37510 [==============================] - 53s 1ms/sample - loss: 839.3916 - mean_absolute_error: 839.3915 - val_loss: 1788.8866 - val_mean_absolute_error: 1788.8864\n",
      "Epoch 37/100\n",
      "37504/37510 [============================>.] - ETA: 0s - loss: 837.2479 - mean_absolute_error: 837.2480\n",
      "Epoch 00037: val_loss did not improve from 1780.66390\n",
      "37510/37510 [==============================] - 53s 1ms/sample - loss: 837.1998 - mean_absolute_error: 837.1999 - val_loss: 1815.5124 - val_mean_absolute_error: 1815.5125\n",
      "Epoch 00037: early stopping\n"
     ]
    }
   ],
   "source": [
    "NN_model.fit(df_X_train, df_y_train, epochs=100, batch_size=128, validation_split = 0.2, callbacks=callbacks_list)\n",
    "\n",
    "# save model to file\n",
    "NN_model.save(file_dir + \"uc3_NN2_model.h5\")"
   ]
  },
  {
   "cell_type": "code",
   "execution_count": 16,
   "metadata": {},
   "outputs": [],
   "source": [
    "predictions = NN_model.predict(df_X_test)"
   ]
  },
  {
   "cell_type": "code",
   "execution_count": 17,
   "metadata": {},
   "outputs": [
    {
     "data": {
      "text/plain": [
       "<matplotlib.axes._subplots.AxesSubplot at 0x220b9815c88>"
      ]
     },
     "execution_count": 17,
     "metadata": {},
     "output_type": "execute_result"
    },
    {
     "data": {
      "image/png": "[encoded data removed]",
      "text/plain": [
       "<Figure size 432x288 with 1 Axes>"
      ]
     },
     "metadata": {
      "needs_background": "light"
     },
     "output_type": "display_data"
    }
   ],
   "source": [
    "sns.regplot(x=df_y_test, y=predictions)"
   ]
  },
  {
   "cell_type": "code",
   "execution_count": 18,
   "metadata": {},
   "outputs": [
    {
     "name": "stdout",
     "output_type": "stream",
     "text": [
      "Mean squared error: 50660855.39\n",
      "Root Mean squared error: 7117.64\n",
      "Mean absolute error: 1808.46\n"
     ]
    }
   ],
   "source": [
    "# MSE\n",
    "print('Mean squared error: %.2f'\n",
    "      % mean_squared_error(df_y_test,predictions, squared=True))\n",
    "\n",
    "# RMSE\n",
    "print('Root Mean squared error: %.2f'\n",
    "      % mean_squared_error(df_y_test,predictions, squared=False))\n",
    "\n",
    "# MAE\n",
    "print('Mean absolute error: %.2f'\n",
    "      % mean_absolute_error(df_y_test,predictions))"
   ]
  },
  {
   "cell_type": "code",
   "execution_count": 19,
   "metadata": {},
   "outputs": [
    {
     "data": {
      "text/plain": [
       "{'mape': 0.28837315690407184,\n",
       " 'me': -637.7351468577169,\n",
       " 'mae': 1808.4606558727216,\n",
       " 'mpe': 0.0626254968571037,\n",
       " 'mse': 50660855.39250669,\n",
       " 'rmse': 7117.643949545853}"
      ]
     },
     "execution_count": 19,
     "metadata": {},
     "output_type": "execute_result"
    }
   ],
   "source": [
    "forecast_accuracy(predictions.reshape((-1,)), df_y_test)"
   ]
  },
  {
   "cell_type": "code",
   "execution_count": 8,
   "metadata": {},
   "outputs": [
    {
     "name": "stdout",
     "output_type": "stream",
     "text": [
      "WARNING:tensorflow:From C:\\Users\\mokky\\AppData\\Roaming\\Python\\Python37\\site-packages\\tensorflow\\python\\ops\\init_ops.py:97: calling VarianceScaling.__init__ (from tensorflow.python.ops.init_ops) with dtype is deprecated and will be removed in a future version.\n",
      "Instructions for updating:\n",
      "Call initializer instance with the dtype argument instead of passing it to the constructor\n",
      "WARNING:tensorflow:From C:\\Users\\mokky\\AppData\\Roaming\\Python\\Python37\\site-packages\\tensorflow\\python\\ops\\init_ops.py:97: calling Zeros.__init__ (from tensorflow.python.ops.init_ops) with dtype is deprecated and will be removed in a future version.\n",
      "Instructions for updating:\n",
      "Call initializer instance with the dtype argument instead of passing it to the constructor\n",
      "WARNING:tensorflow:From C:\\Users\\mokky\\AppData\\Roaming\\Python\\Python37\\site-packages\\tensorflow\\python\\ops\\init_ops.py:97: calling Ones.__init__ (from tensorflow.python.ops.init_ops) with dtype is deprecated and will be removed in a future version.\n",
      "Instructions for updating:\n",
      "Call initializer instance with the dtype argument instead of passing it to the constructor\n"
     ]
    },
    {
     "data": {
      "text/plain": [
       "{'mape': 0.28837315690407184,\n",
       " 'me': -637.7351468577169,\n",
       " 'mae': 1808.4606558727216,\n",
       " 'mpe': 0.0626254968571037,\n",
       " 'mse': 50660855.39250669,\n",
       " 'rmse': 7117.643949545853,\n",
       " 'mmape': 0.2824793331206611}"
      ]
     },
     "execution_count": 8,
     "metadata": {},
     "output_type": "execute_result"
    }
   ],
   "source": [
    "df_X_test = pd.read_pickle(file_dir + X_test_file_path)\n",
    "df_y_test = pd.read_pickle(file_dir + y_test_file_path)\n",
    "model = load_model(file_dir + \"uc3_NN2_model.h5\")\n",
    "y_pred = model.predict(df_X_test)\n",
    "forecast_accuracy(y_pred.reshape((-1,)), df_y_test)"
   ]
  }
 ],
 "metadata": {
  "kernelspec": {
   "display_name": "Python 3",
   "language": "python",
   "name": "python3"
  },
  "language_info": {
   "codemirror_mode": {
    "name": "ipython",
    "version": 3
   },
   "file_extension": ".py",
   "mimetype": "text/x-python",
   "name": "python",
   "nbconvert_exporter": "python",
   "pygments_lexer": "ipython3",
   "version": "3.7.8"
  }
 },
 "nbformat": 4,
 "nbformat_minor": 4
}
