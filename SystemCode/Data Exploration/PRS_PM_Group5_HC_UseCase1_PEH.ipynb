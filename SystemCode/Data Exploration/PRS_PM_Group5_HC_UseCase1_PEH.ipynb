{
 "cells": [
  {
   "cell_type": "markdown",
   "metadata": {},
   "source": [
    "# Parkway Project Use Case 1: Write Off Cases Prediction"
   ]
  },
  {
   "cell_type": "markdown",
   "metadata": {},
   "source": [
    "## DATA PREPARATION"
   ]
  },
  {
   "cell_type": "markdown",
   "metadata": {},
   "source": [
    "### Load Data"
   ]
  },
  {
   "cell_type": "markdown",
   "metadata": {},
   "source": [
    "#### Import packages"
   ]
  },
  {
   "cell_type": "code",
   "execution_count": 1,
   "metadata": {},
   "outputs": [],
   "source": [
    "import pandas as pd\n",
    "import numpy as np\n",
    "import seaborn as sns\n",
    "import matplotlib.pyplot as plt\n",
    "%matplotlib inline\n",
    "pd.set_option('display.max_rows', 500)\n",
    "import warnings\n",
    "warnings.filterwarnings(action='once')\n",
    "import pickle\n",
    "from imblearn.over_sampling import SMOTE"
   ]
  },
  {
   "cell_type": "code",
   "execution_count": 3,
   "metadata": {},
   "outputs": [
    {
     "name": "stdout",
     "output_type": "stream",
     "text": [
      "/home/jupyter/temp25Oct-Mok-cfc9083c3125ca7ce3bf62e5/PRS-PM-ISY5002-GROUP5/SystemCode\n"
     ]
    }
   ],
   "source": [
    "import os\n",
    "os.chdir('../')\n",
    "print(os.getcwd())"
   ]
  },
  {
   "cell_type": "code",
   "execution_count": 4,
   "metadata": {},
   "outputs": [],
   "source": [
    "%load_ext autoreload\n",
    "%autoreload 2\n",
    "from datapipeline import Datapipeline\n",
    "dpl = Datapipeline()"
   ]
  },
  {
   "cell_type": "markdown",
   "metadata": {},
   "source": [
    "#### Read data from file"
   ]
  },
  {
   "cell_type": "code",
   "execution_count": 5,
   "metadata": {},
   "outputs": [],
   "source": [
    "file_dir = './Data Exploration/data/uc1/'\n",
    "dict_X_train_file_paths = {\n",
    "#    'GHL' : [file_dir + 'GHL_new_train_X_uc1.pkl'],\n",
    "#    'MEH' : [file_dir + 'MEH_new_train_X_uc1.pkl'],\n",
    "    'PEH' : [file_dir + 'PEH_new_train_X_uc1.pkl'],\n",
    "#    'PNH' : [file_dir + 'PNH_new_train_X_uc1.pkl']\n",
    "}\n",
    "dict_y_train_file_paths = {\n",
    "    'GHL' : file_dir + 'GHL_data_y_train.pkl',\n",
    "    'MEH' : file_dir + 'MEH_data_y_train.pkl',\n",
    "    'PEH' : file_dir + 'PEH_data_y_train.pkl',\n",
    "    'PNH' : file_dir + 'PNH_data_y_train.pkl'\n",
    "}\n",
    "dict_X_test_file_paths = {\n",
    "    'GHL' : [file_dir + 'GHL_new_test_X_uc1.pkl'],\n",
    "    'MEH' : [file_dir + 'MEH_new_test_X_uc1.pkl'],\n",
    "    'PEH' : [file_dir + 'PEH_new_test_X_uc1.pkl'],\n",
    "    'PNH' : [file_dir + 'PNH_new_test_X_uc1.pkl']\n",
    "}\n",
    "dict_y_test_file_paths = {\n",
    "    'GHL' : file_dir + 'GHL_data_y_test.pkl',\n",
    "    'MEH' : file_dir + 'MEH_data_y_test.pkl',\n",
    "    'PEH' : file_dir + 'PEH_data_y_test.pkl',\n",
    "    'PNH' : file_dir + 'PNH_data_y_test.pkl'\n",
    "}"
   ]
  },
  {
   "cell_type": "code",
   "execution_count": 6,
   "metadata": {},
   "outputs": [
    {
     "name": "stdout",
     "output_type": "stream",
     "text": [
      "X_train PEH (28604, 1037)\n",
      "y_train PEH (28604,)\n",
      "X_test PEH (9534, 1037)\n",
      "y_test PEH (9534,)\n"
     ]
    }
   ],
   "source": [
    "dict_df_X_train = {}\n",
    "dict_df_y_train = {}\n",
    "dict_df_X_test = {}\n",
    "dict_df_y_test = {}\n",
    "\n",
    "for hosp in dict_X_train_file_paths:\n",
    "    dict_df_X_train[hosp] = pd.concat([pd.read_pickle(file_path)\n",
    "                                       for file_path in dict_X_train_file_paths[hosp]])\n",
    "    print(f'X_train {hosp} {dict_df_X_train[hosp].shape}')\n",
    "    \n",
    "    dict_df_y_train[hosp] = pd.read_pickle(dict_y_train_file_paths[hosp])\n",
    "    print(f'y_train {hosp} {dict_df_y_train[hosp].shape}')\n",
    "\n",
    "    dict_df_X_test[hosp] = pd.concat([pd.read_pickle(file_path)\n",
    "                                      for file_path in dict_X_test_file_paths[hosp]])\n",
    "    print(f'X_test {hosp} {dict_df_X_test[hosp].shape}')\n",
    "\n",
    "    dict_df_y_test[hosp] = pd.read_pickle(dict_y_test_file_paths[hosp])\n",
    "    print(f'y_test {hosp} {dict_df_y_test[hosp].shape}')"
   ]
  },
  {
   "cell_type": "code",
   "execution_count": 7,
   "metadata": {},
   "outputs": [
    {
     "name": "stderr",
     "output_type": "stream",
     "text": [
      "/opt/conda/lib/python3.7/site-packages/ipykernel/ipkernel.py:287: DeprecationWarning: `should_run_async` will not call `transform_cell` automatically in the future. Please pass the result to `transformed_cell` argument and any exception that happen during thetransform in `preprocessing_exc_tuple` in IPython 7.17 and above.\n",
      "  and should_run_async(code)\n"
     ]
    }
   ],
   "source": [
    "def convert_y(df):\n",
    "    df1 = dpl.bin_column(df.to_frame(), col='WRITE_OFF', bin_thresh = [500])\n",
    "    df1 = pd.get_dummies(df1['bin_WRITE_OFF'])\n",
    "    df1 = df1.drop(0, axis=1)\n",
    "    df1.columns = ['WRITE_OFF_LABEL']\n",
    "    return df1"
   ]
  },
  {
   "cell_type": "code",
   "execution_count": 8,
   "metadata": {},
   "outputs": [],
   "source": [
    "for hosp in dict_df_y_train:\n",
    "    dict_df_y_train[hosp] = convert_y(dict_df_y_train[hosp])\n",
    "    dict_df_y_test[hosp] = convert_y(dict_df_y_test[hosp])"
   ]
  },
  {
   "cell_type": "markdown",
   "metadata": {},
   "source": [
    "## DECISION TREE"
   ]
  },
  {
   "cell_type": "markdown",
   "metadata": {},
   "source": [
    "### Decision Tree WITHOUT SMOTE"
   ]
  },
  {
   "cell_type": "code",
   "execution_count": 9,
   "metadata": {},
   "outputs": [],
   "source": [
    "from sklearn.tree import DecisionTreeClassifier\n",
    "from sklearn.metrics import classification_report, confusion_matrix  \n",
    "from sklearn.tree import export_graphviz\n",
    "from subprocess import call"
   ]
  },
  {
   "cell_type": "code",
   "execution_count": 10,
   "metadata": {},
   "outputs": [],
   "source": [
    "criterion = 'entropy'\n",
    "rand_seed = 0"
   ]
  },
  {
   "cell_type": "code",
   "execution_count": 11,
   "metadata": {},
   "outputs": [
    {
     "name": "stdout",
     "output_type": "stream",
     "text": [
      "DecisionTreeClassifier(criterion='entropy', random_state=0)\n",
      "Accuracy on PEH training set without SMOTE decision tree: 1.0\n",
      "Accuracy on PEH test set without SMOTE decision tree: 0.998846234529054\n",
      "PEH decision tree\n",
      " [[9523    4]\n",
      " [   7    0]]\n",
      "PEH decision tree\n",
      "               precision    recall  f1-score   support\n",
      "\n",
      "           0       1.00      1.00      1.00      9527\n",
      "           1       0.00      0.00      0.00         7\n",
      "\n",
      "    accuracy                           1.00      9534\n",
      "   macro avg       0.50      0.50      0.50      9534\n",
      "weighted avg       1.00      1.00      1.00      9534\n",
      "\n"
     ]
    },
    {
     "name": "stderr",
     "output_type": "stream",
     "text": [
      "/opt/conda/lib/python3.7/site-packages/ipykernel_launcher.py:9: ResourceWarning: unclosed file <_io.BufferedWriter name='./Data Exploration/data/uc1/PEH_uc1_no_smote_dt_model.pkl'>\n",
      "  if __name__ == '__main__':\n",
      "ResourceWarning: Enable tracemalloc to get the object allocation traceback\n"
     ]
    }
   ],
   "source": [
    "for hosp in dict_df_X_train:\n",
    "    model = DecisionTreeClassifier(criterion=criterion,random_state=rand_seed)\n",
    "    model.fit(dict_df_X_train[hosp], dict_df_y_train[hosp])\n",
    "    print(model)\n",
    "    print(f\"Accuracy on {hosp} training set without SMOTE decision tree: {model.score(dict_df_X_train[hosp], dict_df_y_train[hosp])}\")\n",
    "    print(f\"Accuracy on {hosp} test set without SMOTE decision tree: {model.score(dict_df_X_test[hosp], dict_df_y_test[hosp])}\")\n",
    "    \n",
    "    filename = file_dir + f'{hosp}_uc1_no_smote_dt_model.pkl'\n",
    "    pickle.dump(model, open(filename, 'wb'))\n",
    "    \n",
    "    y_pred = model.predict(dict_df_X_test[hosp])\n",
    "    print(hosp, 'decision tree\\n', confusion_matrix(dict_df_y_test[hosp], y_pred))  \n",
    "    print(hosp, 'decision tree\\n', classification_report(dict_df_y_test[hosp], y_pred)) "
   ]
  },
  {
   "cell_type": "markdown",
   "metadata": {},
   "source": [
    "### Decision Tree WITH SMOTE"
   ]
  },
  {
   "cell_type": "markdown",
   "metadata": {},
   "source": [
    "#### Decision Tree WITH SMOTE SS = 0.1 ~ 1.0"
   ]
  },
  {
   "cell_type": "code",
   "execution_count": 13,
   "metadata": {
    "scrolled": true
   },
   "outputs": [
    {
     "name": "stderr",
     "output_type": "stream",
     "text": [
      "/opt/conda/lib/python3.7/site-packages/ipykernel/ipkernel.py:287: DeprecationWarning: `should_run_async` will not call `transform_cell` automatically in the future. Please pass the result to `transformed_cell` argument and any exception that happen during thetransform in `preprocessing_exc_tuple` in IPython 7.17 and above.\n",
      "  and should_run_async(code)\n"
     ]
    },
    {
     "name": "stdout",
     "output_type": "stream",
     "text": [
      "DecisionTreeClassifier(criterion='entropy', random_state=0)\n",
      "Accuracy on PEH training set with 0.1 SMOTE decision tree: 1.0\n",
      "Accuracy on PEH test set with 0.1 SMOTE decision tree: 0.9985315712187959\n",
      "PEH decision tree \n",
      " [[9520    7]\n",
      " [   7    0]]\n",
      "PEH decision tree \n",
      "               precision    recall  f1-score   support\n",
      "\n",
      "           0       1.00      1.00      1.00      9527\n",
      "           1       0.00      0.00      0.00         7\n",
      "\n",
      "    accuracy                           1.00      9534\n",
      "   macro avg       0.50      0.50      0.50      9534\n",
      "weighted avg       1.00      1.00      1.00      9534\n",
      "\n"
     ]
    },
    {
     "name": "stderr",
     "output_type": "stream",
     "text": [
      "/opt/conda/lib/python3.7/site-packages/ipykernel_launcher.py:13: ResourceWarning: unclosed file <_io.BufferedWriter name='./Data Exploration/data/uc1/PEH_uc1_0.1_smote_dt_model.pkl'>\n",
      "  del sys.path[0]\n",
      "ResourceWarning: Enable tracemalloc to get the object allocation traceback\n"
     ]
    },
    {
     "name": "stdout",
     "output_type": "stream",
     "text": [
      "DecisionTreeClassifier(criterion='entropy', random_state=0)\n",
      "Accuracy on PEH training set with 0.2 SMOTE decision tree: 1.0\n",
      "Accuracy on PEH test set with 0.2 SMOTE decision tree: 0.9985315712187959\n",
      "PEH decision tree \n",
      " [[9520    7]\n",
      " [   7    0]]\n",
      "PEH decision tree \n",
      "               precision    recall  f1-score   support\n",
      "\n",
      "           0       1.00      1.00      1.00      9527\n",
      "           1       0.00      0.00      0.00         7\n",
      "\n",
      "    accuracy                           1.00      9534\n",
      "   macro avg       0.50      0.50      0.50      9534\n",
      "weighted avg       1.00      1.00      1.00      9534\n",
      "\n"
     ]
    },
    {
     "name": "stderr",
     "output_type": "stream",
     "text": [
      "/opt/conda/lib/python3.7/site-packages/ipykernel_launcher.py:13: ResourceWarning: unclosed file <_io.BufferedWriter name='./Data Exploration/data/uc1/PEH_uc1_0.2_smote_dt_model.pkl'>\n",
      "  del sys.path[0]\n",
      "ResourceWarning: Enable tracemalloc to get the object allocation traceback\n"
     ]
    },
    {
     "name": "stdout",
     "output_type": "stream",
     "text": [
      "DecisionTreeClassifier(criterion='entropy', random_state=0)\n",
      "Accuracy on PEH training set with 0.30000000000000004 SMOTE decision tree: 1.0\n",
      "Accuracy on PEH test set with 0.30000000000000004 SMOTE decision tree: 0.998846234529054\n",
      "PEH decision tree \n",
      " [[9523    4]\n",
      " [   7    0]]\n",
      "PEH decision tree \n",
      "               precision    recall  f1-score   support\n",
      "\n",
      "           0       1.00      1.00      1.00      9527\n",
      "           1       0.00      0.00      0.00         7\n",
      "\n",
      "    accuracy                           1.00      9534\n",
      "   macro avg       0.50      0.50      0.50      9534\n",
      "weighted avg       1.00      1.00      1.00      9534\n",
      "\n"
     ]
    },
    {
     "name": "stderr",
     "output_type": "stream",
     "text": [
      "/opt/conda/lib/python3.7/site-packages/ipykernel_launcher.py:13: ResourceWarning: unclosed file <_io.BufferedWriter name='./Data Exploration/data/uc1/PEH_uc1_0.30000000000000004_smote_dt_model.pkl'>\n",
      "  del sys.path[0]\n",
      "ResourceWarning: Enable tracemalloc to get the object allocation traceback\n"
     ]
    },
    {
     "name": "stdout",
     "output_type": "stream",
     "text": [
      "DecisionTreeClassifier(criterion='entropy', random_state=0)\n",
      "Accuracy on PEH training set with 0.4 SMOTE decision tree: 1.0\n",
      "Accuracy on PEH test set with 0.4 SMOTE decision tree: 0.9985315712187959\n",
      "PEH decision tree \n",
      " [[9520    7]\n",
      " [   7    0]]\n",
      "PEH decision tree \n",
      "               precision    recall  f1-score   support\n",
      "\n",
      "           0       1.00      1.00      1.00      9527\n",
      "           1       0.00      0.00      0.00         7\n",
      "\n",
      "    accuracy                           1.00      9534\n",
      "   macro avg       0.50      0.50      0.50      9534\n",
      "weighted avg       1.00      1.00      1.00      9534\n",
      "\n"
     ]
    },
    {
     "name": "stderr",
     "output_type": "stream",
     "text": [
      "/opt/conda/lib/python3.7/site-packages/ipykernel_launcher.py:13: ResourceWarning: unclosed file <_io.BufferedWriter name='./Data Exploration/data/uc1/PEH_uc1_0.4_smote_dt_model.pkl'>\n",
      "  del sys.path[0]\n",
      "ResourceWarning: Enable tracemalloc to get the object allocation traceback\n"
     ]
    },
    {
     "name": "stdout",
     "output_type": "stream",
     "text": [
      "DecisionTreeClassifier(criterion='entropy', random_state=0)\n",
      "Accuracy on PEH training set with 0.5 SMOTE decision tree: 1.0\n",
      "Accuracy on PEH test set with 0.5 SMOTE decision tree: 0.9984266834487099\n",
      "PEH decision tree \n",
      " [[9519    8]\n",
      " [   7    0]]\n",
      "PEH decision tree \n",
      "               precision    recall  f1-score   support\n",
      "\n",
      "           0       1.00      1.00      1.00      9527\n",
      "           1       0.00      0.00      0.00         7\n",
      "\n",
      "    accuracy                           1.00      9534\n",
      "   macro avg       0.50      0.50      0.50      9534\n",
      "weighted avg       1.00      1.00      1.00      9534\n",
      "\n"
     ]
    },
    {
     "name": "stderr",
     "output_type": "stream",
     "text": [
      "/opt/conda/lib/python3.7/site-packages/ipykernel_launcher.py:13: ResourceWarning: unclosed file <_io.BufferedWriter name='./Data Exploration/data/uc1/PEH_uc1_0.5_smote_dt_model.pkl'>\n",
      "  del sys.path[0]\n",
      "ResourceWarning: Enable tracemalloc to get the object allocation traceback\n"
     ]
    },
    {
     "name": "stdout",
     "output_type": "stream",
     "text": [
      "DecisionTreeClassifier(criterion='entropy', random_state=0)\n",
      "Accuracy on PEH training set with 0.6 SMOTE decision tree: 1.0\n",
      "Accuracy on PEH test set with 0.6 SMOTE decision tree: 0.9981120201384519\n",
      "PEH decision tree \n",
      " [[9516   11]\n",
      " [   7    0]]\n",
      "PEH decision tree \n",
      "               precision    recall  f1-score   support\n",
      "\n",
      "           0       1.00      1.00      1.00      9527\n",
      "           1       0.00      0.00      0.00         7\n",
      "\n",
      "    accuracy                           1.00      9534\n",
      "   macro avg       0.50      0.50      0.50      9534\n",
      "weighted avg       1.00      1.00      1.00      9534\n",
      "\n"
     ]
    },
    {
     "name": "stderr",
     "output_type": "stream",
     "text": [
      "/opt/conda/lib/python3.7/site-packages/ipykernel_launcher.py:13: ResourceWarning: unclosed file <_io.BufferedWriter name='./Data Exploration/data/uc1/PEH_uc1_0.6_smote_dt_model.pkl'>\n",
      "  del sys.path[0]\n",
      "ResourceWarning: Enable tracemalloc to get the object allocation traceback\n"
     ]
    },
    {
     "name": "stdout",
     "output_type": "stream",
     "text": [
      "DecisionTreeClassifier(criterion='entropy', random_state=0)\n",
      "Accuracy on PEH training set with 0.7000000000000001 SMOTE decision tree: 1.0\n",
      "Accuracy on PEH test set with 0.7000000000000001 SMOTE decision tree: 0.9981120201384519\n",
      "PEH decision tree \n",
      " [[9516   11]\n",
      " [   7    0]]\n",
      "PEH decision tree \n",
      "               precision    recall  f1-score   support\n",
      "\n",
      "           0       1.00      1.00      1.00      9527\n",
      "           1       0.00      0.00      0.00         7\n",
      "\n",
      "    accuracy                           1.00      9534\n",
      "   macro avg       0.50      0.50      0.50      9534\n",
      "weighted avg       1.00      1.00      1.00      9534\n",
      "\n"
     ]
    },
    {
     "name": "stderr",
     "output_type": "stream",
     "text": [
      "/opt/conda/lib/python3.7/site-packages/ipykernel_launcher.py:13: ResourceWarning: unclosed file <_io.BufferedWriter name='./Data Exploration/data/uc1/PEH_uc1_0.7000000000000001_smote_dt_model.pkl'>\n",
      "  del sys.path[0]\n",
      "ResourceWarning: Enable tracemalloc to get the object allocation traceback\n"
     ]
    },
    {
     "name": "stdout",
     "output_type": "stream",
     "text": [
      "DecisionTreeClassifier(criterion='entropy', random_state=0)\n",
      "Accuracy on PEH training set with 0.8 SMOTE decision tree: 1.0\n",
      "Accuracy on PEH test set with 0.8 SMOTE decision tree: 0.9976924690581078\n",
      "PEH decision tree \n",
      " [[9512   15]\n",
      " [   7    0]]\n",
      "PEH decision tree \n",
      "               precision    recall  f1-score   support\n",
      "\n",
      "           0       1.00      1.00      1.00      9527\n",
      "           1       0.00      0.00      0.00         7\n",
      "\n",
      "    accuracy                           1.00      9534\n",
      "   macro avg       0.50      0.50      0.50      9534\n",
      "weighted avg       1.00      1.00      1.00      9534\n",
      "\n"
     ]
    },
    {
     "name": "stderr",
     "output_type": "stream",
     "text": [
      "/opt/conda/lib/python3.7/site-packages/ipykernel_launcher.py:13: ResourceWarning: unclosed file <_io.BufferedWriter name='./Data Exploration/data/uc1/PEH_uc1_0.8_smote_dt_model.pkl'>\n",
      "  del sys.path[0]\n",
      "ResourceWarning: Enable tracemalloc to get the object allocation traceback\n"
     ]
    },
    {
     "name": "stdout",
     "output_type": "stream",
     "text": [
      "DecisionTreeClassifier(criterion='entropy', random_state=0)\n",
      "Accuracy on PEH training set with 0.9 SMOTE decision tree: 1.0\n",
      "Accuracy on PEH test set with 0.9 SMOTE decision tree: 0.9980071323683658\n",
      "PEH decision tree \n",
      " [[9515   12]\n",
      " [   7    0]]\n",
      "PEH decision tree \n",
      "               precision    recall  f1-score   support\n",
      "\n",
      "           0       1.00      1.00      1.00      9527\n",
      "           1       0.00      0.00      0.00         7\n",
      "\n",
      "    accuracy                           1.00      9534\n",
      "   macro avg       0.50      0.50      0.50      9534\n",
      "weighted avg       1.00      1.00      1.00      9534\n",
      "\n"
     ]
    },
    {
     "name": "stderr",
     "output_type": "stream",
     "text": [
      "/opt/conda/lib/python3.7/site-packages/ipykernel_launcher.py:13: ResourceWarning: unclosed file <_io.BufferedWriter name='./Data Exploration/data/uc1/PEH_uc1_0.9_smote_dt_model.pkl'>\n",
      "  del sys.path[0]\n",
      "ResourceWarning: Enable tracemalloc to get the object allocation traceback\n"
     ]
    },
    {
     "name": "stdout",
     "output_type": "stream",
     "text": [
      "DecisionTreeClassifier(criterion='entropy', random_state=0)\n",
      "Accuracy on PEH training set with 1.0 SMOTE decision tree: 1.0\n",
      "Accuracy on PEH test set with 1.0 SMOTE decision tree: 0.9982169079085379\n",
      "PEH decision tree \n",
      " [[9517   10]\n",
      " [   7    0]]\n",
      "PEH decision tree \n",
      "               precision    recall  f1-score   support\n",
      "\n",
      "           0       1.00      1.00      1.00      9527\n",
      "           1       0.00      0.00      0.00         7\n",
      "\n",
      "    accuracy                           1.00      9534\n",
      "   macro avg       0.50      0.50      0.50      9534\n",
      "weighted avg       1.00      1.00      1.00      9534\n",
      "\n"
     ]
    },
    {
     "name": "stderr",
     "output_type": "stream",
     "text": [
      "/opt/conda/lib/python3.7/site-packages/ipykernel_launcher.py:13: ResourceWarning: unclosed file <_io.BufferedWriter name='./Data Exploration/data/uc1/PEH_uc1_1.0_smote_dt_model.pkl'>\n",
      "  del sys.path[0]\n",
      "ResourceWarning: Enable tracemalloc to get the object allocation traceback\n"
     ]
    }
   ],
   "source": [
    "for hosp in dict_df_X_train:\n",
    "    for sample in np.arange(0.1, 1.1, 0.1):\n",
    "        sm_ss = SMOTE(random_state=55,sampling_strategy=sample)\n",
    "        X_train_ss, y_train_ss = sm_ss.fit_sample(dict_df_X_train[hosp], dict_df_y_train[hosp])\n",
    "        \n",
    "        model = DecisionTreeClassifier(criterion=criterion,random_state=rand_seed)\n",
    "        model.fit(X_train_ss, y_train_ss)\n",
    "        print(model)\n",
    "        print(f\"Accuracy on {hosp} training set with {sample} SMOTE decision tree: {model.score(X_train_ss, y_train_ss)}\")\n",
    "        print(f\"Accuracy on {hosp} test set with {sample} SMOTE decision tree: {model.score(dict_df_X_test[hosp], dict_df_y_test[hosp])}\")\n",
    "    \n",
    "        filename = file_dir + f'{hosp}_uc1_{sample}_smote_dt_model.pkl'\n",
    "        pickle.dump(model, open(filename, 'wb'))\n",
    "        \n",
    "        y_pred = model.predict(dict_df_X_test[hosp])\n",
    "        print(hosp, 'decision tree \\n', confusion_matrix(dict_df_y_test[hosp], y_pred))  \n",
    "        print(hosp, 'decision tree \\n', classification_report(dict_df_y_test[hosp], y_pred)) "
   ]
  },
  {
   "cell_type": "markdown",
   "metadata": {},
   "source": [
    "## LOGISTIC REGRESSION"
   ]
  },
  {
   "cell_type": "markdown",
   "metadata": {},
   "source": [
    "### Logistic Regression Without SMOTE"
   ]
  },
  {
   "cell_type": "code",
   "execution_count": 14,
   "metadata": {},
   "outputs": [
    {
     "name": "stderr",
     "output_type": "stream",
     "text": [
      "/opt/conda/lib/python3.7/site-packages/ipykernel/ipkernel.py:287: DeprecationWarning: `should_run_async` will not call `transform_cell` automatically in the future. Please pass the result to `transformed_cell` argument and any exception that happen during thetransform in `preprocessing_exc_tuple` in IPython 7.17 and above.\n",
      "  and should_run_async(code)\n"
     ]
    }
   ],
   "source": [
    "from sklearn.linear_model import LogisticRegression"
   ]
  },
  {
   "cell_type": "code",
   "execution_count": 15,
   "metadata": {},
   "outputs": [],
   "source": [
    "reg_strength = 0.01"
   ]
  },
  {
   "cell_type": "code",
   "execution_count": 16,
   "metadata": {},
   "outputs": [
    {
     "name": "stderr",
     "output_type": "stream",
     "text": [
      "/opt/conda/lib/python3.7/site-packages/sklearn/utils/validation.py:72: DataConversionWarning: A column-vector y was passed when a 1d array was expected. Please change the shape of y to (n_samples, ), for example using ravel().\n",
      "  return f(**kwargs)\n"
     ]
    },
    {
     "name": "stdout",
     "output_type": "stream",
     "text": [
      "LogisticRegression(C=0.01)\n",
      "PEH Training set without SMOTE log reg score: 0.9992658369458817\n",
      "PEH Test set without SMOTE log reg score: 0.9992657856093979\n",
      "PEH log reg \n",
      " [[9527    0]\n",
      " [   7    0]]\n",
      "PEH log reg \n",
      "               precision    recall  f1-score   support\n",
      "\n",
      "           0       1.00      1.00      1.00      9527\n",
      "           1       0.00      0.00      0.00         7\n",
      "\n",
      "    accuracy                           1.00      9534\n",
      "   macro avg       0.50      0.50      0.50      9534\n",
      "weighted avg       1.00      1.00      1.00      9534\n",
      "\n"
     ]
    },
    {
     "name": "stderr",
     "output_type": "stream",
     "text": [
      "/opt/conda/lib/python3.7/site-packages/ipykernel_launcher.py:8: ResourceWarning: unclosed file <_io.BufferedWriter name='./Data Exploration/data/uc1/PEH_uc1_no_smote_logreg_model.pkl'>\n",
      "  \n",
      "ResourceWarning: Enable tracemalloc to get the object allocation traceback\n",
      "/opt/conda/lib/python3.7/site-packages/sklearn/metrics/_classification.py:1221: UndefinedMetricWarning: Precision and F-score are ill-defined and being set to 0.0 in labels with no predicted samples. Use `zero_division` parameter to control this behavior.\n",
      "  _warn_prf(average, modifier, msg_start, len(result))\n"
     ]
    }
   ],
   "source": [
    "for hosp in dict_df_X_train:\n",
    "    model = LogisticRegression(C=reg_strength).fit(dict_df_X_train[hosp], dict_df_y_train[hosp])\n",
    "    print(model)\n",
    "    print(f\"{hosp} Training set without SMOTE log reg score: {model.score(dict_df_X_train[hosp], dict_df_y_train[hosp])}\")\n",
    "    print(f\"{hosp} Test set without SMOTE log reg score: {model.score(dict_df_X_test[hosp], dict_df_y_test[hosp])}\")\n",
    "    \n",
    "    filename = file_dir + f'{hosp}_uc1_no_smote_logreg_model.pkl'\n",
    "    pickle.dump(model, open(filename, 'wb'))\n",
    "    \n",
    "    y_pred = model.predict(dict_df_X_test[hosp])\n",
    "    print(hosp, 'log reg \\n', confusion_matrix(dict_df_y_test[hosp], y_pred))  \n",
    "    print(hosp, 'log reg \\n', classification_report(dict_df_y_test[hosp], y_pred)) "
   ]
  },
  {
   "cell_type": "markdown",
   "metadata": {},
   "source": [
    "### Logistic Regression With SMOTE"
   ]
  },
  {
   "cell_type": "markdown",
   "metadata": {},
   "source": [
    "#### Logistic Regression With SMOTE ss=0.1 ~ 1.0"
   ]
  },
  {
   "cell_type": "code",
   "execution_count": 17,
   "metadata": {},
   "outputs": [
    {
     "name": "stderr",
     "output_type": "stream",
     "text": [
      "/opt/conda/lib/python3.7/site-packages/ipykernel/ipkernel.py:287: DeprecationWarning: `should_run_async` will not call `transform_cell` automatically in the future. Please pass the result to `transformed_cell` argument and any exception that happen during thetransform in `preprocessing_exc_tuple` in IPython 7.17 and above.\n",
      "  and should_run_async(code)\n",
      "/opt/conda/lib/python3.7/site-packages/sklearn/utils/validation.py:72: DataConversionWarning: A column-vector y was passed when a 1d array was expected. Please change the shape of y to (n_samples, ), for example using ravel().\n",
      "  return f(**kwargs)\n"
     ]
    },
    {
     "name": "stdout",
     "output_type": "stream",
     "text": [
      "LogisticRegression(C=0.01)\n",
      "PEH Training set with 0.1 SMOTE log reg score: 0.9681615776081425\n",
      "PEH Test set with 0.1 SMOTE log reg score: 0.9950702748059577\n",
      "PEH log reg \n",
      " [[9487   40]\n",
      " [   7    0]]\n",
      "PEH log reg \n",
      "               precision    recall  f1-score   support\n",
      "\n",
      "           0       1.00      1.00      1.00      9527\n",
      "           1       0.00      0.00      0.00         7\n",
      "\n",
      "    accuracy                           1.00      9534\n",
      "   macro avg       0.50      0.50      0.50      9534\n",
      "weighted avg       1.00      1.00      1.00      9534\n",
      "\n"
     ]
    },
    {
     "name": "stderr",
     "output_type": "stream",
     "text": [
      "/opt/conda/lib/python3.7/site-packages/ipykernel_launcher.py:12: ResourceWarning: unclosed file <_io.BufferedWriter name='./Data Exploration/data/uc1/PEH_uc1_0.1_smote_logreg_model.pkl'>\n",
      "  if sys.path[0] == '':\n",
      "ResourceWarning: Enable tracemalloc to get the object allocation traceback\n",
      "/opt/conda/lib/python3.7/site-packages/sklearn/utils/validation.py:72: DataConversionWarning: A column-vector y was passed when a 1d array was expected. Please change the shape of y to (n_samples, ), for example using ravel().\n",
      "  return f(**kwargs)\n"
     ]
    },
    {
     "name": "stdout",
     "output_type": "stream",
     "text": [
      "LogisticRegression(C=0.01)\n",
      "PEH Training set with 0.2 SMOTE log reg score: 0.988891480552802\n",
      "PEH Test set with 0.2 SMOTE log reg score: 0.9899307740717432\n",
      "PEH log reg \n",
      " [[9437   90]\n",
      " [   6    1]]\n",
      "PEH log reg \n",
      "               precision    recall  f1-score   support\n",
      "\n",
      "           0       1.00      0.99      0.99      9527\n",
      "           1       0.01      0.14      0.02         7\n",
      "\n",
      "    accuracy                           0.99      9534\n",
      "   macro avg       0.51      0.57      0.51      9534\n",
      "weighted avg       1.00      0.99      0.99      9534\n",
      "\n"
     ]
    },
    {
     "name": "stderr",
     "output_type": "stream",
     "text": [
      "/opt/conda/lib/python3.7/site-packages/ipykernel_launcher.py:12: ResourceWarning: unclosed file <_io.BufferedWriter name='./Data Exploration/data/uc1/PEH_uc1_0.2_smote_logreg_model.pkl'>\n",
      "  if sys.path[0] == '':\n",
      "ResourceWarning: Enable tracemalloc to get the object allocation traceback\n",
      "/opt/conda/lib/python3.7/site-packages/sklearn/utils/validation.py:72: DataConversionWarning: A column-vector y was passed when a 1d array was expected. Please change the shape of y to (n_samples, ), for example using ravel().\n",
      "  return f(**kwargs)\n"
     ]
    },
    {
     "name": "stdout",
     "output_type": "stream",
     "text": [
      "LogisticRegression(C=0.01)\n",
      "PEH Training set with 0.30000000000000004 SMOTE log reg score: 0.9900419851437183\n",
      "PEH Test set with 0.30000000000000004 SMOTE log reg score: 0.9856303754982169\n",
      "PEH log reg \n",
      " [[9395  132]\n",
      " [   5    2]]\n",
      "PEH log reg \n",
      "               precision    recall  f1-score   support\n",
      "\n",
      "           0       1.00      0.99      0.99      9527\n",
      "           1       0.01      0.29      0.03         7\n",
      "\n",
      "    accuracy                           0.99      9534\n",
      "   macro avg       0.51      0.64      0.51      9534\n",
      "weighted avg       1.00      0.99      0.99      9534\n",
      "\n"
     ]
    },
    {
     "name": "stderr",
     "output_type": "stream",
     "text": [
      "/opt/conda/lib/python3.7/site-packages/ipykernel_launcher.py:12: ResourceWarning: unclosed file <_io.BufferedWriter name='./Data Exploration/data/uc1/PEH_uc1_0.30000000000000004_smote_logreg_model.pkl'>\n",
      "  if sys.path[0] == '':\n",
      "ResourceWarning: Enable tracemalloc to get the object allocation traceback\n",
      "/opt/conda/lib/python3.7/site-packages/sklearn/utils/validation.py:72: DataConversionWarning: A column-vector y was passed when a 1d array was expected. Please change the shape of y to (n_samples, ), for example using ravel().\n",
      "  return f(**kwargs)\n"
     ]
    },
    {
     "name": "stdout",
     "output_type": "stream",
     "text": [
      "LogisticRegression(C=0.01)\n",
      "PEH Training set with 0.4 SMOTE log reg score: 0.9879542160243915\n",
      "PEH Test set with 0.4 SMOTE log reg score: 0.9822739668554646\n",
      "PEH log reg \n",
      " [[9363  164]\n",
      " [   5    2]]\n",
      "PEH log reg \n",
      "               precision    recall  f1-score   support\n",
      "\n",
      "           0       1.00      0.98      0.99      9527\n",
      "           1       0.01      0.29      0.02         7\n",
      "\n",
      "    accuracy                           0.98      9534\n",
      "   macro avg       0.51      0.63      0.51      9534\n",
      "weighted avg       1.00      0.98      0.99      9534\n",
      "\n"
     ]
    },
    {
     "name": "stderr",
     "output_type": "stream",
     "text": [
      "/opt/conda/lib/python3.7/site-packages/ipykernel_launcher.py:12: ResourceWarning: unclosed file <_io.BufferedWriter name='./Data Exploration/data/uc1/PEH_uc1_0.4_smote_logreg_model.pkl'>\n",
      "  if sys.path[0] == '':\n",
      "ResourceWarning: Enable tracemalloc to get the object allocation traceback\n",
      "/opt/conda/lib/python3.7/site-packages/sklearn/utils/validation.py:72: DataConversionWarning: A column-vector y was passed when a 1d array was expected. Please change the shape of y to (n_samples, ), for example using ravel().\n",
      "  return f(**kwargs)\n"
     ]
    },
    {
     "name": "stdout",
     "output_type": "stream",
     "text": [
      "LogisticRegression(C=0.01)\n",
      "PEH Training set with 0.5 SMOTE log reg score: 0.9870781144309939\n",
      "PEH Test set with 0.5 SMOTE log reg score: 0.9800713236836585\n",
      "PEH log reg \n",
      " [[9342  185]\n",
      " [   5    2]]\n",
      "PEH log reg \n",
      "               precision    recall  f1-score   support\n",
      "\n",
      "           0       1.00      0.98      0.99      9527\n",
      "           1       0.01      0.29      0.02         7\n",
      "\n",
      "    accuracy                           0.98      9534\n",
      "   macro avg       0.51      0.63      0.51      9534\n",
      "weighted avg       1.00      0.98      0.99      9534\n",
      "\n"
     ]
    },
    {
     "name": "stderr",
     "output_type": "stream",
     "text": [
      "/opt/conda/lib/python3.7/site-packages/ipykernel_launcher.py:12: ResourceWarning: unclosed file <_io.BufferedWriter name='./Data Exploration/data/uc1/PEH_uc1_0.5_smote_logreg_model.pkl'>\n",
      "  if sys.path[0] == '':\n",
      "ResourceWarning: Enable tracemalloc to get the object allocation traceback\n",
      "/opt/conda/lib/python3.7/site-packages/sklearn/utils/validation.py:72: DataConversionWarning: A column-vector y was passed when a 1d array was expected. Please change the shape of y to (n_samples, ), for example using ravel().\n",
      "  return f(**kwargs)\n"
     ]
    },
    {
     "name": "stdout",
     "output_type": "stream",
     "text": [
      "LogisticRegression(C=0.01)\n",
      "PEH Training set with 0.6 SMOTE log reg score: 0.9862237869279045\n",
      "PEH Test set with 0.6 SMOTE log reg score: 0.9773442416614223\n",
      "PEH log reg \n",
      " [[9316  211]\n",
      " [   5    2]]\n",
      "PEH log reg \n",
      "               precision    recall  f1-score   support\n",
      "\n",
      "           0       1.00      0.98      0.99      9527\n",
      "           1       0.01      0.29      0.02         7\n",
      "\n",
      "    accuracy                           0.98      9534\n",
      "   macro avg       0.50      0.63      0.50      9534\n",
      "weighted avg       1.00      0.98      0.99      9534\n",
      "\n"
     ]
    },
    {
     "name": "stderr",
     "output_type": "stream",
     "text": [
      "/opt/conda/lib/python3.7/site-packages/ipykernel_launcher.py:12: ResourceWarning: unclosed file <_io.BufferedWriter name='./Data Exploration/data/uc1/PEH_uc1_0.6_smote_logreg_model.pkl'>\n",
      "  if sys.path[0] == '':\n",
      "ResourceWarning: Enable tracemalloc to get the object allocation traceback\n",
      "/opt/conda/lib/python3.7/site-packages/sklearn/utils/validation.py:72: DataConversionWarning: A column-vector y was passed when a 1d array was expected. Please change the shape of y to (n_samples, ), for example using ravel().\n",
      "  return f(**kwargs)\n"
     ]
    },
    {
     "name": "stdout",
     "output_type": "stream",
     "text": [
      "LogisticRegression(C=0.01)\n",
      "PEH Training set with 0.7000000000000001 SMOTE log reg score: 0.9855934470764988\n",
      "PEH Test set with 0.7000000000000001 SMOTE log reg score: 0.973882945248584\n",
      "PEH log reg \n",
      " [[9283  244]\n",
      " [   5    2]]\n",
      "PEH log reg \n",
      "               precision    recall  f1-score   support\n",
      "\n",
      "           0       1.00      0.97      0.99      9527\n",
      "           1       0.01      0.29      0.02         7\n",
      "\n",
      "    accuracy                           0.97      9534\n",
      "   macro avg       0.50      0.63      0.50      9534\n",
      "weighted avg       1.00      0.97      0.99      9534\n",
      "\n"
     ]
    },
    {
     "name": "stderr",
     "output_type": "stream",
     "text": [
      "/opt/conda/lib/python3.7/site-packages/ipykernel_launcher.py:12: ResourceWarning: unclosed file <_io.BufferedWriter name='./Data Exploration/data/uc1/PEH_uc1_0.7000000000000001_smote_logreg_model.pkl'>\n",
      "  if sys.path[0] == '':\n",
      "ResourceWarning: Enable tracemalloc to get the object allocation traceback\n",
      "/opt/conda/lib/python3.7/site-packages/sklearn/utils/validation.py:72: DataConversionWarning: A column-vector y was passed when a 1d array was expected. Please change the shape of y to (n_samples, ), for example using ravel().\n",
      "  return f(**kwargs)\n"
     ]
    },
    {
     "name": "stdout",
     "output_type": "stream",
     "text": [
      "LogisticRegression(C=0.01)\n",
      "PEH Training set with 0.8 SMOTE log reg score: 0.9850914533403309\n",
      "PEH Test set with 0.8 SMOTE log reg score: 0.9716803020767778\n",
      "PEH log reg \n",
      " [[9262  265]\n",
      " [   5    2]]\n",
      "PEH log reg \n",
      "               precision    recall  f1-score   support\n",
      "\n",
      "           0       1.00      0.97      0.99      9527\n",
      "           1       0.01      0.29      0.01         7\n",
      "\n",
      "    accuracy                           0.97      9534\n",
      "   macro avg       0.50      0.63      0.50      9534\n",
      "weighted avg       1.00      0.97      0.98      9534\n",
      "\n"
     ]
    },
    {
     "name": "stderr",
     "output_type": "stream",
     "text": [
      "/opt/conda/lib/python3.7/site-packages/ipykernel_launcher.py:12: ResourceWarning: unclosed file <_io.BufferedWriter name='./Data Exploration/data/uc1/PEH_uc1_0.8_smote_logreg_model.pkl'>\n",
      "  if sys.path[0] == '':\n",
      "ResourceWarning: Enable tracemalloc to get the object allocation traceback\n",
      "/opt/conda/lib/python3.7/site-packages/sklearn/utils/validation.py:72: DataConversionWarning: A column-vector y was passed when a 1d array was expected. Please change the shape of y to (n_samples, ), for example using ravel().\n",
      "  return f(**kwargs)\n"
     ]
    },
    {
     "name": "stdout",
     "output_type": "stream",
     "text": [
      "LogisticRegression(C=0.01)\n",
      "PEH Training set with 0.9 SMOTE log reg score: 0.984826443237271\n",
      "PEH Test set with 0.9 SMOTE log reg score: 0.9687434445143697\n",
      "PEH log reg \n",
      " [[9234  293]\n",
      " [   5    2]]\n",
      "PEH log reg \n",
      "               precision    recall  f1-score   support\n",
      "\n",
      "           0       1.00      0.97      0.98      9527\n",
      "           1       0.01      0.29      0.01         7\n",
      "\n",
      "    accuracy                           0.97      9534\n",
      "   macro avg       0.50      0.63      0.50      9534\n",
      "weighted avg       1.00      0.97      0.98      9534\n",
      "\n"
     ]
    },
    {
     "name": "stderr",
     "output_type": "stream",
     "text": [
      "/opt/conda/lib/python3.7/site-packages/ipykernel_launcher.py:12: ResourceWarning: unclosed file <_io.BufferedWriter name='./Data Exploration/data/uc1/PEH_uc1_0.9_smote_logreg_model.pkl'>\n",
      "  if sys.path[0] == '':\n",
      "ResourceWarning: Enable tracemalloc to get the object allocation traceback\n",
      "/opt/conda/lib/python3.7/site-packages/sklearn/utils/validation.py:72: DataConversionWarning: A column-vector y was passed when a 1d array was expected. Please change the shape of y to (n_samples, ), for example using ravel().\n",
      "  return f(**kwargs)\n"
     ]
    },
    {
     "name": "stdout",
     "output_type": "stream",
     "text": [
      "LogisticRegression(C=0.01)\n",
      "PEH Training set with 1.0 SMOTE log reg score: 0.984710657056889\n",
      "PEH Test set with 1.0 SMOTE log reg score: 0.9670652401929934\n",
      "PEH log reg \n",
      " [[9218  309]\n",
      " [   5    2]]\n",
      "PEH log reg \n",
      "               precision    recall  f1-score   support\n",
      "\n",
      "           0       1.00      0.97      0.98      9527\n",
      "           1       0.01      0.29      0.01         7\n",
      "\n",
      "    accuracy                           0.97      9534\n",
      "   macro avg       0.50      0.63      0.50      9534\n",
      "weighted avg       1.00      0.97      0.98      9534\n",
      "\n"
     ]
    },
    {
     "name": "stderr",
     "output_type": "stream",
     "text": [
      "/opt/conda/lib/python3.7/site-packages/ipykernel_launcher.py:12: ResourceWarning: unclosed file <_io.BufferedWriter name='./Data Exploration/data/uc1/PEH_uc1_1.0_smote_logreg_model.pkl'>\n",
      "  if sys.path[0] == '':\n",
      "ResourceWarning: Enable tracemalloc to get the object allocation traceback\n"
     ]
    }
   ],
   "source": [
    "for hosp in dict_df_X_train:\n",
    "    for sample in np.arange(0.1, 1.1, 0.1):\n",
    "        sm_ss = SMOTE(random_state=55,sampling_strategy=sample)\n",
    "        X_train_ss, y_train_ss = sm_ss.fit_sample(dict_df_X_train[hosp], dict_df_y_train[hosp])\n",
    "        \n",
    "        model = LogisticRegression(C=reg_strength).fit(X_train_ss, y_train_ss)\n",
    "        print(model)\n",
    "        print(f\"{hosp} Training set with {sample} SMOTE log reg score: {model.score(X_train_ss, y_train_ss)}\")\n",
    "        print(f\"{hosp} Test set with {sample} SMOTE log reg score: {model.score(dict_df_X_test[hosp], dict_df_y_test[hosp])}\")\n",
    "\n",
    "        filename = file_dir + f'{hosp}_uc1_{sample}_smote_logreg_model.pkl'\n",
    "        pickle.dump(model, open(filename, 'wb'))\n",
    "\n",
    "        y_pred = model.predict(dict_df_X_test[hosp])\n",
    "        print(hosp, 'log reg \\n', confusion_matrix(dict_df_y_test[hosp], y_pred))  \n",
    "        print(hosp, 'log reg \\n', classification_report(dict_df_y_test[hosp], y_pred)) "
   ]
  },
  {
   "cell_type": "markdown",
   "metadata": {},
   "source": [
    "## NAIVE BAYES"
   ]
  },
  {
   "cell_type": "markdown",
   "metadata": {},
   "source": [
    "### Naive Bayes Without SMOTE"
   ]
  },
  {
   "cell_type": "code",
   "execution_count": 18,
   "metadata": {},
   "outputs": [
    {
     "name": "stderr",
     "output_type": "stream",
     "text": [
      "/opt/conda/lib/python3.7/site-packages/ipykernel/ipkernel.py:287: DeprecationWarning: `should_run_async` will not call `transform_cell` automatically in the future. Please pass the result to `transformed_cell` argument and any exception that happen during thetransform in `preprocessing_exc_tuple` in IPython 7.17 and above.\n",
      "  and should_run_async(code)\n"
     ]
    }
   ],
   "source": [
    "from sklearn.naive_bayes import GaussianNB"
   ]
  },
  {
   "cell_type": "code",
   "execution_count": 19,
   "metadata": {},
   "outputs": [
    {
     "name": "stderr",
     "output_type": "stream",
     "text": [
      "/opt/conda/lib/python3.7/site-packages/sklearn/utils/validation.py:72: DataConversionWarning: A column-vector y was passed when a 1d array was expected. Please change the shape of y to (n_samples, ), for example using ravel().\n",
      "  return f(**kwargs)\n"
     ]
    },
    {
     "name": "stdout",
     "output_type": "stream",
     "text": [
      "GaussianNB()\n"
     ]
    },
    {
     "name": "stderr",
     "output_type": "stream",
     "text": [
      "/opt/conda/lib/python3.7/site-packages/ipykernel_launcher.py:9: ResourceWarning: unclosed file <_io.BufferedWriter name='./Data Exploration/data/uc1/PEH_uc1_no_smote_nb_model.pkl'>\n",
      "  if __name__ == '__main__':\n",
      "ResourceWarning: Enable tracemalloc to get the object allocation traceback\n"
     ]
    },
    {
     "name": "stdout",
     "output_type": "stream",
     "text": [
      "PEH Training set without SMOTE Naive Bayes score: 0.9468256187945742\n",
      "PEH Test set without SMOTE Naive Bayes score: 0.9460876861757919\n",
      "PEH Naive Bayes \n",
      " [[9019  508]\n",
      " [   6    1]]\n",
      "PEH Naive Bayes \n",
      "               precision    recall  f1-score   support\n",
      "\n",
      "           0       1.00      0.95      0.97      9527\n",
      "           1       0.00      0.14      0.00         7\n",
      "\n",
      "    accuracy                           0.95      9534\n",
      "   macro avg       0.50      0.54      0.49      9534\n",
      "weighted avg       1.00      0.95      0.97      9534\n",
      "\n"
     ]
    }
   ],
   "source": [
    "for hosp in dict_df_X_train:\n",
    "    # Initiating the Gaussian Classifier\n",
    "    model = GaussianNB()\n",
    "\n",
    "    # Training your model \n",
    "    model.fit(dict_df_X_train[hosp], dict_df_y_train[hosp])\n",
    "    print(model)\n",
    "    filename = file_dir + f'{hosp}_uc1_no_smote_nb_model.pkl'\n",
    "    pickle.dump(model, open(filename, 'wb'))\n",
    "\n",
    "    # Score\n",
    "    print(f\"{hosp} Training set without SMOTE Naive Bayes score: {model.score(dict_df_X_train[hosp], dict_df_y_train[hosp])}\")\n",
    "    print(f\"{hosp} Test set without SMOTE Naive Bayes score: {model.score(dict_df_X_test[hosp], dict_df_y_test[hosp])}\")\n",
    "\n",
    "    # Confusion Matrix\n",
    "    y_pred = model.predict(dict_df_X_test[hosp])\n",
    "    print(hosp, 'Naive Bayes \\n', confusion_matrix(dict_df_y_test[hosp], y_pred))  \n",
    "    print(hosp, 'Naive Bayes \\n', classification_report(dict_df_y_test[hosp], y_pred)) "
   ]
  },
  {
   "cell_type": "markdown",
   "metadata": {},
   "source": [
    "### Naive Bayes With SMOTE"
   ]
  },
  {
   "cell_type": "markdown",
   "metadata": {},
   "source": [
    "#### Naive Bayes Without SMOTE ss=0.1 ~ 1.0"
   ]
  },
  {
   "cell_type": "code",
   "execution_count": 20,
   "metadata": {},
   "outputs": [
    {
     "name": "stderr",
     "output_type": "stream",
     "text": [
      "/opt/conda/lib/python3.7/site-packages/ipykernel/ipkernel.py:287: DeprecationWarning: `should_run_async` will not call `transform_cell` automatically in the future. Please pass the result to `transformed_cell` argument and any exception that happen during thetransform in `preprocessing_exc_tuple` in IPython 7.17 and above.\n",
      "  and should_run_async(code)\n",
      "/opt/conda/lib/python3.7/site-packages/sklearn/utils/validation.py:72: DataConversionWarning: A column-vector y was passed when a 1d array was expected. Please change the shape of y to (n_samples, ), for example using ravel().\n",
      "  return f(**kwargs)\n"
     ]
    },
    {
     "name": "stdout",
     "output_type": "stream",
     "text": [
      "GaussianNB()\n"
     ]
    },
    {
     "name": "stderr",
     "output_type": "stream",
     "text": [
      "/opt/conda/lib/python3.7/site-packages/ipykernel_launcher.py:13: ResourceWarning: unclosed file <_io.BufferedWriter name='./Data Exploration/data/uc1/PEH_uc1_0.1_smote_nb_model.pkl'>\n",
      "  del sys.path[0]\n",
      "ResourceWarning: Enable tracemalloc to get the object allocation traceback\n"
     ]
    },
    {
     "name": "stdout",
     "output_type": "stream",
     "text": [
      "PEH Training set with 0.1 SMOTE Naive Bayes score: 0.9516221374045801\n",
      "PEH Test set with 0.1 SMOTE Naive Bayes score: 0.9460876861757919\n",
      "PEH Naive Bayes\n",
      " [[9019  508]\n",
      " [   6    1]]\n",
      "PEH Naive Bayes\n",
      "               precision    recall  f1-score   support\n",
      "\n",
      "           0       1.00      0.95      0.97      9527\n",
      "           1       0.00      0.14      0.00         7\n",
      "\n",
      "    accuracy                           0.95      9534\n",
      "   macro avg       0.50      0.54      0.49      9534\n",
      "weighted avg       1.00      0.95      0.97      9534\n",
      "\n"
     ]
    },
    {
     "name": "stderr",
     "output_type": "stream",
     "text": [
      "/opt/conda/lib/python3.7/site-packages/sklearn/utils/validation.py:72: DataConversionWarning: A column-vector y was passed when a 1d array was expected. Please change the shape of y to (n_samples, ), for example using ravel().\n",
      "  return f(**kwargs)\n"
     ]
    },
    {
     "name": "stdout",
     "output_type": "stream",
     "text": [
      "GaussianNB()\n"
     ]
    },
    {
     "name": "stderr",
     "output_type": "stream",
     "text": [
      "/opt/conda/lib/python3.7/site-packages/ipykernel_launcher.py:13: ResourceWarning: unclosed file <_io.BufferedWriter name='./Data Exploration/data/uc1/PEH_uc1_0.2_smote_nb_model.pkl'>\n",
      "  del sys.path[0]\n",
      "ResourceWarning: Enable tracemalloc to get the object allocation traceback\n"
     ]
    },
    {
     "name": "stdout",
     "output_type": "stream",
     "text": [
      "PEH Training set with 0.2 SMOTE Naive Bayes score: 0.9556533908682722\n",
      "PEH Test set with 0.2 SMOTE Naive Bayes score: 0.9460876861757919\n",
      "PEH Naive Bayes\n",
      " [[9019  508]\n",
      " [   6    1]]\n",
      "PEH Naive Bayes\n",
      "               precision    recall  f1-score   support\n",
      "\n",
      "           0       1.00      0.95      0.97      9527\n",
      "           1       0.00      0.14      0.00         7\n",
      "\n",
      "    accuracy                           0.95      9534\n",
      "   macro avg       0.50      0.54      0.49      9534\n",
      "weighted avg       1.00      0.95      0.97      9534\n",
      "\n"
     ]
    },
    {
     "name": "stderr",
     "output_type": "stream",
     "text": [
      "/opt/conda/lib/python3.7/site-packages/sklearn/utils/validation.py:72: DataConversionWarning: A column-vector y was passed when a 1d array was expected. Please change the shape of y to (n_samples, ), for example using ravel().\n",
      "  return f(**kwargs)\n"
     ]
    },
    {
     "name": "stdout",
     "output_type": "stream",
     "text": [
      "GaussianNB()\n"
     ]
    },
    {
     "name": "stderr",
     "output_type": "stream",
     "text": [
      "/opt/conda/lib/python3.7/site-packages/ipykernel_launcher.py:13: ResourceWarning: unclosed file <_io.BufferedWriter name='./Data Exploration/data/uc1/PEH_uc1_0.30000000000000004_smote_nb_model.pkl'>\n",
      "  del sys.path[0]\n",
      "ResourceWarning: Enable tracemalloc to get the object allocation traceback\n"
     ]
    },
    {
     "name": "stdout",
     "output_type": "stream",
     "text": [
      "PEH Training set with 0.30000000000000004 SMOTE Naive Bayes score: 0.9590644848745828\n",
      "PEH Test set with 0.30000000000000004 SMOTE Naive Bayes score: 0.9460876861757919\n",
      "PEH Naive Bayes\n",
      " [[9019  508]\n",
      " [   6    1]]\n",
      "PEH Naive Bayes\n",
      "               precision    recall  f1-score   support\n",
      "\n",
      "           0       1.00      0.95      0.97      9527\n",
      "           1       0.00      0.14      0.00         7\n",
      "\n",
      "    accuracy                           0.95      9534\n",
      "   macro avg       0.50      0.54      0.49      9534\n",
      "weighted avg       1.00      0.95      0.97      9534\n",
      "\n"
     ]
    },
    {
     "name": "stderr",
     "output_type": "stream",
     "text": [
      "/opt/conda/lib/python3.7/site-packages/sklearn/utils/validation.py:72: DataConversionWarning: A column-vector y was passed when a 1d array was expected. Please change the shape of y to (n_samples, ), for example using ravel().\n",
      "  return f(**kwargs)\n"
     ]
    },
    {
     "name": "stdout",
     "output_type": "stream",
     "text": [
      "GaussianNB()\n"
     ]
    },
    {
     "name": "stderr",
     "output_type": "stream",
     "text": [
      "/opt/conda/lib/python3.7/site-packages/ipykernel_launcher.py:13: ResourceWarning: unclosed file <_io.BufferedWriter name='./Data Exploration/data/uc1/PEH_uc1_0.4_smote_nb_model.pkl'>\n",
      "  del sys.path[0]\n",
      "ResourceWarning: Enable tracemalloc to get the object allocation traceback\n"
     ]
    },
    {
     "name": "stdout",
     "output_type": "stream",
     "text": [
      "PEH Training set with 0.4 SMOTE Naive Bayes score: 0.9619883040935673\n",
      "PEH Test set with 0.4 SMOTE Naive Bayes score: 0.9460876861757919\n",
      "PEH Naive Bayes\n",
      " [[9019  508]\n",
      " [   6    1]]\n",
      "PEH Naive Bayes\n",
      "               precision    recall  f1-score   support\n",
      "\n",
      "           0       1.00      0.95      0.97      9527\n",
      "           1       0.00      0.14      0.00         7\n",
      "\n",
      "    accuracy                           0.95      9534\n",
      "   macro avg       0.50      0.54      0.49      9534\n",
      "weighted avg       1.00      0.95      0.97      9534\n",
      "\n"
     ]
    },
    {
     "name": "stderr",
     "output_type": "stream",
     "text": [
      "/opt/conda/lib/python3.7/site-packages/sklearn/utils/validation.py:72: DataConversionWarning: A column-vector y was passed when a 1d array was expected. Please change the shape of y to (n_samples, ), for example using ravel().\n",
      "  return f(**kwargs)\n"
     ]
    },
    {
     "name": "stdout",
     "output_type": "stream",
     "text": [
      "GaussianNB()\n"
     ]
    },
    {
     "name": "stderr",
     "output_type": "stream",
     "text": [
      "/opt/conda/lib/python3.7/site-packages/ipykernel_launcher.py:13: ResourceWarning: unclosed file <_io.BufferedWriter name='./Data Exploration/data/uc1/PEH_uc1_0.5_smote_nb_model.pkl'>\n",
      "  del sys.path[0]\n",
      "ResourceWarning: Enable tracemalloc to get the object allocation traceback\n"
     ]
    },
    {
     "name": "stdout",
     "output_type": "stream",
     "text": [
      "PEH Training set with 0.5 SMOTE Naive Bayes score: 0.964523126443216\n",
      "PEH Test set with 0.5 SMOTE Naive Bayes score: 0.9460876861757919\n",
      "PEH Naive Bayes\n",
      " [[9019  508]\n",
      " [   6    1]]\n",
      "PEH Naive Bayes\n",
      "               precision    recall  f1-score   support\n",
      "\n",
      "           0       1.00      0.95      0.97      9527\n",
      "           1       0.00      0.14      0.00         7\n",
      "\n",
      "    accuracy                           0.95      9534\n",
      "   macro avg       0.50      0.54      0.49      9534\n",
      "weighted avg       1.00      0.95      0.97      9534\n",
      "\n"
     ]
    },
    {
     "name": "stderr",
     "output_type": "stream",
     "text": [
      "/opt/conda/lib/python3.7/site-packages/sklearn/utils/validation.py:72: DataConversionWarning: A column-vector y was passed when a 1d array was expected. Please change the shape of y to (n_samples, ), for example using ravel().\n",
      "  return f(**kwargs)\n"
     ]
    },
    {
     "name": "stdout",
     "output_type": "stream",
     "text": [
      "GaussianNB()\n"
     ]
    },
    {
     "name": "stderr",
     "output_type": "stream",
     "text": [
      "/opt/conda/lib/python3.7/site-packages/ipykernel_launcher.py:13: ResourceWarning: unclosed file <_io.BufferedWriter name='./Data Exploration/data/uc1/PEH_uc1_0.6_smote_nb_model.pkl'>\n",
      "  del sys.path[0]\n",
      "ResourceWarning: Enable tracemalloc to get the object allocation traceback\n"
     ]
    },
    {
     "name": "stdout",
     "output_type": "stream",
     "text": [
      "PEH Training set with 0.6 SMOTE Naive Bayes score: 0.9667402855830837\n",
      "PEH Test set with 0.6 SMOTE Naive Bayes score: 0.9460876861757919\n",
      "PEH Naive Bayes\n",
      " [[9019  508]\n",
      " [   6    1]]\n",
      "PEH Naive Bayes\n",
      "               precision    recall  f1-score   support\n",
      "\n",
      "           0       1.00      0.95      0.97      9527\n",
      "           1       0.00      0.14      0.00         7\n",
      "\n",
      "    accuracy                           0.95      9534\n",
      "   macro avg       0.50      0.54      0.49      9534\n",
      "weighted avg       1.00      0.95      0.97      9534\n",
      "\n"
     ]
    },
    {
     "name": "stderr",
     "output_type": "stream",
     "text": [
      "/opt/conda/lib/python3.7/site-packages/sklearn/utils/validation.py:72: DataConversionWarning: A column-vector y was passed when a 1d array was expected. Please change the shape of y to (n_samples, ), for example using ravel().\n",
      "  return f(**kwargs)\n"
     ]
    },
    {
     "name": "stdout",
     "output_type": "stream",
     "text": [
      "GaussianNB()\n"
     ]
    },
    {
     "name": "stderr",
     "output_type": "stream",
     "text": [
      "/opt/conda/lib/python3.7/site-packages/ipykernel_launcher.py:13: ResourceWarning: unclosed file <_io.BufferedWriter name='./Data Exploration/data/uc1/PEH_uc1_0.7000000000000001_smote_nb_model.pkl'>\n",
      "  del sys.path[0]\n",
      "ResourceWarning: Enable tracemalloc to get the object allocation traceback\n"
     ]
    },
    {
     "name": "stdout",
     "output_type": "stream",
     "text": [
      "PEH Training set with 0.7000000000000001 SMOTE Naive Bayes score: 0.9686966185762209\n",
      "PEH Test set with 0.7000000000000001 SMOTE Naive Bayes score: 0.9460876861757919\n",
      "PEH Naive Bayes\n",
      " [[9019  508]\n",
      " [   6    1]]\n",
      "PEH Naive Bayes\n",
      "               precision    recall  f1-score   support\n",
      "\n",
      "           0       1.00      0.95      0.97      9527\n",
      "           1       0.00      0.14      0.00         7\n",
      "\n",
      "    accuracy                           0.95      9534\n",
      "   macro avg       0.50      0.54      0.49      9534\n",
      "weighted avg       1.00      0.95      0.97      9534\n",
      "\n"
     ]
    },
    {
     "name": "stderr",
     "output_type": "stream",
     "text": [
      "/opt/conda/lib/python3.7/site-packages/sklearn/utils/validation.py:72: DataConversionWarning: A column-vector y was passed when a 1d array was expected. Please change the shape of y to (n_samples, ), for example using ravel().\n",
      "  return f(**kwargs)\n"
     ]
    },
    {
     "name": "stdout",
     "output_type": "stream",
     "text": [
      "GaussianNB()\n"
     ]
    },
    {
     "name": "stderr",
     "output_type": "stream",
     "text": [
      "/opt/conda/lib/python3.7/site-packages/ipykernel_launcher.py:13: ResourceWarning: unclosed file <_io.BufferedWriter name='./Data Exploration/data/uc1/PEH_uc1_0.8_smote_nb_model.pkl'>\n",
      "  del sys.path[0]\n",
      "ResourceWarning: Enable tracemalloc to get the object allocation traceback\n"
     ]
    },
    {
     "name": "stdout",
     "output_type": "stream",
     "text": [
      "PEH Training set with 0.8 SMOTE Naive Bayes score: 0.9704355939121815\n",
      "PEH Test set with 0.8 SMOTE Naive Bayes score: 0.9460876861757919\n",
      "PEH Naive Bayes\n",
      " [[9019  508]\n",
      " [   6    1]]\n",
      "PEH Naive Bayes\n",
      "               precision    recall  f1-score   support\n",
      "\n",
      "           0       1.00      0.95      0.97      9527\n",
      "           1       0.00      0.14      0.00         7\n",
      "\n",
      "    accuracy                           0.95      9534\n",
      "   macro avg       0.50      0.54      0.49      9534\n",
      "weighted avg       1.00      0.95      0.97      9534\n",
      "\n"
     ]
    },
    {
     "name": "stderr",
     "output_type": "stream",
     "text": [
      "/opt/conda/lib/python3.7/site-packages/sklearn/utils/validation.py:72: DataConversionWarning: A column-vector y was passed when a 1d array was expected. Please change the shape of y to (n_samples, ), for example using ravel().\n",
      "  return f(**kwargs)\n"
     ]
    },
    {
     "name": "stdout",
     "output_type": "stream",
     "text": [
      "GaussianNB()\n"
     ]
    },
    {
     "name": "stderr",
     "output_type": "stream",
     "text": [
      "/opt/conda/lib/python3.7/site-packages/ipykernel_launcher.py:13: ResourceWarning: unclosed file <_io.BufferedWriter name='./Data Exploration/data/uc1/PEH_uc1_0.9_smote_nb_model.pkl'>\n",
      "  del sys.path[0]\n",
      "ResourceWarning: Enable tracemalloc to get the object allocation traceback\n"
     ]
    },
    {
     "name": "stdout",
     "output_type": "stream",
     "text": [
      "PEH Training set with 0.9 SMOTE Naive Bayes score: 0.9719915293251082\n",
      "PEH Test set with 0.9 SMOTE Naive Bayes score: 0.9460876861757919\n",
      "PEH Naive Bayes\n",
      " [[9019  508]\n",
      " [   6    1]]\n",
      "PEH Naive Bayes\n",
      "               precision    recall  f1-score   support\n",
      "\n",
      "           0       1.00      0.95      0.97      9527\n",
      "           1       0.00      0.14      0.00         7\n",
      "\n",
      "    accuracy                           0.95      9534\n",
      "   macro avg       0.50      0.54      0.49      9534\n",
      "weighted avg       1.00      0.95      0.97      9534\n",
      "\n"
     ]
    },
    {
     "name": "stderr",
     "output_type": "stream",
     "text": [
      "/opt/conda/lib/python3.7/site-packages/sklearn/utils/validation.py:72: DataConversionWarning: A column-vector y was passed when a 1d array was expected. Please change the shape of y to (n_samples, ), for example using ravel().\n",
      "  return f(**kwargs)\n"
     ]
    },
    {
     "name": "stdout",
     "output_type": "stream",
     "text": [
      "GaussianNB()\n"
     ]
    },
    {
     "name": "stderr",
     "output_type": "stream",
     "text": [
      "/opt/conda/lib/python3.7/site-packages/ipykernel_launcher.py:13: ResourceWarning: unclosed file <_io.BufferedWriter name='./Data Exploration/data/uc1/PEH_uc1_1.0_smote_nb_model.pkl'>\n",
      "  del sys.path[0]\n",
      "ResourceWarning: Enable tracemalloc to get the object allocation traceback\n"
     ]
    },
    {
     "name": "stdout",
     "output_type": "stream",
     "text": [
      "PEH Training set with 1.0 SMOTE Naive Bayes score: 0.973392344832412\n",
      "PEH Test set with 1.0 SMOTE Naive Bayes score: 0.9460876861757919\n",
      "PEH Naive Bayes\n",
      " [[9019  508]\n",
      " [   6    1]]\n",
      "PEH Naive Bayes\n",
      "               precision    recall  f1-score   support\n",
      "\n",
      "           0       1.00      0.95      0.97      9527\n",
      "           1       0.00      0.14      0.00         7\n",
      "\n",
      "    accuracy                           0.95      9534\n",
      "   macro avg       0.50      0.54      0.49      9534\n",
      "weighted avg       1.00      0.95      0.97      9534\n",
      "\n"
     ]
    }
   ],
   "source": [
    "for hosp in dict_df_X_train:\n",
    "    for sample in np.arange(0.1, 1.1, 0.1):\n",
    "        sm_ss = SMOTE(random_state=55,sampling_strategy=sample)\n",
    "        X_train_ss, y_train_ss = sm_ss.fit_sample(dict_df_X_train[hosp], dict_df_y_train[hosp])\n",
    "        \n",
    "        # Initiating the Gaussian Classifier\n",
    "        model = GaussianNB()\n",
    "        \n",
    "        # Training your model \n",
    "        model.fit(X_train_ss, y_train_ss)\n",
    "        print(model)\n",
    "        filename = file_dir + f'{hosp}_uc1_{sample}_smote_nb_model.pkl'\n",
    "        pickle.dump(model, open(filename, 'wb'))\n",
    "\n",
    "        # Score\n",
    "        print(f\"{hosp} Training set with {sample} SMOTE Naive Bayes score: {model.score(X_train_ss, y_train_ss)}\")\n",
    "        print(f\"{hosp} Test set with {sample} SMOTE Naive Bayes score: {model.score(dict_df_X_test[hosp], dict_df_y_test[hosp])}\")\n",
    "\n",
    "        # Confusion Matrix\n",
    "        y_pred = model.predict(dict_df_X_test[hosp])\n",
    "        print(hosp, 'Naive Bayes\\n', confusion_matrix(dict_df_y_test[hosp], y_pred))  \n",
    "        print(hosp, 'Naive Bayes\\n', classification_report(dict_df_y_test[hosp], y_pred)) "
   ]
  },
  {
   "cell_type": "markdown",
   "metadata": {
    "slideshow": {
     "slide_type": "-"
    }
   },
   "source": [
    "## NEURAL NET MLP"
   ]
  },
  {
   "cell_type": "markdown",
   "metadata": {},
   "source": [
    "### Neural Net MLP Without SMOTE, 2 Layers"
   ]
  },
  {
   "cell_type": "code",
   "execution_count": 21,
   "metadata": {},
   "outputs": [
    {
     "name": "stderr",
     "output_type": "stream",
     "text": [
      "/opt/conda/lib/python3.7/site-packages/ipykernel/ipkernel.py:287: DeprecationWarning: `should_run_async` will not call `transform_cell` automatically in the future. Please pass the result to `transformed_cell` argument and any exception that happen during thetransform in `preprocessing_exc_tuple` in IPython 7.17 and above.\n",
      "  and should_run_async(code)\n"
     ]
    }
   ],
   "source": [
    "from sklearn.neural_network import MLPClassifier  \n",
    "from sklearn import metrics"
   ]
  },
  {
   "cell_type": "code",
   "execution_count": 22,
   "metadata": {},
   "outputs": [],
   "source": [
    "list_hid_layers = [(128,128), (16,16,16), (32,32,32), (16,16,16,16), (32,32,32,32)]\n",
    "max_iter = 1000\n",
    "list_smote_sampling = [0.1, 0.2, 0.3, 0.5, 1.0]"
   ]
  },
  {
   "cell_type": "markdown",
   "metadata": {},
   "source": [
    "#### Neural Net MLPClassifier without SMOTE"
   ]
  },
  {
   "cell_type": "code",
   "execution_count": 24,
   "metadata": {},
   "outputs": [
    {
     "name": "stderr",
     "output_type": "stream",
     "text": [
      "/opt/conda/lib/python3.7/site-packages/ipykernel/ipkernel.py:287: DeprecationWarning: `should_run_async` will not call `transform_cell` automatically in the future. Please pass the result to `transformed_cell` argument and any exception that happen during thetransform in `preprocessing_exc_tuple` in IPython 7.17 and above.\n",
      "  and should_run_async(code)\n",
      "/opt/conda/lib/python3.7/site-packages/sklearn/utils/validation.py:72: DataConversionWarning: A column-vector y was passed when a 1d array was expected. Please change the shape of y to (n_samples, ), for example using ravel().\n",
      "  return f(**kwargs)\n"
     ]
    },
    {
     "name": "stdout",
     "output_type": "stream",
     "text": [
      "Iteration 1, loss = 0.05134183\n",
      "Iteration 2, loss = 0.00640461\n",
      "Iteration 3, loss = 0.00501225\n",
      "Iteration 4, loss = 0.00431821\n",
      "Iteration 5, loss = 0.00329276\n",
      "Iteration 6, loss = 0.00288619\n",
      "Iteration 7, loss = 0.00238296\n",
      "Iteration 8, loss = 0.00218527\n",
      "Iteration 9, loss = 0.00163663\n",
      "Iteration 10, loss = 0.00126928\n",
      "Iteration 11, loss = 0.00108314\n",
      "Iteration 12, loss = 0.00120742\n",
      "Iteration 13, loss = 0.00078403\n",
      "Iteration 14, loss = 0.00103049\n",
      "Iteration 15, loss = 0.00096872\n",
      "Iteration 16, loss = 0.00037005\n",
      "Iteration 17, loss = 0.00029468\n",
      "Iteration 18, loss = 0.00023912\n",
      "Iteration 19, loss = 0.00020172\n",
      "Iteration 20, loss = 0.00016305\n",
      "Iteration 21, loss = 0.00013985\n",
      "Iteration 22, loss = 0.00012648\n",
      "Iteration 23, loss = 0.00011591\n",
      "Iteration 24, loss = 0.00010773\n",
      "Iteration 25, loss = 0.00010199\n",
      "Iteration 26, loss = 0.00009873\n",
      "Iteration 27, loss = 0.00009253\n",
      "Training loss did not improve more than tol=0.000100 for 10 consecutive epochs. Stopping.\n",
      "MLPClassifier(hidden_layer_sizes=(128, 128), max_iter=1000, verbose=1)\n"
     ]
    },
    {
     "name": "stderr",
     "output_type": "stream",
     "text": [
      "/opt/conda/lib/python3.7/site-packages/ipykernel_launcher.py:7: ResourceWarning: unclosed file <_io.BufferedWriter name='./Data Exploration/data/uc1/PEH_uc1_no_smote_mlp_(128, 128)_model.pkl'>\n",
      "  import sys\n",
      "ResourceWarning: Enable tracemalloc to get the object allocation traceback\n"
     ]
    },
    {
     "name": "stdout",
     "output_type": "stream",
     "text": [
      "PEH Training set without SMOTE mlp (128, 128) score: 1.0\n",
      "PEH Test set without SMOTE mlp (128, 128) score: 0.999160897839312\n",
      "PEH Accuracy without SMOTE mlp (128, 128):  0.999160897839312\n",
      "PEH mlp (128, 128)\n",
      " [[9526    1]\n",
      " [   7    0]]\n",
      "PEH mlp (128, 128)\n",
      "               precision    recall  f1-score   support\n",
      "\n",
      "           0       1.00      1.00      1.00      9527\n",
      "           1       0.00      0.00      0.00         7\n",
      "\n",
      "    accuracy                           1.00      9534\n",
      "   macro avg       0.50      0.50      0.50      9534\n",
      "weighted avg       1.00      1.00      1.00      9534\n",
      "\n"
     ]
    },
    {
     "name": "stderr",
     "output_type": "stream",
     "text": [
      "/opt/conda/lib/python3.7/site-packages/sklearn/utils/validation.py:72: DataConversionWarning: A column-vector y was passed when a 1d array was expected. Please change the shape of y to (n_samples, ), for example using ravel().\n",
      "  return f(**kwargs)\n"
     ]
    },
    {
     "name": "stdout",
     "output_type": "stream",
     "text": [
      "Iteration 1, loss = 0.14242953\n",
      "Iteration 2, loss = 0.00696528\n",
      "Iteration 3, loss = 0.00605172\n",
      "Iteration 4, loss = 0.00549143\n",
      "Iteration 5, loss = 0.00504664\n",
      "Iteration 6, loss = 0.00450903\n",
      "Iteration 7, loss = 0.00396810\n",
      "Iteration 8, loss = 0.00360072\n",
      "Iteration 9, loss = 0.00318004\n",
      "Iteration 10, loss = 0.00263368\n",
      "Iteration 11, loss = 0.00227116\n",
      "Iteration 12, loss = 0.00200654\n",
      "Iteration 13, loss = 0.00176330\n",
      "Iteration 14, loss = 0.00231057\n",
      "Iteration 15, loss = 0.00147867\n",
      "Iteration 16, loss = 0.00132857\n",
      "Iteration 17, loss = 0.00117434\n",
      "Iteration 18, loss = 0.00099624\n",
      "Iteration 19, loss = 0.00077673\n",
      "Iteration 20, loss = 0.00066870\n",
      "Iteration 21, loss = 0.00064810\n",
      "Iteration 22, loss = 0.00049295\n",
      "Iteration 23, loss = 0.00035694\n",
      "Iteration 24, loss = 0.00031232\n",
      "Iteration 25, loss = 0.00030783\n",
      "Iteration 26, loss = 0.00031773\n",
      "Iteration 27, loss = 0.00025751\n",
      "Iteration 28, loss = 0.00032273\n",
      "Iteration 29, loss = 0.00023279\n",
      "Iteration 30, loss = 0.00017174\n",
      "Iteration 31, loss = 0.00010510\n",
      "Iteration 32, loss = 0.00010204\n",
      "Iteration 33, loss = 0.00020276\n",
      "Iteration 34, loss = 0.00012059\n",
      "Training loss did not improve more than tol=0.000100 for 10 consecutive epochs. Stopping.\n",
      "MLPClassifier(hidden_layer_sizes=(16, 16, 16), max_iter=1000, verbose=1)\n",
      "PEH Training set without SMOTE mlp (16, 16, 16) score: 1.0\n",
      "PEH Test set without SMOTE mlp (16, 16, 16) score: 0.99895112229914\n",
      "PEH Accuracy without SMOTE mlp (16, 16, 16):  0.99895112229914\n",
      "PEH mlp (16, 16, 16)\n",
      " [[9524    3]\n",
      " [   7    0]]\n"
     ]
    },
    {
     "name": "stderr",
     "output_type": "stream",
     "text": [
      "/opt/conda/lib/python3.7/site-packages/ipykernel_launcher.py:7: ResourceWarning: unclosed file <_io.BufferedWriter name='./Data Exploration/data/uc1/PEH_uc1_no_smote_mlp_(16, 16, 16)_model.pkl'>\n",
      "  import sys\n",
      "ResourceWarning: Enable tracemalloc to get the object allocation traceback\n"
     ]
    },
    {
     "name": "stdout",
     "output_type": "stream",
     "text": [
      "PEH mlp (16, 16, 16)\n",
      "               precision    recall  f1-score   support\n",
      "\n",
      "           0       1.00      1.00      1.00      9527\n",
      "           1       0.00      0.00      0.00         7\n",
      "\n",
      "    accuracy                           1.00      9534\n",
      "   macro avg       0.50      0.50      0.50      9534\n",
      "weighted avg       1.00      1.00      1.00      9534\n",
      "\n"
     ]
    },
    {
     "name": "stderr",
     "output_type": "stream",
     "text": [
      "/opt/conda/lib/python3.7/site-packages/sklearn/utils/validation.py:72: DataConversionWarning: A column-vector y was passed when a 1d array was expected. Please change the shape of y to (n_samples, ), for example using ravel().\n",
      "  return f(**kwargs)\n"
     ]
    },
    {
     "name": "stdout",
     "output_type": "stream",
     "text": [
      "Iteration 1, loss = 0.07516732\n",
      "Iteration 2, loss = 0.00636381\n",
      "Iteration 3, loss = 0.00561511\n",
      "Iteration 4, loss = 0.00485047\n",
      "Iteration 5, loss = 0.00437080\n",
      "Iteration 6, loss = 0.00365746\n",
      "Iteration 7, loss = 0.00362127\n",
      "Iteration 8, loss = 0.00275164\n",
      "Iteration 9, loss = 0.00294124\n",
      "Iteration 10, loss = 0.00208486\n",
      "Iteration 11, loss = 0.00169948\n",
      "Iteration 12, loss = 0.00149706\n",
      "Iteration 13, loss = 0.00149664\n",
      "Iteration 14, loss = 0.00151262\n",
      "Iteration 15, loss = 0.00129501\n",
      "Iteration 16, loss = 0.00088519\n",
      "Iteration 17, loss = 0.00066615\n",
      "Iteration 18, loss = 0.00111734\n",
      "Iteration 19, loss = 0.00059833\n",
      "Iteration 20, loss = 0.00048513\n",
      "Iteration 21, loss = 0.00026290\n",
      "Iteration 22, loss = 0.00019856\n",
      "Iteration 23, loss = 0.00020719\n",
      "Iteration 24, loss = 0.00012275\n",
      "Iteration 25, loss = 0.00015698\n",
      "Iteration 26, loss = 0.00012820\n",
      "Iteration 27, loss = 0.00009051\n",
      "Iteration 28, loss = 0.00007100\n",
      "Iteration 29, loss = 0.00006410\n",
      "Iteration 30, loss = 0.00006016\n",
      "Iteration 31, loss = 0.00005721\n",
      "Iteration 32, loss = 0.00005388\n",
      "Training loss did not improve more than tol=0.000100 for 10 consecutive epochs. Stopping.\n",
      "MLPClassifier(hidden_layer_sizes=(32, 32, 32), max_iter=1000, verbose=1)\n"
     ]
    },
    {
     "name": "stderr",
     "output_type": "stream",
     "text": [
      "/opt/conda/lib/python3.7/site-packages/ipykernel_launcher.py:7: ResourceWarning: unclosed file <_io.BufferedWriter name='./Data Exploration/data/uc1/PEH_uc1_no_smote_mlp_(32, 32, 32)_model.pkl'>\n",
      "  import sys\n",
      "ResourceWarning: Enable tracemalloc to get the object allocation traceback\n"
     ]
    },
    {
     "name": "stdout",
     "output_type": "stream",
     "text": [
      "PEH Training set without SMOTE mlp (32, 32, 32) score: 1.0\n",
      "PEH Test set without SMOTE mlp (32, 32, 32) score: 0.999160897839312\n",
      "PEH Accuracy without SMOTE mlp (32, 32, 32):  0.999160897839312\n",
      "PEH mlp (32, 32, 32)\n",
      " [[9526    1]\n",
      " [   7    0]]\n",
      "PEH mlp (32, 32, 32)\n",
      "               precision    recall  f1-score   support\n",
      "\n",
      "           0       1.00      1.00      1.00      9527\n",
      "           1       0.00      0.00      0.00         7\n",
      "\n",
      "    accuracy                           1.00      9534\n",
      "   macro avg       0.50      0.50      0.50      9534\n",
      "weighted avg       1.00      1.00      1.00      9534\n",
      "\n"
     ]
    },
    {
     "name": "stderr",
     "output_type": "stream",
     "text": [
      "/opt/conda/lib/python3.7/site-packages/sklearn/utils/validation.py:72: DataConversionWarning: A column-vector y was passed when a 1d array was expected. Please change the shape of y to (n_samples, ), for example using ravel().\n",
      "  return f(**kwargs)\n"
     ]
    },
    {
     "name": "stdout",
     "output_type": "stream",
     "text": [
      "Iteration 1, loss = 0.18091242\n",
      "Iteration 2, loss = 0.00671728\n",
      "Iteration 3, loss = 0.00583844\n",
      "Iteration 4, loss = 0.00533283\n",
      "Iteration 5, loss = 0.00491957\n",
      "Iteration 6, loss = 0.00457594\n",
      "Iteration 7, loss = 0.00410476\n",
      "Iteration 8, loss = 0.00371942\n",
      "Iteration 9, loss = 0.00335711\n",
      "Iteration 10, loss = 0.00300883\n",
      "Iteration 11, loss = 0.00264606\n",
      "Iteration 12, loss = 0.00228940\n",
      "Iteration 13, loss = 0.00203832\n",
      "Iteration 14, loss = 0.00175306\n",
      "Iteration 15, loss = 0.00159526\n",
      "Iteration 16, loss = 0.00128826\n",
      "Iteration 17, loss = 0.00144605\n",
      "Iteration 18, loss = 0.00113532\n",
      "Iteration 19, loss = 0.00120548\n",
      "Iteration 20, loss = 0.00085179\n",
      "Iteration 21, loss = 0.00126168\n",
      "Iteration 22, loss = 0.00071135\n",
      "Iteration 23, loss = 0.00054302\n",
      "Iteration 24, loss = 0.00042785\n",
      "Iteration 25, loss = 0.00028949\n",
      "Iteration 26, loss = 0.00023052\n",
      "Iteration 27, loss = 0.00019849\n",
      "Iteration 28, loss = 0.00025187\n",
      "Iteration 29, loss = 0.00025002\n",
      "Iteration 30, loss = 0.00012328\n",
      "Iteration 31, loss = 0.00014464\n",
      "Iteration 32, loss = 0.00014894\n",
      "Iteration 33, loss = 0.00017622\n",
      "Iteration 34, loss = 0.00021276\n",
      "Iteration 35, loss = 0.00009103\n",
      "Iteration 36, loss = 0.00007218\n",
      "Training loss did not improve more than tol=0.000100 for 10 consecutive epochs. Stopping.\n",
      "MLPClassifier(hidden_layer_sizes=(16, 16, 16, 16), max_iter=1000, verbose=1)\n",
      "PEH Training set without SMOTE mlp (16, 16, 16, 16) score: 1.0\n",
      "PEH Test set without SMOTE mlp (16, 16, 16, 16) score: 0.999056010069226\n",
      "PEH Accuracy without SMOTE mlp (16, 16, 16, 16):  0.999056010069226\n"
     ]
    },
    {
     "name": "stderr",
     "output_type": "stream",
     "text": [
      "/opt/conda/lib/python3.7/site-packages/ipykernel_launcher.py:7: ResourceWarning: unclosed file <_io.BufferedWriter name='./Data Exploration/data/uc1/PEH_uc1_no_smote_mlp_(16, 16, 16, 16)_model.pkl'>\n",
      "  import sys\n",
      "ResourceWarning: Enable tracemalloc to get the object allocation traceback\n"
     ]
    },
    {
     "name": "stdout",
     "output_type": "stream",
     "text": [
      "PEH mlp (16, 16, 16, 16)\n",
      " [[9525    2]\n",
      " [   7    0]]\n",
      "PEH mlp (16, 16, 16, 16)\n",
      "               precision    recall  f1-score   support\n",
      "\n",
      "           0       1.00      1.00      1.00      9527\n",
      "           1       0.00      0.00      0.00         7\n",
      "\n",
      "    accuracy                           1.00      9534\n",
      "   macro avg       0.50      0.50      0.50      9534\n",
      "weighted avg       1.00      1.00      1.00      9534\n",
      "\n"
     ]
    },
    {
     "name": "stderr",
     "output_type": "stream",
     "text": [
      "/opt/conda/lib/python3.7/site-packages/sklearn/utils/validation.py:72: DataConversionWarning: A column-vector y was passed when a 1d array was expected. Please change the shape of y to (n_samples, ), for example using ravel().\n",
      "  return f(**kwargs)\n"
     ]
    },
    {
     "name": "stdout",
     "output_type": "stream",
     "text": [
      "Iteration 1, loss = 0.07489871\n",
      "Iteration 2, loss = 0.00656377\n",
      "Iteration 3, loss = 0.00561511\n",
      "Iteration 4, loss = 0.00469598\n",
      "Iteration 5, loss = 0.00393783\n",
      "Iteration 6, loss = 0.00305565\n",
      "Iteration 7, loss = 0.00254195\n",
      "Iteration 8, loss = 0.00205536\n",
      "Iteration 9, loss = 0.00180727\n",
      "Iteration 10, loss = 0.00124315\n",
      "Iteration 11, loss = 0.00145142\n",
      "Iteration 12, loss = 0.00084438\n",
      "Iteration 13, loss = 0.00085079\n",
      "Iteration 14, loss = 0.00048752\n",
      "Iteration 15, loss = 0.00058178\n",
      "Iteration 16, loss = 0.00072462\n",
      "Iteration 17, loss = 0.00051953\n",
      "Iteration 18, loss = 0.00044436\n",
      "Iteration 19, loss = 0.00228552\n",
      "Iteration 20, loss = 0.00054927\n",
      "Iteration 21, loss = 0.00082241\n",
      "Iteration 22, loss = 0.00023036\n",
      "Iteration 23, loss = 0.00013783\n",
      "Iteration 24, loss = 0.00009855\n",
      "Iteration 25, loss = 0.00008208\n",
      "Iteration 26, loss = 0.00006950\n",
      "Iteration 27, loss = 0.00006266\n",
      "Iteration 28, loss = 0.00005744\n",
      "Iteration 29, loss = 0.00005349\n",
      "Iteration 30, loss = 0.00005103\n",
      "Iteration 31, loss = 0.00004911\n",
      "Iteration 32, loss = 0.00004724\n",
      "Iteration 33, loss = 0.00004590\n",
      "Training loss did not improve more than tol=0.000100 for 10 consecutive epochs. Stopping.\n",
      "MLPClassifier(hidden_layer_sizes=(32, 32, 32, 32), max_iter=1000, verbose=1)\n",
      "PEH Training set without SMOTE mlp (32, 32, 32, 32) score: 1.0\n"
     ]
    },
    {
     "name": "stderr",
     "output_type": "stream",
     "text": [
      "/opt/conda/lib/python3.7/site-packages/ipykernel_launcher.py:7: ResourceWarning: unclosed file <_io.BufferedWriter name='./Data Exploration/data/uc1/PEH_uc1_no_smote_mlp_(32, 32, 32, 32)_model.pkl'>\n",
      "  import sys\n",
      "ResourceWarning: Enable tracemalloc to get the object allocation traceback\n"
     ]
    },
    {
     "name": "stdout",
     "output_type": "stream",
     "text": [
      "PEH Test set without SMOTE mlp (32, 32, 32, 32) score: 0.999056010069226\n",
      "PEH Accuracy without SMOTE mlp (32, 32, 32, 32):  0.999056010069226\n",
      "PEH mlp (32, 32, 32, 32)\n",
      " [[9525    2]\n",
      " [   7    0]]\n",
      "PEH mlp (32, 32, 32, 32)\n",
      "               precision    recall  f1-score   support\n",
      "\n",
      "           0       1.00      1.00      1.00      9527\n",
      "           1       0.00      0.00      0.00         7\n",
      "\n",
      "    accuracy                           1.00      9534\n",
      "   macro avg       0.50      0.50      0.50      9534\n",
      "weighted avg       1.00      1.00      1.00      9534\n",
      "\n"
     ]
    }
   ],
   "source": [
    "for hosp in dict_df_X_train:\n",
    "    for hid_layers in list_hid_layers:\n",
    "        model = MLPClassifier(hidden_layer_sizes=hid_layers, max_iter=max_iter,verbose=1)  \n",
    "        model.fit(dict_df_X_train[hosp], dict_df_y_train[hosp])\n",
    "        print(model)\n",
    "        filename = file_dir + f'{hosp}_uc1_no_smote_mlp_{hid_layers}_model.pkl'\n",
    "        pickle.dump(model, open(filename, 'wb'))\n",
    "\n",
    "        predictions = model.predict(dict_df_X_test[hosp]) \n",
    "\n",
    "        # Score\n",
    "        print(f\"{hosp} Training set without SMOTE mlp {hid_layers} score: {model.score(dict_df_X_train[hosp], dict_df_y_train[hosp])}\")\n",
    "        print(f\"{hosp} Test set without SMOTE mlp {hid_layers} score: {model.score(dict_df_X_test[hosp], dict_df_y_test[hosp])}\")\n",
    "\n",
    "        print(f\"{hosp} Accuracy without SMOTE mlp {hid_layers}: \", metrics.accuracy_score(dict_df_y_test[hosp], predictions))\n",
    "        print(hosp, f'mlp {hid_layers}\\n', confusion_matrix(dict_df_y_test[hosp],predictions))  \n",
    "        print(hosp, f'mlp {hid_layers}\\n', classification_report(dict_df_y_test[hosp],predictions))  "
   ]
  },
  {
   "cell_type": "markdown",
   "metadata": {},
   "source": [
    "### Neural Net With SMOTE"
   ]
  },
  {
   "cell_type": "code",
   "execution_count": 25,
   "metadata": {},
   "outputs": [
    {
     "name": "stderr",
     "output_type": "stream",
     "text": [
      "/opt/conda/lib/python3.7/site-packages/ipykernel/ipkernel.py:287: DeprecationWarning: `should_run_async` will not call `transform_cell` automatically in the future. Please pass the result to `transformed_cell` argument and any exception that happen during thetransform in `preprocessing_exc_tuple` in IPython 7.17 and above.\n",
      "  and should_run_async(code)\n"
     ]
    }
   ],
   "source": [
    "list_hid_layers = [(16,16), (32,32), (64,64), (128,128), (256,256),\n",
    "                   (16,16,16), (32,32,32), (64,64,64),\n",
    "                   (16,16,16,16), (32,32,32,32)]\n",
    "max_iter = 1000\n",
    "list_smote_sampling = [0.1, 0.2, 0.3, 0.5, 1.0]"
   ]
  },
  {
   "cell_type": "markdown",
   "metadata": {},
   "source": [
    "#### Neural Net Layers With SMOTE"
   ]
  },
  {
   "cell_type": "code",
   "execution_count": 26,
   "metadata": {},
   "outputs": [
    {
     "name": "stderr",
     "output_type": "stream",
     "text": [
      "/opt/conda/lib/python3.7/site-packages/sklearn/utils/validation.py:72: DataConversionWarning: A column-vector y was passed when a 1d array was expected. Please change the shape of y to (n_samples, ), for example using ravel().\n",
      "  return f(**kwargs)\n"
     ]
    },
    {
     "name": "stdout",
     "output_type": "stream",
     "text": [
      "Iteration 1, loss = 0.32803756\n",
      "Iteration 2, loss = 0.05552681\n",
      "Iteration 3, loss = 0.01462244\n",
      "Iteration 4, loss = 0.00691688\n",
      "Iteration 5, loss = 0.00437374\n",
      "Iteration 6, loss = 0.00303931\n",
      "Iteration 7, loss = 0.00208975\n",
      "Iteration 8, loss = 0.00155727\n",
      "Iteration 9, loss = 0.00116680\n",
      "Iteration 10, loss = 0.00094688\n",
      "Iteration 11, loss = 0.00073337\n",
      "Iteration 12, loss = 0.00063759\n",
      "Iteration 13, loss = 0.00052500\n",
      "Iteration 14, loss = 0.00044741\n",
      "Iteration 15, loss = 0.00037893\n",
      "Iteration 16, loss = 0.00033267\n",
      "Iteration 17, loss = 0.00029401\n",
      "Iteration 18, loss = 0.00022658\n",
      "Iteration 19, loss = 0.00021326\n",
      "Iteration 20, loss = 0.00017124\n",
      "Iteration 21, loss = 0.00015183\n",
      "Iteration 22, loss = 0.00013100\n",
      "Iteration 23, loss = 0.00012194\n",
      "Iteration 24, loss = 0.00010953\n",
      "Training loss did not improve more than tol=0.000100 for 10 consecutive epochs. Stopping.\n",
      "MLPClassifier(hidden_layer_sizes=(16, 16), max_iter=1000, verbose=1)\n",
      "PEH Training set 0.1 SMOTE mlp (16, 16) score: 1.0\n",
      "PEH Test set 0.1 SMOTE mlp (16, 16) score: 0.998846234529054\n",
      "PEH Accuracy:  0.998846234529054\n",
      "PEH mlp (16, 16)\n",
      " [[9523    4]\n",
      " [   7    0]]\n"
     ]
    },
    {
     "name": "stderr",
     "output_type": "stream",
     "text": [
      "/opt/conda/lib/python3.7/site-packages/ipykernel_launcher.py:11: ResourceWarning: unclosed file <_io.BufferedWriter name='./Data Exploration/data/uc1/PEH_uc1_0.1_smote_mlp_(16, 16)_model.pkl'>\n",
      "  # This is added back by InteractiveShellApp.init_path()\n",
      "ResourceWarning: Enable tracemalloc to get the object allocation traceback\n"
     ]
    },
    {
     "name": "stdout",
     "output_type": "stream",
     "text": [
      "PEH mlp (16, 16)\n",
      "               precision    recall  f1-score   support\n",
      "\n",
      "           0       1.00      1.00      1.00      9527\n",
      "           1       0.00      0.00      0.00         7\n",
      "\n",
      "    accuracy                           1.00      9534\n",
      "   macro avg       0.50      0.50      0.50      9534\n",
      "weighted avg       1.00      1.00      1.00      9534\n",
      "\n"
     ]
    },
    {
     "name": "stderr",
     "output_type": "stream",
     "text": [
      "/opt/conda/lib/python3.7/site-packages/sklearn/utils/validation.py:72: DataConversionWarning: A column-vector y was passed when a 1d array was expected. Please change the shape of y to (n_samples, ), for example using ravel().\n",
      "  return f(**kwargs)\n"
     ]
    },
    {
     "name": "stdout",
     "output_type": "stream",
     "text": [
      "Iteration 1, loss = 0.23771496\n",
      "Iteration 2, loss = 0.03049172\n",
      "Iteration 3, loss = 0.01011478\n",
      "Iteration 4, loss = 0.00576362\n",
      "Iteration 5, loss = 0.00393346\n",
      "Iteration 6, loss = 0.00283999\n",
      "Iteration 7, loss = 0.00214238\n",
      "Iteration 8, loss = 0.00166932\n",
      "Iteration 9, loss = 0.00138047\n",
      "Iteration 10, loss = 0.00118206\n",
      "Iteration 11, loss = 0.00091455\n",
      "Iteration 12, loss = 0.00080530\n",
      "Iteration 13, loss = 0.00070460\n",
      "Iteration 14, loss = 0.00065406\n",
      "Iteration 15, loss = 0.00054494\n",
      "Iteration 16, loss = 0.00053744\n",
      "Iteration 17, loss = 0.00046902\n",
      "Iteration 18, loss = 0.00039996\n",
      "Iteration 19, loss = 0.00038946\n",
      "Iteration 20, loss = 0.00034891\n",
      "Iteration 21, loss = 0.00033688\n",
      "Iteration 22, loss = 0.00028847\n",
      "Iteration 23, loss = 0.00027602\n",
      "Iteration 24, loss = 0.00030998\n",
      "Iteration 25, loss = 0.00022710\n",
      "Iteration 26, loss = 0.00022092\n",
      "Training loss did not improve more than tol=0.000100 for 10 consecutive epochs. Stopping.\n",
      "MLPClassifier(hidden_layer_sizes=(16, 16), max_iter=1000, verbose=1)\n",
      "PEH Training set 0.2 SMOTE mlp (16, 16) score: 1.0\n",
      "PEH Test set 0.2 SMOTE mlp (16, 16) score: 0.9984266834487099\n",
      "PEH Accuracy:  0.9984266834487099\n",
      "PEH mlp (16, 16)\n",
      " [[9519    8]\n",
      " [   7    0]]\n"
     ]
    },
    {
     "name": "stderr",
     "output_type": "stream",
     "text": [
      "/opt/conda/lib/python3.7/site-packages/ipykernel_launcher.py:11: ResourceWarning: unclosed file <_io.BufferedWriter name='./Data Exploration/data/uc1/PEH_uc1_0.2_smote_mlp_(16, 16)_model.pkl'>\n",
      "  # This is added back by InteractiveShellApp.init_path()\n",
      "ResourceWarning: Enable tracemalloc to get the object allocation traceback\n"
     ]
    },
    {
     "name": "stdout",
     "output_type": "stream",
     "text": [
      "PEH mlp (16, 16)\n",
      "               precision    recall  f1-score   support\n",
      "\n",
      "           0       1.00      1.00      1.00      9527\n",
      "           1       0.00      0.00      0.00         7\n",
      "\n",
      "    accuracy                           1.00      9534\n",
      "   macro avg       0.50      0.50      0.50      9534\n",
      "weighted avg       1.00      1.00      1.00      9534\n",
      "\n"
     ]
    },
    {
     "name": "stderr",
     "output_type": "stream",
     "text": [
      "/opt/conda/lib/python3.7/site-packages/sklearn/utils/validation.py:72: DataConversionWarning: A column-vector y was passed when a 1d array was expected. Please change the shape of y to (n_samples, ), for example using ravel().\n",
      "  return f(**kwargs)\n"
     ]
    },
    {
     "name": "stdout",
     "output_type": "stream",
     "text": [
      "Iteration 1, loss = 0.27463349\n",
      "Iteration 2, loss = 0.01851953\n",
      "Iteration 3, loss = 0.00741249\n",
      "Iteration 4, loss = 0.00428189\n",
      "Iteration 5, loss = 0.00266701\n",
      "Iteration 6, loss = 0.00177657\n",
      "Iteration 7, loss = 0.00125004\n",
      "Iteration 8, loss = 0.00091707\n",
      "Iteration 9, loss = 0.00066074\n",
      "Iteration 10, loss = 0.00053267\n",
      "Iteration 11, loss = 0.00039926\n",
      "Iteration 12, loss = 0.00031528\n",
      "Iteration 13, loss = 0.00025292\n",
      "Iteration 14, loss = 0.00022551\n",
      "Iteration 15, loss = 0.00016785\n",
      "Iteration 16, loss = 0.00014847\n",
      "Iteration 17, loss = 0.00013335\n",
      "Iteration 18, loss = 0.00011499\n",
      "Iteration 19, loss = 0.00010269\n",
      "Iteration 20, loss = 0.00008963\n",
      "Iteration 21, loss = 0.00008187\n",
      "Iteration 22, loss = 0.00007638\n",
      "Training loss did not improve more than tol=0.000100 for 10 consecutive epochs. Stopping.\n",
      "MLPClassifier(hidden_layer_sizes=(16, 16), max_iter=1000, verbose=1)\n",
      "PEH Training set 0.3 SMOTE mlp (16, 16) score: 1.0\n",
      "PEH Test set 0.3 SMOTE mlp (16, 16) score: 0.9987413467589679\n",
      "PEH Accuracy:  0.9987413467589679\n"
     ]
    },
    {
     "name": "stderr",
     "output_type": "stream",
     "text": [
      "/opt/conda/lib/python3.7/site-packages/ipykernel_launcher.py:11: ResourceWarning: unclosed file <_io.BufferedWriter name='./Data Exploration/data/uc1/PEH_uc1_0.3_smote_mlp_(16, 16)_model.pkl'>\n",
      "  # This is added back by InteractiveShellApp.init_path()\n",
      "ResourceWarning: Enable tracemalloc to get the object allocation traceback\n"
     ]
    },
    {
     "name": "stdout",
     "output_type": "stream",
     "text": [
      "PEH mlp (16, 16)\n",
      " [[9522    5]\n",
      " [   7    0]]\n",
      "PEH mlp (16, 16)\n",
      "               precision    recall  f1-score   support\n",
      "\n",
      "           0       1.00      1.00      1.00      9527\n",
      "           1       0.00      0.00      0.00         7\n",
      "\n",
      "    accuracy                           1.00      9534\n",
      "   macro avg       0.50      0.50      0.50      9534\n",
      "weighted avg       1.00      1.00      1.00      9534\n",
      "\n"
     ]
    },
    {
     "name": "stderr",
     "output_type": "stream",
     "text": [
      "/opt/conda/lib/python3.7/site-packages/sklearn/utils/validation.py:72: DataConversionWarning: A column-vector y was passed when a 1d array was expected. Please change the shape of y to (n_samples, ), for example using ravel().\n",
      "  return f(**kwargs)\n"
     ]
    },
    {
     "name": "stdout",
     "output_type": "stream",
     "text": [
      "Iteration 1, loss = 0.27859145\n",
      "Iteration 2, loss = 0.01943262\n",
      "Iteration 3, loss = 0.00712615\n",
      "Iteration 4, loss = 0.00409815\n",
      "Iteration 5, loss = 0.00274658\n",
      "Iteration 6, loss = 0.00197932\n",
      "Iteration 7, loss = 0.00147146\n",
      "Iteration 8, loss = 0.00101943\n",
      "Iteration 9, loss = 0.00085456\n",
      "Iteration 10, loss = 0.00075187\n",
      "Iteration 11, loss = 0.00060713\n",
      "Iteration 12, loss = 0.00055078\n",
      "Iteration 13, loss = 0.00048619\n",
      "Iteration 14, loss = 0.00046123\n",
      "Iteration 15, loss = 0.00042552\n",
      "Iteration 16, loss = 0.00036633\n",
      "Iteration 17, loss = 0.00031763\n",
      "Iteration 18, loss = 0.00032313\n",
      "Iteration 19, loss = 0.00025506\n",
      "Iteration 20, loss = 0.00023862\n",
      "Iteration 21, loss = 0.00020440\n",
      "Iteration 22, loss = 0.00021667\n",
      "Training loss did not improve more than tol=0.000100 for 10 consecutive epochs. Stopping.\n",
      "MLPClassifier(hidden_layer_sizes=(16, 16), max_iter=1000, verbose=1)\n",
      "PEH Training set 0.5 SMOTE mlp (16, 16) score: 0.9999766752968069\n"
     ]
    },
    {
     "name": "stderr",
     "output_type": "stream",
     "text": [
      "/opt/conda/lib/python3.7/site-packages/ipykernel_launcher.py:11: ResourceWarning: unclosed file <_io.BufferedWriter name='./Data Exploration/data/uc1/PEH_uc1_0.5_smote_mlp_(16, 16)_model.pkl'>\n",
      "  # This is added back by InteractiveShellApp.init_path()\n",
      "ResourceWarning: Enable tracemalloc to get the object allocation traceback\n"
     ]
    },
    {
     "name": "stdout",
     "output_type": "stream",
     "text": [
      "PEH Test set 0.5 SMOTE mlp (16, 16) score: 0.9983217956786239\n",
      "PEH Accuracy:  0.9983217956786239\n",
      "PEH mlp (16, 16)\n",
      " [[9518    9]\n",
      " [   7    0]]\n",
      "PEH mlp (16, 16)\n",
      "               precision    recall  f1-score   support\n",
      "\n",
      "           0       1.00      1.00      1.00      9527\n",
      "           1       0.00      0.00      0.00         7\n",
      "\n",
      "    accuracy                           1.00      9534\n",
      "   macro avg       0.50      0.50      0.50      9534\n",
      "weighted avg       1.00      1.00      1.00      9534\n",
      "\n"
     ]
    },
    {
     "name": "stderr",
     "output_type": "stream",
     "text": [
      "/opt/conda/lib/python3.7/site-packages/sklearn/utils/validation.py:72: DataConversionWarning: A column-vector y was passed when a 1d array was expected. Please change the shape of y to (n_samples, ), for example using ravel().\n",
      "  return f(**kwargs)\n"
     ]
    },
    {
     "name": "stdout",
     "output_type": "stream",
     "text": [
      "Iteration 1, loss = 0.17436668\n",
      "Iteration 2, loss = 0.00854147\n",
      "Iteration 3, loss = 0.00379886\n",
      "Iteration 4, loss = 0.00226797\n",
      "Iteration 5, loss = 0.00146624\n",
      "Iteration 6, loss = 0.00100109\n",
      "Iteration 7, loss = 0.00072013\n",
      "Iteration 8, loss = 0.00057615\n",
      "Iteration 9, loss = 0.00042615\n",
      "Iteration 10, loss = 0.00036547\n",
      "Iteration 11, loss = 0.00030362\n",
      "Iteration 12, loss = 0.00025904\n",
      "Iteration 13, loss = 0.00019840\n",
      "Iteration 14, loss = 0.00017095\n",
      "Iteration 15, loss = 0.00011418\n",
      "Iteration 16, loss = 0.00011738\n",
      "Iteration 17, loss = 0.00008964\n",
      "Iteration 18, loss = 0.00007548\n",
      "Iteration 19, loss = 0.00007413\n",
      "Iteration 20, loss = 0.00006251\n",
      "Training loss did not improve more than tol=0.000100 for 10 consecutive epochs. Stopping.\n",
      "MLPClassifier(hidden_layer_sizes=(16, 16), max_iter=1000, verbose=1)\n"
     ]
    },
    {
     "name": "stderr",
     "output_type": "stream",
     "text": [
      "/opt/conda/lib/python3.7/site-packages/ipykernel_launcher.py:11: ResourceWarning: unclosed file <_io.BufferedWriter name='./Data Exploration/data/uc1/PEH_uc1_1.0_smote_mlp_(16, 16)_model.pkl'>\n",
      "  # This is added back by InteractiveShellApp.init_path()\n",
      "ResourceWarning: Enable tracemalloc to get the object allocation traceback\n"
     ]
    },
    {
     "name": "stdout",
     "output_type": "stream",
     "text": [
      "PEH Training set 1.0 SMOTE mlp (16, 16) score: 1.0\n",
      "PEH Test set 1.0 SMOTE mlp (16, 16) score: 0.9983217956786239\n",
      "PEH Accuracy:  0.9983217956786239\n",
      "PEH mlp (16, 16)\n",
      " [[9518    9]\n",
      " [   7    0]]\n",
      "PEH mlp (16, 16)\n",
      "               precision    recall  f1-score   support\n",
      "\n",
      "           0       1.00      1.00      1.00      9527\n",
      "           1       0.00      0.00      0.00         7\n",
      "\n",
      "    accuracy                           1.00      9534\n",
      "   macro avg       0.50      0.50      0.50      9534\n",
      "weighted avg       1.00      1.00      1.00      9534\n",
      "\n"
     ]
    },
    {
     "name": "stderr",
     "output_type": "stream",
     "text": [
      "/opt/conda/lib/python3.7/site-packages/sklearn/utils/validation.py:72: DataConversionWarning: A column-vector y was passed when a 1d array was expected. Please change the shape of y to (n_samples, ), for example using ravel().\n",
      "  return f(**kwargs)\n"
     ]
    },
    {
     "name": "stdout",
     "output_type": "stream",
     "text": [
      "Iteration 1, loss = 0.20468299\n",
      "Iteration 2, loss = 0.01565711\n",
      "Iteration 3, loss = 0.00426293\n",
      "Iteration 4, loss = 0.00234749\n",
      "Iteration 5, loss = 0.00143373\n",
      "Iteration 6, loss = 0.00096424\n",
      "Iteration 7, loss = 0.00064616\n",
      "Iteration 8, loss = 0.00051172\n",
      "Iteration 9, loss = 0.00042440\n",
      "Iteration 10, loss = 0.00031590\n",
      "Iteration 11, loss = 0.00025983\n",
      "Iteration 12, loss = 0.00020968\n",
      "Iteration 13, loss = 0.00019030\n",
      "Iteration 14, loss = 0.00014994\n",
      "Iteration 15, loss = 0.00013562\n",
      "Iteration 16, loss = 0.00011906\n",
      "Iteration 17, loss = 0.00010578\n",
      "Iteration 18, loss = 0.00009954\n",
      "Iteration 19, loss = 0.00009701\n",
      "Iteration 20, loss = 0.00008333\n",
      "Iteration 21, loss = 0.00007869\n",
      "Training loss did not improve more than tol=0.000100 for 10 consecutive epochs. Stopping.\n",
      "MLPClassifier(hidden_layer_sizes=(32, 32), max_iter=1000, verbose=1)\n"
     ]
    },
    {
     "name": "stderr",
     "output_type": "stream",
     "text": [
      "/opt/conda/lib/python3.7/site-packages/ipykernel_launcher.py:11: ResourceWarning: unclosed file <_io.BufferedWriter name='./Data Exploration/data/uc1/PEH_uc1_0.1_smote_mlp_(32, 32)_model.pkl'>\n",
      "  # This is added back by InteractiveShellApp.init_path()\n",
      "ResourceWarning: Enable tracemalloc to get the object allocation traceback\n"
     ]
    },
    {
     "name": "stdout",
     "output_type": "stream",
     "text": [
      "PEH Training set 0.1 SMOTE mlp (32, 32) score: 1.0\n",
      "PEH Test set 0.1 SMOTE mlp (32, 32) score: 0.998846234529054\n",
      "PEH Accuracy:  0.998846234529054\n",
      "PEH mlp (32, 32)\n",
      " [[9523    4]\n",
      " [   7    0]]\n",
      "PEH mlp (32, 32)\n",
      "               precision    recall  f1-score   support\n",
      "\n",
      "           0       1.00      1.00      1.00      9527\n",
      "           1       0.00      0.00      0.00         7\n",
      "\n",
      "    accuracy                           1.00      9534\n",
      "   macro avg       0.50      0.50      0.50      9534\n",
      "weighted avg       1.00      1.00      1.00      9534\n",
      "\n"
     ]
    },
    {
     "name": "stderr",
     "output_type": "stream",
     "text": [
      "/opt/conda/lib/python3.7/site-packages/sklearn/utils/validation.py:72: DataConversionWarning: A column-vector y was passed when a 1d array was expected. Please change the shape of y to (n_samples, ), for example using ravel().\n",
      "  return f(**kwargs)\n"
     ]
    },
    {
     "name": "stdout",
     "output_type": "stream",
     "text": [
      "Iteration 1, loss = 0.21391373\n",
      "Iteration 2, loss = 0.01150065\n",
      "Iteration 3, loss = 0.00449447\n",
      "Iteration 4, loss = 0.00246452\n",
      "Iteration 5, loss = 0.00166773\n",
      "Iteration 6, loss = 0.00108804\n",
      "Iteration 7, loss = 0.00077757\n",
      "Iteration 8, loss = 0.00059129\n",
      "Iteration 9, loss = 0.00054283\n",
      "Iteration 10, loss = 0.00042313\n",
      "Iteration 11, loss = 0.00035577\n",
      "Iteration 12, loss = 0.00029468\n",
      "Iteration 13, loss = 0.00021671\n",
      "Iteration 14, loss = 0.00021791\n",
      "Iteration 15, loss = 0.00015318\n",
      "Iteration 16, loss = 0.00014979\n",
      "Iteration 17, loss = 0.00012847\n",
      "Iteration 18, loss = 0.00011216\n",
      "Iteration 19, loss = 0.00009779\n",
      "Iteration 20, loss = 0.00009221\n",
      "Iteration 21, loss = 0.00008912\n",
      "Training loss did not improve more than tol=0.000100 for 10 consecutive epochs. Stopping.\n",
      "MLPClassifier(hidden_layer_sizes=(32, 32), max_iter=1000, verbose=1)\n",
      "PEH Training set 0.2 SMOTE mlp (32, 32) score: 1.0\n"
     ]
    },
    {
     "name": "stderr",
     "output_type": "stream",
     "text": [
      "/opt/conda/lib/python3.7/site-packages/ipykernel_launcher.py:11: ResourceWarning: unclosed file <_io.BufferedWriter name='./Data Exploration/data/uc1/PEH_uc1_0.2_smote_mlp_(32, 32)_model.pkl'>\n",
      "  # This is added back by InteractiveShellApp.init_path()\n",
      "ResourceWarning: Enable tracemalloc to get the object allocation traceback\n"
     ]
    },
    {
     "name": "stdout",
     "output_type": "stream",
     "text": [
      "PEH Test set 0.2 SMOTE mlp (32, 32) score: 0.9985315712187959\n",
      "PEH Accuracy:  0.9985315712187959\n",
      "PEH mlp (32, 32)\n",
      " [[9520    7]\n",
      " [   7    0]]\n",
      "PEH mlp (32, 32)\n",
      "               precision    recall  f1-score   support\n",
      "\n",
      "           0       1.00      1.00      1.00      9527\n",
      "           1       0.00      0.00      0.00         7\n",
      "\n",
      "    accuracy                           1.00      9534\n",
      "   macro avg       0.50      0.50      0.50      9534\n",
      "weighted avg       1.00      1.00      1.00      9534\n",
      "\n"
     ]
    },
    {
     "name": "stderr",
     "output_type": "stream",
     "text": [
      "/opt/conda/lib/python3.7/site-packages/sklearn/utils/validation.py:72: DataConversionWarning: A column-vector y was passed when a 1d array was expected. Please change the shape of y to (n_samples, ), for example using ravel().\n",
      "  return f(**kwargs)\n"
     ]
    },
    {
     "name": "stdout",
     "output_type": "stream",
     "text": [
      "Iteration 1, loss = 0.16445198\n",
      "Iteration 2, loss = 0.00855712\n",
      "Iteration 3, loss = 0.00361504\n",
      "Iteration 4, loss = 0.00245193\n",
      "Iteration 5, loss = 0.00132296\n",
      "Iteration 6, loss = 0.00091380\n",
      "Iteration 7, loss = 0.00065664\n",
      "Iteration 8, loss = 0.00050205\n",
      "Iteration 9, loss = 0.00038589\n",
      "Iteration 10, loss = 0.00030101\n",
      "Iteration 11, loss = 0.00025162\n",
      "Iteration 12, loss = 0.00024684\n",
      "Iteration 13, loss = 0.00015844\n",
      "Iteration 14, loss = 0.00016402\n",
      "Iteration 15, loss = 0.00012379\n",
      "Iteration 16, loss = 0.00010627\n",
      "Iteration 17, loss = 0.00009710\n",
      "Iteration 18, loss = 0.00008767\n",
      "Iteration 19, loss = 0.00008085\n",
      "Iteration 20, loss = 0.00007618\n",
      "Training loss did not improve more than tol=0.000100 for 10 consecutive epochs. Stopping.\n",
      "MLPClassifier(hidden_layer_sizes=(32, 32), max_iter=1000, verbose=1)\n"
     ]
    },
    {
     "name": "stderr",
     "output_type": "stream",
     "text": [
      "/opt/conda/lib/python3.7/site-packages/ipykernel_launcher.py:11: ResourceWarning: unclosed file <_io.BufferedWriter name='./Data Exploration/data/uc1/PEH_uc1_0.3_smote_mlp_(32, 32)_model.pkl'>\n",
      "  # This is added back by InteractiveShellApp.init_path()\n",
      "ResourceWarning: Enable tracemalloc to get the object allocation traceback\n"
     ]
    },
    {
     "name": "stdout",
     "output_type": "stream",
     "text": [
      "PEH Training set 0.3 SMOTE mlp (32, 32) score: 1.0\n",
      "PEH Test set 0.3 SMOTE mlp (32, 32) score: 0.998846234529054\n",
      "PEH Accuracy:  0.998846234529054\n",
      "PEH mlp (32, 32)\n",
      " [[9523    4]\n",
      " [   7    0]]\n",
      "PEH mlp (32, 32)\n",
      "               precision    recall  f1-score   support\n",
      "\n",
      "           0       1.00      1.00      1.00      9527\n",
      "           1       0.00      0.00      0.00         7\n",
      "\n",
      "    accuracy                           1.00      9534\n",
      "   macro avg       0.50      0.50      0.50      9534\n",
      "weighted avg       1.00      1.00      1.00      9534\n",
      "\n"
     ]
    },
    {
     "name": "stderr",
     "output_type": "stream",
     "text": [
      "/opt/conda/lib/python3.7/site-packages/sklearn/utils/validation.py:72: DataConversionWarning: A column-vector y was passed when a 1d array was expected. Please change the shape of y to (n_samples, ), for example using ravel().\n",
      "  return f(**kwargs)\n"
     ]
    },
    {
     "name": "stdout",
     "output_type": "stream",
     "text": [
      "Iteration 1, loss = 0.17255213\n",
      "Iteration 2, loss = 0.00588323\n",
      "Iteration 3, loss = 0.00236629\n",
      "Iteration 4, loss = 0.00123009\n",
      "Iteration 5, loss = 0.00077914\n",
      "Iteration 6, loss = 0.00049154\n",
      "Iteration 7, loss = 0.00036629\n",
      "Iteration 8, loss = 0.00025419\n",
      "Iteration 9, loss = 0.00018593\n",
      "Iteration 10, loss = 0.00015278\n",
      "Iteration 11, loss = 0.00011903\n",
      "Iteration 12, loss = 0.00009461\n",
      "Iteration 13, loss = 0.00008825\n",
      "Iteration 14, loss = 0.00007846\n",
      "Iteration 15, loss = 0.00007162\n",
      "Iteration 16, loss = 0.00006783\n",
      "Iteration 17, loss = 0.00006376\n",
      "Iteration 18, loss = 0.00006177\n",
      "Iteration 19, loss = 0.00005843\n",
      "Training loss did not improve more than tol=0.000100 for 10 consecutive epochs. Stopping.\n",
      "MLPClassifier(hidden_layer_sizes=(32, 32), max_iter=1000, verbose=1)\n"
     ]
    },
    {
     "name": "stderr",
     "output_type": "stream",
     "text": [
      "/opt/conda/lib/python3.7/site-packages/ipykernel_launcher.py:11: ResourceWarning: unclosed file <_io.BufferedWriter name='./Data Exploration/data/uc1/PEH_uc1_0.5_smote_mlp_(32, 32)_model.pkl'>\n",
      "  # This is added back by InteractiveShellApp.init_path()\n",
      "ResourceWarning: Enable tracemalloc to get the object allocation traceback\n"
     ]
    },
    {
     "name": "stdout",
     "output_type": "stream",
     "text": [
      "PEH Training set 0.5 SMOTE mlp (32, 32) score: 1.0\n",
      "PEH Test set 0.5 SMOTE mlp (32, 32) score: 0.99895112229914\n",
      "PEH Accuracy:  0.99895112229914\n",
      "PEH mlp (32, 32)\n",
      " [[9524    3]\n",
      " [   7    0]]\n",
      "PEH mlp (32, 32)\n",
      "               precision    recall  f1-score   support\n",
      "\n",
      "           0       1.00      1.00      1.00      9527\n",
      "           1       0.00      0.00      0.00         7\n",
      "\n",
      "    accuracy                           1.00      9534\n",
      "   macro avg       0.50      0.50      0.50      9534\n",
      "weighted avg       1.00      1.00      1.00      9534\n",
      "\n"
     ]
    },
    {
     "name": "stderr",
     "output_type": "stream",
     "text": [
      "/opt/conda/lib/python3.7/site-packages/sklearn/utils/validation.py:72: DataConversionWarning: A column-vector y was passed when a 1d array was expected. Please change the shape of y to (n_samples, ), for example using ravel().\n",
      "  return f(**kwargs)\n"
     ]
    },
    {
     "name": "stdout",
     "output_type": "stream",
     "text": [
      "Iteration 1, loss = 0.10941607\n",
      "Iteration 2, loss = 0.00438651\n",
      "Iteration 3, loss = 0.00201478\n",
      "Iteration 4, loss = 0.00107735\n",
      "Iteration 5, loss = 0.00069492\n",
      "Iteration 6, loss = 0.00054058\n",
      "Iteration 7, loss = 0.00039273\n",
      "Iteration 8, loss = 0.00032325\n",
      "Iteration 9, loss = 0.00027429\n",
      "Iteration 10, loss = 0.00018358\n",
      "Iteration 11, loss = 0.00015597\n",
      "Iteration 12, loss = 0.00012850\n",
      "Iteration 13, loss = 0.00008849\n",
      "Iteration 14, loss = 0.00007279\n",
      "Iteration 15, loss = 0.00006948\n",
      "Iteration 16, loss = 0.00006173\n",
      "Iteration 17, loss = 0.00005954\n",
      "Iteration 18, loss = 0.00005786\n",
      "Training loss did not improve more than tol=0.000100 for 10 consecutive epochs. Stopping.\n",
      "MLPClassifier(hidden_layer_sizes=(32, 32), max_iter=1000, verbose=1)\n"
     ]
    },
    {
     "name": "stderr",
     "output_type": "stream",
     "text": [
      "/opt/conda/lib/python3.7/site-packages/ipykernel_launcher.py:11: ResourceWarning: unclosed file <_io.BufferedWriter name='./Data Exploration/data/uc1/PEH_uc1_1.0_smote_mlp_(32, 32)_model.pkl'>\n",
      "  # This is added back by InteractiveShellApp.init_path()\n",
      "ResourceWarning: Enable tracemalloc to get the object allocation traceback\n"
     ]
    },
    {
     "name": "stdout",
     "output_type": "stream",
     "text": [
      "PEH Training set 1.0 SMOTE mlp (32, 32) score: 1.0\n",
      "PEH Test set 1.0 SMOTE mlp (32, 32) score: 0.9986364589888819\n",
      "PEH Accuracy:  0.9986364589888819\n",
      "PEH mlp (32, 32)\n",
      " [[9521    6]\n",
      " [   7    0]]\n",
      "PEH mlp (32, 32)\n",
      "               precision    recall  f1-score   support\n",
      "\n",
      "           0       1.00      1.00      1.00      9527\n",
      "           1       0.00      0.00      0.00         7\n",
      "\n",
      "    accuracy                           1.00      9534\n",
      "   macro avg       0.50      0.50      0.50      9534\n",
      "weighted avg       1.00      1.00      1.00      9534\n",
      "\n"
     ]
    },
    {
     "name": "stderr",
     "output_type": "stream",
     "text": [
      "/opt/conda/lib/python3.7/site-packages/sklearn/utils/validation.py:72: DataConversionWarning: A column-vector y was passed when a 1d array was expected. Please change the shape of y to (n_samples, ), for example using ravel().\n",
      "  return f(**kwargs)\n"
     ]
    },
    {
     "name": "stdout",
     "output_type": "stream",
     "text": [
      "Iteration 1, loss = 0.18112967\n",
      "Iteration 2, loss = 0.00688940\n",
      "Iteration 3, loss = 0.00256110\n",
      "Iteration 4, loss = 0.00107043\n",
      "Iteration 5, loss = 0.00064224\n",
      "Iteration 6, loss = 0.00043052\n",
      "Iteration 7, loss = 0.00029187\n",
      "Iteration 8, loss = 0.00020025\n",
      "Iteration 9, loss = 0.00015387\n",
      "Iteration 10, loss = 0.00013292\n",
      "Iteration 11, loss = 0.00011350\n",
      "Iteration 12, loss = 0.00010338\n",
      "Iteration 13, loss = 0.00009591\n",
      "Iteration 14, loss = 0.00009009\n",
      "Iteration 15, loss = 0.00008529\n",
      "Iteration 16, loss = 0.00008196\n",
      "Iteration 17, loss = 0.00007887\n",
      "Iteration 18, loss = 0.00007618\n",
      "Training loss did not improve more than tol=0.000100 for 10 consecutive epochs. Stopping.\n",
      "MLPClassifier(hidden_layer_sizes=(64, 64), max_iter=1000, verbose=1)\n"
     ]
    },
    {
     "name": "stderr",
     "output_type": "stream",
     "text": [
      "/opt/conda/lib/python3.7/site-packages/ipykernel_launcher.py:11: ResourceWarning: unclosed file <_io.BufferedWriter name='./Data Exploration/data/uc1/PEH_uc1_0.1_smote_mlp_(64, 64)_model.pkl'>\n",
      "  # This is added back by InteractiveShellApp.init_path()\n",
      "ResourceWarning: Enable tracemalloc to get the object allocation traceback\n"
     ]
    },
    {
     "name": "stdout",
     "output_type": "stream",
     "text": [
      "PEH Training set 0.1 SMOTE mlp (64, 64) score: 1.0\n",
      "PEH Test set 0.1 SMOTE mlp (64, 64) score: 0.999056010069226\n",
      "PEH Accuracy:  0.999056010069226\n",
      "PEH mlp (64, 64)\n",
      " [[9525    2]\n",
      " [   7    0]]\n",
      "PEH mlp (64, 64)\n",
      "               precision    recall  f1-score   support\n",
      "\n",
      "           0       1.00      1.00      1.00      9527\n",
      "           1       0.00      0.00      0.00         7\n",
      "\n",
      "    accuracy                           1.00      9534\n",
      "   macro avg       0.50      0.50      0.50      9534\n",
      "weighted avg       1.00      1.00      1.00      9534\n",
      "\n"
     ]
    },
    {
     "name": "stderr",
     "output_type": "stream",
     "text": [
      "/opt/conda/lib/python3.7/site-packages/sklearn/utils/validation.py:72: DataConversionWarning: A column-vector y was passed when a 1d array was expected. Please change the shape of y to (n_samples, ), for example using ravel().\n",
      "  return f(**kwargs)\n"
     ]
    },
    {
     "name": "stdout",
     "output_type": "stream",
     "text": [
      "Iteration 1, loss = 0.14269822\n",
      "Iteration 2, loss = 0.00439493\n",
      "Iteration 3, loss = 0.00180798\n",
      "Iteration 4, loss = 0.00269950\n",
      "Iteration 5, loss = 0.00064171\n",
      "Iteration 6, loss = 0.00039401\n",
      "Iteration 7, loss = 0.00027150\n",
      "Iteration 8, loss = 0.00025693\n",
      "Iteration 9, loss = 0.00019017\n",
      "Iteration 10, loss = 0.00014478\n",
      "Iteration 11, loss = 0.00012376\n",
      "Iteration 12, loss = 0.00011409\n",
      "Iteration 13, loss = 0.00010042\n",
      "Iteration 14, loss = 0.00009596\n",
      "Iteration 15, loss = 0.00008949\n",
      "Iteration 16, loss = 0.00008639\n",
      "Iteration 17, loss = 0.00008184\n",
      "Iteration 18, loss = 0.00007863\n",
      "Training loss did not improve more than tol=0.000100 for 10 consecutive epochs. Stopping.\n",
      "MLPClassifier(hidden_layer_sizes=(64, 64), max_iter=1000, verbose=1)\n"
     ]
    },
    {
     "name": "stderr",
     "output_type": "stream",
     "text": [
      "/opt/conda/lib/python3.7/site-packages/ipykernel_launcher.py:11: ResourceWarning: unclosed file <_io.BufferedWriter name='./Data Exploration/data/uc1/PEH_uc1_0.2_smote_mlp_(64, 64)_model.pkl'>\n",
      "  # This is added back by InteractiveShellApp.init_path()\n",
      "ResourceWarning: Enable tracemalloc to get the object allocation traceback\n"
     ]
    },
    {
     "name": "stdout",
     "output_type": "stream",
     "text": [
      "PEH Training set 0.2 SMOTE mlp (64, 64) score: 1.0\n",
      "PEH Test set 0.2 SMOTE mlp (64, 64) score: 0.99895112229914\n",
      "PEH Accuracy:  0.99895112229914\n",
      "PEH mlp (64, 64)\n",
      " [[9524    3]\n",
      " [   7    0]]\n",
      "PEH mlp (64, 64)\n",
      "               precision    recall  f1-score   support\n",
      "\n",
      "           0       1.00      1.00      1.00      9527\n",
      "           1       0.00      0.00      0.00         7\n",
      "\n",
      "    accuracy                           1.00      9534\n",
      "   macro avg       0.50      0.50      0.50      9534\n",
      "weighted avg       1.00      1.00      1.00      9534\n",
      "\n"
     ]
    },
    {
     "name": "stderr",
     "output_type": "stream",
     "text": [
      "/opt/conda/lib/python3.7/site-packages/sklearn/utils/validation.py:72: DataConversionWarning: A column-vector y was passed when a 1d array was expected. Please change the shape of y to (n_samples, ), for example using ravel().\n",
      "  return f(**kwargs)\n"
     ]
    },
    {
     "name": "stdout",
     "output_type": "stream",
     "text": [
      "Iteration 1, loss = 0.11956471\n",
      "Iteration 2, loss = 0.00329246\n",
      "Iteration 3, loss = 0.00142381\n",
      "Iteration 4, loss = 0.00070078\n",
      "Iteration 5, loss = 0.00035931\n",
      "Iteration 6, loss = 0.00027594\n",
      "Iteration 7, loss = 0.00019579\n",
      "Iteration 8, loss = 0.00016122\n",
      "Iteration 9, loss = 0.00012918\n",
      "Iteration 10, loss = 0.00011058\n",
      "Iteration 11, loss = 0.00010352\n",
      "Iteration 12, loss = 0.00009459\n",
      "Iteration 13, loss = 0.00008791\n",
      "Iteration 14, loss = 0.00008366\n",
      "Iteration 15, loss = 0.00007923\n",
      "Iteration 16, loss = 0.00007623\n",
      "Training loss did not improve more than tol=0.000100 for 10 consecutive epochs. Stopping.\n",
      "MLPClassifier(hidden_layer_sizes=(64, 64), max_iter=1000, verbose=1)\n"
     ]
    },
    {
     "name": "stderr",
     "output_type": "stream",
     "text": [
      "/opt/conda/lib/python3.7/site-packages/ipykernel_launcher.py:11: ResourceWarning: unclosed file <_io.BufferedWriter name='./Data Exploration/data/uc1/PEH_uc1_0.3_smote_mlp_(64, 64)_model.pkl'>\n",
      "  # This is added back by InteractiveShellApp.init_path()\n",
      "ResourceWarning: Enable tracemalloc to get the object allocation traceback\n"
     ]
    },
    {
     "name": "stdout",
     "output_type": "stream",
     "text": [
      "PEH Training set 0.3 SMOTE mlp (64, 64) score: 1.0\n",
      "PEH Test set 0.3 SMOTE mlp (64, 64) score: 0.99895112229914\n",
      "PEH Accuracy:  0.99895112229914\n",
      "PEH mlp (64, 64)\n",
      " [[9524    3]\n",
      " [   7    0]]\n",
      "PEH mlp (64, 64)\n",
      "               precision    recall  f1-score   support\n",
      "\n",
      "           0       1.00      1.00      1.00      9527\n",
      "           1       0.00      0.00      0.00         7\n",
      "\n",
      "    accuracy                           1.00      9534\n",
      "   macro avg       0.50      0.50      0.50      9534\n",
      "weighted avg       1.00      1.00      1.00      9534\n",
      "\n"
     ]
    },
    {
     "name": "stderr",
     "output_type": "stream",
     "text": [
      "/opt/conda/lib/python3.7/site-packages/sklearn/utils/validation.py:72: DataConversionWarning: A column-vector y was passed when a 1d array was expected. Please change the shape of y to (n_samples, ), for example using ravel().\n",
      "  return f(**kwargs)\n"
     ]
    },
    {
     "name": "stdout",
     "output_type": "stream",
     "text": [
      "Iteration 1, loss = 0.10143377\n",
      "Iteration 2, loss = 0.00349339\n",
      "Iteration 3, loss = 0.00149720\n",
      "Iteration 4, loss = 0.00067938\n",
      "Iteration 5, loss = 0.00040073\n",
      "Iteration 6, loss = 0.00029136\n",
      "Iteration 7, loss = 0.00018867\n",
      "Iteration 8, loss = 0.00017024\n",
      "Iteration 9, loss = 0.00013203\n",
      "Iteration 10, loss = 0.00011726\n",
      "Iteration 11, loss = 0.00009835\n",
      "Iteration 12, loss = 0.00008936\n",
      "Iteration 13, loss = 0.00008548\n",
      "Iteration 14, loss = 0.00008092\n",
      "Iteration 15, loss = 0.00007748\n",
      "Iteration 16, loss = 0.00007513\n",
      "Iteration 17, loss = 0.00007294\n",
      "Iteration 18, loss = 0.00007056\n",
      "Training loss did not improve more than tol=0.000100 for 10 consecutive epochs. Stopping.\n",
      "MLPClassifier(hidden_layer_sizes=(64, 64), max_iter=1000, verbose=1)\n"
     ]
    },
    {
     "name": "stderr",
     "output_type": "stream",
     "text": [
      "/opt/conda/lib/python3.7/site-packages/ipykernel_launcher.py:11: ResourceWarning: unclosed file <_io.BufferedWriter name='./Data Exploration/data/uc1/PEH_uc1_0.5_smote_mlp_(64, 64)_model.pkl'>\n",
      "  # This is added back by InteractiveShellApp.init_path()\n",
      "ResourceWarning: Enable tracemalloc to get the object allocation traceback\n"
     ]
    },
    {
     "name": "stdout",
     "output_type": "stream",
     "text": [
      "PEH Training set 0.5 SMOTE mlp (64, 64) score: 1.0\n",
      "PEH Test set 0.5 SMOTE mlp (64, 64) score: 0.99895112229914\n",
      "PEH Accuracy:  0.99895112229914\n",
      "PEH mlp (64, 64)\n",
      " [[9524    3]\n",
      " [   7    0]]\n",
      "PEH mlp (64, 64)\n",
      "               precision    recall  f1-score   support\n",
      "\n",
      "           0       1.00      1.00      1.00      9527\n",
      "           1       0.00      0.00      0.00         7\n",
      "\n",
      "    accuracy                           1.00      9534\n",
      "   macro avg       0.50      0.50      0.50      9534\n",
      "weighted avg       1.00      1.00      1.00      9534\n",
      "\n"
     ]
    },
    {
     "name": "stderr",
     "output_type": "stream",
     "text": [
      "/opt/conda/lib/python3.7/site-packages/sklearn/utils/validation.py:72: DataConversionWarning: A column-vector y was passed when a 1d array was expected. Please change the shape of y to (n_samples, ), for example using ravel().\n",
      "  return f(**kwargs)\n"
     ]
    },
    {
     "name": "stdout",
     "output_type": "stream",
     "text": [
      "Iteration 1, loss = 0.08551603\n",
      "Iteration 2, loss = 0.00250168\n",
      "Iteration 3, loss = 0.00109299\n",
      "Iteration 4, loss = 0.00057458\n",
      "Iteration 5, loss = 0.00038811\n",
      "Iteration 6, loss = 0.00026897\n",
      "Iteration 7, loss = 0.00019986\n",
      "Iteration 8, loss = 0.00012361\n",
      "Iteration 9, loss = 0.00010075\n",
      "Iteration 10, loss = 0.00008910\n",
      "Iteration 11, loss = 0.00008289\n",
      "Iteration 12, loss = 0.00007713\n",
      "Iteration 13, loss = 0.00007405\n",
      "Iteration 14, loss = 0.00007211\n",
      "Iteration 15, loss = 0.00006950\n",
      "Iteration 16, loss = 0.00006631\n",
      "Iteration 17, loss = 0.00006394\n",
      "Training loss did not improve more than tol=0.000100 for 10 consecutive epochs. Stopping.\n",
      "MLPClassifier(hidden_layer_sizes=(64, 64), max_iter=1000, verbose=1)\n"
     ]
    },
    {
     "name": "stderr",
     "output_type": "stream",
     "text": [
      "/opt/conda/lib/python3.7/site-packages/ipykernel_launcher.py:11: ResourceWarning: unclosed file <_io.BufferedWriter name='./Data Exploration/data/uc1/PEH_uc1_1.0_smote_mlp_(64, 64)_model.pkl'>\n",
      "  # This is added back by InteractiveShellApp.init_path()\n",
      "ResourceWarning: Enable tracemalloc to get the object allocation traceback\n"
     ]
    },
    {
     "name": "stdout",
     "output_type": "stream",
     "text": [
      "PEH Training set 1.0 SMOTE mlp (64, 64) score: 1.0\n",
      "PEH Test set 1.0 SMOTE mlp (64, 64) score: 0.998846234529054\n",
      "PEH Accuracy:  0.998846234529054\n",
      "PEH mlp (64, 64)\n",
      " [[9523    4]\n",
      " [   7    0]]\n",
      "PEH mlp (64, 64)\n",
      "               precision    recall  f1-score   support\n",
      "\n",
      "           0       1.00      1.00      1.00      9527\n",
      "           1       0.00      0.00      0.00         7\n",
      "\n",
      "    accuracy                           1.00      9534\n",
      "   macro avg       0.50      0.50      0.50      9534\n",
      "weighted avg       1.00      1.00      1.00      9534\n",
      "\n"
     ]
    },
    {
     "name": "stderr",
     "output_type": "stream",
     "text": [
      "/opt/conda/lib/python3.7/site-packages/sklearn/utils/validation.py:72: DataConversionWarning: A column-vector y was passed when a 1d array was expected. Please change the shape of y to (n_samples, ), for example using ravel().\n",
      "  return f(**kwargs)\n"
     ]
    },
    {
     "name": "stdout",
     "output_type": "stream",
     "text": [
      "Iteration 1, loss = 0.10646431\n",
      "Iteration 2, loss = 0.00230279\n",
      "Iteration 3, loss = 0.00074490\n",
      "Iteration 4, loss = 0.00045874\n",
      "Iteration 5, loss = 0.00025529\n",
      "Iteration 6, loss = 0.00021491\n",
      "Iteration 7, loss = 0.00016899\n",
      "Iteration 8, loss = 0.00014852\n",
      "Iteration 9, loss = 0.00013708\n",
      "Iteration 10, loss = 0.00012571\n",
      "Iteration 11, loss = 0.00011937\n",
      "Iteration 12, loss = 0.00011283\n",
      "Iteration 13, loss = 0.00010916\n",
      "Iteration 14, loss = 0.00010479\n",
      "Iteration 15, loss = 0.00010162\n",
      "Iteration 16, loss = 0.00009891\n",
      "Training loss did not improve more than tol=0.000100 for 10 consecutive epochs. Stopping.\n",
      "MLPClassifier(hidden_layer_sizes=(128, 128), max_iter=1000, verbose=1)\n"
     ]
    },
    {
     "name": "stderr",
     "output_type": "stream",
     "text": [
      "/opt/conda/lib/python3.7/site-packages/ipykernel_launcher.py:11: ResourceWarning: unclosed file <_io.BufferedWriter name='./Data Exploration/data/uc1/PEH_uc1_0.1_smote_mlp_(128, 128)_model.pkl'>\n",
      "  # This is added back by InteractiveShellApp.init_path()\n",
      "ResourceWarning: Enable tracemalloc to get the object allocation traceback\n"
     ]
    },
    {
     "name": "stdout",
     "output_type": "stream",
     "text": [
      "PEH Training set 0.1 SMOTE mlp (128, 128) score: 1.0\n",
      "PEH Test set 0.1 SMOTE mlp (128, 128) score: 0.999160897839312\n",
      "PEH Accuracy:  0.999160897839312\n",
      "PEH mlp (128, 128)\n",
      " [[9526    1]\n",
      " [   7    0]]\n",
      "PEH mlp (128, 128)\n",
      "               precision    recall  f1-score   support\n",
      "\n",
      "           0       1.00      1.00      1.00      9527\n",
      "           1       0.00      0.00      0.00         7\n",
      "\n",
      "    accuracy                           1.00      9534\n",
      "   macro avg       0.50      0.50      0.50      9534\n",
      "weighted avg       1.00      1.00      1.00      9534\n",
      "\n"
     ]
    },
    {
     "name": "stderr",
     "output_type": "stream",
     "text": [
      "/opt/conda/lib/python3.7/site-packages/sklearn/utils/validation.py:72: DataConversionWarning: A column-vector y was passed when a 1d array was expected. Please change the shape of y to (n_samples, ), for example using ravel().\n",
      "  return f(**kwargs)\n"
     ]
    },
    {
     "name": "stdout",
     "output_type": "stream",
     "text": [
      "Iteration 1, loss = 0.08745280\n",
      "Iteration 2, loss = 0.00291533\n",
      "Iteration 3, loss = 0.00290670\n",
      "Iteration 4, loss = 0.00047124\n",
      "Iteration 5, loss = 0.00032515\n",
      "Iteration 6, loss = 0.00023113\n",
      "Iteration 7, loss = 0.00018071\n",
      "Iteration 8, loss = 0.00015192\n",
      "Iteration 9, loss = 0.00013539\n",
      "Iteration 10, loss = 0.00012423\n",
      "Iteration 11, loss = 0.00011370\n",
      "Iteration 12, loss = 0.00010952\n",
      "Iteration 13, loss = 0.00010387\n",
      "Iteration 14, loss = 0.00010004\n",
      "Iteration 15, loss = 0.00009726\n",
      "Iteration 16, loss = 0.00009483\n",
      "Training loss did not improve more than tol=0.000100 for 10 consecutive epochs. Stopping.\n",
      "MLPClassifier(hidden_layer_sizes=(128, 128), max_iter=1000, verbose=1)\n"
     ]
    },
    {
     "name": "stderr",
     "output_type": "stream",
     "text": [
      "/opt/conda/lib/python3.7/site-packages/ipykernel_launcher.py:11: ResourceWarning: unclosed file <_io.BufferedWriter name='./Data Exploration/data/uc1/PEH_uc1_0.2_smote_mlp_(128, 128)_model.pkl'>\n",
      "  # This is added back by InteractiveShellApp.init_path()\n",
      "ResourceWarning: Enable tracemalloc to get the object allocation traceback\n"
     ]
    },
    {
     "name": "stdout",
     "output_type": "stream",
     "text": [
      "PEH Training set 0.2 SMOTE mlp (128, 128) score: 1.0\n",
      "PEH Test set 0.2 SMOTE mlp (128, 128) score: 0.999056010069226\n",
      "PEH Accuracy:  0.999056010069226\n",
      "PEH mlp (128, 128)\n",
      " [[9525    2]\n",
      " [   7    0]]\n",
      "PEH mlp (128, 128)\n",
      "               precision    recall  f1-score   support\n",
      "\n",
      "           0       1.00      1.00      1.00      9527\n",
      "           1       0.00      0.00      0.00         7\n",
      "\n",
      "    accuracy                           1.00      9534\n",
      "   macro avg       0.50      0.50      0.50      9534\n",
      "weighted avg       1.00      1.00      1.00      9534\n",
      "\n"
     ]
    },
    {
     "name": "stderr",
     "output_type": "stream",
     "text": [
      "/opt/conda/lib/python3.7/site-packages/sklearn/utils/validation.py:72: DataConversionWarning: A column-vector y was passed when a 1d array was expected. Please change the shape of y to (n_samples, ), for example using ravel().\n",
      "  return f(**kwargs)\n"
     ]
    },
    {
     "name": "stdout",
     "output_type": "stream",
     "text": [
      "Iteration 1, loss = 0.08874588\n",
      "Iteration 2, loss = 0.00382715\n",
      "Iteration 3, loss = 0.00087609\n",
      "Iteration 4, loss = 0.00043254\n",
      "Iteration 5, loss = 0.00029678\n",
      "Iteration 6, loss = 0.00019205\n",
      "Iteration 7, loss = 0.00016098\n",
      "Iteration 8, loss = 0.00014136\n",
      "Iteration 9, loss = 0.00013364\n",
      "Iteration 10, loss = 0.00012169\n",
      "Iteration 11, loss = 0.00011494\n",
      "Iteration 12, loss = 0.00010995\n",
      "Iteration 13, loss = 0.00010600\n",
      "Iteration 14, loss = 0.00010265\n",
      "Iteration 15, loss = 0.00009956\n",
      "Iteration 16, loss = 0.00009638\n",
      "Iteration 17, loss = 0.00009413\n",
      "Training loss did not improve more than tol=0.000100 for 10 consecutive epochs. Stopping.\n",
      "MLPClassifier(hidden_layer_sizes=(128, 128), max_iter=1000, verbose=1)\n"
     ]
    },
    {
     "name": "stderr",
     "output_type": "stream",
     "text": [
      "/opt/conda/lib/python3.7/site-packages/ipykernel_launcher.py:11: ResourceWarning: unclosed file <_io.BufferedWriter name='./Data Exploration/data/uc1/PEH_uc1_0.3_smote_mlp_(128, 128)_model.pkl'>\n",
      "  # This is added back by InteractiveShellApp.init_path()\n",
      "ResourceWarning: Enable tracemalloc to get the object allocation traceback\n"
     ]
    },
    {
     "name": "stdout",
     "output_type": "stream",
     "text": [
      "PEH Training set 0.3 SMOTE mlp (128, 128) score: 1.0\n",
      "PEH Test set 0.3 SMOTE mlp (128, 128) score: 0.999160897839312\n",
      "PEH Accuracy:  0.999160897839312\n",
      "PEH mlp (128, 128)\n",
      " [[9526    1]\n",
      " [   7    0]]\n",
      "PEH mlp (128, 128)\n",
      "               precision    recall  f1-score   support\n",
      "\n",
      "           0       1.00      1.00      1.00      9527\n",
      "           1       0.00      0.00      0.00         7\n",
      "\n",
      "    accuracy                           1.00      9534\n",
      "   macro avg       0.50      0.50      0.50      9534\n",
      "weighted avg       1.00      1.00      1.00      9534\n",
      "\n"
     ]
    },
    {
     "name": "stderr",
     "output_type": "stream",
     "text": [
      "/opt/conda/lib/python3.7/site-packages/sklearn/utils/validation.py:72: DataConversionWarning: A column-vector y was passed when a 1d array was expected. Please change the shape of y to (n_samples, ), for example using ravel().\n",
      "  return f(**kwargs)\n"
     ]
    },
    {
     "name": "stdout",
     "output_type": "stream",
     "text": [
      "Iteration 1, loss = 0.07345053\n",
      "Iteration 2, loss = 0.00240033\n",
      "Iteration 3, loss = 0.00067462\n",
      "Iteration 4, loss = 0.00029943\n",
      "Iteration 5, loss = 0.00018700\n",
      "Iteration 6, loss = 0.00014563\n",
      "Iteration 7, loss = 0.00013095\n",
      "Iteration 8, loss = 0.00012207\n",
      "Iteration 9, loss = 0.00011494\n",
      "Iteration 10, loss = 0.00010978\n",
      "Iteration 11, loss = 0.00010603\n",
      "Iteration 12, loss = 0.00010215\n",
      "Iteration 13, loss = 0.00009856\n",
      "Iteration 14, loss = 0.00009576\n",
      "Iteration 15, loss = 0.00009333\n",
      "Iteration 16, loss = 0.00009059\n",
      "Training loss did not improve more than tol=0.000100 for 10 consecutive epochs. Stopping.\n",
      "MLPClassifier(hidden_layer_sizes=(128, 128), max_iter=1000, verbose=1)\n"
     ]
    },
    {
     "name": "stderr",
     "output_type": "stream",
     "text": [
      "/opt/conda/lib/python3.7/site-packages/ipykernel_launcher.py:11: ResourceWarning: unclosed file <_io.BufferedWriter name='./Data Exploration/data/uc1/PEH_uc1_0.5_smote_mlp_(128, 128)_model.pkl'>\n",
      "  # This is added back by InteractiveShellApp.init_path()\n",
      "ResourceWarning: Enable tracemalloc to get the object allocation traceback\n"
     ]
    },
    {
     "name": "stdout",
     "output_type": "stream",
     "text": [
      "PEH Training set 0.5 SMOTE mlp (128, 128) score: 1.0\n",
      "PEH Test set 0.5 SMOTE mlp (128, 128) score: 0.999056010069226\n",
      "PEH Accuracy:  0.999056010069226\n",
      "PEH mlp (128, 128)\n",
      " [[9525    2]\n",
      " [   7    0]]\n",
      "PEH mlp (128, 128)\n",
      "               precision    recall  f1-score   support\n",
      "\n",
      "           0       1.00      1.00      1.00      9527\n",
      "           1       0.00      0.00      0.00         7\n",
      "\n",
      "    accuracy                           1.00      9534\n",
      "   macro avg       0.50      0.50      0.50      9534\n",
      "weighted avg       1.00      1.00      1.00      9534\n",
      "\n"
     ]
    },
    {
     "name": "stderr",
     "output_type": "stream",
     "text": [
      "/opt/conda/lib/python3.7/site-packages/sklearn/utils/validation.py:72: DataConversionWarning: A column-vector y was passed when a 1d array was expected. Please change the shape of y to (n_samples, ), for example using ravel().\n",
      "  return f(**kwargs)\n"
     ]
    },
    {
     "name": "stdout",
     "output_type": "stream",
     "text": [
      "Iteration 1, loss = 0.05513641\n",
      "Iteration 2, loss = 0.00139109\n",
      "Iteration 3, loss = 0.00045020\n",
      "Iteration 4, loss = 0.00027346\n",
      "Iteration 5, loss = 0.00018598\n",
      "Iteration 6, loss = 0.00012551\n",
      "Iteration 7, loss = 0.00011253\n",
      "Iteration 8, loss = 0.00010635\n",
      "Iteration 9, loss = 0.00010111\n",
      "Iteration 10, loss = 0.00009706\n",
      "Iteration 11, loss = 0.00009353\n",
      "Iteration 12, loss = 0.00009010\n",
      "Iteration 13, loss = 0.00008678\n",
      "Iteration 14, loss = 0.00008385\n",
      "Iteration 15, loss = 0.00008122\n",
      "Training loss did not improve more than tol=0.000100 for 10 consecutive epochs. Stopping.\n",
      "MLPClassifier(hidden_layer_sizes=(128, 128), max_iter=1000, verbose=1)\n"
     ]
    },
    {
     "name": "stderr",
     "output_type": "stream",
     "text": [
      "/opt/conda/lib/python3.7/site-packages/ipykernel_launcher.py:11: ResourceWarning: unclosed file <_io.BufferedWriter name='./Data Exploration/data/uc1/PEH_uc1_1.0_smote_mlp_(128, 128)_model.pkl'>\n",
      "  # This is added back by InteractiveShellApp.init_path()\n",
      "ResourceWarning: Enable tracemalloc to get the object allocation traceback\n"
     ]
    },
    {
     "name": "stdout",
     "output_type": "stream",
     "text": [
      "PEH Training set 1.0 SMOTE mlp (128, 128) score: 1.0\n",
      "PEH Test set 1.0 SMOTE mlp (128, 128) score: 0.998846234529054\n",
      "PEH Accuracy:  0.998846234529054\n",
      "PEH mlp (128, 128)\n",
      " [[9523    4]\n",
      " [   7    0]]\n",
      "PEH mlp (128, 128)\n",
      "               precision    recall  f1-score   support\n",
      "\n",
      "           0       1.00      1.00      1.00      9527\n",
      "           1       0.00      0.00      0.00         7\n",
      "\n",
      "    accuracy                           1.00      9534\n",
      "   macro avg       0.50      0.50      0.50      9534\n",
      "weighted avg       1.00      1.00      1.00      9534\n",
      "\n"
     ]
    },
    {
     "name": "stderr",
     "output_type": "stream",
     "text": [
      "/opt/conda/lib/python3.7/site-packages/sklearn/utils/validation.py:72: DataConversionWarning: A column-vector y was passed when a 1d array was expected. Please change the shape of y to (n_samples, ), for example using ravel().\n",
      "  return f(**kwargs)\n"
     ]
    },
    {
     "name": "stdout",
     "output_type": "stream",
     "text": [
      "Iteration 1, loss = 0.07720533\n",
      "Iteration 2, loss = 0.00119667\n",
      "Iteration 3, loss = 0.00044136\n",
      "Iteration 4, loss = 0.00030072\n",
      "Iteration 5, loss = 0.00022983\n",
      "Iteration 6, loss = 0.00019978\n",
      "Iteration 7, loss = 0.00018417\n",
      "Iteration 8, loss = 0.00017346\n",
      "Iteration 9, loss = 0.00016516\n",
      "Iteration 10, loss = 0.00015856\n",
      "Iteration 11, loss = 0.00015327\n",
      "Iteration 12, loss = 0.00014821\n",
      "Iteration 13, loss = 0.00014382\n",
      "Iteration 14, loss = 0.00013964\n",
      "Iteration 15, loss = 0.00013576\n",
      "Training loss did not improve more than tol=0.000100 for 10 consecutive epochs. Stopping.\n",
      "MLPClassifier(hidden_layer_sizes=(256, 256), max_iter=1000, verbose=1)\n"
     ]
    },
    {
     "name": "stderr",
     "output_type": "stream",
     "text": [
      "/opt/conda/lib/python3.7/site-packages/ipykernel_launcher.py:11: ResourceWarning: unclosed file <_io.BufferedWriter name='./Data Exploration/data/uc1/PEH_uc1_0.1_smote_mlp_(256, 256)_model.pkl'>\n",
      "  # This is added back by InteractiveShellApp.init_path()\n",
      "ResourceWarning: Enable tracemalloc to get the object allocation traceback\n"
     ]
    },
    {
     "name": "stdout",
     "output_type": "stream",
     "text": [
      "PEH Training set 0.1 SMOTE mlp (256, 256) score: 1.0\n",
      "PEH Test set 0.1 SMOTE mlp (256, 256) score: 0.999160897839312\n",
      "PEH Accuracy:  0.999160897839312\n",
      "PEH mlp (256, 256)\n",
      " [[9526    1]\n",
      " [   7    0]]\n",
      "PEH mlp (256, 256)\n",
      "               precision    recall  f1-score   support\n",
      "\n",
      "           0       1.00      1.00      1.00      9527\n",
      "           1       0.00      0.00      0.00         7\n",
      "\n",
      "    accuracy                           1.00      9534\n",
      "   macro avg       0.50      0.50      0.50      9534\n",
      "weighted avg       1.00      1.00      1.00      9534\n",
      "\n"
     ]
    },
    {
     "name": "stderr",
     "output_type": "stream",
     "text": [
      "/opt/conda/lib/python3.7/site-packages/sklearn/utils/validation.py:72: DataConversionWarning: A column-vector y was passed when a 1d array was expected. Please change the shape of y to (n_samples, ), for example using ravel().\n",
      "  return f(**kwargs)\n"
     ]
    },
    {
     "name": "stdout",
     "output_type": "stream",
     "text": [
      "Iteration 1, loss = 0.06121478\n",
      "Iteration 2, loss = 0.00154164\n",
      "Iteration 3, loss = 0.00042593\n",
      "Iteration 4, loss = 0.00026067\n",
      "Iteration 5, loss = 0.00021882\n",
      "Iteration 6, loss = 0.00019661\n",
      "Iteration 7, loss = 0.00018109\n",
      "Iteration 8, loss = 0.00017069\n",
      "Iteration 9, loss = 0.00016283\n",
      "Iteration 10, loss = 0.00015686\n",
      "Iteration 11, loss = 0.00015102\n",
      "Iteration 12, loss = 0.00014635\n",
      "Iteration 13, loss = 0.00014193\n",
      "Iteration 14, loss = 0.00013777\n",
      "Iteration 15, loss = 0.00013397\n",
      "Training loss did not improve more than tol=0.000100 for 10 consecutive epochs. Stopping.\n",
      "MLPClassifier(hidden_layer_sizes=(256, 256), max_iter=1000, verbose=1)\n"
     ]
    },
    {
     "name": "stderr",
     "output_type": "stream",
     "text": [
      "/opt/conda/lib/python3.7/site-packages/ipykernel_launcher.py:11: ResourceWarning: unclosed file <_io.BufferedWriter name='./Data Exploration/data/uc1/PEH_uc1_0.2_smote_mlp_(256, 256)_model.pkl'>\n",
      "  # This is added back by InteractiveShellApp.init_path()\n",
      "ResourceWarning: Enable tracemalloc to get the object allocation traceback\n"
     ]
    },
    {
     "name": "stdout",
     "output_type": "stream",
     "text": [
      "PEH Training set 0.2 SMOTE mlp (256, 256) score: 1.0\n",
      "PEH Test set 0.2 SMOTE mlp (256, 256) score: 0.999056010069226\n",
      "PEH Accuracy:  0.999056010069226\n",
      "PEH mlp (256, 256)\n",
      " [[9525    2]\n",
      " [   7    0]]\n",
      "PEH mlp (256, 256)\n",
      "               precision    recall  f1-score   support\n",
      "\n",
      "           0       1.00      1.00      1.00      9527\n",
      "           1       0.00      0.00      0.00         7\n",
      "\n",
      "    accuracy                           1.00      9534\n",
      "   macro avg       0.50      0.50      0.50      9534\n",
      "weighted avg       1.00      1.00      1.00      9534\n",
      "\n"
     ]
    },
    {
     "name": "stderr",
     "output_type": "stream",
     "text": [
      "/opt/conda/lib/python3.7/site-packages/sklearn/utils/validation.py:72: DataConversionWarning: A column-vector y was passed when a 1d array was expected. Please change the shape of y to (n_samples, ), for example using ravel().\n",
      "  return f(**kwargs)\n"
     ]
    },
    {
     "name": "stdout",
     "output_type": "stream",
     "text": [
      "Iteration 1, loss = 0.05746972\n",
      "Iteration 2, loss = 0.00132600\n",
      "Iteration 3, loss = 0.00038013\n",
      "Iteration 4, loss = 0.00024768\n",
      "Iteration 5, loss = 0.00019848\n",
      "Iteration 6, loss = 0.00018244\n",
      "Iteration 7, loss = 0.00017195\n",
      "Iteration 8, loss = 0.00016371\n",
      "Iteration 9, loss = 0.00015779\n",
      "Iteration 10, loss = 0.00015225\n",
      "Iteration 11, loss = 0.00014731\n",
      "Iteration 12, loss = 0.00014288\n",
      "Iteration 13, loss = 0.00013857\n",
      "Iteration 14, loss = 0.00013469\n",
      "Iteration 15, loss = 0.00013095\n",
      "Training loss did not improve more than tol=0.000100 for 10 consecutive epochs. Stopping.\n",
      "MLPClassifier(hidden_layer_sizes=(256, 256), max_iter=1000, verbose=1)\n"
     ]
    },
    {
     "name": "stderr",
     "output_type": "stream",
     "text": [
      "/opt/conda/lib/python3.7/site-packages/ipykernel_launcher.py:11: ResourceWarning: unclosed file <_io.BufferedWriter name='./Data Exploration/data/uc1/PEH_uc1_0.3_smote_mlp_(256, 256)_model.pkl'>\n",
      "  # This is added back by InteractiveShellApp.init_path()\n",
      "ResourceWarning: Enable tracemalloc to get the object allocation traceback\n"
     ]
    },
    {
     "name": "stdout",
     "output_type": "stream",
     "text": [
      "PEH Training set 0.3 SMOTE mlp (256, 256) score: 1.0\n",
      "PEH Test set 0.3 SMOTE mlp (256, 256) score: 0.999056010069226\n",
      "PEH Accuracy:  0.999056010069226\n",
      "PEH mlp (256, 256)\n",
      " [[9525    2]\n",
      " [   7    0]]\n",
      "PEH mlp (256, 256)\n",
      "               precision    recall  f1-score   support\n",
      "\n",
      "           0       1.00      1.00      1.00      9527\n",
      "           1       0.00      0.00      0.00         7\n",
      "\n",
      "    accuracy                           1.00      9534\n",
      "   macro avg       0.50      0.50      0.50      9534\n",
      "weighted avg       1.00      1.00      1.00      9534\n",
      "\n"
     ]
    },
    {
     "name": "stderr",
     "output_type": "stream",
     "text": [
      "/opt/conda/lib/python3.7/site-packages/sklearn/utils/validation.py:72: DataConversionWarning: A column-vector y was passed when a 1d array was expected. Please change the shape of y to (n_samples, ), for example using ravel().\n",
      "  return f(**kwargs)\n"
     ]
    },
    {
     "name": "stdout",
     "output_type": "stream",
     "text": [
      "Iteration 1, loss = 0.04661484\n",
      "Iteration 2, loss = 0.00267430\n",
      "Iteration 3, loss = 0.00349409\n",
      "Iteration 4, loss = 0.00026005\n",
      "Iteration 5, loss = 0.00020016\n",
      "Iteration 6, loss = 0.00018560\n",
      "Iteration 7, loss = 0.00017349\n",
      "Iteration 8, loss = 0.00016597\n",
      "Iteration 9, loss = 0.00016034\n",
      "Iteration 10, loss = 0.00015562\n",
      "Iteration 11, loss = 0.00015098\n",
      "Iteration 12, loss = 0.00014639\n",
      "Iteration 13, loss = 0.00014242\n",
      "Iteration 14, loss = 0.00013835\n",
      "Iteration 15, loss = 0.00013464\n",
      "Training loss did not improve more than tol=0.000100 for 10 consecutive epochs. Stopping.\n",
      "MLPClassifier(hidden_layer_sizes=(256, 256), max_iter=1000, verbose=1)\n"
     ]
    },
    {
     "name": "stderr",
     "output_type": "stream",
     "text": [
      "/opt/conda/lib/python3.7/site-packages/ipykernel_launcher.py:11: ResourceWarning: unclosed file <_io.BufferedWriter name='./Data Exploration/data/uc1/PEH_uc1_0.5_smote_mlp_(256, 256)_model.pkl'>\n",
      "  # This is added back by InteractiveShellApp.init_path()\n",
      "ResourceWarning: Enable tracemalloc to get the object allocation traceback\n"
     ]
    },
    {
     "name": "stdout",
     "output_type": "stream",
     "text": [
      "PEH Training set 0.5 SMOTE mlp (256, 256) score: 1.0\n",
      "PEH Test set 0.5 SMOTE mlp (256, 256) score: 0.99895112229914\n",
      "PEH Accuracy:  0.99895112229914\n",
      "PEH mlp (256, 256)\n",
      " [[9524    3]\n",
      " [   7    0]]\n",
      "PEH mlp (256, 256)\n",
      "               precision    recall  f1-score   support\n",
      "\n",
      "           0       1.00      1.00      1.00      9527\n",
      "           1       0.00      0.00      0.00         7\n",
      "\n",
      "    accuracy                           1.00      9534\n",
      "   macro avg       0.50      0.50      0.50      9534\n",
      "weighted avg       1.00      1.00      1.00      9534\n",
      "\n"
     ]
    },
    {
     "name": "stderr",
     "output_type": "stream",
     "text": [
      "/opt/conda/lib/python3.7/site-packages/sklearn/utils/validation.py:72: DataConversionWarning: A column-vector y was passed when a 1d array was expected. Please change the shape of y to (n_samples, ), for example using ravel().\n",
      "  return f(**kwargs)\n"
     ]
    },
    {
     "name": "stdout",
     "output_type": "stream",
     "text": [
      "Iteration 1, loss = 0.03831099\n",
      "Iteration 2, loss = 0.00344561\n",
      "Iteration 3, loss = 0.00138213\n",
      "Iteration 4, loss = 0.00034852\n",
      "Iteration 5, loss = 0.00018232\n",
      "Iteration 6, loss = 0.00016960\n",
      "Iteration 7, loss = 0.00016161\n",
      "Iteration 8, loss = 0.00015627\n",
      "Iteration 9, loss = 0.00015009\n",
      "Iteration 10, loss = 0.00014500\n",
      "Iteration 11, loss = 0.00014002\n",
      "Iteration 12, loss = 0.00013526\n",
      "Iteration 13, loss = 0.00013079\n",
      "Iteration 14, loss = 0.00012630\n",
      "Iteration 15, loss = 0.00012198\n",
      "Iteration 16, loss = 0.00011751\n",
      "Training loss did not improve more than tol=0.000100 for 10 consecutive epochs. Stopping.\n",
      "MLPClassifier(hidden_layer_sizes=(256, 256), max_iter=1000, verbose=1)\n"
     ]
    },
    {
     "name": "stderr",
     "output_type": "stream",
     "text": [
      "/opt/conda/lib/python3.7/site-packages/ipykernel_launcher.py:11: ResourceWarning: unclosed file <_io.BufferedWriter name='./Data Exploration/data/uc1/PEH_uc1_1.0_smote_mlp_(256, 256)_model.pkl'>\n",
      "  # This is added back by InteractiveShellApp.init_path()\n",
      "ResourceWarning: Enable tracemalloc to get the object allocation traceback\n"
     ]
    },
    {
     "name": "stdout",
     "output_type": "stream",
     "text": [
      "PEH Training set 1.0 SMOTE mlp (256, 256) score: 1.0\n",
      "PEH Test set 1.0 SMOTE mlp (256, 256) score: 0.999056010069226\n",
      "PEH Accuracy:  0.999056010069226\n",
      "PEH mlp (256, 256)\n",
      " [[9525    2]\n",
      " [   7    0]]\n",
      "PEH mlp (256, 256)\n",
      "               precision    recall  f1-score   support\n",
      "\n",
      "           0       1.00      1.00      1.00      9527\n",
      "           1       0.00      0.00      0.00         7\n",
      "\n",
      "    accuracy                           1.00      9534\n",
      "   macro avg       0.50      0.50      0.50      9534\n",
      "weighted avg       1.00      1.00      1.00      9534\n",
      "\n"
     ]
    },
    {
     "name": "stderr",
     "output_type": "stream",
     "text": [
      "/opt/conda/lib/python3.7/site-packages/sklearn/utils/validation.py:72: DataConversionWarning: A column-vector y was passed when a 1d array was expected. Please change the shape of y to (n_samples, ), for example using ravel().\n",
      "  return f(**kwargs)\n"
     ]
    },
    {
     "name": "stdout",
     "output_type": "stream",
     "text": [
      "Iteration 1, loss = 0.35618484\n",
      "Iteration 2, loss = 0.04915604\n",
      "Iteration 3, loss = 0.00619054\n",
      "Iteration 4, loss = 0.00237684\n",
      "Iteration 5, loss = 0.00131435\n",
      "Iteration 6, loss = 0.00093264\n",
      "Iteration 7, loss = 0.00063656\n",
      "Iteration 8, loss = 0.00053208\n",
      "Iteration 9, loss = 0.00038160\n",
      "Iteration 10, loss = 0.00038654\n",
      "Iteration 11, loss = 0.00040750\n",
      "Iteration 12, loss = 0.00018200\n",
      "Iteration 13, loss = 0.00016582\n",
      "Iteration 14, loss = 0.00017289\n",
      "Iteration 15, loss = 0.00010286\n",
      "Iteration 16, loss = 0.00012690\n",
      "Iteration 17, loss = 0.00009030\n",
      "Iteration 18, loss = 0.00007066\n",
      "Iteration 19, loss = 0.00007207\n",
      "Iteration 20, loss = 0.00006669\n",
      "Iteration 21, loss = 0.00006041\n",
      "Iteration 22, loss = 0.00005771\n",
      "Iteration 23, loss = 0.00005274\n",
      "Training loss did not improve more than tol=0.000100 for 10 consecutive epochs. Stopping.\n",
      "MLPClassifier(hidden_layer_sizes=(16, 16, 16), max_iter=1000, verbose=1)\n",
      "PEH Training set 0.1 SMOTE mlp (16, 16, 16) score: 1.0\n",
      "PEH Test set 0.1 SMOTE mlp (16, 16, 16) score: 0.998846234529054\n",
      "PEH Accuracy:  0.998846234529054\n"
     ]
    },
    {
     "name": "stderr",
     "output_type": "stream",
     "text": [
      "/opt/conda/lib/python3.7/site-packages/ipykernel_launcher.py:11: ResourceWarning: unclosed file <_io.BufferedWriter name='./Data Exploration/data/uc1/PEH_uc1_0.1_smote_mlp_(16, 16, 16)_model.pkl'>\n",
      "  # This is added back by InteractiveShellApp.init_path()\n",
      "ResourceWarning: Enable tracemalloc to get the object allocation traceback\n"
     ]
    },
    {
     "name": "stdout",
     "output_type": "stream",
     "text": [
      "PEH mlp (16, 16, 16)\n",
      " [[9523    4]\n",
      " [   7    0]]\n",
      "PEH mlp (16, 16, 16)\n",
      "               precision    recall  f1-score   support\n",
      "\n",
      "           0       1.00      1.00      1.00      9527\n",
      "           1       0.00      0.00      0.00         7\n",
      "\n",
      "    accuracy                           1.00      9534\n",
      "   macro avg       0.50      0.50      0.50      9534\n",
      "weighted avg       1.00      1.00      1.00      9534\n",
      "\n"
     ]
    },
    {
     "name": "stderr",
     "output_type": "stream",
     "text": [
      "/opt/conda/lib/python3.7/site-packages/sklearn/utils/validation.py:72: DataConversionWarning: A column-vector y was passed when a 1d array was expected. Please change the shape of y to (n_samples, ), for example using ravel().\n",
      "  return f(**kwargs)\n"
     ]
    },
    {
     "name": "stdout",
     "output_type": "stream",
     "text": [
      "Iteration 1, loss = 0.27231895\n",
      "Iteration 2, loss = 0.00969850\n",
      "Iteration 3, loss = 0.00362874\n",
      "Iteration 4, loss = 0.00192162\n",
      "Iteration 5, loss = 0.00113932\n",
      "Iteration 6, loss = 0.00085094\n",
      "Iteration 7, loss = 0.00063357\n",
      "Iteration 8, loss = 0.00050866\n",
      "Iteration 9, loss = 0.00041470\n",
      "Iteration 10, loss = 0.00034473\n",
      "Iteration 11, loss = 0.00027882\n",
      "Iteration 12, loss = 0.00027373\n",
      "Iteration 13, loss = 0.00020609\n",
      "Iteration 14, loss = 0.00016709\n",
      "Iteration 15, loss = 0.00013098\n",
      "Iteration 16, loss = 0.00010936\n",
      "Iteration 17, loss = 0.00008952\n",
      "Iteration 18, loss = 0.00007021\n",
      "Iteration 19, loss = 0.00007060\n",
      "Training loss did not improve more than tol=0.000100 for 10 consecutive epochs. Stopping.\n",
      "MLPClassifier(hidden_layer_sizes=(16, 16, 16), max_iter=1000, verbose=1)\n",
      "PEH Training set 0.2 SMOTE mlp (16, 16, 16) score: 1.0\n",
      "PEH Test set 0.2 SMOTE mlp (16, 16, 16) score: 0.9986364589888819\n",
      "PEH Accuracy:  0.9986364589888819\n"
     ]
    },
    {
     "name": "stderr",
     "output_type": "stream",
     "text": [
      "/opt/conda/lib/python3.7/site-packages/ipykernel_launcher.py:11: ResourceWarning: unclosed file <_io.BufferedWriter name='./Data Exploration/data/uc1/PEH_uc1_0.2_smote_mlp_(16, 16, 16)_model.pkl'>\n",
      "  # This is added back by InteractiveShellApp.init_path()\n",
      "ResourceWarning: Enable tracemalloc to get the object allocation traceback\n"
     ]
    },
    {
     "name": "stdout",
     "output_type": "stream",
     "text": [
      "PEH mlp (16, 16, 16)\n",
      " [[9521    6]\n",
      " [   7    0]]\n",
      "PEH mlp (16, 16, 16)\n",
      "               precision    recall  f1-score   support\n",
      "\n",
      "           0       1.00      1.00      1.00      9527\n",
      "           1       0.00      0.00      0.00         7\n",
      "\n",
      "    accuracy                           1.00      9534\n",
      "   macro avg       0.50      0.50      0.50      9534\n",
      "weighted avg       1.00      1.00      1.00      9534\n",
      "\n"
     ]
    },
    {
     "name": "stderr",
     "output_type": "stream",
     "text": [
      "/opt/conda/lib/python3.7/site-packages/sklearn/utils/validation.py:72: DataConversionWarning: A column-vector y was passed when a 1d array was expected. Please change the shape of y to (n_samples, ), for example using ravel().\n",
      "  return f(**kwargs)\n"
     ]
    },
    {
     "name": "stdout",
     "output_type": "stream",
     "text": [
      "Iteration 1, loss = 0.31316264\n",
      "Iteration 2, loss = 0.01134547\n",
      "Iteration 3, loss = 0.00454538\n",
      "Iteration 4, loss = 0.00250309\n",
      "Iteration 5, loss = 0.00163348\n",
      "Iteration 6, loss = 0.00110141\n",
      "Iteration 7, loss = 0.00074219\n",
      "Iteration 8, loss = 0.00063837\n",
      "Iteration 9, loss = 0.00054086\n",
      "Iteration 10, loss = 0.00044039\n",
      "Iteration 11, loss = 0.00096210\n",
      "Iteration 12, loss = 0.00045919\n",
      "Iteration 13, loss = 0.00021963\n",
      "Iteration 14, loss = 0.00023377\n",
      "Iteration 15, loss = 0.00014445\n",
      "Iteration 16, loss = 0.00010926\n",
      "Iteration 17, loss = 0.00008575\n",
      "Iteration 18, loss = 0.00008112\n",
      "Iteration 19, loss = 0.00006876\n",
      "Iteration 20, loss = 0.00006468\n",
      "Iteration 21, loss = 0.00005524\n",
      "Iteration 22, loss = 0.00005391\n",
      "Iteration 23, loss = 0.00004920\n",
      "Iteration 24, loss = 0.00004795\n",
      "Training loss did not improve more than tol=0.000100 for 10 consecutive epochs. Stopping.\n",
      "MLPClassifier(hidden_layer_sizes=(16, 16, 16), max_iter=1000, verbose=1)\n",
      "PEH Training set 0.3 SMOTE mlp (16, 16, 16) score: 1.0\n"
     ]
    },
    {
     "name": "stderr",
     "output_type": "stream",
     "text": [
      "/opt/conda/lib/python3.7/site-packages/ipykernel_launcher.py:11: ResourceWarning: unclosed file <_io.BufferedWriter name='./Data Exploration/data/uc1/PEH_uc1_0.3_smote_mlp_(16, 16, 16)_model.pkl'>\n",
      "  # This is added back by InteractiveShellApp.init_path()\n",
      "ResourceWarning: Enable tracemalloc to get the object allocation traceback\n"
     ]
    },
    {
     "name": "stdout",
     "output_type": "stream",
     "text": [
      "PEH Test set 0.3 SMOTE mlp (16, 16, 16) score: 0.9986364589888819\n",
      "PEH Accuracy:  0.9986364589888819\n",
      "PEH mlp (16, 16, 16)\n",
      " [[9521    6]\n",
      " [   7    0]]\n",
      "PEH mlp (16, 16, 16)\n",
      "               precision    recall  f1-score   support\n",
      "\n",
      "           0       1.00      1.00      1.00      9527\n",
      "           1       0.00      0.00      0.00         7\n",
      "\n",
      "    accuracy                           1.00      9534\n",
      "   macro avg       0.50      0.50      0.50      9534\n",
      "weighted avg       1.00      1.00      1.00      9534\n",
      "\n"
     ]
    },
    {
     "name": "stderr",
     "output_type": "stream",
     "text": [
      "/opt/conda/lib/python3.7/site-packages/sklearn/utils/validation.py:72: DataConversionWarning: A column-vector y was passed when a 1d array was expected. Please change the shape of y to (n_samples, ), for example using ravel().\n",
      "  return f(**kwargs)\n"
     ]
    },
    {
     "name": "stdout",
     "output_type": "stream",
     "text": [
      "Iteration 1, loss = 0.17967165\n",
      "Iteration 2, loss = 0.00761212\n",
      "Iteration 3, loss = 0.00303618\n",
      "Iteration 4, loss = 0.00189609\n",
      "Iteration 5, loss = 0.00110802\n",
      "Iteration 6, loss = 0.00078905\n",
      "Iteration 7, loss = 0.00050597\n",
      "Iteration 8, loss = 0.00044402\n",
      "Iteration 9, loss = 0.00028897\n",
      "Iteration 10, loss = 0.00022443\n",
      "Iteration 11, loss = 0.00014492\n",
      "Iteration 12, loss = 0.00011851\n",
      "Iteration 13, loss = 0.00006466\n",
      "Iteration 14, loss = 0.00005726\n",
      "Iteration 15, loss = 0.00005709\n",
      "Iteration 16, loss = 0.00004911\n",
      "Iteration 17, loss = 0.00004543\n",
      "Iteration 18, loss = 0.00004363\n",
      "Iteration 19, loss = 0.00004342\n",
      "Iteration 20, loss = 0.00003913\n",
      "Training loss did not improve more than tol=0.000100 for 10 consecutive epochs. Stopping.\n",
      "MLPClassifier(hidden_layer_sizes=(16, 16, 16), max_iter=1000, verbose=1)\n",
      "PEH Training set 0.5 SMOTE mlp (16, 16, 16) score: 1.0\n"
     ]
    },
    {
     "name": "stderr",
     "output_type": "stream",
     "text": [
      "/opt/conda/lib/python3.7/site-packages/ipykernel_launcher.py:11: ResourceWarning: unclosed file <_io.BufferedWriter name='./Data Exploration/data/uc1/PEH_uc1_0.5_smote_mlp_(16, 16, 16)_model.pkl'>\n",
      "  # This is added back by InteractiveShellApp.init_path()\n",
      "ResourceWarning: Enable tracemalloc to get the object allocation traceback\n"
     ]
    },
    {
     "name": "stdout",
     "output_type": "stream",
     "text": [
      "PEH Test set 0.5 SMOTE mlp (16, 16, 16) score: 0.9986364589888819\n",
      "PEH Accuracy:  0.9986364589888819\n",
      "PEH mlp (16, 16, 16)\n",
      " [[9521    6]\n",
      " [   7    0]]\n",
      "PEH mlp (16, 16, 16)\n",
      "               precision    recall  f1-score   support\n",
      "\n",
      "           0       1.00      1.00      1.00      9527\n",
      "           1       0.00      0.00      0.00         7\n",
      "\n",
      "    accuracy                           1.00      9534\n",
      "   macro avg       0.50      0.50      0.50      9534\n",
      "weighted avg       1.00      1.00      1.00      9534\n",
      "\n"
     ]
    },
    {
     "name": "stderr",
     "output_type": "stream",
     "text": [
      "/opt/conda/lib/python3.7/site-packages/sklearn/utils/validation.py:72: DataConversionWarning: A column-vector y was passed when a 1d array was expected. Please change the shape of y to (n_samples, ), for example using ravel().\n",
      "  return f(**kwargs)\n"
     ]
    },
    {
     "name": "stdout",
     "output_type": "stream",
     "text": [
      "Iteration 1, loss = 0.13340111\n",
      "Iteration 2, loss = 0.00420270\n",
      "Iteration 3, loss = 0.00185654\n",
      "Iteration 4, loss = 0.00104349\n",
      "Iteration 5, loss = 0.00062571\n",
      "Iteration 6, loss = 0.00044509\n",
      "Iteration 7, loss = 0.00030931\n",
      "Iteration 8, loss = 0.00024587\n",
      "Iteration 9, loss = 0.00020264\n",
      "Iteration 10, loss = 0.00013933\n",
      "Iteration 11, loss = 0.00011613\n",
      "Iteration 12, loss = 0.00006335\n",
      "Iteration 13, loss = 0.00004996\n",
      "Iteration 14, loss = 0.00004536\n",
      "Iteration 15, loss = 0.00004253\n",
      "Iteration 16, loss = 0.00004107\n",
      "Iteration 17, loss = 0.00003941\n",
      "Iteration 18, loss = 0.00003746\n",
      "Training loss did not improve more than tol=0.000100 for 10 consecutive epochs. Stopping.\n",
      "MLPClassifier(hidden_layer_sizes=(16, 16, 16), max_iter=1000, verbose=1)\n"
     ]
    },
    {
     "name": "stderr",
     "output_type": "stream",
     "text": [
      "/opt/conda/lib/python3.7/site-packages/ipykernel_launcher.py:11: ResourceWarning: unclosed file <_io.BufferedWriter name='./Data Exploration/data/uc1/PEH_uc1_1.0_smote_mlp_(16, 16, 16)_model.pkl'>\n",
      "  # This is added back by InteractiveShellApp.init_path()\n",
      "ResourceWarning: Enable tracemalloc to get the object allocation traceback\n"
     ]
    },
    {
     "name": "stdout",
     "output_type": "stream",
     "text": [
      "PEH Training set 1.0 SMOTE mlp (16, 16, 16) score: 1.0\n",
      "PEH Test set 1.0 SMOTE mlp (16, 16, 16) score: 0.9986364589888819\n",
      "PEH Accuracy:  0.9986364589888819\n",
      "PEH mlp (16, 16, 16)\n",
      " [[9521    6]\n",
      " [   7    0]]\n",
      "PEH mlp (16, 16, 16)\n",
      "               precision    recall  f1-score   support\n",
      "\n",
      "           0       1.00      1.00      1.00      9527\n",
      "           1       0.00      0.00      0.00         7\n",
      "\n",
      "    accuracy                           1.00      9534\n",
      "   macro avg       0.50      0.50      0.50      9534\n",
      "weighted avg       1.00      1.00      1.00      9534\n",
      "\n"
     ]
    },
    {
     "name": "stderr",
     "output_type": "stream",
     "text": [
      "/opt/conda/lib/python3.7/site-packages/sklearn/utils/validation.py:72: DataConversionWarning: A column-vector y was passed when a 1d array was expected. Please change the shape of y to (n_samples, ), for example using ravel().\n",
      "  return f(**kwargs)\n"
     ]
    },
    {
     "name": "stdout",
     "output_type": "stream",
     "text": [
      "Iteration 1, loss = 0.20693135\n",
      "Iteration 2, loss = 0.00665462\n",
      "Iteration 3, loss = 0.00205959\n",
      "Iteration 4, loss = 0.00080678\n",
      "Iteration 5, loss = 0.00041088\n",
      "Iteration 6, loss = 0.00024524\n",
      "Iteration 7, loss = 0.00020780\n",
      "Iteration 8, loss = 0.00012675\n",
      "Iteration 9, loss = 0.00010270\n",
      "Iteration 10, loss = 0.00008620\n",
      "Iteration 11, loss = 0.00007775\n",
      "Iteration 12, loss = 0.00006952\n",
      "Iteration 13, loss = 0.00006444\n",
      "Iteration 14, loss = 0.00005978\n",
      "Iteration 15, loss = 0.00005731\n",
      "Iteration 16, loss = 0.00005450\n",
      "Iteration 17, loss = 0.00005277\n",
      "Training loss did not improve more than tol=0.000100 for 10 consecutive epochs. Stopping.\n",
      "MLPClassifier(hidden_layer_sizes=(32, 32, 32), max_iter=1000, verbose=1)\n",
      "PEH Training set 0.1 SMOTE mlp (32, 32, 32) score: 1.0\n"
     ]
    },
    {
     "name": "stderr",
     "output_type": "stream",
     "text": [
      "/opt/conda/lib/python3.7/site-packages/ipykernel_launcher.py:11: ResourceWarning: unclosed file <_io.BufferedWriter name='./Data Exploration/data/uc1/PEH_uc1_0.1_smote_mlp_(32, 32, 32)_model.pkl'>\n",
      "  # This is added back by InteractiveShellApp.init_path()\n",
      "ResourceWarning: Enable tracemalloc to get the object allocation traceback\n"
     ]
    },
    {
     "name": "stdout",
     "output_type": "stream",
     "text": [
      "PEH Test set 0.1 SMOTE mlp (32, 32, 32) score: 0.998846234529054\n",
      "PEH Accuracy:  0.998846234529054\n",
      "PEH mlp (32, 32, 32)\n",
      " [[9523    4]\n",
      " [   7    0]]\n",
      "PEH mlp (32, 32, 32)\n",
      "               precision    recall  f1-score   support\n",
      "\n",
      "           0       1.00      1.00      1.00      9527\n",
      "           1       0.00      0.00      0.00         7\n",
      "\n",
      "    accuracy                           1.00      9534\n",
      "   macro avg       0.50      0.50      0.50      9534\n",
      "weighted avg       1.00      1.00      1.00      9534\n",
      "\n"
     ]
    },
    {
     "name": "stderr",
     "output_type": "stream",
     "text": [
      "/opt/conda/lib/python3.7/site-packages/sklearn/utils/validation.py:72: DataConversionWarning: A column-vector y was passed when a 1d array was expected. Please change the shape of y to (n_samples, ), for example using ravel().\n",
      "  return f(**kwargs)\n"
     ]
    },
    {
     "name": "stdout",
     "output_type": "stream",
     "text": [
      "Iteration 1, loss = 0.21087572\n",
      "Iteration 2, loss = 0.00554239\n",
      "Iteration 3, loss = 0.00229789\n",
      "Iteration 4, loss = 0.00117526\n",
      "Iteration 5, loss = 0.00057059\n",
      "Iteration 6, loss = 0.00040633\n",
      "Iteration 7, loss = 0.00031304\n",
      "Iteration 8, loss = 0.00020472\n",
      "Iteration 9, loss = 0.00019942\n",
      "Iteration 10, loss = 0.00014905\n",
      "Iteration 11, loss = 0.00009523\n",
      "Iteration 12, loss = 0.00007604\n",
      "Iteration 13, loss = 0.00007613\n",
      "Iteration 14, loss = 0.00006860\n",
      "Iteration 15, loss = 0.00006405\n",
      "Iteration 16, loss = 0.00006057\n",
      "Iteration 17, loss = 0.00005797\n",
      "Iteration 18, loss = 0.00005531\n",
      "Iteration 19, loss = 0.00005326\n",
      "Training loss did not improve more than tol=0.000100 for 10 consecutive epochs. Stopping.\n",
      "MLPClassifier(hidden_layer_sizes=(32, 32, 32), max_iter=1000, verbose=1)\n"
     ]
    },
    {
     "name": "stderr",
     "output_type": "stream",
     "text": [
      "/opt/conda/lib/python3.7/site-packages/ipykernel_launcher.py:11: ResourceWarning: unclosed file <_io.BufferedWriter name='./Data Exploration/data/uc1/PEH_uc1_0.2_smote_mlp_(32, 32, 32)_model.pkl'>\n",
      "  # This is added back by InteractiveShellApp.init_path()\n",
      "ResourceWarning: Enable tracemalloc to get the object allocation traceback\n"
     ]
    },
    {
     "name": "stdout",
     "output_type": "stream",
     "text": [
      "PEH Training set 0.2 SMOTE mlp (32, 32, 32) score: 1.0\n",
      "PEH Test set 0.2 SMOTE mlp (32, 32, 32) score: 0.99895112229914\n",
      "PEH Accuracy:  0.99895112229914\n",
      "PEH mlp (32, 32, 32)\n",
      " [[9524    3]\n",
      " [   7    0]]\n",
      "PEH mlp (32, 32, 32)\n",
      "               precision    recall  f1-score   support\n",
      "\n",
      "           0       1.00      1.00      1.00      9527\n",
      "           1       0.00      0.00      0.00         7\n",
      "\n",
      "    accuracy                           1.00      9534\n",
      "   macro avg       0.50      0.50      0.50      9534\n",
      "weighted avg       1.00      1.00      1.00      9534\n",
      "\n"
     ]
    },
    {
     "name": "stderr",
     "output_type": "stream",
     "text": [
      "/opt/conda/lib/python3.7/site-packages/sklearn/utils/validation.py:72: DataConversionWarning: A column-vector y was passed when a 1d array was expected. Please change the shape of y to (n_samples, ), for example using ravel().\n",
      "  return f(**kwargs)\n"
     ]
    },
    {
     "name": "stdout",
     "output_type": "stream",
     "text": [
      "Iteration 1, loss = 0.15783781\n",
      "Iteration 2, loss = 0.00435979\n",
      "Iteration 3, loss = 0.00184084\n",
      "Iteration 4, loss = 0.00086143\n",
      "Iteration 5, loss = 0.00050726\n",
      "Iteration 6, loss = 0.00034547\n",
      "Iteration 7, loss = 0.00024686\n",
      "Iteration 8, loss = 0.00020092\n",
      "Iteration 9, loss = 0.00019935\n",
      "Iteration 10, loss = 0.00010580\n",
      "Iteration 11, loss = 0.00006879\n",
      "Iteration 12, loss = 0.00006660\n",
      "Iteration 13, loss = 0.00006031\n",
      "Iteration 14, loss = 0.00005544\n",
      "Iteration 15, loss = 0.00005266\n",
      "Iteration 16, loss = 0.00005111\n",
      "Iteration 17, loss = 0.00005009\n",
      "Training loss did not improve more than tol=0.000100 for 10 consecutive epochs. Stopping.\n",
      "MLPClassifier(hidden_layer_sizes=(32, 32, 32), max_iter=1000, verbose=1)\n"
     ]
    },
    {
     "name": "stderr",
     "output_type": "stream",
     "text": [
      "/opt/conda/lib/python3.7/site-packages/ipykernel_launcher.py:11: ResourceWarning: unclosed file <_io.BufferedWriter name='./Data Exploration/data/uc1/PEH_uc1_0.3_smote_mlp_(32, 32, 32)_model.pkl'>\n",
      "  # This is added back by InteractiveShellApp.init_path()\n",
      "ResourceWarning: Enable tracemalloc to get the object allocation traceback\n"
     ]
    },
    {
     "name": "stdout",
     "output_type": "stream",
     "text": [
      "PEH Training set 0.3 SMOTE mlp (32, 32, 32) score: 1.0\n",
      "PEH Test set 0.3 SMOTE mlp (32, 32, 32) score: 0.998846234529054\n",
      "PEH Accuracy:  0.998846234529054\n",
      "PEH mlp (32, 32, 32)\n",
      " [[9523    4]\n",
      " [   7    0]]\n",
      "PEH mlp (32, 32, 32)\n",
      "               precision    recall  f1-score   support\n",
      "\n",
      "           0       1.00      1.00      1.00      9527\n",
      "           1       0.00      0.00      0.00         7\n",
      "\n",
      "    accuracy                           1.00      9534\n",
      "   macro avg       0.50      0.50      0.50      9534\n",
      "weighted avg       1.00      1.00      1.00      9534\n",
      "\n"
     ]
    },
    {
     "name": "stderr",
     "output_type": "stream",
     "text": [
      "/opt/conda/lib/python3.7/site-packages/sklearn/utils/validation.py:72: DataConversionWarning: A column-vector y was passed when a 1d array was expected. Please change the shape of y to (n_samples, ), for example using ravel().\n",
      "  return f(**kwargs)\n"
     ]
    },
    {
     "name": "stdout",
     "output_type": "stream",
     "text": [
      "Iteration 1, loss = 0.13013667\n",
      "Iteration 2, loss = 0.00275594\n",
      "Iteration 3, loss = 0.00102924\n",
      "Iteration 4, loss = 0.00051491\n",
      "Iteration 5, loss = 0.00027354\n",
      "Iteration 6, loss = 0.00016191\n",
      "Iteration 7, loss = 0.00008875\n",
      "Iteration 8, loss = 0.00007434\n",
      "Iteration 9, loss = 0.00006597\n",
      "Iteration 10, loss = 0.00006095\n",
      "Iteration 11, loss = 0.00005662\n",
      "Iteration 12, loss = 0.00005356\n",
      "Iteration 13, loss = 0.00005081\n",
      "Iteration 14, loss = 0.00004916\n",
      "Iteration 15, loss = 0.00004723\n",
      "Iteration 16, loss = 0.00004600\n",
      "Iteration 17, loss = 0.00004481\n",
      "Training loss did not improve more than tol=0.000100 for 10 consecutive epochs. Stopping.\n",
      "MLPClassifier(hidden_layer_sizes=(32, 32, 32), max_iter=1000, verbose=1)\n"
     ]
    },
    {
     "name": "stderr",
     "output_type": "stream",
     "text": [
      "/opt/conda/lib/python3.7/site-packages/ipykernel_launcher.py:11: ResourceWarning: unclosed file <_io.BufferedWriter name='./Data Exploration/data/uc1/PEH_uc1_0.5_smote_mlp_(32, 32, 32)_model.pkl'>\n",
      "  # This is added back by InteractiveShellApp.init_path()\n",
      "ResourceWarning: Enable tracemalloc to get the object allocation traceback\n"
     ]
    },
    {
     "name": "stdout",
     "output_type": "stream",
     "text": [
      "PEH Training set 0.5 SMOTE mlp (32, 32, 32) score: 1.0\n",
      "PEH Test set 0.5 SMOTE mlp (32, 32, 32) score: 0.998846234529054\n",
      "PEH Accuracy:  0.998846234529054\n",
      "PEH mlp (32, 32, 32)\n",
      " [[9523    4]\n",
      " [   7    0]]\n",
      "PEH mlp (32, 32, 32)\n",
      "               precision    recall  f1-score   support\n",
      "\n",
      "           0       1.00      1.00      1.00      9527\n",
      "           1       0.00      0.00      0.00         7\n",
      "\n",
      "    accuracy                           1.00      9534\n",
      "   macro avg       0.50      0.50      0.50      9534\n",
      "weighted avg       1.00      1.00      1.00      9534\n",
      "\n"
     ]
    },
    {
     "name": "stderr",
     "output_type": "stream",
     "text": [
      "/opt/conda/lib/python3.7/site-packages/sklearn/utils/validation.py:72: DataConversionWarning: A column-vector y was passed when a 1d array was expected. Please change the shape of y to (n_samples, ), for example using ravel().\n",
      "  return f(**kwargs)\n"
     ]
    },
    {
     "name": "stdout",
     "output_type": "stream",
     "text": [
      "Iteration 1, loss = 0.10763609\n",
      "Iteration 2, loss = 0.00217441\n",
      "Iteration 3, loss = 0.00081581\n",
      "Iteration 4, loss = 0.00044814\n",
      "Iteration 5, loss = 0.00033357\n",
      "Iteration 6, loss = 0.00038643\n",
      "Iteration 7, loss = 0.00030970\n",
      "Iteration 8, loss = 0.00009909\n",
      "Iteration 9, loss = 0.00007188\n",
      "Iteration 10, loss = 0.00005299\n",
      "Iteration 11, loss = 0.00005002\n",
      "Iteration 12, loss = 0.00004842\n",
      "Iteration 13, loss = 0.00004644\n",
      "Iteration 14, loss = 0.00004485\n",
      "Iteration 15, loss = 0.00004356\n",
      "Iteration 16, loss = 0.00004255\n",
      "Iteration 17, loss = 0.00004152\n",
      "Iteration 18, loss = 0.00004064\n",
      "Iteration 19, loss = 0.00003998\n",
      "Training loss did not improve more than tol=0.000100 for 10 consecutive epochs. Stopping.\n",
      "MLPClassifier(hidden_layer_sizes=(32, 32, 32), max_iter=1000, verbose=1)\n"
     ]
    },
    {
     "name": "stderr",
     "output_type": "stream",
     "text": [
      "/opt/conda/lib/python3.7/site-packages/ipykernel_launcher.py:11: ResourceWarning: unclosed file <_io.BufferedWriter name='./Data Exploration/data/uc1/PEH_uc1_1.0_smote_mlp_(32, 32, 32)_model.pkl'>\n",
      "  # This is added back by InteractiveShellApp.init_path()\n",
      "ResourceWarning: Enable tracemalloc to get the object allocation traceback\n"
     ]
    },
    {
     "name": "stdout",
     "output_type": "stream",
     "text": [
      "PEH Training set 1.0 SMOTE mlp (32, 32, 32) score: 1.0\n",
      "PEH Test set 1.0 SMOTE mlp (32, 32, 32) score: 0.9986364589888819\n",
      "PEH Accuracy:  0.9986364589888819\n",
      "PEH mlp (32, 32, 32)\n",
      " [[9521    6]\n",
      " [   7    0]]\n",
      "PEH mlp (32, 32, 32)\n",
      "               precision    recall  f1-score   support\n",
      "\n",
      "           0       1.00      1.00      1.00      9527\n",
      "           1       0.00      0.00      0.00         7\n",
      "\n",
      "    accuracy                           1.00      9534\n",
      "   macro avg       0.50      0.50      0.50      9534\n",
      "weighted avg       1.00      1.00      1.00      9534\n",
      "\n"
     ]
    },
    {
     "name": "stderr",
     "output_type": "stream",
     "text": [
      "/opt/conda/lib/python3.7/site-packages/sklearn/utils/validation.py:72: DataConversionWarning: A column-vector y was passed when a 1d array was expected. Please change the shape of y to (n_samples, ), for example using ravel().\n",
      "  return f(**kwargs)\n"
     ]
    },
    {
     "name": "stdout",
     "output_type": "stream",
     "text": [
      "Iteration 1, loss = 0.13049612\n",
      "Iteration 2, loss = 0.00247056\n",
      "Iteration 3, loss = 0.00091889\n",
      "Iteration 4, loss = 0.00050698\n",
      "Iteration 5, loss = 0.00020749\n",
      "Iteration 6, loss = 0.00016352\n",
      "Iteration 7, loss = 0.00011491\n",
      "Iteration 8, loss = 0.00009916\n",
      "Iteration 9, loss = 0.00008857\n",
      "Iteration 10, loss = 0.00008338\n",
      "Iteration 11, loss = 0.00007888\n",
      "Iteration 12, loss = 0.00007633\n",
      "Iteration 13, loss = 0.00007360\n",
      "Iteration 14, loss = 0.00007146\n",
      "Iteration 15, loss = 0.00006982\n",
      "Iteration 16, loss = 0.00006819\n",
      "Training loss did not improve more than tol=0.000100 for 10 consecutive epochs. Stopping.\n",
      "MLPClassifier(hidden_layer_sizes=(64, 64, 64), max_iter=1000, verbose=1)\n"
     ]
    },
    {
     "name": "stderr",
     "output_type": "stream",
     "text": [
      "/opt/conda/lib/python3.7/site-packages/ipykernel_launcher.py:11: ResourceWarning: unclosed file <_io.BufferedWriter name='./Data Exploration/data/uc1/PEH_uc1_0.1_smote_mlp_(64, 64, 64)_model.pkl'>\n",
      "  # This is added back by InteractiveShellApp.init_path()\n",
      "ResourceWarning: Enable tracemalloc to get the object allocation traceback\n"
     ]
    },
    {
     "name": "stdout",
     "output_type": "stream",
     "text": [
      "PEH Training set 0.1 SMOTE mlp (64, 64, 64) score: 1.0\n",
      "PEH Test set 0.1 SMOTE mlp (64, 64, 64) score: 0.99895112229914\n",
      "PEH Accuracy:  0.99895112229914\n",
      "PEH mlp (64, 64, 64)\n",
      " [[9524    3]\n",
      " [   7    0]]\n",
      "PEH mlp (64, 64, 64)\n",
      "               precision    recall  f1-score   support\n",
      "\n",
      "           0       1.00      1.00      1.00      9527\n",
      "           1       0.00      0.00      0.00         7\n",
      "\n",
      "    accuracy                           1.00      9534\n",
      "   macro avg       0.50      0.50      0.50      9534\n",
      "weighted avg       1.00      1.00      1.00      9534\n",
      "\n"
     ]
    },
    {
     "name": "stderr",
     "output_type": "stream",
     "text": [
      "/opt/conda/lib/python3.7/site-packages/sklearn/utils/validation.py:72: DataConversionWarning: A column-vector y was passed when a 1d array was expected. Please change the shape of y to (n_samples, ), for example using ravel().\n",
      "  return f(**kwargs)\n"
     ]
    },
    {
     "name": "stdout",
     "output_type": "stream",
     "text": [
      "Iteration 1, loss = 0.13364789\n",
      "Iteration 2, loss = 0.00150216\n",
      "Iteration 3, loss = 0.00033100\n",
      "Iteration 4, loss = 0.00021670\n",
      "Iteration 5, loss = 0.00013465\n",
      "Iteration 6, loss = 0.00010219\n",
      "Iteration 7, loss = 0.00009269\n",
      "Iteration 8, loss = 0.00008591\n",
      "Iteration 9, loss = 0.00008180\n",
      "Iteration 10, loss = 0.00007833\n",
      "Iteration 11, loss = 0.00007589\n",
      "Iteration 12, loss = 0.00007361\n",
      "Iteration 13, loss = 0.00007175\n",
      "Iteration 14, loss = 0.00007014\n",
      "Iteration 15, loss = 0.00006877\n",
      "Training loss did not improve more than tol=0.000100 for 10 consecutive epochs. Stopping.\n",
      "MLPClassifier(hidden_layer_sizes=(64, 64, 64), max_iter=1000, verbose=1)\n"
     ]
    },
    {
     "name": "stderr",
     "output_type": "stream",
     "text": [
      "/opt/conda/lib/python3.7/site-packages/ipykernel_launcher.py:11: ResourceWarning: unclosed file <_io.BufferedWriter name='./Data Exploration/data/uc1/PEH_uc1_0.2_smote_mlp_(64, 64, 64)_model.pkl'>\n",
      "  # This is added back by InteractiveShellApp.init_path()\n",
      "ResourceWarning: Enable tracemalloc to get the object allocation traceback\n"
     ]
    },
    {
     "name": "stdout",
     "output_type": "stream",
     "text": [
      "PEH Training set 0.2 SMOTE mlp (64, 64, 64) score: 1.0\n",
      "PEH Test set 0.2 SMOTE mlp (64, 64, 64) score: 0.999056010069226\n",
      "PEH Accuracy:  0.999056010069226\n",
      "PEH mlp (64, 64, 64)\n",
      " [[9525    2]\n",
      " [   7    0]]\n",
      "PEH mlp (64, 64, 64)\n",
      "               precision    recall  f1-score   support\n",
      "\n",
      "           0       1.00      1.00      1.00      9527\n",
      "           1       0.00      0.00      0.00         7\n",
      "\n",
      "    accuracy                           1.00      9534\n",
      "   macro avg       0.50      0.50      0.50      9534\n",
      "weighted avg       1.00      1.00      1.00      9534\n",
      "\n"
     ]
    },
    {
     "name": "stderr",
     "output_type": "stream",
     "text": [
      "/opt/conda/lib/python3.7/site-packages/sklearn/utils/validation.py:72: DataConversionWarning: A column-vector y was passed when a 1d array was expected. Please change the shape of y to (n_samples, ), for example using ravel().\n",
      "  return f(**kwargs)\n"
     ]
    },
    {
     "name": "stdout",
     "output_type": "stream",
     "text": [
      "Iteration 1, loss = 0.12878504\n",
      "Iteration 2, loss = 0.00234966\n",
      "Iteration 3, loss = 0.00186930\n",
      "Iteration 4, loss = 0.00033524\n",
      "Iteration 5, loss = 0.00023510\n",
      "Iteration 6, loss = 0.00015515\n",
      "Iteration 7, loss = 0.00010425\n",
      "Iteration 8, loss = 0.00009247\n",
      "Iteration 9, loss = 0.00008691\n",
      "Iteration 10, loss = 0.00008274\n",
      "Iteration 11, loss = 0.00007938\n",
      "Iteration 12, loss = 0.00007689\n",
      "Iteration 13, loss = 0.00007473\n",
      "Iteration 14, loss = 0.00007256\n",
      "Iteration 15, loss = 0.00007073\n",
      "Iteration 16, loss = 0.00006933\n",
      "Training loss did not improve more than tol=0.000100 for 10 consecutive epochs. Stopping.\n",
      "MLPClassifier(hidden_layer_sizes=(64, 64, 64), max_iter=1000, verbose=1)\n"
     ]
    },
    {
     "name": "stderr",
     "output_type": "stream",
     "text": [
      "/opt/conda/lib/python3.7/site-packages/ipykernel_launcher.py:11: ResourceWarning: unclosed file <_io.BufferedWriter name='./Data Exploration/data/uc1/PEH_uc1_0.3_smote_mlp_(64, 64, 64)_model.pkl'>\n",
      "  # This is added back by InteractiveShellApp.init_path()\n",
      "ResourceWarning: Enable tracemalloc to get the object allocation traceback\n"
     ]
    },
    {
     "name": "stdout",
     "output_type": "stream",
     "text": [
      "PEH Training set 0.3 SMOTE mlp (64, 64, 64) score: 1.0\n",
      "PEH Test set 0.3 SMOTE mlp (64, 64, 64) score: 0.99895112229914\n",
      "PEH Accuracy:  0.99895112229914\n",
      "PEH mlp (64, 64, 64)\n",
      " [[9524    3]\n",
      " [   7    0]]\n",
      "PEH mlp (64, 64, 64)\n",
      "               precision    recall  f1-score   support\n",
      "\n",
      "           0       1.00      1.00      1.00      9527\n",
      "           1       0.00      0.00      0.00         7\n",
      "\n",
      "    accuracy                           1.00      9534\n",
      "   macro avg       0.50      0.50      0.50      9534\n",
      "weighted avg       1.00      1.00      1.00      9534\n",
      "\n"
     ]
    },
    {
     "name": "stderr",
     "output_type": "stream",
     "text": [
      "/opt/conda/lib/python3.7/site-packages/sklearn/utils/validation.py:72: DataConversionWarning: A column-vector y was passed when a 1d array was expected. Please change the shape of y to (n_samples, ), for example using ravel().\n",
      "  return f(**kwargs)\n"
     ]
    },
    {
     "name": "stdout",
     "output_type": "stream",
     "text": [
      "Iteration 1, loss = 0.09353482\n",
      "Iteration 2, loss = 0.00129087\n",
      "Iteration 3, loss = 0.00138607\n",
      "Iteration 4, loss = 0.00042201\n",
      "Iteration 5, loss = 0.00196205\n",
      "Iteration 6, loss = 0.00011459\n",
      "Iteration 7, loss = 0.00008629\n",
      "Iteration 8, loss = 0.00007978\n",
      "Iteration 9, loss = 0.00007649\n",
      "Iteration 10, loss = 0.00007400\n",
      "Iteration 11, loss = 0.00007207\n",
      "Iteration 12, loss = 0.00007040\n",
      "Iteration 13, loss = 0.00006887\n",
      "Iteration 14, loss = 0.00006739\n",
      "Iteration 15, loss = 0.00006604\n",
      "Iteration 16, loss = 0.00006487\n",
      "Iteration 17, loss = 0.00006371\n",
      "Training loss did not improve more than tol=0.000100 for 10 consecutive epochs. Stopping.\n",
      "MLPClassifier(hidden_layer_sizes=(64, 64, 64), max_iter=1000, verbose=1)\n"
     ]
    },
    {
     "name": "stderr",
     "output_type": "stream",
     "text": [
      "/opt/conda/lib/python3.7/site-packages/ipykernel_launcher.py:11: ResourceWarning: unclosed file <_io.BufferedWriter name='./Data Exploration/data/uc1/PEH_uc1_0.5_smote_mlp_(64, 64, 64)_model.pkl'>\n",
      "  # This is added back by InteractiveShellApp.init_path()\n",
      "ResourceWarning: Enable tracemalloc to get the object allocation traceback\n"
     ]
    },
    {
     "name": "stdout",
     "output_type": "stream",
     "text": [
      "PEH Training set 0.5 SMOTE mlp (64, 64, 64) score: 1.0\n",
      "PEH Test set 0.5 SMOTE mlp (64, 64, 64) score: 0.99895112229914\n",
      "PEH Accuracy:  0.99895112229914\n",
      "PEH mlp (64, 64, 64)\n",
      " [[9524    3]\n",
      " [   7    0]]\n",
      "PEH mlp (64, 64, 64)\n",
      "               precision    recall  f1-score   support\n",
      "\n",
      "           0       1.00      1.00      1.00      9527\n",
      "           1       0.00      0.00      0.00         7\n",
      "\n",
      "    accuracy                           1.00      9534\n",
      "   macro avg       0.50      0.50      0.50      9534\n",
      "weighted avg       1.00      1.00      1.00      9534\n",
      "\n"
     ]
    },
    {
     "name": "stderr",
     "output_type": "stream",
     "text": [
      "/opt/conda/lib/python3.7/site-packages/sklearn/utils/validation.py:72: DataConversionWarning: A column-vector y was passed when a 1d array was expected. Please change the shape of y to (n_samples, ), for example using ravel().\n",
      "  return f(**kwargs)\n"
     ]
    },
    {
     "name": "stdout",
     "output_type": "stream",
     "text": [
      "Iteration 1, loss = 0.06727395\n",
      "Iteration 2, loss = 0.00194259\n",
      "Iteration 3, loss = 0.00081331\n",
      "Iteration 4, loss = 0.00018904\n",
      "Iteration 5, loss = 0.00010693\n",
      "Iteration 6, loss = 0.00008191\n",
      "Iteration 7, loss = 0.00007666\n",
      "Iteration 8, loss = 0.00007330\n",
      "Iteration 9, loss = 0.00007050\n",
      "Iteration 10, loss = 0.00006830\n",
      "Iteration 11, loss = 0.00006633\n",
      "Iteration 12, loss = 0.00006453\n",
      "Iteration 13, loss = 0.00006271\n",
      "Iteration 14, loss = 0.00006114\n",
      "Iteration 15, loss = 0.00005974\n",
      "Training loss did not improve more than tol=0.000100 for 10 consecutive epochs. Stopping.\n",
      "MLPClassifier(hidden_layer_sizes=(64, 64, 64), max_iter=1000, verbose=1)\n"
     ]
    },
    {
     "name": "stderr",
     "output_type": "stream",
     "text": [
      "/opt/conda/lib/python3.7/site-packages/ipykernel_launcher.py:11: ResourceWarning: unclosed file <_io.BufferedWriter name='./Data Exploration/data/uc1/PEH_uc1_1.0_smote_mlp_(64, 64, 64)_model.pkl'>\n",
      "  # This is added back by InteractiveShellApp.init_path()\n",
      "ResourceWarning: Enable tracemalloc to get the object allocation traceback\n"
     ]
    },
    {
     "name": "stdout",
     "output_type": "stream",
     "text": [
      "PEH Training set 1.0 SMOTE mlp (64, 64, 64) score: 1.0\n",
      "PEH Test set 1.0 SMOTE mlp (64, 64, 64) score: 0.999056010069226\n",
      "PEH Accuracy:  0.999056010069226\n",
      "PEH mlp (64, 64, 64)\n",
      " [[9525    2]\n",
      " [   7    0]]\n",
      "PEH mlp (64, 64, 64)\n",
      "               precision    recall  f1-score   support\n",
      "\n",
      "           0       1.00      1.00      1.00      9527\n",
      "           1       0.00      0.00      0.00         7\n",
      "\n",
      "    accuracy                           1.00      9534\n",
      "   macro avg       0.50      0.50      0.50      9534\n",
      "weighted avg       1.00      1.00      1.00      9534\n",
      "\n"
     ]
    },
    {
     "name": "stderr",
     "output_type": "stream",
     "text": [
      "/opt/conda/lib/python3.7/site-packages/sklearn/utils/validation.py:72: DataConversionWarning: A column-vector y was passed when a 1d array was expected. Please change the shape of y to (n_samples, ), for example using ravel().\n",
      "  return f(**kwargs)\n"
     ]
    },
    {
     "name": "stdout",
     "output_type": "stream",
     "text": [
      "Iteration 1, loss = 0.18244620\n",
      "Iteration 2, loss = 0.01167294\n",
      "Iteration 3, loss = 0.00263435\n",
      "Iteration 4, loss = 0.00196089\n",
      "Iteration 5, loss = 0.00096416\n",
      "Iteration 6, loss = 0.00105537\n",
      "Iteration 7, loss = 0.00036099\n",
      "Iteration 8, loss = 0.00015229\n",
      "Iteration 9, loss = 0.00015320\n",
      "Iteration 10, loss = 0.00011951\n",
      "Iteration 11, loss = 0.00008059\n",
      "Iteration 12, loss = 0.00006746\n",
      "Iteration 13, loss = 0.00006069\n",
      "Iteration 14, loss = 0.00005281\n",
      "Iteration 15, loss = 0.00004997\n",
      "Iteration 16, loss = 0.00004619\n",
      "Iteration 17, loss = 0.00004328\n",
      "Iteration 18, loss = 0.00004127\n",
      "Iteration 19, loss = 0.00003993\n",
      "Training loss did not improve more than tol=0.000100 for 10 consecutive epochs. Stopping.\n",
      "MLPClassifier(hidden_layer_sizes=(16, 16, 16, 16), max_iter=1000, verbose=1)\n",
      "PEH Training set 0.1 SMOTE mlp (16, 16, 16, 16) score: 1.0\n",
      "PEH Test set 0.1 SMOTE mlp (16, 16, 16, 16) score: 0.9987413467589679\n",
      "PEH Accuracy:  0.9987413467589679\n"
     ]
    },
    {
     "name": "stderr",
     "output_type": "stream",
     "text": [
      "/opt/conda/lib/python3.7/site-packages/ipykernel_launcher.py:11: ResourceWarning: unclosed file <_io.BufferedWriter name='./Data Exploration/data/uc1/PEH_uc1_0.1_smote_mlp_(16, 16, 16, 16)_model.pkl'>\n",
      "  # This is added back by InteractiveShellApp.init_path()\n",
      "ResourceWarning: Enable tracemalloc to get the object allocation traceback\n"
     ]
    },
    {
     "name": "stdout",
     "output_type": "stream",
     "text": [
      "PEH mlp (16, 16, 16, 16)\n",
      " [[9522    5]\n",
      " [   7    0]]\n",
      "PEH mlp (16, 16, 16, 16)\n",
      "               precision    recall  f1-score   support\n",
      "\n",
      "           0       1.00      1.00      1.00      9527\n",
      "           1       0.00      0.00      0.00         7\n",
      "\n",
      "    accuracy                           1.00      9534\n",
      "   macro avg       0.50      0.50      0.50      9534\n",
      "weighted avg       1.00      1.00      1.00      9534\n",
      "\n"
     ]
    },
    {
     "name": "stderr",
     "output_type": "stream",
     "text": [
      "/opt/conda/lib/python3.7/site-packages/sklearn/utils/validation.py:72: DataConversionWarning: A column-vector y was passed when a 1d array was expected. Please change the shape of y to (n_samples, ), for example using ravel().\n",
      "  return f(**kwargs)\n"
     ]
    },
    {
     "name": "stdout",
     "output_type": "stream",
     "text": [
      "Iteration 1, loss = 0.20958518\n",
      "Iteration 2, loss = 0.00576509\n",
      "Iteration 3, loss = 0.00241726\n",
      "Iteration 4, loss = 0.00338029\n",
      "Iteration 5, loss = 0.00181023\n",
      "Iteration 6, loss = 0.00084397\n",
      "Iteration 7, loss = 0.00072155\n",
      "Iteration 8, loss = 0.00035528\n",
      "Iteration 9, loss = 0.00035879\n",
      "Iteration 10, loss = 0.00024289\n",
      "Iteration 11, loss = 0.00017101\n",
      "Iteration 12, loss = 0.00009221\n",
      "Iteration 13, loss = 0.00007215\n",
      "Iteration 14, loss = 0.00006575\n",
      "Iteration 15, loss = 0.00005964\n",
      "Iteration 16, loss = 0.00005153\n",
      "Iteration 17, loss = 0.00004733\n",
      "Iteration 18, loss = 0.00004348\n",
      "Iteration 19, loss = 0.00004203\n",
      "Iteration 20, loss = 0.00004138\n",
      "Iteration 21, loss = 0.00003881\n",
      "Training loss did not improve more than tol=0.000100 for 10 consecutive epochs. Stopping.\n",
      "MLPClassifier(hidden_layer_sizes=(16, 16, 16, 16), max_iter=1000, verbose=1)\n",
      "PEH Training set 0.2 SMOTE mlp (16, 16, 16, 16) score: 1.0\n"
     ]
    },
    {
     "name": "stderr",
     "output_type": "stream",
     "text": [
      "/opt/conda/lib/python3.7/site-packages/ipykernel_launcher.py:11: ResourceWarning: unclosed file <_io.BufferedWriter name='./Data Exploration/data/uc1/PEH_uc1_0.2_smote_mlp_(16, 16, 16, 16)_model.pkl'>\n",
      "  # This is added back by InteractiveShellApp.init_path()\n",
      "ResourceWarning: Enable tracemalloc to get the object allocation traceback\n"
     ]
    },
    {
     "name": "stdout",
     "output_type": "stream",
     "text": [
      "PEH Test set 0.2 SMOTE mlp (16, 16, 16, 16) score: 0.9986364589888819\n",
      "PEH Accuracy:  0.9986364589888819\n",
      "PEH mlp (16, 16, 16, 16)\n",
      " [[9521    6]\n",
      " [   7    0]]\n",
      "PEH mlp (16, 16, 16, 16)\n",
      "               precision    recall  f1-score   support\n",
      "\n",
      "           0       1.00      1.00      1.00      9527\n",
      "           1       0.00      0.00      0.00         7\n",
      "\n",
      "    accuracy                           1.00      9534\n",
      "   macro avg       0.50      0.50      0.50      9534\n",
      "weighted avg       1.00      1.00      1.00      9534\n",
      "\n"
     ]
    },
    {
     "name": "stderr",
     "output_type": "stream",
     "text": [
      "/opt/conda/lib/python3.7/site-packages/sklearn/utils/validation.py:72: DataConversionWarning: A column-vector y was passed when a 1d array was expected. Please change the shape of y to (n_samples, ), for example using ravel().\n",
      "  return f(**kwargs)\n"
     ]
    },
    {
     "name": "stdout",
     "output_type": "stream",
     "text": [
      "Iteration 1, loss = 0.18374592\n",
      "Iteration 2, loss = 0.00476676\n",
      "Iteration 3, loss = 0.00241575\n",
      "Iteration 4, loss = 0.00173271\n",
      "Iteration 5, loss = 0.00212501\n",
      "Iteration 6, loss = 0.00061429\n",
      "Iteration 7, loss = 0.00027927\n",
      "Iteration 8, loss = 0.00025116\n",
      "Iteration 9, loss = 0.00014716\n",
      "Iteration 10, loss = 0.00008722\n",
      "Iteration 11, loss = 0.00007784\n",
      "Iteration 12, loss = 0.00006342\n",
      "Iteration 13, loss = 0.00005456\n",
      "Iteration 14, loss = 0.00004978\n",
      "Iteration 15, loss = 0.00004516\n",
      "Iteration 16, loss = 0.00004175\n",
      "Iteration 17, loss = 0.00004022\n",
      "Iteration 18, loss = 0.00003739\n",
      "Iteration 19, loss = 0.00003623\n",
      "Iteration 20, loss = 0.00003480\n",
      "Training loss did not improve more than tol=0.000100 for 10 consecutive epochs. Stopping.\n",
      "MLPClassifier(hidden_layer_sizes=(16, 16, 16, 16), max_iter=1000, verbose=1)\n",
      "PEH Training set 0.3 SMOTE mlp (16, 16, 16, 16) score: 1.0\n"
     ]
    },
    {
     "name": "stderr",
     "output_type": "stream",
     "text": [
      "/opt/conda/lib/python3.7/site-packages/ipykernel_launcher.py:11: ResourceWarning: unclosed file <_io.BufferedWriter name='./Data Exploration/data/uc1/PEH_uc1_0.3_smote_mlp_(16, 16, 16, 16)_model.pkl'>\n",
      "  # This is added back by InteractiveShellApp.init_path()\n",
      "ResourceWarning: Enable tracemalloc to get the object allocation traceback\n"
     ]
    },
    {
     "name": "stdout",
     "output_type": "stream",
     "text": [
      "PEH Test set 0.3 SMOTE mlp (16, 16, 16, 16) score: 0.998846234529054\n",
      "PEH Accuracy:  0.998846234529054\n",
      "PEH mlp (16, 16, 16, 16)\n",
      " [[9523    4]\n",
      " [   7    0]]\n",
      "PEH mlp (16, 16, 16, 16)\n",
      "               precision    recall  f1-score   support\n",
      "\n",
      "           0       1.00      1.00      1.00      9527\n",
      "           1       0.00      0.00      0.00         7\n",
      "\n",
      "    accuracy                           1.00      9534\n",
      "   macro avg       0.50      0.50      0.50      9534\n",
      "weighted avg       1.00      1.00      1.00      9534\n",
      "\n"
     ]
    },
    {
     "name": "stderr",
     "output_type": "stream",
     "text": [
      "/opt/conda/lib/python3.7/site-packages/sklearn/utils/validation.py:72: DataConversionWarning: A column-vector y was passed when a 1d array was expected. Please change the shape of y to (n_samples, ), for example using ravel().\n",
      "  return f(**kwargs)\n"
     ]
    },
    {
     "name": "stdout",
     "output_type": "stream",
     "text": [
      "Iteration 1, loss = 0.22512017\n",
      "Iteration 2, loss = 0.00433838\n",
      "Iteration 3, loss = 0.00199806\n",
      "Iteration 4, loss = 0.00070554\n",
      "Iteration 5, loss = 0.00045177\n",
      "Iteration 6, loss = 0.00039500\n",
      "Iteration 7, loss = 0.00017059\n",
      "Iteration 8, loss = 0.00028069\n",
      "Iteration 9, loss = 0.00015368\n",
      "Iteration 10, loss = 0.00007493\n",
      "Iteration 11, loss = 0.00005422\n",
      "Iteration 12, loss = 0.00004696\n",
      "Iteration 13, loss = 0.00004362\n",
      "Iteration 14, loss = 0.00004009\n",
      "Iteration 15, loss = 0.00003798\n",
      "Iteration 16, loss = 0.00003653\n",
      "Iteration 17, loss = 0.00003474\n",
      "Iteration 18, loss = 0.00003446\n",
      "Training loss did not improve more than tol=0.000100 for 10 consecutive epochs. Stopping.\n",
      "MLPClassifier(hidden_layer_sizes=(16, 16, 16, 16), max_iter=1000, verbose=1)\n",
      "PEH Training set 0.5 SMOTE mlp (16, 16, 16, 16) score: 1.0\n"
     ]
    },
    {
     "name": "stderr",
     "output_type": "stream",
     "text": [
      "/opt/conda/lib/python3.7/site-packages/ipykernel_launcher.py:11: ResourceWarning: unclosed file <_io.BufferedWriter name='./Data Exploration/data/uc1/PEH_uc1_0.5_smote_mlp_(16, 16, 16, 16)_model.pkl'>\n",
      "  # This is added back by InteractiveShellApp.init_path()\n",
      "ResourceWarning: Enable tracemalloc to get the object allocation traceback\n"
     ]
    },
    {
     "name": "stdout",
     "output_type": "stream",
     "text": [
      "PEH Test set 0.5 SMOTE mlp (16, 16, 16, 16) score: 0.9985315712187959\n",
      "PEH Accuracy:  0.9985315712187959\n",
      "PEH mlp (16, 16, 16, 16)\n",
      " [[9520    7]\n",
      " [   7    0]]\n",
      "PEH mlp (16, 16, 16, 16)\n",
      "               precision    recall  f1-score   support\n",
      "\n",
      "           0       1.00      1.00      1.00      9527\n",
      "           1       0.00      0.00      0.00         7\n",
      "\n",
      "    accuracy                           1.00      9534\n",
      "   macro avg       0.50      0.50      0.50      9534\n",
      "weighted avg       1.00      1.00      1.00      9534\n",
      "\n"
     ]
    },
    {
     "name": "stderr",
     "output_type": "stream",
     "text": [
      "/opt/conda/lib/python3.7/site-packages/sklearn/utils/validation.py:72: DataConversionWarning: A column-vector y was passed when a 1d array was expected. Please change the shape of y to (n_samples, ), for example using ravel().\n",
      "  return f(**kwargs)\n"
     ]
    },
    {
     "name": "stdout",
     "output_type": "stream",
     "text": [
      "Iteration 1, loss = 0.15536237\n",
      "Iteration 2, loss = 0.00283762\n",
      "Iteration 3, loss = 0.00149985\n",
      "Iteration 4, loss = 0.00066713\n",
      "Iteration 5, loss = 0.00046675\n",
      "Iteration 6, loss = 0.00030076\n",
      "Iteration 7, loss = 0.00025486\n",
      "Iteration 8, loss = 0.00012291\n",
      "Iteration 9, loss = 0.00046371\n",
      "Iteration 10, loss = 0.00011674\n",
      "Iteration 11, loss = 0.00005480\n",
      "Iteration 12, loss = 0.00004050\n",
      "Iteration 13, loss = 0.00003657\n",
      "Iteration 14, loss = 0.00003513\n",
      "Iteration 15, loss = 0.00003351\n",
      "Iteration 16, loss = 0.00003223\n",
      "Iteration 17, loss = 0.00003135\n",
      "Iteration 18, loss = 0.00003036\n",
      "Iteration 19, loss = 0.00002913\n",
      "Training loss did not improve more than tol=0.000100 for 10 consecutive epochs. Stopping.\n",
      "MLPClassifier(hidden_layer_sizes=(16, 16, 16, 16), max_iter=1000, verbose=1)\n"
     ]
    },
    {
     "name": "stderr",
     "output_type": "stream",
     "text": [
      "/opt/conda/lib/python3.7/site-packages/ipykernel_launcher.py:11: ResourceWarning: unclosed file <_io.BufferedWriter name='./Data Exploration/data/uc1/PEH_uc1_1.0_smote_mlp_(16, 16, 16, 16)_model.pkl'>\n",
      "  # This is added back by InteractiveShellApp.init_path()\n",
      "ResourceWarning: Enable tracemalloc to get the object allocation traceback\n"
     ]
    },
    {
     "name": "stdout",
     "output_type": "stream",
     "text": [
      "PEH Training set 1.0 SMOTE mlp (16, 16, 16, 16) score: 1.0\n",
      "PEH Test set 1.0 SMOTE mlp (16, 16, 16, 16) score: 0.9985315712187959\n",
      "PEH Accuracy:  0.9985315712187959\n",
      "PEH mlp (16, 16, 16, 16)\n",
      " [[9520    7]\n",
      " [   7    0]]\n",
      "PEH mlp (16, 16, 16, 16)\n",
      "               precision    recall  f1-score   support\n",
      "\n",
      "           0       1.00      1.00      1.00      9527\n",
      "           1       0.00      0.00      0.00         7\n",
      "\n",
      "    accuracy                           1.00      9534\n",
      "   macro avg       0.50      0.50      0.50      9534\n",
      "weighted avg       1.00      1.00      1.00      9534\n",
      "\n"
     ]
    },
    {
     "name": "stderr",
     "output_type": "stream",
     "text": [
      "/opt/conda/lib/python3.7/site-packages/sklearn/utils/validation.py:72: DataConversionWarning: A column-vector y was passed when a 1d array was expected. Please change the shape of y to (n_samples, ), for example using ravel().\n",
      "  return f(**kwargs)\n"
     ]
    },
    {
     "name": "stdout",
     "output_type": "stream",
     "text": [
      "Iteration 1, loss = 0.18649216\n",
      "Iteration 2, loss = 0.00508719\n",
      "Iteration 3, loss = 0.00134623\n",
      "Iteration 4, loss = 0.00026287\n",
      "Iteration 5, loss = 0.00014987\n",
      "Iteration 6, loss = 0.00009569\n",
      "Iteration 7, loss = 0.00007221\n",
      "Iteration 8, loss = 0.00005977\n",
      "Iteration 9, loss = 0.00005521\n",
      "Iteration 10, loss = 0.00005289\n",
      "Iteration 11, loss = 0.00005129\n",
      "Iteration 12, loss = 0.00005015\n",
      "Iteration 13, loss = 0.00004930\n",
      "Iteration 14, loss = 0.00004849\n",
      "Iteration 15, loss = 0.00004776\n",
      "Iteration 16, loss = 0.00004708\n",
      "Training loss did not improve more than tol=0.000100 for 10 consecutive epochs. Stopping.\n",
      "MLPClassifier(hidden_layer_sizes=(32, 32, 32, 32), max_iter=1000, verbose=1)\n"
     ]
    },
    {
     "name": "stderr",
     "output_type": "stream",
     "text": [
      "/opt/conda/lib/python3.7/site-packages/ipykernel_launcher.py:11: ResourceWarning: unclosed file <_io.BufferedWriter name='./Data Exploration/data/uc1/PEH_uc1_0.1_smote_mlp_(32, 32, 32, 32)_model.pkl'>\n",
      "  # This is added back by InteractiveShellApp.init_path()\n",
      "ResourceWarning: Enable tracemalloc to get the object allocation traceback\n"
     ]
    },
    {
     "name": "stdout",
     "output_type": "stream",
     "text": [
      "PEH Training set 0.1 SMOTE mlp (32, 32, 32, 32) score: 1.0\n",
      "PEH Test set 0.1 SMOTE mlp (32, 32, 32, 32) score: 0.998846234529054\n",
      "PEH Accuracy:  0.998846234529054\n",
      "PEH mlp (32, 32, 32, 32)\n",
      " [[9523    4]\n",
      " [   7    0]]\n",
      "PEH mlp (32, 32, 32, 32)\n",
      "               precision    recall  f1-score   support\n",
      "\n",
      "           0       1.00      1.00      1.00      9527\n",
      "           1       0.00      0.00      0.00         7\n",
      "\n",
      "    accuracy                           1.00      9534\n",
      "   macro avg       0.50      0.50      0.50      9534\n",
      "weighted avg       1.00      1.00      1.00      9534\n",
      "\n"
     ]
    },
    {
     "name": "stderr",
     "output_type": "stream",
     "text": [
      "/opt/conda/lib/python3.7/site-packages/sklearn/utils/validation.py:72: DataConversionWarning: A column-vector y was passed when a 1d array was expected. Please change the shape of y to (n_samples, ), for example using ravel().\n",
      "  return f(**kwargs)\n"
     ]
    },
    {
     "name": "stdout",
     "output_type": "stream",
     "text": [
      "Iteration 1, loss = 0.15343576\n",
      "Iteration 2, loss = 0.00403769\n",
      "Iteration 3, loss = 0.00087794\n",
      "Iteration 4, loss = 0.00036309\n",
      "Iteration 5, loss = 0.00014072\n",
      "Iteration 6, loss = 0.00013645\n",
      "Iteration 7, loss = 0.00008846\n",
      "Iteration 8, loss = 0.00006818\n",
      "Iteration 9, loss = 0.00006252\n",
      "Iteration 10, loss = 0.00005870\n",
      "Iteration 11, loss = 0.00005613\n",
      "Iteration 12, loss = 0.00005416\n",
      "Iteration 13, loss = 0.00005232\n",
      "Iteration 14, loss = 0.00005075\n",
      "Iteration 15, loss = 0.00004998\n",
      "Iteration 16, loss = 0.00004828\n",
      "Training loss did not improve more than tol=0.000100 for 10 consecutive epochs. Stopping.\n",
      "MLPClassifier(hidden_layer_sizes=(32, 32, 32, 32), max_iter=1000, verbose=1)\n"
     ]
    },
    {
     "name": "stderr",
     "output_type": "stream",
     "text": [
      "/opt/conda/lib/python3.7/site-packages/ipykernel_launcher.py:11: ResourceWarning: unclosed file <_io.BufferedWriter name='./Data Exploration/data/uc1/PEH_uc1_0.2_smote_mlp_(32, 32, 32, 32)_model.pkl'>\n",
      "  # This is added back by InteractiveShellApp.init_path()\n",
      "ResourceWarning: Enable tracemalloc to get the object allocation traceback\n"
     ]
    },
    {
     "name": "stdout",
     "output_type": "stream",
     "text": [
      "PEH Training set 0.2 SMOTE mlp (32, 32, 32, 32) score: 1.0\n",
      "PEH Test set 0.2 SMOTE mlp (32, 32, 32, 32) score: 0.998846234529054\n",
      "PEH Accuracy:  0.998846234529054\n",
      "PEH mlp (32, 32, 32, 32)\n",
      " [[9523    4]\n",
      " [   7    0]]\n",
      "PEH mlp (32, 32, 32, 32)\n",
      "               precision    recall  f1-score   support\n",
      "\n",
      "           0       1.00      1.00      1.00      9527\n",
      "           1       0.00      0.00      0.00         7\n",
      "\n",
      "    accuracy                           1.00      9534\n",
      "   macro avg       0.50      0.50      0.50      9534\n",
      "weighted avg       1.00      1.00      1.00      9534\n",
      "\n"
     ]
    },
    {
     "name": "stderr",
     "output_type": "stream",
     "text": [
      "/opt/conda/lib/python3.7/site-packages/sklearn/utils/validation.py:72: DataConversionWarning: A column-vector y was passed when a 1d array was expected. Please change the shape of y to (n_samples, ), for example using ravel().\n",
      "  return f(**kwargs)\n"
     ]
    },
    {
     "name": "stdout",
     "output_type": "stream",
     "text": [
      "Iteration 1, loss = 0.15033576\n",
      "Iteration 2, loss = 0.00310774\n",
      "Iteration 3, loss = 0.00184162\n",
      "Iteration 4, loss = 0.00096609\n",
      "Iteration 5, loss = 0.00049072\n",
      "Iteration 6, loss = 0.00041337\n",
      "Iteration 7, loss = 0.00018934\n",
      "Iteration 8, loss = 0.00011703\n",
      "Iteration 9, loss = 0.00007144\n",
      "Iteration 10, loss = 0.00005920\n",
      "Iteration 11, loss = 0.00005460\n",
      "Iteration 12, loss = 0.00005220\n",
      "Iteration 13, loss = 0.00004994\n",
      "Iteration 14, loss = 0.00004829\n",
      "Iteration 15, loss = 0.00004748\n",
      "Iteration 16, loss = 0.00004620\n",
      "Iteration 17, loss = 0.00004513\n",
      "Iteration 18, loss = 0.00004412\n",
      "Training loss did not improve more than tol=0.000100 for 10 consecutive epochs. Stopping.\n",
      "MLPClassifier(hidden_layer_sizes=(32, 32, 32, 32), max_iter=1000, verbose=1)\n"
     ]
    },
    {
     "name": "stderr",
     "output_type": "stream",
     "text": [
      "/opt/conda/lib/python3.7/site-packages/ipykernel_launcher.py:11: ResourceWarning: unclosed file <_io.BufferedWriter name='./Data Exploration/data/uc1/PEH_uc1_0.3_smote_mlp_(32, 32, 32, 32)_model.pkl'>\n",
      "  # This is added back by InteractiveShellApp.init_path()\n",
      "ResourceWarning: Enable tracemalloc to get the object allocation traceback\n"
     ]
    },
    {
     "name": "stdout",
     "output_type": "stream",
     "text": [
      "PEH Training set 0.3 SMOTE mlp (32, 32, 32, 32) score: 1.0\n",
      "PEH Test set 0.3 SMOTE mlp (32, 32, 32, 32) score: 0.998846234529054\n",
      "PEH Accuracy:  0.998846234529054\n",
      "PEH mlp (32, 32, 32, 32)\n",
      " [[9523    4]\n",
      " [   7    0]]\n",
      "PEH mlp (32, 32, 32, 32)\n",
      "               precision    recall  f1-score   support\n",
      "\n",
      "           0       1.00      1.00      1.00      9527\n",
      "           1       0.00      0.00      0.00         7\n",
      "\n",
      "    accuracy                           1.00      9534\n",
      "   macro avg       0.50      0.50      0.50      9534\n",
      "weighted avg       1.00      1.00      1.00      9534\n",
      "\n"
     ]
    },
    {
     "name": "stderr",
     "output_type": "stream",
     "text": [
      "/opt/conda/lib/python3.7/site-packages/sklearn/utils/validation.py:72: DataConversionWarning: A column-vector y was passed when a 1d array was expected. Please change the shape of y to (n_samples, ), for example using ravel().\n",
      "  return f(**kwargs)\n"
     ]
    },
    {
     "name": "stdout",
     "output_type": "stream",
     "text": [
      "Iteration 1, loss = 0.11774364\n",
      "Iteration 2, loss = 0.00290997\n",
      "Iteration 3, loss = 0.00042784\n",
      "Iteration 4, loss = 0.00020102\n",
      "Iteration 5, loss = 0.00011707\n",
      "Iteration 6, loss = 0.00009321\n",
      "Iteration 7, loss = 0.00007661\n",
      "Iteration 8, loss = 0.00006669\n",
      "Iteration 9, loss = 0.00006097\n",
      "Iteration 10, loss = 0.00005777\n",
      "Iteration 11, loss = 0.00005458\n",
      "Iteration 12, loss = 0.00005269\n",
      "Iteration 13, loss = 0.00005052\n",
      "Iteration 14, loss = 0.00004947\n",
      "Iteration 15, loss = 0.00004809\n",
      "Training loss did not improve more than tol=0.000100 for 10 consecutive epochs. Stopping.\n",
      "MLPClassifier(hidden_layer_sizes=(32, 32, 32, 32), max_iter=1000, verbose=1)\n"
     ]
    },
    {
     "name": "stderr",
     "output_type": "stream",
     "text": [
      "/opt/conda/lib/python3.7/site-packages/ipykernel_launcher.py:11: ResourceWarning: unclosed file <_io.BufferedWriter name='./Data Exploration/data/uc1/PEH_uc1_0.5_smote_mlp_(32, 32, 32, 32)_model.pkl'>\n",
      "  # This is added back by InteractiveShellApp.init_path()\n",
      "ResourceWarning: Enable tracemalloc to get the object allocation traceback\n"
     ]
    },
    {
     "name": "stdout",
     "output_type": "stream",
     "text": [
      "PEH Training set 0.5 SMOTE mlp (32, 32, 32, 32) score: 1.0\n",
      "PEH Test set 0.5 SMOTE mlp (32, 32, 32, 32) score: 0.99895112229914\n",
      "PEH Accuracy:  0.99895112229914\n",
      "PEH mlp (32, 32, 32, 32)\n",
      " [[9524    3]\n",
      " [   7    0]]\n",
      "PEH mlp (32, 32, 32, 32)\n",
      "               precision    recall  f1-score   support\n",
      "\n",
      "           0       1.00      1.00      1.00      9527\n",
      "           1       0.00      0.00      0.00         7\n",
      "\n",
      "    accuracy                           1.00      9534\n",
      "   macro avg       0.50      0.50      0.50      9534\n",
      "weighted avg       1.00      1.00      1.00      9534\n",
      "\n"
     ]
    },
    {
     "name": "stderr",
     "output_type": "stream",
     "text": [
      "/opt/conda/lib/python3.7/site-packages/sklearn/utils/validation.py:72: DataConversionWarning: A column-vector y was passed when a 1d array was expected. Please change the shape of y to (n_samples, ), for example using ravel().\n",
      "  return f(**kwargs)\n"
     ]
    },
    {
     "name": "stdout",
     "output_type": "stream",
     "text": [
      "Iteration 1, loss = 0.09619092\n",
      "Iteration 2, loss = 0.00152470\n",
      "Iteration 3, loss = 0.00037108\n",
      "Iteration 4, loss = 0.00023076\n",
      "Iteration 5, loss = 0.00017168\n",
      "Iteration 6, loss = 0.00013019\n",
      "Iteration 7, loss = 0.00005048\n",
      "Iteration 8, loss = 0.00004750\n",
      "Iteration 9, loss = 0.00004561\n",
      "Iteration 10, loss = 0.00004412\n",
      "Iteration 11, loss = 0.00004295\n",
      "Iteration 12, loss = 0.00004192\n",
      "Iteration 13, loss = 0.00004101\n",
      "Iteration 14, loss = 0.00004018\n",
      "Iteration 15, loss = 0.00003938\n",
      "Training loss did not improve more than tol=0.000100 for 10 consecutive epochs. Stopping.\n",
      "MLPClassifier(hidden_layer_sizes=(32, 32, 32, 32), max_iter=1000, verbose=1)\n"
     ]
    },
    {
     "name": "stderr",
     "output_type": "stream",
     "text": [
      "/opt/conda/lib/python3.7/site-packages/ipykernel_launcher.py:11: ResourceWarning: unclosed file <_io.BufferedWriter name='./Data Exploration/data/uc1/PEH_uc1_1.0_smote_mlp_(32, 32, 32, 32)_model.pkl'>\n",
      "  # This is added back by InteractiveShellApp.init_path()\n",
      "ResourceWarning: Enable tracemalloc to get the object allocation traceback\n"
     ]
    },
    {
     "name": "stdout",
     "output_type": "stream",
     "text": [
      "PEH Training set 1.0 SMOTE mlp (32, 32, 32, 32) score: 1.0\n",
      "PEH Test set 1.0 SMOTE mlp (32, 32, 32, 32) score: 0.9987413467589679\n",
      "PEH Accuracy:  0.9987413467589679\n",
      "PEH mlp (32, 32, 32, 32)\n",
      " [[9522    5]\n",
      " [   7    0]]\n",
      "PEH mlp (32, 32, 32, 32)\n",
      "               precision    recall  f1-score   support\n",
      "\n",
      "           0       1.00      1.00      1.00      9527\n",
      "           1       0.00      0.00      0.00         7\n",
      "\n",
      "    accuracy                           1.00      9534\n",
      "   macro avg       0.50      0.50      0.50      9534\n",
      "weighted avg       1.00      1.00      1.00      9534\n",
      "\n"
     ]
    }
   ],
   "source": [
    "for hosp in dict_df_X_train:\n",
    "    for hid_layers in list_hid_layers:\n",
    "        for sample in list_smote_sampling:\n",
    "            sm_ss = SMOTE(random_state=55,sampling_strategy=sample)\n",
    "            X_train_ss, y_train_ss = sm_ss.fit_sample(dict_df_X_train[hosp], dict_df_y_train[hosp])\n",
    "        \n",
    "            model = MLPClassifier(hidden_layer_sizes=hid_layers, max_iter=max_iter,verbose=1)  \n",
    "            model.fit(X_train_ss, y_train_ss)  \n",
    "            print(model)\n",
    "            filename = file_dir + f'{hosp}_uc1_{sample}_smote_mlp_{hid_layers}_model.pkl'\n",
    "            pickle.dump(model, open(filename, 'wb'))\n",
    "            \n",
    "            predictions = model.predict(dict_df_X_test[hosp]) \n",
    "\n",
    "            # Score\n",
    "            print(f\"{hosp} Training set {sample} SMOTE mlp {hid_layers} score: {model.score(X_train_ss, y_train_ss)}\")\n",
    "            print(f\"{hosp} Test set {sample} SMOTE mlp {hid_layers} score: {model.score(dict_df_X_test[hosp], dict_df_y_test[hosp])}\")\n",
    "\n",
    "            print(f\"{hosp} Accuracy: \", metrics.accuracy_score(dict_df_y_test[hosp], predictions))\n",
    "            print(hosp, f'mlp {hid_layers}\\n', confusion_matrix(dict_df_y_test[hosp],predictions))  \n",
    "            print(hosp, f'mlp {hid_layers}\\n', classification_report(dict_df_y_test[hosp],predictions))  "
   ]
  },
  {
   "cell_type": "markdown",
   "metadata": {},
   "source": [
    "## KNN"
   ]
  },
  {
   "cell_type": "code",
   "execution_count": 27,
   "metadata": {},
   "outputs": [
    {
     "name": "stderr",
     "output_type": "stream",
     "text": [
      "/opt/conda/lib/python3.7/site-packages/ipykernel/ipkernel.py:287: DeprecationWarning: `should_run_async` will not call `transform_cell` automatically in the future. Please pass the result to `transformed_cell` argument and any exception that happen during thetransform in `preprocessing_exc_tuple` in IPython 7.17 and above.\n",
      "  and should_run_async(code)\n"
     ]
    }
   ],
   "source": [
    "# Be careful when running this, about 2 full days are needed to run this!!!\n",
    "from sklearn.neighbors import KNeighborsClassifier"
   ]
  },
  {
   "cell_type": "code",
   "execution_count": null,
   "metadata": {},
   "outputs": [
    {
     "name": "stderr",
     "output_type": "stream",
     "text": [
      "/opt/conda/lib/python3.7/site-packages/ipykernel_launcher.py:8: DataConversionWarning: A column-vector y was passed when a 1d array was expected. Please change the shape of y to (n_samples, ), for example using ravel().\n",
      "  \n",
      "/opt/conda/lib/python3.7/site-packages/ipykernel_launcher.py:8: DataConversionWarning: A column-vector y was passed when a 1d array was expected. Please change the shape of y to (n_samples, ), for example using ravel().\n",
      "  \n",
      "/opt/conda/lib/python3.7/site-packages/ipykernel_launcher.py:8: DataConversionWarning: A column-vector y was passed when a 1d array was expected. Please change the shape of y to (n_samples, ), for example using ravel().\n",
      "  \n",
      "/opt/conda/lib/python3.7/site-packages/ipykernel_launcher.py:8: DataConversionWarning: A column-vector y was passed when a 1d array was expected. Please change the shape of y to (n_samples, ), for example using ravel().\n",
      "  \n",
      "/opt/conda/lib/python3.7/site-packages/ipykernel_launcher.py:8: DataConversionWarning: A column-vector y was passed when a 1d array was expected. Please change the shape of y to (n_samples, ), for example using ravel().\n",
      "  \n",
      "/opt/conda/lib/python3.7/site-packages/ipykernel_launcher.py:8: DataConversionWarning: A column-vector y was passed when a 1d array was expected. Please change the shape of y to (n_samples, ), for example using ravel().\n",
      "  \n",
      "/opt/conda/lib/python3.7/site-packages/ipykernel_launcher.py:8: DataConversionWarning: A column-vector y was passed when a 1d array was expected. Please change the shape of y to (n_samples, ), for example using ravel().\n",
      "  \n",
      "/opt/conda/lib/python3.7/site-packages/ipykernel_launcher.py:8: DataConversionWarning: A column-vector y was passed when a 1d array was expected. Please change the shape of y to (n_samples, ), for example using ravel().\n",
      "  \n",
      "/opt/conda/lib/python3.7/site-packages/ipykernel_launcher.py:8: DataConversionWarning: A column-vector y was passed when a 1d array was expected. Please change the shape of y to (n_samples, ), for example using ravel().\n",
      "  \n",
      "/opt/conda/lib/python3.7/site-packages/ipykernel_launcher.py:8: DataConversionWarning: A column-vector y was passed when a 1d array was expected. Please change the shape of y to (n_samples, ), for example using ravel().\n",
      "  \n"
     ]
    }
   ],
   "source": [
    "for hosp in dict_df_X_train:\n",
    "    test_scores = []\n",
    "    train_scores = []\n",
    "\n",
    "    for i in range(1,15):\n",
    "\n",
    "        knn = KNeighborsClassifier(i)\n",
    "        knn.fit(dict_df_X_train[hosp],dict_df_y_train[hosp])\n",
    "\n",
    "        train_scores.append(knn.score(dict_df_X_train[hosp],dict_df_y_train[hosp]))\n",
    "        test_scores.append(knn.score(dict_df_X_test[hosp],dict_df_y_test[hosp]))\n",
    "\n",
    "    ## score that comes from testing on the same datapoints that were used for training\n",
    "    max_train_score = max(train_scores)\n",
    "    train_scores_ind = [i for i, v in enumerate(train_scores) if v == max_train_score]\n",
    "    print(f'{hosp} Max train score {max_train_score*100} % and k = {list(map(lambda x: x+1, train_scores_ind))}')\n",
    "\n",
    "    ## score that comes from testing on the datapoints that were split in the beginning to be used for testing solely\n",
    "    max_test_score = max(test_scores)\n",
    "    test_scores_ind = [i for i, v in enumerate(test_scores) if v == max_test_score]\n",
    "    print(f'{hosp} Max test score {max_test_score*100} % and k = {list(map(lambda x: x+1, test_scores_ind))}')\n",
    "\n",
    "    plt.figure(figsize=(12,5))\n",
    "    plt.plot(range(1,15),train_scores,marker='*',label='Train Score')\n",
    "    plt.plot(range(1,15),test_scores,marker='o',label='Test Score')\n",
    "    plt.title(f'{hosp} KNN')\n",
    "    plt.tight_layout()\n",
    "    plt.show()"
   ]
  },
  {
   "cell_type": "code",
   "execution_count": null,
   "metadata": {},
   "outputs": [],
   "source": [
    "from sklearn.neighbors import KNeighborsClassifier\n",
    "# From the above, the best KNN is at k=8\n",
    "#Setup a knn classifier with k neighbors\n",
    "best_knn = KNeighborsClassifier(8)"
   ]
  },
  {
   "cell_type": "markdown",
   "metadata": {},
   "source": [
    "### KNN without SMOTE"
   ]
  },
  {
   "cell_type": "code",
   "execution_count": null,
   "metadata": {},
   "outputs": [],
   "source": [
    "n_neighbours = 8\n",
    "for hosp in dict_df_X_train:\n",
    "    # Fit the KNN model with training data and score the test data\n",
    "    best_knn = KNeighborsClassifier(n_neighbours)\n",
    "    \n",
    "    best_knn.fit(dict_df_X_train[hosp],dict_df_y_train[hosp])\n",
    "    best_knn.score(dict_df_X_test[hosp],dict_df_y_test[hosp])\n",
    "    \n",
    "    # save the model to disk\n",
    "    filename = f'{hosp}_best_knn_without_smote.pkl'\n",
    "    pickle.dump(best_knn, open(filename, 'wb'))\n",
    "    \n",
    "    y_pred = best_knn.predict(dict_df_X_test[hosp])\n",
    "    # Score for Best KNN, No SMOTE\n",
    "    print(f\"{hosp} Training set without SMOTE KNN({n_neighbours}) score: {best_knn.score(dict_df_X_train[hosp], dict_df_y_train[hosp])}\")\n",
    "    print(f\"{hosp} Test set without SMOTE KNN({n_neighbours}) score: {best_knn.score(dict_df_X_test[hosp], dict_df_y_test[hosp])}\")\n",
    "\n",
    "    print(f\"{hosp} Accuracy without SMOTE KNN({n_neighbours}): {metrics.accuracy_score(dict_df_y_test[hosp], y_pred)}\")\n",
    "    print(hosp, f'KNN({n_neighbours})\\n', confusion_matrix(dict_df_y_test[hosp],y_pred))  \n",
    "    print(hosp, f'KNN({n_neighbours})\\n', classification_report(dict_df_y_test[hosp],y_pred))  "
   ]
  },
  {
   "cell_type": "markdown",
   "metadata": {},
   "source": [
    "### KNN With SMOTE"
   ]
  },
  {
   "cell_type": "markdown",
   "metadata": {},
   "source": [
    "#### KNN With SMOTE ss=0.1"
   ]
  },
  {
   "cell_type": "code",
   "execution_count": null,
   "metadata": {},
   "outputs": [],
   "source": [
    "n_neighbours = 8\n",
    "list_smote_sampling = [0.1, 0.5, 1.0]\n",
    "for hosp in dict_df_X_train:\n",
    "    for sample in list_smote_sampling:\n",
    "        sm_ss = SMOTE(random_state=55,sampling_strategy=sample)\n",
    "        X_train_ss, y_train_ss = sm_ss.fit_sample(dict_df_X_train[hosp], dict_df_y_train[hosp])\n",
    "        \n",
    "        # Fit the KNN model with training data and score the test data\n",
    "        best_knn = KNeighborsClassifier(n_neighbours)    \n",
    "        best_knn.fit(X_train_ss,y_train_ss)\n",
    "        #best_knn.score(dict_df_X_test[hosp],dict_df_y_test[hosp])\n",
    "        \n",
    "        # save the model to disk\n",
    "        filename = f'{hosp}_best_knn_{sample}_smote.pkl'\n",
    "        pickle.dump(best_knn, open(filename, 'wb'))\n",
    "        \n",
    "        y_pred = best_knn.predict(dict_df_X_test[hosp])\n",
    "        # Score for Best KNN, with SMOTE\n",
    "        print(f\"{hosp} Training set {sample} SMOTE KNN({n_neighbours}) score: {best_knn.score(X_train_ss, y_train_ss)}\")\n",
    "        print(f\"{hosp} Test set {sample} SMOTE KNN({n_neighbours}) score: {best_knn.score(dict_df_X_test[hosp], dict_df_y_test[hosp])}\")\n",
    "\n",
    "        print(f\"{hosp} Accuracy {sample} SMOTE KNN({n_neighbours}): \", metrics.accuracy_score(dict_df_y_test[hosp], y_pred))\n",
    "        print(confusion_matrix(dict_df_y_test[hosp],y_pred))  \n",
    "        print(classification_report(dict_df_y_test[hosp],y_pred)) "
   ]
  },
  {
   "cell_type": "code",
   "execution_count": null,
   "metadata": {},
   "outputs": [],
   "source": []
  }
 ],
 "metadata": {
  "environment": {
   "name": "common-cpu.m56",
   "type": "gcloud",
   "uri": "gcr.io/deeplearning-platform-release/base-cpu:m56"
  },
  "jupytext": {
   "formats": "ipynb,py:light"
  },
  "kernelspec": {
   "display_name": "Python 3",
   "language": "python",
   "name": "python3"
  },
  "language_info": {
   "codemirror_mode": {
    "name": "ipython",
    "version": 3
   },
   "file_extension": ".py",
   "mimetype": "text/x-python",
   "name": "python",
   "nbconvert_exporter": "python",
   "pygments_lexer": "ipython3",
   "version": "3.7.8"
  }
 },
 "nbformat": 4,
 "nbformat_minor": 4
}
