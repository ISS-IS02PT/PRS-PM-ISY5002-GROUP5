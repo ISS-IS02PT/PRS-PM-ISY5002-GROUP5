{
 "metadata": {
  "language_info": {
   "codemirror_mode": {
    "name": "ipython",
    "version": 3
   },
   "file_extension": ".py",
   "mimetype": "text/x-python",
   "name": "python",
   "nbconvert_exporter": "python",
   "pygments_lexer": "ipython3",
   "version": "3.7.6-final"
  },
  "orig_nbformat": 2,
  "kernelspec": {
   "name": "Python 3.7.6 64-bit ('sandbox': conda)",
   "display_name": "Python 3.7.6 64-bit ('sandbox': conda)",
   "metadata": {
    "interpreter": {
     "hash": "a31f979fd7ec5616a47c88a389106f065111c8af2b950adc2b080f56172a5b7a"
    }
   }
  }
 },
 "nbformat": 4,
 "nbformat_minor": 2,
 "cells": [
  {
   "cell_type": "code",
   "execution_count": 1,
   "metadata": {},
   "outputs": [],
   "source": [
    "%load_ext autoreload\n",
    "%autoreload 2"
   ]
  },
  {
   "cell_type": "code",
   "execution_count": 2,
   "metadata": {},
   "outputs": [],
   "source": [
    "from datapipeline import Datapipeline\n",
    "import pandas as pd\n",
    "import numpy as np"
   ]
  },
  {
   "cell_type": "code",
   "execution_count": 3,
   "metadata": {},
   "outputs": [],
   "source": [
    "dpl = Datapipeline()"
   ]
  },
  {
   "cell_type": "code",
   "execution_count": 4,
   "metadata": {
    "tags": []
   },
   "outputs": [
    {
     "output_type": "stream",
     "name": "stdout",
     "text": "{&#39;GHL&#39;: &#39;./Data Exploration/data/GHL_data.csv&#39;, &#39;MEH&#39;: &#39;./Data Exploration/data/MEH_data.csv&#39;, &#39;PEH&#39;: &#39;./Data Exploration/data/PEH_data.csv&#39;, &#39;PNH&#39;: &#39;./Data Exploration/data/PNH_data.csv&#39;}\n"
    }
   ],
   "source": [
    "raw_data_path = './Data Exploration/data/ParkwaySampleDataForProject_09_withTOSP3.xlsx'\n",
    "dict_hosp_filepaths = dpl.transform_raw_data(raw_data_path)\n",
    "print(dict_hosp_filepaths)"
   ]
  },
  {
   "cell_type": "code",
   "execution_count": 5,
   "metadata": {
    "tags": []
   },
   "outputs": [
    {
     "output_type": "stream",
     "name": "stdout",
     "text": "GHL 106229\nMEH 131062\nPEH 38138\nPNH 105781\n"
    }
   ],
   "source": [
    "dict_hosp_df = {}\n",
    "for hosp in dict_hosp_filepaths:\n",
    "    dict_hosp_df[hosp] = pd.read_csv(dict_hosp_filepaths[hosp])\n",
    "    print(hosp, len(dict_hosp_df[hosp]))"
   ]
  },
  {
   "cell_type": "code",
   "execution_count": 6,
   "metadata": {
    "tags": []
   },
   "outputs": [
    {
     "output_type": "stream",
     "name": "stdout",
     "text": "&lt;class &#39;pandas.core.frame.DataFrame&#39;&gt;\nRangeIndex: 131062 entries, 0 to 131061\nData columns (total 49 columns):\n #   Column              Non-Null Count   Dtype  \n---  ------              --------------   -----  \n 0   CASE_NUMBER         131062 non-null  int64  \n 1   TOTAL_PAID_AMT      131062 non-null  float64\n 2   PAYER_CODE_1        56994 non-null   object \n 3   PAYER_1_PAID_AMT    131062 non-null  float64\n 4   PAYER_CODE_2        47583 non-null   object \n 5   PAYER_2_PAID_AMT    131062 non-null  float64\n 6   PAYER_CODE_3        16390 non-null   object \n 7   PAYER_3_PAID_AMT    131062 non-null  float64\n 8   PAYER_CODE_4        757 non-null     object \n 9   PAYER_4_PAID_AMT    131062 non-null  float64\n 10  PAYER_CODE_5        16 non-null      float64\n 11  PAYER_5_PAID_AMT    131062 non-null  float64\n 12  BED_TYPE            131062 non-null  object \n 13  REFERRAL_TYPE       131062 non-null  object \n 14  TREATMENT_CATEGORY  131062 non-null  object \n 15  ADMISSION_TYPE      131062 non-null  object \n 16  DISCHARGE_TYPE      131062 non-null  int64  \n 17  LOS_DAYS            131062 non-null  int64  \n 18  DOCTOR_CODE         131061 non-null  object \n 19  SPECIALTY_CODE      131053 non-null  float64\n 20  SPECIALTY_GRP       129026 non-null  float64\n 21  TOSP_COUNT          131062 non-null  int64  \n 22  TOSP_CODE1          97621 non-null   object \n 23  TOSP_CODE2          31226 non-null   object \n 24  TOSP_CODE3          4707 non-null    object \n 25  TOSP_CODE4          1199 non-null    object \n 26  NATIONALITY         131041 non-null  object \n 27  NONRESID_FLAG       131062 non-null  object \n 28  GENDER              131062 non-null  object \n 29  DECEASED_FLAG       131062 non-null  object \n 30  MARITAL_STATUS      128557 non-null  object \n 31  RELIGION            86344 non-null   object \n 32  VIP_FLAG            131062 non-null  object \n 33  RACE                130995 non-null  object \n 34  DRG_CODE            129025 non-null  object \n 35  PAYER_CODE2_V       47600 non-null   object \n 36  PACKAGE_PRICE       131062 non-null  float64\n 37  PACKAGE_EXCL        131062 non-null  float64\n 38  PACKAGE_ADJ         131062 non-null  float64\n 39  PACKAGE_CODE1       33533 non-null   float64\n 40  PACKAGE_CODE2       1 non-null       float64\n 41  ICD_CODE1           130771 non-null  object \n 42  ICD_CODE2           54883 non-null   object \n 43  ICD_CODE3           20771 non-null   object \n 44  PROF_FEE            131062 non-null  float64\n 45  TOTAL_FEES          131062 non-null  float64\n 46  WRITE_OFF           131062 non-null  float64\n 47  Resid_Cty_Code      131056 non-null  object \n 48  Admission_Age       131062 non-null  int64  \ndtypes: float64(17), int64(5), object(27)\nmemory usage: 49.0+ MB\nNone\n"
    }
   ],
   "source": [
    "#df = pd.read_csv('./data/all_hosp_data.csv')\n",
    "df = dict_hosp_df['MEH']\n",
    "print(df.info())"
   ]
  },
  {
   "cell_type": "code",
   "execution_count": 7,
   "metadata": {
    "tags": []
   },
   "outputs": [
    {
     "output_type": "stream",
     "name": "stdout",
     "text": "(98296, 49) (32766, 49)\n&lt;class &#39;pandas.core.frame.DataFrame&#39;&gt;\nInt64Index: 98296 entries, 0 to 131061\nData columns (total 49 columns):\n #   Column              Non-Null Count  Dtype  \n---  ------              --------------  -----  \n 0   CASE_NUMBER         98296 non-null  int64  \n 1   TOTAL_PAID_AMT      98296 non-null  float64\n 2   PAYER_CODE_1        42726 non-null  object \n 3   PAYER_1_PAID_AMT    98296 non-null  float64\n 4   PAYER_CODE_2        35693 non-null  object \n 5   PAYER_2_PAID_AMT    98296 non-null  float64\n 6   PAYER_CODE_3        12289 non-null  object \n 7   PAYER_3_PAID_AMT    98296 non-null  float64\n 8   PAYER_CODE_4        569 non-null    object \n 9   PAYER_4_PAID_AMT    98296 non-null  float64\n 10  PAYER_CODE_5        13 non-null     float64\n 11  PAYER_5_PAID_AMT    98296 non-null  float64\n 12  BED_TYPE            98296 non-null  object \n 13  REFERRAL_TYPE       98296 non-null  object \n 14  TREATMENT_CATEGORY  98296 non-null  object \n 15  ADMISSION_TYPE      98296 non-null  object \n 16  DISCHARGE_TYPE      98296 non-null  int64  \n 17  LOS_DAYS            98296 non-null  int64  \n 18  DOCTOR_CODE         98295 non-null  object \n 19  SPECIALTY_CODE      98288 non-null  float64\n 20  SPECIALTY_GRP       96781 non-null  float64\n 21  TOSP_COUNT          98296 non-null  int64  \n 22  TOSP_CODE1          73153 non-null  object \n 23  TOSP_CODE2          23466 non-null  object \n 24  TOSP_CODE3          3569 non-null   object \n 25  TOSP_CODE4          901 non-null    object \n 26  NATIONALITY         98280 non-null  object \n 27  NONRESID_FLAG       98296 non-null  object \n 28  GENDER              98296 non-null  object \n 29  DECEASED_FLAG       98296 non-null  object \n 30  MARITAL_STATUS      96383 non-null  object \n 31  RELIGION            64709 non-null  object \n 32  VIP_FLAG            98296 non-null  object \n 33  RACE                98244 non-null  object \n 34  DRG_CODE            96780 non-null  object \n 35  PAYER_CODE2_V       35706 non-null  object \n 36  PACKAGE_PRICE       98296 non-null  float64\n 37  PACKAGE_EXCL        98296 non-null  float64\n 38  PACKAGE_ADJ         98296 non-null  float64\n 39  PACKAGE_CODE1       25218 non-null  float64\n 40  PACKAGE_CODE2       1 non-null      float64\n 41  ICD_CODE1           98076 non-null  object \n 42  ICD_CODE2           41154 non-null  object \n 43  ICD_CODE3           15570 non-null  object \n 44  PROF_FEE            98296 non-null  float64\n 45  TOTAL_FEES          98296 non-null  float64\n 46  WRITE_OFF           98296 non-null  float64\n 47  Resid_Cty_Code      98291 non-null  object \n 48  Admission_Age       98296 non-null  int64  \ndtypes: float64(17), int64(5), object(27)\nmemory usage: 37.5+ MB\nNone\n&lt;class &#39;pandas.core.frame.DataFrame&#39;&gt;\nInt64Index: 32766 entries, 2 to 131059\nData columns (total 49 columns):\n #   Column              Non-Null Count  Dtype  \n---  ------              --------------  -----  \n 0   CASE_NUMBER         32766 non-null  int64  \n 1   TOTAL_PAID_AMT      32766 non-null  float64\n 2   PAYER_CODE_1        14268 non-null  object \n 3   PAYER_1_PAID_AMT    32766 non-null  float64\n 4   PAYER_CODE_2        11890 non-null  object \n 5   PAYER_2_PAID_AMT    32766 non-null  float64\n 6   PAYER_CODE_3        4101 non-null   object \n 7   PAYER_3_PAID_AMT    32766 non-null  float64\n 8   PAYER_CODE_4        188 non-null    object \n 9   PAYER_4_PAID_AMT    32766 non-null  float64\n 10  PAYER_CODE_5        3 non-null      float64\n 11  PAYER_5_PAID_AMT    32766 non-null  float64\n 12  BED_TYPE            32766 non-null  object \n 13  REFERRAL_TYPE       32766 non-null  object \n 14  TREATMENT_CATEGORY  32766 non-null  object \n 15  ADMISSION_TYPE      32766 non-null  object \n 16  DISCHARGE_TYPE      32766 non-null  int64  \n 17  LOS_DAYS            32766 non-null  int64  \n 18  DOCTOR_CODE         32766 non-null  object \n 19  SPECIALTY_CODE      32765 non-null  float64\n 20  SPECIALTY_GRP       32245 non-null  float64\n 21  TOSP_COUNT          32766 non-null  int64  \n 22  TOSP_CODE1          24468 non-null  object \n 23  TOSP_CODE2          7760 non-null   object \n 24  TOSP_CODE3          1138 non-null   object \n 25  TOSP_CODE4          298 non-null    object \n 26  NATIONALITY         32761 non-null  object \n 27  NONRESID_FLAG       32766 non-null  object \n 28  GENDER              32766 non-null  object \n 29  DECEASED_FLAG       32766 non-null  object \n 30  MARITAL_STATUS      32174 non-null  object \n 31  RELIGION            21635 non-null  object \n 32  VIP_FLAG            32766 non-null  object \n 33  RACE                32751 non-null  object \n 34  DRG_CODE            32245 non-null  object \n 35  PAYER_CODE2_V       11894 non-null  object \n 36  PACKAGE_PRICE       32766 non-null  float64\n 37  PACKAGE_EXCL        32766 non-null  float64\n 38  PACKAGE_ADJ         32766 non-null  float64\n 39  PACKAGE_CODE1       8315 non-null   float64\n 40  PACKAGE_CODE2       0 non-null      float64\n 41  ICD_CODE1           32695 non-null  object \n 42  ICD_CODE2           13729 non-null  object \n 43  ICD_CODE3           5201 non-null   object \n 44  PROF_FEE            32766 non-null  float64\n 45  TOTAL_FEES          32766 non-null  float64\n 46  WRITE_OFF           32766 non-null  float64\n 47  Resid_Cty_Code      32765 non-null  object \n 48  Admission_Age       32766 non-null  int64  \ndtypes: float64(17), int64(5), object(27)\nmemory usage: 12.5+ MB\nNone\n"
    }
   ],
   "source": [
    "df_train, df_test = dpl.train_test_split(df, random_state=0)\n",
    "print(df_train.shape, df_test.shape)\n",
    "print(df_train.info())\n",
    "print(df_test.info())"
   ]
  },
  {
   "cell_type": "code",
   "execution_count": 8,
   "metadata": {
    "tags": []
   },
   "outputs": [
    {
     "output_type": "stream",
     "name": "stdout",
     "text": "0 10000\n10000 20000\n20000 30000\n30000 40000\n40000 50000\n50000 60000\n60000 70000\n70000 80000\n80000 90000\n90000 100000\n./Data Exploration/data/MEH_data_X_train.csv\n./Data Exploration/data/MEH_data_y_train.csv\n"
    }
   ],
   "source": [
    "X_train_file_path, y_train_file_path = dpl.transform_train_test_data(dict_hosp_filepaths['MEH'])\n",
    "print(X_train_file_path)\n",
    "print(y_train_file_path)"
   ]
  },
  {
   "cell_type": "code",
   "execution_count": 9,
   "metadata": {
    "tags": []
   },
   "outputs": [
    {
     "output_type": "stream",
     "name": "stdout",
     "text": "(-inf, 0.0]          126941\n(0.0, 100.0]           3834\n(1000.0, 5000.0]        104\n(100.0, 500.0]           80\n(5000.0, 10000.0]        41\n(10000.0, inf]           36\n(500.0, 1000.0]          26\nName: bin_WRITE_OFF, dtype: int64\n(-inf, 0.0]          126941\n(0.0, 100.0]           3834\n(1000.0, 5000.0]        104\n(100.0, 500.0]           80\n(5000.0, 10000.0]        41\n(10000.0, inf]           36\n(500.0, 1000.0]          26\nName: bin_WRITE_OFF, dtype: int64\n(-inf, 0.0]          126941\n(0.0, 100.0]           3834\n(1000.0, 5000.0]        104\n(100.0, 500.0]           80\n(5000.0, 10000.0]        41\n(10000.0, inf]           36\n(500.0, 1000.0]          26\nName: bin_WRITE_OFF, dtype: int64\n(-inf, 0.0]          126941\n(0.0, 100.0]           3834\n(1000.0, 5000.0]        104\n(100.0, 500.0]           80\n(5000.0, 10000.0]        41\n(10000.0, inf]           36\n(500.0, 1000.0]          26\nName: bin_WRITE_OFF, dtype: int64\n"
    }
   ],
   "source": [
    "bin_thresh = [0, 100, 500, 1000, 5000, 10000]\n",
    "df_temp = dpl.bin_column(df, bin_thresh=bin_thresh)\n",
    "print(df_temp[f'bin_{dpl.target_col}'].value_counts())\n",
    "\n",
    "bin_thresh = [0, 100, 1000, 10000]\n",
    "df_temp = dpl.bin_column(df, bin_thresh=bin_thresh)\n",
    "print(df_temp[f'bin_{dpl.target_col}'].value_counts())\n",
    "\n",
    "bin_thresh = [0, 100, 1000]\n",
    "df_temp = dpl.bin_column(df, bin_thresh=bin_thresh)\n",
    "print(df_temp[f'bin_{dpl.target_col}'].value_counts())\n",
    "\n",
    "bin_thresh = [0]\n",
    "df_temp = dpl.bin_column(df, bin_thresh=bin_thresh)\n",
    "print(df_temp[f'bin_{dpl.target_col}'].value_counts())"
   ]
  },
  {
   "cell_type": "code",
   "execution_count": 10,
   "metadata": {
    "tags": []
   },
   "outputs": [
    {
     "output_type": "stream",
     "name": "stdout",
     "text": "        CASE_NUMBER  TOTAL_PAID_AMT  PAYER_1_PAID_AMT  PAYER_2_PAID_AMT  \\\n0        2016063345        10216.81           7241.64           2975.17   \n1        2016075448         9964.05           8367.06           1596.99   \n2        2016078293         8081.88           5604.26           2477.62   \n3        2016079166        10032.70          10032.70              0.00   \n4        2016079455        10003.26           7526.49           2476.77   \n...             ...             ...               ...               ...   \n131057   2019131204        10727.16          10727.16              0.00   \n131058   2019131207         8155.16           7306.75            848.41   \n131059   2019131213        49206.05           3326.87          45879.18   \n131060   2019131217        10863.58            543.18          10320.40   \n131061   2019131221        10029.41          10029.41              0.00   \n\n        PAYER_3_PAID_AMT  PAYER_4_PAID_AMT  PAYER_CODE_5  PAYER_5_PAID_AMT  \\\n0                    0.0               0.0           NaN               0.0   \n1                    0.0               0.0           NaN               0.0   \n2                    0.0               0.0           NaN               0.0   \n3                    0.0               0.0           NaN               0.0   \n4                    0.0               0.0           NaN               0.0   \n...                  ...               ...           ...               ...   \n131057               0.0               0.0           NaN               0.0   \n131058               0.0               0.0           NaN               0.0   \n131059               0.0               0.0           NaN               0.0   \n131060               0.0               0.0           NaN               0.0   \n131061               0.0               0.0           NaN               0.0   \n\n        DISCHARGE_TYPE  LOS_DAYS  ...  SPECIALTY_GRP  TOSP_COUNT  \\\n0                    1         2  ...            2.0           1   \n1                    1         2  ...            2.0           1   \n2                    1         2  ...            0.0           1   \n3                    1         3  ...            0.0           1   \n4                    1         2  ...            0.0           1   \n...                ...       ...  ...            ...         ...   \n131057               1         2  ...            0.0           0   \n131058               1         2  ...            3.0           0   \n131059               1         3  ...            0.0           2   \n131060               1         4  ...            0.0           0   \n131061               1         5  ...            0.0           0   \n\n        PACKAGE_PRICE  PACKAGE_EXCL  PACKAGE_ADJ  PACKAGE_CODE1  \\\n0             3523.36        457.56      -402.85   8.001170e+09   \n1             3971.96        856.09        28.01   8.001170e+09   \n2             2971.96        563.53      -502.27   8.001170e+09   \n3             3523.36       1604.67       117.87   8.001170e+09   \n4             3971.96        475.73      -289.12   8.001170e+09   \n...               ...           ...          ...            ...   \n131057           0.00          0.00         0.00            NaN   \n131058           0.00          0.00         0.00            NaN   \n131059           0.00          0.00         0.00            NaN   \n131060           0.00          0.00         0.00            NaN   \n131061           0.00          0.00         0.00            NaN   \n\n        PACKAGE_CODE2  PROF_FEE  TOTAL_FEES  Admission_Age  \n0                 NaN    6420.0    10216.81             37  \n1                 NaN    5136.0     9964.05             28  \n2                 NaN    4709.0     8081.88             39  \n3                 NaN    5457.0    10032.70             33  \n4                 NaN    5778.0    10003.26             37  \n...               ...       ...         ...            ...  \n131057            NaN    1391.0    10727.16             70  \n131058            NaN    1070.0     8155.16             71  \n131059            NaN   12626.0    49206.05             66  \n131060            NaN    2568.0    10863.58              0  \n131061            NaN    1765.5    10029.41              4  \n\n[131062 rows x 21 columns]\n"
    }
   ],
   "source": [
    "print(df[df.select_dtypes(include=[np.number]).columns])"
   ]
  },
  {
   "cell_type": "code",
   "execution_count": 18,
   "metadata": {
    "tags": []
   },
   "outputs": [
    {
     "output_type": "error",
     "ename": "ValueError",
     "evalue": "Mismatched dtypes found in `pd.read_csv`/`pd.read_table`.\n\n+---------------+--------+----------+\n| Column        | Found  | Expected |\n+---------------+--------+----------+\n| PAYER_CODE1_V | object | float64  |\n+---------------+--------+----------+\n\nThe following columns also raised exceptions on conversion:\n\n- PAYER_CODE1_V\n  ValueError(&quot;could not convert string to float: &#39;I8388S11&#39;&quot;)\n\nUsually this is due to dask&#39;s dtype inference failing, and\n*may* be fixed by specifying dtypes manually by adding:\n\ndtype={&#39;PAYER_CODE1_V&#39;: &#39;object&#39;}\n\nto the call to `read_csv`/`read_table`.",
     "traceback": [
      "\u001b[1;31m---------------------------------------------------------------------------\u001b[0m",
      "\u001b[1;31mValueError\u001b[0m                                Traceback (most recent call last)",
      "\u001b[1;32m&lt;ipython-input-18-3bf3ab13b176&gt;\u001b[0m in \u001b[0;36m&lt;module&gt;\u001b[1;34m\u001b[0m\n\u001b[0;32m      1\u001b[0m \u001b[1;32mfrom\u001b[0m \u001b[0mdask\u001b[0m \u001b[1;32mimport\u001b[0m \u001b[0mdataframe\u001b[0m \u001b[1;32mas\u001b[0m \u001b[0mdd\u001b[0m\u001b[1;33m\u001b[0m\u001b[1;33m\u001b[0m\u001b[0m\n\u001b[1;32m----&gt; 2\u001b[1;33m \u001b[0mdd_train_x\u001b[0m \u001b[1;33m=\u001b[0m \u001b[0mdd\u001b[0m\u001b[1;33m.\u001b[0m\u001b[0mread_csv\u001b[0m\u001b[1;33m(\u001b[0m\u001b[0mX_train_file_path\u001b[0m\u001b[1;33m,\u001b[0m \u001b[0msample\u001b[0m\u001b[1;33m=\u001b[0m\u001b[1;36m1000000\u001b[0m\u001b[1;33m)\u001b[0m\u001b[1;33m.\u001b[0m\u001b[0mset_index\u001b[0m\u001b[1;33m(\u001b[0m\u001b[1;34m&#39;CASE_NUMBER&#39;\u001b[0m\u001b[1;33m)\u001b[0m\u001b[1;33m\u001b[0m\u001b[1;33m\u001b[0m\u001b[0m\n\u001b[0m\u001b[0;32m      3\u001b[0m \u001b[0mprint\u001b[0m\u001b[1;33m(\u001b[0m\u001b[0mdd_train_x\u001b[0m\u001b[1;33m.\u001b[0m\u001b[0minfo\u001b[0m\u001b[1;33m(\u001b[0m\u001b[1;33m)\u001b[0m\u001b[1;33m)\u001b[0m\u001b[1;33m\u001b[0m\u001b[1;33m\u001b[0m\u001b[0m\n",
      "\u001b[1;32mC:\\ProgramData\\Anaconda3\\envs\\sandbox\\lib\\site-packages\\dask\\dataframe\\core.py\u001b[0m in \u001b[0;36mset_index\u001b[1;34m(***failed resolving arguments***)\u001b[0m\n\u001b[0;32m   3778\u001b[0m                 \u001b[0mnpartitions\u001b[0m\u001b[1;33m=\u001b[0m\u001b[0mnpartitions\u001b[0m\u001b[1;33m,\u001b[0m\u001b[1;33m\u001b[0m\u001b[1;33m\u001b[0m\u001b[0m\n\u001b[0;32m   3779\u001b[0m                 \u001b[0mdivisions\u001b[0m\u001b[1;33m=\u001b[0m\u001b[0mdivisions\u001b[0m\u001b[1;33m,\u001b[0m\u001b[1;33m\u001b[0m\u001b[1;33m\u001b[0m\u001b[0m\n\u001b[1;32m-&gt; 3780\u001b[1;33m                 \u001b[1;33m**\u001b[0m\u001b[0mkwargs\u001b[0m\u001b[1;33m,\u001b[0m\u001b[1;33m\u001b[0m\u001b[1;33m\u001b[0m\u001b[0m\n\u001b[0m\u001b[0;32m   3781\u001b[0m             )\n\u001b[0;32m   3782\u001b[0m \u001b[1;33m\u001b[0m\u001b[0m\n",
      "\u001b[1;32mC:\\ProgramData\\Anaconda3\\envs\\sandbox\\lib\\site-packages\\dask\\dataframe\\shuffle.py\u001b[0m in \u001b[0;36mset_index\u001b[1;34m(df, index, npartitions, shuffle, compute, drop, upsample, divisions, partition_size, **kwargs)\u001b[0m\n\u001b[0;32m     83\u001b[0m         \u001b[0msizes\u001b[0m\u001b[1;33m,\u001b[0m \u001b[0mmins\u001b[0m\u001b[1;33m,\u001b[0m \u001b[0mmaxes\u001b[0m \u001b[1;33m=\u001b[0m \u001b[0mbase\u001b[0m\u001b[1;33m.\u001b[0m\u001b[0moptimize\u001b[0m\u001b[1;33m(\u001b[0m\u001b[0msizes\u001b[0m\u001b[1;33m,\u001b[0m \u001b[0mmins\u001b[0m\u001b[1;33m,\u001b[0m \u001b[0mmaxes\u001b[0m\u001b[1;33m)\u001b[0m\u001b[1;33m\u001b[0m\u001b[1;33m\u001b[0m\u001b[0m\n\u001b[0;32m     84\u001b[0m         divisions, sizes, mins, maxes = base.compute(\n\u001b[1;32m---&gt; 85\u001b[1;33m             \u001b[0mdivisions\u001b[0m\u001b[1;33m,\u001b[0m \u001b[0msizes\u001b[0m\u001b[1;33m,\u001b[0m \u001b[0mmins\u001b[0m\u001b[1;33m,\u001b[0m \u001b[0mmaxes\u001b[0m\u001b[1;33m,\u001b[0m \u001b[0moptimize_graph\u001b[0m\u001b[1;33m=\u001b[0m\u001b[1;32mFalse\u001b[0m\u001b[1;33m\u001b[0m\u001b[1;33m\u001b[0m\u001b[0m\n\u001b[0m\u001b[0;32m     86\u001b[0m         )\n\u001b[0;32m     87\u001b[0m         \u001b[0mdivisions\u001b[0m \u001b[1;33m=\u001b[0m \u001b[0mmethods\u001b[0m\u001b[1;33m.\u001b[0m\u001b[0mtolist\u001b[0m\u001b[1;33m(\u001b[0m\u001b[0mdivisions\u001b[0m\u001b[1;33m)\u001b[0m\u001b[1;33m\u001b[0m\u001b[1;33m\u001b[0m\u001b[0m\n",
      "\u001b[1;32mC:\\ProgramData\\Anaconda3\\envs\\sandbox\\lib\\site-packages\\dask\\base.py\u001b[0m in \u001b[0;36mcompute\u001b[1;34m(*args, **kwargs)\u001b[0m\n\u001b[0;32m    450\u001b[0m         \u001b[0mpostcomputes\u001b[0m\u001b[1;33m.\u001b[0m\u001b[0mappend\u001b[0m\u001b[1;33m(\u001b[0m\u001b[0mx\u001b[0m\u001b[1;33m.\u001b[0m\u001b[0m__dask_postcompute__\u001b[0m\u001b[1;33m(\u001b[0m\u001b[1;33m)\u001b[0m\u001b[1;33m)\u001b[0m\u001b[1;33m\u001b[0m\u001b[1;33m\u001b[0m\u001b[0m\n\u001b[0;32m    451\u001b[0m \u001b[1;33m\u001b[0m\u001b[0m\n\u001b[1;32m--&gt; 452\u001b[1;33m     \u001b[0mresults\u001b[0m \u001b[1;33m=\u001b[0m \u001b[0mschedule\u001b[0m\u001b[1;33m(\u001b[0m\u001b[0mdsk\u001b[0m\u001b[1;33m,\u001b[0m \u001b[0mkeys\u001b[0m\u001b[1;33m,\u001b[0m \u001b[1;33m**\u001b[0m\u001b[0mkwargs\u001b[0m\u001b[1;33m)\u001b[0m\u001b[1;33m\u001b[0m\u001b[1;33m\u001b[0m\u001b[0m\n\u001b[0m\u001b[0;32m    453\u001b[0m     \u001b[1;32mreturn\u001b[0m \u001b[0mrepack\u001b[0m\u001b[1;33m(\u001b[0m\u001b[1;33m[\u001b[0m\u001b[0mf\u001b[0m\u001b[1;33m(\u001b[0m\u001b[0mr\u001b[0m\u001b[1;33m,\u001b[0m \u001b[1;33m*\u001b[0m\u001b[0ma\u001b[0m\u001b[1;33m)\u001b[0m \u001b[1;32mfor\u001b[0m \u001b[0mr\u001b[0m\u001b[1;33m,\u001b[0m \u001b[1;33m(\u001b[0m\u001b[0mf\u001b[0m\u001b[1;33m,\u001b[0m \u001b[0ma\u001b[0m\u001b[1;33m)\u001b[0m \u001b[1;32min\u001b[0m \u001b[0mzip\u001b[0m\u001b[1;33m(\u001b[0m\u001b[0mresults\u001b[0m\u001b[1;33m,\u001b[0m \u001b[0mpostcomputes\u001b[0m\u001b[1;33m)\u001b[0m\u001b[1;33m]\u001b[0m\u001b[1;33m)\u001b[0m\u001b[1;33m\u001b[0m\u001b[1;33m\u001b[0m\u001b[0m\n\u001b[0;32m    454\u001b[0m \u001b[1;33m\u001b[0m\u001b[0m\n",
      "\u001b[1;32mC:\\ProgramData\\Anaconda3\\envs\\sandbox\\lib\\site-packages\\dask\\threaded.py\u001b[0m in \u001b[0;36mget\u001b[1;34m(dsk, result, cache, num_workers, pool, **kwargs)\u001b[0m\n\u001b[0;32m     82\u001b[0m         \u001b[0mget_id\u001b[0m\u001b[1;33m=\u001b[0m\u001b[0m_thread_get_id\u001b[0m\u001b[1;33m,\u001b[0m\u001b[1;33m\u001b[0m\u001b[1;33m\u001b[0m\u001b[0m\n\u001b[0;32m     83\u001b[0m         \u001b[0mpack_exception\u001b[0m\u001b[1;33m=\u001b[0m\u001b[0mpack_exception\u001b[0m\u001b[1;33m,\u001b[0m\u001b[1;33m\u001b[0m\u001b[1;33m\u001b[0m\u001b[0m\n\u001b[1;32m---&gt; 84\u001b[1;33m         \u001b[1;33m**\u001b[0m\u001b[0mkwargs\u001b[0m\u001b[1;33m\u001b[0m\u001b[1;33m\u001b[0m\u001b[0m\n\u001b[0m\u001b[0;32m     85\u001b[0m     )\n\u001b[0;32m     86\u001b[0m \u001b[1;33m\u001b[0m\u001b[0m\n",
      "\u001b[1;32mC:\\ProgramData\\Anaconda3\\envs\\sandbox\\lib\\site-packages\\dask\\local.py\u001b[0m in \u001b[0;36mget_async\u001b[1;34m(apply_async, num_workers, dsk, result, cache, get_id, rerun_exceptions_locally, pack_exception, raise_exception, callbacks, dumps, loads, **kwargs)\u001b[0m\n\u001b[0;32m    484\u001b[0m                         \u001b[0m_execute_task\u001b[0m\u001b[1;33m(\u001b[0m\u001b[0mtask\u001b[0m\u001b[1;33m,\u001b[0m \u001b[0mdata\u001b[0m\u001b[1;33m)\u001b[0m  \u001b[1;31m# Re-execute locally\u001b[0m\u001b[1;33m\u001b[0m\u001b[1;33m\u001b[0m\u001b[0m\n\u001b[0;32m    485\u001b[0m                     \u001b[1;32melse\u001b[0m\u001b[1;33m:\u001b[0m\u001b[1;33m\u001b[0m\u001b[1;33m\u001b[0m\u001b[0m\n\u001b[1;32m--&gt; 486\u001b[1;33m                         \u001b[0mraise_exception\u001b[0m\u001b[1;33m(\u001b[0m\u001b[0mexc\u001b[0m\u001b[1;33m,\u001b[0m \u001b[0mtb\u001b[0m\u001b[1;33m)\u001b[0m\u001b[1;33m\u001b[0m\u001b[1;33m\u001b[0m\u001b[0m\n\u001b[0m\u001b[0;32m    487\u001b[0m                 \u001b[0mres\u001b[0m\u001b[1;33m,\u001b[0m \u001b[0mworker_id\u001b[0m \u001b[1;33m=\u001b[0m \u001b[0mloads\u001b[0m\u001b[1;33m(\u001b[0m\u001b[0mres_info\u001b[0m\u001b[1;33m)\u001b[0m\u001b[1;33m\u001b[0m\u001b[1;33m\u001b[0m\u001b[0m\n\u001b[0;32m    488\u001b[0m                 \u001b[0mstate\u001b[0m\u001b[1;33m[\u001b[0m\u001b[1;34m&quot;cache&quot;\u001b[0m\u001b[1;33m]\u001b[0m\u001b[1;33m[\u001b[0m\u001b[0mkey\u001b[0m\u001b[1;33m]\u001b[0m \u001b[1;33m=\u001b[0m \u001b[0mres\u001b[0m\u001b[1;33m\u001b[0m\u001b[1;33m\u001b[0m\u001b[0m\n",
      "\u001b[1;32mC:\\ProgramData\\Anaconda3\\envs\\sandbox\\lib\\site-packages\\dask\\local.py\u001b[0m in \u001b[0;36mreraise\u001b[1;34m(exc, tb)\u001b[0m\n\u001b[0;32m    314\u001b[0m     \u001b[1;32mif\u001b[0m \u001b[0mexc\u001b[0m\u001b[1;33m.\u001b[0m\u001b[0m__traceback__\u001b[0m \u001b[1;32mis\u001b[0m \u001b[1;32mnot\u001b[0m \u001b[0mtb\u001b[0m\u001b[1;33m:\u001b[0m\u001b[1;33m\u001b[0m\u001b[1;33m\u001b[0m\u001b[0m\n\u001b[0;32m    315\u001b[0m         \u001b[1;32mraise\u001b[0m \u001b[0mexc\u001b[0m\u001b[1;33m.\u001b[0m\u001b[0mwith_traceback\u001b[0m\u001b[1;33m(\u001b[0m\u001b[0mtb\u001b[0m\u001b[1;33m)\u001b[0m\u001b[1;33m\u001b[0m\u001b[1;33m\u001b[0m\u001b[0m\n\u001b[1;32m--&gt; 316\u001b[1;33m     \u001b[1;32mraise\u001b[0m \u001b[0mexc\u001b[0m\u001b[1;33m\u001b[0m\u001b[1;33m\u001b[0m\u001b[0m\n\u001b[0m\u001b[0;32m    317\u001b[0m \u001b[1;33m\u001b[0m\u001b[0m\n\u001b[0;32m    318\u001b[0m \u001b[1;33m\u001b[0m\u001b[0m\n",
      "\u001b[1;32mC:\\ProgramData\\Anaconda3\\envs\\sandbox\\lib\\site-packages\\dask\\local.py\u001b[0m in \u001b[0;36mexecute_task\u001b[1;34m(key, task_info, dumps, loads, get_id, pack_exception)\u001b[0m\n\u001b[0;32m    220\u001b[0m     \u001b[1;32mtry\u001b[0m\u001b[1;33m:\u001b[0m\u001b[1;33m\u001b[0m\u001b[1;33m\u001b[0m\u001b[0m\n\u001b[0;32m    221\u001b[0m         \u001b[0mtask\u001b[0m\u001b[1;33m,\u001b[0m \u001b[0mdata\u001b[0m \u001b[1;33m=\u001b[0m \u001b[0mloads\u001b[0m\u001b[1;33m(\u001b[0m\u001b[0mtask_info\u001b[0m\u001b[1;33m)\u001b[0m\u001b[1;33m\u001b[0m\u001b[1;33m\u001b[0m\u001b[0m\n\u001b[1;32m--&gt; 222\u001b[1;33m         \u001b[0mresult\u001b[0m \u001b[1;33m=\u001b[0m \u001b[0m_execute_task\u001b[0m\u001b[1;33m(\u001b[0m\u001b[0mtask\u001b[0m\u001b[1;33m,\u001b[0m \u001b[0mdata\u001b[0m\u001b[1;33m)\u001b[0m\u001b[1;33m\u001b[0m\u001b[1;33m\u001b[0m\u001b[0m\n\u001b[0m\u001b[0;32m    223\u001b[0m         \u001b[0mid\u001b[0m \u001b[1;33m=\u001b[0m \u001b[0mget_id\u001b[0m\u001b[1;33m(\u001b[0m\u001b[1;33m)\u001b[0m\u001b[1;33m\u001b[0m\u001b[1;33m\u001b[0m\u001b[0m\n\u001b[0;32m    224\u001b[0m         \u001b[0mresult\u001b[0m \u001b[1;33m=\u001b[0m \u001b[0mdumps\u001b[0m\u001b[1;33m(\u001b[0m\u001b[1;33m(\u001b[0m\u001b[0mresult\u001b[0m\u001b[1;33m,\u001b[0m \u001b[0mid\u001b[0m\u001b[1;33m)\u001b[0m\u001b[1;33m)\u001b[0m\u001b[1;33m\u001b[0m\u001b[1;33m\u001b[0m\u001b[0m\n",
      "\u001b[1;32mC:\\ProgramData\\Anaconda3\\envs\\sandbox\\lib\\site-packages\\dask\\core.py\u001b[0m in \u001b[0;36m_execute_task\u001b[1;34m(arg, cache, dsk)\u001b[0m\n\u001b[0;32m    119\u001b[0m         \u001b[1;31m# temporaries by their reference count and can execute certain\u001b[0m\u001b[1;33m\u001b[0m\u001b[1;33m\u001b[0m\u001b[1;33m\u001b[0m\u001b[0m\n\u001b[0;32m    120\u001b[0m         \u001b[1;31m# operations in-place.\u001b[0m\u001b[1;33m\u001b[0m\u001b[1;33m\u001b[0m\u001b[1;33m\u001b[0m\u001b[0m\n\u001b[1;32m--&gt; 121\u001b[1;33m         \u001b[1;32mreturn\u001b[0m \u001b[0mfunc\u001b[0m\u001b[1;33m(\u001b[0m\u001b[1;33m*\u001b[0m\u001b[1;33m(\u001b[0m\u001b[0m_execute_task\u001b[0m\u001b[1;33m(\u001b[0m\u001b[0ma\u001b[0m\u001b[1;33m,\u001b[0m \u001b[0mcache\u001b[0m\u001b[1;33m)\u001b[0m \u001b[1;32mfor\u001b[0m \u001b[0ma\u001b[0m \u001b[1;32min\u001b[0m \u001b[0margs\u001b[0m\u001b[1;33m)\u001b[0m\u001b[1;33m)\u001b[0m\u001b[1;33m\u001b[0m\u001b[1;33m\u001b[0m\u001b[0m\n\u001b[0m\u001b[0;32m    122\u001b[0m     \u001b[1;32melif\u001b[0m \u001b[1;32mnot\u001b[0m \u001b[0mishashable\u001b[0m\u001b[1;33m(\u001b[0m\u001b[0marg\u001b[0m\u001b[1;33m)\u001b[0m\u001b[1;33m:\u001b[0m\u001b[1;33m\u001b[0m\u001b[1;33m\u001b[0m\u001b[0m\n\u001b[0;32m    123\u001b[0m         \u001b[1;32mreturn\u001b[0m \u001b[0marg\u001b[0m\u001b[1;33m\u001b[0m\u001b[1;33m\u001b[0m\u001b[0m\n",
      "\u001b[1;32mC:\\ProgramData\\Anaconda3\\envs\\sandbox\\lib\\site-packages\\dask\\core.py\u001b[0m in \u001b[0;36m&lt;genexpr&gt;\u001b[1;34m(.0)\u001b[0m\n\u001b[0;32m    119\u001b[0m         \u001b[1;31m# temporaries by their reference count and can execute certain\u001b[0m\u001b[1;33m\u001b[0m\u001b[1;33m\u001b[0m\u001b[1;33m\u001b[0m\u001b[0m\n\u001b[0;32m    120\u001b[0m         \u001b[1;31m# operations in-place.\u001b[0m\u001b[1;33m\u001b[0m\u001b[1;33m\u001b[0m\u001b[1;33m\u001b[0m\u001b[0m\n\u001b[1;32m--&gt; 121\u001b[1;33m         \u001b[1;32mreturn\u001b[0m \u001b[0mfunc\u001b[0m\u001b[1;33m(\u001b[0m\u001b[1;33m*\u001b[0m\u001b[1;33m(\u001b[0m\u001b[0m_execute_task\u001b[0m\u001b[1;33m(\u001b[0m\u001b[0ma\u001b[0m\u001b[1;33m,\u001b[0m \u001b[0mcache\u001b[0m\u001b[1;33m)\u001b[0m \u001b[1;32mfor\u001b[0m \u001b[0ma\u001b[0m \u001b[1;32min\u001b[0m \u001b[0margs\u001b[0m\u001b[1;33m)\u001b[0m\u001b[1;33m)\u001b[0m\u001b[1;33m\u001b[0m\u001b[1;33m\u001b[0m\u001b[0m\n\u001b[0m\u001b[0;32m    122\u001b[0m     \u001b[1;32melif\u001b[0m \u001b[1;32mnot\u001b[0m \u001b[0mishashable\u001b[0m\u001b[1;33m(\u001b[0m\u001b[0marg\u001b[0m\u001b[1;33m)\u001b[0m\u001b[1;33m:\u001b[0m\u001b[1;33m\u001b[0m\u001b[1;33m\u001b[0m\u001b[0m\n\u001b[0;32m    123\u001b[0m         \u001b[1;32mreturn\u001b[0m \u001b[0marg\u001b[0m\u001b[1;33m\u001b[0m\u001b[1;33m\u001b[0m\u001b[0m\n",
      "\u001b[1;32mC:\\ProgramData\\Anaconda3\\envs\\sandbox\\lib\\site-packages\\dask\\core.py\u001b[0m in \u001b[0;36m_execute_task\u001b[1;34m(arg, cache, dsk)\u001b[0m\n\u001b[0;32m    119\u001b[0m         \u001b[1;31m# temporaries by their reference count and can execute certain\u001b[0m\u001b[1;33m\u001b[0m\u001b[1;33m\u001b[0m\u001b[1;33m\u001b[0m\u001b[0m\n\u001b[0;32m    120\u001b[0m         \u001b[1;31m# operations in-place.\u001b[0m\u001b[1;33m\u001b[0m\u001b[1;33m\u001b[0m\u001b[1;33m\u001b[0m\u001b[0m\n\u001b[1;32m--&gt; 121\u001b[1;33m         \u001b[1;32mreturn\u001b[0m \u001b[0mfunc\u001b[0m\u001b[1;33m(\u001b[0m\u001b[1;33m*\u001b[0m\u001b[1;33m(\u001b[0m\u001b[0m_execute_task\u001b[0m\u001b[1;33m(\u001b[0m\u001b[0ma\u001b[0m\u001b[1;33m,\u001b[0m \u001b[0mcache\u001b[0m\u001b[1;33m)\u001b[0m \u001b[1;32mfor\u001b[0m \u001b[0ma\u001b[0m \u001b[1;32min\u001b[0m \u001b[0margs\u001b[0m\u001b[1;33m)\u001b[0m\u001b[1;33m)\u001b[0m\u001b[1;33m\u001b[0m\u001b[1;33m\u001b[0m\u001b[0m\n\u001b[0m\u001b[0;32m    122\u001b[0m     \u001b[1;32melif\u001b[0m \u001b[1;32mnot\u001b[0m \u001b[0mishashable\u001b[0m\u001b[1;33m(\u001b[0m\u001b[0marg\u001b[0m\u001b[1;33m)\u001b[0m\u001b[1;33m:\u001b[0m\u001b[1;33m\u001b[0m\u001b[1;33m\u001b[0m\u001b[0m\n\u001b[0;32m    123\u001b[0m         \u001b[1;32mreturn\u001b[0m \u001b[0marg\u001b[0m\u001b[1;33m\u001b[0m\u001b[1;33m\u001b[0m\u001b[0m\n",
      "\u001b[1;32mC:\\ProgramData\\Anaconda3\\envs\\sandbox\\lib\\site-packages\\dask\\dataframe\\io\\csv.py\u001b[0m in \u001b[0;36mpandas_read_text\u001b[1;34m(reader, b, header, kwargs, dtypes, columns, write_header, enforce, path)\u001b[0m\n\u001b[0;32m    150\u001b[0m     \u001b[0mdf\u001b[0m \u001b[1;33m=\u001b[0m \u001b[0mreader\u001b[0m\u001b[1;33m(\u001b[0m\u001b[0mbio\u001b[0m\u001b[1;33m,\u001b[0m \u001b[1;33m**\u001b[0m\u001b[0mkwargs\u001b[0m\u001b[1;33m)\u001b[0m\u001b[1;33m\u001b[0m\u001b[1;33m\u001b[0m\u001b[0m\n\u001b[0;32m    151\u001b[0m     \u001b[1;32mif\u001b[0m \u001b[0mdtypes\u001b[0m\u001b[1;33m:\u001b[0m\u001b[1;33m\u001b[0m\u001b[1;33m\u001b[0m\u001b[0m\n\u001b[1;32m--&gt; 152\u001b[1;33m         \u001b[0mcoerce_dtypes\u001b[0m\u001b[1;33m(\u001b[0m\u001b[0mdf\u001b[0m\u001b[1;33m,\u001b[0m \u001b[0mdtypes\u001b[0m\u001b[1;33m)\u001b[0m\u001b[1;33m\u001b[0m\u001b[1;33m\u001b[0m\u001b[0m\n\u001b[0m\u001b[0;32m    153\u001b[0m \u001b[1;33m\u001b[0m\u001b[0m\n\u001b[0;32m    154\u001b[0m     \u001b[1;32mif\u001b[0m \u001b[0menforce\u001b[0m \u001b[1;32mand\u001b[0m \u001b[0mcolumns\u001b[0m \u001b[1;32mand\u001b[0m \u001b[1;33m(\u001b[0m\u001b[0mlist\u001b[0m\u001b[1;33m(\u001b[0m\u001b[0mdf\u001b[0m\u001b[1;33m.\u001b[0m\u001b[0mcolumns\u001b[0m\u001b[1;33m)\u001b[0m \u001b[1;33m!=\u001b[0m \u001b[0mlist\u001b[0m\u001b[1;33m(\u001b[0m\u001b[0mcolumns\u001b[0m\u001b[1;33m)\u001b[0m\u001b[1;33m)\u001b[0m\u001b[1;33m:\u001b[0m\u001b[1;33m\u001b[0m\u001b[1;33m\u001b[0m\u001b[0m\n",
      "\u001b[1;32mC:\\ProgramData\\Anaconda3\\envs\\sandbox\\lib\\site-packages\\dask\\dataframe\\io\\csv.py\u001b[0m in \u001b[0;36mcoerce_dtypes\u001b[1;34m(df, dtypes)\u001b[0m\n\u001b[0;32m    254\u001b[0m             \u001b[0mrule\u001b[0m\u001b[1;33m.\u001b[0m\u001b[0mjoin\u001b[0m\u001b[1;33m(\u001b[0m\u001b[0mfilter\u001b[0m\u001b[1;33m(\u001b[0m\u001b[1;32mNone\u001b[0m\u001b[1;33m,\u001b[0m \u001b[1;33m[\u001b[0m\u001b[0mdtype_msg\u001b[0m\u001b[1;33m,\u001b[0m \u001b[0mdate_msg\u001b[0m\u001b[1;33m]\u001b[0m\u001b[1;33m)\u001b[0m\u001b[1;33m)\u001b[0m\u001b[1;33m\u001b[0m\u001b[1;33m\u001b[0m\u001b[0m\n\u001b[0;32m    255\u001b[0m         )\n\u001b[1;32m--&gt; 256\u001b[1;33m         \u001b[1;32mraise\u001b[0m \u001b[0mValueError\u001b[0m\u001b[1;33m(\u001b[0m\u001b[0mmsg\u001b[0m\u001b[1;33m)\u001b[0m\u001b[1;33m\u001b[0m\u001b[1;33m\u001b[0m\u001b[0m\n\u001b[0m\u001b[0;32m    257\u001b[0m \u001b[1;33m\u001b[0m\u001b[0m\n\u001b[0;32m    258\u001b[0m \u001b[1;33m\u001b[0m\u001b[0m\n",
      "\u001b[1;31mValueError\u001b[0m: Mismatched dtypes found in `pd.read_csv`/`pd.read_table`.\n\n+---------------+--------+----------+\n| Column        | Found  | Expected |\n+---------------+--------+----------+\n| PAYER_CODE1_V | object | float64  |\n+---------------+--------+----------+\n\nThe following columns also raised exceptions on conversion:\n\n- PAYER_CODE1_V\n  ValueError(&quot;could not convert string to float: &#39;I8388S11&#39;&quot;)\n\nUsually this is due to dask&#39;s dtype inference failing, and\n*may* be fixed by specifying dtypes manually by adding:\n\ndtype={&#39;PAYER_CODE1_V&#39;: &#39;object&#39;}\n\nto the call to `read_csv`/`read_table`."
     ]
    }
   ],
   "source": [
    "from dask import dataframe as dd\n",
    "dd_train_x = dd.read_csv(X_train_file_path, sample=1000000).set_index('CASE_NUMBER')\n",
    "print(dd_train_x.info())"
   ]
  },
  {
   "cell_type": "code",
   "execution_count": null,
   "metadata": {
    "tags": []
   },
   "outputs": [],
   "source": [
    "dd_train_y = dd.read_csv(y_train_file_path, sample=1000000).set_index('CASE_NUMBER')\n",
    "print(dd_train_y.info())"
   ]
  },
  {
   "cell_type": "code",
   "execution_count": 16,
   "metadata": {},
   "outputs": [
    {
     "output_type": "error",
     "ename": "NameError",
     "evalue": "name &#39;dd_train_X&#39; is not defined",
     "traceback": [
      "\u001b[1;31m---------------------------------------------------------------------------\u001b[0m",
      "\u001b[1;31mNameError\u001b[0m                                 Traceback (most recent call last)",
      "\u001b[1;32m&lt;ipython-input-16-2f23ad89a178&gt;\u001b[0m in \u001b[0;36m&lt;module&gt;\u001b[1;34m\u001b[0m\n\u001b[1;32m----&gt; 1\u001b[1;33m \u001b[0mprint\u001b[0m\u001b[1;33m(\u001b[0m\u001b[0mdd_train_X\u001b[0m\u001b[1;33m.\u001b[0m\u001b[0mcolumns\u001b[0m\u001b[1;33m)\u001b[0m\u001b[1;33m\u001b[0m\u001b[1;33m\u001b[0m\u001b[0m\n\u001b[0m",
      "\u001b[1;31mNameError\u001b[0m: name &#39;dd_train_X&#39; is not defined"
     ]
    }
   ],
   "source": [
    "print(dd_train_X.columns)"
   ]
  },
  {
   "cell_type": "code",
   "execution_count": null,
   "metadata": {},
   "outputs": [],
   "source": [
    "from dask_ml.xgboost import XGBRegressor"
   ]
  },
  {
   "cell_type": "code",
   "execution_count": null,
   "metadata": {},
   "outputs": [],
   "source": []
  }
 ]
}