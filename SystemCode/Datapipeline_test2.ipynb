{
 "metadata": {
  "language_info": {
   "codemirror_mode": {
    "name": "ipython",
    "version": 3
   },
   "file_extension": ".py",
   "mimetype": "text/x-python",
   "name": "python",
   "nbconvert_exporter": "python",
   "pygments_lexer": "ipython3",
   "version": "3.7.8-final"
  },
  "orig_nbformat": 2,
  "kernelspec": {
   "name": "Python 3.7.8 64-bit ('base': conda)",
   "display_name": "Python 3.7.8 64-bit ('base': conda)",
   "metadata": {
    "interpreter": {
     "hash": "a31f979fd7ec5616a47c88a389106f065111c8af2b950adc2b080f56172a5b7a"
    }
   }
  }
 },
 "nbformat": 4,
 "nbformat_minor": 2,
 "cells": [
  {
   "cell_type": "code",
   "execution_count": 1,
   "metadata": {},
   "outputs": [],
   "source": [
    "%load_ext autoreload\n",
    "%autoreload 2"
   ]
  },
  {
   "cell_type": "code",
   "execution_count": 2,
   "metadata": {},
   "outputs": [],
   "source": [
    "from datapipeline import Datapipeline\n",
    "import pandas as pd\n",
    "import numpy as np"
   ]
  },
  {
   "cell_type": "code",
   "execution_count": 3,
   "metadata": {},
   "outputs": [],
   "source": [
    "dpl = Datapipeline()"
   ]
  },
  {
   "cell_type": "code",
   "execution_count": 4,
   "metadata": {},
   "outputs": [],
   "source": [
    "dict_hosp_filepaths = {\n",
    "    'GHL': './Data Exploration/data/GHL_data.h5',\n",
    "    'MEH': './Data Exploration/data/MEH_data.h5',\n",
    "    'PEH': './Data Exploration/data/PEH_data.h5',\n",
    "    'PNH': './Data Exploration/data/PNH_data.h5'}"
   ]
  },
  {
   "cell_type": "code",
   "execution_count": 5,
   "metadata": {
    "tags": []
   },
   "outputs": [
    {
     "output_type": "stream",
     "name": "stdout",
     "text": [
      "{'GHL': './Data Exploration/data/GHL_data.pkl', 'MEH': './Data Exploration/data/MEH_data.pkl', 'PEH': './Data Exploration/data/PEH_data.pkl', 'PNH': './Data Exploration/data/PNH_data.pkl'}\n"
     ]
    }
   ],
   "source": [
    "raw_data_path = './Data Exploration/data/ParkwaySampleDataForProject_09_withTOSP3.xlsx'\n",
    "dict_hosp_filepaths = dpl.transform_raw_data(raw_data_path)\n",
    "print(dict_hosp_filepaths)"
   ]
  },
  {
   "cell_type": "code",
   "execution_count": 6,
   "metadata": {
    "tags": []
   },
   "outputs": [
    {
     "output_type": "stream",
     "name": "stdout",
     "text": [
      "GHL 106229\n",
      "MEH 131062\n",
      "PEH 38138\n",
      "PNH 105781\n"
     ]
    }
   ],
   "source": [
    "dict_hosp_df = {}\n",
    "for hosp in dict_hosp_filepaths:\n",
    "    dict_hosp_df[hosp] = pd.read_pickle(dict_hosp_filepaths[hosp])\n",
    "    print(hosp, len(dict_hosp_df[hosp]))"
   ]
  },
  {
   "cell_type": "code",
   "execution_count": 7,
   "metadata": {
    "tags": []
   },
   "outputs": [
    {
     "output_type": "stream",
     "name": "stdout",
     "text": [
      "<class 'pandas.core.frame.DataFrame'>\nInt64Index: 131062 entries, 2016063345 to 2019131221\nData columns (total 45 columns):\n #   Column              Non-Null Count   Dtype  \n---  ------              --------------   -----  \n 0   TOTAL_PAID_AMT      131062 non-null  float64\n 1   PAYER_CODE_1        131062 non-null  object \n 2   PAYER_1_PAID_AMT    131062 non-null  float64\n 3   PAYER_CODE_2        131062 non-null  object \n 4   PAYER_2_PAID_AMT    131062 non-null  float64\n 5   PAYER_CODE_3        131062 non-null  object \n 6   PAYER_3_PAID_AMT    131062 non-null  float64\n 7   PAYER_CODE_4        131062 non-null  object \n 8   PAYER_4_PAID_AMT    131062 non-null  float64\n 9   PAYER_CODE_5        131062 non-null  object \n 10  PAYER_5_PAID_AMT    131062 non-null  float64\n 11  BED_TYPE            131062 non-null  object \n 12  REFERRAL_TYPE       131062 non-null  object \n 13  TREATMENT_CATEGORY  131062 non-null  object \n 14  ADMISSION_TYPE      131062 non-null  object \n 15  DISCHARGE_TYPE      131062 non-null  int64  \n 16  LOS_DAYS            131062 non-null  int64  \n 17  DOCTOR_CODE         131062 non-null  object \n 18  SPECIALTY_CODE      131062 non-null  object \n 19  SPECIALTY_GRP       131062 non-null  object \n 20  TOSP_COUNT          131062 non-null  int64  \n 21  TOSP_CODE1          131062 non-null  object \n 22  TOSP_CODE2          131062 non-null  object \n 23  TOSP_CODE3          131062 non-null  object \n 24  TOSP_CODE4          131062 non-null  object \n 25  NATIONALITY         131062 non-null  object \n 26  NONRESID_FLAG       131062 non-null  int32  \n 27  GENDER              131062 non-null  object \n 28  DECEASED_FLAG       131062 non-null  int32  \n 29  MARITAL_STATUS      131062 non-null  object \n 30  RELIGION            131062 non-null  object \n 31  VIP_FLAG            131062 non-null  int32  \n 32  RACE                131062 non-null  object \n 33  PACKAGE_PRICE       131062 non-null  float64\n 34  PACKAGE_EXCL        131062 non-null  float64\n 35  PACKAGE_ADJ         131062 non-null  float64\n 36  PACKAGE_CODE1       131062 non-null  object \n 37  PACKAGE_CODE2       131062 non-null  object \n 38  ICD_CODE1           131062 non-null  object \n 39  ICD_CODE2           131062 non-null  object \n 40  ICD_CODE3           131062 non-null  object \n 41  PROF_FEE            131062 non-null  float64\n 42  TOTAL_FEES          131062 non-null  float64\n 43  WRITE_OFF           131062 non-null  float64\n 44  Admission_Age       131062 non-null  int64  \ndtypes: float64(12), int32(3), int64(4), object(26)\nmemory usage: 44.5+ MB\nNone\n"
     ]
    }
   ],
   "source": [
    "#df = pd.read_csv('./data/all_hosp_data.csv')\n",
    "df = dict_hosp_df['MEH']\n",
    "print(df.info())"
   ]
  },
  {
   "cell_type": "code",
   "execution_count": 8,
   "metadata": {
    "tags": []
   },
   "outputs": [
    {
     "output_type": "stream",
     "name": "stdout",
     "text": [
      "(98296, 45) (32766, 45)\n",
      "<class 'pandas.core.frame.DataFrame'>\n",
      "Int64Index: 98296 entries, 2016063345 to 2019131221\n",
      "Data columns (total 45 columns):\n",
      " #   Column              Non-Null Count  Dtype  \n",
      "---  ------              --------------  -----  \n",
      " 0   TOTAL_PAID_AMT      98296 non-null  float64\n",
      " 1   PAYER_CODE_1        98296 non-null  object \n",
      " 2   PAYER_1_PAID_AMT    98296 non-null  float64\n",
      " 3   PAYER_CODE_2        98296 non-null  object \n",
      " 4   PAYER_2_PAID_AMT    98296 non-null  float64\n",
      " 5   PAYER_CODE_3        98296 non-null  object \n",
      " 6   PAYER_3_PAID_AMT    98296 non-null  float64\n",
      " 7   PAYER_CODE_4        98296 non-null  object \n",
      " 8   PAYER_4_PAID_AMT    98296 non-null  float64\n",
      " 9   PAYER_CODE_5        98296 non-null  object \n",
      " 10  PAYER_5_PAID_AMT    98296 non-null  float64\n",
      " 11  BED_TYPE            98296 non-null  object \n",
      " 12  REFERRAL_TYPE       98296 non-null  object \n",
      " 13  TREATMENT_CATEGORY  98296 non-null  object \n",
      " 14  ADMISSION_TYPE      98296 non-null  object \n",
      " 15  DISCHARGE_TYPE      98296 non-null  int64  \n",
      " 16  LOS_DAYS            98296 non-null  int64  \n",
      " 17  DOCTOR_CODE         98296 non-null  object \n",
      " 18  SPECIALTY_CODE      98296 non-null  object \n",
      " 19  SPECIALTY_GRP       98296 non-null  object \n",
      " 20  TOSP_COUNT          98296 non-null  int64  \n",
      " 21  TOSP_CODE1          98296 non-null  object \n",
      " 22  TOSP_CODE2          98296 non-null  object \n",
      " 23  TOSP_CODE3          98296 non-null  object \n",
      " 24  TOSP_CODE4          98296 non-null  object \n",
      " 25  NATIONALITY         98296 non-null  object \n",
      " 26  NONRESID_FLAG       98296 non-null  int32  \n",
      " 27  GENDER              98296 non-null  object \n",
      " 28  DECEASED_FLAG       98296 non-null  int32  \n",
      " 29  MARITAL_STATUS      98296 non-null  object \n",
      " 30  RELIGION            98296 non-null  object \n",
      " 31  VIP_FLAG            98296 non-null  int32  \n",
      " 32  RACE                98296 non-null  object \n",
      " 33  PACKAGE_PRICE       98296 non-null  float64\n",
      " 34  PACKAGE_EXCL        98296 non-null  float64\n",
      " 35  PACKAGE_ADJ         98296 non-null  float64\n",
      " 36  PACKAGE_CODE1       98296 non-null  object \n",
      " 37  PACKAGE_CODE2       98296 non-null  object \n",
      " 38  ICD_CODE1           98296 non-null  object \n",
      " 39  ICD_CODE2           98296 non-null  object \n",
      " 40  ICD_CODE3           98296 non-null  object \n",
      " 41  PROF_FEE            98296 non-null  float64\n",
      " 42  TOTAL_FEES          98296 non-null  float64\n",
      " 43  WRITE_OFF           98296 non-null  float64\n",
      " 44  Admission_Age       98296 non-null  int64  \n",
      "dtypes: float64(12), int32(3), int64(4), object(26)\n",
      "memory usage: 33.4+ MB\n",
      "None\n",
      "<class 'pandas.core.frame.DataFrame'>\n",
      "Int64Index: 32766 entries, 2016078293 to 2019131213\n",
      "Data columns (total 45 columns):\n",
      " #   Column              Non-Null Count  Dtype  \n",
      "---  ------              --------------  -----  \n",
      " 0   TOTAL_PAID_AMT      32766 non-null  float64\n",
      " 1   PAYER_CODE_1        32766 non-null  object \n",
      " 2   PAYER_1_PAID_AMT    32766 non-null  float64\n",
      " 3   PAYER_CODE_2        32766 non-null  object \n",
      " 4   PAYER_2_PAID_AMT    32766 non-null  float64\n",
      " 5   PAYER_CODE_3        32766 non-null  object \n",
      " 6   PAYER_3_PAID_AMT    32766 non-null  float64\n",
      " 7   PAYER_CODE_4        32766 non-null  object \n",
      " 8   PAYER_4_PAID_AMT    32766 non-null  float64\n",
      " 9   PAYER_CODE_5        32766 non-null  object \n",
      " 10  PAYER_5_PAID_AMT    32766 non-null  float64\n",
      " 11  BED_TYPE            32766 non-null  object \n",
      " 12  REFERRAL_TYPE       32766 non-null  object \n",
      " 13  TREATMENT_CATEGORY  32766 non-null  object \n",
      " 14  ADMISSION_TYPE      32766 non-null  object \n",
      " 15  DISCHARGE_TYPE      32766 non-null  int64  \n",
      " 16  LOS_DAYS            32766 non-null  int64  \n",
      " 17  DOCTOR_CODE         32766 non-null  object \n",
      " 18  SPECIALTY_CODE      32766 non-null  object \n",
      " 19  SPECIALTY_GRP       32766 non-null  object \n",
      " 20  TOSP_COUNT          32766 non-null  int64  \n",
      " 21  TOSP_CODE1          32766 non-null  object \n",
      " 22  TOSP_CODE2          32766 non-null  object \n",
      " 23  TOSP_CODE3          32766 non-null  object \n",
      " 24  TOSP_CODE4          32766 non-null  object \n",
      " 25  NATIONALITY         32766 non-null  object \n",
      " 26  NONRESID_FLAG       32766 non-null  int32  \n",
      " 27  GENDER              32766 non-null  object \n",
      " 28  DECEASED_FLAG       32766 non-null  int32  \n",
      " 29  MARITAL_STATUS      32766 non-null  object \n",
      " 30  RELIGION            32766 non-null  object \n",
      " 31  VIP_FLAG            32766 non-null  int32  \n",
      " 32  RACE                32766 non-null  object \n",
      " 33  PACKAGE_PRICE       32766 non-null  float64\n",
      " 34  PACKAGE_EXCL        32766 non-null  float64\n",
      " 35  PACKAGE_ADJ         32766 non-null  float64\n",
      " 36  PACKAGE_CODE1       32766 non-null  object \n",
      " 37  PACKAGE_CODE2       32766 non-null  object \n",
      " 38  ICD_CODE1           32766 non-null  object \n",
      " 39  ICD_CODE2           32766 non-null  object \n",
      " 40  ICD_CODE3           32766 non-null  object \n",
      " 41  PROF_FEE            32766 non-null  float64\n",
      " 42  TOTAL_FEES          32766 non-null  float64\n",
      " 43  WRITE_OFF           32766 non-null  float64\n",
      " 44  Admission_Age       32766 non-null  int64  \n",
      "dtypes: float64(12), int32(3), int64(4), object(26)\n",
      "memory usage: 11.1+ MB\n",
      "None\n"
     ]
    }
   ],
   "source": [
    "df_train, df_test = dpl.train_test_split(df, random_state=0)\n",
    "print(df_train.shape, df_test.shape)\n",
    "print(df_train.info())\n",
    "print(df_test.info())"
   ]
  },
  {
   "cell_type": "code",
   "execution_count": 9,
   "metadata": {},
   "outputs": [
    {
     "output_type": "execute_result",
     "data": {
      "text/plain": [
       "{'GHL': './Data Exploration/data/GHL_data.pkl',\n",
       " 'MEH': './Data Exploration/data/MEH_data.pkl',\n",
       " 'PEH': './Data Exploration/data/PEH_data.pkl',\n",
       " 'PNH': './Data Exploration/data/PNH_data.pkl'}"
      ]
     },
     "metadata": {},
     "execution_count": 9
    }
   ],
   "source": [
    "dict_hosp_filepaths"
   ]
  },
  {
   "cell_type": "code",
   "execution_count": 10,
   "metadata": {},
   "outputs": [
    {
     "output_type": "execute_result",
     "data": {
      "text/plain": [
       "Index(['TOTAL_PAID_AMT', 'PAYER_CODE_1', 'PAYER_1_PAID_AMT', 'PAYER_CODE_2',\n",
       "       'PAYER_2_PAID_AMT', 'PAYER_CODE_3', 'PAYER_3_PAID_AMT', 'PAYER_CODE_4',\n",
       "       'PAYER_4_PAID_AMT', 'PAYER_CODE_5', 'PAYER_5_PAID_AMT', 'BED_TYPE',\n",
       "       'REFERRAL_TYPE', 'TREATMENT_CATEGORY', 'ADMISSION_TYPE',\n",
       "       'DISCHARGE_TYPE', 'LOS_DAYS', 'DOCTOR_CODE', 'SPECIALTY_CODE',\n",
       "       'SPECIALTY_GRP', 'TOSP_COUNT', 'TOSP_CODE1', 'TOSP_CODE2', 'TOSP_CODE3',\n",
       "       'TOSP_CODE4', 'NATIONALITY', 'NONRESID_FLAG', 'GENDER', 'DECEASED_FLAG',\n",
       "       'MARITAL_STATUS', 'RELIGION', 'VIP_FLAG', 'RACE', 'PACKAGE_PRICE',\n",
       "       'PACKAGE_EXCL', 'PACKAGE_ADJ', 'PACKAGE_CODE1', 'PACKAGE_CODE2',\n",
       "       'ICD_CODE1', 'ICD_CODE2', 'ICD_CODE3', 'PROF_FEE', 'TOTAL_FEES',\n",
       "       'WRITE_OFF', 'Admission_Age'],\n",
       "      dtype='object')"
      ]
     },
     "metadata": {},
     "execution_count": 10
    }
   ],
   "source": [
    "df_temp = pd.read_pickle(dict_hosp_filepaths['MEH'])\n",
    "df_temp.columns"
   ]
  },
  {
   "cell_type": "code",
   "execution_count": 11,
   "metadata": {},
   "outputs": [
    {
     "output_type": "error",
     "ename": "KeyError",
     "evalue": "'bin_WRITE_OFF'",
     "traceback": [
      "\u001b[1;31m---------------------------------------------------------------------------\u001b[0m",
      "\u001b[1;31mKeyError\u001b[0m                                  Traceback (most recent call last)",
      "\u001b[1;32mC:\\ProgramData\\Anaconda3\\envs\\sandbox\\lib\\site-packages\\pandas\\core\\indexes\\base.py\u001b[0m in \u001b[0;36mget_loc\u001b[1;34m(self, key, method, tolerance)\u001b[0m\n\u001b[0;32m   2894\u001b[0m             \u001b[1;32mtry\u001b[0m\u001b[1;33m:\u001b[0m\u001b[1;33m\u001b[0m\u001b[1;33m\u001b[0m\u001b[0m\n\u001b[1;32m-> 2895\u001b[1;33m                 \u001b[1;32mreturn\u001b[0m \u001b[0mself\u001b[0m\u001b[1;33m.\u001b[0m\u001b[0m_engine\u001b[0m\u001b[1;33m.\u001b[0m\u001b[0mget_loc\u001b[0m\u001b[1;33m(\u001b[0m\u001b[0mcasted_key\u001b[0m\u001b[1;33m)\u001b[0m\u001b[1;33m\u001b[0m\u001b[1;33m\u001b[0m\u001b[0m\n\u001b[0m\u001b[0;32m   2896\u001b[0m             \u001b[1;32mexcept\u001b[0m \u001b[0mKeyError\u001b[0m \u001b[1;32mas\u001b[0m \u001b[0merr\u001b[0m\u001b[1;33m:\u001b[0m\u001b[1;33m\u001b[0m\u001b[1;33m\u001b[0m\u001b[0m\n",
      "\u001b[1;32mpandas\\_libs\\index.pyx\u001b[0m in \u001b[0;36mpandas._libs.index.IndexEngine.get_loc\u001b[1;34m()\u001b[0m\n",
      "\u001b[1;32mpandas\\_libs\\index.pyx\u001b[0m in \u001b[0;36mpandas._libs.index.IndexEngine.get_loc\u001b[1;34m()\u001b[0m\n",
      "\u001b[1;32mpandas\\_libs\\hashtable_class_helper.pxi\u001b[0m in \u001b[0;36mpandas._libs.hashtable.PyObjectHashTable.get_item\u001b[1;34m()\u001b[0m\n",
      "\u001b[1;32mpandas\\_libs\\hashtable_class_helper.pxi\u001b[0m in \u001b[0;36mpandas._libs.hashtable.PyObjectHashTable.get_item\u001b[1;34m()\u001b[0m\n",
      "\u001b[1;31mKeyError\u001b[0m: 'bin_WRITE_OFF'",
      "\nThe above exception was the direct cause of the following exception:\n",
      "\u001b[1;31mKeyError\u001b[0m                                  Traceback (most recent call last)",
      "\u001b[1;32m<ipython-input-11-6dfd134ff037>\u001b[0m in \u001b[0;36m<module>\u001b[1;34m\u001b[0m\n\u001b[1;32m----> 1\u001b[1;33m \u001b[0mdf_temp\u001b[0m\u001b[1;33m[\u001b[0m\u001b[1;34m'bin_WRITE_OFF'\u001b[0m\u001b[1;33m]\u001b[0m\u001b[1;33m.\u001b[0m\u001b[0munique\u001b[0m\u001b[1;33m(\u001b[0m\u001b[1;33m)\u001b[0m\u001b[1;33m\u001b[0m\u001b[1;33m\u001b[0m\u001b[0m\n\u001b[0m",
      "\u001b[1;32mC:\\ProgramData\\Anaconda3\\envs\\sandbox\\lib\\site-packages\\pandas\\core\\frame.py\u001b[0m in \u001b[0;36m__getitem__\u001b[1;34m(self, key)\u001b[0m\n\u001b[0;32m   2900\u001b[0m             \u001b[1;32mif\u001b[0m \u001b[0mself\u001b[0m\u001b[1;33m.\u001b[0m\u001b[0mcolumns\u001b[0m\u001b[1;33m.\u001b[0m\u001b[0mnlevels\u001b[0m \u001b[1;33m>\u001b[0m \u001b[1;36m1\u001b[0m\u001b[1;33m:\u001b[0m\u001b[1;33m\u001b[0m\u001b[1;33m\u001b[0m\u001b[0m\n\u001b[0;32m   2901\u001b[0m                 \u001b[1;32mreturn\u001b[0m \u001b[0mself\u001b[0m\u001b[1;33m.\u001b[0m\u001b[0m_getitem_multilevel\u001b[0m\u001b[1;33m(\u001b[0m\u001b[0mkey\u001b[0m\u001b[1;33m)\u001b[0m\u001b[1;33m\u001b[0m\u001b[1;33m\u001b[0m\u001b[0m\n\u001b[1;32m-> 2902\u001b[1;33m             \u001b[0mindexer\u001b[0m \u001b[1;33m=\u001b[0m \u001b[0mself\u001b[0m\u001b[1;33m.\u001b[0m\u001b[0mcolumns\u001b[0m\u001b[1;33m.\u001b[0m\u001b[0mget_loc\u001b[0m\u001b[1;33m(\u001b[0m\u001b[0mkey\u001b[0m\u001b[1;33m)\u001b[0m\u001b[1;33m\u001b[0m\u001b[1;33m\u001b[0m\u001b[0m\n\u001b[0m\u001b[0;32m   2903\u001b[0m             \u001b[1;32mif\u001b[0m \u001b[0mis_integer\u001b[0m\u001b[1;33m(\u001b[0m\u001b[0mindexer\u001b[0m\u001b[1;33m)\u001b[0m\u001b[1;33m:\u001b[0m\u001b[1;33m\u001b[0m\u001b[1;33m\u001b[0m\u001b[0m\n\u001b[0;32m   2904\u001b[0m                 \u001b[0mindexer\u001b[0m \u001b[1;33m=\u001b[0m \u001b[1;33m[\u001b[0m\u001b[0mindexer\u001b[0m\u001b[1;33m]\u001b[0m\u001b[1;33m\u001b[0m\u001b[1;33m\u001b[0m\u001b[0m\n",
      "\u001b[1;32mC:\\ProgramData\\Anaconda3\\envs\\sandbox\\lib\\site-packages\\pandas\\core\\indexes\\base.py\u001b[0m in \u001b[0;36mget_loc\u001b[1;34m(self, key, method, tolerance)\u001b[0m\n\u001b[0;32m   2895\u001b[0m                 \u001b[1;32mreturn\u001b[0m \u001b[0mself\u001b[0m\u001b[1;33m.\u001b[0m\u001b[0m_engine\u001b[0m\u001b[1;33m.\u001b[0m\u001b[0mget_loc\u001b[0m\u001b[1;33m(\u001b[0m\u001b[0mcasted_key\u001b[0m\u001b[1;33m)\u001b[0m\u001b[1;33m\u001b[0m\u001b[1;33m\u001b[0m\u001b[0m\n\u001b[0;32m   2896\u001b[0m             \u001b[1;32mexcept\u001b[0m \u001b[0mKeyError\u001b[0m \u001b[1;32mas\u001b[0m \u001b[0merr\u001b[0m\u001b[1;33m:\u001b[0m\u001b[1;33m\u001b[0m\u001b[1;33m\u001b[0m\u001b[0m\n\u001b[1;32m-> 2897\u001b[1;33m                 \u001b[1;32mraise\u001b[0m \u001b[0mKeyError\u001b[0m\u001b[1;33m(\u001b[0m\u001b[0mkey\u001b[0m\u001b[1;33m)\u001b[0m \u001b[1;32mfrom\u001b[0m \u001b[0merr\u001b[0m\u001b[1;33m\u001b[0m\u001b[1;33m\u001b[0m\u001b[0m\n\u001b[0m\u001b[0;32m   2898\u001b[0m \u001b[1;33m\u001b[0m\u001b[0m\n\u001b[0;32m   2899\u001b[0m         \u001b[1;32mif\u001b[0m \u001b[0mtolerance\u001b[0m \u001b[1;32mis\u001b[0m \u001b[1;32mnot\u001b[0m \u001b[1;32mNone\u001b[0m\u001b[1;33m:\u001b[0m\u001b[1;33m\u001b[0m\u001b[1;33m\u001b[0m\u001b[0m\n",
      "\u001b[1;31mKeyError\u001b[0m: 'bin_WRITE_OFF'"
     ]
    }
   ],
   "source": [
    "df_temp['bin_WRITE_OFF'].unique()"
   ]
  },
  {
   "cell_type": "code",
   "execution_count": 12,
   "metadata": {
    "tags": []
   },
   "outputs": [
    {
     "output_type": "stream",
     "name": "stdout",
     "text": [
      "0 10000\n",
      "10000 20000\n",
      "20000 30000\n",
      "30000 40000\n",
      "40000 50000\n",
      "50000 60000\n",
      "60000 70000\n",
      "70000 80000\n",
      "80000 90000\n",
      "90000 100000\n",
      "['./Data Exploration/data/MEH_data_X_train_0.pkl', './Data Exploration/data/MEH_data_X_train_1.pkl', './Data Exploration/data/MEH_data_X_train_2.pkl', './Data Exploration/data/MEH_data_X_train_3.pkl', './Data Exploration/data/MEH_data_X_train_4.pkl', './Data Exploration/data/MEH_data_X_train_5.pkl', './Data Exploration/data/MEH_data_X_train_6.pkl', './Data Exploration/data/MEH_data_X_train_7.pkl', './Data Exploration/data/MEH_data_X_train_8.pkl', './Data Exploration/data/MEH_data_X_train_9.pkl']\n",
      "./Data Exploration/data/MEH_data_y_train.pkl\n"
     ]
    }
   ],
   "source": [
    "X_train_file_paths, y_train_file_path = dpl.transform_train_test_data(dict_hosp_filepaths['MEH'])\n",
    "print(X_train_file_paths)\n",
    "print(y_train_file_path)"
   ]
  },
  {
   "cell_type": "code",
   "execution_count": 4,
   "metadata": {},
   "outputs": [],
   "source": [
    "X_train_file_path = './Data Exploration/data/MEH_data_X_train_0.pkl'\n",
    "X_train_file_paths = [\n",
    "    './Data Exploration/data/MEH_data_X_train_0.pkl',\n",
    "    './Data Exploration/data/MEH_data_X_train_1.pkl',\n",
    "    './Data Exploration/data/MEH_data_X_train_2.pkl',\n",
    "    './Data Exploration/data/MEH_data_X_train_3.pkl',\n",
    "    './Data Exploration/data/MEH_data_X_train_4.pkl',\n",
    "    './Data Exploration/data/MEH_data_X_train_5.pkl',\n",
    "    './Data Exploration/data/MEH_data_X_train_6.pkl',\n",
    "    './Data Exploration/data/MEH_data_X_train_7.pkl',\n",
    "    './Data Exploration/data/MEH_data_X_train_8.pkl',\n",
    "    './Data Exploration/data/MEH_data_X_train_9.pkl']\n",
    "y_train_file_path = './Data Exploration/data/MEH_data_y_train.pkl'"
   ]
  },
  {
   "cell_type": "code",
   "execution_count": null,
   "metadata": {
    "tags": []
   },
   "outputs": [],
   "source": [
    "bin_thresh = [0, 100, 500, 1000, 5000, 10000]\n",
    "df_temp = dpl.bin_column(df, bin_thresh=bin_thresh)\n",
    "print(df_temp[f'bin_{dpl.target_col}'].value_counts())\n",
    "\n",
    "bin_thresh = [0, 100, 1000, 10000]\n",
    "df_temp = dpl.bin_column(df, bin_thresh=bin_thresh)\n",
    "print(df_temp[f'bin_{dpl.target_col}'].value_counts())\n",
    "\n",
    "bin_thresh = [0, 100, 1000]\n",
    "df_temp = dpl.bin_column(df, bin_thresh=bin_thresh)\n",
    "print(df_temp[f'bin_{dpl.target_col}'].value_counts())\n",
    "\n",
    "bin_thresh = [0]\n",
    "df_temp = dpl.bin_column(df, bin_thresh=bin_thresh)\n",
    "print(df_temp[f'bin_{dpl.target_col}'].value_counts())"
   ]
  },
  {
   "cell_type": "code",
   "execution_count": null,
   "metadata": {},
   "outputs": [],
   "source": [
    "df.columns"
   ]
  },
  {
   "cell_type": "code",
   "execution_count": null,
   "metadata": {
    "tags": []
   },
   "outputs": [],
   "source": [
    "print(df[df.select_dtypes(include=[np.number]).columns])"
   ]
  },
  {
   "cell_type": "code",
   "execution_count": 5,
   "metadata": {},
   "outputs": [],
   "source": [
    "from dask import dataframe as dd\n",
    "import dask.array as da\n",
    "#from dask_ml.xgboost import XGBRegressor, XGBClassifier\n",
    "#from dask.distributed import Client\n",
    "#import dask\n",
    "#import xgboost as xgb\n",
    "#import dask_xgboost\n",
    "#import dask_ml.joblib\n",
    "\n",
    "from sklearn.ensemble import RandomForestRegressor\n",
    "#from sklearn.externals import joblib\n",
    "import joblib\n",
    "\n",
    "#import distributed.joblib"
   ]
  },
  {
   "cell_type": "code",
   "execution_count": 6,
   "metadata": {},
   "outputs": [
    {
     "output_type": "execute_result",
     "data": {
      "text/plain": [
       "<Client: 'tcp://127.0.0.1:54790' processes=4 threads=4, memory=68.57 GB>"
      ],
      "text/html": "<table style=\"border: 2px solid white;\">\n<tr>\n<td style=\"vertical-align: top; border: 0px solid white\">\n<h3 style=\"text-align: left;\">Client</h3>\n<ul style=\"text-align: left; list-style: none; margin: 0; padding: 0;\">\n  <li><b>Scheduler: </b>tcp://127.0.0.1:54790</li>\n  <li><b>Dashboard: </b><a href='http://127.0.0.1:8787/status' target='_blank'>http://127.0.0.1:8787/status</a></li>\n</ul>\n</td>\n<td style=\"vertical-align: top; border: 0px solid white\">\n<h3 style=\"text-align: left;\">Cluster</h3>\n<ul style=\"text-align: left; list-style:none; margin: 0; padding: 0;\">\n  <li><b>Workers: </b>4</li>\n  <li><b>Cores: </b>4</li>\n  <li><b>Memory: </b>68.57 GB</li>\n</ul>\n</td>\n</tr>\n</table>"
     },
     "metadata": {},
     "execution_count": 6
    }
   ],
   "source": [
    "cluster = dask.distributed.LocalCluster(n_workers=4, threads_per_worker=1)\n",
    "client = Client(cluster)\n",
    "#client = Client()\n",
    "client"
   ]
  },
  {
   "cell_type": "code",
   "execution_count": 7,
   "metadata": {},
   "outputs": [],
   "source": [
    "df_train_X = pd.read_pickle(X_train_file_paths[0])"
   ]
  },
  {
   "cell_type": "code",
   "execution_count": 8,
   "metadata": {
    "tags": []
   },
   "outputs": [
    {
     "output_type": "stream",
     "name": "stdout",
     "text": [
      "<class 'pandas.core.frame.DataFrame'>\nInt64Index: 98296 entries, 2016063345 to 2019131221\nColumns: 38885 entries, TOTAL_PAID_AMT to ICD_CODE3_Z992\ndtypes: float64(38885)\nmemory usage: 28.5 GB\nNone\n"
     ]
    }
   ],
   "source": [
    "df_train_X = pd.concat([\n",
    "    pd.read_pickle(X_train_file_path)\n",
    "    for X_train_file_path in X_train_file_paths])\n",
    "\n",
    "print(df_train_X.info())"
   ]
  },
  {
   "cell_type": "code",
   "execution_count": 17,
   "metadata": {},
   "outputs": [
    {
     "output_type": "execute_result",
     "data": {
      "text/plain": [
       "Index([], dtype='object')"
      ]
     },
     "metadata": {},
     "execution_count": 17
    }
   ],
   "source": [
    "df_train_X.select_dtypes(exclude='float64').columns"
   ]
  },
  {
   "cell_type": "code",
   "execution_count": 18,
   "metadata": {},
   "outputs": [
    {
     "output_type": "execute_result",
     "data": {
      "text/plain": [
       "Index(['TOTAL_PAID_AMT', 'PAYER_1_PAID_AMT', 'PAYER_2_PAID_AMT',\n",
       "       'PAYER_3_PAID_AMT', 'PAYER_4_PAID_AMT', 'PAYER_5_PAID_AMT',\n",
       "       'DISCHARGE_TYPE', 'LOS_DAYS', 'TOSP_COUNT', 'NONRESID_FLAG',\n",
       "       ...\n",
       "       'ICD_CODE3_Z969', 'ICD_CODE3_Z975', 'ICD_CODE3_Z978', 'ICD_CODE3_Z98',\n",
       "       'ICD_CODE3_Z980', 'ICD_CODE3_Z981', 'ICD_CODE3_Z982', 'ICD_CODE3_Z988',\n",
       "       'ICD_CODE3_Z990', 'ICD_CODE3_Z992'],\n",
       "      dtype='object', length=38885)"
      ]
     },
     "metadata": {},
     "execution_count": 18
    }
   ],
   "source": [
    "df_train_X.select_dtypes(exclude='object').columns"
   ]
  },
  {
   "cell_type": "code",
   "execution_count": 9,
   "metadata": {
    "tags": []
   },
   "outputs": [
    {
     "output_type": "stream",
     "name": "stdout",
     "text": [
      "(98296,)\n"
     ]
    }
   ],
   "source": [
    "df_train_y = pd.read_pickle(y_train_file_path)\n",
    "print(df_train_y.shape)"
   ]
  },
  {
   "cell_type": "code",
   "execution_count": 10,
   "metadata": {
    "tags": []
   },
   "outputs": [
    {
     "output_type": "stream",
     "name": "stdout",
     "text": [
      "<class 'dask.dataframe.core.DataFrame'>\n",
      "Columns: 38885 entries, TOTAL_PAID_AMT to ICD_CODE3_Z992\n",
      "dtypes: float64(38885)None\n",
      "98296\n"
     ]
    }
   ],
   "source": [
    "#dd_train_X = dd.from_pandas(df_train_X, npartitions=20000)\n",
    "#dd_train_y = dd.from_pandas(df_train_y, npartitions=20000)\n",
    "#print(dd_train_X.info())\n",
    "#print(len(dd_train_y))"
   ]
  },
  {
   "cell_type": "code",
   "execution_count": 21,
   "metadata": {},
   "outputs": [
    {
     "output_type": "execute_result",
     "data": {
      "text/plain": [
       "Dask Series Structure:\n",
       "npartitions=1\n",
       "ADMISSION_TYPE_DS    bool\n",
       "VIP_FLAG              ...\n",
       "dtype: bool\n",
       "Dask Name: dataframe-any-agg, 58978 tasks"
      ]
     },
     "metadata": {},
     "execution_count": 21
    }
   ],
   "source": [
    "#dd_train_X.isna().any()"
   ]
  },
  {
   "cell_type": "code",
   "execution_count": 11,
   "metadata": {},
   "outputs": [],
   "source": [
    "forest = RandomForestRegressor(random_state=42)"
   ]
  },
  {
   "cell_type": "code",
   "execution_count": 12,
   "metadata": {},
   "outputs": [
    {
     "output_type": "execute_result",
     "data": {
      "text/plain": [
       "RandomForestRegressor(random_state=42)"
      ]
     },
     "metadata": {},
     "execution_count": 12
    }
   ],
   "source": [
    "#with joblib.parallel_backend('dask', scheduler_host=client.scheduler.address):\n",
    "forest.fit(df_train_X, df_train_y)"
   ]
  },
  {
   "cell_type": "code",
   "execution_count": 16,
   "metadata": {},
   "outputs": [
    {
     "output_type": "stream",
     "name": "stdout",
     "text": [
      "38885\n4975\n"
     ]
    }
   ],
   "source": [
    "print(len(forest.feature_importances_))\n",
    "print(sum(forest.feature_importances_ > 0))"
   ]
  },
  {
   "cell_type": "code",
   "execution_count": 19,
   "metadata": {},
   "outputs": [
    {
     "output_type": "stream",
     "name": "stdout",
     "text": [
      "(98296, 4975)\n"
     ]
    }
   ],
   "source": [
    "df_train_new_X = df_train_X.loc[:,forest.feature_importances_ > 0]\n",
    "print(df_train_new_X.shape)"
   ]
  },
  {
   "cell_type": "code",
   "execution_count": null,
   "metadata": {},
   "outputs": [],
   "source": [
    "print(df_train_y.unique())\n",
    "print(df_train_y.dtypes)"
   ]
  }
 ]
}