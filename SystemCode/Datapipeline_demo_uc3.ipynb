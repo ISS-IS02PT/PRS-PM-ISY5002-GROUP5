{
 "cells": [
  {
   "cell_type": "code",
   "execution_count": 1,
   "metadata": {},
   "outputs": [],
   "source": [
    "%load_ext autoreload\n",
    "%autoreload 2"
   ]
  },
  {
   "cell_type": "code",
   "execution_count": 2,
   "metadata": {},
   "outputs": [],
   "source": [
    "from datapipeline_uc3 import Datapipeline\n",
    "import pandas as pd\n",
    "import numpy as np\n",
    "import pickle\n",
    "import matplotlib.pyplot as plt\n",
    "import os"
   ]
  },
  {
   "cell_type": "code",
   "execution_count": 3,
   "metadata": {},
   "outputs": [],
   "source": [
    "dpl = Datapipeline()"
   ]
  },
  {
   "cell_type": "code",
   "execution_count": 4,
   "metadata": {},
   "outputs": [],
   "source": [
    "dict_hosp_filepaths = {\n",
    "    'GHL': './Data Exploration/data/uc3/GHL_data_uc3.pkl',\n",
    "    'MEH': './Data Exploration/data/uc3/MEH_data_uc3.pkl',\n",
    "    'PEH': './Data Exploration/data/uc3/PEH_data_uc3.pkl',\n",
    "    'PNH': './Data Exploration/data/uc3/PNH_data_uc3.pkl'}"
   ]
  },
  {
   "cell_type": "code",
   "execution_count": 5,
   "metadata": {
    "tags": []
   },
   "outputs": [
    {
     "name": "stdout",
     "output_type": "stream",
     "text": [
      "{'GHL': './Data Exploration/data/uc3/GHL_data_uc3.pkl', 'MEH': './Data Exploration/data/uc3/MEH_data_uc3.pkl', 'PNH': './Data Exploration/data/uc3/PNH_data_uc3.pkl', 'PEH': './Data Exploration/data/uc3/PEH_data_uc3.pkl'}\n"
     ]
    }
   ],
   "source": [
    "raw_data_path = './Data Exploration/data/uc3/BillEstimate.csv'\n",
    "dict_hosp_filepaths = dpl.transform_raw_data(raw_data_path)\n",
    "print(dict_hosp_filepaths)"
   ]
  },
  {
   "cell_type": "code",
   "execution_count": 6,
   "metadata": {
    "tags": []
   },
   "outputs": [
    {
     "name": "stdout",
     "output_type": "stream",
     "text": [
      "GHL 18563\n",
      "MEH 21581\n",
      "PNH 18351\n",
      "PEH 4022\n"
     ]
    }
   ],
   "source": [
    "dict_hosp_df = {}\n",
    "for hosp in dict_hosp_filepaths:\n",
    "    dict_hosp_df[hosp] = pd.read_pickle(dict_hosp_filepaths[hosp])\n",
    "    print(hosp, len(dict_hosp_df[hosp]))"
   ]
  },
  {
   "cell_type": "code",
   "execution_count": 7,
   "metadata": {
    "tags": []
   },
   "outputs": [
    {
     "name": "stdout",
     "output_type": "stream",
     "text": [
      "<class 'pandas.core.frame.DataFrame'>\n",
      "Int64Index: 18563 entries, 1018095204 to 1020008820\n",
      "Data columns (total 36 columns):\n",
      " #   Column                     Non-Null Count  Dtype  \n",
      "---  ------                     --------------  -----  \n",
      " 0   ACTUAL_TREATMENT_CATEGORY  18563 non-null  object \n",
      " 1   ACTUAL_LOS                 18563 non-null  int64  \n",
      " 2   ACTUAL_ICU_HDU_LOS         18563 non-null  float64\n",
      " 3   ACTUAL_SURGICAL_CODE_1     18563 non-null  object \n",
      " 4   ACTUAL_SURGICAL_CODE_2     18563 non-null  object \n",
      " 5   ACTUAL_SURGICAL_CODE_3     18563 non-null  object \n",
      " 6   ACTUAL_DIAGNOSIS_CODE      18563 non-null  object \n",
      " 7   ETBS_LOS                   18563 non-null  float64\n",
      " 8   ETBS_ICU_HDU_LOS           18563 non-null  float64\n",
      " 9   ETBS_MOVE_TYPE             18563 non-null  object \n",
      " 10  ETBS_TOSP_1                18563 non-null  object \n",
      " 11  ETBS_TOSP_2                18563 non-null  object \n",
      " 12  ETBS_TOSP_3                18563 non-null  object \n",
      " 13  ETBS_ICD10_1               18563 non-null  object \n",
      " 14  ETBS_ICD10_2               18563 non-null  object \n",
      " 15  ETBS_ICD10_3               18563 non-null  object \n",
      " 16  ADMISSION_TYPE             18563 non-null  object \n",
      " 17  TREATMENT_CATEGORY         18563 non-null  object \n",
      " 18  REFERRAL_TYPE              18563 non-null  object \n",
      " 19  DEPT_OU                    18563 non-null  object \n",
      " 20  ADMITTING_SMC_NUMBER       18563 non-null  object \n",
      " 21  ATTENDING_SMC_NUMBER       18563 non-null  object \n",
      " 22  REFERRAL_SMC_NUMBER        18563 non-null  object \n",
      " 23  ADM_CLASS_DISC             18563 non-null  object \n",
      " 24  GENDER                     18563 non-null  object \n",
      " 25  MARITAL_STATUS             18563 non-null  object \n",
      " 26  RELIGION                   18563 non-null  object \n",
      " 27  NATIONALITY                18563 non-null  object \n",
      " 28  RESID_CTY                  18563 non-null  object \n",
      " 29  OCCUPATION                 18563 non-null  object \n",
      " 30  RESID_GEOAREA              18563 non-null  object \n",
      " 31  NONRESID_FLAG              18563 non-null  object \n",
      " 32  IDENT_TYPE                 18563 non-null  object \n",
      " 33  CONT_RELATION              18563 non-null  object \n",
      " 34  TOTAL_HOSP                 18563 non-null  float64\n",
      " 35  Admission_Age              18563 non-null  float64\n",
      "dtypes: float64(5), int64(1), object(30)\n",
      "memory usage: 5.2+ MB\n",
      "None\n",
      "<class 'pandas.core.frame.DataFrame'>\n",
      "Int64Index: 21581 entries, 2018115219 to 2020009217\n",
      "Data columns (total 36 columns):\n",
      " #   Column                     Non-Null Count  Dtype  \n",
      "---  ------                     --------------  -----  \n",
      " 0   ACTUAL_TREATMENT_CATEGORY  21581 non-null  object \n",
      " 1   ACTUAL_LOS                 21581 non-null  int64  \n",
      " 2   ACTUAL_ICU_HDU_LOS         21581 non-null  float64\n",
      " 3   ACTUAL_SURGICAL_CODE_1     21581 non-null  object \n",
      " 4   ACTUAL_SURGICAL_CODE_2     21581 non-null  object \n",
      " 5   ACTUAL_SURGICAL_CODE_3     21581 non-null  object \n",
      " 6   ACTUAL_DIAGNOSIS_CODE      21581 non-null  object \n",
      " 7   ETBS_LOS                   21581 non-null  float64\n",
      " 8   ETBS_ICU_HDU_LOS           21581 non-null  float64\n",
      " 9   ETBS_MOVE_TYPE             21581 non-null  object \n",
      " 10  ETBS_TOSP_1                21581 non-null  object \n",
      " 11  ETBS_TOSP_2                21581 non-null  object \n",
      " 12  ETBS_TOSP_3                21581 non-null  object \n",
      " 13  ETBS_ICD10_1               21581 non-null  object \n",
      " 14  ETBS_ICD10_2               21581 non-null  object \n",
      " 15  ETBS_ICD10_3               21581 non-null  object \n",
      " 16  ADMISSION_TYPE             21581 non-null  object \n",
      " 17  TREATMENT_CATEGORY         21581 non-null  object \n",
      " 18  REFERRAL_TYPE              21581 non-null  object \n",
      " 19  DEPT_OU                    21581 non-null  object \n",
      " 20  ADMITTING_SMC_NUMBER       21581 non-null  object \n",
      " 21  ATTENDING_SMC_NUMBER       21581 non-null  object \n",
      " 22  REFERRAL_SMC_NUMBER        21581 non-null  object \n",
      " 23  ADM_CLASS_DISC             21581 non-null  object \n",
      " 24  GENDER                     21581 non-null  object \n",
      " 25  MARITAL_STATUS             21581 non-null  object \n",
      " 26  RELIGION                   21581 non-null  object \n",
      " 27  NATIONALITY                21581 non-null  object \n",
      " 28  RESID_CTY                  21581 non-null  object \n",
      " 29  OCCUPATION                 21581 non-null  object \n",
      " 30  RESID_GEOAREA              21581 non-null  object \n",
      " 31  NONRESID_FLAG              21581 non-null  object \n",
      " 32  IDENT_TYPE                 21581 non-null  object \n",
      " 33  CONT_RELATION              21581 non-null  object \n",
      " 34  TOTAL_HOSP                 21581 non-null  float64\n",
      " 35  Admission_Age              21581 non-null  float64\n",
      "dtypes: float64(5), int64(1), object(30)\n",
      "memory usage: 6.1+ MB\n",
      "None\n",
      "<class 'pandas.core.frame.DataFrame'>\n",
      "Int64Index: 18351 entries, 4018092636 to 4020005320\n",
      "Data columns (total 36 columns):\n",
      " #   Column                     Non-Null Count  Dtype  \n",
      "---  ------                     --------------  -----  \n",
      " 0   ACTUAL_TREATMENT_CATEGORY  18351 non-null  object \n",
      " 1   ACTUAL_LOS                 18351 non-null  int64  \n",
      " 2   ACTUAL_ICU_HDU_LOS         18351 non-null  float64\n",
      " 3   ACTUAL_SURGICAL_CODE_1     18351 non-null  object \n",
      " 4   ACTUAL_SURGICAL_CODE_2     18351 non-null  object \n",
      " 5   ACTUAL_SURGICAL_CODE_3     18351 non-null  object \n",
      " 6   ACTUAL_DIAGNOSIS_CODE      18351 non-null  object \n",
      " 7   ETBS_LOS                   18351 non-null  float64\n",
      " 8   ETBS_ICU_HDU_LOS           18351 non-null  float64\n",
      " 9   ETBS_MOVE_TYPE             18351 non-null  object \n",
      " 10  ETBS_TOSP_1                18351 non-null  object \n",
      " 11  ETBS_TOSP_2                18351 non-null  object \n",
      " 12  ETBS_TOSP_3                18351 non-null  object \n",
      " 13  ETBS_ICD10_1               18351 non-null  object \n",
      " 14  ETBS_ICD10_2               18351 non-null  object \n",
      " 15  ETBS_ICD10_3               18351 non-null  object \n",
      " 16  ADMISSION_TYPE             18351 non-null  object \n",
      " 17  TREATMENT_CATEGORY         18351 non-null  object \n",
      " 18  REFERRAL_TYPE              18351 non-null  object \n",
      " 19  DEPT_OU                    18351 non-null  object \n",
      " 20  ADMITTING_SMC_NUMBER       18351 non-null  object \n",
      " 21  ATTENDING_SMC_NUMBER       18351 non-null  object \n",
      " 22  REFERRAL_SMC_NUMBER        18351 non-null  object \n",
      " 23  ADM_CLASS_DISC             18351 non-null  object \n",
      " 24  GENDER                     18351 non-null  object \n",
      " 25  MARITAL_STATUS             18351 non-null  object \n",
      " 26  RELIGION                   18351 non-null  object \n",
      " 27  NATIONALITY                18351 non-null  object \n",
      " 28  RESID_CTY                  18351 non-null  object \n",
      " 29  OCCUPATION                 18351 non-null  object \n",
      " 30  RESID_GEOAREA              18351 non-null  object \n",
      " 31  NONRESID_FLAG              18351 non-null  object \n",
      " 32  IDENT_TYPE                 18351 non-null  object \n",
      " 33  CONT_RELATION              18351 non-null  object \n",
      " 34  TOTAL_HOSP                 18351 non-null  float64\n",
      " 35  Admission_Age              18351 non-null  float64\n",
      "dtypes: float64(5), int64(1), object(30)\n",
      "memory usage: 5.2+ MB\n",
      "None\n",
      "<class 'pandas.core.frame.DataFrame'>\n",
      "Int64Index: 4022 entries, 3018048357 to 3020004458\n",
      "Data columns (total 36 columns):\n",
      " #   Column                     Non-Null Count  Dtype  \n",
      "---  ------                     --------------  -----  \n",
      " 0   ACTUAL_TREATMENT_CATEGORY  4022 non-null   object \n",
      " 1   ACTUAL_LOS                 4022 non-null   int64  \n",
      " 2   ACTUAL_ICU_HDU_LOS         4022 non-null   float64\n",
      " 3   ACTUAL_SURGICAL_CODE_1     4022 non-null   object \n",
      " 4   ACTUAL_SURGICAL_CODE_2     4022 non-null   object \n",
      " 5   ACTUAL_SURGICAL_CODE_3     4022 non-null   object \n",
      " 6   ACTUAL_DIAGNOSIS_CODE      4022 non-null   object \n",
      " 7   ETBS_LOS                   4022 non-null   float64\n",
      " 8   ETBS_ICU_HDU_LOS           4022 non-null   float64\n",
      " 9   ETBS_MOVE_TYPE             4022 non-null   object \n",
      " 10  ETBS_TOSP_1                4022 non-null   object \n",
      " 11  ETBS_TOSP_2                4022 non-null   object \n",
      " 12  ETBS_TOSP_3                4022 non-null   object \n",
      " 13  ETBS_ICD10_1               4022 non-null   object \n",
      " 14  ETBS_ICD10_2               4022 non-null   object \n",
      " 15  ETBS_ICD10_3               4022 non-null   object \n",
      " 16  ADMISSION_TYPE             4022 non-null   object \n",
      " 17  TREATMENT_CATEGORY         4022 non-null   object \n",
      " 18  REFERRAL_TYPE              4022 non-null   object \n",
      " 19  DEPT_OU                    4022 non-null   object \n",
      " 20  ADMITTING_SMC_NUMBER       4022 non-null   object \n",
      " 21  ATTENDING_SMC_NUMBER       4022 non-null   object \n",
      " 22  REFERRAL_SMC_NUMBER        4022 non-null   object \n",
      " 23  ADM_CLASS_DISC             4022 non-null   object \n",
      " 24  GENDER                     4022 non-null   object \n",
      " 25  MARITAL_STATUS             4022 non-null   object \n",
      " 26  RELIGION                   4022 non-null   object \n",
      " 27  NATIONALITY                4022 non-null   object \n",
      " 28  RESID_CTY                  4022 non-null   object \n",
      " 29  OCCUPATION                 4022 non-null   object \n",
      " 30  RESID_GEOAREA              4022 non-null   object \n",
      " 31  NONRESID_FLAG              4022 non-null   object \n",
      " 32  IDENT_TYPE                 4022 non-null   object \n",
      " 33  CONT_RELATION              4022 non-null   object \n",
      " 34  TOTAL_HOSP                 4022 non-null   float64\n",
      " 35  Admission_Age              4022 non-null   float64\n",
      "dtypes: float64(5), int64(1), object(30)\n",
      "memory usage: 1.1+ MB\n",
      "None\n"
     ]
    }
   ],
   "source": [
    "for hosp in dict_hosp_df:\n",
    "    df = dict_hosp_df[hosp]\n",
    "    print(df.info())"
   ]
  },
  {
   "cell_type": "code",
   "execution_count": 8,
   "metadata": {},
   "outputs": [],
   "source": [
    "all_hosp_file_path = './Data Exploration/data/uc3/all_hosp_data_uc3.pkl'"
   ]
  },
  {
   "cell_type": "code",
   "execution_count": 9,
   "metadata": {
    "tags": []
   },
   "outputs": [
    {
     "name": "stdout",
     "output_type": "stream",
     "text": [
      "(46888, 37) (15629, 37)\n",
      "<class 'pandas.core.frame.DataFrame'>\n",
      "Int64Index: 46888 entries, 1018095204 to 4020005320\n",
      "Data columns (total 37 columns):\n",
      " #   Column                     Non-Null Count  Dtype  \n",
      "---  ------                     --------------  -----  \n",
      " 0   ACTUAL_TREATMENT_CATEGORY  46888 non-null  object \n",
      " 1   ACTUAL_CASE_INSTITUTION    46888 non-null  object \n",
      " 2   ACTUAL_LOS                 46888 non-null  int64  \n",
      " 3   ACTUAL_ICU_HDU_LOS         46888 non-null  float64\n",
      " 4   ACTUAL_SURGICAL_CODE_1     46888 non-null  object \n",
      " 5   ACTUAL_SURGICAL_CODE_2     46888 non-null  object \n",
      " 6   ACTUAL_SURGICAL_CODE_3     46888 non-null  object \n",
      " 7   ACTUAL_DIAGNOSIS_CODE      46888 non-null  object \n",
      " 8   ETBS_LOS                   46888 non-null  float64\n",
      " 9   ETBS_ICU_HDU_LOS           46888 non-null  float64\n",
      " 10  ETBS_MOVE_TYPE             46888 non-null  object \n",
      " 11  ETBS_TOSP_1                46888 non-null  object \n",
      " 12  ETBS_TOSP_2                46888 non-null  object \n",
      " 13  ETBS_TOSP_3                46888 non-null  object \n",
      " 14  ETBS_ICD10_1               46888 non-null  object \n",
      " 15  ETBS_ICD10_2               46888 non-null  object \n",
      " 16  ETBS_ICD10_3               46888 non-null  object \n",
      " 17  ADMISSION_TYPE             46888 non-null  object \n",
      " 18  TREATMENT_CATEGORY         46888 non-null  object \n",
      " 19  REFERRAL_TYPE              46888 non-null  object \n",
      " 20  DEPT_OU                    46888 non-null  object \n",
      " 21  ADMITTING_SMC_NUMBER       46888 non-null  object \n",
      " 22  ATTENDING_SMC_NUMBER       46888 non-null  object \n",
      " 23  REFERRAL_SMC_NUMBER        46888 non-null  object \n",
      " 24  ADM_CLASS_DISC             46888 non-null  object \n",
      " 25  GENDER                     46888 non-null  object \n",
      " 26  MARITAL_STATUS             46888 non-null  object \n",
      " 27  RELIGION                   46888 non-null  object \n",
      " 28  NATIONALITY                46888 non-null  object \n",
      " 29  RESID_CTY                  46888 non-null  object \n",
      " 30  OCCUPATION                 46888 non-null  object \n",
      " 31  RESID_GEOAREA              46888 non-null  object \n",
      " 32  NONRESID_FLAG              46888 non-null  object \n",
      " 33  IDENT_TYPE                 46888 non-null  object \n",
      " 34  CONT_RELATION              46888 non-null  object \n",
      " 35  TOTAL_HOSP                 46888 non-null  float64\n",
      " 36  Admission_Age              46888 non-null  float64\n",
      "dtypes: float64(5), int64(1), object(31)\n",
      "memory usage: 13.6+ MB\n",
      "None\n",
      "<class 'pandas.core.frame.DataFrame'>\n",
      "Int64Index: 15629 entries, 1018095176 to 4020007099\n",
      "Data columns (total 37 columns):\n",
      " #   Column                     Non-Null Count  Dtype  \n",
      "---  ------                     --------------  -----  \n",
      " 0   ACTUAL_TREATMENT_CATEGORY  15629 non-null  object \n",
      " 1   ACTUAL_CASE_INSTITUTION    15629 non-null  object \n",
      " 2   ACTUAL_LOS                 15629 non-null  int64  \n",
      " 3   ACTUAL_ICU_HDU_LOS         15629 non-null  float64\n",
      " 4   ACTUAL_SURGICAL_CODE_1     15629 non-null  object \n",
      " 5   ACTUAL_SURGICAL_CODE_2     15629 non-null  object \n",
      " 6   ACTUAL_SURGICAL_CODE_3     15629 non-null  object \n",
      " 7   ACTUAL_DIAGNOSIS_CODE      15629 non-null  object \n",
      " 8   ETBS_LOS                   15629 non-null  float64\n",
      " 9   ETBS_ICU_HDU_LOS           15629 non-null  float64\n",
      " 10  ETBS_MOVE_TYPE             15629 non-null  object \n",
      " 11  ETBS_TOSP_1                15629 non-null  object \n",
      " 12  ETBS_TOSP_2                15629 non-null  object \n",
      " 13  ETBS_TOSP_3                15629 non-null  object \n",
      " 14  ETBS_ICD10_1               15629 non-null  object \n",
      " 15  ETBS_ICD10_2               15629 non-null  object \n",
      " 16  ETBS_ICD10_3               15629 non-null  object \n",
      " 17  ADMISSION_TYPE             15629 non-null  object \n",
      " 18  TREATMENT_CATEGORY         15629 non-null  object \n",
      " 19  REFERRAL_TYPE              15629 non-null  object \n",
      " 20  DEPT_OU                    15629 non-null  object \n",
      " 21  ADMITTING_SMC_NUMBER       15629 non-null  object \n",
      " 22  ATTENDING_SMC_NUMBER       15629 non-null  object \n",
      " 23  REFERRAL_SMC_NUMBER        15629 non-null  object \n",
      " 24  ADM_CLASS_DISC             15629 non-null  object \n",
      " 25  GENDER                     15629 non-null  object \n",
      " 26  MARITAL_STATUS             15629 non-null  object \n",
      " 27  RELIGION                   15629 non-null  object \n",
      " 28  NATIONALITY                15629 non-null  object \n",
      " 29  RESID_CTY                  15629 non-null  object \n",
      " 30  OCCUPATION                 15629 non-null  object \n",
      " 31  RESID_GEOAREA              15629 non-null  object \n",
      " 32  NONRESID_FLAG              15629 non-null  object \n",
      " 33  IDENT_TYPE                 15629 non-null  object \n",
      " 34  CONT_RELATION              15629 non-null  object \n",
      " 35  TOTAL_HOSP                 15629 non-null  float64\n",
      " 36  Admission_Age              15629 non-null  float64\n",
      "dtypes: float64(5), int64(1), object(31)\n",
      "memory usage: 4.5+ MB\n",
      "None\n"
     ]
    }
   ],
   "source": [
    "df_all_hosp = pd.read_pickle(all_hosp_file_path)\n",
    "df_train, df_test = dpl.train_test_split(df_all_hosp, random_state=0)\n",
    "print(df_train.shape, df_test.shape)\n",
    "print(df_train.info())\n",
    "print(df_test.info())"
   ]
  },
  {
   "cell_type": "code",
   "execution_count": 10,
   "metadata": {},
   "outputs": [
    {
     "data": {
      "text/plain": [
       "{'GHL': './Data Exploration/data/uc3/GHL_data_uc3.pkl',\n",
       " 'MEH': './Data Exploration/data/uc3/MEH_data_uc3.pkl',\n",
       " 'PNH': './Data Exploration/data/uc3/PNH_data_uc3.pkl',\n",
       " 'PEH': './Data Exploration/data/uc3/PEH_data_uc3.pkl'}"
      ]
     },
     "execution_count": 10,
     "metadata": {},
     "output_type": "execute_result"
    }
   ],
   "source": [
    "dict_hosp_filepaths"
   ]
  },
  {
   "cell_type": "code",
   "execution_count": 11,
   "metadata": {},
   "outputs": [
    {
     "data": {
      "text/plain": [
       "Index(['ACTUAL_TREATMENT_CATEGORY', 'ACTUAL_LOS', 'ACTUAL_ICU_HDU_LOS',\n",
       "       'ACTUAL_SURGICAL_CODE_1', 'ACTUAL_SURGICAL_CODE_2',\n",
       "       'ACTUAL_SURGICAL_CODE_3', 'ACTUAL_DIAGNOSIS_CODE', 'ETBS_LOS',\n",
       "       'ETBS_ICU_HDU_LOS', 'ETBS_MOVE_TYPE', 'ETBS_TOSP_1', 'ETBS_TOSP_2',\n",
       "       'ETBS_TOSP_3', 'ETBS_ICD10_1', 'ETBS_ICD10_2', 'ETBS_ICD10_3',\n",
       "       'ADMISSION_TYPE', 'TREATMENT_CATEGORY', 'REFERRAL_TYPE', 'DEPT_OU',\n",
       "       'ADMITTING_SMC_NUMBER', 'ATTENDING_SMC_NUMBER', 'REFERRAL_SMC_NUMBER',\n",
       "       'ADM_CLASS_DISC', 'GENDER', 'MARITAL_STATUS', 'RELIGION', 'NATIONALITY',\n",
       "       'RESID_CTY', 'OCCUPATION', 'RESID_GEOAREA', 'NONRESID_FLAG',\n",
       "       'IDENT_TYPE', 'CONT_RELATION', 'TOTAL_HOSP', 'Admission_Age'],\n",
       "      dtype='object')"
      ]
     },
     "execution_count": 11,
     "metadata": {},
     "output_type": "execute_result"
    }
   ],
   "source": [
    "df_temp = pd.read_pickle(dict_hosp_filepaths['MEH'])\n",
    "df_temp.columns"
   ]
  },
  {
   "cell_type": "code",
   "execution_count": 12,
   "metadata": {},
   "outputs": [],
   "source": [
    "X_train_file_paths = ['./Data Exploration/data/uc3/all_hosp_data_uc3_X_train_0_uc3.pkl',\n",
    "                      './Data Exploration/data/uc3/all_hosp_data_uc3_X_train_1_uc3.pkl',\n",
    "                      './Data Exploration/data/uc3/all_hosp_data_uc3_X_train_2_uc3.pkl',\n",
    "                      './Data Exploration/data/uc3/all_hosp_data_uc3_X_train_3_uc3.pkl',\n",
    "                      './Data Exploration/data/uc3/all_hosp_data_uc3_X_train_4_uc3.pkl']\n",
    "y_train_file_path = './Data Exploration/data/uc3/all_hosp_data_uc3_y_train_uc3.pkl'\n",
    "X_test_file_paths = ['./Data Exploration/data/uc3/all_hosp_data_uc3_X_test_0_uc3.pkl',\n",
    "                     './Data Exploration/data/uc3/all_hosp_data_uc3_X_test_1_uc3.pkl']\n",
    "y_test_file_path = './Data Exploration/data/uc3/all_hosp_data_uc3_y_test_uc3.pkl'"
   ]
  },
  {
   "cell_type": "code",
   "execution_count": 15,
   "metadata": {
    "tags": []
   },
   "outputs": [
    {
     "name": "stdout",
     "output_type": "stream",
     "text": [
      "Processing train X rows: 0 ~ 10000\n",
      "Processing train X rows: 10000 ~ 20000\n",
      "Processing train X rows: 20000 ~ 30000\n",
      "Processing train X rows: 30000 ~ 40000\n",
      "Processing train X rows: 40000 ~ 50000\n",
      "Processing test X rows: 0 ~ 10000\n",
      "Processing test X rows: 10000 ~ 20000\n",
      "['./Data Exploration/data/uc3/all_hosp_data_uc3_X_train_0_uc3.pkl', './Data Exploration/data/uc3/all_hosp_data_uc3_X_train_1_uc3.pkl', './Data Exploration/data/uc3/all_hosp_data_uc3_X_train_2_uc3.pkl', './Data Exploration/data/uc3/all_hosp_data_uc3_X_train_3_uc3.pkl', './Data Exploration/data/uc3/all_hosp_data_uc3_X_train_4_uc3.pkl']\n",
      "./Data Exploration/data/uc3/all_hosp_data_uc3_y_train_uc3.pkl\n",
      "['./Data Exploration/data/uc3/all_hosp_data_uc3_X_test_0_uc3.pkl', './Data Exploration/data/uc3/all_hosp_data_uc3_X_test_1_uc3.pkl']\n",
      "./Data Exploration/data/uc3/all_hosp_data_uc3_y_test_uc3.pkl\n"
     ]
    }
   ],
   "source": [
    "X_train_file_paths, y_train_file_path, X_test_file_paths, y_test_file_path = dpl.transform_train_test_data(all_hosp_file_path)\n",
    "print(X_train_file_paths)\n",
    "print(y_train_file_path)\n",
    "print(X_test_file_paths)\n",
    "print(y_test_file_path)"
   ]
  },
  {
   "cell_type": "code",
   "execution_count": 16,
   "metadata": {},
   "outputs": [],
   "source": [
    "from sklearn.ensemble import RandomForestRegressor"
   ]
  },
  {
   "cell_type": "code",
   "execution_count": 17,
   "metadata": {
    "tags": []
   },
   "outputs": [
    {
     "name": "stdout",
     "output_type": "stream",
     "text": [
      "<class 'pandas.core.frame.DataFrame'>\n",
      "Int64Index: 46888 entries, 1018095204 to 4020005320\n",
      "Columns: 55397 entries, ACTUAL_LOS to CONT_RELATION_UNCLE\n",
      "dtypes: float64(55397)\n",
      "memory usage: 19.4 GB\n",
      "None\n"
     ]
    }
   ],
   "source": [
    "df_train_X = pd.concat([\n",
    "    pd.read_pickle(X_train_file_path)\n",
    "    for X_train_file_path in X_train_file_paths])\n",
    "save_folder_paths = os.path.dirname(X_train_file_paths[0])\n",
    "print(df_train_X.info())"
   ]
  },
  {
   "cell_type": "code",
   "execution_count": 18,
   "metadata": {},
   "outputs": [
    {
     "name": "stdout",
     "output_type": "stream",
     "text": [
      "Index([], dtype='object')\n"
     ]
    }
   ],
   "source": [
    "print(df_train_X.select_dtypes(exclude='float64').columns)"
   ]
  },
  {
   "cell_type": "code",
   "execution_count": 19,
   "metadata": {},
   "outputs": [
    {
     "name": "stdout",
     "output_type": "stream",
     "text": [
      "Index(['ACTUAL_LOS', 'ACTUAL_ICU_HDU_LOS', 'ETBS_LOS', 'ETBS_ICU_HDU_LOS',\n",
      "       'Admission_Age', 'ACTUAL_CASE_INSTITUTION_GHL',\n",
      "       'ACTUAL_CASE_INSTITUTION_MEH', 'ACTUAL_CASE_INSTITUTION_PEH',\n",
      "       'ACTUAL_CASE_INSTITUTION_PNH', 'ACTUAL_TREATMENT_CATEGORY_2BD',\n",
      "       ...\n",
      "       'CONT_RELATION_MOTHER', 'CONT_RELATION_MOTHER-IN-LAW',\n",
      "       'CONT_RELATION_NEPHEW', 'CONT_RELATION_NIECE', 'CONT_RELATION_OTHERS',\n",
      "       'CONT_RELATION_SISTER', 'CONT_RELATION_SISTER-IN-LAW',\n",
      "       'CONT_RELATION_SON', 'CONT_RELATION_SON-IN-LAW', 'CONT_RELATION_UNCLE'],\n",
      "      dtype='object', length=55397)\n"
     ]
    }
   ],
   "source": [
    "print(df_train_X.select_dtypes(exclude='object').columns)"
   ]
  },
  {
   "cell_type": "code",
   "execution_count": 20,
   "metadata": {
    "tags": []
   },
   "outputs": [
    {
     "name": "stdout",
     "output_type": "stream",
     "text": [
      "(46888,)\n"
     ]
    }
   ],
   "source": [
    "df_train_y = pd.read_pickle(y_train_file_path)\n",
    "print(df_train_y.shape)"
   ]
  },
  {
   "cell_type": "code",
   "execution_count": 21,
   "metadata": {},
   "outputs": [],
   "source": [
    "forest_file_path = './Data Exploration/data/uc3/all_hosp_forest_model_uc3.pkl'"
   ]
  },
  {
   "cell_type": "code",
   "execution_count": null,
   "metadata": {},
   "outputs": [],
   "source": [
    "forest = RandomForestRegressor(random_state=42)\n",
    "forest.fit(df_train_X, df_train_y)\n",
    "pkl_file_path = f'{save_folder_paths}/all_hosp_forest_model_uc3.pkl'\n",
    "with open(pkl_file_path, 'wb') as file:\n",
    "    pickle.dump(forest, file)\n",
    "forest_file_path = pkl_file_path\n",
    "print(forest_file_path)"
   ]
  },
  {
   "cell_type": "code",
   "execution_count": null,
   "metadata": {},
   "outputs": [],
   "source": [
    "forest = pickle.load(open(forest_file_path, 'rb'))"
   ]
  },
  {
   "cell_type": "code",
   "execution_count": null,
   "metadata": {},
   "outputs": [],
   "source": [
    "print(len(forest.feature_importances_))\n",
    "print(sum(forest.feature_importances_ > 0.1))"
   ]
  },
  {
   "cell_type": "code",
   "execution_count": null,
   "metadata": {},
   "outputs": [],
   "source": [
    "importances = forest.feature_importances_\n",
    "indices = np.argsort(importances)\n",
    "plt.title('Feature Importances')\n",
    "plt.barh(range(len(indices)), importances[indices], color='b', align='center')\n",
    "plt.yticks(range(len(indices)), [df_train_X.columns[i] for i in indices])\n",
    "plt.xlabel('Relative Importance')\n",
    "plt.show()"
   ]
  },
  {
   "cell_type": "code",
   "execution_count": null,
   "metadata": {},
   "outputs": [],
   "source": [
    "print(sum(importances > 0.000001))"
   ]
  },
  {
   "cell_type": "code",
   "execution_count": null,
   "metadata": {},
   "outputs": [],
   "source": [
    "forest = pickle.load(open(forest_file_path, 'rb'))\n",
    "df_train_new_X = df_train_X.loc[:, forest.feature_importances_ > 0.000001]\n",
    "pkl_file_path = f'{save_folder_paths}/all_hosp_new_train_X_uc3.pkl'\n",
    "df_train_new_X.to_pickle(pkl_file_path)\n",
    "new_train_X_file_path = pkl_file_path\n",
    "print(df_train_new_X.shape)\n",
    "print(new_train_X_file_path)"
   ]
  },
  {
   "cell_type": "code",
   "execution_count": null,
   "metadata": {},
   "outputs": [],
   "source": [
    "df_test_X = pd.concat([\n",
    "    pd.read_pickle(X_test_file_path)\n",
    "    for X_test_file_path in X_test_file_paths])\n",
    "save_dir = os.path.dirname(X_test_file_paths[0])\n",
    "df_test_new_X = df_test_X.loc[:, forest.feature_importances_ > 0.000001]\n",
    "pkl_file_path = f'{save_dir}/all_hosp_new_test_X_uc3.pkl'\n",
    "df_test_new_X.to_pickle(pkl_file_path)\n",
    "new_test_X_file_path = pkl_file_path\n",
    "print(df_test_new_X.shape)\n",
    "print(new_test_X_file_path)"
   ]
  },
  {
   "cell_type": "code",
   "execution_count": null,
   "metadata": {},
   "outputs": [],
   "source": []
  }
 ],
 "metadata": {
  "kernelspec": {
   "display_name": "Python 3",
   "language": "python",
   "name": "python3"
  },
  "language_info": {
   "codemirror_mode": {
    "name": "ipython",
    "version": 3
   },
   "file_extension": ".py",
   "mimetype": "text/x-python",
   "name": "python",
   "nbconvert_exporter": "python",
   "pygments_lexer": "ipython3",
   "version": "3.7.8"
  }
 },
 "nbformat": 4,
 "nbformat_minor": 2
}
