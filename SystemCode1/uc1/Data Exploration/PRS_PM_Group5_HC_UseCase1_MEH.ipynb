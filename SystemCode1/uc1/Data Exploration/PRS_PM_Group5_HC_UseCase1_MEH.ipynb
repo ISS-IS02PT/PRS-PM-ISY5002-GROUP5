{
 "cells": [
  {
   "cell_type": "markdown",
   "metadata": {},
   "source": [
    "# Parkway Project Use Case 1: Write Off Cases Prediction"
   ]
  },
  {
   "cell_type": "markdown",
   "metadata": {},
   "source": [
    "## DATA PREPARATION"
   ]
  },
  {
   "cell_type": "markdown",
   "metadata": {},
   "source": [
    "### Load Data"
   ]
  },
  {
   "cell_type": "markdown",
   "metadata": {},
   "source": [
    "#### Import packages"
   ]
  },
  {
   "cell_type": "code",
   "execution_count": 21,
   "metadata": {},
   "outputs": [],
   "source": [
    "import pandas as pd\n",
    "import numpy as np\n",
    "import seaborn as sns\n",
    "import matplotlib.pyplot as plt\n",
    "%matplotlib inline\n",
    "pd.set_option('display.max_rows', 500)\n",
    "import warnings\n",
    "warnings.filterwarnings(action='once')\n",
    "import pickle\n",
    "from imblearn.over_sampling import SMOTE"
   ]
  },
  {
   "cell_type": "code",
   "execution_count": 22,
   "metadata": {},
   "outputs": [
    {
     "name": "stdout",
     "output_type": "stream",
     "text": [
      "/home/jupyter/temp25Oct-Mok-cfc9083c3125ca7ce3bf62e5/PRS-PM-ISY5002-GROUP5/SystemCode\n"
     ]
    },
    {
     "name": "stderr",
     "output_type": "stream",
     "text": [
      "/opt/conda/lib/python3.7/site-packages/ipykernel/ipkernel.py:287: DeprecationWarning: `should_run_async` will not call `transform_cell` automatically in the future. Please pass the result to `transformed_cell` argument and any exception that happen during thetransform in `preprocessing_exc_tuple` in IPython 7.17 and above.\n",
      "  and should_run_async(code)\n"
     ]
    }
   ],
   "source": [
    "import os\n",
    "# os.chdir('PRS-PM-ISY5002-GROUP5/SystemCode')\n",
    "print(os.getcwd())"
   ]
  },
  {
   "cell_type": "code",
   "execution_count": 23,
   "metadata": {},
   "outputs": [
    {
     "name": "stdout",
     "output_type": "stream",
     "text": [
      "The autoreload extension is already loaded. To reload it, use:\n",
      "  %reload_ext autoreload\n"
     ]
    }
   ],
   "source": [
    "%load_ext autoreload\n",
    "%autoreload 2\n",
    "from datapipeline import Datapipeline\n",
    "dpl = Datapipeline()"
   ]
  },
  {
   "cell_type": "markdown",
   "metadata": {},
   "source": [
    "#### Read data from file"
   ]
  },
  {
   "cell_type": "code",
   "execution_count": 24,
   "metadata": {},
   "outputs": [],
   "source": [
    "file_dir = './Data Exploration/data/uc1/'\n",
    "dict_X_train_file_paths = {\n",
    "#    'GHL' : [file_dir + 'GHL_new_train_X_uc1.pkl'],\n",
    "    'MEH' : [file_dir + 'MEH_new_train_X_uc1.pkl'],\n",
    "#    'PEH' : [file_dir + 'PEH_new_train_X_uc1.pkl'],\n",
    "#    'PNH' : [file_dir + 'PNH_new_train_X_uc1.pkl']\n",
    "}\n",
    "dict_y_train_file_paths = {\n",
    "#     'GHL' : file_dir + 'GHL_data_y_train.pkl',\n",
    "    'MEH' : file_dir + 'MEH_data_y_train.pkl',\n",
    "#     'PEH' : file_dir + 'PEH_data_y_train.pkl',\n",
    "#     'PNH' : file_dir + 'PNH_data_y_train.pkl'\n",
    "}\n",
    "dict_X_test_file_paths = {\n",
    "#     'GHL' : [file_dir + 'GHL_new_test_X_uc1.pkl'],\n",
    "    'MEH' : [file_dir + 'MEH_new_test_X_uc1.pkl'],\n",
    "#     'PEH' : [file_dir + 'PEH_new_test_X_uc1.pkl'],\n",
    "#     'PNH' : [file_dir + 'PNH_new_test_X_uc1.pkl']\n",
    "}\n",
    "dict_y_test_file_paths = {\n",
    "#     'GHL' : file_dir + 'GHL_data_y_test.pkl',\n",
    "    'MEH' : file_dir + 'MEH_data_y_test.pkl',\n",
    "#     'PEH' : file_dir + 'PEH_data_y_test.pkl',\n",
    "#     'PNH' : file_dir + 'PNH_data_y_test.pkl'\n",
    "}"
   ]
  },
  {
   "cell_type": "code",
   "execution_count": 25,
   "metadata": {},
   "outputs": [
    {
     "name": "stdout",
     "output_type": "stream",
     "text": [
      "X_train MEH (98296, 4975)\n",
      "y_train MEH (98296,)\n",
      "X_test MEH (32766, 4975)\n",
      "y_test MEH (32766,)\n"
     ]
    }
   ],
   "source": [
    "dict_df_X_train = {}\n",
    "dict_df_y_train = {}\n",
    "dict_df_X_test = {}\n",
    "dict_df_y_test = {}\n",
    "\n",
    "for hosp in dict_X_train_file_paths:\n",
    "    dict_df_X_train[hosp] = pd.concat([pd.read_pickle(file_path)\n",
    "                                       for file_path in dict_X_train_file_paths[hosp]])\n",
    "    print(f'X_train {hosp} {dict_df_X_train[hosp].shape}')\n",
    "    \n",
    "    dict_df_y_train[hosp] = pd.read_pickle(dict_y_train_file_paths[hosp])\n",
    "    print(f'y_train {hosp} {dict_df_y_train[hosp].shape}')\n",
    "\n",
    "    dict_df_X_test[hosp] = pd.concat([pd.read_pickle(file_path)\n",
    "                                      for file_path in dict_X_test_file_paths[hosp]])\n",
    "    print(f'X_test {hosp} {dict_df_X_test[hosp].shape}')\n",
    "\n",
    "    dict_df_y_test[hosp] = pd.read_pickle(dict_y_test_file_paths[hosp])\n",
    "    print(f'y_test {hosp} {dict_df_y_test[hosp].shape}')"
   ]
  },
  {
   "cell_type": "code",
   "execution_count": 26,
   "metadata": {},
   "outputs": [
    {
     "name": "stderr",
     "output_type": "stream",
     "text": [
      "/opt/conda/lib/python3.7/site-packages/ipykernel/ipkernel.py:287: DeprecationWarning: `should_run_async` will not call `transform_cell` automatically in the future. Please pass the result to `transformed_cell` argument and any exception that happen during thetransform in `preprocessing_exc_tuple` in IPython 7.17 and above.\n",
      "  and should_run_async(code)\n"
     ]
    }
   ],
   "source": [
    "def convert_y(df):\n",
    "    df1 = dpl.bin_column(df.to_frame(), col='WRITE_OFF', bin_thresh = [500])\n",
    "    df1 = pd.get_dummies(df1['bin_WRITE_OFF'])\n",
    "    df1 = df1.drop(0, axis=1)\n",
    "    df1.columns = ['WRITE_OFF_LABEL']\n",
    "    return df1"
   ]
  },
  {
   "cell_type": "code",
   "execution_count": 27,
   "metadata": {},
   "outputs": [],
   "source": [
    "for hosp in dict_df_y_train:\n",
    "    dict_df_y_train[hosp] = convert_y(dict_df_y_train[hosp])\n",
    "    dict_df_y_test[hosp] = convert_y(dict_df_y_test[hosp])"
   ]
  },
  {
   "cell_type": "markdown",
   "metadata": {},
   "source": [
    "## DECISION TREE"
   ]
  },
  {
   "cell_type": "markdown",
   "metadata": {},
   "source": [
    "### Decision Tree WITHOUT SMOTE"
   ]
  },
  {
   "cell_type": "code",
   "execution_count": 28,
   "metadata": {},
   "outputs": [],
   "source": [
    "from sklearn.tree import DecisionTreeClassifier\n",
    "from sklearn.metrics import classification_report, confusion_matrix  \n",
    "from sklearn.tree import export_graphviz\n",
    "from subprocess import call"
   ]
  },
  {
   "cell_type": "code",
   "execution_count": 29,
   "metadata": {},
   "outputs": [],
   "source": [
    "criterion = 'entropy'\n",
    "rand_seed = 0"
   ]
  },
  {
   "cell_type": "code",
   "execution_count": 30,
   "metadata": {},
   "outputs": [
    {
     "name": "stdout",
     "output_type": "stream",
     "text": [
      "DecisionTreeClassifier(criterion='entropy', random_state=0)\n",
      "Accuracy on MEH training set without SMOTE decision tree: 1.0\n",
      "Accuracy on MEH test set without SMOTE decision tree: 0.9973753280839895\n"
     ]
    },
    {
     "name": "stderr",
     "output_type": "stream",
     "text": [
      "/opt/conda/lib/python3.7/site-packages/ipykernel_launcher.py:9: ResourceWarning: unclosed file <_io.BufferedWriter name='./Data Exploration/data/uc1/MEH_uc1_no_smote_dt_model.pkl'>\n",
      "  if __name__ == '__main__':\n",
      "ResourceWarning: Enable tracemalloc to get the object allocation traceback\n"
     ]
    },
    {
     "name": "stdout",
     "output_type": "stream",
     "text": [
      "MEH decision tree\n",
      " [[32674    44]\n",
      " [   42     6]]\n",
      "MEH decision tree\n",
      "               precision    recall  f1-score   support\n",
      "\n",
      "           0       1.00      1.00      1.00     32718\n",
      "           1       0.12      0.12      0.12        48\n",
      "\n",
      "    accuracy                           1.00     32766\n",
      "   macro avg       0.56      0.56      0.56     32766\n",
      "weighted avg       1.00      1.00      1.00     32766\n",
      "\n"
     ]
    }
   ],
   "source": [
    "for hosp in dict_df_X_train:\n",
    "    model = DecisionTreeClassifier(criterion=criterion,random_state=rand_seed)\n",
    "    model.fit(dict_df_X_train[hosp], dict_df_y_train[hosp])\n",
    "    print(model)\n",
    "    print(f\"Accuracy on {hosp} training set without SMOTE decision tree: {model.score(dict_df_X_train[hosp], dict_df_y_train[hosp])}\")\n",
    "    print(f\"Accuracy on {hosp} test set without SMOTE decision tree: {model.score(dict_df_X_test[hosp], dict_df_y_test[hosp])}\")\n",
    "    \n",
    "    filename = file_dir + f'{hosp}_uc1_no_smote_dt_model.pkl'\n",
    "    pickle.dump(model, open(filename, 'wb'))\n",
    "    \n",
    "    y_pred = model.predict(dict_df_X_test[hosp])\n",
    "    print(hosp, 'decision tree\\n', confusion_matrix(dict_df_y_test[hosp], y_pred))  \n",
    "    print(hosp, 'decision tree\\n', classification_report(dict_df_y_test[hosp], y_pred)) "
   ]
  },
  {
   "cell_type": "markdown",
   "metadata": {},
   "source": [
    "### Decision Tree WITH SMOTE"
   ]
  },
  {
   "cell_type": "markdown",
   "metadata": {},
   "source": [
    "#### Decision Tree WITH SMOTE SS = 0.1 ~ 1.0"
   ]
  },
  {
   "cell_type": "code",
   "execution_count": 31,
   "metadata": {
    "scrolled": true
   },
   "outputs": [
    {
     "name": "stderr",
     "output_type": "stream",
     "text": [
      "/opt/conda/lib/python3.7/site-packages/ipykernel/ipkernel.py:287: DeprecationWarning: `should_run_async` will not call `transform_cell` automatically in the future. Please pass the result to `transformed_cell` argument and any exception that happen during thetransform in `preprocessing_exc_tuple` in IPython 7.17 and above.\n",
      "  and should_run_async(code)\n"
     ]
    },
    {
     "name": "stdout",
     "output_type": "stream",
     "text": [
      "DecisionTreeClassifier(criterion='entropy', random_state=0)\n",
      "Accuracy on MEH training set with 0.1 SMOTE decision tree: 1.0\n",
      "Accuracy on MEH test set with 0.1 SMOTE decision tree: 0.9971311725569187\n"
     ]
    },
    {
     "name": "stderr",
     "output_type": "stream",
     "text": [
      "/opt/conda/lib/python3.7/site-packages/ipykernel_launcher.py:13: ResourceWarning: unclosed file <_io.BufferedWriter name='./Data Exploration/data/uc1/MEH_uc1_0.1_smote_dt_model.pkl'>\n",
      "  del sys.path[0]\n",
      "ResourceWarning: Enable tracemalloc to get the object allocation traceback\n"
     ]
    },
    {
     "name": "stdout",
     "output_type": "stream",
     "text": [
      "MEH decision tree \n",
      " [[32666    52]\n",
      " [   42     6]]\n",
      "MEH decision tree \n",
      "               precision    recall  f1-score   support\n",
      "\n",
      "           0       1.00      1.00      1.00     32718\n",
      "           1       0.10      0.12      0.11        48\n",
      "\n",
      "    accuracy                           1.00     32766\n",
      "   macro avg       0.55      0.56      0.56     32766\n",
      "weighted avg       1.00      1.00      1.00     32766\n",
      "\n",
      "DecisionTreeClassifier(criterion='entropy', random_state=0)\n",
      "Accuracy on MEH training set with 0.2 SMOTE decision tree: 1.0\n",
      "Accuracy on MEH test set with 0.2 SMOTE decision tree: 0.9976805224928279\n"
     ]
    },
    {
     "name": "stderr",
     "output_type": "stream",
     "text": [
      "/opt/conda/lib/python3.7/site-packages/ipykernel_launcher.py:13: ResourceWarning: unclosed file <_io.BufferedWriter name='./Data Exploration/data/uc1/MEH_uc1_0.2_smote_dt_model.pkl'>\n",
      "  del sys.path[0]\n",
      "ResourceWarning: Enable tracemalloc to get the object allocation traceback\n"
     ]
    },
    {
     "name": "stdout",
     "output_type": "stream",
     "text": [
      "MEH decision tree \n",
      " [[32685    33]\n",
      " [   43     5]]\n",
      "MEH decision tree \n",
      "               precision    recall  f1-score   support\n",
      "\n",
      "           0       1.00      1.00      1.00     32718\n",
      "           1       0.13      0.10      0.12        48\n",
      "\n",
      "    accuracy                           1.00     32766\n",
      "   macro avg       0.57      0.55      0.56     32766\n",
      "weighted avg       1.00      1.00      1.00     32766\n",
      "\n",
      "DecisionTreeClassifier(criterion='entropy', random_state=0)\n",
      "Accuracy on MEH training set with 0.30000000000000004 SMOTE decision tree: 1.0\n",
      "Accuracy on MEH test set with 0.30000000000000004 SMOTE decision tree: 0.9973142892022218\n"
     ]
    },
    {
     "name": "stderr",
     "output_type": "stream",
     "text": [
      "/opt/conda/lib/python3.7/site-packages/ipykernel_launcher.py:13: ResourceWarning: unclosed file <_io.BufferedWriter name='./Data Exploration/data/uc1/MEH_uc1_0.30000000000000004_smote_dt_model.pkl'>\n",
      "  del sys.path[0]\n",
      "ResourceWarning: Enable tracemalloc to get the object allocation traceback\n"
     ]
    },
    {
     "name": "stdout",
     "output_type": "stream",
     "text": [
      "MEH decision tree \n",
      " [[32672    46]\n",
      " [   42     6]]\n",
      "MEH decision tree \n",
      "               precision    recall  f1-score   support\n",
      "\n",
      "           0       1.00      1.00      1.00     32718\n",
      "           1       0.12      0.12      0.12        48\n",
      "\n",
      "    accuracy                           1.00     32766\n",
      "   macro avg       0.56      0.56      0.56     32766\n",
      "weighted avg       1.00      1.00      1.00     32766\n",
      "\n",
      "DecisionTreeClassifier(criterion='entropy', random_state=0)\n",
      "Accuracy on MEH training set with 0.4 SMOTE decision tree: 1.0\n",
      "Accuracy on MEH test set with 0.4 SMOTE decision tree: 0.9972227308795703\n"
     ]
    },
    {
     "name": "stderr",
     "output_type": "stream",
     "text": [
      "/opt/conda/lib/python3.7/site-packages/ipykernel_launcher.py:13: ResourceWarning: unclosed file <_io.BufferedWriter name='./Data Exploration/data/uc1/MEH_uc1_0.4_smote_dt_model.pkl'>\n",
      "  del sys.path[0]\n",
      "ResourceWarning: Enable tracemalloc to get the object allocation traceback\n"
     ]
    },
    {
     "name": "stdout",
     "output_type": "stream",
     "text": [
      "MEH decision tree \n",
      " [[32670    48]\n",
      " [   43     5]]\n",
      "MEH decision tree \n",
      "               precision    recall  f1-score   support\n",
      "\n",
      "           0       1.00      1.00      1.00     32718\n",
      "           1       0.09      0.10      0.10        48\n",
      "\n",
      "    accuracy                           1.00     32766\n",
      "   macro avg       0.55      0.55      0.55     32766\n",
      "weighted avg       1.00      1.00      1.00     32766\n",
      "\n",
      "DecisionTreeClassifier(criterion='entropy', random_state=0)\n",
      "Accuracy on MEH training set with 0.5 SMOTE decision tree: 1.0\n",
      "Accuracy on MEH test set with 0.5 SMOTE decision tree: 0.9973753280839895\n"
     ]
    },
    {
     "name": "stderr",
     "output_type": "stream",
     "text": [
      "/opt/conda/lib/python3.7/site-packages/ipykernel_launcher.py:13: ResourceWarning: unclosed file <_io.BufferedWriter name='./Data Exploration/data/uc1/MEH_uc1_0.5_smote_dt_model.pkl'>\n",
      "  del sys.path[0]\n",
      "ResourceWarning: Enable tracemalloc to get the object allocation traceback\n"
     ]
    },
    {
     "name": "stdout",
     "output_type": "stream",
     "text": [
      "MEH decision tree \n",
      " [[32675    43]\n",
      " [   43     5]]\n",
      "MEH decision tree \n",
      "               precision    recall  f1-score   support\n",
      "\n",
      "           0       1.00      1.00      1.00     32718\n",
      "           1       0.10      0.10      0.10        48\n",
      "\n",
      "    accuracy                           1.00     32766\n",
      "   macro avg       0.55      0.55      0.55     32766\n",
      "weighted avg       1.00      1.00      1.00     32766\n",
      "\n",
      "DecisionTreeClassifier(criterion='entropy', random_state=0)\n",
      "Accuracy on MEH training set with 0.6 SMOTE decision tree: 1.0\n",
      "Accuracy on MEH test set with 0.6 SMOTE decision tree: 0.996887017029848\n"
     ]
    },
    {
     "name": "stderr",
     "output_type": "stream",
     "text": [
      "/opt/conda/lib/python3.7/site-packages/ipykernel_launcher.py:13: ResourceWarning: unclosed file <_io.BufferedWriter name='./Data Exploration/data/uc1/MEH_uc1_0.6_smote_dt_model.pkl'>\n",
      "  del sys.path[0]\n",
      "ResourceWarning: Enable tracemalloc to get the object allocation traceback\n"
     ]
    },
    {
     "name": "stdout",
     "output_type": "stream",
     "text": [
      "MEH decision tree \n",
      " [[32657    61]\n",
      " [   41     7]]\n",
      "MEH decision tree \n",
      "               precision    recall  f1-score   support\n",
      "\n",
      "           0       1.00      1.00      1.00     32718\n",
      "           1       0.10      0.15      0.12        48\n",
      "\n",
      "    accuracy                           1.00     32766\n",
      "   macro avg       0.55      0.57      0.56     32766\n",
      "weighted avg       1.00      1.00      1.00     32766\n",
      "\n",
      "DecisionTreeClassifier(criterion='entropy', random_state=0)\n",
      "Accuracy on MEH training set with 0.7000000000000001 SMOTE decision tree: 1.0\n",
      "Accuracy on MEH test set with 0.7000000000000001 SMOTE decision tree: 0.9970701336751511\n"
     ]
    },
    {
     "name": "stderr",
     "output_type": "stream",
     "text": [
      "/opt/conda/lib/python3.7/site-packages/ipykernel_launcher.py:13: ResourceWarning: unclosed file <_io.BufferedWriter name='./Data Exploration/data/uc1/MEH_uc1_0.7000000000000001_smote_dt_model.pkl'>\n",
      "  del sys.path[0]\n",
      "ResourceWarning: Enable tracemalloc to get the object allocation traceback\n"
     ]
    },
    {
     "name": "stdout",
     "output_type": "stream",
     "text": [
      "MEH decision tree \n",
      " [[32665    53]\n",
      " [   43     5]]\n",
      "MEH decision tree \n",
      "               precision    recall  f1-score   support\n",
      "\n",
      "           0       1.00      1.00      1.00     32718\n",
      "           1       0.09      0.10      0.09        48\n",
      "\n",
      "    accuracy                           1.00     32766\n",
      "   macro avg       0.54      0.55      0.55     32766\n",
      "weighted avg       1.00      1.00      1.00     32766\n",
      "\n",
      "DecisionTreeClassifier(criterion='entropy', random_state=0)\n",
      "Accuracy on MEH training set with 0.8 SMOTE decision tree: 1.0\n",
      "Accuracy on MEH test set with 0.8 SMOTE decision tree: 0.9971311725569187\n"
     ]
    },
    {
     "name": "stderr",
     "output_type": "stream",
     "text": [
      "/opt/conda/lib/python3.7/site-packages/ipykernel_launcher.py:13: ResourceWarning: unclosed file <_io.BufferedWriter name='./Data Exploration/data/uc1/MEH_uc1_0.8_smote_dt_model.pkl'>\n",
      "  del sys.path[0]\n",
      "ResourceWarning: Enable tracemalloc to get the object allocation traceback\n"
     ]
    },
    {
     "name": "stdout",
     "output_type": "stream",
     "text": [
      "MEH decision tree \n",
      " [[32665    53]\n",
      " [   41     7]]\n",
      "MEH decision tree \n",
      "               precision    recall  f1-score   support\n",
      "\n",
      "           0       1.00      1.00      1.00     32718\n",
      "           1       0.12      0.15      0.13        48\n",
      "\n",
      "    accuracy                           1.00     32766\n",
      "   macro avg       0.56      0.57      0.56     32766\n",
      "weighted avg       1.00      1.00      1.00     32766\n",
      "\n",
      "DecisionTreeClassifier(criterion='entropy', random_state=0)\n",
      "Accuracy on MEH training set with 0.9 SMOTE decision tree: 1.0\n",
      "Accuracy on MEH test set with 0.9 SMOTE decision tree: 0.9971616919978026\n"
     ]
    },
    {
     "name": "stderr",
     "output_type": "stream",
     "text": [
      "/opt/conda/lib/python3.7/site-packages/ipykernel_launcher.py:13: ResourceWarning: unclosed file <_io.BufferedWriter name='./Data Exploration/data/uc1/MEH_uc1_0.9_smote_dt_model.pkl'>\n",
      "  del sys.path[0]\n",
      "ResourceWarning: Enable tracemalloc to get the object allocation traceback\n"
     ]
    },
    {
     "name": "stdout",
     "output_type": "stream",
     "text": [
      "MEH decision tree \n",
      " [[32666    52]\n",
      " [   41     7]]\n",
      "MEH decision tree \n",
      "               precision    recall  f1-score   support\n",
      "\n",
      "           0       1.00      1.00      1.00     32718\n",
      "           1       0.12      0.15      0.13        48\n",
      "\n",
      "    accuracy                           1.00     32766\n",
      "   macro avg       0.56      0.57      0.56     32766\n",
      "weighted avg       1.00      1.00      1.00     32766\n",
      "\n",
      "DecisionTreeClassifier(criterion='entropy', random_state=0)\n",
      "Accuracy on MEH training set with 1.0 SMOTE decision tree: 1.0\n",
      "Accuracy on MEH test set with 1.0 SMOTE decision tree: 0.9970396142342672\n"
     ]
    },
    {
     "name": "stderr",
     "output_type": "stream",
     "text": [
      "/opt/conda/lib/python3.7/site-packages/ipykernel_launcher.py:13: ResourceWarning: unclosed file <_io.BufferedWriter name='./Data Exploration/data/uc1/MEH_uc1_1.0_smote_dt_model.pkl'>\n",
      "  del sys.path[0]\n",
      "ResourceWarning: Enable tracemalloc to get the object allocation traceback\n"
     ]
    },
    {
     "name": "stdout",
     "output_type": "stream",
     "text": [
      "MEH decision tree \n",
      " [[32663    55]\n",
      " [   42     6]]\n",
      "MEH decision tree \n",
      "               precision    recall  f1-score   support\n",
      "\n",
      "           0       1.00      1.00      1.00     32718\n",
      "           1       0.10      0.12      0.11        48\n",
      "\n",
      "    accuracy                           1.00     32766\n",
      "   macro avg       0.55      0.56      0.55     32766\n",
      "weighted avg       1.00      1.00      1.00     32766\n",
      "\n"
     ]
    }
   ],
   "source": [
    "for hosp in dict_df_X_train:\n",
    "    for sample in np.arange(0.1, 1.1, 0.1):\n",
    "        sm_ss = SMOTE(random_state=55,sampling_strategy=sample)\n",
    "        X_train_ss, y_train_ss = sm_ss.fit_sample(dict_df_X_train[hosp], dict_df_y_train[hosp])\n",
    "        \n",
    "        model = DecisionTreeClassifier(criterion=criterion,random_state=rand_seed)\n",
    "        model.fit(X_train_ss, y_train_ss)\n",
    "        print(model)\n",
    "        print(f\"Accuracy on {hosp} training set with {sample} SMOTE decision tree: {model.score(X_train_ss, y_train_ss)}\")\n",
    "        print(f\"Accuracy on {hosp} test set with {sample} SMOTE decision tree: {model.score(dict_df_X_test[hosp], dict_df_y_test[hosp])}\")\n",
    "    \n",
    "        filename = file_dir + f'{hosp}_uc1_{sample}_smote_dt_model.pkl'\n",
    "        pickle.dump(model, open(filename, 'wb'))\n",
    "        \n",
    "        y_pred = model.predict(dict_df_X_test[hosp])\n",
    "        print(hosp, 'decision tree \\n', confusion_matrix(dict_df_y_test[hosp], y_pred))  \n",
    "        print(hosp, 'decision tree \\n', classification_report(dict_df_y_test[hosp], y_pred)) "
   ]
  },
  {
   "cell_type": "markdown",
   "metadata": {},
   "source": [
    "## LOGISTIC REGRESSION"
   ]
  },
  {
   "cell_type": "markdown",
   "metadata": {},
   "source": [
    "### Logistic Regression Without SMOTE"
   ]
  },
  {
   "cell_type": "code",
   "execution_count": 32,
   "metadata": {},
   "outputs": [
    {
     "name": "stderr",
     "output_type": "stream",
     "text": [
      "/opt/conda/lib/python3.7/site-packages/ipykernel/ipkernel.py:287: DeprecationWarning: `should_run_async` will not call `transform_cell` automatically in the future. Please pass the result to `transformed_cell` argument and any exception that happen during thetransform in `preprocessing_exc_tuple` in IPython 7.17 and above.\n",
      "  and should_run_async(code)\n"
     ]
    }
   ],
   "source": [
    "from sklearn.linear_model import LogisticRegression"
   ]
  },
  {
   "cell_type": "code",
   "execution_count": 33,
   "metadata": {},
   "outputs": [],
   "source": [
    "reg_strength = 0.01"
   ]
  },
  {
   "cell_type": "code",
   "execution_count": 34,
   "metadata": {},
   "outputs": [
    {
     "name": "stderr",
     "output_type": "stream",
     "text": [
      "/opt/conda/lib/python3.7/site-packages/sklearn/utils/validation.py:72: DataConversionWarning: A column-vector y was passed when a 1d array was expected. Please change the shape of y to (n_samples, ), for example using ravel().\n",
      "  return f(**kwargs)\n"
     ]
    },
    {
     "name": "stdout",
     "output_type": "stream",
     "text": [
      "LogisticRegression(C=0.01)\n",
      "MEH Training set without SMOTE log reg score: 0.9983315699519818\n",
      "MEH Test set without SMOTE log reg score: 0.9983824696331564\n"
     ]
    },
    {
     "name": "stderr",
     "output_type": "stream",
     "text": [
      "/opt/conda/lib/python3.7/site-packages/ipykernel_launcher.py:8: ResourceWarning: unclosed file <_io.BufferedWriter name='./Data Exploration/data/uc1/MEH_uc1_no_smote_logreg_model.pkl'>\n",
      "  \n",
      "ResourceWarning: Enable tracemalloc to get the object allocation traceback\n"
     ]
    },
    {
     "name": "stdout",
     "output_type": "stream",
     "text": [
      "MEH log reg \n",
      " [[32712     6]\n",
      " [   47     1]]\n",
      "MEH log reg \n",
      "               precision    recall  f1-score   support\n",
      "\n",
      "           0       1.00      1.00      1.00     32718\n",
      "           1       0.14      0.02      0.04        48\n",
      "\n",
      "    accuracy                           1.00     32766\n",
      "   macro avg       0.57      0.51      0.52     32766\n",
      "weighted avg       1.00      1.00      1.00     32766\n",
      "\n"
     ]
    }
   ],
   "source": [
    "for hosp in dict_df_X_train:\n",
    "    model = LogisticRegression(C=reg_strength).fit(dict_df_X_train[hosp], dict_df_y_train[hosp])\n",
    "    print(model)\n",
    "    print(f\"{hosp} Training set without SMOTE log reg score: {model.score(dict_df_X_train[hosp], dict_df_y_train[hosp])}\")\n",
    "    print(f\"{hosp} Test set without SMOTE log reg score: {model.score(dict_df_X_test[hosp], dict_df_y_test[hosp])}\")\n",
    "    \n",
    "    filename = file_dir + f'{hosp}_uc1_no_smote_logreg_model.pkl'\n",
    "    pickle.dump(model, open(filename, 'wb'))\n",
    "    \n",
    "    y_pred = model.predict(dict_df_X_test[hosp])\n",
    "    print(hosp, 'log reg \\n', confusion_matrix(dict_df_y_test[hosp], y_pred))  \n",
    "    print(hosp, 'log reg \\n', classification_report(dict_df_y_test[hosp], y_pred)) "
   ]
  },
  {
   "cell_type": "markdown",
   "metadata": {},
   "source": [
    "### Logistic Regression With SMOTE"
   ]
  },
  {
   "cell_type": "markdown",
   "metadata": {},
   "source": [
    "#### Logistic Regression With SMOTE ss=0.1 ~ 1.0"
   ]
  },
  {
   "cell_type": "code",
   "execution_count": 35,
   "metadata": {},
   "outputs": [
    {
     "name": "stderr",
     "output_type": "stream",
     "text": [
      "/opt/conda/lib/python3.7/site-packages/ipykernel/ipkernel.py:287: DeprecationWarning: `should_run_async` will not call `transform_cell` automatically in the future. Please pass the result to `transformed_cell` argument and any exception that happen during thetransform in `preprocessing_exc_tuple` in IPython 7.17 and above.\n",
      "  and should_run_async(code)\n",
      "/opt/conda/lib/python3.7/site-packages/sklearn/utils/validation.py:72: DataConversionWarning: A column-vector y was passed when a 1d array was expected. Please change the shape of y to (n_samples, ), for example using ravel().\n",
      "  return f(**kwargs)\n",
      "/opt/conda/lib/python3.7/site-packages/sklearn/linear_model/_logistic.py:764: ConvergenceWarning: lbfgs failed to converge (status=1):\n",
      "STOP: TOTAL NO. of ITERATIONS REACHED LIMIT.\n",
      "\n",
      "Increase the number of iterations (max_iter) or scale the data as shown in:\n",
      "    https://scikit-learn.org/stable/modules/preprocessing.html\n",
      "Please also refer to the documentation for alternative solver options:\n",
      "    https://scikit-learn.org/stable/modules/linear_model.html#logistic-regression\n",
      "  extra_warning_msg=_LOGISTIC_SOLVER_CONVERGENCE_MSG)\n"
     ]
    },
    {
     "name": "stdout",
     "output_type": "stream",
     "text": [
      "LogisticRegression(C=0.01)\n",
      "MEH Training set with 0.1 SMOTE log reg score: 0.9596387216303844\n",
      "MEH Test set with 0.1 SMOTE log reg score: 0.9923396203381554\n"
     ]
    },
    {
     "name": "stderr",
     "output_type": "stream",
     "text": [
      "/opt/conda/lib/python3.7/site-packages/ipykernel_launcher.py:12: ResourceWarning: unclosed file <_io.BufferedWriter name='./Data Exploration/data/uc1/MEH_uc1_0.1_smote_logreg_model.pkl'>\n",
      "  if sys.path[0] == '':\n",
      "ResourceWarning: Enable tracemalloc to get the object allocation traceback\n"
     ]
    },
    {
     "name": "stdout",
     "output_type": "stream",
     "text": [
      "MEH log reg \n",
      " [[32494   224]\n",
      " [   27    21]]\n",
      "MEH log reg \n",
      "               precision    recall  f1-score   support\n",
      "\n",
      "           0       1.00      0.99      1.00     32718\n",
      "           1       0.09      0.44      0.14        48\n",
      "\n",
      "    accuracy                           0.99     32766\n",
      "   macro avg       0.54      0.72      0.57     32766\n",
      "weighted avg       1.00      0.99      0.99     32766\n",
      "\n"
     ]
    },
    {
     "name": "stderr",
     "output_type": "stream",
     "text": [
      "/opt/conda/lib/python3.7/site-packages/sklearn/utils/validation.py:72: DataConversionWarning: A column-vector y was passed when a 1d array was expected. Please change the shape of y to (n_samples, ), for example using ravel().\n",
      "  return f(**kwargs)\n",
      "/opt/conda/lib/python3.7/site-packages/sklearn/linear_model/_logistic.py:764: ConvergenceWarning: lbfgs failed to converge (status=1):\n",
      "STOP: TOTAL NO. of ITERATIONS REACHED LIMIT.\n",
      "\n",
      "Increase the number of iterations (max_iter) or scale the data as shown in:\n",
      "    https://scikit-learn.org/stable/modules/preprocessing.html\n",
      "Please also refer to the documentation for alternative solver options:\n",
      "    https://scikit-learn.org/stable/modules/linear_model.html#logistic-regression\n",
      "  extra_warning_msg=_LOGISTIC_SOLVER_CONVERGENCE_MSG)\n"
     ]
    },
    {
     "name": "stdout",
     "output_type": "stream",
     "text": [
      "LogisticRegression(C=0.01)\n",
      "MEH Training set with 0.2 SMOTE log reg score: 0.9740158282667029\n",
      "MEH Test set with 0.2 SMOTE log reg score: 0.9870902765061345\n"
     ]
    },
    {
     "name": "stderr",
     "output_type": "stream",
     "text": [
      "/opt/conda/lib/python3.7/site-packages/ipykernel_launcher.py:12: ResourceWarning: unclosed file <_io.BufferedWriter name='./Data Exploration/data/uc1/MEH_uc1_0.2_smote_logreg_model.pkl'>\n",
      "  if sys.path[0] == '':\n",
      "ResourceWarning: Enable tracemalloc to get the object allocation traceback\n"
     ]
    },
    {
     "name": "stdout",
     "output_type": "stream",
     "text": [
      "MEH log reg \n",
      " [[32317   401]\n",
      " [   22    26]]\n",
      "MEH log reg \n",
      "               precision    recall  f1-score   support\n",
      "\n",
      "           0       1.00      0.99      0.99     32718\n",
      "           1       0.06      0.54      0.11        48\n",
      "\n",
      "    accuracy                           0.99     32766\n",
      "   macro avg       0.53      0.76      0.55     32766\n",
      "weighted avg       1.00      0.99      0.99     32766\n",
      "\n"
     ]
    },
    {
     "name": "stderr",
     "output_type": "stream",
     "text": [
      "/opt/conda/lib/python3.7/site-packages/sklearn/utils/validation.py:72: DataConversionWarning: A column-vector y was passed when a 1d array was expected. Please change the shape of y to (n_samples, ), for example using ravel().\n",
      "  return f(**kwargs)\n",
      "/opt/conda/lib/python3.7/site-packages/sklearn/linear_model/_logistic.py:764: ConvergenceWarning: lbfgs failed to converge (status=1):\n",
      "STOP: TOTAL NO. of ITERATIONS REACHED LIMIT.\n",
      "\n",
      "Increase the number of iterations (max_iter) or scale the data as shown in:\n",
      "    https://scikit-learn.org/stable/modules/preprocessing.html\n",
      "Please also refer to the documentation for alternative solver options:\n",
      "    https://scikit-learn.org/stable/modules/linear_model.html#logistic-regression\n",
      "  extra_warning_msg=_LOGISTIC_SOLVER_CONVERGENCE_MSG)\n"
     ]
    },
    {
     "name": "stdout",
     "output_type": "stream",
     "text": [
      "LogisticRegression(C=0.01)\n",
      "MEH Training set with 0.30000000000000004 SMOTE log reg score: 0.9790167583752685\n",
      "MEH Test set with 0.30000000000000004 SMOTE log reg score: 0.9828175547823964\n"
     ]
    },
    {
     "name": "stderr",
     "output_type": "stream",
     "text": [
      "/opt/conda/lib/python3.7/site-packages/ipykernel_launcher.py:12: ResourceWarning: unclosed file <_io.BufferedWriter name='./Data Exploration/data/uc1/MEH_uc1_0.30000000000000004_smote_logreg_model.pkl'>\n",
      "  if sys.path[0] == '':\n",
      "ResourceWarning: Enable tracemalloc to get the object allocation traceback\n"
     ]
    },
    {
     "name": "stdout",
     "output_type": "stream",
     "text": [
      "MEH log reg \n",
      " [[32175   543]\n",
      " [   20    28]]\n",
      "MEH log reg \n",
      "               precision    recall  f1-score   support\n",
      "\n",
      "           0       1.00      0.98      0.99     32718\n",
      "           1       0.05      0.58      0.09        48\n",
      "\n",
      "    accuracy                           0.98     32766\n",
      "   macro avg       0.52      0.78      0.54     32766\n",
      "weighted avg       1.00      0.98      0.99     32766\n",
      "\n"
     ]
    },
    {
     "name": "stderr",
     "output_type": "stream",
     "text": [
      "/opt/conda/lib/python3.7/site-packages/sklearn/utils/validation.py:72: DataConversionWarning: A column-vector y was passed when a 1d array was expected. Please change the shape of y to (n_samples, ), for example using ravel().\n",
      "  return f(**kwargs)\n",
      "/opt/conda/lib/python3.7/site-packages/sklearn/linear_model/_logistic.py:764: ConvergenceWarning: lbfgs failed to converge (status=1):\n",
      "STOP: TOTAL NO. of ITERATIONS REACHED LIMIT.\n",
      "\n",
      "Increase the number of iterations (max_iter) or scale the data as shown in:\n",
      "    https://scikit-learn.org/stable/modules/preprocessing.html\n",
      "Please also refer to the documentation for alternative solver options:\n",
      "    https://scikit-learn.org/stable/modules/linear_model.html#logistic-regression\n",
      "  extra_warning_msg=_LOGISTIC_SOLVER_CONVERGENCE_MSG)\n"
     ]
    },
    {
     "name": "stdout",
     "output_type": "stream",
     "text": [
      "LogisticRegression(C=0.01)\n",
      "MEH Training set with 0.4 SMOTE log reg score: 0.9808721095268249\n",
      "MEH Test set with 0.4 SMOTE log reg score: 0.9793688579625222\n"
     ]
    },
    {
     "name": "stderr",
     "output_type": "stream",
     "text": [
      "/opt/conda/lib/python3.7/site-packages/ipykernel_launcher.py:12: ResourceWarning: unclosed file <_io.BufferedWriter name='./Data Exploration/data/uc1/MEH_uc1_0.4_smote_logreg_model.pkl'>\n",
      "  if sys.path[0] == '':\n",
      "ResourceWarning: Enable tracemalloc to get the object allocation traceback\n"
     ]
    },
    {
     "name": "stdout",
     "output_type": "stream",
     "text": [
      "MEH log reg \n",
      " [[32062   656]\n",
      " [   20    28]]\n",
      "MEH log reg \n",
      "               precision    recall  f1-score   support\n",
      "\n",
      "           0       1.00      0.98      0.99     32718\n",
      "           1       0.04      0.58      0.08        48\n",
      "\n",
      "    accuracy                           0.98     32766\n",
      "   macro avg       0.52      0.78      0.53     32766\n",
      "weighted avg       1.00      0.98      0.99     32766\n",
      "\n"
     ]
    },
    {
     "name": "stderr",
     "output_type": "stream",
     "text": [
      "/opt/conda/lib/python3.7/site-packages/sklearn/utils/validation.py:72: DataConversionWarning: A column-vector y was passed when a 1d array was expected. Please change the shape of y to (n_samples, ), for example using ravel().\n",
      "  return f(**kwargs)\n",
      "/opt/conda/lib/python3.7/site-packages/sklearn/linear_model/_logistic.py:764: ConvergenceWarning: lbfgs failed to converge (status=1):\n",
      "STOP: TOTAL NO. of ITERATIONS REACHED LIMIT.\n",
      "\n",
      "Increase the number of iterations (max_iter) or scale the data as shown in:\n",
      "    https://scikit-learn.org/stable/modules/preprocessing.html\n",
      "Please also refer to the documentation for alternative solver options:\n",
      "    https://scikit-learn.org/stable/modules/linear_model.html#logistic-regression\n",
      "  extra_warning_msg=_LOGISTIC_SOLVER_CONVERGENCE_MSG)\n"
     ]
    },
    {
     "name": "stdout",
     "output_type": "stream",
     "text": [
      "LogisticRegression(C=0.01)\n",
      "MEH Training set with 0.5 SMOTE log reg score: 0.9812710166094901\n",
      "MEH Test set with 0.5 SMOTE log reg score: 0.9764389916376732\n"
     ]
    },
    {
     "name": "stderr",
     "output_type": "stream",
     "text": [
      "/opt/conda/lib/python3.7/site-packages/ipykernel_launcher.py:12: ResourceWarning: unclosed file <_io.BufferedWriter name='./Data Exploration/data/uc1/MEH_uc1_0.5_smote_logreg_model.pkl'>\n",
      "  if sys.path[0] == '':\n",
      "ResourceWarning: Enable tracemalloc to get the object allocation traceback\n"
     ]
    },
    {
     "name": "stdout",
     "output_type": "stream",
     "text": [
      "MEH log reg \n",
      " [[31966   752]\n",
      " [   20    28]]\n",
      "MEH log reg \n",
      "               precision    recall  f1-score   support\n",
      "\n",
      "           0       1.00      0.98      0.99     32718\n",
      "           1       0.04      0.58      0.07        48\n",
      "\n",
      "    accuracy                           0.98     32766\n",
      "   macro avg       0.52      0.78      0.53     32766\n",
      "weighted avg       1.00      0.98      0.99     32766\n",
      "\n"
     ]
    },
    {
     "name": "stderr",
     "output_type": "stream",
     "text": [
      "/opt/conda/lib/python3.7/site-packages/sklearn/utils/validation.py:72: DataConversionWarning: A column-vector y was passed when a 1d array was expected. Please change the shape of y to (n_samples, ), for example using ravel().\n",
      "  return f(**kwargs)\n",
      "/opt/conda/lib/python3.7/site-packages/sklearn/linear_model/_logistic.py:764: ConvergenceWarning: lbfgs failed to converge (status=1):\n",
      "STOP: TOTAL NO. of ITERATIONS REACHED LIMIT.\n",
      "\n",
      "Increase the number of iterations (max_iter) or scale the data as shown in:\n",
      "    https://scikit-learn.org/stable/modules/preprocessing.html\n",
      "Please also refer to the documentation for alternative solver options:\n",
      "    https://scikit-learn.org/stable/modules/linear_model.html#logistic-regression\n",
      "  extra_warning_msg=_LOGISTIC_SOLVER_CONVERGENCE_MSG)\n"
     ]
    },
    {
     "name": "stdout",
     "output_type": "stream",
     "text": [
      "LogisticRegression(C=0.01)\n",
      "MEH Training set with 0.6 SMOTE log reg score: 0.981307994573905\n",
      "MEH Test set with 0.6 SMOTE log reg score: 0.9744247085393396\n"
     ]
    },
    {
     "name": "stderr",
     "output_type": "stream",
     "text": [
      "/opt/conda/lib/python3.7/site-packages/ipykernel_launcher.py:12: ResourceWarning: unclosed file <_io.BufferedWriter name='./Data Exploration/data/uc1/MEH_uc1_0.6_smote_logreg_model.pkl'>\n",
      "  if sys.path[0] == '':\n",
      "ResourceWarning: Enable tracemalloc to get the object allocation traceback\n"
     ]
    },
    {
     "name": "stdout",
     "output_type": "stream",
     "text": [
      "MEH log reg \n",
      " [[31900   818]\n",
      " [   20    28]]\n",
      "MEH log reg \n",
      "               precision    recall  f1-score   support\n",
      "\n",
      "           0       1.00      0.97      0.99     32718\n",
      "           1       0.03      0.58      0.06        48\n",
      "\n",
      "    accuracy                           0.97     32766\n",
      "   macro avg       0.52      0.78      0.52     32766\n",
      "weighted avg       1.00      0.97      0.99     32766\n",
      "\n"
     ]
    },
    {
     "name": "stderr",
     "output_type": "stream",
     "text": [
      "/opt/conda/lib/python3.7/site-packages/sklearn/utils/validation.py:72: DataConversionWarning: A column-vector y was passed when a 1d array was expected. Please change the shape of y to (n_samples, ), for example using ravel().\n",
      "  return f(**kwargs)\n",
      "/opt/conda/lib/python3.7/site-packages/sklearn/linear_model/_logistic.py:764: ConvergenceWarning: lbfgs failed to converge (status=1):\n",
      "STOP: TOTAL NO. of ITERATIONS REACHED LIMIT.\n",
      "\n",
      "Increase the number of iterations (max_iter) or scale the data as shown in:\n",
      "    https://scikit-learn.org/stable/modules/preprocessing.html\n",
      "Please also refer to the documentation for alternative solver options:\n",
      "    https://scikit-learn.org/stable/modules/linear_model.html#logistic-regression\n",
      "  extra_warning_msg=_LOGISTIC_SOLVER_CONVERGENCE_MSG)\n"
     ]
    },
    {
     "name": "stdout",
     "output_type": "stream",
     "text": [
      "LogisticRegression(C=0.01)\n",
      "MEH Training set with 0.7000000000000001 SMOTE log reg score: 0.9813285221060708\n",
      "MEH Test set with 0.7000000000000001 SMOTE log reg score: 0.9723188671183544\n"
     ]
    },
    {
     "name": "stderr",
     "output_type": "stream",
     "text": [
      "/opt/conda/lib/python3.7/site-packages/ipykernel_launcher.py:12: ResourceWarning: unclosed file <_io.BufferedWriter name='./Data Exploration/data/uc1/MEH_uc1_0.7000000000000001_smote_logreg_model.pkl'>\n",
      "  if sys.path[0] == '':\n",
      "ResourceWarning: Enable tracemalloc to get the object allocation traceback\n"
     ]
    },
    {
     "name": "stdout",
     "output_type": "stream",
     "text": [
      "MEH log reg \n",
      " [[31831   887]\n",
      " [   20    28]]\n",
      "MEH log reg \n",
      "               precision    recall  f1-score   support\n",
      "\n",
      "           0       1.00      0.97      0.99     32718\n",
      "           1       0.03      0.58      0.06        48\n",
      "\n",
      "    accuracy                           0.97     32766\n",
      "   macro avg       0.51      0.78      0.52     32766\n",
      "weighted avg       1.00      0.97      0.98     32766\n",
      "\n"
     ]
    },
    {
     "name": "stderr",
     "output_type": "stream",
     "text": [
      "/opt/conda/lib/python3.7/site-packages/sklearn/utils/validation.py:72: DataConversionWarning: A column-vector y was passed when a 1d array was expected. Please change the shape of y to (n_samples, ), for example using ravel().\n",
      "  return f(**kwargs)\n",
      "/opt/conda/lib/python3.7/site-packages/sklearn/linear_model/_logistic.py:764: ConvergenceWarning: lbfgs failed to converge (status=1):\n",
      "STOP: TOTAL NO. of ITERATIONS REACHED LIMIT.\n",
      "\n",
      "Increase the number of iterations (max_iter) or scale the data as shown in:\n",
      "    https://scikit-learn.org/stable/modules/preprocessing.html\n",
      "Please also refer to the documentation for alternative solver options:\n",
      "    https://scikit-learn.org/stable/modules/linear_model.html#logistic-regression\n",
      "  extra_warning_msg=_LOGISTIC_SOLVER_CONVERGENCE_MSG)\n"
     ]
    },
    {
     "name": "stdout",
     "output_type": "stream",
     "text": [
      "LogisticRegression(C=0.01)\n",
      "MEH Training set with 0.8 SMOTE log reg score: 0.9816355875592994\n",
      "MEH Test set with 0.8 SMOTE log reg score: 0.9697857535249954\n"
     ]
    },
    {
     "name": "stderr",
     "output_type": "stream",
     "text": [
      "/opt/conda/lib/python3.7/site-packages/ipykernel_launcher.py:12: ResourceWarning: unclosed file <_io.BufferedWriter name='./Data Exploration/data/uc1/MEH_uc1_0.8_smote_logreg_model.pkl'>\n",
      "  if sys.path[0] == '':\n",
      "ResourceWarning: Enable tracemalloc to get the object allocation traceback\n"
     ]
    },
    {
     "name": "stdout",
     "output_type": "stream",
     "text": [
      "MEH log reg \n",
      " [[31747   971]\n",
      " [   19    29]]\n",
      "MEH log reg \n",
      "               precision    recall  f1-score   support\n",
      "\n",
      "           0       1.00      0.97      0.98     32718\n",
      "           1       0.03      0.60      0.06        48\n",
      "\n",
      "    accuracy                           0.97     32766\n",
      "   macro avg       0.51      0.79      0.52     32766\n",
      "weighted avg       1.00      0.97      0.98     32766\n",
      "\n"
     ]
    },
    {
     "name": "stderr",
     "output_type": "stream",
     "text": [
      "/opt/conda/lib/python3.7/site-packages/sklearn/utils/validation.py:72: DataConversionWarning: A column-vector y was passed when a 1d array was expected. Please change the shape of y to (n_samples, ), for example using ravel().\n",
      "  return f(**kwargs)\n",
      "/opt/conda/lib/python3.7/site-packages/sklearn/linear_model/_logistic.py:764: ConvergenceWarning: lbfgs failed to converge (status=1):\n",
      "STOP: TOTAL NO. of ITERATIONS REACHED LIMIT.\n",
      "\n",
      "Increase the number of iterations (max_iter) or scale the data as shown in:\n",
      "    https://scikit-learn.org/stable/modules/preprocessing.html\n",
      "Please also refer to the documentation for alternative solver options:\n",
      "    https://scikit-learn.org/stable/modules/linear_model.html#logistic-regression\n",
      "  extra_warning_msg=_LOGISTIC_SOLVER_CONVERGENCE_MSG)\n"
     ]
    },
    {
     "name": "stdout",
     "output_type": "stream",
     "text": [
      "LogisticRegression(C=0.01)\n",
      "MEH Training set with 0.9 SMOTE log reg score: 0.9818996031320391\n",
      "MEH Test set with 0.9 SMOTE log reg score: 0.967924067631081\n"
     ]
    },
    {
     "name": "stderr",
     "output_type": "stream",
     "text": [
      "/opt/conda/lib/python3.7/site-packages/ipykernel_launcher.py:12: ResourceWarning: unclosed file <_io.BufferedWriter name='./Data Exploration/data/uc1/MEH_uc1_0.9_smote_logreg_model.pkl'>\n",
      "  if sys.path[0] == '':\n",
      "ResourceWarning: Enable tracemalloc to get the object allocation traceback\n"
     ]
    },
    {
     "name": "stdout",
     "output_type": "stream",
     "text": [
      "MEH log reg \n",
      " [[31686  1032]\n",
      " [   19    29]]\n",
      "MEH log reg \n",
      "               precision    recall  f1-score   support\n",
      "\n",
      "           0       1.00      0.97      0.98     32718\n",
      "           1       0.03      0.60      0.05        48\n",
      "\n",
      "    accuracy                           0.97     32766\n",
      "   macro avg       0.51      0.79      0.52     32766\n",
      "weighted avg       1.00      0.97      0.98     32766\n",
      "\n"
     ]
    },
    {
     "name": "stderr",
     "output_type": "stream",
     "text": [
      "/opt/conda/lib/python3.7/site-packages/sklearn/utils/validation.py:72: DataConversionWarning: A column-vector y was passed when a 1d array was expected. Please change the shape of y to (n_samples, ), for example using ravel().\n",
      "  return f(**kwargs)\n",
      "/opt/conda/lib/python3.7/site-packages/sklearn/linear_model/_logistic.py:764: ConvergenceWarning: lbfgs failed to converge (status=1):\n",
      "STOP: TOTAL NO. of ITERATIONS REACHED LIMIT.\n",
      "\n",
      "Increase the number of iterations (max_iter) or scale the data as shown in:\n",
      "    https://scikit-learn.org/stable/modules/preprocessing.html\n",
      "Please also refer to the documentation for alternative solver options:\n",
      "    https://scikit-learn.org/stable/modules/linear_model.html#logistic-regression\n",
      "  extra_warning_msg=_LOGISTIC_SOLVER_CONVERGENCE_MSG)\n"
     ]
    },
    {
     "name": "stdout",
     "output_type": "stream",
     "text": [
      "LogisticRegression(C=0.01)\n",
      "MEH Training set with 1.0 SMOTE log reg score: 0.9821932604420351\n",
      "MEH Test set with 1.0 SMOTE log reg score: 0.9664896539095403\n"
     ]
    },
    {
     "name": "stderr",
     "output_type": "stream",
     "text": [
      "/opt/conda/lib/python3.7/site-packages/ipykernel_launcher.py:12: ResourceWarning: unclosed file <_io.BufferedWriter name='./Data Exploration/data/uc1/MEH_uc1_1.0_smote_logreg_model.pkl'>\n",
      "  if sys.path[0] == '':\n",
      "ResourceWarning: Enable tracemalloc to get the object allocation traceback\n"
     ]
    },
    {
     "name": "stdout",
     "output_type": "stream",
     "text": [
      "MEH log reg \n",
      " [[31638  1080]\n",
      " [   18    30]]\n",
      "MEH log reg \n",
      "               precision    recall  f1-score   support\n",
      "\n",
      "           0       1.00      0.97      0.98     32718\n",
      "           1       0.03      0.62      0.05        48\n",
      "\n",
      "    accuracy                           0.97     32766\n",
      "   macro avg       0.51      0.80      0.52     32766\n",
      "weighted avg       1.00      0.97      0.98     32766\n",
      "\n"
     ]
    }
   ],
   "source": [
    "for hosp in dict_df_X_train:\n",
    "    for sample in np.arange(0.1, 1.1, 0.1):\n",
    "        sm_ss = SMOTE(random_state=55,sampling_strategy=sample)\n",
    "        X_train_ss, y_train_ss = sm_ss.fit_sample(dict_df_X_train[hosp], dict_df_y_train[hosp])\n",
    "        \n",
    "        model = LogisticRegression(C=reg_strength).fit(X_train_ss, y_train_ss)\n",
    "        print(model)\n",
    "        print(f\"{hosp} Training set with {sample} SMOTE log reg score: {model.score(X_train_ss, y_train_ss)}\")\n",
    "        print(f\"{hosp} Test set with {sample} SMOTE log reg score: {model.score(dict_df_X_test[hosp], dict_df_y_test[hosp])}\")\n",
    "\n",
    "        filename = file_dir + f'{hosp}_uc1_{sample}_smote_logreg_model.pkl'\n",
    "        pickle.dump(model, open(filename, 'wb'))\n",
    "\n",
    "        y_pred = model.predict(dict_df_X_test[hosp])\n",
    "        print(hosp, 'log reg \\n', confusion_matrix(dict_df_y_test[hosp], y_pred))  \n",
    "        print(hosp, 'log reg \\n', classification_report(dict_df_y_test[hosp], y_pred)) "
   ]
  },
  {
   "cell_type": "markdown",
   "metadata": {},
   "source": [
    "## NAIVE BAYES"
   ]
  },
  {
   "cell_type": "markdown",
   "metadata": {},
   "source": [
    "### Naive Bayes Without SMOTE"
   ]
  },
  {
   "cell_type": "code",
   "execution_count": 36,
   "metadata": {},
   "outputs": [
    {
     "name": "stderr",
     "output_type": "stream",
     "text": [
      "/opt/conda/lib/python3.7/site-packages/ipykernel/ipkernel.py:287: DeprecationWarning: `should_run_async` will not call `transform_cell` automatically in the future. Please pass the result to `transformed_cell` argument and any exception that happen during thetransform in `preprocessing_exc_tuple` in IPython 7.17 and above.\n",
      "  and should_run_async(code)\n"
     ]
    }
   ],
   "source": [
    "from sklearn.naive_bayes import GaussianNB"
   ]
  },
  {
   "cell_type": "code",
   "execution_count": 37,
   "metadata": {},
   "outputs": [
    {
     "name": "stderr",
     "output_type": "stream",
     "text": [
      "/opt/conda/lib/python3.7/site-packages/sklearn/utils/validation.py:72: DataConversionWarning: A column-vector y was passed when a 1d array was expected. Please change the shape of y to (n_samples, ), for example using ravel().\n",
      "  return f(**kwargs)\n"
     ]
    },
    {
     "name": "stdout",
     "output_type": "stream",
     "text": [
      "GaussianNB()\n"
     ]
    },
    {
     "name": "stderr",
     "output_type": "stream",
     "text": [
      "/opt/conda/lib/python3.7/site-packages/ipykernel_launcher.py:9: ResourceWarning: unclosed file <_io.BufferedWriter name='./Data Exploration/data/uc1/MEH_uc1_no_smote_nb_model.pkl'>\n",
      "  if __name__ == '__main__':\n",
      "ResourceWarning: Enable tracemalloc to get the object allocation traceback\n"
     ]
    },
    {
     "name": "stdout",
     "output_type": "stream",
     "text": [
      "MEH Training set without SMOTE Naive Bayes score: 0.9666313990396354\n",
      "MEH Test set without SMOTE Naive Bayes score: 0.9658182262100958\n",
      "MEH Naive Bayes \n",
      " [[31638  1080]\n",
      " [   40     8]]\n",
      "MEH Naive Bayes \n",
      "               precision    recall  f1-score   support\n",
      "\n",
      "           0       1.00      0.97      0.98     32718\n",
      "           1       0.01      0.17      0.01        48\n",
      "\n",
      "    accuracy                           0.97     32766\n",
      "   macro avg       0.50      0.57      0.50     32766\n",
      "weighted avg       1.00      0.97      0.98     32766\n",
      "\n"
     ]
    }
   ],
   "source": [
    "for hosp in dict_df_X_train:\n",
    "    # Initiating the Gaussian Classifier\n",
    "    model = GaussianNB()\n",
    "\n",
    "    # Training your model \n",
    "    model.fit(dict_df_X_train[hosp], dict_df_y_train[hosp])\n",
    "    print(model)\n",
    "    filename = file_dir + f'{hosp}_uc1_no_smote_nb_model.pkl'\n",
    "    pickle.dump(model, open(filename, 'wb'))\n",
    "\n",
    "    # Score\n",
    "    print(f\"{hosp} Training set without SMOTE Naive Bayes score: {model.score(dict_df_X_train[hosp], dict_df_y_train[hosp])}\")\n",
    "    print(f\"{hosp} Test set without SMOTE Naive Bayes score: {model.score(dict_df_X_test[hosp], dict_df_y_test[hosp])}\")\n",
    "\n",
    "    # Confusion Matrix\n",
    "    y_pred = model.predict(dict_df_X_test[hosp])\n",
    "    print(hosp, 'Naive Bayes \\n', confusion_matrix(dict_df_y_test[hosp], y_pred))  \n",
    "    print(hosp, 'Naive Bayes \\n', classification_report(dict_df_y_test[hosp], y_pred)) "
   ]
  },
  {
   "cell_type": "markdown",
   "metadata": {},
   "source": [
    "### Naive Bayes With SMOTE"
   ]
  },
  {
   "cell_type": "markdown",
   "metadata": {},
   "source": [
    "#### Naive Bayes Without SMOTE ss=0.1 ~ 1.0"
   ]
  },
  {
   "cell_type": "code",
   "execution_count": 38,
   "metadata": {},
   "outputs": [
    {
     "name": "stderr",
     "output_type": "stream",
     "text": [
      "/opt/conda/lib/python3.7/site-packages/ipykernel/ipkernel.py:287: DeprecationWarning: `should_run_async` will not call `transform_cell` automatically in the future. Please pass the result to `transformed_cell` argument and any exception that happen during thetransform in `preprocessing_exc_tuple` in IPython 7.17 and above.\n",
      "  and should_run_async(code)\n",
      "/opt/conda/lib/python3.7/site-packages/sklearn/utils/validation.py:72: DataConversionWarning: A column-vector y was passed when a 1d array was expected. Please change the shape of y to (n_samples, ), for example using ravel().\n",
      "  return f(**kwargs)\n"
     ]
    },
    {
     "name": "stdout",
     "output_type": "stream",
     "text": [
      "GaussianNB()\n"
     ]
    },
    {
     "name": "stderr",
     "output_type": "stream",
     "text": [
      "/opt/conda/lib/python3.7/site-packages/ipykernel_launcher.py:13: ResourceWarning: unclosed file <_io.BufferedWriter name='./Data Exploration/data/uc1/MEH_uc1_0.1_smote_nb_model.pkl'>\n",
      "  del sys.path[0]\n",
      "ResourceWarning: Enable tracemalloc to get the object allocation traceback\n"
     ]
    },
    {
     "name": "stdout",
     "output_type": "stream",
     "text": [
      "MEH Training set with 0.1 SMOTE Naive Bayes score: 0.9696155627605373\n",
      "MEH Test set with 0.1 SMOTE Naive Bayes score: 0.9658182262100958\n",
      "MEH Naive Bayes\n",
      " [[31638  1080]\n",
      " [   40     8]]\n",
      "MEH Naive Bayes\n",
      "               precision    recall  f1-score   support\n",
      "\n",
      "           0       1.00      0.97      0.98     32718\n",
      "           1       0.01      0.17      0.01        48\n",
      "\n",
      "    accuracy                           0.97     32766\n",
      "   macro avg       0.50      0.57      0.50     32766\n",
      "weighted avg       1.00      0.97      0.98     32766\n",
      "\n"
     ]
    },
    {
     "name": "stderr",
     "output_type": "stream",
     "text": [
      "/opt/conda/lib/python3.7/site-packages/sklearn/utils/validation.py:72: DataConversionWarning: A column-vector y was passed when a 1d array was expected. Please change the shape of y to (n_samples, ), for example using ravel().\n",
      "  return f(**kwargs)\n"
     ]
    },
    {
     "name": "stdout",
     "output_type": "stream",
     "text": [
      "GaussianNB()\n"
     ]
    },
    {
     "name": "stderr",
     "output_type": "stream",
     "text": [
      "/opt/conda/lib/python3.7/site-packages/ipykernel_launcher.py:13: ResourceWarning: unclosed file <_io.BufferedWriter name='./Data Exploration/data/uc1/MEH_uc1_0.2_smote_nb_model.pkl'>\n",
      "  del sys.path[0]\n",
      "ResourceWarning: Enable tracemalloc to get the object allocation traceback\n"
     ]
    },
    {
     "name": "stdout",
     "output_type": "stream",
     "text": [
      "MEH Training set with 0.2 SMOTE Naive Bayes score: 0.9721476852009103\n",
      "MEH Test set with 0.2 SMOTE Naive Bayes score: 0.9658182262100958\n",
      "MEH Naive Bayes\n",
      " [[31638  1080]\n",
      " [   40     8]]\n",
      "MEH Naive Bayes\n",
      "               precision    recall  f1-score   support\n",
      "\n",
      "           0       1.00      0.97      0.98     32718\n",
      "           1       0.01      0.17      0.01        48\n",
      "\n",
      "    accuracy                           0.97     32766\n",
      "   macro avg       0.50      0.57      0.50     32766\n",
      "weighted avg       1.00      0.97      0.98     32766\n",
      "\n"
     ]
    },
    {
     "name": "stderr",
     "output_type": "stream",
     "text": [
      "/opt/conda/lib/python3.7/site-packages/sklearn/utils/validation.py:72: DataConversionWarning: A column-vector y was passed when a 1d array was expected. Please change the shape of y to (n_samples, ), for example using ravel().\n",
      "  return f(**kwargs)\n"
     ]
    },
    {
     "name": "stdout",
     "output_type": "stream",
     "text": [
      "GaussianNB()\n"
     ]
    },
    {
     "name": "stderr",
     "output_type": "stream",
     "text": [
      "/opt/conda/lib/python3.7/site-packages/ipykernel_launcher.py:13: ResourceWarning: unclosed file <_io.BufferedWriter name='./Data Exploration/data/uc1/MEH_uc1_0.30000000000000004_smote_nb_model.pkl'>\n",
      "  del sys.path[0]\n",
      "ResourceWarning: Enable tracemalloc to get the object allocation traceback\n"
     ]
    },
    {
     "name": "stdout",
     "output_type": "stream",
     "text": [
      "MEH Training set with 0.30000000000000004 SMOTE Naive Bayes score: 0.974290238128831\n",
      "MEH Test set with 0.30000000000000004 SMOTE Naive Bayes score: 0.9658182262100958\n",
      "MEH Naive Bayes\n",
      " [[31638  1080]\n",
      " [   40     8]]\n",
      "MEH Naive Bayes\n",
      "               precision    recall  f1-score   support\n",
      "\n",
      "           0       1.00      0.97      0.98     32718\n",
      "           1       0.01      0.17      0.01        48\n",
      "\n",
      "    accuracy                           0.97     32766\n",
      "   macro avg       0.50      0.57      0.50     32766\n",
      "weighted avg       1.00      0.97      0.98     32766\n",
      "\n"
     ]
    },
    {
     "name": "stderr",
     "output_type": "stream",
     "text": [
      "/opt/conda/lib/python3.7/site-packages/sklearn/utils/validation.py:72: DataConversionWarning: A column-vector y was passed when a 1d array was expected. Please change the shape of y to (n_samples, ), for example using ravel().\n",
      "  return f(**kwargs)\n"
     ]
    },
    {
     "name": "stdout",
     "output_type": "stream",
     "text": [
      "GaussianNB()\n"
     ]
    },
    {
     "name": "stderr",
     "output_type": "stream",
     "text": [
      "/opt/conda/lib/python3.7/site-packages/ipykernel_launcher.py:13: ResourceWarning: unclosed file <_io.BufferedWriter name='./Data Exploration/data/uc1/MEH_uc1_0.4_smote_nb_model.pkl'>\n",
      "  del sys.path[0]\n",
      "ResourceWarning: Enable tracemalloc to get the object allocation traceback\n"
     ]
    },
    {
     "name": "stdout",
     "output_type": "stream",
     "text": [
      "MEH Training set with 0.4 SMOTE Naive Bayes score: 0.9761265293942106\n",
      "MEH Test set with 0.4 SMOTE Naive Bayes score: 0.9658182262100958\n",
      "MEH Naive Bayes\n",
      " [[31638  1080]\n",
      " [   40     8]]\n",
      "MEH Naive Bayes\n",
      "               precision    recall  f1-score   support\n",
      "\n",
      "           0       1.00      0.97      0.98     32718\n",
      "           1       0.01      0.17      0.01        48\n",
      "\n",
      "    accuracy                           0.97     32766\n",
      "   macro avg       0.50      0.57      0.50     32766\n",
      "weighted avg       1.00      0.97      0.98     32766\n",
      "\n"
     ]
    },
    {
     "name": "stderr",
     "output_type": "stream",
     "text": [
      "/opt/conda/lib/python3.7/site-packages/sklearn/utils/validation.py:72: DataConversionWarning: A column-vector y was passed when a 1d array was expected. Please change the shape of y to (n_samples, ), for example using ravel().\n",
      "  return f(**kwargs)\n"
     ]
    },
    {
     "name": "stdout",
     "output_type": "stream",
     "text": [
      "GaussianNB()\n"
     ]
    },
    {
     "name": "stderr",
     "output_type": "stream",
     "text": [
      "/opt/conda/lib/python3.7/site-packages/ipykernel_launcher.py:13: ResourceWarning: unclosed file <_io.BufferedWriter name='./Data Exploration/data/uc1/MEH_uc1_0.5_smote_nb_model.pkl'>\n",
      "  del sys.path[0]\n",
      "ResourceWarning: Enable tracemalloc to get the object allocation traceback\n"
     ]
    },
    {
     "name": "stdout",
     "output_type": "stream",
     "text": [
      "MEH Training set with 0.5 SMOTE Naive Bayes score: 0.9777181481607282\n",
      "MEH Test set with 0.5 SMOTE Naive Bayes score: 0.9658182262100958\n",
      "MEH Naive Bayes\n",
      " [[31638  1080]\n",
      " [   40     8]]\n",
      "MEH Naive Bayes\n",
      "               precision    recall  f1-score   support\n",
      "\n",
      "           0       1.00      0.97      0.98     32718\n",
      "           1       0.01      0.17      0.01        48\n",
      "\n",
      "    accuracy                           0.97     32766\n",
      "   macro avg       0.50      0.57      0.50     32766\n",
      "weighted avg       1.00      0.97      0.98     32766\n",
      "\n"
     ]
    },
    {
     "name": "stderr",
     "output_type": "stream",
     "text": [
      "/opt/conda/lib/python3.7/site-packages/sklearn/utils/validation.py:72: DataConversionWarning: A column-vector y was passed when a 1d array was expected. Please change the shape of y to (n_samples, ), for example using ravel().\n",
      "  return f(**kwargs)\n"
     ]
    },
    {
     "name": "stdout",
     "output_type": "stream",
     "text": [
      "GaussianNB()\n"
     ]
    },
    {
     "name": "stderr",
     "output_type": "stream",
     "text": [
      "/opt/conda/lib/python3.7/site-packages/ipykernel_launcher.py:13: ResourceWarning: unclosed file <_io.BufferedWriter name='./Data Exploration/data/uc1/MEH_uc1_0.6_smote_nb_model.pkl'>\n",
      "  del sys.path[0]\n",
      "ResourceWarning: Enable tracemalloc to get the object allocation traceback\n"
     ]
    },
    {
     "name": "stdout",
     "output_type": "stream",
     "text": [
      "MEH Training set with 0.6 SMOTE Naive Bayes score: 0.9791108082461358\n",
      "MEH Test set with 0.6 SMOTE Naive Bayes score: 0.9658182262100958\n",
      "MEH Naive Bayes\n",
      " [[31638  1080]\n",
      " [   40     8]]\n",
      "MEH Naive Bayes\n",
      "               precision    recall  f1-score   support\n",
      "\n",
      "           0       1.00      0.97      0.98     32718\n",
      "           1       0.01      0.17      0.01        48\n",
      "\n",
      "    accuracy                           0.97     32766\n",
      "   macro avg       0.50      0.57      0.50     32766\n",
      "weighted avg       1.00      0.97      0.98     32766\n",
      "\n"
     ]
    },
    {
     "name": "stderr",
     "output_type": "stream",
     "text": [
      "/opt/conda/lib/python3.7/site-packages/sklearn/utils/validation.py:72: DataConversionWarning: A column-vector y was passed when a 1d array was expected. Please change the shape of y to (n_samples, ), for example using ravel().\n",
      "  return f(**kwargs)\n"
     ]
    },
    {
     "name": "stdout",
     "output_type": "stream",
     "text": [
      "GaussianNB()\n"
     ]
    },
    {
     "name": "stderr",
     "output_type": "stream",
     "text": [
      "/opt/conda/lib/python3.7/site-packages/ipykernel_launcher.py:13: ResourceWarning: unclosed file <_io.BufferedWriter name='./Data Exploration/data/uc1/MEH_uc1_0.7000000000000001_smote_nb_model.pkl'>\n",
      "  del sys.path[0]\n",
      "ResourceWarning: Enable tracemalloc to get the object allocation traceback\n"
     ]
    },
    {
     "name": "stdout",
     "output_type": "stream",
     "text": [
      "MEH Training set with 0.7000000000000001 SMOTE Naive Bayes score: 0.9803395032128129\n",
      "MEH Test set with 0.7000000000000001 SMOTE Naive Bayes score: 0.9658182262100958\n",
      "MEH Naive Bayes\n",
      " [[31638  1080]\n",
      " [   40     8]]\n",
      "MEH Naive Bayes\n",
      "               precision    recall  f1-score   support\n",
      "\n",
      "           0       1.00      0.97      0.98     32718\n",
      "           1       0.01      0.17      0.01        48\n",
      "\n",
      "    accuracy                           0.97     32766\n",
      "   macro avg       0.50      0.57      0.50     32766\n",
      "weighted avg       1.00      0.97      0.98     32766\n",
      "\n"
     ]
    },
    {
     "name": "stderr",
     "output_type": "stream",
     "text": [
      "/opt/conda/lib/python3.7/site-packages/sklearn/utils/validation.py:72: DataConversionWarning: A column-vector y was passed when a 1d array was expected. Please change the shape of y to (n_samples, ), for example using ravel().\n",
      "  return f(**kwargs)\n"
     ]
    },
    {
     "name": "stdout",
     "output_type": "stream",
     "text": [
      "GaussianNB()\n"
     ]
    },
    {
     "name": "stderr",
     "output_type": "stream",
     "text": [
      "/opt/conda/lib/python3.7/site-packages/ipykernel_launcher.py:13: ResourceWarning: unclosed file <_io.BufferedWriter name='./Data Exploration/data/uc1/MEH_uc1_0.8_smote_nb_model.pkl'>\n",
      "  del sys.path[0]\n",
      "ResourceWarning: Enable tracemalloc to get the object allocation traceback\n"
     ]
    },
    {
     "name": "stdout",
     "output_type": "stream",
     "text": [
      "MEH Training set with 0.8 SMOTE Naive Bayes score: 0.9814317901339402\n",
      "MEH Test set with 0.8 SMOTE Naive Bayes score: 0.9658182262100958\n",
      "MEH Naive Bayes\n",
      " [[31638  1080]\n",
      " [   40     8]]\n",
      "MEH Naive Bayes\n",
      "               precision    recall  f1-score   support\n",
      "\n",
      "           0       1.00      0.97      0.98     32718\n",
      "           1       0.01      0.17      0.01        48\n",
      "\n",
      "    accuracy                           0.97     32766\n",
      "   macro avg       0.50      0.57      0.50     32766\n",
      "weighted avg       1.00      0.97      0.98     32766\n",
      "\n"
     ]
    },
    {
     "name": "stderr",
     "output_type": "stream",
     "text": [
      "/opt/conda/lib/python3.7/site-packages/sklearn/utils/validation.py:72: DataConversionWarning: A column-vector y was passed when a 1d array was expected. Please change the shape of y to (n_samples, ), for example using ravel().\n",
      "  return f(**kwargs)\n"
     ]
    },
    {
     "name": "stdout",
     "output_type": "stream",
     "text": [
      "GaussianNB()\n"
     ]
    },
    {
     "name": "stderr",
     "output_type": "stream",
     "text": [
      "/opt/conda/lib/python3.7/site-packages/ipykernel_launcher.py:13: ResourceWarning: unclosed file <_io.BufferedWriter name='./Data Exploration/data/uc1/MEH_uc1_0.9_smote_nb_model.pkl'>\n",
      "  del sys.path[0]\n",
      "ResourceWarning: Enable tracemalloc to get the object allocation traceback\n"
     ]
    },
    {
     "name": "stdout",
     "output_type": "stream",
     "text": [
      "MEH Training set with 0.9 SMOTE Naive Bayes score: 0.9824090957846187\n",
      "MEH Test set with 0.9 SMOTE Naive Bayes score: 0.9658182262100958\n",
      "MEH Naive Bayes\n",
      " [[31638  1080]\n",
      " [   40     8]]\n",
      "MEH Naive Bayes\n",
      "               precision    recall  f1-score   support\n",
      "\n",
      "           0       1.00      0.97      0.98     32718\n",
      "           1       0.01      0.17      0.01        48\n",
      "\n",
      "    accuracy                           0.97     32766\n",
      "   macro avg       0.50      0.57      0.50     32766\n",
      "weighted avg       1.00      0.97      0.98     32766\n",
      "\n"
     ]
    },
    {
     "name": "stderr",
     "output_type": "stream",
     "text": [
      "/opt/conda/lib/python3.7/site-packages/sklearn/utils/validation.py:72: DataConversionWarning: A column-vector y was passed when a 1d array was expected. Please change the shape of y to (n_samples, ), for example using ravel().\n",
      "  return f(**kwargs)\n"
     ]
    },
    {
     "name": "stdout",
     "output_type": "stream",
     "text": [
      "GaussianNB()\n"
     ]
    },
    {
     "name": "stderr",
     "output_type": "stream",
     "text": [
      "/opt/conda/lib/python3.7/site-packages/ipykernel_launcher.py:13: ResourceWarning: unclosed file <_io.BufferedWriter name='./Data Exploration/data/uc1/MEH_uc1_1.0_smote_nb_model.pkl'>\n",
      "  del sys.path[0]\n",
      "ResourceWarning: Enable tracemalloc to get the object allocation traceback\n"
     ]
    },
    {
     "name": "stdout",
     "output_type": "stream",
     "text": [
      "MEH Training set with 1.0 SMOTE Naive Bayes score: 0.9832886678826538\n",
      "MEH Test set with 1.0 SMOTE Naive Bayes score: 0.9658182262100958\n",
      "MEH Naive Bayes\n",
      " [[31638  1080]\n",
      " [   40     8]]\n",
      "MEH Naive Bayes\n",
      "               precision    recall  f1-score   support\n",
      "\n",
      "           0       1.00      0.97      0.98     32718\n",
      "           1       0.01      0.17      0.01        48\n",
      "\n",
      "    accuracy                           0.97     32766\n",
      "   macro avg       0.50      0.57      0.50     32766\n",
      "weighted avg       1.00      0.97      0.98     32766\n",
      "\n"
     ]
    }
   ],
   "source": [
    "for hosp in dict_df_X_train:\n",
    "    for sample in np.arange(0.1, 1.1, 0.1):\n",
    "        sm_ss = SMOTE(random_state=55,sampling_strategy=sample)\n",
    "        X_train_ss, y_train_ss = sm_ss.fit_sample(dict_df_X_train[hosp], dict_df_y_train[hosp])\n",
    "        \n",
    "        # Initiating the Gaussian Classifier\n",
    "        model = GaussianNB()\n",
    "        \n",
    "        # Training your model \n",
    "        model.fit(X_train_ss, y_train_ss)\n",
    "        print(model)\n",
    "        filename = file_dir + f'{hosp}_uc1_{sample}_smote_nb_model.pkl'\n",
    "        pickle.dump(model, open(filename, 'wb'))\n",
    "\n",
    "        # Score\n",
    "        print(f\"{hosp} Training set with {sample} SMOTE Naive Bayes score: {model.score(X_train_ss, y_train_ss)}\")\n",
    "        print(f\"{hosp} Test set with {sample} SMOTE Naive Bayes score: {model.score(dict_df_X_test[hosp], dict_df_y_test[hosp])}\")\n",
    "\n",
    "        # Confusion Matrix\n",
    "        y_pred = model.predict(dict_df_X_test[hosp])\n",
    "        print(hosp, 'Naive Bayes\\n', confusion_matrix(dict_df_y_test[hosp], y_pred))  \n",
    "        print(hosp, 'Naive Bayes\\n', classification_report(dict_df_y_test[hosp], y_pred)) "
   ]
  },
  {
   "cell_type": "markdown",
   "metadata": {
    "slideshow": {
     "slide_type": "-"
    }
   },
   "source": [
    "## NEURAL NET MLP"
   ]
  },
  {
   "cell_type": "markdown",
   "metadata": {},
   "source": [
    "### Neural Net MLP Without SMOTE, 2 Layers"
   ]
  },
  {
   "cell_type": "code",
   "execution_count": 39,
   "metadata": {},
   "outputs": [
    {
     "name": "stderr",
     "output_type": "stream",
     "text": [
      "/opt/conda/lib/python3.7/site-packages/ipykernel/ipkernel.py:287: DeprecationWarning: `should_run_async` will not call `transform_cell` automatically in the future. Please pass the result to `transformed_cell` argument and any exception that happen during thetransform in `preprocessing_exc_tuple` in IPython 7.17 and above.\n",
      "  and should_run_async(code)\n"
     ]
    }
   ],
   "source": [
    "from sklearn.neural_network import MLPClassifier  \n",
    "from sklearn import metrics"
   ]
  },
  {
   "cell_type": "code",
   "execution_count": 40,
   "metadata": {},
   "outputs": [],
   "source": [
    "list_hid_layers = [(128,128), (16,16,16), (32,32,32), (16,16,16,16), (32,32,32,32)]\n",
    "max_iter = 1000\n",
    "list_smote_sampling = [0.1, 0.2, 0.3, 0.5, 1.0]"
   ]
  },
  {
   "cell_type": "markdown",
   "metadata": {},
   "source": [
    "#### Neural Net MLPClassifier without SMOTE"
   ]
  },
  {
   "cell_type": "code",
   "execution_count": 42,
   "metadata": {},
   "outputs": [
    {
     "name": "stderr",
     "output_type": "stream",
     "text": [
      "/opt/conda/lib/python3.7/site-packages/ipykernel/ipkernel.py:287: DeprecationWarning: `should_run_async` will not call `transform_cell` automatically in the future. Please pass the result to `transformed_cell` argument and any exception that happen during thetransform in `preprocessing_exc_tuple` in IPython 7.17 and above.\n",
      "  and should_run_async(code)\n",
      "/opt/conda/lib/python3.7/site-packages/sklearn/utils/validation.py:72: DataConversionWarning: A column-vector y was passed when a 1d array was expected. Please change the shape of y to (n_samples, ), for example using ravel().\n",
      "  return f(**kwargs)\n"
     ]
    },
    {
     "name": "stdout",
     "output_type": "stream",
     "text": [
      "Iteration 1, loss = 0.02101287\n",
      "Iteration 2, loss = 0.00716405\n",
      "Iteration 3, loss = 0.00539036\n",
      "Iteration 4, loss = 0.00412206\n",
      "Iteration 5, loss = 0.00320090\n",
      "Iteration 6, loss = 0.00241303\n",
      "Iteration 7, loss = 0.00174643\n",
      "Iteration 8, loss = 0.00137889\n",
      "Iteration 9, loss = 0.00119085\n",
      "Iteration 10, loss = 0.00108489\n",
      "Iteration 11, loss = 0.00078143\n",
      "Iteration 12, loss = 0.00147814\n",
      "Iteration 13, loss = 0.00072232\n",
      "Iteration 14, loss = 0.00044839\n",
      "Iteration 15, loss = 0.00063368\n",
      "Iteration 16, loss = 0.00050779\n",
      "Iteration 17, loss = 0.00065495\n",
      "Iteration 18, loss = 0.00108227\n",
      "Iteration 19, loss = 0.00092085\n",
      "Iteration 20, loss = 0.00045970\n",
      "Iteration 21, loss = 0.00038900\n",
      "Iteration 22, loss = 0.00033709\n",
      "Iteration 23, loss = 0.00080756\n",
      "Iteration 24, loss = 0.00042463\n",
      "Iteration 25, loss = 0.00028148\n",
      "Training loss did not improve more than tol=0.000100 for 10 consecutive epochs. Stopping.\n",
      "MLPClassifier(hidden_layer_sizes=(128, 128), max_iter=1000, verbose=1)\n"
     ]
    },
    {
     "name": "stderr",
     "output_type": "stream",
     "text": [
      "/opt/conda/lib/python3.7/site-packages/ipykernel_launcher.py:7: ResourceWarning: unclosed file <_io.BufferedWriter name='./Data Exploration/data/uc1/MEH_uc1_no_smote_mlp_(128, 128)_model.pkl'>\n",
      "  import sys\n",
      "ResourceWarning: Enable tracemalloc to get the object allocation traceback\n"
     ]
    },
    {
     "name": "stdout",
     "output_type": "stream",
     "text": [
      "MEH Training set without SMOTE mlp (128, 128) score: 0.9999491332302434\n",
      "MEH Test set without SMOTE mlp (128, 128) score: 0.9976500030519441\n",
      "MEH Accuracy without SMOTE mlp (128, 128):  0.9976500030519441\n",
      "MEH mlp (128, 128)\n",
      " [[32682    36]\n",
      " [   41     7]]\n",
      "MEH mlp (128, 128)\n",
      "               precision    recall  f1-score   support\n",
      "\n",
      "           0       1.00      1.00      1.00     32718\n",
      "           1       0.16      0.15      0.15        48\n",
      "\n",
      "    accuracy                           1.00     32766\n",
      "   macro avg       0.58      0.57      0.58     32766\n",
      "weighted avg       1.00      1.00      1.00     32766\n",
      "\n"
     ]
    },
    {
     "name": "stderr",
     "output_type": "stream",
     "text": [
      "/opt/conda/lib/python3.7/site-packages/sklearn/utils/validation.py:72: DataConversionWarning: A column-vector y was passed when a 1d array was expected. Please change the shape of y to (n_samples, ), for example using ravel().\n",
      "  return f(**kwargs)\n"
     ]
    },
    {
     "name": "stdout",
     "output_type": "stream",
     "text": [
      "Iteration 1, loss = 0.06789802\n",
      "Iteration 2, loss = 0.00822022\n",
      "Iteration 3, loss = 0.00706622\n",
      "Iteration 4, loss = 0.00603118\n",
      "Iteration 5, loss = 0.00497731\n",
      "Iteration 6, loss = 0.00393405\n",
      "Iteration 7, loss = 0.00309192\n",
      "Iteration 8, loss = 0.00226587\n",
      "Iteration 9, loss = 0.00205956\n",
      "Iteration 10, loss = 0.00169320\n",
      "Iteration 11, loss = 0.00145155\n",
      "Iteration 12, loss = 0.00116440\n",
      "Iteration 13, loss = 0.00113052\n",
      "Iteration 14, loss = 0.00098866\n",
      "Iteration 15, loss = 0.00079912\n",
      "Iteration 16, loss = 0.00074153\n",
      "Iteration 17, loss = 0.00059514\n",
      "Iteration 18, loss = 0.00070819\n",
      "Iteration 19, loss = 0.00044824\n",
      "Iteration 20, loss = 0.00040585\n",
      "Iteration 21, loss = 0.00044160\n",
      "Iteration 22, loss = 0.00072279\n",
      "Iteration 23, loss = 0.00055272\n",
      "Iteration 24, loss = 0.00054776\n",
      "Iteration 25, loss = 0.00054208\n",
      "Iteration 26, loss = 0.00034517\n",
      "Iteration 27, loss = 0.00025512\n",
      "Iteration 28, loss = 0.00020390\n",
      "Iteration 29, loss = 0.00027746\n",
      "Iteration 30, loss = 0.00081271\n",
      "Training loss did not improve more than tol=0.000100 for 10 consecutive epochs. Stopping.\n",
      "MLPClassifier(hidden_layer_sizes=(16, 16, 16), max_iter=1000, verbose=1)\n"
     ]
    },
    {
     "name": "stderr",
     "output_type": "stream",
     "text": [
      "/opt/conda/lib/python3.7/site-packages/ipykernel_launcher.py:7: ResourceWarning: unclosed file <_io.BufferedWriter name='./Data Exploration/data/uc1/MEH_uc1_no_smote_mlp_(16, 16, 16)_model.pkl'>\n",
      "  import sys\n",
      "ResourceWarning: Enable tracemalloc to get the object allocation traceback\n"
     ]
    },
    {
     "name": "stdout",
     "output_type": "stream",
     "text": [
      "MEH Training set without SMOTE mlp (16, 16, 16) score: 0.9998677463986327\n",
      "MEH Test set without SMOTE mlp (16, 16, 16) score: 0.9970090947933834\n",
      "MEH Accuracy without SMOTE mlp (16, 16, 16):  0.9970090947933834\n",
      "MEH mlp (16, 16, 16)\n",
      " [[32660    58]\n",
      " [   40     8]]\n",
      "MEH mlp (16, 16, 16)\n",
      "               precision    recall  f1-score   support\n",
      "\n",
      "           0       1.00      1.00      1.00     32718\n",
      "           1       0.12      0.17      0.14        48\n",
      "\n",
      "    accuracy                           1.00     32766\n",
      "   macro avg       0.56      0.58      0.57     32766\n",
      "weighted avg       1.00      1.00      1.00     32766\n",
      "\n"
     ]
    },
    {
     "name": "stderr",
     "output_type": "stream",
     "text": [
      "/opt/conda/lib/python3.7/site-packages/sklearn/utils/validation.py:72: DataConversionWarning: A column-vector y was passed when a 1d array was expected. Please change the shape of y to (n_samples, ), for example using ravel().\n",
      "  return f(**kwargs)\n"
     ]
    },
    {
     "name": "stdout",
     "output_type": "stream",
     "text": [
      "Iteration 1, loss = 0.04444159\n",
      "Iteration 2, loss = 0.00740456\n",
      "Iteration 3, loss = 0.00582058\n",
      "Iteration 4, loss = 0.00450996\n",
      "Iteration 5, loss = 0.00334286\n",
      "Iteration 6, loss = 0.00265804\n",
      "Iteration 7, loss = 0.00189715\n",
      "Iteration 8, loss = 0.00202307\n",
      "Iteration 9, loss = 0.00133699\n",
      "Iteration 10, loss = 0.00091128\n",
      "Iteration 11, loss = 0.00102507\n",
      "Iteration 12, loss = 0.00104432\n",
      "Iteration 13, loss = 0.00073097\n",
      "Iteration 14, loss = 0.00071358\n",
      "Iteration 15, loss = 0.00042836\n",
      "Iteration 16, loss = 0.00061380\n",
      "Iteration 17, loss = 0.00059596\n",
      "Iteration 18, loss = 0.00035529\n",
      "Iteration 19, loss = 0.00050442\n",
      "Iteration 20, loss = 0.00023445\n",
      "Iteration 21, loss = 0.00023276\n",
      "Iteration 22, loss = 0.00020946\n",
      "Iteration 23, loss = 0.00042126\n",
      "Iteration 24, loss = 0.00184409\n",
      "Iteration 25, loss = 0.00076040\n",
      "Iteration 26, loss = 0.00039357\n",
      "Iteration 27, loss = 0.00024055\n",
      "Iteration 28, loss = 0.00029067\n",
      "Iteration 29, loss = 0.00024964\n",
      "Iteration 30, loss = 0.00049606\n",
      "Iteration 31, loss = 0.00101446\n",
      "Training loss did not improve more than tol=0.000100 for 10 consecutive epochs. Stopping.\n",
      "MLPClassifier(hidden_layer_sizes=(32, 32, 32), max_iter=1000, verbose=1)\n"
     ]
    },
    {
     "name": "stderr",
     "output_type": "stream",
     "text": [
      "/opt/conda/lib/python3.7/site-packages/ipykernel_launcher.py:7: ResourceWarning: unclosed file <_io.BufferedWriter name='./Data Exploration/data/uc1/MEH_uc1_no_smote_mlp_(32, 32, 32)_model.pkl'>\n",
      "  import sys\n",
      "ResourceWarning: Enable tracemalloc to get the object allocation traceback\n"
     ]
    },
    {
     "name": "stdout",
     "output_type": "stream",
     "text": [
      "MEH Training set without SMOTE mlp (32, 32, 32) score: 0.9997456661512167\n",
      "MEH Test set without SMOTE mlp (32, 32, 32) score: 0.9979857169016664\n",
      "MEH Accuracy without SMOTE mlp (32, 32, 32):  0.9979857169016664\n",
      "MEH mlp (32, 32, 32)\n",
      " [[32692    26]\n",
      " [   40     8]]\n",
      "MEH mlp (32, 32, 32)\n",
      "               precision    recall  f1-score   support\n",
      "\n",
      "           0       1.00      1.00      1.00     32718\n",
      "           1       0.24      0.17      0.20        48\n",
      "\n",
      "    accuracy                           1.00     32766\n",
      "   macro avg       0.62      0.58      0.60     32766\n",
      "weighted avg       1.00      1.00      1.00     32766\n",
      "\n"
     ]
    },
    {
     "name": "stderr",
     "output_type": "stream",
     "text": [
      "/opt/conda/lib/python3.7/site-packages/sklearn/utils/validation.py:72: DataConversionWarning: A column-vector y was passed when a 1d array was expected. Please change the shape of y to (n_samples, ), for example using ravel().\n",
      "  return f(**kwargs)\n"
     ]
    },
    {
     "name": "stdout",
     "output_type": "stream",
     "text": [
      "Iteration 1, loss = 0.06566999\n",
      "Iteration 2, loss = 0.00801204\n",
      "Iteration 3, loss = 0.00652584\n",
      "Iteration 4, loss = 0.00515012\n",
      "Iteration 5, loss = 0.00421346\n",
      "Iteration 6, loss = 0.00311610\n",
      "Iteration 7, loss = 0.00248521\n",
      "Iteration 8, loss = 0.00210037\n",
      "Iteration 9, loss = 0.00165770\n",
      "Iteration 10, loss = 0.00131529\n",
      "Iteration 11, loss = 0.00138868\n",
      "Iteration 12, loss = 0.00099773\n",
      "Iteration 13, loss = 0.00102964\n",
      "Iteration 14, loss = 0.00056576\n",
      "Iteration 15, loss = 0.00090751\n",
      "Iteration 16, loss = 0.00088894\n",
      "Iteration 17, loss = 0.00045154\n",
      "Iteration 18, loss = 0.00052089\n",
      "Iteration 19, loss = 0.00042833\n",
      "Iteration 20, loss = 0.00053939\n",
      "Iteration 21, loss = 0.00056549\n",
      "Iteration 22, loss = 0.00041835\n",
      "Iteration 23, loss = 0.00053943\n",
      "Iteration 24, loss = 0.00054510\n",
      "Iteration 25, loss = 0.00025361\n",
      "Iteration 26, loss = 0.00054151\n",
      "Iteration 27, loss = 0.00052861\n",
      "Iteration 28, loss = 0.00033540\n",
      "Iteration 29, loss = 0.00024705\n",
      "Iteration 30, loss = 0.00022973\n",
      "Iteration 31, loss = 0.00123790\n",
      "Iteration 32, loss = 0.00056505\n",
      "Iteration 33, loss = 0.00031527\n",
      "Iteration 34, loss = 0.00020329\n",
      "Iteration 35, loss = 0.00018849\n",
      "Iteration 36, loss = 0.00018188\n",
      "Training loss did not improve more than tol=0.000100 for 10 consecutive epochs. Stopping.\n",
      "MLPClassifier(hidden_layer_sizes=(16, 16, 16, 16), max_iter=1000, verbose=1)\n"
     ]
    },
    {
     "name": "stderr",
     "output_type": "stream",
     "text": [
      "/opt/conda/lib/python3.7/site-packages/ipykernel_launcher.py:7: ResourceWarning: unclosed file <_io.BufferedWriter name='./Data Exploration/data/uc1/MEH_uc1_no_smote_mlp_(16, 16, 16, 16)_model.pkl'>\n",
      "  import sys\n",
      "ResourceWarning: Enable tracemalloc to get the object allocation traceback\n"
     ]
    },
    {
     "name": "stdout",
     "output_type": "stream",
     "text": [
      "MEH Training set without SMOTE mlp (16, 16, 16, 16) score: 0.9999593065841946\n",
      "MEH Test set without SMOTE mlp (16, 16, 16, 16) score: 0.9977415613745956\n",
      "MEH Accuracy without SMOTE mlp (16, 16, 16, 16):  0.9977415613745956\n",
      "MEH mlp (16, 16, 16, 16)\n",
      " [[32684    34]\n",
      " [   40     8]]\n",
      "MEH mlp (16, 16, 16, 16)\n",
      "               precision    recall  f1-score   support\n",
      "\n",
      "           0       1.00      1.00      1.00     32718\n",
      "           1       0.19      0.17      0.18        48\n",
      "\n",
      "    accuracy                           1.00     32766\n",
      "   macro avg       0.59      0.58      0.59     32766\n",
      "weighted avg       1.00      1.00      1.00     32766\n",
      "\n"
     ]
    },
    {
     "name": "stderr",
     "output_type": "stream",
     "text": [
      "/opt/conda/lib/python3.7/site-packages/sklearn/utils/validation.py:72: DataConversionWarning: A column-vector y was passed when a 1d array was expected. Please change the shape of y to (n_samples, ), for example using ravel().\n",
      "  return f(**kwargs)\n"
     ]
    },
    {
     "name": "stdout",
     "output_type": "stream",
     "text": [
      "Iteration 1, loss = 0.03442338\n",
      "Iteration 2, loss = 0.00762449\n",
      "Iteration 3, loss = 0.00608600\n",
      "Iteration 4, loss = 0.00457675\n",
      "Iteration 5, loss = 0.00321350\n",
      "Iteration 6, loss = 0.00231014\n",
      "Iteration 7, loss = 0.00199519\n",
      "Iteration 8, loss = 0.00133859\n",
      "Iteration 9, loss = 0.00134106\n",
      "Iteration 10, loss = 0.00093357\n",
      "Iteration 11, loss = 0.00093577\n",
      "Iteration 12, loss = 0.00111958\n",
      "Iteration 13, loss = 0.00071130\n",
      "Iteration 14, loss = 0.00066756\n",
      "Iteration 15, loss = 0.00096795\n",
      "Iteration 16, loss = 0.00064621\n",
      "Iteration 17, loss = 0.00051670\n",
      "Iteration 18, loss = 0.00099584\n",
      "Iteration 19, loss = 0.00051737\n",
      "Iteration 20, loss = 0.00030266\n",
      "Iteration 21, loss = 0.00069540\n",
      "Iteration 22, loss = 0.00055556\n",
      "Iteration 23, loss = 0.00043789\n",
      "Iteration 24, loss = 0.00041169\n",
      "Iteration 25, loss = 0.00081335\n",
      "Iteration 26, loss = 0.00027091\n",
      "Iteration 27, loss = 0.00077129\n",
      "Iteration 28, loss = 0.00080127\n",
      "Iteration 29, loss = 0.00035613\n",
      "Iteration 30, loss = 0.00030453\n",
      "Iteration 31, loss = 0.00054378\n",
      "Training loss did not improve more than tol=0.000100 for 10 consecutive epochs. Stopping.\n",
      "MLPClassifier(hidden_layer_sizes=(32, 32, 32, 32), max_iter=1000, verbose=1)\n"
     ]
    },
    {
     "name": "stderr",
     "output_type": "stream",
     "text": [
      "/opt/conda/lib/python3.7/site-packages/ipykernel_launcher.py:7: ResourceWarning: unclosed file <_io.BufferedWriter name='./Data Exploration/data/uc1/MEH_uc1_no_smote_mlp_(32, 32, 32, 32)_model.pkl'>\n",
      "  import sys\n",
      "ResourceWarning: Enable tracemalloc to get the object allocation traceback\n"
     ]
    },
    {
     "name": "stdout",
     "output_type": "stream",
     "text": [
      "MEH Training set without SMOTE mlp (32, 32, 32, 32) score: 0.9998880931065354\n",
      "MEH Test set without SMOTE mlp (32, 32, 32, 32) score: 0.9981077946652017\n",
      "MEH Accuracy without SMOTE mlp (32, 32, 32, 32):  0.9981077946652017\n",
      "MEH mlp (32, 32, 32, 32)\n",
      " [[32699    19]\n",
      " [   43     5]]\n",
      "MEH mlp (32, 32, 32, 32)\n",
      "               precision    recall  f1-score   support\n",
      "\n",
      "           0       1.00      1.00      1.00     32718\n",
      "           1       0.21      0.10      0.14        48\n",
      "\n",
      "    accuracy                           1.00     32766\n",
      "   macro avg       0.60      0.55      0.57     32766\n",
      "weighted avg       1.00      1.00      1.00     32766\n",
      "\n"
     ]
    }
   ],
   "source": [
    "for hosp in dict_df_X_train:\n",
    "    for hid_layers in list_hid_layers:\n",
    "        model = MLPClassifier(hidden_layer_sizes=hid_layers, max_iter=max_iter,verbose=1)  \n",
    "        model.fit(dict_df_X_train[hosp], dict_df_y_train[hosp])\n",
    "        print(model)\n",
    "        filename = file_dir + f'{hosp}_uc1_no_smote_mlp_{hid_layers}_model.pkl'\n",
    "        pickle.dump(model, open(filename, 'wb'))\n",
    "\n",
    "        predictions = model.predict(dict_df_X_test[hosp]) \n",
    "\n",
    "        # Score\n",
    "        print(f\"{hosp} Training set without SMOTE mlp {hid_layers} score: {model.score(dict_df_X_train[hosp], dict_df_y_train[hosp])}\")\n",
    "        print(f\"{hosp} Test set without SMOTE mlp {hid_layers} score: {model.score(dict_df_X_test[hosp], dict_df_y_test[hosp])}\")\n",
    "\n",
    "        print(f\"{hosp} Accuracy without SMOTE mlp {hid_layers}: \", metrics.accuracy_score(dict_df_y_test[hosp], predictions))\n",
    "        print(hosp, f'mlp {hid_layers}\\n', confusion_matrix(dict_df_y_test[hosp],predictions))  \n",
    "        print(hosp, f'mlp {hid_layers}\\n', classification_report(dict_df_y_test[hosp],predictions))  "
   ]
  },
  {
   "cell_type": "markdown",
   "metadata": {},
   "source": [
    "### Neural Net With SMOTE"
   ]
  },
  {
   "cell_type": "code",
   "execution_count": 43,
   "metadata": {},
   "outputs": [
    {
     "name": "stderr",
     "output_type": "stream",
     "text": [
      "/opt/conda/lib/python3.7/site-packages/ipykernel/ipkernel.py:287: DeprecationWarning: `should_run_async` will not call `transform_cell` automatically in the future. Please pass the result to `transformed_cell` argument and any exception that happen during thetransform in `preprocessing_exc_tuple` in IPython 7.17 and above.\n",
      "  and should_run_async(code)\n"
     ]
    }
   ],
   "source": [
    "list_hid_layers = [(16,16), (32,32), (64,64), (128,128), (256,256),\n",
    "                   (16,16,16), (32,32,32), (64,64,64),\n",
    "                   (16,16,16,16), (32,32,32,32)]\n",
    "max_iter = 1000\n",
    "list_smote_sampling = [0.1, 0.2, 0.3, 0.5, 1.0]"
   ]
  },
  {
   "cell_type": "markdown",
   "metadata": {},
   "source": [
    "#### Neural Net Layers With SMOTE"
   ]
  },
  {
   "cell_type": "code",
   "execution_count": null,
   "metadata": {},
   "outputs": [
    {
     "name": "stderr",
     "output_type": "stream",
     "text": [
      "/opt/conda/lib/python3.7/site-packages/sklearn/utils/validation.py:72: DataConversionWarning: A column-vector y was passed when a 1d array was expected. Please change the shape of y to (n_samples, ), for example using ravel().\n",
      "  return f(**kwargs)\n"
     ]
    },
    {
     "name": "stdout",
     "output_type": "stream",
     "text": [
      "Iteration 1, loss = 0.08989510\n",
      "Iteration 2, loss = 0.00618101\n",
      "Iteration 3, loss = 0.00356185\n",
      "Iteration 4, loss = 0.00205993\n",
      "Iteration 5, loss = 0.00246881\n",
      "Iteration 6, loss = 0.00126704\n",
      "Iteration 7, loss = 0.00106518\n",
      "Iteration 8, loss = 0.00091591\n",
      "Iteration 9, loss = 0.00087449\n",
      "Iteration 10, loss = 0.00062633\n",
      "Iteration 11, loss = 0.00101437\n",
      "Iteration 12, loss = 0.00084768\n",
      "Iteration 13, loss = 0.00082735\n",
      "Iteration 14, loss = 0.00102561\n",
      "Iteration 15, loss = 0.00055801\n",
      "Iteration 16, loss = 0.00085213\n",
      "Iteration 17, loss = 0.00049818\n",
      "Iteration 18, loss = 0.00048643\n",
      "Iteration 19, loss = 0.00064849\n",
      "Iteration 20, loss = 0.00043327\n",
      "Iteration 21, loss = 0.00042428\n",
      "Training loss did not improve more than tol=0.000100 for 10 consecutive epochs. Stopping.\n",
      "MLPClassifier(hidden_layer_sizes=(16, 16), max_iter=1000, verbose=1)\n"
     ]
    },
    {
     "name": "stderr",
     "output_type": "stream",
     "text": [
      "/opt/conda/lib/python3.7/site-packages/ipykernel_launcher.py:11: ResourceWarning: unclosed file <_io.BufferedWriter name='./Data Exploration/data/uc1/MEH_uc1_0.1_smote_mlp_(16, 16)_model.pkl'>\n",
      "  # This is added back by InteractiveShellApp.init_path()\n",
      "ResourceWarning: Enable tracemalloc to get the object allocation traceback\n"
     ]
    },
    {
     "name": "stdout",
     "output_type": "stream",
     "text": [
      "MEH Training set 0.1 SMOTE mlp (16, 16) score: 0.9999536822603057\n",
      "MEH Test set 0.1 SMOTE mlp (16, 16) score: 0.9974363669657572\n",
      "MEH Accuracy:  0.9974363669657572\n",
      "MEH mlp (16, 16)\n",
      " [[32676    42]\n",
      " [   42     6]]\n",
      "MEH mlp (16, 16)\n",
      "               precision    recall  f1-score   support\n",
      "\n",
      "           0       1.00      1.00      1.00     32718\n",
      "           1       0.12      0.12      0.12        48\n",
      "\n",
      "    accuracy                           1.00     32766\n",
      "   macro avg       0.56      0.56      0.56     32766\n",
      "weighted avg       1.00      1.00      1.00     32766\n",
      "\n"
     ]
    },
    {
     "name": "stderr",
     "output_type": "stream",
     "text": [
      "/opt/conda/lib/python3.7/site-packages/sklearn/utils/validation.py:72: DataConversionWarning: A column-vector y was passed when a 1d array was expected. Please change the shape of y to (n_samples, ), for example using ravel().\n",
      "  return f(**kwargs)\n"
     ]
    },
    {
     "name": "stdout",
     "output_type": "stream",
     "text": [
      "Iteration 1, loss = 0.09528137\n",
      "Iteration 2, loss = 0.00627094\n",
      "Iteration 3, loss = 0.00350778\n",
      "Iteration 4, loss = 0.00196919\n",
      "Iteration 5, loss = 0.00148538\n",
      "Iteration 6, loss = 0.00120372\n",
      "Iteration 7, loss = 0.00190121\n",
      "Iteration 8, loss = 0.00081076\n",
      "Iteration 9, loss = 0.00074236\n",
      "Iteration 10, loss = 0.00069838\n",
      "Iteration 11, loss = 0.00066888\n",
      "Iteration 12, loss = 0.00084199\n",
      "Iteration 13, loss = 0.00056953\n",
      "Iteration 14, loss = 0.00055966\n",
      "Iteration 15, loss = 0.00083902\n",
      "Iteration 16, loss = 0.00104202\n",
      "Iteration 17, loss = 0.00052162\n",
      "Iteration 18, loss = 0.00062377\n",
      "Iteration 19, loss = 0.00048511\n",
      "Training loss did not improve more than tol=0.000100 for 10 consecutive epochs. Stopping.\n",
      "MLPClassifier(hidden_layer_sizes=(16, 16), max_iter=1000, verbose=1)\n"
     ]
    },
    {
     "name": "stderr",
     "output_type": "stream",
     "text": [
      "/opt/conda/lib/python3.7/site-packages/ipykernel_launcher.py:11: ResourceWarning: unclosed file <_io.BufferedWriter name='./Data Exploration/data/uc1/MEH_uc1_0.2_smote_mlp_(16, 16)_model.pkl'>\n",
      "  # This is added back by InteractiveShellApp.init_path()\n",
      "ResourceWarning: Enable tracemalloc to get the object allocation traceback\n"
     ]
    },
    {
     "name": "stdout",
     "output_type": "stream",
     "text": [
      "MEH Training set 0.2 SMOTE mlp (16, 16) score: 0.9999490506436602\n",
      "MEH Test set 0.2 SMOTE mlp (16, 16) score: 0.9977415613745956\n",
      "MEH Accuracy:  0.9977415613745956\n",
      "MEH mlp (16, 16)\n",
      " [[32685    33]\n",
      " [   41     7]]\n",
      "MEH mlp (16, 16)\n",
      "               precision    recall  f1-score   support\n",
      "\n",
      "           0       1.00      1.00      1.00     32718\n",
      "           1       0.17      0.15      0.16        48\n",
      "\n",
      "    accuracy                           1.00     32766\n",
      "   macro avg       0.59      0.57      0.58     32766\n",
      "weighted avg       1.00      1.00      1.00     32766\n",
      "\n"
     ]
    },
    {
     "name": "stderr",
     "output_type": "stream",
     "text": [
      "/opt/conda/lib/python3.7/site-packages/sklearn/utils/validation.py:72: DataConversionWarning: A column-vector y was passed when a 1d array was expected. Please change the shape of y to (n_samples, ), for example using ravel().\n",
      "  return f(**kwargs)\n"
     ]
    },
    {
     "name": "stdout",
     "output_type": "stream",
     "text": [
      "Iteration 1, loss = 0.08505970\n",
      "Iteration 2, loss = 0.00607283\n",
      "Iteration 3, loss = 0.00292435\n",
      "Iteration 4, loss = 0.00212381\n",
      "Iteration 5, loss = 0.00143357\n",
      "Iteration 6, loss = 0.00130496\n",
      "Iteration 7, loss = 0.00170064\n",
      "Iteration 8, loss = 0.00078977\n",
      "Iteration 9, loss = 0.00071328\n",
      "Iteration 10, loss = 0.00089722\n",
      "Iteration 11, loss = 0.00070550\n",
      "Iteration 12, loss = 0.00098597\n",
      "Iteration 13, loss = 0.00071358\n",
      "Iteration 14, loss = 0.00102989\n",
      "Iteration 15, loss = 0.00046521\n",
      "Iteration 16, loss = 0.00050723\n",
      "Iteration 17, loss = 0.00044660\n",
      "Iteration 18, loss = 0.00043605\n",
      "Iteration 19, loss = 0.00088776\n",
      "Iteration 20, loss = 0.00058189\n",
      "Iteration 21, loss = 0.00054988\n",
      "Iteration 22, loss = 0.00095062\n",
      "Iteration 23, loss = 0.00079496\n",
      "Iteration 24, loss = 0.00039649\n",
      "Iteration 25, loss = 0.00038083\n",
      "Iteration 26, loss = 0.00040321\n",
      "Training loss did not improve more than tol=0.000100 for 10 consecutive epochs. Stopping.\n",
      "MLPClassifier(hidden_layer_sizes=(16, 16), max_iter=1000, verbose=1)\n"
     ]
    },
    {
     "name": "stderr",
     "output_type": "stream",
     "text": [
      "/opt/conda/lib/python3.7/site-packages/ipykernel_launcher.py:11: ResourceWarning: unclosed file <_io.BufferedWriter name='./Data Exploration/data/uc1/MEH_uc1_0.3_smote_mlp_(16, 16)_model.pkl'>\n",
      "  # This is added back by InteractiveShellApp.init_path()\n",
      "ResourceWarning: Enable tracemalloc to get the object allocation traceback\n"
     ]
    },
    {
     "name": "stdout",
     "output_type": "stream",
     "text": [
      "MEH Training set 0.3 SMOTE mlp (16, 16) score: 0.9999608082898306\n",
      "MEH Test set 0.3 SMOTE mlp (16, 16) score: 0.9979246780198987\n",
      "MEH Accuracy:  0.9979246780198987\n",
      "MEH mlp (16, 16)\n",
      " [[32692    26]\n",
      " [   42     6]]\n",
      "MEH mlp (16, 16)\n",
      "               precision    recall  f1-score   support\n",
      "\n",
      "           0       1.00      1.00      1.00     32718\n",
      "           1       0.19      0.12      0.15        48\n",
      "\n",
      "    accuracy                           1.00     32766\n",
      "   macro avg       0.59      0.56      0.57     32766\n",
      "weighted avg       1.00      1.00      1.00     32766\n",
      "\n"
     ]
    },
    {
     "name": "stderr",
     "output_type": "stream",
     "text": [
      "/opt/conda/lib/python3.7/site-packages/sklearn/utils/validation.py:72: DataConversionWarning: A column-vector y was passed when a 1d array was expected. Please change the shape of y to (n_samples, ), for example using ravel().\n",
      "  return f(**kwargs)\n"
     ]
    },
    {
     "name": "stdout",
     "output_type": "stream",
     "text": [
      "Iteration 1, loss = 0.07614427\n",
      "Iteration 2, loss = 0.00522937\n",
      "Iteration 3, loss = 0.00286518\n",
      "Iteration 4, loss = 0.00189945\n",
      "Iteration 5, loss = 0.00167126\n",
      "Iteration 6, loss = 0.00113094\n",
      "Iteration 7, loss = 0.00121508\n",
      "Iteration 8, loss = 0.00077165\n",
      "Iteration 9, loss = 0.00067622\n",
      "Iteration 10, loss = 0.00099715\n",
      "Iteration 11, loss = 0.00059119\n",
      "Iteration 12, loss = 0.00106507\n",
      "Iteration 13, loss = 0.00063934\n",
      "Iteration 14, loss = 0.00061953\n",
      "Iteration 15, loss = 0.00093012\n",
      "Iteration 16, loss = 0.00060852\n",
      "Iteration 17, loss = 0.00042711\n",
      "Iteration 18, loss = 0.00045168\n",
      "Iteration 19, loss = 0.00040171\n",
      "Iteration 20, loss = 0.00125753\n",
      "Iteration 21, loss = 0.00043144\n",
      "Iteration 22, loss = 0.00039848\n",
      "Iteration 23, loss = 0.00155844\n",
      "Iteration 24, loss = 0.00050208\n",
      "Iteration 25, loss = 0.00040075\n",
      "Iteration 26, loss = 0.00067702\n",
      "Iteration 27, loss = 0.00060624\n",
      "Iteration 28, loss = 0.00041925\n",
      "Training loss did not improve more than tol=0.000100 for 10 consecutive epochs. Stopping.\n",
      "MLPClassifier(hidden_layer_sizes=(16, 16), max_iter=1000, verbose=1)\n"
     ]
    },
    {
     "name": "stderr",
     "output_type": "stream",
     "text": [
      "/opt/conda/lib/python3.7/site-packages/ipykernel_launcher.py:11: ResourceWarning: unclosed file <_io.BufferedWriter name='./Data Exploration/data/uc1/MEH_uc1_0.5_smote_mlp_(16, 16)_model.pkl'>\n",
      "  # This is added back by InteractiveShellApp.init_path()\n",
      "ResourceWarning: Enable tracemalloc to get the object allocation traceback\n"
     ]
    },
    {
     "name": "stdout",
     "output_type": "stream",
     "text": [
      "MEH Training set 0.5 SMOTE mlp (16, 16) score: 0.9999660337624401\n",
      "MEH Test set 0.5 SMOTE mlp (16, 16) score: 0.9978331196972472\n",
      "MEH Accuracy:  0.9978331196972472\n",
      "MEH mlp (16, 16)\n",
      " [[32690    28]\n",
      " [   43     5]]\n",
      "MEH mlp (16, 16)\n",
      "               precision    recall  f1-score   support\n",
      "\n",
      "           0       1.00      1.00      1.00     32718\n",
      "           1       0.15      0.10      0.12        48\n",
      "\n",
      "    accuracy                           1.00     32766\n",
      "   macro avg       0.58      0.55      0.56     32766\n",
      "weighted avg       1.00      1.00      1.00     32766\n",
      "\n"
     ]
    },
    {
     "name": "stderr",
     "output_type": "stream",
     "text": [
      "/opt/conda/lib/python3.7/site-packages/sklearn/utils/validation.py:72: DataConversionWarning: A column-vector y was passed when a 1d array was expected. Please change the shape of y to (n_samples, ), for example using ravel().\n",
      "  return f(**kwargs)\n"
     ]
    },
    {
     "name": "stdout",
     "output_type": "stream",
     "text": [
      "Iteration 1, loss = 0.05410960\n",
      "Iteration 2, loss = 0.00353588\n",
      "Iteration 3, loss = 0.00191377\n",
      "Iteration 4, loss = 0.00137174\n",
      "Iteration 5, loss = 0.00129484\n",
      "Iteration 6, loss = 0.00089786\n",
      "Iteration 7, loss = 0.00066515\n",
      "Iteration 8, loss = 0.00107703\n",
      "Iteration 9, loss = 0.00052350\n",
      "Iteration 10, loss = 0.00047788\n",
      "Iteration 11, loss = 0.00071060\n",
      "Iteration 12, loss = 0.00098663\n",
      "Iteration 13, loss = 0.00053829\n",
      "Iteration 14, loss = 0.00040309\n",
      "Iteration 15, loss = 0.00062432\n",
      "Iteration 16, loss = 0.00050932\n",
      "Iteration 17, loss = 0.00044497\n",
      "Iteration 18, loss = 0.00035744\n",
      "Iteration 19, loss = 0.00052215\n",
      "Iteration 20, loss = 0.00037557\n",
      "Training loss did not improve more than tol=0.000100 for 10 consecutive epochs. Stopping.\n",
      "MLPClassifier(hidden_layer_sizes=(16, 16), max_iter=1000, verbose=1)\n"
     ]
    },
    {
     "name": "stderr",
     "output_type": "stream",
     "text": [
      "/opt/conda/lib/python3.7/site-packages/ipykernel_launcher.py:11: ResourceWarning: unclosed file <_io.BufferedWriter name='./Data Exploration/data/uc1/MEH_uc1_1.0_smote_mlp_(16, 16)_model.pkl'>\n",
      "  # This is added back by InteractiveShellApp.init_path()\n",
      "ResourceWarning: Enable tracemalloc to get the object allocation traceback\n"
     ]
    },
    {
     "name": "stdout",
     "output_type": "stream",
     "text": [
      "MEH Training set 1.0 SMOTE mlp (16, 16) score: 0.9999694304900293\n",
      "MEH Test set 1.0 SMOTE mlp (16, 16) score: 0.9977720808154794\n",
      "MEH Accuracy:  0.9977720808154794\n",
      "MEH mlp (16, 16)\n",
      " [[32689    29]\n",
      " [   44     4]]\n",
      "MEH mlp (16, 16)\n",
      "               precision    recall  f1-score   support\n",
      "\n",
      "           0       1.00      1.00      1.00     32718\n",
      "           1       0.12      0.08      0.10        48\n",
      "\n",
      "    accuracy                           1.00     32766\n",
      "   macro avg       0.56      0.54      0.55     32766\n",
      "weighted avg       1.00      1.00      1.00     32766\n",
      "\n"
     ]
    },
    {
     "name": "stderr",
     "output_type": "stream",
     "text": [
      "/opt/conda/lib/python3.7/site-packages/sklearn/utils/validation.py:72: DataConversionWarning: A column-vector y was passed when a 1d array was expected. Please change the shape of y to (n_samples, ), for example using ravel().\n",
      "  return f(**kwargs)\n"
     ]
    },
    {
     "name": "stdout",
     "output_type": "stream",
     "text": [
      "Iteration 1, loss = 0.06801018\n",
      "Iteration 2, loss = 0.00447057\n",
      "Iteration 3, loss = 0.00242161\n",
      "Iteration 4, loss = 0.00136983\n",
      "Iteration 5, loss = 0.00095705\n",
      "Iteration 6, loss = 0.00175784\n",
      "Iteration 7, loss = 0.00078899\n",
      "Iteration 8, loss = 0.00061165\n",
      "Iteration 9, loss = 0.00191050\n",
      "Iteration 10, loss = 0.00056298\n",
      "Iteration 11, loss = 0.00050060\n",
      "Iteration 12, loss = 0.00098673\n",
      "Iteration 13, loss = 0.00107443\n",
      "Iteration 14, loss = 0.00046951\n",
      "Iteration 15, loss = 0.00042761\n",
      "Iteration 13, loss = 0.00094133\n",
      "Iteration 14, loss = 0.00060533\n",
      "Iteration 15, loss = 0.00046476\n",
      "Iteration 16, loss = 0.00049700\n",
      "Iteration 17, loss = 0.00042231\n",
      "Iteration 18, loss = 0.00043036\n",
      "Iteration 19, loss = 0.00095211\n",
      "Training loss did not improve more than tol=0.000100 for 10 consecutive epochs. Stopping.\n",
      "MLPClassifier(hidden_layer_sizes=(32, 32), max_iter=1000, verbose=1)\n"
     ]
    },
    {
     "name": "stderr",
     "output_type": "stream",
     "text": [
      "/opt/conda/lib/python3.7/site-packages/ipykernel_launcher.py:11: ResourceWarning: unclosed file <_io.BufferedWriter name='./Data Exploration/data/uc1/MEH_uc1_0.2_smote_mlp_(32, 32)_model.pkl'>\n",
      "  # This is added back by InteractiveShellApp.init_path()\n",
      "ResourceWarning: Enable tracemalloc to get the object allocation traceback\n"
     ]
    },
    {
     "name": "stdout",
     "output_type": "stream",
     "text": [
      "MEH Training set 0.2 SMOTE mlp (32, 32) score: 0.9999575422030502\n",
      "MEH Test set 0.2 SMOTE mlp (32, 32) score: 0.9976805224928279\n",
      "MEH Accuracy:  0.9976805224928279\n",
      "MEH mlp (32, 32)\n",
      " [[32685    33]\n",
      " [   43     5]]\n",
      "MEH mlp (32, 32)\n",
      "               precision    recall  f1-score   support\n",
      "\n",
      "           0       1.00      1.00      1.00     32718\n",
      "           1       0.13      0.10      0.12        48\n",
      "\n",
      "    accuracy                           1.00     32766\n",
      "   macro avg       0.57      0.55      0.56     32766\n",
      "weighted avg       1.00      1.00      1.00     32766\n",
      "\n"
     ]
    },
    {
     "name": "stderr",
     "output_type": "stream",
     "text": [
      "/opt/conda/lib/python3.7/site-packages/sklearn/utils/validation.py:72: DataConversionWarning: A column-vector y was passed when a 1d array was expected. Please change the shape of y to (n_samples, ), for example using ravel().\n",
      "  return f(**kwargs)\n"
     ]
    },
    {
     "name": "stdout",
     "output_type": "stream",
     "text": [
      "Iteration 1, loss = 0.06451399\n",
      "Iteration 2, loss = 0.00454747\n",
      "Iteration 3, loss = 0.00331691\n",
      "Iteration 4, loss = 0.00152371\n",
      "Iteration 5, loss = 0.00122111\n",
      "Iteration 6, loss = 0.00083233\n",
      "Iteration 7, loss = 0.00062370\n",
      "Iteration 8, loss = 0.00075949\n",
      "Iteration 9, loss = 0.00121018\n",
      "Iteration 10, loss = 0.00116070\n",
      "Iteration 11, loss = 0.00058226\n",
      "Iteration 12, loss = 0.00048958\n",
      "Iteration 13, loss = 0.00044876\n",
      "Iteration 14, loss = 0.00062012\n",
      "Iteration 15, loss = 0.00095288\n",
      "Iteration 16, loss = 0.00075846\n",
      "Iteration 17, loss = 0.00052988\n",
      "Iteration 18, loss = 0.00043581\n",
      "Training loss did not improve more than tol=0.000100 for 10 consecutive epochs. Stopping.\n",
      "MLPClassifier(hidden_layer_sizes=(32, 32), max_iter=1000, verbose=1)\n"
     ]
    },
    {
     "name": "stderr",
     "output_type": "stream",
     "text": [
      "/opt/conda/lib/python3.7/site-packages/ipykernel_launcher.py:11: ResourceWarning: unclosed file <_io.BufferedWriter name='./Data Exploration/data/uc1/MEH_uc1_0.3_smote_mlp_(32, 32)_model.pkl'>\n",
      "  # This is added back by InteractiveShellApp.init_path()\n",
      "ResourceWarning: Enable tracemalloc to get the object allocation traceback\n"
     ]
    },
    {
     "name": "stdout",
     "output_type": "stream",
     "text": [
      "MEH Training set 0.3 SMOTE mlp (32, 32) score: 0.9999529699477966\n",
      "MEH Test set 0.3 SMOTE mlp (32, 32) score: 0.9979857169016664\n",
      "MEH Accuracy:  0.9979857169016664\n",
      "MEH mlp (32, 32)\n",
      " [[32695    23]\n",
      " [   43     5]]\n",
      "MEH mlp (32, 32)\n",
      "               precision    recall  f1-score   support\n",
      "\n",
      "           0       1.00      1.00      1.00     32718\n",
      "           1       0.18      0.10      0.13        48\n",
      "\n",
      "    accuracy                           1.00     32766\n",
      "   macro avg       0.59      0.55      0.57     32766\n",
      "weighted avg       1.00      1.00      1.00     32766\n",
      "\n"
     ]
    },
    {
     "name": "stderr",
     "output_type": "stream",
     "text": [
      "/opt/conda/lib/python3.7/site-packages/sklearn/utils/validation.py:72: DataConversionWarning: A column-vector y was passed when a 1d array was expected. Please change the shape of y to (n_samples, ), for example using ravel().\n",
      "  return f(**kwargs)\n"
     ]
    },
    {
     "name": "stdout",
     "output_type": "stream",
     "text": [
      "Iteration 1, loss = 0.05455407\n",
      "Iteration 2, loss = 0.00423891\n",
      "Iteration 3, loss = 0.00223674\n",
      "Iteration 4, loss = 0.00151645\n",
      "Iteration 5, loss = 0.00135869\n",
      "Iteration 6, loss = 0.00084488\n",
      "Iteration 7, loss = 0.00102225\n",
      "Iteration 8, loss = 0.00099447\n",
      "Iteration 9, loss = 0.00061014\n",
      "Iteration 10, loss = 0.00077753\n",
      "Iteration 11, loss = 0.00092833\n",
      "Iteration 12, loss = 0.00046813\n",
      "Iteration 13, loss = 0.00049312\n",
      "Iteration 14, loss = 0.00051233\n",
      "Iteration 15, loss = 0.00104409\n",
      "Iteration 16, loss = 0.00046181\n",
      "Iteration 17, loss = 0.00123530\n",
      "Iteration 18, loss = 0.00050126\n",
      "Iteration 19, loss = 0.00059627\n",
      "Iteration 20, loss = 0.00042490\n",
      "Iteration 21, loss = 0.00044640\n",
      "Iteration 22, loss = 0.00040027\n",
      "Iteration 23, loss = 0.00050029\n",
      "Training loss did not improve more than tol=0.000100 for 10 consecutive epochs. Stopping.\n",
      "MLPClassifier(hidden_layer_sizes=(32, 32), max_iter=1000, verbose=1)\n"
     ]
    },
    {
     "name": "stderr",
     "output_type": "stream",
     "text": [
      "/opt/conda/lib/python3.7/site-packages/ipykernel_launcher.py:11: ResourceWarning: unclosed file <_io.BufferedWriter name='./Data Exploration/data/uc1/MEH_uc1_0.5_smote_mlp_(32, 32)_model.pkl'>\n",
      "  # This is added back by InteractiveShellApp.init_path()\n",
      "ResourceWarning: Enable tracemalloc to get the object allocation traceback\n"
     ]
    },
    {
     "name": "stdout",
     "output_type": "stream",
     "text": [
      "MEH Training set 0.5 SMOTE mlp (32, 32) score: 0.9994497469515302\n",
      "MEH Test set 0.5 SMOTE mlp (32, 32) score: 0.9966428615027773\n",
      "MEH Accuracy:  0.9966428615027773\n",
      "MEH mlp (32, 32)\n",
      " [[32647    71]\n",
      " [   39     9]]\n",
      "MEH mlp (32, 32)\n",
      "               precision    recall  f1-score   support\n",
      "\n",
      "           0       1.00      1.00      1.00     32718\n",
      "           1       0.11      0.19      0.14        48\n",
      "\n",
      "    accuracy                           1.00     32766\n",
      "   macro avg       0.56      0.59      0.57     32766\n",
      "weighted avg       1.00      1.00      1.00     32766\n",
      "\n"
     ]
    },
    {
     "name": "stderr",
     "output_type": "stream",
     "text": [
      "/opt/conda/lib/python3.7/site-packages/sklearn/utils/validation.py:72: DataConversionWarning: A column-vector y was passed when a 1d array was expected. Please change the shape of y to (n_samples, ), for example using ravel().\n",
      "  return f(**kwargs)\n"
     ]
    },
    {
     "name": "stdout",
     "output_type": "stream",
     "text": [
      "Iteration 1, loss = 0.04377111\n",
      "Iteration 2, loss = 0.00328353\n",
      "Iteration 3, loss = 0.00149229\n",
      "Iteration 4, loss = 0.00135632\n",
      "Iteration 5, loss = 0.00090532\n",
      "Iteration 6, loss = 0.00060676\n",
      "Iteration 7, loss = 0.00112599\n",
      "Iteration 8, loss = 0.00070467\n",
      "Iteration 9, loss = 0.00062432\n",
      "Iteration 10, loss = 0.00045703\n",
      "Iteration 11, loss = 0.00059821\n",
      "Iteration 12, loss = 0.00058432\n",
      "Iteration 13, loss = 0.00070978\n",
      "Iteration 14, loss = 0.00050113\n",
      "Iteration 15, loss = 0.00040969\n",
      "Iteration 16, loss = 0.00036208\n",
      "Iteration 17, loss = 0.00105399\n",
      "Iteration 18, loss = 0.00043281\n",
      "Iteration 19, loss = 0.00080935\n",
      "Iteration 20, loss = 0.00040599\n",
      "Iteration 21, loss = 0.00037406\n",
      "Training loss did not improve more than tol=0.000100 for 10 consecutive epochs. Stopping.\n",
      "MLPClassifier(hidden_layer_sizes=(32, 32), max_iter=1000, verbose=1)\n"
     ]
    },
    {
     "name": "stderr",
     "output_type": "stream",
     "text": [
      "/opt/conda/lib/python3.7/site-packages/ipykernel_launcher.py:11: ResourceWarning: unclosed file <_io.BufferedWriter name='./Data Exploration/data/uc1/MEH_uc1_1.0_smote_mlp_(32, 32)_model.pkl'>\n",
      "  # This is added back by InteractiveShellApp.init_path()\n",
      "ResourceWarning: Enable tracemalloc to get the object allocation traceback\n"
     ]
    },
    {
     "name": "stdout",
     "output_type": "stream",
     "text": [
      "MEH Training set 1.0 SMOTE mlp (32, 32) score: 0.9999745254083577\n",
      "MEH Test set 1.0 SMOTE mlp (32, 32) score: 0.9982603918696209\n",
      "MEH Accuracy:  0.9982603918696209\n",
      "MEH mlp (32, 32)\n",
      " [[32704    14]\n",
      " [   43     5]]\n",
      "MEH mlp (32, 32)\n",
      "               precision    recall  f1-score   support\n",
      "\n",
      "           0       1.00      1.00      1.00     32718\n",
      "           1       0.26      0.10      0.15        48\n",
      "\n",
      "    accuracy                           1.00     32766\n",
      "   macro avg       0.63      0.55      0.57     32766\n",
      "weighted avg       1.00      1.00      1.00     32766\n",
      "\n"
     ]
    },
    {
     "name": "stderr",
     "output_type": "stream",
     "text": [
      "/opt/conda/lib/python3.7/site-packages/sklearn/utils/validation.py:72: DataConversionWarning: A column-vector y was passed when a 1d array was expected. Please change the shape of y to (n_samples, ), for example using ravel().\n",
      "  return f(**kwargs)\n"
     ]
    },
    {
     "name": "stdout",
     "output_type": "stream",
     "text": [
      "Iteration 1, loss = 0.05035714\n",
      "Iteration 2, loss = 0.00372307\n",
      "Iteration 3, loss = 0.00144845\n",
      "Iteration 4, loss = 0.00158730\n",
      "Iteration 5, loss = 0.00111625\n",
      "Iteration 6, loss = 0.00058354\n",
      "Iteration 7, loss = 0.00052593\n",
      "Iteration 8, loss = 0.00067565\n",
      "Iteration 9, loss = 0.00222331\n",
      "Iteration 10, loss = 0.00056159\n",
      "Iteration 11, loss = 0.00054510\n",
      "Iteration 12, loss = 0.00084451\n",
      "Iteration 13, loss = 0.00054403\n",
      "Iteration 14, loss = 0.00045789\n",
      "Iteration 15, loss = 0.00041086\n",
      "Iteration 16, loss = 0.00048055\n",
      "Iteration 17, loss = 0.00113891\n",
      "Training loss did not improve more than tol=0.000100 for 10 consecutive epochs. Stopping.\n",
      "MLPClassifier(hidden_layer_sizes=(64, 64), max_iter=1000, verbose=1)\n"
     ]
    },
    {
     "name": "stderr",
     "output_type": "stream",
     "text": [
      "/opt/conda/lib/python3.7/site-packages/ipykernel_launcher.py:11: ResourceWarning: unclosed file <_io.BufferedWriter name='./Data Exploration/data/uc1/MEH_uc1_0.1_smote_mlp_(64, 64)_model.pkl'>\n",
      "  # This is added back by InteractiveShellApp.init_path()\n",
      "ResourceWarning: Enable tracemalloc to get the object allocation traceback\n"
     ]
    },
    {
     "name": "stdout",
     "output_type": "stream",
     "text": [
      "MEH Training set 0.1 SMOTE mlp (64, 64) score: 0.9993700787401575\n",
      "MEH Test set 0.1 SMOTE mlp (64, 64) score: 0.9967039003845449\n",
      "MEH Accuracy:  0.9967039003845449\n",
      "MEH mlp (64, 64)\n",
      " [[32647    71]\n",
      " [   37    11]]\n",
      "MEH mlp (64, 64)\n",
      "               precision    recall  f1-score   support\n",
      "\n",
      "           0       1.00      1.00      1.00     32718\n",
      "           1       0.13      0.23      0.17        48\n",
      "\n",
      "    accuracy                           1.00     32766\n",
      "   macro avg       0.57      0.61      0.58     32766\n",
      "weighted avg       1.00      1.00      1.00     32766\n",
      "\n"
     ]
    },
    {
     "name": "stderr",
     "output_type": "stream",
     "text": [
      "/opt/conda/lib/python3.7/site-packages/sklearn/utils/validation.py:72: DataConversionWarning: A column-vector y was passed when a 1d array was expected. Please change the shape of y to (n_samples, ), for example using ravel().\n",
      "  return f(**kwargs)\n"
     ]
    },
    {
     "name": "stdout",
     "output_type": "stream",
     "text": [
      "Iteration 1, loss = 0.04561024\n",
      "Iteration 2, loss = 0.00359568\n",
      "Iteration 3, loss = 0.00167961\n",
      "Iteration 4, loss = 0.00093885\n",
      "Iteration 5, loss = 0.00140516\n",
      "Iteration 6, loss = 0.00128185\n",
      "Iteration 7, loss = 0.00090828\n",
      "Iteration 8, loss = 0.00071992\n",
      "Iteration 9, loss = 0.00059948\n",
      "Iteration 10, loss = 0.00053692\n",
      "Iteration 11, loss = 0.00113174\n",
      "Iteration 12, loss = 0.00050363\n",
      "Iteration 13, loss = 0.00047098\n",
      "Iteration 14, loss = 0.00055001\n",
      "Iteration 15, loss = 0.00179262\n",
      "Iteration 16, loss = 0.00049628\n",
      "Iteration 17, loss = 0.00041640\n",
      "Iteration 18, loss = 0.00046641\n",
      "Iteration 19, loss = 0.00092322\n",
      "Iteration 20, loss = 0.00051970\n",
      "Training loss did not improve more than tol=0.000100 for 10 consecutive epochs. Stopping.\n",
      "MLPClassifier(hidden_layer_sizes=(64, 64), max_iter=1000, verbose=1)\n"
     ]
    },
    {
     "name": "stderr",
     "output_type": "stream",
     "text": [
      "/opt/conda/lib/python3.7/site-packages/ipykernel_launcher.py:11: ResourceWarning: unclosed file <_io.BufferedWriter name='./Data Exploration/data/uc1/MEH_uc1_0.2_smote_mlp_(64, 64)_model.pkl'>\n",
      "  # This is added back by InteractiveShellApp.init_path()\n",
      "ResourceWarning: Enable tracemalloc to get the object allocation traceback\n"
     ]
    },
    {
     "name": "stdout",
     "output_type": "stream",
     "text": [
      "MEH Training set 0.2 SMOTE mlp (64, 64) score: 0.9999575422030502\n",
      "MEH Test set 0.2 SMOTE mlp (64, 64) score: 0.9982298724287371\n",
      "MEH Accuracy:  0.9982298724287371\n",
      "MEH mlp (64, 64)\n",
      " [[32704    14]\n",
      " [   44     4]]\n",
      "MEH mlp (64, 64)\n",
      "               precision    recall  f1-score   support\n",
      "\n",
      "           0       1.00      1.00      1.00     32718\n",
      "           1       0.22      0.08      0.12        48\n",
      "\n",
      "    accuracy                           1.00     32766\n",
      "   macro avg       0.61      0.54      0.56     32766\n",
      "weighted avg       1.00      1.00      1.00     32766\n",
      "\n"
     ]
    },
    {
     "name": "stderr",
     "output_type": "stream",
     "text": [
      "/opt/conda/lib/python3.7/site-packages/sklearn/utils/validation.py:72: DataConversionWarning: A column-vector y was passed when a 1d array was expected. Please change the shape of y to (n_samples, ), for example using ravel().\n",
      "  return f(**kwargs)\n"
     ]
    },
    {
     "name": "stdout",
     "output_type": "stream",
     "text": [
      "Iteration 1, loss = 0.04683521\n",
      "Iteration 2, loss = 0.00266313\n",
      "Iteration 3, loss = 0.00204091\n",
      "Iteration 4, loss = 0.00089215\n",
      "Iteration 5, loss = 0.00074535\n",
      "Iteration 6, loss = 0.00130380\n",
      "Iteration 7, loss = 0.00057359\n",
      "Iteration 8, loss = 0.00052699\n",
      "Iteration 9, loss = 0.00088636\n",
      "Iteration 10, loss = 0.00133716\n",
      "Iteration 11, loss = 0.00051158\n",
      "Iteration 12, loss = 0.00055052\n",
      "Iteration 13, loss = 0.00048827\n",
      "Iteration 14, loss = 0.00047351\n",
      "Iteration 15, loss = 0.00138030\n",
      "Iteration 16, loss = 0.00063924\n",
      "Iteration 17, loss = 0.00051378\n",
      "Iteration 18, loss = 0.00046396\n",
      "Training loss did not improve more than tol=0.000100 for 10 consecutive epochs. Stopping.\n",
      "MLPClassifier(hidden_layer_sizes=(64, 64), max_iter=1000, verbose=1)\n"
     ]
    },
    {
     "name": "stderr",
     "output_type": "stream",
     "text": [
      "/opt/conda/lib/python3.7/site-packages/ipykernel_launcher.py:11: ResourceWarning: unclosed file <_io.BufferedWriter name='./Data Exploration/data/uc1/MEH_uc1_0.3_smote_mlp_(64, 64)_model.pkl'>\n",
      "  # This is added back by InteractiveShellApp.init_path()\n",
      "ResourceWarning: Enable tracemalloc to get the object allocation traceback\n"
     ]
    },
    {
     "name": "stdout",
     "output_type": "stream",
     "text": [
      "MEH Training set 0.3 SMOTE mlp (64, 64) score: 0.9999608082898306\n",
      "MEH Test set 0.3 SMOTE mlp (64, 64) score: 0.9979246780198987\n",
      "MEH Accuracy:  0.9979246780198987\n",
      "MEH mlp (64, 64)\n",
      " [[32693    25]\n",
      " [   43     5]]\n",
      "MEH mlp (64, 64)\n",
      "               precision    recall  f1-score   support\n",
      "\n",
      "           0       1.00      1.00      1.00     32718\n",
      "           1       0.17      0.10      0.13        48\n",
      "\n",
      "    accuracy                           1.00     32766\n",
      "   macro avg       0.58      0.55      0.56     32766\n",
      "weighted avg       1.00      1.00      1.00     32766\n",
      "\n"
     ]
    },
    {
     "name": "stderr",
     "output_type": "stream",
     "text": [
      "/opt/conda/lib/python3.7/site-packages/sklearn/utils/validation.py:72: DataConversionWarning: A column-vector y was passed when a 1d array was expected. Please change the shape of y to (n_samples, ), for example using ravel().\n",
      "  return f(**kwargs)\n"
     ]
    },
    {
     "name": "stdout",
     "output_type": "stream",
     "text": [
      "Iteration 1, loss = 0.04022456\n",
      "Iteration 2, loss = 0.00260495\n",
      "Iteration 3, loss = 0.00130287\n",
      "Iteration 4, loss = 0.00079267\n",
      "Iteration 5, loss = 0.00078876\n",
      "Iteration 6, loss = 0.00106459\n",
      "Iteration 7, loss = 0.00050406\n",
      "Iteration 8, loss = 0.00050465\n",
      "Iteration 9, loss = 0.00162073\n",
      "Iteration 10, loss = 0.00050106\n",
      "Iteration 11, loss = 0.00050216\n",
      "Iteration 12, loss = 0.00056427\n",
      "Iteration 13, loss = 0.00081103\n",
      "Iteration 14, loss = 0.00051234\n",
      "Iteration 15, loss = 0.00102856\n",
      "Iteration 16, loss = 0.00044421\n",
      "Iteration 17, loss = 0.00044260\n",
      "Iteration 18, loss = 0.00059089\n",
      "Training loss did not improve more than tol=0.000100 for 10 consecutive epochs. Stopping.\n",
      "MLPClassifier(hidden_layer_sizes=(64, 64), max_iter=1000, verbose=1)\n"
     ]
    },
    {
     "name": "stderr",
     "output_type": "stream",
     "text": [
      "/opt/conda/lib/python3.7/site-packages/ipykernel_launcher.py:11: ResourceWarning: unclosed file <_io.BufferedWriter name='./Data Exploration/data/uc1/MEH_uc1_0.5_smote_mlp_(64, 64)_model.pkl'>\n",
      "  # This is added back by InteractiveShellApp.init_path()\n",
      "ResourceWarning: Enable tracemalloc to get the object allocation traceback\n"
     ]
    },
    {
     "name": "stdout",
     "output_type": "stream",
     "text": [
      "MEH Training set 0.5 SMOTE mlp (64, 64) score: 0.9999660337624401\n",
      "MEH Test set 0.5 SMOTE mlp (64, 64) score: 0.9983519501922725\n",
      "MEH Accuracy:  0.9983519501922725\n",
      "MEH mlp (64, 64)\n",
      " [[32708    10]\n",
      " [   44     4]]\n",
      "MEH mlp (64, 64)\n",
      "               precision    recall  f1-score   support\n",
      "\n",
      "           0       1.00      1.00      1.00     32718\n",
      "           1       0.29      0.08      0.13        48\n",
      "\n",
      "    accuracy                           1.00     32766\n",
      "   macro avg       0.64      0.54      0.56     32766\n",
      "weighted avg       1.00      1.00      1.00     32766\n",
      "\n"
     ]
    },
    {
     "name": "stderr",
     "output_type": "stream",
     "text": [
      "/opt/conda/lib/python3.7/site-packages/sklearn/utils/validation.py:72: DataConversionWarning: A column-vector y was passed when a 1d array was expected. Please change the shape of y to (n_samples, ), for example using ravel().\n",
      "  return f(**kwargs)\n"
     ]
    },
    {
     "name": "stdout",
     "output_type": "stream",
     "text": [
      "Iteration 1, loss = 0.03098664\n",
      "Iteration 2, loss = 0.00211782\n",
      "Iteration 3, loss = 0.00143408\n",
      "Iteration 4, loss = 0.00070629\n",
      "Iteration 5, loss = 0.00105086\n",
      "Iteration 6, loss = 0.00092577\n",
      "Iteration 7, loss = 0.00049703\n",
      "Iteration 8, loss = 0.00055732\n",
      "Iteration 9, loss = 0.00055409\n",
      "Iteration 10, loss = 0.00055509\n",
      "Iteration 11, loss = 0.00076986\n",
      "Iteration 12, loss = 0.00039514\n",
      "Iteration 13, loss = 0.00070499\n",
      "Iteration 22, loss = 0.00056119\n",
      "Iteration 23, loss = 0.00090643\n",
      "Training loss did not improve more than tol=0.000100 for 10 consecutive epochs. Stopping.\n",
      "MLPClassifier(hidden_layer_sizes=(64, 64), max_iter=1000, verbose=1)\n"
     ]
    },
    {
     "name": "stderr",
     "output_type": "stream",
     "text": [
      "/opt/conda/lib/python3.7/site-packages/ipykernel_launcher.py:11: ResourceWarning: unclosed file <_io.BufferedWriter name='./Data Exploration/data/uc1/MEH_uc1_1.0_smote_mlp_(64, 64)_model.pkl'>\n",
      "  # This is added back by InteractiveShellApp.init_path()\n",
      "ResourceWarning: Enable tracemalloc to get the object allocation traceback\n"
     ]
    },
    {
     "name": "stdout",
     "output_type": "stream",
     "text": [
      "MEH Training set 1.0 SMOTE mlp (64, 64) score: 0.9999745254083577\n",
      "MEH Test set 1.0 SMOTE mlp (64, 64) score: 0.9981383141060856\n",
      "MEH Accuracy:  0.9981383141060856\n",
      "MEH mlp (64, 64)\n",
      " [[32701    17]\n",
      " [   44     4]]\n",
      "MEH mlp (64, 64)\n",
      "               precision    recall  f1-score   support\n",
      "\n",
      "           0       1.00      1.00      1.00     32718\n",
      "           1       0.19      0.08      0.12        48\n",
      "\n",
      "    accuracy                           1.00     32766\n",
      "   macro avg       0.59      0.54      0.56     32766\n",
      "weighted avg       1.00      1.00      1.00     32766\n",
      "\n"
     ]
    },
    {
     "name": "stderr",
     "output_type": "stream",
     "text": [
      "/opt/conda/lib/python3.7/site-packages/sklearn/utils/validation.py:72: DataConversionWarning: A column-vector y was passed when a 1d array was expected. Please change the shape of y to (n_samples, ), for example using ravel().\n",
      "  return f(**kwargs)\n"
     ]
    },
    {
     "name": "stdout",
     "output_type": "stream",
     "text": [
      "Iteration 1, loss = 0.03338789\n",
      "Iteration 2, loss = 0.00252646\n",
      "Iteration 3, loss = 0.00162500\n",
      "Iteration 4, loss = 0.00164941\n",
      "Iteration 5, loss = 0.00138971\n",
      "Iteration 6, loss = 0.00229976\n",
      "Iteration 7, loss = 0.00140146\n",
      "Iteration 8, loss = 0.00068298\n",
      "Iteration 9, loss = 0.00058431\n",
      "Iteration 10, loss = 0.00226038\n",
      "Iteration 11, loss = 0.00061737\n",
      "Iteration 12, loss = 0.00051559\n",
      "Iteration 13, loss = 0.00053015\n",
      "Iteration 14, loss = 0.00044987\n",
      "Iteration 15, loss = 0.00174267\n",
      "Iteration 16, loss = 0.00054230\n",
      "Iteration 17, loss = 0.00046723\n",
      "Iteration 18, loss = 0.00042615\n",
      "Iteration 19, loss = 0.00047281\n",
      "Training loss did not improve more than tol=0.000100 for 10 consecutive epochs. Stopping.\n",
      "MLPClassifier(hidden_layer_sizes=(128, 128), max_iter=1000, verbose=1)\n"
     ]
    },
    {
     "name": "stderr",
     "output_type": "stream",
     "text": [
      "/opt/conda/lib/python3.7/site-packages/ipykernel_launcher.py:11: ResourceWarning: unclosed file <_io.BufferedWriter name='./Data Exploration/data/uc1/MEH_uc1_0.1_smote_mlp_(128, 128)_model.pkl'>\n",
      "  # This is added back by InteractiveShellApp.init_path()\n",
      "ResourceWarning: Enable tracemalloc to get the object allocation traceback\n"
     ]
    },
    {
     "name": "stdout",
     "output_type": "stream",
     "text": [
      "MEH Training set 0.1 SMOTE mlp (128, 128) score: 0.9999536822603057\n",
      "MEH Test set 0.1 SMOTE mlp (128, 128) score: 0.9979246780198987\n",
      "MEH Accuracy:  0.9979246780198987\n",
      "MEH mlp (128, 128)\n",
      " [[32693    25]\n",
      " [   43     5]]\n",
      "MEH mlp (128, 128)\n",
      "               precision    recall  f1-score   support\n",
      "\n",
      "           0       1.00      1.00      1.00     32718\n",
      "           1       0.17      0.10      0.13        48\n",
      "\n",
      "    accuracy                           1.00     32766\n",
      "   macro avg       0.58      0.55      0.56     32766\n",
      "weighted avg       1.00      1.00      1.00     32766\n",
      "\n"
     ]
    },
    {
     "name": "stderr",
     "output_type": "stream",
     "text": [
      "/opt/conda/lib/python3.7/site-packages/sklearn/utils/validation.py:72: DataConversionWarning: A column-vector y was passed when a 1d array was expected. Please change the shape of y to (n_samples, ), for example using ravel().\n",
      "  return f(**kwargs)\n"
     ]
    },
    {
     "name": "stdout",
     "output_type": "stream",
     "text": [
      "Iteration 1, loss = 0.03241296\n",
      "Iteration 2, loss = 0.00309247\n",
      "Iteration 3, loss = 0.00139628\n",
      "Iteration 4, loss = 0.00141575\n",
      "Iteration 5, loss = 0.00068528\n",
      "Iteration 6, loss = 0.00211577\n",
      "Iteration 7, loss = 0.00098558\n",
      "Iteration 8, loss = 0.00092576\n",
      "Iteration 9, loss = 0.00075310\n",
      "Iteration 10, loss = 0.00061262\n",
      "Iteration 11, loss = 0.00051578\n",
      "Iteration 12, loss = 0.00094256\n",
      "Iteration 13, loss = 0.00194333\n",
      "Iteration 14, loss = 0.00106776\n",
      "Iteration 15, loss = 0.00078729\n",
      "Iteration 16, loss = 0.00056400\n",
      "Training loss did not improve more than tol=0.000100 for 10 consecutive epochs. Stopping.\n",
      "MLPClassifier(hidden_layer_sizes=(128, 128), max_iter=1000, verbose=1)\n"
     ]
    },
    {
     "name": "stderr",
     "output_type": "stream",
     "text": [
      "/opt/conda/lib/python3.7/site-packages/ipykernel_launcher.py:11: ResourceWarning: unclosed file <_io.BufferedWriter name='./Data Exploration/data/uc1/MEH_uc1_0.2_smote_mlp_(128, 128)_model.pkl'>\n",
      "  # This is added back by InteractiveShellApp.init_path()\n",
      "ResourceWarning: Enable tracemalloc to get the object allocation traceback\n"
     ]
    },
    {
     "name": "stdout",
     "output_type": "stream",
     "text": [
      "MEH Training set 0.2 SMOTE mlp (128, 128) score: 0.9999490506436602\n",
      "MEH Test set 0.2 SMOTE mlp (128, 128) score: 0.9982298724287371\n",
      "MEH Accuracy:  0.9982298724287371\n",
      "MEH mlp (128, 128)\n",
      " [[32702    16]\n",
      " [   42     6]]\n",
      "MEH mlp (128, 128)\n",
      "               precision    recall  f1-score   support\n",
      "\n",
      "           0       1.00      1.00      1.00     32718\n",
      "           1       0.27      0.12      0.17        48\n",
      "\n",
      "    accuracy                           1.00     32766\n",
      "   macro avg       0.64      0.56      0.59     32766\n",
      "weighted avg       1.00      1.00      1.00     32766\n",
      "\n"
     ]
    },
    {
     "name": "stderr",
     "output_type": "stream",
     "text": [
      "/opt/conda/lib/python3.7/site-packages/sklearn/utils/validation.py:72: DataConversionWarning: A column-vector y was passed when a 1d array was expected. Please change the shape of y to (n_samples, ), for example using ravel().\n",
      "  return f(**kwargs)\n"
     ]
    },
    {
     "name": "stdout",
     "output_type": "stream",
     "text": [
      "Iteration 1, loss = 0.03364310\n",
      "Iteration 2, loss = 0.00269513\n",
      "Iteration 3, loss = 0.00118624\n",
      "Iteration 4, loss = 0.00085429\n",
      "Iteration 5, loss = 0.00104912\n",
      "Iteration 6, loss = 0.00090230\n",
      "Iteration 7, loss = 0.00163141\n",
      "Iteration 8, loss = 0.00182771\n",
      "Iteration 9, loss = 0.00060915\n",
      "Iteration 10, loss = 0.00058679\n",
      "Iteration 11, loss = 0.00052180\n",
      "Iteration 12, loss = 0.00171106\n",
      "Iteration 13, loss = 0.00086439\n",
      "Iteration 14, loss = 0.00056145\n",
      "Iteration 15, loss = 0.00049266\n",
      "Iteration 16, loss = 0.00047861\n",
      "Iteration 17, loss = 0.00144716\n",
      "Iteration 18, loss = 0.00050154\n",
      "Iteration 19, loss = 0.00046807\n",
      "Iteration 20, loss = 0.00045894\n",
      "Training loss did not improve more than tol=0.000100 for 10 consecutive epochs. Stopping.\n",
      "MLPClassifier(hidden_layer_sizes=(128, 128), max_iter=1000, verbose=1)\n"
     ]
    },
    {
     "name": "stderr",
     "output_type": "stream",
     "text": [
      "/opt/conda/lib/python3.7/site-packages/ipykernel_launcher.py:11: ResourceWarning: unclosed file <_io.BufferedWriter name='./Data Exploration/data/uc1/MEH_uc1_0.3_smote_mlp_(128, 128)_model.pkl'>\n",
      "  # This is added back by InteractiveShellApp.init_path()\n",
      "ResourceWarning: Enable tracemalloc to get the object allocation traceback\n"
     ]
    },
    {
     "name": "stdout",
     "output_type": "stream",
     "text": [
      "MEH Training set 0.3 SMOTE mlp (128, 128) score: 0.9999608082898306\n",
      "MEH Test set 0.3 SMOTE mlp (128, 128) score: 0.9981688335469694\n",
      "MEH Accuracy:  0.9981688335469694\n",
      "MEH mlp (128, 128)\n",
      " [[32701    17]\n",
      " [   43     5]]\n",
      "MEH mlp (128, 128)\n",
      "               precision    recall  f1-score   support\n",
      "\n",
      "           0       1.00      1.00      1.00     32718\n",
      "           1       0.23      0.10      0.14        48\n",
      "\n",
      "    accuracy                           1.00     32766\n",
      "   macro avg       0.61      0.55      0.57     32766\n",
      "weighted avg       1.00      1.00      1.00     32766\n",
      "\n"
     ]
    },
    {
     "name": "stderr",
     "output_type": "stream",
     "text": [
      "/opt/conda/lib/python3.7/site-packages/sklearn/utils/validation.py:72: DataConversionWarning: A column-vector y was passed when a 1d array was expected. Please change the shape of y to (n_samples, ), for example using ravel().\n",
      "  return f(**kwargs)\n"
     ]
    },
    {
     "name": "stdout",
     "output_type": "stream",
     "text": [
      "Iteration 1, loss = 0.02907710\n",
      "Iteration 2, loss = 0.00309667\n",
      "Iteration 3, loss = 0.00238576\n",
      "Iteration 4, loss = 0.00079309\n",
      "Iteration 5, loss = 0.00074124\n",
      "Iteration 6, loss = 0.00056621\n",
      "Iteration 7, loss = 0.00057121\n",
      "Iteration 8, loss = 0.00301536\n",
      "Iteration 9, loss = 0.00064519\n",
      "Iteration 10, loss = 0.00051968\n",
      "Iteration 11, loss = 0.00048075\n",
      "Iteration 12, loss = 0.00076091\n",
      "Iteration 13, loss = 0.00161868\n",
      "Iteration 14, loss = 0.00057926\n",
      "Iteration 15, loss = 0.00048745\n",
      "Iteration 16, loss = 0.00083522\n",
      "Iteration 17, loss = 0.00110525\n",
      "Training loss did not improve more than tol=0.000100 for 10 consecutive epochs. Stopping.\n",
      "MLPClassifier(hidden_layer_sizes=(128, 128), max_iter=1000, verbose=1)\n"
     ]
    },
    {
     "name": "stderr",
     "output_type": "stream",
     "text": [
      "/opt/conda/lib/python3.7/site-packages/ipykernel_launcher.py:11: ResourceWarning: unclosed file <_io.BufferedWriter name='./Data Exploration/data/uc1/MEH_uc1_0.5_smote_mlp_(128, 128)_model.pkl'>\n",
      "  # This is added back by InteractiveShellApp.init_path()\n",
      "ResourceWarning: Enable tracemalloc to get the object allocation traceback\n"
     ]
    },
    {
     "name": "stdout",
     "output_type": "stream",
     "text": [
      "MEH Training set 0.5 SMOTE mlp (128, 128) score: 0.9999660337624401\n",
      "MEH Test set 0.5 SMOTE mlp (128, 128) score: 0.9981993529878532\n",
      "MEH Accuracy:  0.9981993529878532\n",
      "MEH mlp (128, 128)\n",
      " [[32702    16]\n",
      " [   43     5]]\n",
      "MEH mlp (128, 128)\n",
      "               precision    recall  f1-score   support\n",
      "\n",
      "           0       1.00      1.00      1.00     32718\n",
      "           1       0.24      0.10      0.14        48\n",
      "\n",
      "    accuracy                           1.00     32766\n",
      "   macro avg       0.62      0.55      0.57     32766\n",
      "weighted avg       1.00      1.00      1.00     32766\n",
      "\n"
     ]
    },
    {
     "name": "stderr",
     "output_type": "stream",
     "text": [
      "/opt/conda/lib/python3.7/site-packages/sklearn/utils/validation.py:72: DataConversionWarning: A column-vector y was passed when a 1d array was expected. Please change the shape of y to (n_samples, ), for example using ravel().\n",
      "  return f(**kwargs)\n"
     ]
    },
    {
     "name": "stdout",
     "output_type": "stream",
     "text": [
      "Iteration 1, loss = 0.02353833\n",
      "Iteration 2, loss = 0.00262999\n",
      "Iteration 3, loss = 0.00088328\n",
      "Iteration 4, loss = 0.00142491\n",
      "Iteration 5, loss = 0.00094509\n",
      "Iteration 6, loss = 0.00066485\n",
      "Iteration 7, loss = 0.00124609\n",
      "Iteration 8, loss = 0.00097636\n",
      "Iteration 9, loss = 0.00080057\n",
      "Iteration 10, loss = 0.00100393\n",
      "Iteration 11, loss = 0.00073380\n",
      "Iteration 12, loss = 0.00050190\n",
      "Iteration 13, loss = 0.00117559\n",
      "Iteration 14, loss = 0.00046908\n",
      "Iteration 20, loss = 0.00110510\n",
      "Iteration 21, loss = 0.00048679\n",
      "Iteration 22, loss = 0.00063363\n",
      "Iteration 23, loss = 0.00051989\n",
      "Training loss did not improve more than tol=0.000100 for 10 consecutive epochs. Stopping.\n",
      "MLPClassifier(hidden_layer_sizes=(128, 128), max_iter=1000, verbose=1)\n"
     ]
    },
    {
     "name": "stderr",
     "output_type": "stream",
     "text": [
      "/opt/conda/lib/python3.7/site-packages/ipykernel_launcher.py:11: ResourceWarning: unclosed file <_io.BufferedWriter name='./Data Exploration/data/uc1/MEH_uc1_1.0_smote_mlp_(128, 128)_model.pkl'>\n",
      "  # This is added back by InteractiveShellApp.init_path()\n",
      "ResourceWarning: Enable tracemalloc to get the object allocation traceback\n"
     ]
    },
    {
     "name": "stdout",
     "output_type": "stream",
     "text": [
      "MEH Training set 1.0 SMOTE mlp (128, 128) score: 0.9999694304900293\n",
      "MEH Test set 1.0 SMOTE mlp (128, 128) score: 0.9981688335469694\n",
      "MEH Accuracy:  0.9981688335469694\n",
      "MEH mlp (128, 128)\n",
      " [[32702    16]\n",
      " [   44     4]]\n",
      "MEH mlp (128, 128)\n",
      "               precision    recall  f1-score   support\n",
      "\n",
      "           0       1.00      1.00      1.00     32718\n",
      "           1       0.20      0.08      0.12        48\n",
      "\n",
      "    accuracy                           1.00     32766\n",
      "   macro avg       0.60      0.54      0.56     32766\n",
      "weighted avg       1.00      1.00      1.00     32766\n",
      "\n"
     ]
    },
    {
     "name": "stderr",
     "output_type": "stream",
     "text": [
      "/opt/conda/lib/python3.7/site-packages/sklearn/utils/validation.py:72: DataConversionWarning: A column-vector y was passed when a 1d array was expected. Please change the shape of y to (n_samples, ), for example using ravel().\n",
      "  return f(**kwargs)\n"
     ]
    },
    {
     "name": "stdout",
     "output_type": "stream",
     "text": [
      "Iteration 1, loss = 0.03229818\n",
      "Iteration 2, loss = 0.00271094\n",
      "Iteration 3, loss = 0.00171198\n",
      "Iteration 4, loss = 0.00115369\n",
      "Iteration 5, loss = 0.00064162\n",
      "Iteration 6, loss = 0.00076426\n",
      "Iteration 7, loss = 0.00284391\n",
      "Iteration 8, loss = 0.00150547\n",
      "Iteration 9, loss = 0.00077351\n",
      "Iteration 10, loss = 0.00058694\n",
      "Iteration 11, loss = 0.00103169\n",
      "Iteration 12, loss = 0.00113577\n",
      "Iteration 13, loss = 0.00087790\n",
      "Iteration 14, loss = 0.00055477\n",
      "Iteration 15, loss = 0.00049348\n",
      "Iteration 16, loss = 0.00049777\n",
      "Training loss did not improve more than tol=0.000100 for 10 consecutive epochs. Stopping.\n",
      "MLPClassifier(hidden_layer_sizes=(256, 256), max_iter=1000, verbose=1)\n"
     ]
    },
    {
     "name": "stderr",
     "output_type": "stream",
     "text": [
      "/opt/conda/lib/python3.7/site-packages/ipykernel_launcher.py:11: ResourceWarning: unclosed file <_io.BufferedWriter name='./Data Exploration/data/uc1/MEH_uc1_0.1_smote_mlp_(256, 256)_model.pkl'>\n",
      "  # This is added back by InteractiveShellApp.init_path()\n",
      "ResourceWarning: Enable tracemalloc to get the object allocation traceback\n"
     ]
    },
    {
     "name": "stdout",
     "output_type": "stream",
     "text": [
      "MEH Training set 0.1 SMOTE mlp (256, 256) score: 0.9998425196850393\n",
      "MEH Test set 0.1 SMOTE mlp (256, 256) score: 0.9973448086431057\n",
      "MEH Accuracy:  0.9973448086431057\n",
      "MEH mlp (256, 256)\n",
      " [[32669    49]\n",
      " [   38    10]]\n",
      "MEH mlp (256, 256)\n",
      "               precision    recall  f1-score   support\n",
      "\n",
      "           0       1.00      1.00      1.00     32718\n",
      "           1       0.17      0.21      0.19        48\n",
      "\n",
      "    accuracy                           1.00     32766\n",
      "   macro avg       0.58      0.60      0.59     32766\n",
      "weighted avg       1.00      1.00      1.00     32766\n",
      "\n"
     ]
    },
    {
     "name": "stderr",
     "output_type": "stream",
     "text": [
      "/opt/conda/lib/python3.7/site-packages/sklearn/utils/validation.py:72: DataConversionWarning: A column-vector y was passed when a 1d array was expected. Please change the shape of y to (n_samples, ), for example using ravel().\n",
      "  return f(**kwargs)\n"
     ]
    },
    {
     "name": "stdout",
     "output_type": "stream",
     "text": [
      "Iteration 1, loss = 0.02732523\n",
      "Iteration 2, loss = 0.00262294\n",
      "Iteration 3, loss = 0.00261912\n",
      "Iteration 4, loss = 0.00118586\n",
      "Iteration 5, loss = 0.00128882\n",
      "Iteration 6, loss = 0.00118199\n",
      "Iteration 7, loss = 0.00180895\n",
      "Iteration 8, loss = 0.00083921\n",
      "Iteration 9, loss = 0.00090932\n",
      "Iteration 10, loss = 0.00068501\n",
      "Iteration 11, loss = 0.00212946\n",
      "Iteration 12, loss = 0.00137292\n",
      "Iteration 13, loss = 0.00064600\n",
      "Iteration 14, loss = 0.00059747\n",
      "Iteration 15, loss = 0.00061050\n",
      "Iteration 16, loss = 0.00094518\n",
      "Iteration 17, loss = 0.00266053\n",
      "Iteration 18, loss = 0.00096113\n",
      "Iteration 19, loss = 0.00060849\n",
      "Iteration 20, loss = 0.00056982\n",
      "Iteration 21, loss = 0.00102026\n",
      "Training loss did not improve more than tol=0.000100 for 10 consecutive epochs. Stopping.\n",
      "MLPClassifier(hidden_layer_sizes=(256, 256), max_iter=1000, verbose=1)\n"
     ]
    },
    {
     "name": "stderr",
     "output_type": "stream",
     "text": [
      "/opt/conda/lib/python3.7/site-packages/ipykernel_launcher.py:11: ResourceWarning: unclosed file <_io.BufferedWriter name='./Data Exploration/data/uc1/MEH_uc1_0.2_smote_mlp_(256, 256)_model.pkl'>\n",
      "  # This is added back by InteractiveShellApp.init_path()\n",
      "ResourceWarning: Enable tracemalloc to get the object allocation traceback\n"
     ]
    },
    {
     "name": "stdout",
     "output_type": "stream",
     "text": [
      "MEH Training set 0.2 SMOTE mlp (256, 256) score: 0.9996093882680616\n",
      "MEH Test set 0.2 SMOTE mlp (256, 256) score: 0.9978331196972472\n",
      "MEH Accuracy:  0.9978331196972472\n",
      "MEH mlp (256, 256)\n",
      " [[32689    29]\n",
      " [   42     6]]\n",
      "MEH mlp (256, 256)\n",
      "               precision    recall  f1-score   support\n",
      "\n",
      "           0       1.00      1.00      1.00     32718\n",
      "           1       0.17      0.12      0.14        48\n",
      "\n",
      "    accuracy                           1.00     32766\n",
      "   macro avg       0.59      0.56      0.57     32766\n",
      "weighted avg       1.00      1.00      1.00     32766\n",
      "\n"
     ]
    },
    {
     "name": "stderr",
     "output_type": "stream",
     "text": [
      "/opt/conda/lib/python3.7/site-packages/sklearn/utils/validation.py:72: DataConversionWarning: A column-vector y was passed when a 1d array was expected. Please change the shape of y to (n_samples, ), for example using ravel().\n",
      "  return f(**kwargs)\n"
     ]
    },
    {
     "name": "stdout",
     "output_type": "stream",
     "text": [
      "Iteration 1, loss = 0.02804241\n",
      "Iteration 2, loss = 0.00291405\n",
      "Iteration 3, loss = 0.00149474\n",
      "Iteration 4, loss = 0.00109953\n",
      "Iteration 5, loss = 0.00093842\n",
      "Iteration 6, loss = 0.00151209\n",
      "Iteration 7, loss = 0.00170988\n",
      "Iteration 8, loss = 0.00109103\n",
      "Iteration 9, loss = 0.00108954\n",
      "Iteration 10, loss = 0.00099377\n",
      "Iteration 11, loss = 0.00090145\n",
      "Iteration 12, loss = 0.00071511\n",
      "Iteration 13, loss = 0.00105983\n",
      "Iteration 14, loss = 0.00140451\n",
      "Iteration 15, loss = 0.00079690\n",
      "Iteration 16, loss = 0.00058267\n",
      "Iteration 17, loss = 0.00113391\n",
      "Iteration 18, loss = 0.00212069\n",
      "Iteration 19, loss = 0.00062356\n",
      "Iteration 20, loss = 0.00059491\n",
      "Iteration 21, loss = 0.00055790\n",
      "Iteration 22, loss = 0.00171736\n",
      "Iteration 23, loss = 0.00059360\n",
      "Iteration 24, loss = 0.00062368\n",
      "Iteration 25, loss = 0.00056382\n",
      "Iteration 26, loss = 0.00048321\n",
      "Iteration 27, loss = 0.00053389\n",
      "Training loss did not improve more than tol=0.000100 for 10 consecutive epochs. Stopping.\n",
      "MLPClassifier(hidden_layer_sizes=(256, 256), max_iter=1000, verbose=1)\n"
     ]
    },
    {
     "name": "stderr",
     "output_type": "stream",
     "text": [
      "/opt/conda/lib/python3.7/site-packages/ipykernel_launcher.py:11: ResourceWarning: unclosed file <_io.BufferedWriter name='./Data Exploration/data/uc1/MEH_uc1_0.3_smote_mlp_(256, 256)_model.pkl'>\n",
      "  # This is added back by InteractiveShellApp.init_path()\n",
      "ResourceWarning: Enable tracemalloc to get the object allocation traceback\n"
     ]
    },
    {
     "name": "stdout",
     "output_type": "stream",
     "text": [
      "MEH Training set 0.3 SMOTE mlp (256, 256) score: 0.9999608082898306\n",
      "MEH Test set 0.3 SMOTE mlp (256, 256) score: 0.9981383141060856\n",
      "MEH Accuracy:  0.9981383141060856\n",
      "MEH mlp (256, 256)\n",
      " [[32701    17]\n",
      " [   44     4]]\n",
      "MEH mlp (256, 256)\n",
      "               precision    recall  f1-score   support\n",
      "\n",
      "           0       1.00      1.00      1.00     32718\n",
      "           1       0.19      0.08      0.12        48\n",
      "\n",
      "    accuracy                           1.00     32766\n",
      "   macro avg       0.59      0.54      0.56     32766\n",
      "weighted avg       1.00      1.00      1.00     32766\n",
      "\n"
     ]
    },
    {
     "name": "stderr",
     "output_type": "stream",
     "text": [
      "/opt/conda/lib/python3.7/site-packages/sklearn/utils/validation.py:72: DataConversionWarning: A column-vector y was passed when a 1d array was expected. Please change the shape of y to (n_samples, ), for example using ravel().\n",
      "  return f(**kwargs)\n"
     ]
    },
    {
     "name": "stdout",
     "output_type": "stream",
     "text": [
      "Iteration 1, loss = 0.02449820\n",
      "Iteration 2, loss = 0.00242269\n",
      "Iteration 3, loss = 0.00129775\n",
      "Iteration 4, loss = 0.00080039\n",
      "Iteration 5, loss = 0.00199288\n",
      "Iteration 6, loss = 0.00105506\n",
      "Iteration 7, loss = 0.00094591\n",
      "Iteration 8, loss = 0.00167156\n",
      "Iteration 9, loss = 0.00100417\n",
      "Iteration 10, loss = 0.00069686\n",
      "Iteration 11, loss = 0.00054961\n",
      "Iteration 12, loss = 0.00068367\n",
      "Iteration 13, loss = 0.00122098\n",
      "Iteration 14, loss = 0.00146492\n",
      "Iteration 15, loss = 0.00083395\n",
      "Iteration 16, loss = 0.00057743\n",
      "Iteration 17, loss = 0.00060353\n",
      "Iteration 18, loss = 0.00079750\n",
      "Iteration 19, loss = 0.00054794\n",
      "Iteration 20, loss = 0.00052987\n",
      "Iteration 21, loss = 0.00122146\n",
      "Iteration 22, loss = 0.00140760\n",
      "Training loss did not improve more than tol=0.000100 for 10 consecutive epochs. Stopping.\n",
      "MLPClassifier(hidden_layer_sizes=(256, 256), max_iter=1000, verbose=1)\n"
     ]
    },
    {
     "name": "stderr",
     "output_type": "stream",
     "text": [
      "/opt/conda/lib/python3.7/site-packages/ipykernel_launcher.py:11: ResourceWarning: unclosed file <_io.BufferedWriter name='./Data Exploration/data/uc1/MEH_uc1_0.5_smote_mlp_(256, 256)_model.pkl'>\n",
      "  # This is added back by InteractiveShellApp.init_path()\n",
      "ResourceWarning: Enable tracemalloc to get the object allocation traceback\n"
     ]
    },
    {
     "name": "stdout",
     "output_type": "stream",
     "text": [
      "MEH Training set 0.5 SMOTE mlp (256, 256) score: 0.9999524472674162\n",
      "MEH Test set 0.5 SMOTE mlp (256, 256) score: 0.9981993529878532\n",
      "MEH Accuracy:  0.9981993529878532\n",
      "MEH mlp (256, 256)\n",
      " [[32700    18]\n",
      " [   41     7]]\n",
      "MEH mlp (256, 256)\n",
      "               precision    recall  f1-score   support\n",
      "\n",
      "           0       1.00      1.00      1.00     32718\n",
      "           1       0.28      0.15      0.19        48\n",
      "\n",
      "    accuracy                           1.00     32766\n",
      "   macro avg       0.64      0.57      0.60     32766\n",
      "weighted avg       1.00      1.00      1.00     32766\n",
      "\n"
     ]
    },
    {
     "name": "stderr",
     "output_type": "stream",
     "text": [
      "/opt/conda/lib/python3.7/site-packages/sklearn/utils/validation.py:72: DataConversionWarning: A column-vector y was passed when a 1d array was expected. Please change the shape of y to (n_samples, ), for example using ravel().\n",
      "  return f(**kwargs)\n"
     ]
    },
    {
     "name": "stdout",
     "output_type": "stream",
     "text": [
      "Iteration 1, loss = 0.01837727\n",
      "Iteration 2, loss = 0.00208065\n",
      "Iteration 3, loss = 0.00130866\n",
      "Iteration 4, loss = 0.00115164\n",
      "Iteration 5, loss = 0.00179519\n",
      "Iteration 6, loss = 0.00069876\n",
      "Iteration 7, loss = 0.00064327\n",
      "Iteration 8, loss = 0.00192133\n",
      "Iteration 9, loss = 0.00085096\n",
      "Iteration 10, loss = 0.00143094\n",
      "Iteration 11, loss = 0.00079124\n",
      "Iteration 12, loss = 0.00056517\n",
      "Iteration 13, loss = 0.00073676\n",
      "Iteration 14, loss = 0.00091640\n",
      "Iteration 15, loss = 0.00102911\n",
      "Iteration 16, loss = 0.00146483\n",
      "Iteration 17, loss = 0.00068621\n",
      "Training loss did not improve more than tol=0.000100 for 10 consecutive epochs. Stopping.\n",
      "MLPClassifier(hidden_layer_sizes=(256, 256), max_iter=1000, verbose=1)\n"
     ]
    },
    {
     "name": "stderr",
     "output_type": "stream",
     "text": [
      "/opt/conda/lib/python3.7/site-packages/ipykernel_launcher.py:11: ResourceWarning: unclosed file <_io.BufferedWriter name='./Data Exploration/data/uc1/MEH_uc1_1.0_smote_mlp_(256, 256)_model.pkl'>\n",
      "  # This is added back by InteractiveShellApp.init_path()\n",
      "ResourceWarning: Enable tracemalloc to get the object allocation traceback\n"
     ]
    },
    {
     "name": "stdout",
     "output_type": "stream",
     "text": [
      "MEH Training set 1.0 SMOTE mlp (256, 256) score: 0.9995618370237526\n",
      "MEH Test set 1.0 SMOTE mlp (256, 256) score: 0.9970396142342672\n",
      "MEH Accuracy:  0.9970396142342672\n",
      "MEH mlp (256, 256)\n",
      " [[32662    56]\n",
      " [   41     7]]\n",
      "MEH mlp (256, 256)\n",
      "               precision    recall  f1-score   support\n",
      "\n",
      "           0       1.00      1.00      1.00     32718\n",
      "           1       0.11      0.15      0.13        48\n",
      "\n",
      "    accuracy                           1.00     32766\n",
      "   macro avg       0.55      0.57      0.56     32766\n",
      "weighted avg       1.00      1.00      1.00     32766\n",
      "\n"
     ]
    },
    {
     "name": "stderr",
     "output_type": "stream",
     "text": [
      "/opt/conda/lib/python3.7/site-packages/sklearn/utils/validation.py:72: DataConversionWarning: A column-vector y was passed when a 1d array was expected. Please change the shape of y to (n_samples, ), for example using ravel().\n",
      "  return f(**kwargs)\n"
     ]
    },
    {
     "name": "stdout",
     "output_type": "stream",
     "text": [
      "Iteration 1, loss = 0.10626188\n",
      "Iteration 2, loss = 0.00433975\n",
      "Iteration 3, loss = 0.00211314\n",
      "Iteration 4, loss = 0.00128406\n",
      "Iteration 5, loss = 0.00135217\n",
      "Iteration 6, loss = 0.00091632\n",
      "Iteration 7, loss = 0.00063596\n",
      "Iteration 8, loss = 0.00062159\n",
      "Iteration 9, loss = 0.00099142\n",
      "Iteration 10, loss = 0.00053493\n",
      "Iteration 11, loss = 0.00073843\n",
      "Iteration 12, loss = 0.00050016\n",
      "Iteration 13, loss = 0.00048779\n",
      "Iteration 14, loss = 0.00035851\n",
      "Iteration 15, loss = 0.00053076\n",
      "Iteration 16, loss = 0.00109894\n",
      "Iteration 17, loss = 0.00038347\n",
      "Iteration 18, loss = 0.00054876\n",
      "Iteration 19, loss = 0.00036942\n",
      "Iteration 20, loss = 0.00059505\n",
      "Iteration 21, loss = 0.00043741\n",
      "Iteration 22, loss = 0.00031635\n",
      "Iteration 23, loss = 0.00040661\n",
      "Iteration 24, loss = 0.00041081\n",
      "Iteration 25, loss = 0.00029960\n",
      "Training loss did not improve more than tol=0.000100 for 10 consecutive epochs. Stopping.\n",
      "MLPClassifier(hidden_layer_sizes=(16, 16, 16), max_iter=1000, verbose=1)\n"
     ]
    },
    {
     "name": "stderr",
     "output_type": "stream",
     "text": [
      "/opt/conda/lib/python3.7/site-packages/ipykernel_launcher.py:11: ResourceWarning: unclosed file <_io.BufferedWriter name='./Data Exploration/data/uc1/MEH_uc1_0.1_smote_mlp_(16, 16, 16)_model.pkl'>\n",
      "  # This is added back by InteractiveShellApp.init_path()\n",
      "ResourceWarning: Enable tracemalloc to get the object allocation traceback\n"
     ]
    },
    {
     "name": "stdout",
     "output_type": "stream",
     "text": [
      "MEH Training set 0.1 SMOTE mlp (16, 16, 16) score: 0.9999629458082445\n",
      "MEH Test set 0.1 SMOTE mlp (16, 16, 16) score: 0.9978026002563632\n",
      "MEH Accuracy:  0.9978026002563632\n",
      "MEH mlp (16, 16, 16)\n",
      " [[32690    28]\n",
      " [   44     4]]\n",
      "MEH mlp (16, 16, 16)\n",
      "               precision    recall  f1-score   support\n",
      "\n",
      "           0       1.00      1.00      1.00     32718\n",
      "           1       0.12      0.08      0.10        48\n",
      "\n",
      "    accuracy                           1.00     32766\n",
      "   macro avg       0.56      0.54      0.55     32766\n",
      "weighted avg       1.00      1.00      1.00     32766\n",
      "\n"
     ]
    },
    {
     "name": "stderr",
     "output_type": "stream",
     "text": [
      "/opt/conda/lib/python3.7/site-packages/sklearn/utils/validation.py:72: DataConversionWarning: A column-vector y was passed when a 1d array was expected. Please change the shape of y to (n_samples, ), for example using ravel().\n",
      "  return f(**kwargs)\n"
     ]
    },
    {
     "name": "stdout",
     "output_type": "stream",
     "text": [
      "Iteration 1, loss = 0.18091946\n",
      "Iteration 2, loss = 0.00501587\n",
      "Iteration 3, loss = 0.00257378\n",
      "Iteration 4, loss = 0.00198298\n",
      "Iteration 5, loss = 0.00119010\n",
      "Iteration 6, loss = 0.00142961\n",
      "Iteration 7, loss = 0.00104474\n",
      "Iteration 8, loss = 0.00088064\n",
      "Iteration 9, loss = 0.00074829\n",
      "Iteration 10, loss = 0.00061897\n",
      "Iteration 11, loss = 0.00129288\n",
      "Iteration 12, loss = 0.00067974\n",
      "Iteration 13, loss = 0.00056383\n",
      "Iteration 14, loss = 0.00085342\n",
      "Iteration 15, loss = 0.00060795\n",
      "Iteration 16, loss = 0.00106259\n",
      "Iteration 17, loss = 0.00055171\n",
      "Iteration 18, loss = 0.00060315\n",
      "Iteration 19, loss = 0.00099676\n",
      "Iteration 20, loss = 0.00053164\n",
      "Iteration 21, loss = 0.00049050\n",
      "Training loss did not improve more than tol=0.000100 for 10 consecutive epochs. Stopping.\n",
      "MLPClassifier(hidden_layer_sizes=(16, 16, 16), max_iter=1000, verbose=1)\n"
     ]
    },
    {
     "name": "stderr",
     "output_type": "stream",
     "text": [
      "/opt/conda/lib/python3.7/site-packages/ipykernel_launcher.py:11: ResourceWarning: unclosed file <_io.BufferedWriter name='./Data Exploration/data/uc1/MEH_uc1_0.2_smote_mlp_(16, 16, 16)_model.pkl'>\n",
      "  # This is added back by InteractiveShellApp.init_path()\n",
      "ResourceWarning: Enable tracemalloc to get the object allocation traceback\n"
     ]
    },
    {
     "name": "stdout",
     "output_type": "stream",
     "text": [
      "MEH Training set 0.2 SMOTE mlp (16, 16, 16) score: 0.9999490506436602\n",
      "MEH Test set 0.2 SMOTE mlp (16, 16, 16) score: 0.9979857169016664\n",
      "MEH Accuracy:  0.9979857169016664\n",
      "MEH mlp (16, 16, 16)\n",
      " [[32695    23]\n",
      " [   43     5]]\n",
      "MEH mlp (16, 16, 16)\n",
      "               precision    recall  f1-score   support\n",
      "\n",
      "           0       1.00      1.00      1.00     32718\n",
      "           1       0.18      0.10      0.13        48\n",
      "\n",
      "    accuracy                           1.00     32766\n",
      "   macro avg       0.59      0.55      0.57     32766\n",
      "weighted avg       1.00      1.00      1.00     32766\n",
      "\n"
     ]
    },
    {
     "name": "stderr",
     "output_type": "stream",
     "text": [
      "/opt/conda/lib/python3.7/site-packages/sklearn/utils/validation.py:72: DataConversionWarning: A column-vector y was passed when a 1d array was expected. Please change the shape of y to (n_samples, ), for example using ravel().\n",
      "  return f(**kwargs)\n"
     ]
    },
    {
     "name": "stdout",
     "output_type": "stream",
     "text": [
      "Iteration 1, loss = 0.06582751\n",
      "Iteration 2, loss = 0.00474275\n",
      "Iteration 3, loss = 0.00303514\n",
      "Iteration 4, loss = 0.00169994\n",
      "Iteration 5, loss = 0.00111944\n",
      "Iteration 6, loss = 0.00084300\n",
      "Iteration 7, loss = 0.00184693\n",
      "Iteration 8, loss = 0.00226695\n",
      "Iteration 9, loss = 0.00087331\n",
      "Iteration 10, loss = 0.00064154\n",
      "Iteration 11, loss = 0.00054942\n",
      "Iteration 12, loss = 0.00042681\n",
      "Iteration 13, loss = 0.00125032\n",
      "Iteration 14, loss = 0.00053042\n",
      "Iteration 15, loss = 0.00044724\n",
      "Iteration 16, loss = 0.00077533\n",
      "Iteration 17, loss = 0.00036752\n",
      "Iteration 18, loss = 0.00115504\n",
      "Iteration 19, loss = 0.00052932\n",
      "Iteration 20, loss = 0.00049872\n",
      "Iteration 21, loss = 0.00069184\n",
      "Iteration 22, loss = 0.00036530\n",
      "Iteration 23, loss = 0.00035654\n",
      "Training loss did not improve more than tol=0.000100 for 10 consecutive epochs. Stopping.\n",
      "MLPClassifier(hidden_layer_sizes=(16, 16, 16), max_iter=1000, verbose=1)\n"
     ]
    },
    {
     "name": "stderr",
     "output_type": "stream",
     "text": [
      "/opt/conda/lib/python3.7/site-packages/ipykernel_launcher.py:11: ResourceWarning: unclosed file <_io.BufferedWriter name='./Data Exploration/data/uc1/MEH_uc1_0.3_smote_mlp_(16, 16, 16)_model.pkl'>\n",
      "  # This is added back by InteractiveShellApp.init_path()\n",
      "ResourceWarning: Enable tracemalloc to get the object allocation traceback\n"
     ]
    },
    {
     "name": "stdout",
     "output_type": "stream",
     "text": [
      "MEH Training set 0.3 SMOTE mlp (16, 16, 16) score: 0.9999608082898306\n",
      "MEH Test set 0.3 SMOTE mlp (16, 16, 16) score: 0.9978331196972472\n",
      "MEH Accuracy:  0.9978331196972472\n",
      "MEH mlp (16, 16, 16)\n",
      " [[32691    27]\n",
      " [   44     4]]\n",
      "MEH mlp (16, 16, 16)\n",
      "               precision    recall  f1-score   support\n",
      "\n",
      "           0       1.00      1.00      1.00     32718\n",
      "           1       0.13      0.08      0.10        48\n",
      "\n",
      "    accuracy                           1.00     32766\n",
      "   macro avg       0.56      0.54      0.55     32766\n",
      "weighted avg       1.00      1.00      1.00     32766\n",
      "\n"
     ]
    },
    {
     "name": "stderr",
     "output_type": "stream",
     "text": [
      "/opt/conda/lib/python3.7/site-packages/sklearn/utils/validation.py:72: DataConversionWarning: A column-vector y was passed when a 1d array was expected. Please change the shape of y to (n_samples, ), for example using ravel().\n",
      "  return f(**kwargs)\n"
     ]
    },
    {
     "name": "stdout",
     "output_type": "stream",
     "text": [
      "Iteration 1, loss = 0.07468953\n",
      "Iteration 2, loss = 0.00498216\n",
      "Iteration 3, loss = 0.00250482\n",
      "Iteration 4, loss = 0.00158129\n",
      "Iteration 5, loss = 0.00120424\n",
      "Iteration 6, loss = 0.00182652\n",
      "Iteration 7, loss = 0.00108851\n",
      "Iteration 8, loss = 0.00095974\n",
      "Iteration 9, loss = 0.00074715\n",
      "Iteration 10, loss = 0.00079534\n",
      "Iteration 11, loss = 0.00072073\n",
      "Iteration 12, loss = 0.00091454\n",
      "Iteration 13, loss = 0.00135317\n",
      "Iteration 14, loss = 0.00120701\n",
      "Iteration 15, loss = 0.00061669\n",
      "Iteration 16, loss = 0.00041859\n",
      "Iteration 17, loss = 0.00051843\n",
      "Iteration 18, loss = 0.00043026\n",
      "Iteration 19, loss = 0.00060013\n",
      "Iteration 20, loss = 0.00058343\n",
      "Iteration 21, loss = 0.00060887\n",
      "Iteration 22, loss = 0.00117440\n",
      "Iteration 23, loss = 0.00040469\n",
      "Iteration 24, loss = 0.00132348\n",
      "Iteration 25, loss = 0.00050793\n",
      "Iteration 26, loss = 0.00037106\n",
      "Iteration 27, loss = 0.00037696\n",
      "Training loss did not improve more than tol=0.000100 for 10 consecutive epochs. Stopping.\n",
      "MLPClassifier(hidden_layer_sizes=(16, 16, 16), max_iter=1000, verbose=1)\n"
     ]
    },
    {
     "name": "stderr",
     "output_type": "stream",
     "text": [
      "/opt/conda/lib/python3.7/site-packages/ipykernel_launcher.py:11: ResourceWarning: unclosed file <_io.BufferedWriter name='./Data Exploration/data/uc1/MEH_uc1_0.5_smote_mlp_(16, 16, 16)_model.pkl'>\n",
      "  # This is added back by InteractiveShellApp.init_path()\n",
      "ResourceWarning: Enable tracemalloc to get the object allocation traceback\n"
     ]
    },
    {
     "name": "stdout",
     "output_type": "stream",
     "text": [
      "MEH Training set 0.5 SMOTE mlp (16, 16, 16) score: 0.9999660337624401\n",
      "MEH Test set 0.5 SMOTE mlp (16, 16, 16) score: 0.9979246780198987\n",
      "MEH Accuracy:  0.9979246780198987\n",
      "MEH mlp (16, 16, 16)\n",
      " [[32694    24]\n",
      " [   44     4]]\n",
      "MEH mlp (16, 16, 16)\n",
      "               precision    recall  f1-score   support\n",
      "\n",
      "           0       1.00      1.00      1.00     32718\n",
      "           1       0.14      0.08      0.11        48\n",
      "\n",
      "    accuracy                           1.00     32766\n",
      "   macro avg       0.57      0.54      0.55     32766\n",
      "weighted avg       1.00      1.00      1.00     32766\n",
      "\n"
     ]
    },
    {
     "name": "stderr",
     "output_type": "stream",
     "text": [
      "/opt/conda/lib/python3.7/site-packages/sklearn/utils/validation.py:72: DataConversionWarning: A column-vector y was passed when a 1d array was expected. Please change the shape of y to (n_samples, ), for example using ravel().\n",
      "  return f(**kwargs)\n"
     ]
    },
    {
     "name": "stdout",
     "output_type": "stream",
     "text": [
      "Iteration 1, loss = 0.05307272\n",
      "Iteration 2, loss = 0.00264749\n",
      "Iteration 3, loss = 0.00120335\n",
      "Iteration 4, loss = 0.00088712\n",
      "Iteration 5, loss = 0.00082707\n"
     ]
    }
   ],
   "source": [
    "for hosp in dict_df_X_train:\n",
    "    for hid_layers in list_hid_layers:\n",
    "        for sample in list_smote_sampling:\n",
    "            sm_ss = SMOTE(random_state=55,sampling_strategy=sample)\n",
    "            X_train_ss, y_train_ss = sm_ss.fit_sample(dict_df_X_train[hosp], dict_df_y_train[hosp])\n",
    "        \n",
    "            model = MLPClassifier(hidden_layer_sizes=hid_layers, max_iter=max_iter,verbose=1)  \n",
    "            model.fit(X_train_ss, y_train_ss)  \n",
    "            print(model)\n",
    "            filename = file_dir + f'{hosp}_uc1_{sample}_smote_mlp_{hid_layers}_model.pkl'\n",
    "            pickle.dump(model, open(filename, 'wb'))\n",
    "            \n",
    "            predictions = model.predict(dict_df_X_test[hosp]) \n",
    "\n",
    "            # Score\n",
    "            print(f\"{hosp} Training set {sample} SMOTE mlp {hid_layers} score: {model.score(X_train_ss, y_train_ss)}\")\n",
    "            print(f\"{hosp} Test set {sample} SMOTE mlp {hid_layers} score: {model.score(dict_df_X_test[hosp], dict_df_y_test[hosp])}\")\n",
    "\n",
    "            print(f\"{hosp} Accuracy: \", metrics.accuracy_score(dict_df_y_test[hosp], predictions))\n",
    "            print(hosp, f'mlp {hid_layers}\\n', confusion_matrix(dict_df_y_test[hosp],predictions))  \n",
    "            print(hosp, f'mlp {hid_layers}\\n', classification_report(dict_df_y_test[hosp],predictions))  "
   ]
  },
  {
   "cell_type": "markdown",
   "metadata": {},
   "source": [
    "## KNN"
   ]
  },
  {
   "cell_type": "code",
   "execution_count": null,
   "metadata": {},
   "outputs": [],
   "source": [
    "# Be careful when running this, about 2 full days are needed to run this!!!\n",
    "from sklearn.neighbors import KNeighborsClassifier"
   ]
  },
  {
   "cell_type": "code",
   "execution_count": null,
   "metadata": {},
   "outputs": [],
   "source": [
    "for hosp in dict_df_X_train:\n",
    "    test_scores = []\n",
    "    train_scores = []\n",
    "\n",
    "    for i in range(1,15):\n",
    "\n",
    "        knn = KNeighborsClassifier(i)\n",
    "        knn.fit(dict_df_X_train[hosp],dict_df_y_train[hosp])\n",
    "\n",
    "        train_scores.append(knn.score(dict_df_X_train[hosp],dict_df_y_train[hosp]))\n",
    "        test_scores.append(knn.score(dict_df_X_test[hosp],dict_df_y_test[hosp]))\n",
    "\n",
    "    ## score that comes from testing on the same datapoints that were used for training\n",
    "    max_train_score = max(train_scores)\n",
    "    train_scores_ind = [i for i, v in enumerate(train_scores) if v == max_train_score]\n",
    "    print(f'{hosp} Max train score {max_train_score*100} % and k = {list(map(lambda x: x+1, train_scores_ind))}')\n",
    "\n",
    "    ## score that comes from testing on the datapoints that were split in the beginning to be used for testing solely\n",
    "    max_test_score = max(test_scores)\n",
    "    test_scores_ind = [i for i, v in enumerate(test_scores) if v == max_test_score]\n",
    "    print(f'{hosp} Max test score {max_test_score*100} % and k = {list(map(lambda x: x+1, test_scores_ind))}')\n",
    "\n",
    "    plt.figure(figsize=(12,5))\n",
    "    plt.plot(range(1,15),train_scores,marker='*',label='Train Score')\n",
    "    plt.plot(range(1,15),test_scores,marker='o',label='Test Score')\n",
    "    plt.title(f'{hosp} KNN')\n",
    "    plt.tight_layout()\n",
    "    plt.show()"
   ]
  },
  {
   "cell_type": "code",
   "execution_count": null,
   "metadata": {},
   "outputs": [],
   "source": [
    "from sklearn.neighbors import KNeighborsClassifier\n",
    "# From the above, the best KNN is at k=8\n",
    "#Setup a knn classifier with k neighbors\n",
    "best_knn = KNeighborsClassifier(8)"
   ]
  },
  {
   "cell_type": "markdown",
   "metadata": {},
   "source": [
    "### KNN without SMOTE"
   ]
  },
  {
   "cell_type": "code",
   "execution_count": null,
   "metadata": {},
   "outputs": [],
   "source": [
    "n_neighbours = 8\n",
    "for hosp in dict_df_X_train:\n",
    "    # Fit the KNN model with training data and score the test data\n",
    "    best_knn = KNeighborsClassifier(n_neighbours)\n",
    "    \n",
    "    best_knn.fit(dict_df_X_train[hosp],dict_df_y_train[hosp])\n",
    "    best_knn.score(dict_df_X_test[hosp],dict_df_y_test[hosp])\n",
    "    \n",
    "    # save the model to disk\n",
    "    filename = f'{hosp}_best_knn_without_smote.pkl'\n",
    "    pickle.dump(best_knn, open(filename, 'wb'))\n",
    "    \n",
    "    y_pred = best_knn.predict(dict_df_X_test[hosp])\n",
    "    # Score for Best KNN, No SMOTE\n",
    "    print(f\"{hosp} Training set without SMOTE KNN({n_neighbours}) score: {best_knn.score(dict_df_X_train[hosp], dict_df_y_train[hosp])}\")\n",
    "    print(f\"{hosp} Test set without SMOTE KNN({n_neighbours}) score: {best_knn.score(dict_df_X_test[hosp], dict_df_y_test[hosp])}\")\n",
    "\n",
    "    print(f\"{hosp} Accuracy without SMOTE KNN({n_neighbours}): {metrics.accuracy_score(dict_df_y_test[hosp], y_pred)}\")\n",
    "    print(hosp, f'KNN({n_neighbours})\\n', confusion_matrix(dict_df_y_test[hosp],y_pred))  \n",
    "    print(hosp, f'KNN({n_neighbours})\\n', classification_report(dict_df_y_test[hosp],y_pred))  "
   ]
  },
  {
   "cell_type": "markdown",
   "metadata": {},
   "source": [
    "### KNN With SMOTE"
   ]
  },
  {
   "cell_type": "markdown",
   "metadata": {},
   "source": [
    "#### KNN With SMOTE ss=0.1"
   ]
  },
  {
   "cell_type": "code",
   "execution_count": null,
   "metadata": {},
   "outputs": [],
   "source": [
    "n_neighbours = 8\n",
    "list_smote_sampling = [0.1, 0.5, 1.0]\n",
    "for hosp in dict_df_X_train:\n",
    "    for sample in list_smote_sampling:\n",
    "        sm_ss = SMOTE(random_state=55,sampling_strategy=sample)\n",
    "        X_train_ss, y_train_ss = sm_ss.fit_sample(dict_df_X_train[hosp], dict_df_y_train[hosp])\n",
    "        \n",
    "        # Fit the KNN model with training data and score the test data\n",
    "        best_knn = KNeighborsClassifier(n_neighbours)    \n",
    "        best_knn.fit(X_train_ss,y_train_ss)\n",
    "        #best_knn.score(dict_df_X_test[hosp],dict_df_y_test[hosp])\n",
    "        \n",
    "        # save the model to disk\n",
    "        filename = f'{hosp}_best_knn_{sample}_smote.pkl'\n",
    "        pickle.dump(best_knn, open(filename, 'wb'))\n",
    "        \n",
    "        y_pred = best_knn.predict(dict_df_X_test[hosp])\n",
    "        # Score for Best KNN, with SMOTE\n",
    "        print(f\"{hosp} Training set {sample} SMOTE KNN({n_neighbours}) score: {best_knn.score(X_train_ss, y_train_ss)}\")\n",
    "        print(f\"{hosp} Test set {sample} SMOTE KNN({n_neighbours}) score: {best_knn.score(dict_df_X_test[hosp], dict_df_y_test[hosp])}\")\n",
    "\n",
    "        print(f\"{hosp} Accuracy {sample} SMOTE KNN({n_neighbours}): \", metrics.accuracy_score(dict_df_y_test[hosp], y_pred))\n",
    "        print(confusion_matrix(dict_df_y_test[hosp],y_pred))  \n",
    "        print(classification_report(dict_df_y_test[hosp],y_pred)) "
   ]
  },
  {
   "cell_type": "code",
   "execution_count": null,
   "metadata": {},
   "outputs": [],
   "source": []
  }
 ],
 "metadata": {
  "environment": {
   "name": "common-cpu.m56",
   "type": "gcloud",
   "uri": "gcr.io/deeplearning-platform-release/base-cpu:m56"
  },
  "jupytext": {
   "formats": "ipynb,py:light"
  },
  "kernelspec": {
   "display_name": "Python 3",
   "language": "python",
   "name": "python3"
  },
  "language_info": {
   "codemirror_mode": {
    "name": "ipython",
    "version": 3
   },
   "file_extension": ".py",
   "mimetype": "text/x-python",
   "name": "python",
   "nbconvert_exporter": "python",
   "pygments_lexer": "ipython3",
   "version": "3.7.8"
  }
 },
 "nbformat": 4,
 "nbformat_minor": 4
}
