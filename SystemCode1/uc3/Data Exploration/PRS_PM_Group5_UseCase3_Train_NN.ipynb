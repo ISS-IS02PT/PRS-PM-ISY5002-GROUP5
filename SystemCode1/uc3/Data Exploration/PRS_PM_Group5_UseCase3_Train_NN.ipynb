{
 "cells": [
  {
   "cell_type": "markdown",
   "metadata": {},
   "source": [
    "Imports"
   ]
  },
  {
   "cell_type": "code",
   "execution_count": 1,
   "metadata": {},
   "outputs": [
    {
     "name": "stderr",
     "output_type": "stream",
     "text": [
      "C:\\Users\\mokky\\AppData\\Roaming\\Python\\Python37\\site-packages\\tensorflow\\python\\framework\\dtypes.py:516: FutureWarning: Passing (type, 1) or '1type' as a synonym of type is deprecated; in a future version of numpy, it will be understood as (type, (1,)) / '(1,)type'.\n",
      "  _np_qint8 = np.dtype([(\"qint8\", np.int8, 1)])\n",
      "C:\\Users\\mokky\\AppData\\Roaming\\Python\\Python37\\site-packages\\tensorflow\\python\\framework\\dtypes.py:517: FutureWarning: Passing (type, 1) or '1type' as a synonym of type is deprecated; in a future version of numpy, it will be understood as (type, (1,)) / '(1,)type'.\n",
      "  _np_quint8 = np.dtype([(\"quint8\", np.uint8, 1)])\n",
      "C:\\Users\\mokky\\AppData\\Roaming\\Python\\Python37\\site-packages\\tensorflow\\python\\framework\\dtypes.py:518: FutureWarning: Passing (type, 1) or '1type' as a synonym of type is deprecated; in a future version of numpy, it will be understood as (type, (1,)) / '(1,)type'.\n",
      "  _np_qint16 = np.dtype([(\"qint16\", np.int16, 1)])\n",
      "C:\\Users\\mokky\\AppData\\Roaming\\Python\\Python37\\site-packages\\tensorflow\\python\\framework\\dtypes.py:519: FutureWarning: Passing (type, 1) or '1type' as a synonym of type is deprecated; in a future version of numpy, it will be understood as (type, (1,)) / '(1,)type'.\n",
      "  _np_quint16 = np.dtype([(\"quint16\", np.uint16, 1)])\n",
      "C:\\Users\\mokky\\AppData\\Roaming\\Python\\Python37\\site-packages\\tensorflow\\python\\framework\\dtypes.py:520: FutureWarning: Passing (type, 1) or '1type' as a synonym of type is deprecated; in a future version of numpy, it will be understood as (type, (1,)) / '(1,)type'.\n",
      "  _np_qint32 = np.dtype([(\"qint32\", np.int32, 1)])\n",
      "C:\\Users\\mokky\\AppData\\Roaming\\Python\\Python37\\site-packages\\tensorflow\\python\\framework\\dtypes.py:525: FutureWarning: Passing (type, 1) or '1type' as a synonym of type is deprecated; in a future version of numpy, it will be understood as (type, (1,)) / '(1,)type'.\n",
      "  np_resource = np.dtype([(\"resource\", np.ubyte, 1)])\n",
      "C:\\Users\\mokky\\AppData\\Roaming\\Python\\Python37\\site-packages\\tensorboard\\compat\\tensorflow_stub\\dtypes.py:541: FutureWarning: Passing (type, 1) or '1type' as a synonym of type is deprecated; in a future version of numpy, it will be understood as (type, (1,)) / '(1,)type'.\n",
      "  _np_qint8 = np.dtype([(\"qint8\", np.int8, 1)])\n",
      "C:\\Users\\mokky\\AppData\\Roaming\\Python\\Python37\\site-packages\\tensorboard\\compat\\tensorflow_stub\\dtypes.py:542: FutureWarning: Passing (type, 1) or '1type' as a synonym of type is deprecated; in a future version of numpy, it will be understood as (type, (1,)) / '(1,)type'.\n",
      "  _np_quint8 = np.dtype([(\"quint8\", np.uint8, 1)])\n",
      "C:\\Users\\mokky\\AppData\\Roaming\\Python\\Python37\\site-packages\\tensorboard\\compat\\tensorflow_stub\\dtypes.py:543: FutureWarning: Passing (type, 1) or '1type' as a synonym of type is deprecated; in a future version of numpy, it will be understood as (type, (1,)) / '(1,)type'.\n",
      "  _np_qint16 = np.dtype([(\"qint16\", np.int16, 1)])\n",
      "C:\\Users\\mokky\\AppData\\Roaming\\Python\\Python37\\site-packages\\tensorboard\\compat\\tensorflow_stub\\dtypes.py:544: FutureWarning: Passing (type, 1) or '1type' as a synonym of type is deprecated; in a future version of numpy, it will be understood as (type, (1,)) / '(1,)type'.\n",
      "  _np_quint16 = np.dtype([(\"quint16\", np.uint16, 1)])\n",
      "C:\\Users\\mokky\\AppData\\Roaming\\Python\\Python37\\site-packages\\tensorboard\\compat\\tensorflow_stub\\dtypes.py:545: FutureWarning: Passing (type, 1) or '1type' as a synonym of type is deprecated; in a future version of numpy, it will be understood as (type, (1,)) / '(1,)type'.\n",
      "  _np_qint32 = np.dtype([(\"qint32\", np.int32, 1)])\n",
      "C:\\Users\\mokky\\AppData\\Roaming\\Python\\Python37\\site-packages\\tensorboard\\compat\\tensorflow_stub\\dtypes.py:550: FutureWarning: Passing (type, 1) or '1type' as a synonym of type is deprecated; in a future version of numpy, it will be understood as (type, (1,)) / '(1,)type'.\n",
      "  np_resource = np.dtype([(\"resource\", np.ubyte, 1)])\n"
     ]
    }
   ],
   "source": [
    "import pandas as pd\n",
    "import numpy as np\n",
    "import seaborn as sns\n",
    "import matplotlib.pyplot as plt\n",
    "from xgboost import XGBRegressor\n",
    "from tensorflow.keras.callbacks import ModelCheckpoint\n",
    "from tensorflow.keras.models import Sequential\n",
    "from tensorflow.keras.layers import Dense, Activation, Flatten\n",
    "from sklearn.model_selection import train_test_split\n",
    "from sklearn.ensemble import RandomForestRegressor\n",
    "from sklearn.metrics import mean_absolute_error \n",
    "from sklearn.metrics import mean_squared_error\n",
    "import pickle\n",
    "import sys"
   ]
  },
  {
   "cell_type": "code",
   "execution_count": 2,
   "metadata": {},
   "outputs": [],
   "source": [
    "# Function to show various error measurement\n",
    "def forecast_accuracy(forecast, actual):\n",
    "    mape = np.mean(np.abs(forecast - actual)/np.abs(actual))  # MAPE\n",
    "    me = np.mean(forecast - actual)             # ME\n",
    "    mae = np.mean(np.abs(forecast - actual))    # MAE\n",
    "    mpe = np.mean((forecast - actual)/actual)   # MPE\n",
    "    mse = np.mean((forecast - actual)**2)  # MSE\n",
    "    rmse = np.mean((forecast - actual)**2)**.5  # RMSE\n",
    "    #corr = np.corrcoef(forecast, actual)[0,1]   # corr\n",
    "    #mins = np.amin(np.hstack([forecast[:,None], \n",
    "    #                          actual[:,None]]), axis=1)\n",
    "    #maxs = np.amax(np.hstack([forecast[:,None], \n",
    "    #                          actual[:,None]]), axis=1)\n",
    "    #minmax = 1 - np.mean(mins/maxs)             # minmax\n",
    "    #acf1 = acf(fc-test)[1]                      # ACF1\n",
    "    #return({'mape':mape, 'me':me, 'mae': mae, \n",
    "    #        'mpe': mpe, 'rmse':rmse, 'acf1':acf1, \n",
    "    #        'corr':corr, 'minmax':minmax})\n",
    "    return({'mape':mape, 'me':me, 'mae': mae, \n",
    "            'mpe': mpe, 'mse':mse, 'rmse':rmse})"
   ]
  },
  {
   "cell_type": "code",
   "execution_count": 3,
   "metadata": {},
   "outputs": [
    {
     "name": "stdout",
     "output_type": "stream",
     "text": [
      "d:\\Users\\mokky\\Documents\\GitHub\\nus-iss\\PRS-PM-ISY5002-GROUP5\\SystemCode\n"
     ]
    }
   ],
   "source": [
    "import os\n",
    "os.chdir('d:/Users/mokky/Documents/GitHub/nus-iss/PRS-PM-ISY5002-GROUP5/SystemCode')\n",
    "print(os.getcwd())"
   ]
  },
  {
   "cell_type": "code",
   "execution_count": 4,
   "metadata": {},
   "outputs": [],
   "source": [
    "file_dir = './Data Exploration/data/uc3/'\n",
    "X_train_file_path = 'all_hosp_new_train_X_uc3.pkl'\n",
    "y_train_file_path = 'all_hosp_data_uc3_y_train_uc3.pkl'\n",
    "X_test_file_path = 'all_hosp_new_test_X_uc3.pkl'\n",
    "y_test_file_path = 'all_hosp_data_uc3_y_test_uc3.pkl'"
   ]
  },
  {
   "cell_type": "code",
   "execution_count": 5,
   "metadata": {},
   "outputs": [
    {
     "name": "stdout",
     "output_type": "stream",
     "text": [
      "(46888, 14313) (46888,) (15629, 14313) (15629,)\n"
     ]
    }
   ],
   "source": [
    "df_X_train = pd.read_pickle(file_dir + X_train_file_path)\n",
    "df_y_train = pd.read_pickle(file_dir + y_train_file_path)\n",
    "df_X_test = pd.read_pickle(file_dir + X_test_file_path)\n",
    "df_y_test = pd.read_pickle(file_dir + y_test_file_path)\n",
    "print(df_X_train.shape, df_y_train.shape, df_X_test.shape, df_y_test.shape)"
   ]
  },
  {
   "cell_type": "markdown",
   "metadata": {},
   "source": [
    "Neural Networks ( Sequential )"
   ]
  },
  {
   "cell_type": "code",
   "execution_count": 6,
   "metadata": {},
   "outputs": [],
   "source": [
    "NN_model = Sequential()"
   ]
  },
  {
   "cell_type": "code",
   "execution_count": 7,
   "metadata": {},
   "outputs": [
    {
     "name": "stdout",
     "output_type": "stream",
     "text": [
      "WARNING:tensorflow:From C:\\Users\\mokky\\AppData\\Roaming\\Python\\Python37\\site-packages\\tensorflow\\python\\keras\\initializers.py:143: calling RandomNormal.__init__ (from tensorflow.python.ops.init_ops) with dtype is deprecated and will be removed in a future version.\n",
      "Instructions for updating:\n",
      "Call initializer instance with the dtype argument instead of passing it to the constructor\n"
     ]
    }
   ],
   "source": [
    "NN_model.add(Dense(128, kernel_initializer='normal',input_dim = df_X_train.shape[1], activation='relu'))"
   ]
  },
  {
   "cell_type": "code",
   "execution_count": 8,
   "metadata": {},
   "outputs": [],
   "source": [
    "NN_model.add(Dense(256, kernel_initializer='normal',activation='relu'))\n",
    "NN_model.add(Dense(256, kernel_initializer='normal',activation='relu'))\n",
    "NN_model.add(Dense(256, kernel_initializer='normal',activation='relu'))"
   ]
  },
  {
   "cell_type": "code",
   "execution_count": 9,
   "metadata": {},
   "outputs": [],
   "source": [
    "NN_model.add(Dense(1, kernel_initializer='normal',activation='linear'))"
   ]
  },
  {
   "cell_type": "code",
   "execution_count": 10,
   "metadata": {},
   "outputs": [
    {
     "name": "stdout",
     "output_type": "stream",
     "text": [
      "Model: \"sequential\"\n",
      "_________________________________________________________________\n",
      "Layer (type)                 Output Shape              Param #   \n",
      "=================================================================\n",
      "dense (Dense)                (None, 128)               1832192   \n",
      "_________________________________________________________________\n",
      "dense_1 (Dense)              (None, 256)               33024     \n",
      "_________________________________________________________________\n",
      "dense_2 (Dense)              (None, 256)               65792     \n",
      "_________________________________________________________________\n",
      "dense_3 (Dense)              (None, 256)               65792     \n",
      "_________________________________________________________________\n",
      "dense_4 (Dense)              (None, 1)                 257       \n",
      "=================================================================\n",
      "Total params: 1,997,057\n",
      "Trainable params: 1,997,057\n",
      "Non-trainable params: 0\n",
      "_________________________________________________________________\n"
     ]
    }
   ],
   "source": [
    "NN_model.compile(loss='mean_absolute_error', optimizer='adam', metrics=['mean_absolute_error'])\n",
    "NN_model.summary()"
   ]
  },
  {
   "cell_type": "code",
   "execution_count": 11,
   "metadata": {},
   "outputs": [],
   "source": [
    "checkpoint_name = 'Weights-{epoch:03d}--{val_loss:.5f}.hdf5' \n",
    "checkpoint = ModelCheckpoint(checkpoint_name, monitor='val_loss', verbose = 1, save_best_only = True, mode ='auto')\n",
    "callbacks_list = [checkpoint]"
   ]
  },
  {
   "cell_type": "code",
   "execution_count": 12,
   "metadata": {
    "scrolled": true
   },
   "outputs": [
    {
     "name": "stdout",
     "output_type": "stream",
     "text": [
      "Train on 37510 samples, validate on 9378 samples\n",
      "Epoch 1/100\n",
      "37504/37510 [============================>.] - ETA: 0s - loss: 2512.3896 - mean_absolute_error: 2512.3901- ETA: 2s - \n",
      "Epoch 00001: val_loss improved from inf to 2072.18389, saving model to Weights-001--2072.18389.hdf5\n",
      "37510/37510 [==============================] - 40s 1ms/sample - loss: 2512.1896 - mean_absolute_error: 2512.1899 - val_loss: 2072.1839 - val_mean_absolute_error: 2072.1838\n",
      "Epoch 2/100\n",
      "37472/37510 [============================>.] - ETA: 0s - loss: 1846.6370 - mean_absolute_error: 1846.6385\n",
      "Epoch 00002: val_loss improved from 2072.18389 to 1918.46863, saving model to Weights-002--1918.46863.hdf5\n",
      "37510/37510 [==============================] - 40s 1ms/sample - loss: 1845.6811 - mean_absolute_error: 1845.6827 - val_loss: 1918.4686 - val_mean_absolute_error: 1918.4692\n",
      "Epoch 3/100\n",
      "37472/37510 [============================>.] - ETA: 0s - loss: 1636.2617 - mean_absolute_error: 1636.2622\n",
      "Epoch 00003: val_loss improved from 1918.46863 to 1906.73473, saving model to Weights-003--1906.73473.hdf5\n",
      "37510/37510 [==============================] - 40s 1ms/sample - loss: 1636.8004 - mean_absolute_error: 1636.8009 - val_loss: 1906.7347 - val_mean_absolute_error: 1906.7357\n",
      "Epoch 4/100\n",
      "37504/37510 [============================>.] - ETA: 0s - loss: 1484.9690 - mean_absolute_error: 1484.9688\n",
      "Epoch 00004: val_loss did not improve from 1906.73473\n",
      "37510/37510 [==============================] - 40s 1ms/sample - loss: 1484.8846 - mean_absolute_error: 1484.8844 - val_loss: 1907.1573 - val_mean_absolute_error: 1907.1572\n",
      "Epoch 5/100\n",
      "37504/37510 [============================>.] - ETA: 0s - loss: 1351.8736 - mean_absolute_error: 1351.8734- ETA: 2s - loss: 1359\n",
      "Epoch 00005: val_loss improved from 1906.73473 to 1899.46433, saving model to Weights-005--1899.46433.hdf5\n",
      "37510/37510 [==============================] - 40s 1ms/sample - loss: 1351.8962 - mean_absolute_error: 1351.8960 - val_loss: 1899.4643 - val_mean_absolute_error: 1899.4645\n",
      "Epoch 6/100\n",
      "37472/37510 [============================>.] - ETA: 0s - loss: 1239.9450 - mean_absolute_error: 1239.9435\n",
      "Epoch 00006: val_loss improved from 1899.46433 to 1887.73835, saving model to Weights-006--1887.73835.hdf5\n",
      "37510/37510 [==============================] - 39s 1ms/sample - loss: 1239.9533 - mean_absolute_error: 1239.9519 - val_loss: 1887.7383 - val_mean_absolute_error: 1887.7388\n",
      "Epoch 7/100\n",
      "37504/37510 [============================>.] - ETA: 0s - loss: 1161.2118 - mean_absolute_error: 1161.2114\n",
      "Epoch 00007: val_loss did not improve from 1887.73835\n",
      "37510/37510 [==============================] - 40s 1ms/sample - loss: 1161.1082 - mean_absolute_error: 1161.1079 - val_loss: 1912.7166 - val_mean_absolute_error: 1912.7162\n",
      "Epoch 8/100\n",
      "37504/37510 [============================>.] - ETA: 0s - loss: 1078.5444 - mean_absolute_error: 1078.5448\n",
      "Epoch 00008: val_loss did not improve from 1887.73835\n",
      "37510/37510 [==============================] - 39s 1ms/sample - loss: 1078.5568 - mean_absolute_error: 1078.5571 - val_loss: 1915.6120 - val_mean_absolute_error: 1915.6123\n",
      "Epoch 9/100\n",
      "37504/37510 [============================>.] - ETA: 0s - loss: 1015.8471 - mean_absolute_error: 1015.8474\n",
      "Epoch 00009: val_loss did not improve from 1887.73835\n",
      "37510/37510 [==============================] - 39s 1ms/sample - loss: 1015.7940 - mean_absolute_error: 1015.7943 - val_loss: 1941.8509 - val_mean_absolute_error: 1941.8507\n",
      "Epoch 10/100\n",
      "37504/37510 [============================>.] - ETA: 0s - loss: 958.4444 - mean_absolute_error: 958.4441\n",
      "Epoch 00010: val_loss did not improve from 1887.73835\n",
      "37510/37510 [==============================] - 39s 1ms/sample - loss: 958.4004 - mean_absolute_error: 958.4002 - val_loss: 1888.6057 - val_mean_absolute_error: 1888.6061\n",
      "Epoch 11/100\n",
      "37504/37510 [============================>.] - ETA: 0s - loss: 914.2839 - mean_absolute_error: 914.2831\n",
      "Epoch 00011: val_loss did not improve from 1887.73835\n",
      "37510/37510 [==============================] - 40s 1ms/sample - loss: 914.2896 - mean_absolute_error: 914.2889 - val_loss: 1909.7368 - val_mean_absolute_error: 1909.7362\n",
      "Epoch 12/100\n",
      "37472/37510 [============================>.] - ETA: 0s - loss: 876.6974 - mean_absolute_error: 876.6975\n",
      "Epoch 00012: val_loss did not improve from 1887.73835\n",
      "37510/37510 [==============================] - 40s 1ms/sample - loss: 876.3926 - mean_absolute_error: 876.3928 - val_loss: 1930.2317 - val_mean_absolute_error: 1930.2316\n",
      "Epoch 13/100\n",
      "37504/37510 [============================>.] - ETA: 0s - loss: 829.7692 - mean_absolute_error: 829.7696\n",
      "Epoch 00013: val_loss did not improve from 1887.73835\n",
      "37510/37510 [==============================] - 53s 1ms/sample - loss: 829.7275 - mean_absolute_error: 829.7278 - val_loss: 1926.2015 - val_mean_absolute_error: 1926.2013\n",
      "Epoch 14/100\n",
      "37504/37510 [============================>.] - ETA: 0s - loss: 801.1511 - mean_absolute_error: 801.1516\n",
      "Epoch 00014: val_loss did not improve from 1887.73835\n",
      "37510/37510 [==============================] - 52s 1ms/sample - loss: 801.0866 - mean_absolute_error: 801.0871 - val_loss: 1957.8215 - val_mean_absolute_error: 1957.8207\n",
      "Epoch 15/100\n",
      "37504/37510 [============================>.] - ETA: 0s - loss: 767.1982 - mean_absolute_error: 767.1986\n",
      "Epoch 00015: val_loss did not improve from 1887.73835\n",
      "37510/37510 [==============================] - 53s 1ms/sample - loss: 767.1961 - mean_absolute_error: 767.1964 - val_loss: 1914.4230 - val_mean_absolute_error: 1914.4220\n",
      "Epoch 16/100\n",
      "37504/37510 [============================>.] - ETA: 0s - loss: 736.6778 - mean_absolute_error: 736.6777\n",
      "Epoch 00016: val_loss did not improve from 1887.73835\n",
      "37510/37510 [==============================] - 53s 1ms/sample - loss: 736.5851 - mean_absolute_error: 736.5850 - val_loss: 1913.3037 - val_mean_absolute_error: 1913.3046\n",
      "Epoch 17/100\n",
      "37504/37510 [============================>.] - ETA: 0s - loss: 715.2086 - mean_absolute_error: 715.2079\n",
      "Epoch 00017: val_loss did not improve from 1887.73835\n",
      "37510/37510 [==============================] - 56s 1ms/sample - loss: 715.1578 - mean_absolute_error: 715.1571 - val_loss: 1927.3892 - val_mean_absolute_error: 1927.3899\n",
      "Epoch 18/100\n",
      "37504/37510 [============================>.] - ETA: 0s - loss: 694.4239 - mean_absolute_error: 694.4242\n",
      "Epoch 00018: val_loss did not improve from 1887.73835\n",
      "37510/37510 [==============================] - 52s 1ms/sample - loss: 694.3913 - mean_absolute_error: 694.3916 - val_loss: 1904.4132 - val_mean_absolute_error: 1904.4127\n",
      "Epoch 19/100\n",
      "37472/37510 [============================>.] - ETA: 0s - loss: 675.7825 - mean_absolute_error: 675.7828\n",
      "Epoch 00019: val_loss did not improve from 1887.73835\n",
      "37510/37510 [==============================] - 53s 1ms/sample - loss: 676.2526 - mean_absolute_error: 676.2529 - val_loss: 1933.6252 - val_mean_absolute_error: 1933.6257\n",
      "Epoch 20/100\n",
      "37504/37510 [============================>.] - ETA: 0s - loss: 653.9956 - mean_absolute_error: 653.9951\n",
      "Epoch 00020: val_loss did not improve from 1887.73835\n",
      "37510/37510 [==============================] - 52s 1ms/sample - loss: 653.9591 - mean_absolute_error: 653.9587 - val_loss: 1955.0797 - val_mean_absolute_error: 1955.0800\n",
      "Epoch 21/100\n",
      "37504/37510 [============================>.] - ETA: 0s - loss: 639.9563 - mean_absolute_error: 639.9562\n",
      "Epoch 00021: val_loss did not improve from 1887.73835\n",
      "37510/37510 [==============================] - 42s 1ms/sample - loss: 640.0249 - mean_absolute_error: 640.0247 - val_loss: 1966.9375 - val_mean_absolute_error: 1966.9373\n",
      "Epoch 22/100\n",
      "37504/37510 [============================>.] - ETA: 0s - loss: 626.7829 - mean_absolute_error: 626.7827\n",
      "Epoch 00022: val_loss did not improve from 1887.73835\n",
      "37510/37510 [==============================] - 40s 1ms/sample - loss: 626.7241 - mean_absolute_error: 626.7239 - val_loss: 1974.0012 - val_mean_absolute_error: 1974.0012\n",
      "Epoch 23/100\n",
      "37472/37510 [============================>.] - ETA: 0s - loss: 616.9020 - mean_absolute_error: 616.9020\n",
      "Epoch 00023: val_loss did not improve from 1887.73835\n",
      "37510/37510 [==============================] - 39s 1ms/sample - loss: 616.9322 - mean_absolute_error: 616.9323 - val_loss: 1974.1199 - val_mean_absolute_error: 1974.1196\n"
     ]
    },
    {
     "name": "stdout",
     "output_type": "stream",
     "text": [
      "Epoch 24/100\n",
      "37504/37510 [============================>.] - ETA: 0s - loss: 597.9667 - mean_absolute_error: 597.9667\n",
      "Epoch 00024: val_loss did not improve from 1887.73835\n",
      "37510/37510 [==============================] - 39s 1ms/sample - loss: 597.9780 - mean_absolute_error: 597.9780 - val_loss: 1952.6666 - val_mean_absolute_error: 1952.6671\n",
      "Epoch 25/100\n",
      "37504/37510 [============================>.] - ETA: 0s - loss: 586.2684 - mean_absolute_error: 586.2686\n",
      "Epoch 00025: val_loss did not improve from 1887.73835\n",
      "37510/37510 [==============================] - 40s 1ms/sample - loss: 586.2004 - mean_absolute_error: 586.2006 - val_loss: 1960.7308 - val_mean_absolute_error: 1960.7313\n",
      "Epoch 26/100\n",
      "37504/37510 [============================>.] - ETA: 0s - loss: 571.5359 - mean_absolute_error: 571.5361\n",
      "Epoch 00026: val_loss did not improve from 1887.73835\n",
      "37510/37510 [==============================] - 39s 1ms/sample - loss: 571.5384 - mean_absolute_error: 571.5386 - val_loss: 1950.0536 - val_mean_absolute_error: 1950.0536\n",
      "Epoch 27/100\n",
      "37504/37510 [============================>.] - ETA: 0s - loss: 557.1321 - mean_absolute_error: 557.1320\n",
      "Epoch 00027: val_loss did not improve from 1887.73835\n",
      "37510/37510 [==============================] - 41s 1ms/sample - loss: 557.0790 - mean_absolute_error: 557.0789 - val_loss: 1932.9370 - val_mean_absolute_error: 1932.9373\n",
      "Epoch 28/100\n",
      "37472/37510 [============================>.] - ETA: 0s - loss: 546.4555 - mean_absolute_error: 546.4554\n",
      "Epoch 00028: val_loss did not improve from 1887.73835\n",
      "37510/37510 [==============================] - 40s 1ms/sample - loss: 546.2315 - mean_absolute_error: 546.2314 - val_loss: 1931.9200 - val_mean_absolute_error: 1931.9200\n",
      "Epoch 29/100\n",
      "37440/37510 [============================>.] - ETA: 0s - loss: 539.0279 - mean_absolute_error: 539.0279\n",
      "Epoch 00029: val_loss did not improve from 1887.73835\n",
      "37510/37510 [==============================] - 39s 1ms/sample - loss: 539.4799 - mean_absolute_error: 539.4799 - val_loss: 1927.1016 - val_mean_absolute_error: 1927.1007\n",
      "Epoch 30/100\n",
      "37472/37510 [============================>.] - ETA: 0s - loss: 531.8790 - mean_absolute_error: 531.8790\n",
      "Epoch 00030: val_loss did not improve from 1887.73835\n",
      "37510/37510 [==============================] - 39s 1ms/sample - loss: 531.9870 - mean_absolute_error: 531.9869 - val_loss: 1927.5156 - val_mean_absolute_error: 1927.5155\n",
      "Epoch 31/100\n",
      "37504/37510 [============================>.] - ETA: 0s - loss: 515.7533 - mean_absolute_error: 515.7531\n",
      "Epoch 00031: val_loss did not improve from 1887.73835\n",
      "37510/37510 [==============================] - 39s 1ms/sample - loss: 515.6963 - mean_absolute_error: 515.6960 - val_loss: 1965.9305 - val_mean_absolute_error: 1965.9303\n",
      "Epoch 32/100\n",
      "37472/37510 [============================>.] - ETA: 0s - loss: 514.8153 - mean_absolute_error: 514.8155\n",
      "Epoch 00032: val_loss did not improve from 1887.73835\n",
      "37510/37510 [==============================] - 39s 1ms/sample - loss: 514.8198 - mean_absolute_error: 514.8200 - val_loss: 1920.5507 - val_mean_absolute_error: 1920.5504\n",
      "Epoch 33/100\n",
      "37472/37510 [============================>.] - ETA: 0s - loss: 509.4040 - mean_absolute_error: 509.4037\n",
      "Epoch 00033: val_loss did not improve from 1887.73835\n",
      "37510/37510 [==============================] - 39s 1ms/sample - loss: 509.2377 - mean_absolute_error: 509.2373 - val_loss: 2013.1136 - val_mean_absolute_error: 2013.1136\n",
      "Epoch 34/100\n",
      "37472/37510 [============================>.] - ETA: 0s - loss: 511.9821 - mean_absolute_error: 511.9826\n",
      "Epoch 00034: val_loss did not improve from 1887.73835\n",
      "37510/37510 [==============================] - 38s 1ms/sample - loss: 512.4424 - mean_absolute_error: 512.4430 - val_loss: 1931.3112 - val_mean_absolute_error: 1931.3114\n",
      "Epoch 35/100\n",
      "37472/37510 [============================>.] - ETA: 0s - loss: 495.0231 - mean_absolute_error: 495.0234\n",
      "Epoch 00035: val_loss did not improve from 1887.73835\n",
      "37510/37510 [==============================] - 40s 1ms/sample - loss: 495.1658 - mean_absolute_error: 495.1660 - val_loss: 1930.8040 - val_mean_absolute_error: 1930.8040\n",
      "Epoch 36/100\n",
      "37472/37510 [============================>.] - ETA: 0s - loss: 484.3961 - mean_absolute_error: 484.3958\n",
      "Epoch 00036: val_loss did not improve from 1887.73835\n",
      "37510/37510 [==============================] - 40s 1ms/sample - loss: 484.3058 - mean_absolute_error: 484.3054 - val_loss: 1945.2267 - val_mean_absolute_error: 1945.2272\n",
      "Epoch 37/100\n",
      "37504/37510 [============================>.] - ETA: 0s - loss: 470.1464 - mean_absolute_error: 470.1463\n",
      "Epoch 00037: val_loss did not improve from 1887.73835\n",
      "37510/37510 [==============================] - 39s 1ms/sample - loss: 470.1151 - mean_absolute_error: 470.1150 - val_loss: 1960.1062 - val_mean_absolute_error: 1960.1056\n",
      "Epoch 38/100\n",
      "37504/37510 [============================>.] - ETA: 0s - loss: 465.2455 - mean_absolute_error: 465.2456\n",
      "Epoch 00038: val_loss did not improve from 1887.73835\n",
      "37510/37510 [==============================] - 39s 1ms/sample - loss: 465.2008 - mean_absolute_error: 465.2009 - val_loss: 1966.7776 - val_mean_absolute_error: 1966.7780\n",
      "Epoch 39/100\n",
      "37472/37510 [============================>.] - ETA: 0s - loss: 471.1119 - mean_absolute_error: 471.1121\n",
      "Epoch 00039: val_loss did not improve from 1887.73835\n",
      "37510/37510 [==============================] - 39s 1ms/sample - loss: 470.9510 - mean_absolute_error: 470.9513 - val_loss: 1935.6805 - val_mean_absolute_error: 1935.6805\n",
      "Epoch 40/100\n",
      "37472/37510 [============================>.] - ETA: 0s - loss: 450.3011 - mean_absolute_error: 450.3015- ETA: 1s - loss: 452.301\n",
      "Epoch 00040: val_loss did not improve from 1887.73835\n",
      "37510/37510 [==============================] - 40s 1ms/sample - loss: 450.2815 - mean_absolute_error: 450.2820 - val_loss: 1969.1647 - val_mean_absolute_error: 1969.1647\n",
      "Epoch 41/100\n",
      "37504/37510 [============================>.] - ETA: 0s - loss: 445.6513 - mean_absolute_error: 445.6511\n",
      "Epoch 00041: val_loss did not improve from 1887.73835\n",
      "37510/37510 [==============================] - 40s 1ms/sample - loss: 445.6210 - mean_absolute_error: 445.6208 - val_loss: 1916.8557 - val_mean_absolute_error: 1916.8556\n",
      "Epoch 42/100\n",
      "37472/37510 [============================>.] - ETA: 0s - loss: 443.4891 - mean_absolute_error: 443.4893\n",
      "Epoch 00042: val_loss did not improve from 1887.73835\n",
      "37510/37510 [==============================] - 39s 1ms/sample - loss: 443.7858 - mean_absolute_error: 443.7860 - val_loss: 1970.1802 - val_mean_absolute_error: 1970.1813\n",
      "Epoch 43/100\n",
      "37472/37510 [============================>.] - ETA: 0s - loss: 441.2140 - mean_absolute_error: 441.2139\n",
      "Epoch 00043: val_loss did not improve from 1887.73835\n",
      "37510/37510 [==============================] - 40s 1ms/sample - loss: 441.1175 - mean_absolute_error: 441.1174 - val_loss: 1971.2666 - val_mean_absolute_error: 1971.2670\n",
      "Epoch 44/100\n",
      "37504/37510 [============================>.] - ETA: 0s - loss: 434.7946 - mean_absolute_error: 434.7945\n",
      "Epoch 00044: val_loss did not improve from 1887.73835\n",
      "37510/37510 [==============================] - 40s 1ms/sample - loss: 434.7574 - mean_absolute_error: 434.7574 - val_loss: 1936.5210 - val_mean_absolute_error: 1936.5208\n",
      "Epoch 45/100\n",
      "37504/37510 [============================>.] - ETA: 0s - loss: 428.8298 - mean_absolute_error: 428.8299\n",
      "Epoch 00045: val_loss did not improve from 1887.73835\n",
      "37510/37510 [==============================] - 40s 1ms/sample - loss: 428.8041 - mean_absolute_error: 428.8042 - val_loss: 1927.2400 - val_mean_absolute_error: 1927.2397\n",
      "Epoch 46/100\n",
      "37504/37510 [============================>.] - ETA: 0s - loss: 419.0198 - mean_absolute_error: 419.0198\n",
      "Epoch 00046: val_loss did not improve from 1887.73835\n",
      "37510/37510 [==============================] - 40s 1ms/sample - loss: 419.0451 - mean_absolute_error: 419.0452 - val_loss: 1915.7480 - val_mean_absolute_error: 1915.7485\n",
      "Epoch 47/100\n",
      "37472/37510 [============================>.] - ETA: 0s - loss: 410.6660 - mean_absolute_error: 410.6661\n",
      "Epoch 00047: val_loss did not improve from 1887.73835\n",
      "37510/37510 [==============================] - 39s 1ms/sample - loss: 410.4599 - mean_absolute_error: 410.4601 - val_loss: 1919.9760 - val_mean_absolute_error: 1919.9757\n"
     ]
    },
    {
     "name": "stdout",
     "output_type": "stream",
     "text": [
      "Epoch 48/100\n",
      "37504/37510 [============================>.] - ETA: 0s - loss: 409.7025 - mean_absolute_error: 409.7026\n",
      "Epoch 00048: val_loss did not improve from 1887.73835\n",
      "37510/37510 [==============================] - 38s 1ms/sample - loss: 409.7570 - mean_absolute_error: 409.7570 - val_loss: 1930.0853 - val_mean_absolute_error: 1930.0856\n",
      "Epoch 49/100\n",
      "37504/37510 [============================>.] - ETA: 0s - loss: 409.6158 - mean_absolute_error: 409.6158\n",
      "Epoch 00049: val_loss did not improve from 1887.73835\n",
      "37510/37510 [==============================] - 38s 1ms/sample - loss: 409.6170 - mean_absolute_error: 409.6170 - val_loss: 1949.7248 - val_mean_absolute_error: 1949.7247\n",
      "Epoch 50/100\n",
      "37504/37510 [============================>.] - ETA: 0s - loss: 398.9412 - mean_absolute_error: 398.9412\n",
      "Epoch 00050: val_loss did not improve from 1887.73835\n",
      "37510/37510 [==============================] - 38s 1ms/sample - loss: 398.9156 - mean_absolute_error: 398.9156 - val_loss: 1941.4515 - val_mean_absolute_error: 1941.4517\n",
      "Epoch 51/100\n",
      "37472/37510 [============================>.] - ETA: 0s - loss: 397.7065 - mean_absolute_error: 397.7070- ETA: 2s\n",
      "Epoch 00051: val_loss did not improve from 1887.73835\n",
      "37510/37510 [==============================] - 37s 998us/sample - loss: 397.6968 - mean_absolute_error: 397.6974 - val_loss: 1966.2101 - val_mean_absolute_error: 1966.2103\n",
      "Epoch 52/100\n",
      "37472/37510 [============================>.] - ETA: 0s - loss: 392.8778 - mean_absolute_error: 392.8777\n",
      "Epoch 00052: val_loss did not improve from 1887.73835\n",
      "37510/37510 [==============================] - 38s 1ms/sample - loss: 392.9124 - mean_absolute_error: 392.9122 - val_loss: 1937.8020 - val_mean_absolute_error: 1937.8016\n",
      "Epoch 53/100\n",
      "37504/37510 [============================>.] - ETA: 0s - loss: 383.5718 - mean_absolute_error: 383.5721\n",
      "Epoch 00053: val_loss did not improve from 1887.73835\n",
      "37510/37510 [==============================] - 38s 1ms/sample - loss: 383.5490 - mean_absolute_error: 383.5492 - val_loss: 1943.5468 - val_mean_absolute_error: 1943.5483\n",
      "Epoch 54/100\n",
      "37504/37510 [============================>.] - ETA: 0s - loss: 376.1613 - mean_absolute_error: 376.1614\n",
      "Epoch 00054: val_loss did not improve from 1887.73835\n",
      "37510/37510 [==============================] - 38s 1ms/sample - loss: 376.2207 - mean_absolute_error: 376.2207 - val_loss: 2120.0298 - val_mean_absolute_error: 2120.0295\n",
      "Epoch 55/100\n",
      "37472/37510 [============================>.] - ETA: 0s - loss: 392.8585 - mean_absolute_error: 392.8587- ETA: 2s - lo\n",
      "Epoch 00055: val_loss did not improve from 1887.73835\n",
      "37510/37510 [==============================] - 39s 1ms/sample - loss: 392.7577 - mean_absolute_error: 392.7579 - val_loss: 1980.8320 - val_mean_absolute_error: 1980.8319\n",
      "Epoch 56/100\n",
      "37504/37510 [============================>.] - ETA: 0s - loss: 380.4091 - mean_absolute_error: 380.4090\n",
      "Epoch 00056: val_loss did not improve from 1887.73835\n",
      "37510/37510 [==============================] - 40s 1ms/sample - loss: 380.3691 - mean_absolute_error: 380.3690 - val_loss: 1960.3965 - val_mean_absolute_error: 1960.3965\n",
      "Epoch 57/100\n",
      "37440/37510 [============================>.] - ETA: 0s - loss: 369.9821 - mean_absolute_error: 369.9821\n",
      "Epoch 00057: val_loss did not improve from 1887.73835\n",
      "37510/37510 [==============================] - 39s 1ms/sample - loss: 370.3036 - mean_absolute_error: 370.3036 - val_loss: 1919.8152 - val_mean_absolute_error: 1919.8147\n",
      "Epoch 58/100\n",
      "37472/37510 [============================>.] - ETA: 0s - loss: 376.4300 - mean_absolute_error: 376.4302- ETA: 0s - loss: 376.4017 - mean_absolute_error:\n",
      "Epoch 00058: val_loss did not improve from 1887.73835\n",
      "37510/37510 [==============================] - 39s 1ms/sample - loss: 376.3209 - mean_absolute_error: 376.3211 - val_loss: 1938.0245 - val_mean_absolute_error: 1938.0243\n",
      "Epoch 59/100\n",
      "37472/37510 [============================>.] - ETA: 0s - loss: 368.4017 - mean_absolute_error: 368.4014- ETA: 6\n",
      "Epoch 00059: val_loss did not improve from 1887.73835\n",
      "37510/37510 [==============================] - 40s 1ms/sample - loss: 368.4085 - mean_absolute_error: 368.4081 - val_loss: 1962.1597 - val_mean_absolute_error: 1962.1599\n",
      "Epoch 60/100\n",
      "37504/37510 [============================>.] - ETA: 0s - loss: 363.0500 - mean_absolute_error: 363.0498- ETA: 6s \n",
      "Epoch 00060: val_loss did not improve from 1887.73835\n",
      "37510/37510 [==============================] - 40s 1ms/sample - loss: 363.0398 - mean_absolute_error: 363.0396 - val_loss: 2010.0305 - val_mean_absolute_error: 2010.0309\n",
      "Epoch 61/100\n",
      "37472/37510 [============================>.] - ETA: 0s - loss: 359.2842 - mean_absolute_error: 359.2842\n",
      "Epoch 00061: val_loss did not improve from 1887.73835\n",
      "37510/37510 [==============================] - 38s 1ms/sample - loss: 359.2936 - mean_absolute_error: 359.2935 - val_loss: 1941.6970 - val_mean_absolute_error: 1941.6969\n",
      "Epoch 62/100\n",
      "37504/37510 [============================>.] - ETA: 0s - loss: 357.5603 - mean_absolute_error: 357.5603\n",
      "Epoch 00062: val_loss did not improve from 1887.73835\n",
      "37510/37510 [==============================] - 38s 1ms/sample - loss: 357.5370 - mean_absolute_error: 357.5370 - val_loss: 1934.6550 - val_mean_absolute_error: 1934.6554\n",
      "Epoch 63/100\n",
      "37504/37510 [============================>.] - ETA: 0s - loss: 355.7302 - mean_absolute_error: 355.7304\n",
      "Epoch 00063: val_loss did not improve from 1887.73835\n",
      "37510/37510 [==============================] - 38s 1ms/sample - loss: 355.7043 - mean_absolute_error: 355.7045 - val_loss: 1977.9791 - val_mean_absolute_error: 1977.9791\n",
      "Epoch 64/100\n",
      "37472/37510 [============================>.] - ETA: 0s - loss: 349.0087 - mean_absolute_error: 349.0090\n",
      "Epoch 00064: val_loss did not improve from 1887.73835\n",
      "37510/37510 [==============================] - 38s 1ms/sample - loss: 348.9985 - mean_absolute_error: 348.9988 - val_loss: 1951.2170 - val_mean_absolute_error: 1951.2175\n",
      "Epoch 65/100\n",
      "37472/37510 [============================>.] - ETA: 0s - loss: 347.5392 - mean_absolute_error: 347.5392\n",
      "Epoch 00065: val_loss did not improve from 1887.73835\n",
      "37510/37510 [==============================] - 38s 1ms/sample - loss: 347.5414 - mean_absolute_error: 347.5415 - val_loss: 1931.0996 - val_mean_absolute_error: 1931.1002\n",
      "Epoch 66/100\n",
      "37504/37510 [============================>.] - ETA: 0s - loss: 346.5281 - mean_absolute_error: 346.5282\n",
      "Epoch 00066: val_loss did not improve from 1887.73835\n",
      "37510/37510 [==============================] - 38s 1ms/sample - loss: 346.5232 - mean_absolute_error: 346.5232 - val_loss: 1945.5253 - val_mean_absolute_error: 1945.5258\n",
      "Epoch 67/100\n",
      "37504/37510 [============================>.] - ETA: 0s - loss: 348.4772 - mean_absolute_error: 348.4768\n",
      "Epoch 00067: val_loss did not improve from 1887.73835\n",
      "37510/37510 [==============================] - 38s 1ms/sample - loss: 348.4355 - mean_absolute_error: 348.4351 - val_loss: 1974.9526 - val_mean_absolute_error: 1974.9524\n",
      "Epoch 68/100\n",
      "37504/37510 [============================>.] - ETA: 0s - loss: 333.7871 - mean_absolute_error: 333.7869\n",
      "Epoch 00068: val_loss did not improve from 1887.73835\n",
      "37510/37510 [==============================] - 38s 1ms/sample - loss: 333.8596 - mean_absolute_error: 333.8594 - val_loss: 1935.2498 - val_mean_absolute_error: 1935.2495\n",
      "Epoch 69/100\n",
      "37472/37510 [============================>.] - ETA: 0s - loss: 337.5615 - mean_absolute_error: 337.5614\n",
      "Epoch 00069: val_loss did not improve from 1887.73835\n",
      "37510/37510 [==============================] - 38s 1ms/sample - loss: 337.6844 - mean_absolute_error: 337.6844 - val_loss: 2061.5536 - val_mean_absolute_error: 2061.5532\n",
      "Epoch 70/100\n",
      "37472/37510 [============================>.] - ETA: 0s - loss: 338.9401 - mean_absolute_error: 338.9398\n",
      "Epoch 00070: val_loss did not improve from 1887.73835\n",
      "37510/37510 [==============================] - 38s 1ms/sample - loss: 339.1243 - mean_absolute_error: 339.1241 - val_loss: 1958.8309 - val_mean_absolute_error: 1958.8313\n",
      "Epoch 71/100\n",
      "37504/37510 [============================>.] - ETA: 0s - loss: 328.0545 - mean_absolute_error: 328.0547\n",
      "Epoch 00071: val_loss did not improve from 1887.73835\n",
      "37510/37510 [==============================] - 38s 1ms/sample - loss: 328.1177 - mean_absolute_error: 328.1179 - val_loss: 1958.2579 - val_mean_absolute_error: 1958.2587\n"
     ]
    },
    {
     "name": "stdout",
     "output_type": "stream",
     "text": [
      "Epoch 72/100\n",
      "37472/37510 [============================>.] - ETA: 0s - loss: 335.3883 - mean_absolute_error: 335.3885\n",
      "Epoch 00072: val_loss did not improve from 1887.73835\n",
      "37510/37510 [==============================] - 38s 1ms/sample - loss: 335.4336 - mean_absolute_error: 335.4337 - val_loss: 1943.0884 - val_mean_absolute_error: 1943.0879\n",
      "Epoch 73/100\n",
      "37472/37510 [============================>.] - ETA: 0s - loss: 327.7619 - mean_absolute_error: 327.7622\n",
      "Epoch 00073: val_loss did not improve from 1887.73835\n",
      "37510/37510 [==============================] - 38s 1ms/sample - loss: 327.7230 - mean_absolute_error: 327.7233 - val_loss: 1964.7242 - val_mean_absolute_error: 1964.7242\n",
      "Epoch 74/100\n",
      "37504/37510 [============================>.] - ETA: 0s - loss: 328.4487 - mean_absolute_error: 328.4489\n",
      "Epoch 00074: val_loss did not improve from 1887.73835\n",
      "37510/37510 [==============================] - 38s 1ms/sample - loss: 328.4257 - mean_absolute_error: 328.4259 - val_loss: 1947.7419 - val_mean_absolute_error: 1947.7422\n",
      "Epoch 75/100\n",
      "37504/37510 [============================>.] - ETA: 0s - loss: 321.7430 - mean_absolute_error: 321.7431\n",
      "Epoch 00075: val_loss did not improve from 1887.73835\n",
      "37510/37510 [==============================] - 37s 994us/sample - loss: 321.7088 - mean_absolute_error: 321.7089 - val_loss: 1929.1745 - val_mean_absolute_error: 1929.1749\n",
      "Epoch 76/100\n",
      "37472/37510 [============================>.] - ETA: 0s - loss: 324.0524 - mean_absolute_error: 324.0526\n",
      "Epoch 00076: val_loss did not improve from 1887.73835\n",
      "37510/37510 [==============================] - 38s 1ms/sample - loss: 323.9977 - mean_absolute_error: 323.9979 - val_loss: 1964.4749 - val_mean_absolute_error: 1964.4739\n",
      "Epoch 77/100\n",
      "37472/37510 [============================>.] - ETA: 0s - loss: 316.6281 - mean_absolute_error: 316.6281- ETA: 1s - loss: 317.0535\n",
      "Epoch 00077: val_loss did not improve from 1887.73835\n",
      "37510/37510 [==============================] - 40s 1ms/sample - loss: 316.5085 - mean_absolute_error: 316.5085 - val_loss: 1953.3416 - val_mean_absolute_error: 1953.3419\n",
      "Epoch 78/100\n",
      "37504/37510 [============================>.] - ETA: 0s - loss: 316.2097 - mean_absolute_error: 316.2097\n",
      "Epoch 00078: val_loss did not improve from 1887.73835\n",
      "37510/37510 [==============================] - 40s 1ms/sample - loss: 316.2007 - mean_absolute_error: 316.2007 - val_loss: 1950.5408 - val_mean_absolute_error: 1950.5410\n",
      "Epoch 79/100\n",
      "37504/37510 [============================>.] - ETA: 0s - loss: 315.8770 - mean_absolute_error: 315.8772\n",
      "Epoch 00079: val_loss did not improve from 1887.73835\n",
      "37510/37510 [==============================] - 40s 1ms/sample - loss: 315.8552 - mean_absolute_error: 315.8554 - val_loss: 1967.5446 - val_mean_absolute_error: 1967.5452\n",
      "Epoch 80/100\n",
      "37472/37510 [============================>.] - ETA: 0s - loss: 311.6326 - mean_absolute_error: 311.6327\n",
      "Epoch 00080: val_loss did not improve from 1887.73835\n",
      "37510/37510 [==============================] - 40s 1ms/sample - loss: 311.4982 - mean_absolute_error: 311.4984 - val_loss: 1931.2986 - val_mean_absolute_error: 1931.2983\n",
      "Epoch 81/100\n",
      "37504/37510 [============================>.] - ETA: 0s - loss: 304.4394 - mean_absolute_error: 304.4395\n",
      "Epoch 00081: val_loss did not improve from 1887.73835\n",
      "37510/37510 [==============================] - 39s 1ms/sample - loss: 304.4101 - mean_absolute_error: 304.4101 - val_loss: 2116.0550 - val_mean_absolute_error: 2116.0562\n",
      "Epoch 82/100\n",
      "37504/37510 [============================>.] - ETA: 0s - loss: 323.9633 - mean_absolute_error: 323.9633\n",
      "Epoch 00082: val_loss did not improve from 1887.73835\n",
      "37510/37510 [==============================] - 39s 1ms/sample - loss: 323.9312 - mean_absolute_error: 323.9312 - val_loss: 1948.2208 - val_mean_absolute_error: 1948.2216\n",
      "Epoch 83/100\n",
      "37504/37510 [============================>.] - ETA: 0s - loss: 306.5960 - mean_absolute_error: 306.5959\n",
      "Epoch 00083: val_loss did not improve from 1887.73835\n",
      "37510/37510 [==============================] - 39s 1ms/sample - loss: 306.5912 - mean_absolute_error: 306.5910 - val_loss: 1938.7474 - val_mean_absolute_error: 1938.7473\n",
      "Epoch 84/100\n",
      "37472/37510 [============================>.] - ETA: 0s - loss: 300.0438 - mean_absolute_error: 300.0442\n",
      "Epoch 00084: val_loss did not improve from 1887.73835\n",
      "37510/37510 [==============================] - 39s 1ms/sample - loss: 300.0727 - mean_absolute_error: 300.0731 - val_loss: 1961.5674 - val_mean_absolute_error: 1961.5673\n",
      "Epoch 85/100\n",
      "37504/37510 [============================>.] - ETA: 0s - loss: 304.4652 - mean_absolute_error: 304.4653\n",
      "Epoch 00085: val_loss did not improve from 1887.73835\n",
      "37510/37510 [==============================] - 39s 1ms/sample - loss: 304.4462 - mean_absolute_error: 304.4462 - val_loss: 1916.0505 - val_mean_absolute_error: 1916.0511\n",
      "Epoch 86/100\n",
      "37504/37510 [============================>.] - ETA: 0s - loss: 312.8185 - mean_absolute_error: 312.8184\n",
      "Epoch 00086: val_loss did not improve from 1887.73835\n",
      "37510/37510 [==============================] - 40s 1ms/sample - loss: 312.8018 - mean_absolute_error: 312.8016 - val_loss: 1945.7303 - val_mean_absolute_error: 1945.7305\n",
      "Epoch 87/100\n",
      "37504/37510 [============================>.] - ETA: 0s - loss: 296.8389 - mean_absolute_error: 296.8388\n",
      "Epoch 00087: val_loss did not improve from 1887.73835\n",
      "37510/37510 [==============================] - 40s 1ms/sample - loss: 296.8108 - mean_absolute_error: 296.8108 - val_loss: 1938.5558 - val_mean_absolute_error: 1938.5552\n",
      "Epoch 88/100\n",
      "37472/37510 [============================>.] - ETA: 0s - loss: 299.7397 - mean_absolute_error: 299.7397\n",
      "Epoch 00088: val_loss did not improve from 1887.73835\n",
      "37510/37510 [==============================] - 39s 1ms/sample - loss: 299.7789 - mean_absolute_error: 299.7788 - val_loss: 1934.5127 - val_mean_absolute_error: 1934.5125\n",
      "Epoch 89/100\n",
      "37472/37510 [============================>.] - ETA: 0s - loss: 298.2015 - mean_absolute_error: 298.2014\n",
      "Epoch 00089: val_loss did not improve from 1887.73835\n",
      "37510/37510 [==============================] - 39s 1ms/sample - loss: 298.1933 - mean_absolute_error: 298.1931 - val_loss: 1932.6630 - val_mean_absolute_error: 1932.6637\n",
      "Epoch 90/100\n",
      "37472/37510 [============================>.] - ETA: 0s - loss: 291.3524 - mean_absolute_error: 291.3524\n",
      "Epoch 00090: val_loss did not improve from 1887.73835\n",
      "37510/37510 [==============================] - 40s 1ms/sample - loss: 291.2777 - mean_absolute_error: 291.2777 - val_loss: 1949.6709 - val_mean_absolute_error: 1949.6711\n",
      "Epoch 91/100\n",
      "37472/37510 [============================>.] - ETA: 0s - loss: 290.3037 - mean_absolute_error: 290.3036\n",
      "Epoch 00091: val_loss did not improve from 1887.73835\n",
      "37510/37510 [==============================] - 39s 1ms/sample - loss: 290.1895 - mean_absolute_error: 290.1894 - val_loss: 1969.5927 - val_mean_absolute_error: 1969.5920\n",
      "Epoch 92/100\n",
      "37504/37510 [============================>.] - ETA: 0s - loss: 290.7865 - mean_absolute_error: 290.7863\n",
      "Epoch 00092: val_loss did not improve from 1887.73835\n",
      "37510/37510 [==============================] - 40s 1ms/sample - loss: 290.7526 - mean_absolute_error: 290.7523 - val_loss: 1936.2116 - val_mean_absolute_error: 1936.2118\n",
      "Epoch 93/100\n",
      "37472/37510 [============================>.] - ETA: 0s - loss: 294.7714 - mean_absolute_error: 294.7712- ETA: 2s - loss\n",
      "Epoch 00093: val_loss did not improve from 1887.73835\n",
      "37510/37510 [==============================] - 40s 1ms/sample - loss: 294.7481 - mean_absolute_error: 294.7480 - val_loss: 1938.4668 - val_mean_absolute_error: 1938.4673\n",
      "Epoch 94/100\n",
      "37504/37510 [============================>.] - ETA: 0s - loss: 288.5993 - mean_absolute_error: 288.5990\n",
      "Epoch 00094: val_loss did not improve from 1887.73835\n",
      "37510/37510 [==============================] - 40s 1ms/sample - loss: 288.5860 - mean_absolute_error: 288.5857 - val_loss: 1947.3790 - val_mean_absolute_error: 1947.3792\n",
      "Epoch 95/100\n",
      "37504/37510 [============================>.] - ETA: 0s - loss: 284.2401 - mean_absolute_error: 284.2403\n",
      "Epoch 00095: val_loss did not improve from 1887.73835\n",
      "37510/37510 [==============================] - 40s 1ms/sample - loss: 284.2264 - mean_absolute_error: 284.2266 - val_loss: 1956.9871 - val_mean_absolute_error: 1956.9869\n"
     ]
    },
    {
     "name": "stdout",
     "output_type": "stream",
     "text": [
      "Epoch 96/100\n",
      "37472/37510 [============================>.] - ETA: 0s - loss: 287.4210 - mean_absolute_error: 287.4210\n",
      "Epoch 00096: val_loss did not improve from 1887.73835\n",
      "37510/37510 [==============================] - 39s 1ms/sample - loss: 287.6692 - mean_absolute_error: 287.6693 - val_loss: 1947.0859 - val_mean_absolute_error: 1947.0853\n",
      "Epoch 97/100\n",
      "37504/37510 [============================>.] - ETA: 0s - loss: 282.3196 - mean_absolute_error: 282.3194\n",
      "Epoch 00097: val_loss did not improve from 1887.73835\n",
      "37510/37510 [==============================] - 40s 1ms/sample - loss: 282.3228 - mean_absolute_error: 282.3226 - val_loss: 1958.4327 - val_mean_absolute_error: 1958.4325\n",
      "Epoch 98/100\n",
      "37472/37510 [============================>.] - ETA: 0s - loss: 280.7048 - mean_absolute_error: 280.7047\n",
      "Epoch 00098: val_loss did not improve from 1887.73835\n",
      "37510/37510 [==============================] - 40s 1ms/sample - loss: 280.7685 - mean_absolute_error: 280.7684 - val_loss: 1963.0847 - val_mean_absolute_error: 1963.0848\n",
      "Epoch 99/100\n",
      "37472/37510 [============================>.] - ETA: 0s - loss: 278.1224 - mean_absolute_error: 278.1224\n",
      "Epoch 00099: val_loss did not improve from 1887.73835\n",
      "37510/37510 [==============================] - 40s 1ms/sample - loss: 278.0262 - mean_absolute_error: 278.0262 - val_loss: 1967.2667 - val_mean_absolute_error: 1967.2681\n",
      "Epoch 100/100\n",
      "37504/37510 [============================>.] - ETA: 0s - loss: 278.2560 - mean_absolute_error: 278.2559- ETA: 0s - loss: 278.3051 - mean_absolute_e\n",
      "Epoch 00100: val_loss did not improve from 1887.73835\n",
      "37510/37510 [==============================] - 41s 1ms/sample - loss: 278.2625 - mean_absolute_error: 278.2625 - val_loss: 1964.3934 - val_mean_absolute_error: 1964.3933\n"
     ]
    }
   ],
   "source": [
    "NN_model.fit(df_X_train, df_y_train, epochs=100, batch_size=32, validation_split = 0.2, callbacks=callbacks_list)\n",
    "\n",
    "# save model to file\n",
    "NN_model.save(file_dir + \"uc3_NN_model.h5\")"
   ]
  },
  {
   "cell_type": "code",
   "execution_count": 13,
   "metadata": {},
   "outputs": [],
   "source": [
    "predictions = NN_model.predict(df_X_test)"
   ]
  },
  {
   "cell_type": "code",
   "execution_count": 14,
   "metadata": {},
   "outputs": [
    {
     "name": "stderr",
     "output_type": "stream",
     "text": [
      "C:\\ProgramData\\Anaconda3\\envs\\prpms\\lib\\site-packages\\seaborn\\_decorators.py:43: FutureWarning: Pass the following variables as keyword args: x, y. From version 0.12, the only valid positional argument will be `data`, and passing other arguments without an explicit keyword will result in an error or misinterpretation.\n",
      "  FutureWarning\n"
     ]
    },
    {
     "data": {
      "text/plain": [
       "<matplotlib.axes._subplots.AxesSubplot at 0x177b9386d48>"
      ]
     },
     "execution_count": 14,
     "metadata": {},
     "output_type": "execute_result"
    },
    {
     "data": {
      "image/png": "[encoded data removed]",
      "text/plain": [
       "<Figure size 432x288 with 1 Axes>"
      ]
     },
     "metadata": {
      "needs_background": "light"
     },
     "output_type": "display_data"
    }
   ],
   "source": [
    "sns.regplot(df_y_test,predictions)"
   ]
  },
  {
   "cell_type": "code",
   "execution_count": 15,
   "metadata": {},
   "outputs": [
    {
     "name": "stdout",
     "output_type": "stream",
     "text": [
      "Mean squared error: 43082926.64\n",
      "Root Mean squared error: 6563.76\n",
      "Mean absolute error: 1932.66\n"
     ]
    }
   ],
   "source": [
    "# MSE\n",
    "print('Mean squared error: %.2f'\n",
    "      % mean_squared_error(df_y_test,predictions, squared=True))\n",
    "\n",
    "# RMSE\n",
    "print('Root Mean squared error: %.2f'\n",
    "      % mean_squared_error(df_y_test,predictions, squared=False))\n",
    "\n",
    "# MAE\n",
    "print('Mean absolute error: %.2f'\n",
    "      % mean_absolute_error(df_y_test,predictions))"
   ]
  },
  {
   "cell_type": "code",
   "execution_count": 17,
   "metadata": {},
   "outputs": [
    {
     "data": {
      "text/plain": [
       "{'mape': 2.028495115732672,\n",
       " 'me': -84.92661739301715,\n",
       " 'mae': 6926.644246656469,\n",
       " 'mpe': 1.4923061310775672,\n",
       " 'mse': 281140626.6448241,\n",
       " 'rmse': 16767.248630733193}"
      ]
     },
     "execution_count": 17,
     "metadata": {},
     "output_type": "execute_result"
    }
   ],
   "source": [
    "forecast_accuracy(predictions.reshape((-1,)), df_y_test.values)"
   ]
  },
  {
   "cell_type": "code",
   "execution_count": null,
   "metadata": {},
   "outputs": [],
   "source": []
  }
 ],
 "metadata": {
  "kernelspec": {
   "display_name": "Python 3",
   "language": "python",
   "name": "python3"
  },
  "language_info": {
   "codemirror_mode": {
    "name": "ipython",
    "version": 3
   },
   "file_extension": ".py",
   "mimetype": "text/x-python",
   "name": "python",
   "nbconvert_exporter": "python",
   "pygments_lexer": "ipython3",
   "version": "3.7.8"
  }
 },
 "nbformat": 4,
 "nbformat_minor": 4
}
